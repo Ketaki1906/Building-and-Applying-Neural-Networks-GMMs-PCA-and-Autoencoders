{
 "cells": [
  {
   "cell_type": "markdown",
   "metadata": {},
   "source": [
    "## 2.2 MLP Regressor for Price Prediction in Bangalore"
   ]
  },
  {
   "cell_type": "markdown",
   "metadata": {},
   "source": [
    "### Data Preprocessing"
   ]
  },
  {
   "cell_type": "code",
   "execution_count": 2,
   "metadata": {},
   "outputs": [],
   "source": [
    "import pandas as pd\n",
    "import numpy as np\n",
    "import matplotlib.pyplot as plt\n",
    "import seaborn as sns\n",
    "from sklearn.model_selection import train_test_split\n",
    "from sklearn.preprocessing import StandardScaler\n",
    "import os\n",
    "from sklearn.preprocessing import OneHotEncoder\n",
    "from tqdm import tqdm\n",
    "import wandb\n",
    "from sklearn.metrics import r2_score"
   ]
  },
  {
   "cell_type": "code",
   "execution_count": 3,
   "metadata": {},
   "outputs": [
    {
     "name": "stdout",
     "output_type": "stream",
     "text": [
      "              area_type   availability                  location       size  \\\n",
      "0  Super built-up  Area         19-Dec  Electronic City Phase II      2 BHK   \n",
      "1            Plot  Area  Ready To Move          Chikka Tirupathi  4 Bedroom   \n",
      "2        Built-up  Area  Ready To Move               Uttarahalli      3 BHK   \n",
      "3  Super built-up  Area  Ready To Move        Lingadheeranahalli      3 BHK   \n",
      "4  Super built-up  Area  Ready To Move                  Kothanur      2 BHK   \n",
      "\n",
      "   society total_sqft  bath  balcony   price  \n",
      "0  Coomee        1056   2.0      1.0   39.07  \n",
      "1  Theanmp       2600   5.0      3.0  120.00  \n",
      "2      NaN       1440   2.0      3.0   62.00  \n",
      "3  Soiewre       1521   3.0      1.0   95.00  \n",
      "4      NaN       1200   2.0      1.0   51.00  \n"
     ]
    }
   ],
   "source": [
    "file_path = \"Bengaluru_House_Data.csv\"  # Update the file path if needed\n",
    "df = pd.read_csv(file_path)\n",
    "print(df.head())"
   ]
  },
  {
   "cell_type": "code",
   "execution_count": 4,
   "metadata": {},
   "outputs": [
    {
     "name": "stdout",
     "output_type": "stream",
     "text": [
      "area_type          0\n",
      "availability       0\n",
      "location           0\n",
      "size              16\n",
      "society         5502\n",
      "total_sqft         0\n",
      "bath              73\n",
      "balcony          609\n",
      "price              0\n",
      "dtype: int64\n",
      "Empty DataFrame\n",
      "Columns: [area_type, availability, location, size, total_sqft, bath, balcony, price]\n",
      "Index: []\n",
      "area_type       0\n",
      "availability    0\n",
      "location        0\n",
      "size            0\n",
      "total_sqft      0\n",
      "bath            0\n",
      "balcony         0\n",
      "price           0\n",
      "dtype: int64\n"
     ]
    },
    {
     "name": "stderr",
     "output_type": "stream",
     "text": [
      "C:\\Users\\Admin\\AppData\\Local\\Temp\\ipykernel_17092\\1877906524.py:4: FutureWarning: A value is trying to be set on a copy of a DataFrame or Series through chained assignment using an inplace method.\n",
      "The behavior will change in pandas 3.0. This inplace method will never work because the intermediate object on which we are setting values always behaves as a copy.\n",
      "\n",
      "For example, when doing 'df[col].method(value, inplace=True)', try using 'df.method({col: value}, inplace=True)' or df[col] = df[col].method(value) instead, to perform the operation inplace on the original object.\n",
      "\n",
      "\n",
      "  df['bath'].fillna(df['bath'].median(), inplace=True)\n",
      "C:\\Users\\Admin\\AppData\\Local\\Temp\\ipykernel_17092\\1877906524.py:5: FutureWarning: A value is trying to be set on a copy of a DataFrame or Series through chained assignment using an inplace method.\n",
      "The behavior will change in pandas 3.0. This inplace method will never work because the intermediate object on which we are setting values always behaves as a copy.\n",
      "\n",
      "For example, when doing 'df[col].method(value, inplace=True)', try using 'df.method({col: value}, inplace=True)' or df[col] = df[col].method(value) instead, to perform the operation inplace on the original object.\n",
      "\n",
      "\n",
      "  df['balcony'].fillna(df['balcony'].median(), inplace=True)\n",
      "C:\\Users\\Admin\\AppData\\Local\\Temp\\ipykernel_17092\\1877906524.py:8: FutureWarning: A value is trying to be set on a copy of a DataFrame or Series through chained assignment using an inplace method.\n",
      "The behavior will change in pandas 3.0. This inplace method will never work because the intermediate object on which we are setting values always behaves as a copy.\n",
      "\n",
      "For example, when doing 'df[col].method(value, inplace=True)', try using 'df.method({col: value}, inplace=True)' or df[col] = df[col].method(value) instead, to perform the operation inplace on the original object.\n",
      "\n",
      "\n",
      "  df['size'].fillna(df['size'].median(), inplace=True)\n"
     ]
    }
   ],
   "source": [
    "# Handling missing values\n",
    "print(df.isnull().sum())\n",
    "df.drop(columns=['society'], inplace=True) # As most empty values in society which cannot be replaced by something as it is unique for all.\n",
    "df['bath'].fillna(df['bath'].median(), inplace=True)\n",
    "df['balcony'].fillna(df['balcony'].median(), inplace=True)\n",
    "\n",
    "df['size'] = df['size'].str.extract(r'(\\d+)').astype(float)\n",
    "df['size'].fillna(df['size'].median(), inplace=True)\n",
    "print(df[df['location'].isnull()]) # Only 1 value, so the same location as the society is located from other entry (manually)\n",
    "print(df.isnull().sum())"
   ]
  },
  {
   "cell_type": "code",
   "execution_count": 5,
   "metadata": {},
   "outputs": [
    {
     "name": "stdout",
     "output_type": "stream",
     "text": [
      "['19-Dec' 'Ready To Move' '18-May' '18-Feb' '18-Nov' '20-Dec' '17-Oct'\n",
      " '21-Dec' '19-Sep' '20-Sep' '18-Mar' '20-Feb' '18-Apr' '20-Aug' '18-Oct'\n",
      " '19-Mar' '17-Sep' '18-Dec' '17-Aug' '19-Apr' '18-Jun' '22-Dec' '22-Jan'\n",
      " '18-Aug' '19-Jan' '17-Jul' '18-Jul' '21-Jun' '20-May' '19-Aug' '18-Sep'\n",
      " '17-May' '17-Jun' '21-May' '18-Jan' '20-Mar' '17-Dec' '16-Mar' '19-Jun'\n",
      " '22-Jun' '19-Jul' '21-Feb' 'Immediate Possession' '19-May' '17-Nov'\n",
      " '20-Oct' '20-Jun' '19-Feb' '21-Oct' '21-Jan' '17-Mar' '17-Apr' '22-May'\n",
      " '19-Oct' '21-Jul' '21-Nov' '21-Mar' '16-Dec' '22-Mar' '20-Jan' '21-Sep'\n",
      " '21-Aug' '14-Nov' '19-Nov' '15-Nov' '16-Jul' '15-Jun' '17-Feb' '20-Nov'\n",
      " '20-Jul' '16-Sep' '15-Oct' '15-Dec' '16-Oct' '22-Nov' '15-Aug' '17-Jan'\n",
      " '16-Nov' '20-Apr' '16-Jan' '14-Jul']\n",
      "['Not Ready' 'Ready']\n",
      "              area_type availability                  location  size  \\\n",
      "0  Super built-up  Area    Not Ready  Electronic City Phase II   2.0   \n",
      "1            Plot  Area        Ready          Chikka Tirupathi   4.0   \n",
      "2        Built-up  Area        Ready               Uttarahalli   3.0   \n",
      "3  Super built-up  Area        Ready        Lingadheeranahalli   3.0   \n",
      "4  Super built-up  Area        Ready                  Kothanur   2.0   \n",
      "\n",
      "  total_sqft  bath  balcony   price  \n",
      "0       1056   2.0      1.0   39.07  \n",
      "1       2600   5.0      3.0  120.00  \n",
      "2       1440   2.0      3.0   62.00  \n",
      "3       1521   3.0      1.0   95.00  \n",
      "4       1200   2.0      1.0   51.00  \n"
     ]
    }
   ],
   "source": [
    "print(df['availability'].unique())\n",
    "df['availability'] = df['availability'].apply(\n",
    "    lambda x: 'Not Ready' if ('Ready To Move' not in str(x) and 'Immediate Possession' not in str(x)) else 'Ready'\n",
    ")\n",
    "print(df['availability'].unique())\n",
    "print(df.head())"
   ]
  },
  {
   "cell_type": "code",
   "execution_count": 6,
   "metadata": {},
   "outputs": [
    {
     "name": "stdout",
     "output_type": "stream",
     "text": [
      "(13320, 8)\n",
      "               size    total_sqft          bath       balcony         price\n",
      "count  13320.000000  13073.000000  13320.000000  13320.000000  13320.000000\n",
      "mean       2.803979   1554.942029      2.688814      1.603378    112.565627\n",
      "std        1.294214   1238.458773      1.338754      0.803067    148.971674\n",
      "min        1.000000      1.000000      1.000000      0.000000      8.000000\n",
      "25%        2.000000   1100.000000      2.000000      1.000000     50.000000\n",
      "50%        3.000000   1275.000000      2.000000      2.000000     72.000000\n",
      "75%        3.000000   1670.000000      3.000000      2.000000    120.000000\n",
      "max       43.000000  52272.000000     40.000000      3.000000   3600.000000\n"
     ]
    },
    {
     "data": {
      "image/png": "[encoded data removed]",
      "text/plain": [
       "<Figure size 1200x800 with 5 Axes>"
      ]
     },
     "metadata": {},
     "output_type": "display_data"
    },
    {
     "name": "stdout",
     "output_type": "stream",
     "text": [
      "(10708, 8)\n"
     ]
    }
   ],
   "source": [
    "# Removing outliers\n",
    "print(df.shape)\n",
    "df['total_sqft'] = pd.to_numeric(df['total_sqft'], errors='coerce')\n",
    "print(df.describe())\n",
    "\n",
    "features = ['price', 'total_sqft', 'balcony', 'bath', 'size']\n",
    "\n",
    "plt.figure(figsize=(12, 8))\n",
    "\n",
    "for i, feature in enumerate(features, 1):\n",
    "    plt.subplot(3, 2, i)\n",
    "    sns.boxplot(x=df[feature])\n",
    "    plt.title(f'Boxplot of {feature}')\n",
    "\n",
    "plt.tight_layout()\n",
    "plt.show()\n",
    "\n",
    "def remove_outliers(df, column):\n",
    "    Q1 = df[column].quantile(0.25)\n",
    "    Q3 = df[column].quantile(0.75)\n",
    "    IQR = Q3 - Q1\n",
    "    lower_bound = Q1 - 1.5 * IQR\n",
    "    upper_bound = Q3 + 1.5 * IQR\n",
    "\n",
    "    return df[(df[column] >= lower_bound) & (df[column] <= upper_bound)]\n",
    "\n",
    "df_cleaned = df.copy()\n",
    "for col in ['price', 'total_sqft', 'balcony', 'bath', 'size']:\n",
    "    df_cleaned = remove_outliers(df_cleaned, col)\n",
    "print(df_cleaned.shape) "
   ]
  },
  {
   "cell_type": "code",
   "execution_count": 7,
   "metadata": {},
   "outputs": [
    {
     "name": "stdout",
     "output_type": "stream",
     "text": [
      "['Electronic City Phase II' 'Uttarahalli' 'Lingadheeranahalli' ...\n",
      " 'Sarvobhogam Nagar' '12th cross srinivas nagar banshankari 3rd stage'\n",
      " 'Abshot Layout']\n",
      "   size  total_sqft  bath  balcony  price  area_type_Built-up  Area  \\\n",
      "0   2.0      1056.0   2.0      1.0  39.07                     False   \n",
      "2   3.0      1440.0   2.0      3.0  62.00                      True   \n",
      "3   3.0      1521.0   3.0      1.0  95.00                     False   \n",
      "4   2.0      1200.0   2.0      1.0  51.00                     False   \n",
      "5   2.0      1170.0   2.0      1.0  38.00                     False   \n",
      "\n",
      "   area_type_Carpet  Area  area_type_Plot  Area  \\\n",
      "0                   False                 False   \n",
      "2                   False                 False   \n",
      "3                   False                 False   \n",
      "4                   False                 False   \n",
      "5                   False                 False   \n",
      "\n",
      "   area_type_Super built-up  Area  availability_Not Ready  ...  \\\n",
      "0                            True                    True  ...   \n",
      "2                           False                   False  ...   \n",
      "3                            True                   False  ...   \n",
      "4                            True                   False  ...   \n",
      "5                            True                   False  ...   \n",
      "\n",
      "   location_mvj engineering college  location_pavitra paradise  \\\n",
      "0                             False                      False   \n",
      "2                             False                      False   \n",
      "3                             False                      False   \n",
      "4                             False                      False   \n",
      "5                             False                      False   \n",
      "\n",
      "   location_poornaprajna layout  \\\n",
      "0                         False   \n",
      "2                         False   \n",
      "3                         False   \n",
      "4                         False   \n",
      "5                         False   \n",
      "\n",
      "   location_ravindra nagar, T.dasarahalli peenya  location_rr nagar  \\\n",
      "0                                          False              False   \n",
      "2                                          False              False   \n",
      "3                                          False              False   \n",
      "4                                          False              False   \n",
      "5                                          False              False   \n",
      "\n",
      "   location_sankeswari  location_sapthagiri Layout  \\\n",
      "0                False                       False   \n",
      "2                False                       False   \n",
      "3                False                       False   \n",
      "4                False                       False   \n",
      "5                False                       False   \n",
      "\n",
      "   location_singapura paradise  location_tc.palya  location_whitefiled  \n",
      "0                        False              False                False  \n",
      "2                        False              False                False  \n",
      "3                        False              False                False  \n",
      "4                        False              False                False  \n",
      "5                        False              False                False  \n",
      "\n",
      "[5 rows x 1106 columns]\n"
     ]
    }
   ],
   "source": [
    "print(df_cleaned['location'].unique())\n",
    "df_cleaned = pd.get_dummies(df_cleaned, columns=['area_type', 'availability', 'location'])\n",
    "print(df_cleaned.head())"
   ]
  },
  {
   "cell_type": "code",
   "execution_count": 8,
   "metadata": {},
   "outputs": [
    {
     "data": {
      "image/png": "[encoded data removed]",
      "text/plain": [
       "<Figure size 1000x500 with 1 Axes>"
      ]
     },
     "metadata": {},
     "output_type": "display_data"
    }
   ],
   "source": [
    "plt.figure(figsize=(10, 5))\n",
    "\n",
    "sns.histplot(df_cleaned['price'], bins=50, kde=True)\n",
    "\n",
    "plt.title('Distribution of House Prices')\n",
    "plt.xlabel('Price (in lakhs)')\n",
    "plt.ylabel('Frequency')\n",
    "\n",
    "plt.show()"
   ]
  },
  {
   "cell_type": "code",
   "execution_count": null,
   "metadata": {},
   "outputs": [
    {
     "name": "stdout",
     "output_type": "stream",
     "text": [
      "(8566, 1105) (8566,)\n",
      "(1071, 1105) (1071,)\n",
      "(1071, 1105) (1071,)\n"
     ]
    }
   ],
   "source": [
    "# Split into train, validation, and test sets\n",
    "x = df_cleaned.drop(columns=['price'])\n",
    "y = df_cleaned['price']\n",
    "\n",
    "x_train, x_temp, y_train, y_temp = train_test_split(x, y, test_size=0.2, random_state=42)\n",
    "x_val, x_test, y_val, y_test = train_test_split(x_temp, y_temp, test_size=0.5, random_state=42)\n",
    "\n",
    "# Normalize data (Standardization)\n",
    "scaler = StandardScaler()\n",
    "x_train = scaler.fit_transform(x_train)\n",
    "x_val = scaler.transform(x_val)\n",
    "x_test = scaler.transform(x_test)\n",
    "\n",
    "print(x_train.shape,y_train.shape)\n",
    "print(x_val.shape,y_val.shape)\n",
    "print(x_test.shape,y_test.shape)\n",
    "\n",
    "x_train_np, y_train_np = np.array(x_train), np.array(y_train)\n",
    "x_val_np, y_val_np = np.array(x_val), np.array(y_val)\n",
    "x_test_np, y_test_np = np.array(x_test), np.array(y_test)\n",
    "y_train_np=y_train_np.reshape(-1, 1)\n",
    "y_val_np=y_val_np.reshape(-1, 1)\n",
    "y_test_np=y_test_np.reshape(-1, 1)"
   ]
  },
  {
   "cell_type": "code",
   "execution_count": 10,
   "metadata": {},
   "outputs": [],
   "source": [
    "class MLP():\n",
    "    def __init__(self,input_dim,hidden_dim,output_dim,activation):\n",
    "        self.in_hidden_weights=np.random.randn(input_dim, hidden_dim)*np.sqrt(2/input_dim)\n",
    "        self.out_hidden_weights=np.random.randn(hidden_dim,output_dim)*np.sqrt(2/hidden_dim)\n",
    "        self.bias_hidden = np.zeros((1, hidden_dim))\n",
    "        self.bias_output=np.zeros((1,output_dim))\n",
    "        self.activation=activation\n",
    "        \n",
    "    def apply_activation(self,x):\n",
    "        if self.activation=='relu':\n",
    "            activation = np.maximum(0, x)  \n",
    "        elif self.activation=='sigmoid':\n",
    "            activation = 1 / (1 + np.exp(-x))\n",
    "        elif self.activation=='tanh':\n",
    "            activation = np.tanh(x)  \n",
    "            \n",
    "        return activation\n",
    "    \n",
    "    def apply_derivative(self,x):\n",
    "        if self.activation=='relu':\n",
    "            derivative=np.where(x > 0, 1, 0)\n",
    "        elif self.activation=='sigmoid':\n",
    "            activation = 1 / (1 + np.exp(-x))\n",
    "            derivative= activation * (1 - activation)  \n",
    "        elif self.activation=='tanh':\n",
    "            activation = np.tanh(x)  \n",
    "            derivative = 1 - activation ** 2  \n",
    "            \n",
    "        return derivative\n",
    "    \n",
    "    def forward(self,x):\n",
    "        self.hidden_layer_input=np.dot(x,self.in_hidden_weights)+self.bias_hidden\n",
    "        self.hidden_layer_output=self.apply_activation(self.hidden_layer_input)\n",
    "        self.final_input=np.dot(self.hidden_layer_output,self.out_hidden_weights)+self.bias_output\n",
    "        return self.final_input\n",
    "    \n",
    "    def backward_propogation(self,x,y_true,y_pred,learning_rate):\n",
    "        batch_size=x.shape[0]\n",
    "        output_layer_error=(y_pred-y_true)/batch_size\n",
    "        hidden_layer_error=(np.dot(output_layer_error,self.out_hidden_weights.T))*self.apply_derivative(self.hidden_layer_input) # total contribution of each hidden neuron to the overall output error and multiplied by derivative as scales the hidden error based on how much each hidden neuron is \"activated.\"\n",
    "        \n",
    "\n",
    "        self.out_hidden_weights=self.out_hidden_weights-learning_rate*(np.dot(self.hidden_layer_output.T,output_layer_error))\n",
    "        self.bias_output=self.bias_output-learning_rate*(np.sum(output_layer_error,axis=0,keepdims=True))\n",
    "        \n",
    "        self.in_hidden_weights=self.in_hidden_weights-learning_rate*(np.dot(x.T,hidden_layer_error))\n",
    "        self.bias_hidden=self.bias_hidden-learning_rate*(np.sum(hidden_layer_error,axis=0,keepdims=True))\n",
    "\n",
    "    def mse_loss(self,y_true,y_pred):\n",
    "        loss = np.mean((y_pred - y_true)**2)\n",
    "        return loss\n",
    "        \n",
    "    def predict(self, x):\n",
    "        return self.forward(x)\n",
    "    \n",
    "    def rmse(self,mse):\n",
    "        rmse = np.sqrt(mse)\n",
    "        print(f\"Root Mean Squared Error (RMSE): {rmse:.4f}\")\n",
    "\n",
    "    def r2_score(elf,y_test,y_pred):\n",
    "        r2 = r2_score(y_test, y_pred)\n",
    "        print(f\"R-squared (R²): {r2:.4f}\")\n",
    "    \n",
    "    def train(self,x_train,y_true,num_epochs,learning_rate,x_val,y_val,batch_size):\n",
    "        \n",
    "        total_num_train_samples=x_train.shape[0]\n",
    "        if batch_size is None:\n",
    "            batch_size=total_num_train_samples\n",
    "            \n",
    "\n",
    "        for epoch in tqdm(range(num_epochs), desc=\"Training Progress\"):\n",
    "            \n",
    "            indices=np.random.permutation(total_num_train_samples)\n",
    "            x_shuffled_train = x_train[indices]\n",
    "            y_shuffled_train= y_true[indices]\n",
    "            epoch_loss = 0\n",
    "            num_batches = 0\n",
    "        \n",
    "            for i in range(0, total_num_train_samples, batch_size):\n",
    "                end = min(i + batch_size, total_num_train_samples)\n",
    "                x_batch = x_shuffled_train[i:end]\n",
    "                y_batch = y_shuffled_train[i:end]\n",
    "                \n",
    "                y_pred=self.forward(x_batch)\n",
    "                self.backward_propogation(x_batch,y_batch,y_pred,learning_rate)\n",
    "                \n",
    "                loss=self.mse_loss(y_batch,y_pred)\n",
    "                epoch_loss=epoch_loss+loss\n",
    "                \n",
    "                num_batches=num_batches+1\n",
    "                \n",
    "            y_pred_val=self.predict(x_val)\n",
    "            val_loss=self.mse_loss(y_val,y_pred_val)\n",
    "            \n",
    "            wandb.log({\"Epoch\": epoch, \"Train Loss\": epoch_loss/num_batches, \"Validation Loss\": val_loss})\n",
    "            \n",
    "            if (epoch+1)%10==0:\n",
    "                print(f\"Epoch: {epoch},Train Loss:{epoch_loss/num_batches}\")\n",
    "                print(f\"Epoch: {epoch},Validation Loss:{val_loss}\")\n",
    "            elif epoch==0:\n",
    "                print(f\"Epoch: {epoch},Loss:{epoch_loss/num_batches}\")\n",
    "                print(f\"Epoch: {epoch},Validation Loss:{val_loss}\")\n",
    "            "
   ]
  },
  {
   "cell_type": "markdown",
   "metadata": {},
   "source": [
    "### RELU"
   ]
  },
  {
   "cell_type": "code",
   "execution_count": 10,
   "metadata": {},
   "outputs": [],
   "source": [
    "np.random.seed(42)\n",
    "input_dim=1105\n",
    "hidden_dim=64\n",
    "learning_rate=0.01\n",
    "num_epochs=100\n",
    "activation='relu'\n",
    "batch_size=None\n",
    "output_dim=1"
   ]
  },
  {
   "cell_type": "code",
   "execution_count": 11,
   "metadata": {},
   "outputs": [
    {
     "name": "stderr",
     "output_type": "stream",
     "text": [
      "\u001b[34m\u001b[1mwandb\u001b[0m: Using wandb-core as the SDK backend.  Please refer to https://wandb.me/wandb-core for more information.\n",
      "\u001b[34m\u001b[1mwandb\u001b[0m: Currently logged in as: \u001b[33mketakishetye0619\u001b[0m (\u001b[33mketakishetye0619-iiit-hyderabad\u001b[0m) to \u001b[32mhttps://api.wandb.ai\u001b[0m. Use \u001b[1m`wandb login --relogin`\u001b[0m to force relogin\n"
     ]
    },
    {
     "data": {
      "text/html": [
       "Tracking run with wandb version 0.19.8"
      ],
      "text/plain": [
       "<IPython.core.display.HTML object>"
      ]
     },
     "metadata": {},
     "output_type": "display_data"
    },
    {
     "data": {
      "text/html": [
       "Run data is saved locally in <code>d:\\SMAI\\Assignments\\A2\\wandb\\run-20250314_021048-cw4hg5b6</code>"
      ],
      "text/plain": [
       "<IPython.core.display.HTML object>"
      ]
     },
     "metadata": {},
     "output_type": "display_data"
    },
    {
     "data": {
      "text/html": [
       "Syncing run <strong><a href='https://wandb.ai/ketakishetye0619-iiit-hyderabad/SMAI-A2/runs/cw4hg5b6' target=\"_blank\">2.2-Relu-BGD</a></strong> to <a href='https://wandb.ai/ketakishetye0619-iiit-hyderabad/SMAI-A2' target=\"_blank\">Weights & Biases</a> (<a href='https://wandb.me/developer-guide' target=\"_blank\">docs</a>)<br>"
      ],
      "text/plain": [
       "<IPython.core.display.HTML object>"
      ]
     },
     "metadata": {},
     "output_type": "display_data"
    },
    {
     "data": {
      "text/html": [
       " View project at <a href='https://wandb.ai/ketakishetye0619-iiit-hyderabad/SMAI-A2' target=\"_blank\">https://wandb.ai/ketakishetye0619-iiit-hyderabad/SMAI-A2</a>"
      ],
      "text/plain": [
       "<IPython.core.display.HTML object>"
      ]
     },
     "metadata": {},
     "output_type": "display_data"
    },
    {
     "data": {
      "text/html": [
       " View run at <a href='https://wandb.ai/ketakishetye0619-iiit-hyderabad/SMAI-A2/runs/cw4hg5b6' target=\"_blank\">https://wandb.ai/ketakishetye0619-iiit-hyderabad/SMAI-A2/runs/cw4hg5b6</a>"
      ],
      "text/plain": [
       "<IPython.core.display.HTML object>"
      ]
     },
     "metadata": {},
     "output_type": "display_data"
    },
    {
     "name": "stdout",
     "output_type": "stream",
     "text": [
      "Initialising model\n"
     ]
    },
    {
     "name": "stderr",
     "output_type": "stream",
     "text": [
      "Training Progress:   1%|          | 1/100 [00:00<00:11,  8.53it/s]"
     ]
    },
    {
     "name": "stdout",
     "output_type": "stream",
     "text": [
      "Epoch: 0,Loss:6670.435992181684\n",
      "Epoch: 0,Validation Loss:5721.409716945516\n"
     ]
    },
    {
     "name": "stderr",
     "output_type": "stream",
     "text": [
      "Training Progress:  11%|█         | 11/100 [00:01<00:11,  8.03it/s]"
     ]
    },
    {
     "name": "stdout",
     "output_type": "stream",
     "text": [
      "Epoch: 9,Train Loss:344.3715603887008\n",
      "Epoch: 9,Validation Loss:599.1245216567423\n"
     ]
    },
    {
     "name": "stderr",
     "output_type": "stream",
     "text": [
      "Training Progress:  21%|██        | 21/100 [00:02<00:09,  8.46it/s]"
     ]
    },
    {
     "name": "stdout",
     "output_type": "stream",
     "text": [
      "Epoch: 19,Train Loss:311.587639313171\n",
      "Epoch: 19,Validation Loss:566.2171845852986\n"
     ]
    },
    {
     "name": "stderr",
     "output_type": "stream",
     "text": [
      "Training Progress:  31%|███       | 31/100 [00:03<00:08,  8.16it/s]"
     ]
    },
    {
     "name": "stdout",
     "output_type": "stream",
     "text": [
      "Epoch: 29,Train Loss:300.2000344400514\n",
      "Epoch: 29,Validation Loss:554.5597586523267\n"
     ]
    },
    {
     "name": "stderr",
     "output_type": "stream",
     "text": [
      "Training Progress:  41%|████      | 41/100 [00:04<00:07,  8.22it/s]"
     ]
    },
    {
     "name": "stdout",
     "output_type": "stream",
     "text": [
      "Epoch: 39,Train Loss:292.7317077524465\n",
      "Epoch: 39,Validation Loss:547.7290116707371\n"
     ]
    },
    {
     "name": "stderr",
     "output_type": "stream",
     "text": [
      "Training Progress:  51%|█████     | 51/100 [00:06<00:05,  8.23it/s]"
     ]
    },
    {
     "name": "stdout",
     "output_type": "stream",
     "text": [
      "Epoch: 49,Train Loss:286.1689156312358\n",
      "Epoch: 49,Validation Loss:541.4844681969748\n"
     ]
    },
    {
     "name": "stderr",
     "output_type": "stream",
     "text": [
      "Training Progress:  61%|██████    | 61/100 [00:07<00:04,  8.15it/s]"
     ]
    },
    {
     "name": "stdout",
     "output_type": "stream",
     "text": [
      "Epoch: 59,Train Loss:279.90125012434635\n",
      "Epoch: 59,Validation Loss:535.9533421866245\n"
     ]
    },
    {
     "name": "stderr",
     "output_type": "stream",
     "text": [
      "Training Progress:  71%|███████   | 71/100 [00:08<00:03,  8.10it/s]"
     ]
    },
    {
     "name": "stdout",
     "output_type": "stream",
     "text": [
      "Epoch: 69,Train Loss:274.19218273219894\n",
      "Epoch: 69,Validation Loss:530.7218325162254\n"
     ]
    },
    {
     "name": "stderr",
     "output_type": "stream",
     "text": [
      "Training Progress:  81%|████████  | 81/100 [00:09<00:02,  8.08it/s]"
     ]
    },
    {
     "name": "stdout",
     "output_type": "stream",
     "text": [
      "Epoch: 79,Train Loss:269.0879864108806\n",
      "Epoch: 79,Validation Loss:526.2335394176928\n"
     ]
    },
    {
     "name": "stderr",
     "output_type": "stream",
     "text": [
      "Training Progress:  91%|█████████ | 91/100 [00:11<00:01,  7.87it/s]"
     ]
    },
    {
     "name": "stdout",
     "output_type": "stream",
     "text": [
      "Epoch: 89,Train Loss:264.04095361215934\n",
      "Epoch: 89,Validation Loss:520.3320205381686\n"
     ]
    },
    {
     "name": "stderr",
     "output_type": "stream",
     "text": [
      "Training Progress: 100%|██████████| 100/100 [00:12<00:00,  8.13it/s]"
     ]
    },
    {
     "name": "stdout",
     "output_type": "stream",
     "text": [
      "Epoch: 99,Train Loss:259.3883647255201\n",
      "Epoch: 99,Validation Loss:515.3154962736977\n",
      "Final Test Loss 506.9603971060072\n",
      "Root Mean Squared Error (RMSE): 22.5158\n",
      "R-squared (R²): 0.6099\n"
     ]
    },
    {
     "name": "stderr",
     "output_type": "stream",
     "text": [
      "\n"
     ]
    },
    {
     "data": {
      "text/html": [],
      "text/plain": [
       "<IPython.core.display.HTML object>"
      ]
     },
     "metadata": {},
     "output_type": "display_data"
    },
    {
     "data": {
      "text/html": [
       "<br>    <style><br>        .wandb-row {<br>            display: flex;<br>            flex-direction: row;<br>            flex-wrap: wrap;<br>            justify-content: flex-start;<br>            width: 100%;<br>        }<br>        .wandb-col {<br>            display: flex;<br>            flex-direction: column;<br>            flex-basis: 100%;<br>            flex: 1;<br>            padding: 10px;<br>        }<br>    </style><br><div class=\"wandb-row\"><div class=\"wandb-col\"><h3>Run history:</h3><br/><table class=\"wandb\"><tr><td>Epoch</td><td>▁▁▁▂▂▂▃▃▃▃▃▄▄▄▄▄▅▅▅▅▅▅▅▅▆▆▆▆▆▆▇▇▇▇▇█████</td></tr><tr><td>Train Loss</td><td>█▇▅▁▁▁▁▁▁▁▁▁▁▁▁▁▁▁▁▁▁▁▁▁▁▁▁▁▁▁▁▁▁▁▁▁▁▁▁▁</td></tr><tr><td>Validation Loss</td><td>█▃▂▁▁▁▁▁▁▁▁▁▁▁▁▁▁▁▁▁▁▁▁▁▁▁▁▁▁▁▁▁▁▁▁▁▁▁▁▁</td></tr></table><br/></div><div class=\"wandb-col\"><h3>Run summary:</h3><br/><table class=\"wandb\"><tr><td>Epoch</td><td>99</td></tr><tr><td>Train Loss</td><td>259.38836</td></tr><tr><td>Validation Loss</td><td>515.3155</td></tr></table><br/></div></div>"
      ],
      "text/plain": [
       "<IPython.core.display.HTML object>"
      ]
     },
     "metadata": {},
     "output_type": "display_data"
    },
    {
     "data": {
      "text/html": [
       " View run <strong style=\"color:#cdcd00\">2.2-Relu-BGD</strong> at: <a href='https://wandb.ai/ketakishetye0619-iiit-hyderabad/SMAI-A2/runs/cw4hg5b6' target=\"_blank\">https://wandb.ai/ketakishetye0619-iiit-hyderabad/SMAI-A2/runs/cw4hg5b6</a><br> View project at: <a href='https://wandb.ai/ketakishetye0619-iiit-hyderabad/SMAI-A2' target=\"_blank\">https://wandb.ai/ketakishetye0619-iiit-hyderabad/SMAI-A2</a><br>Synced 5 W&B file(s), 0 media file(s), 0 artifact file(s) and 0 other file(s)"
      ],
      "text/plain": [
       "<IPython.core.display.HTML object>"
      ]
     },
     "metadata": {},
     "output_type": "display_data"
    },
    {
     "data": {
      "text/html": [
       "Find logs at: <code>.\\wandb\\run-20250314_021048-cw4hg5b6\\logs</code>"
      ],
      "text/plain": [
       "<IPython.core.display.HTML object>"
      ]
     },
     "metadata": {},
     "output_type": "display_data"
    },
    {
     "name": "stderr",
     "output_type": "stream",
     "text": [
      "message_loop has been closed\n",
      "Traceback (most recent call last):\n",
      "  File \"C:\\Users\\Admin\\AppData\\Local\\Packages\\PythonSoftwareFoundation.Python.3.11_qbz5n2kfra8p0\\LocalCache\\local-packages\\Python311\\site-packages\\wandb\\sdk\\lib\\sock_client.py\", line 208, in _read_packet_bytes\n",
      "    data = self._sock.recv(self._bufsize)\n",
      "           ^^^^^^^^^^^^^^^^^^^^^^^^^^^^^^\n",
      "ConnectionResetError: [WinError 10054] An existing connection was forcibly closed by the remote host\n",
      "\n",
      "The above exception was the direct cause of the following exception:\n",
      "\n",
      "Traceback (most recent call last):\n",
      "  File \"C:\\Users\\Admin\\AppData\\Local\\Packages\\PythonSoftwareFoundation.Python.3.11_qbz5n2kfra8p0\\LocalCache\\local-packages\\Python311\\site-packages\\wandb\\sdk\\interface\\router_sock.py\", line 27, in _read_message\n",
      "    return self._sock_client.read_server_response(timeout=1)\n",
      "           ^^^^^^^^^^^^^^^^^^^^^^^^^^^^^^^^^^^^^^^^^^^^^^^^^\n",
      "  File \"C:\\Users\\Admin\\AppData\\Local\\Packages\\PythonSoftwareFoundation.Python.3.11_qbz5n2kfra8p0\\LocalCache\\local-packages\\Python311\\site-packages\\wandb\\sdk\\lib\\sock_client.py\", line 235, in read_server_response\n",
      "    data = self._read_packet_bytes(timeout=timeout)\n",
      "           ^^^^^^^^^^^^^^^^^^^^^^^^^^^^^^^^^^^^^^^^\n",
      "  File \"C:\\Users\\Admin\\AppData\\Local\\Packages\\PythonSoftwareFoundation.Python.3.11_qbz5n2kfra8p0\\LocalCache\\local-packages\\Python311\\site-packages\\wandb\\sdk\\lib\\sock_client.py\", line 212, in _read_packet_bytes\n",
      "    raise SockClientClosedError from e\n",
      "wandb.sdk.lib.sock_client.SockClientClosedError\n",
      "\n",
      "The above exception was the direct cause of the following exception:\n",
      "\n",
      "Traceback (most recent call last):\n",
      "  File \"C:\\Users\\Admin\\AppData\\Local\\Packages\\PythonSoftwareFoundation.Python.3.11_qbz5n2kfra8p0\\LocalCache\\local-packages\\Python311\\site-packages\\wandb\\sdk\\interface\\router.py\", line 56, in message_loop\n",
      "    msg = self._read_message()\n",
      "          ^^^^^^^^^^^^^^^^^^^^\n",
      "  File \"C:\\Users\\Admin\\AppData\\Local\\Packages\\PythonSoftwareFoundation.Python.3.11_qbz5n2kfra8p0\\LocalCache\\local-packages\\Python311\\site-packages\\wandb\\sdk\\interface\\router_sock.py\", line 29, in _read_message\n",
      "    raise MessageRouterClosedError from e\n",
      "wandb.sdk.interface.router.MessageRouterClosedError\n"
     ]
    }
   ],
   "source": [
    "wandb.init(project=\"SMAI-A2\", name=\"2.2-Relu-BGD\")\n",
    "print(\"Initialising model\")\n",
    "model = MLP(input_dim, hidden_dim, output_dim,activation)   \n",
    "model.train(x_train_np,y_train_np,num_epochs,learning_rate,x_val_np,y_val_np,batch_size)\n",
    "y_pred_test=model.predict(x_test_np)\n",
    "test_loss=model.mse_loss(y_test_np,y_pred_test)\n",
    "print(f\"Final Test Loss {test_loss}\")\n",
    "test_rmse=model.rmse(test_loss)\n",
    "test_r2_score=model.r2_score(y_test_np,y_pred_test)\n",
    "wandb.finish()"
   ]
  },
  {
   "cell_type": "code",
   "execution_count": 11,
   "metadata": {},
   "outputs": [],
   "source": [
    "np.random.seed(42)\n",
    "input_dim=1105\n",
    "hidden_dim=128\n",
    "learning_rate=0.01\n",
    "num_epochs=100\n",
    "activation='relu'\n",
    "batch_size=None\n",
    "output_dim=1"
   ]
  },
  {
   "cell_type": "code",
   "execution_count": 13,
   "metadata": {},
   "outputs": [
    {
     "name": "stderr",
     "output_type": "stream",
     "text": [
      "\u001b[34m\u001b[1mwandb\u001b[0m: Using wandb-core as the SDK backend.  Please refer to https://wandb.me/wandb-core for more information.\n",
      "\u001b[34m\u001b[1mwandb\u001b[0m: Currently logged in as: \u001b[33mketakishetye0619\u001b[0m (\u001b[33mketakishetye0619-iiit-hyderabad\u001b[0m) to \u001b[32mhttps://api.wandb.ai\u001b[0m. Use \u001b[1m`wandb login --relogin`\u001b[0m to force relogin\n"
     ]
    },
    {
     "data": {
      "text/html": [
       "Tracking run with wandb version 0.19.8"
      ],
      "text/plain": [
       "<IPython.core.display.HTML object>"
      ]
     },
     "metadata": {},
     "output_type": "display_data"
    },
    {
     "data": {
      "text/html": [
       "Run data is saved locally in <code>d:\\SMAI\\Assignments\\A2\\wandb\\run-20250315_154634-h9cyp2b3</code>"
      ],
      "text/plain": [
       "<IPython.core.display.HTML object>"
      ]
     },
     "metadata": {},
     "output_type": "display_data"
    },
    {
     "data": {
      "text/html": [
       "Syncing run <strong><a href='https://wandb.ai/ketakishetye0619-iiit-hyderabad/SMAI-A2/runs/h9cyp2b3' target=\"_blank\">2.2-Relu-BGD-Hyperparam-1</a></strong> to <a href='https://wandb.ai/ketakishetye0619-iiit-hyderabad/SMAI-A2' target=\"_blank\">Weights & Biases</a> (<a href='https://wandb.me/developer-guide' target=\"_blank\">docs</a>)<br>"
      ],
      "text/plain": [
       "<IPython.core.display.HTML object>"
      ]
     },
     "metadata": {},
     "output_type": "display_data"
    },
    {
     "data": {
      "text/html": [
       " View project at <a href='https://wandb.ai/ketakishetye0619-iiit-hyderabad/SMAI-A2' target=\"_blank\">https://wandb.ai/ketakishetye0619-iiit-hyderabad/SMAI-A2</a>"
      ],
      "text/plain": [
       "<IPython.core.display.HTML object>"
      ]
     },
     "metadata": {},
     "output_type": "display_data"
    },
    {
     "data": {
      "text/html": [
       " View run at <a href='https://wandb.ai/ketakishetye0619-iiit-hyderabad/SMAI-A2/runs/h9cyp2b3' target=\"_blank\">https://wandb.ai/ketakishetye0619-iiit-hyderabad/SMAI-A2/runs/h9cyp2b3</a>"
      ],
      "text/plain": [
       "<IPython.core.display.HTML object>"
      ]
     },
     "metadata": {},
     "output_type": "display_data"
    },
    {
     "name": "stdout",
     "output_type": "stream",
     "text": [
      "Initialising model\n"
     ]
    },
    {
     "name": "stderr",
     "output_type": "stream",
     "text": [
      "Training Progress:   1%|          | 1/100 [00:00<00:13,  7.10it/s]"
     ]
    },
    {
     "name": "stdout",
     "output_type": "stream",
     "text": [
      "Epoch: 0,Loss:6636.734745056487\n",
      "Epoch: 0,Validation Loss:4807.588479549614\n"
     ]
    },
    {
     "name": "stderr",
     "output_type": "stream",
     "text": [
      "Training Progress:  11%|█         | 11/100 [00:01<00:13,  6.60it/s]"
     ]
    },
    {
     "name": "stdout",
     "output_type": "stream",
     "text": [
      "Epoch: 9,Train Loss:351.09765280188986\n",
      "Epoch: 9,Validation Loss:622.3367598114809\n"
     ]
    },
    {
     "name": "stderr",
     "output_type": "stream",
     "text": [
      "Training Progress:  21%|██        | 21/100 [00:03<00:11,  6.68it/s]"
     ]
    },
    {
     "name": "stdout",
     "output_type": "stream",
     "text": [
      "Epoch: 19,Train Loss:311.30916205782114\n",
      "Epoch: 19,Validation Loss:585.7641543013171\n"
     ]
    },
    {
     "name": "stderr",
     "output_type": "stream",
     "text": [
      "Training Progress:  31%|███       | 31/100 [00:04<00:10,  6.52it/s]"
     ]
    },
    {
     "name": "stdout",
     "output_type": "stream",
     "text": [
      "Epoch: 29,Train Loss:298.28700500552344\n",
      "Epoch: 29,Validation Loss:573.4449364489319\n"
     ]
    },
    {
     "name": "stderr",
     "output_type": "stream",
     "text": [
      "Training Progress:  41%|████      | 41/100 [00:06<00:09,  6.25it/s]"
     ]
    },
    {
     "name": "stdout",
     "output_type": "stream",
     "text": [
      "Epoch: 39,Train Loss:290.12121417609535\n",
      "Epoch: 39,Validation Loss:565.5590125022932\n"
     ]
    },
    {
     "name": "stderr",
     "output_type": "stream",
     "text": [
      "Training Progress:  51%|█████     | 51/100 [00:07<00:07,  6.77it/s]"
     ]
    },
    {
     "name": "stdout",
     "output_type": "stream",
     "text": [
      "Epoch: 49,Train Loss:283.68040677762764\n",
      "Epoch: 49,Validation Loss:559.4602941066272\n"
     ]
    },
    {
     "name": "stderr",
     "output_type": "stream",
     "text": [
      "Training Progress:  61%|██████    | 61/100 [00:09<00:05,  6.52it/s]"
     ]
    },
    {
     "name": "stdout",
     "output_type": "stream",
     "text": [
      "Epoch: 59,Train Loss:278.10461864232843\n",
      "Epoch: 59,Validation Loss:554.0375495307159\n"
     ]
    },
    {
     "name": "stderr",
     "output_type": "stream",
     "text": [
      "Training Progress:  71%|███████   | 71/100 [00:10<00:04,  6.68it/s]"
     ]
    },
    {
     "name": "stdout",
     "output_type": "stream",
     "text": [
      "Epoch: 69,Train Loss:273.0165968536593\n",
      "Epoch: 69,Validation Loss:549.0241678845306\n"
     ]
    },
    {
     "name": "stderr",
     "output_type": "stream",
     "text": [
      "Training Progress:  81%|████████  | 81/100 [00:12<00:02,  6.56it/s]"
     ]
    },
    {
     "name": "stdout",
     "output_type": "stream",
     "text": [
      "Epoch: 79,Train Loss:268.07721731157784\n",
      "Epoch: 79,Validation Loss:543.9548388559442\n"
     ]
    },
    {
     "name": "stderr",
     "output_type": "stream",
     "text": [
      "Training Progress:  91%|█████████ | 91/100 [00:14<00:01,  6.02it/s]"
     ]
    },
    {
     "name": "stdout",
     "output_type": "stream",
     "text": [
      "Epoch: 89,Train Loss:263.51083547269343\n",
      "Epoch: 89,Validation Loss:538.8957774880508\n"
     ]
    },
    {
     "name": "stderr",
     "output_type": "stream",
     "text": [
      "Training Progress: 100%|██████████| 100/100 [00:15<00:00,  6.42it/s]"
     ]
    },
    {
     "name": "stdout",
     "output_type": "stream",
     "text": [
      "Epoch: 99,Train Loss:259.1843736376551\n",
      "Epoch: 99,Validation Loss:534.3134134674943\n",
      "Final Test Loss 527.242490981299\n",
      "Root Mean Squared Error (RMSE): 22.9618\n",
      "R-squared (R²): 0.5943\n"
     ]
    },
    {
     "name": "stderr",
     "output_type": "stream",
     "text": [
      "\n"
     ]
    },
    {
     "data": {
      "text/html": [],
      "text/plain": [
       "<IPython.core.display.HTML object>"
      ]
     },
     "metadata": {},
     "output_type": "display_data"
    },
    {
     "data": {
      "text/html": [
       "<br>    <style><br>        .wandb-row {<br>            display: flex;<br>            flex-direction: row;<br>            flex-wrap: wrap;<br>            justify-content: flex-start;<br>            width: 100%;<br>        }<br>        .wandb-col {<br>            display: flex;<br>            flex-direction: column;<br>            flex-basis: 100%;<br>            flex: 1;<br>            padding: 10px;<br>        }<br>    </style><br><div class=\"wandb-row\"><div class=\"wandb-col\"><h3>Run history:</h3><br/><table class=\"wandb\"><tr><td>Epoch</td><td>▁▁▁▂▂▂▂▂▃▃▃▃▃▃▃▃▄▄▄▄▄▄▄▅▅▅▅▅▆▆▆▆▆▇▇▇▇███</td></tr><tr><td>Train Loss</td><td>█▃▁▁▁▁▁▁▁▁▁▁▁▁▁▁▁▁▁▁▁▁▁▁▁▁▁▁▁▁▁▁▁▁▁▁▁▁▁▁</td></tr><tr><td>Validation Loss</td><td>█▅▃▁▁▁▁▁▁▁▁▁▁▁▁▁▁▁▁▁▁▁▁▁▁▁▁▁▁▁▁▁▁▁▁▁▁▁▁▁</td></tr></table><br/></div><div class=\"wandb-col\"><h3>Run summary:</h3><br/><table class=\"wandb\"><tr><td>Epoch</td><td>99</td></tr><tr><td>Train Loss</td><td>259.18437</td></tr><tr><td>Validation Loss</td><td>534.31341</td></tr></table><br/></div></div>"
      ],
      "text/plain": [
       "<IPython.core.display.HTML object>"
      ]
     },
     "metadata": {},
     "output_type": "display_data"
    },
    {
     "data": {
      "text/html": [
       " View run <strong style=\"color:#cdcd00\">2.2-Relu-BGD-Hyperparam-1</strong> at: <a href='https://wandb.ai/ketakishetye0619-iiit-hyderabad/SMAI-A2/runs/h9cyp2b3' target=\"_blank\">https://wandb.ai/ketakishetye0619-iiit-hyderabad/SMAI-A2/runs/h9cyp2b3</a><br> View project at: <a href='https://wandb.ai/ketakishetye0619-iiit-hyderabad/SMAI-A2' target=\"_blank\">https://wandb.ai/ketakishetye0619-iiit-hyderabad/SMAI-A2</a><br>Synced 5 W&B file(s), 0 media file(s), 0 artifact file(s) and 0 other file(s)"
      ],
      "text/plain": [
       "<IPython.core.display.HTML object>"
      ]
     },
     "metadata": {},
     "output_type": "display_data"
    },
    {
     "data": {
      "text/html": [
       "Find logs at: <code>.\\wandb\\run-20250315_154634-h9cyp2b3\\logs</code>"
      ],
      "text/plain": [
       "<IPython.core.display.HTML object>"
      ]
     },
     "metadata": {},
     "output_type": "display_data"
    }
   ],
   "source": [
    "wandb.init(project=\"SMAI-A2\", name=\"2.2-Relu-BGD-Hyperparam-1\")\n",
    "print(\"Initialising model\")\n",
    "model = MLP(input_dim, hidden_dim, output_dim,activation)   \n",
    "model.train(x_train_np,y_train_np,num_epochs,learning_rate,x_val_np,y_val_np,batch_size)\n",
    "y_pred_test=model.predict(x_test_np)\n",
    "test_loss=model.mse_loss(y_test_np,y_pred_test)\n",
    "print(f\"Final Test Loss {test_loss}\")\n",
    "test_rmse=model.rmse(test_loss)\n",
    "test_r2_score=model.r2_score(y_test_np,y_pred_test)\n",
    "wandb.finish()"
   ]
  },
  {
   "cell_type": "code",
   "execution_count": null,
   "metadata": {},
   "outputs": [],
   "source": [
    "np.random.seed(42)\n",
    "input_dim=1105\n",
    "hidden_dim=64\n",
    "learning_rate=0.001\n",
    "num_epochs=100\n",
    "activation='relu'\n",
    "batch_size=None\n",
    "output_dim=1"
   ]
  },
  {
   "cell_type": "code",
   "execution_count": 19,
   "metadata": {},
   "outputs": [
    {
     "data": {
      "text/html": [
       "Tracking run with wandb version 0.19.8"
      ],
      "text/plain": [
       "<IPython.core.display.HTML object>"
      ]
     },
     "metadata": {},
     "output_type": "display_data"
    },
    {
     "data": {
      "text/html": [
       "Run data is saved locally in <code>d:\\SMAI\\Assignments\\A2\\wandb\\run-20250315_155337-akt9tv2l</code>"
      ],
      "text/plain": [
       "<IPython.core.display.HTML object>"
      ]
     },
     "metadata": {},
     "output_type": "display_data"
    },
    {
     "data": {
      "text/html": [
       "Syncing run <strong><a href='https://wandb.ai/ketakishetye0619-iiit-hyderabad/SMAI-A2/runs/akt9tv2l' target=\"_blank\">2.2-Relu-BGD-Hyperparam-2</a></strong> to <a href='https://wandb.ai/ketakishetye0619-iiit-hyderabad/SMAI-A2' target=\"_blank\">Weights & Biases</a> (<a href='https://wandb.me/developer-guide' target=\"_blank\">docs</a>)<br>"
      ],
      "text/plain": [
       "<IPython.core.display.HTML object>"
      ]
     },
     "metadata": {},
     "output_type": "display_data"
    },
    {
     "data": {
      "text/html": [
       " View project at <a href='https://wandb.ai/ketakishetye0619-iiit-hyderabad/SMAI-A2' target=\"_blank\">https://wandb.ai/ketakishetye0619-iiit-hyderabad/SMAI-A2</a>"
      ],
      "text/plain": [
       "<IPython.core.display.HTML object>"
      ]
     },
     "metadata": {},
     "output_type": "display_data"
    },
    {
     "data": {
      "text/html": [
       " View run at <a href='https://wandb.ai/ketakishetye0619-iiit-hyderabad/SMAI-A2/runs/akt9tv2l' target=\"_blank\">https://wandb.ai/ketakishetye0619-iiit-hyderabad/SMAI-A2/runs/akt9tv2l</a>"
      ],
      "text/plain": [
       "<IPython.core.display.HTML object>"
      ]
     },
     "metadata": {},
     "output_type": "display_data"
    },
    {
     "name": "stdout",
     "output_type": "stream",
     "text": [
      "Initialising model\n"
     ]
    },
    {
     "name": "stderr",
     "output_type": "stream",
     "text": [
      "Training Progress:   1%|          | 1/100 [00:00<00:13,  7.21it/s]"
     ]
    },
    {
     "name": "stdout",
     "output_type": "stream",
     "text": [
      "Epoch: 0,Loss:6658.714111771921\n",
      "Epoch: 0,Validation Loss:6714.6559161598625\n"
     ]
    },
    {
     "name": "stderr",
     "output_type": "stream",
     "text": [
      "Training Progress:  11%|█         | 11/100 [00:01<00:15,  5.88it/s]"
     ]
    },
    {
     "name": "stdout",
     "output_type": "stream",
     "text": [
      "Epoch: 9,Train Loss:4676.034041265708\n",
      "Epoch: 9,Validation Loss:4833.318095332798\n"
     ]
    },
    {
     "name": "stderr",
     "output_type": "stream",
     "text": [
      "Training Progress:  21%|██        | 21/100 [00:03<00:12,  6.40it/s]"
     ]
    },
    {
     "name": "stdout",
     "output_type": "stream",
     "text": [
      "Epoch: 19,Train Loss:2657.5454105078875\n",
      "Epoch: 19,Validation Loss:2818.3867495590716\n"
     ]
    },
    {
     "name": "stderr",
     "output_type": "stream",
     "text": [
      "Training Progress:  31%|███       | 31/100 [00:04<00:10,  6.37it/s]"
     ]
    },
    {
     "name": "stdout",
     "output_type": "stream",
     "text": [
      "Epoch: 29,Train Loss:1199.878358800066\n",
      "Epoch: 29,Validation Loss:1423.8535539316492\n"
     ]
    },
    {
     "name": "stderr",
     "output_type": "stream",
     "text": [
      "Training Progress:  41%|████      | 41/100 [00:06<00:09,  6.41it/s]"
     ]
    },
    {
     "name": "stdout",
     "output_type": "stream",
     "text": [
      "Epoch: 39,Train Loss:692.7221412586205\n",
      "Epoch: 39,Validation Loss:954.9179649705295\n"
     ]
    },
    {
     "name": "stderr",
     "output_type": "stream",
     "text": [
      "Training Progress:  51%|█████     | 51/100 [00:07<00:07,  6.75it/s]"
     ]
    },
    {
     "name": "stdout",
     "output_type": "stream",
     "text": [
      "Epoch: 49,Train Loss:520.5751818608517\n",
      "Epoch: 49,Validation Loss:796.1930631290785\n"
     ]
    },
    {
     "name": "stderr",
     "output_type": "stream",
     "text": [
      "Training Progress:  61%|██████    | 61/100 [00:09<00:05,  6.65it/s]"
     ]
    },
    {
     "name": "stdout",
     "output_type": "stream",
     "text": [
      "Epoch: 59,Train Loss:440.0256199854146\n",
      "Epoch: 59,Validation Loss:721.9693251829037\n"
     ]
    },
    {
     "name": "stderr",
     "output_type": "stream",
     "text": [
      "Training Progress:  70%|███████   | 70/100 [00:12<00:13,  2.19it/s]"
     ]
    },
    {
     "name": "stdout",
     "output_type": "stream",
     "text": [
      "Epoch: 69,Train Loss:397.22601077083766\n",
      "Epoch: 69,Validation Loss:681.1804249502354\n"
     ]
    },
    {
     "name": "stderr",
     "output_type": "stream",
     "text": [
      "Training Progress:  80%|████████  | 80/100 [00:15<00:05,  3.94it/s]"
     ]
    },
    {
     "name": "stdout",
     "output_type": "stream",
     "text": [
      "Epoch: 79,Train Loss:372.61623152532246\n",
      "Epoch: 79,Validation Loss:656.2622596163166\n"
     ]
    },
    {
     "name": "stderr",
     "output_type": "stream",
     "text": [
      "Training Progress:  91%|█████████ | 91/100 [00:17<00:01,  5.59it/s]"
     ]
    },
    {
     "name": "stdout",
     "output_type": "stream",
     "text": [
      "Epoch: 89,Train Loss:357.28854990333275\n",
      "Epoch: 89,Validation Loss:639.8457783284483\n"
     ]
    },
    {
     "name": "stderr",
     "output_type": "stream",
     "text": [
      "Training Progress: 100%|██████████| 100/100 [00:18<00:00,  5.30it/s]"
     ]
    },
    {
     "name": "stdout",
     "output_type": "stream",
     "text": [
      "Epoch: 99,Train Loss:347.00717503030694\n",
      "Epoch: 99,Validation Loss:628.3112986339443\n",
      "Final Test Loss 612.7034644504447\n",
      "Root Mean Squared Error (RMSE): 24.7528\n",
      "R-squared (R²): 0.5285\n"
     ]
    },
    {
     "name": "stderr",
     "output_type": "stream",
     "text": [
      "\n"
     ]
    },
    {
     "data": {
      "text/html": [],
      "text/plain": [
       "<IPython.core.display.HTML object>"
      ]
     },
     "metadata": {},
     "output_type": "display_data"
    },
    {
     "data": {
      "text/html": [
       "<br>    <style><br>        .wandb-row {<br>            display: flex;<br>            flex-direction: row;<br>            flex-wrap: wrap;<br>            justify-content: flex-start;<br>            width: 100%;<br>        }<br>        .wandb-col {<br>            display: flex;<br>            flex-direction: column;<br>            flex-basis: 100%;<br>            flex: 1;<br>            padding: 10px;<br>        }<br>    </style><br><div class=\"wandb-row\"><div class=\"wandb-col\"><h3>Run history:</h3><br/><table class=\"wandb\"><tr><td>Epoch</td><td>▁▁▁▁▂▂▂▂▃▃▃▃▃▃▃▄▄▄▄▄▅▅▅▅▅▅▅▆▆▆▆▇▇▇▇▇████</td></tr><tr><td>Train Loss</td><td>██▇▇▆▆▅▅▅▄▃▃▂▂▂▁▁▁▁▁▁▁▁▁▁▁▁▁▁▁▁▁▁▁▁▁▁▁▁▁</td></tr><tr><td>Validation Loss</td><td>█▇▇▇▆▅▅▄▃▂▂▂▂▂▂▁▁▁▁▁▁▁▁▁▁▁▁▁▁▁▁▁▁▁▁▁▁▁▁▁</td></tr></table><br/></div><div class=\"wandb-col\"><h3>Run summary:</h3><br/><table class=\"wandb\"><tr><td>Epoch</td><td>99</td></tr><tr><td>Train Loss</td><td>347.00718</td></tr><tr><td>Validation Loss</td><td>628.3113</td></tr></table><br/></div></div>"
      ],
      "text/plain": [
       "<IPython.core.display.HTML object>"
      ]
     },
     "metadata": {},
     "output_type": "display_data"
    },
    {
     "data": {
      "text/html": [
       " View run <strong style=\"color:#cdcd00\">2.2-Relu-BGD-Hyperparam-2</strong> at: <a href='https://wandb.ai/ketakishetye0619-iiit-hyderabad/SMAI-A2/runs/akt9tv2l' target=\"_blank\">https://wandb.ai/ketakishetye0619-iiit-hyderabad/SMAI-A2/runs/akt9tv2l</a><br> View project at: <a href='https://wandb.ai/ketakishetye0619-iiit-hyderabad/SMAI-A2' target=\"_blank\">https://wandb.ai/ketakishetye0619-iiit-hyderabad/SMAI-A2</a><br>Synced 5 W&B file(s), 0 media file(s), 0 artifact file(s) and 0 other file(s)"
      ],
      "text/plain": [
       "<IPython.core.display.HTML object>"
      ]
     },
     "metadata": {},
     "output_type": "display_data"
    },
    {
     "data": {
      "text/html": [
       "Find logs at: <code>.\\wandb\\run-20250315_155337-akt9tv2l\\logs</code>"
      ],
      "text/plain": [
       "<IPython.core.display.HTML object>"
      ]
     },
     "metadata": {},
     "output_type": "display_data"
    }
   ],
   "source": [
    "wandb.init(project=\"SMAI-A2\", name=\"2.2-Relu-BGD-Hyperparam-2\")\n",
    "print(\"Initialising model\")\n",
    "model = MLP(input_dim, hidden_dim, output_dim,activation)   \n",
    "model.train(x_train_np,y_train_np,num_epochs,learning_rate,x_val_np,y_val_np,batch_size)\n",
    "y_pred_test=model.predict(x_test_np)\n",
    "test_loss=model.mse_loss(y_test_np,y_pred_test)\n",
    "print(f\"Final Test Loss {test_loss}\")\n",
    "test_rmse=model.rmse(test_loss)\n",
    "test_r2_score=model.r2_score(y_test_np,y_pred_test)\n",
    "wandb.finish()"
   ]
  },
  {
   "cell_type": "code",
   "execution_count": 12,
   "metadata": {},
   "outputs": [],
   "source": [
    "np.random.seed(42)\n",
    "input_dim=1105\n",
    "hidden_dim=64\n",
    "learning_rate=0.00001\n",
    "num_epochs=100\n",
    "activation='relu'\n",
    "batch_size=1\n",
    "output_dim=1"
   ]
  },
  {
   "cell_type": "code",
   "execution_count": 13,
   "metadata": {},
   "outputs": [
    {
     "data": {
      "text/html": [
       "Tracking run with wandb version 0.19.8"
      ],
      "text/plain": [
       "<IPython.core.display.HTML object>"
      ]
     },
     "metadata": {},
     "output_type": "display_data"
    },
    {
     "data": {
      "text/html": [
       "Run data is saved locally in <code>d:\\SMAI\\Assignments\\A2\\wandb\\run-20250314_021104-5bzzvlxc</code>"
      ],
      "text/plain": [
       "<IPython.core.display.HTML object>"
      ]
     },
     "metadata": {},
     "output_type": "display_data"
    },
    {
     "data": {
      "text/html": [
       "Syncing run <strong><a href='https://wandb.ai/ketakishetye0619-iiit-hyderabad/SMAI-A2/runs/5bzzvlxc' target=\"_blank\">2.2-Relu-SGD</a></strong> to <a href='https://wandb.ai/ketakishetye0619-iiit-hyderabad/SMAI-A2' target=\"_blank\">Weights & Biases</a> (<a href='https://wandb.me/developer-guide' target=\"_blank\">docs</a>)<br>"
      ],
      "text/plain": [
       "<IPython.core.display.HTML object>"
      ]
     },
     "metadata": {},
     "output_type": "display_data"
    },
    {
     "data": {
      "text/html": [
       " View project at <a href='https://wandb.ai/ketakishetye0619-iiit-hyderabad/SMAI-A2' target=\"_blank\">https://wandb.ai/ketakishetye0619-iiit-hyderabad/SMAI-A2</a>"
      ],
      "text/plain": [
       "<IPython.core.display.HTML object>"
      ]
     },
     "metadata": {},
     "output_type": "display_data"
    },
    {
     "data": {
      "text/html": [
       " View run at <a href='https://wandb.ai/ketakishetye0619-iiit-hyderabad/SMAI-A2/runs/5bzzvlxc' target=\"_blank\">https://wandb.ai/ketakishetye0619-iiit-hyderabad/SMAI-A2/runs/5bzzvlxc</a>"
      ],
      "text/plain": [
       "<IPython.core.display.HTML object>"
      ]
     },
     "metadata": {},
     "output_type": "display_data"
    },
    {
     "name": "stdout",
     "output_type": "stream",
     "text": [
      "Initialising model\n"
     ]
    },
    {
     "name": "stderr",
     "output_type": "stream",
     "text": [
      "Training Progress:   1%|          | 1/100 [00:02<03:29,  2.12s/it]"
     ]
    },
    {
     "name": "stdout",
     "output_type": "stream",
     "text": [
      "Epoch: 0,Loss:2003.2588597972715\n",
      "Epoch: 0,Validation Loss:904.7537909423013\n"
     ]
    },
    {
     "name": "stderr",
     "output_type": "stream",
     "text": [
      "Training Progress:  10%|█         | 10/100 [00:25<04:15,  2.84s/it]"
     ]
    },
    {
     "name": "stdout",
     "output_type": "stream",
     "text": [
      "Epoch: 9,Train Loss:340.4318685720114\n",
      "Epoch: 9,Validation Loss:567.1816212823186\n"
     ]
    },
    {
     "name": "stderr",
     "output_type": "stream",
     "text": [
      "Training Progress:  20%|██        | 20/100 [00:52<03:30,  2.64s/it]"
     ]
    },
    {
     "name": "stdout",
     "output_type": "stream",
     "text": [
      "Epoch: 19,Train Loss:295.3892836055931\n",
      "Epoch: 19,Validation Loss:517.5332237625089\n"
     ]
    },
    {
     "name": "stderr",
     "output_type": "stream",
     "text": [
      "Training Progress:  30%|███       | 30/100 [01:15<02:41,  2.30s/it]"
     ]
    },
    {
     "name": "stdout",
     "output_type": "stream",
     "text": [
      "Epoch: 29,Train Loss:272.4361452238796\n",
      "Epoch: 29,Validation Loss:500.4266356763999\n"
     ]
    },
    {
     "name": "stderr",
     "output_type": "stream",
     "text": [
      "Training Progress:  40%|████      | 40/100 [01:38<02:18,  2.31s/it]"
     ]
    },
    {
     "name": "stdout",
     "output_type": "stream",
     "text": [
      "Epoch: 39,Train Loss:260.4273174304987\n",
      "Epoch: 39,Validation Loss:508.7524530666421\n"
     ]
    },
    {
     "name": "stderr",
     "output_type": "stream",
     "text": [
      "Training Progress:  50%|█████     | 50/100 [02:01<01:55,  2.31s/it]"
     ]
    },
    {
     "name": "stdout",
     "output_type": "stream",
     "text": [
      "Epoch: 49,Train Loss:250.8376430047492\n",
      "Epoch: 49,Validation Loss:494.9883083263947\n"
     ]
    },
    {
     "name": "stderr",
     "output_type": "stream",
     "text": [
      "Training Progress:  60%|██████    | 60/100 [02:26<01:38,  2.47s/it]"
     ]
    },
    {
     "name": "stdout",
     "output_type": "stream",
     "text": [
      "Epoch: 59,Train Loss:243.2486469883318\n",
      "Epoch: 59,Validation Loss:499.5455304636649\n"
     ]
    },
    {
     "name": "stderr",
     "output_type": "stream",
     "text": [
      "Training Progress:  70%|███████   | 70/100 [02:46<01:02,  2.09s/it]"
     ]
    },
    {
     "name": "stdout",
     "output_type": "stream",
     "text": [
      "Epoch: 69,Train Loss:235.04685364476344\n",
      "Epoch: 69,Validation Loss:495.6529054250018\n"
     ]
    },
    {
     "name": "stderr",
     "output_type": "stream",
     "text": [
      "Training Progress:  80%|████████  | 80/100 [03:09<00:49,  2.46s/it]"
     ]
    },
    {
     "name": "stdout",
     "output_type": "stream",
     "text": [
      "Epoch: 79,Train Loss:229.28943678509475\n",
      "Epoch: 79,Validation Loss:482.75317770879377\n"
     ]
    },
    {
     "name": "stderr",
     "output_type": "stream",
     "text": [
      "Training Progress:  90%|█████████ | 90/100 [03:34<00:24,  2.41s/it]"
     ]
    },
    {
     "name": "stdout",
     "output_type": "stream",
     "text": [
      "Epoch: 89,Train Loss:224.91982074346677\n",
      "Epoch: 89,Validation Loss:484.0698598903398\n"
     ]
    },
    {
     "name": "stderr",
     "output_type": "stream",
     "text": [
      "Training Progress: 100%|██████████| 100/100 [03:57<00:00,  2.37s/it]"
     ]
    },
    {
     "name": "stdout",
     "output_type": "stream",
     "text": [
      "Epoch: 99,Train Loss:220.33113679297787\n",
      "Epoch: 99,Validation Loss:481.45532221458075\n",
      "Final Test Loss 495.4913211409557\n",
      "Root Mean Squared Error (RMSE): 22.2596\n",
      "R-squared (R²): 0.6187\n"
     ]
    },
    {
     "name": "stderr",
     "output_type": "stream",
     "text": [
      "\n"
     ]
    },
    {
     "data": {
      "text/html": [],
      "text/plain": [
       "<IPython.core.display.HTML object>"
      ]
     },
     "metadata": {},
     "output_type": "display_data"
    },
    {
     "data": {
      "text/html": [
       "<br>    <style><br>        .wandb-row {<br>            display: flex;<br>            flex-direction: row;<br>            flex-wrap: wrap;<br>            justify-content: flex-start;<br>            width: 100%;<br>        }<br>        .wandb-col {<br>            display: flex;<br>            flex-direction: column;<br>            flex-basis: 100%;<br>            flex: 1;<br>            padding: 10px;<br>        }<br>    </style><br><div class=\"wandb-row\"><div class=\"wandb-col\"><h3>Run history:</h3><br/><table class=\"wandb\"><tr><td>Epoch</td><td>▁▁▁▁▂▂▂▂▂▃▃▃▃▄▄▄▄▄▅▅▅▅▅▅▅▅▅▆▆▆▆▆▆▇▇▇▇███</td></tr><tr><td>Train Loss</td><td>█▂▂▂▁▁▁▁▁▁▁▁▁▁▁▁▁▁▁▁▁▁▁▁▁▁▁▁▁▁▁▁▁▁▁▁▁▁▁▁</td></tr><tr><td>Validation Loss</td><td>▇█▅▆▆▅▅▄▄▄▃▃▃▃▃▂▂▃▃▃▂▂▂▂▂▂▂▂▂▂▂▂▂▂▂▂▁▁▂▁</td></tr></table><br/></div><div class=\"wandb-col\"><h3>Run summary:</h3><br/><table class=\"wandb\"><tr><td>Epoch</td><td>99</td></tr><tr><td>Train Loss</td><td>220.33114</td></tr><tr><td>Validation Loss</td><td>481.45532</td></tr></table><br/></div></div>"
      ],
      "text/plain": [
       "<IPython.core.display.HTML object>"
      ]
     },
     "metadata": {},
     "output_type": "display_data"
    },
    {
     "data": {
      "text/html": [
       " View run <strong style=\"color:#cdcd00\">2.2-Relu-SGD</strong> at: <a href='https://wandb.ai/ketakishetye0619-iiit-hyderabad/SMAI-A2/runs/5bzzvlxc' target=\"_blank\">https://wandb.ai/ketakishetye0619-iiit-hyderabad/SMAI-A2/runs/5bzzvlxc</a><br> View project at: <a href='https://wandb.ai/ketakishetye0619-iiit-hyderabad/SMAI-A2' target=\"_blank\">https://wandb.ai/ketakishetye0619-iiit-hyderabad/SMAI-A2</a><br>Synced 5 W&B file(s), 0 media file(s), 0 artifact file(s) and 0 other file(s)"
      ],
      "text/plain": [
       "<IPython.core.display.HTML object>"
      ]
     },
     "metadata": {},
     "output_type": "display_data"
    },
    {
     "data": {
      "text/html": [
       "Find logs at: <code>.\\wandb\\run-20250314_021104-5bzzvlxc\\logs</code>"
      ],
      "text/plain": [
       "<IPython.core.display.HTML object>"
      ]
     },
     "metadata": {},
     "output_type": "display_data"
    }
   ],
   "source": [
    "wandb.init(project=\"SMAI-A2\", name=\"2.2-Relu-SGD\")\n",
    "print(\"Initialising model\")\n",
    "model = MLP(input_dim, hidden_dim, output_dim,activation)   \n",
    "model.train(x_train_np,y_train_np,num_epochs,learning_rate,x_val_np,y_val_np,batch_size)\n",
    "y_pred_test=model.predict(x_test_np)\n",
    "test_loss=model.mse_loss(y_test_np,y_pred_test)\n",
    "print(f\"Final Test Loss {test_loss}\")\n",
    "test_rmse=model.rmse(test_loss)\n",
    "test_r2_score=model.r2_score(y_test_np,y_pred_test)\n",
    "wandb.finish()"
   ]
  },
  {
   "cell_type": "code",
   "execution_count": 24,
   "metadata": {},
   "outputs": [],
   "source": [
    "np.random.seed(42)\n",
    "input_dim=1105\n",
    "hidden_dim=64\n",
    "learning_rate=0.00001\n",
    "num_epochs=100\n",
    "activation='relu'\n",
    "batch_size=1\n",
    "output_dim=1"
   ]
  },
  {
   "cell_type": "code",
   "execution_count": 25,
   "metadata": {},
   "outputs": [
    {
     "name": "stdout",
     "output_type": "stream",
     "text": [
      "Initialising model\n"
     ]
    },
    {
     "name": "stderr",
     "output_type": "stream",
     "text": [
      "Training Progress:   1%|          | 1/100 [00:02<03:21,  2.04s/it]"
     ]
    },
    {
     "name": "stdout",
     "output_type": "stream",
     "text": [
      "Epoch: 0,Loss:2003.2588597972715\n",
      "Epoch: 0,Validation Loss:904.7537909423013\n"
     ]
    },
    {
     "name": "stderr",
     "output_type": "stream",
     "text": [
      "Training Progress:  10%|█         | 10/100 [00:20<03:07,  2.08s/it]"
     ]
    },
    {
     "name": "stdout",
     "output_type": "stream",
     "text": [
      "Epoch: 9,Train Loss:340.4318685720114\n",
      "Epoch: 9,Validation Loss:567.1816212823186\n"
     ]
    },
    {
     "name": "stderr",
     "output_type": "stream",
     "text": [
      "Training Progress:  20%|██        | 20/100 [00:41<02:47,  2.10s/it]"
     ]
    },
    {
     "name": "stdout",
     "output_type": "stream",
     "text": [
      "Epoch: 19,Train Loss:295.3892836055931\n",
      "Epoch: 19,Validation Loss:517.5332237625089\n"
     ]
    },
    {
     "name": "stderr",
     "output_type": "stream",
     "text": [
      "Training Progress:  30%|███       | 30/100 [01:02<02:25,  2.08s/it]"
     ]
    },
    {
     "name": "stdout",
     "output_type": "stream",
     "text": [
      "Epoch: 29,Train Loss:272.4361452238796\n",
      "Epoch: 29,Validation Loss:500.4266356763999\n"
     ]
    },
    {
     "name": "stderr",
     "output_type": "stream",
     "text": [
      "Training Progress:  40%|████      | 40/100 [01:23<02:03,  2.05s/it]"
     ]
    },
    {
     "name": "stdout",
     "output_type": "stream",
     "text": [
      "Epoch: 39,Train Loss:260.4273174304987\n",
      "Epoch: 39,Validation Loss:508.7524530666421\n"
     ]
    },
    {
     "name": "stderr",
     "output_type": "stream",
     "text": [
      "Training Progress:  50%|█████     | 50/100 [01:43<01:45,  2.11s/it]"
     ]
    },
    {
     "name": "stdout",
     "output_type": "stream",
     "text": [
      "Epoch: 49,Train Loss:250.8376430047492\n",
      "Epoch: 49,Validation Loss:494.9883083263947\n"
     ]
    },
    {
     "name": "stderr",
     "output_type": "stream",
     "text": [
      "Training Progress:  60%|██████    | 60/100 [02:04<01:24,  2.11s/it]"
     ]
    },
    {
     "name": "stdout",
     "output_type": "stream",
     "text": [
      "Epoch: 59,Train Loss:243.2486469883318\n",
      "Epoch: 59,Validation Loss:499.5455304636649\n"
     ]
    },
    {
     "name": "stderr",
     "output_type": "stream",
     "text": [
      "Training Progress:  70%|███████   | 70/100 [02:25<01:04,  2.14s/it]"
     ]
    },
    {
     "name": "stdout",
     "output_type": "stream",
     "text": [
      "Epoch: 69,Train Loss:235.04685364476344\n",
      "Epoch: 69,Validation Loss:495.6529054250018\n"
     ]
    },
    {
     "name": "stderr",
     "output_type": "stream",
     "text": [
      "Training Progress:  80%|████████  | 80/100 [02:48<00:47,  2.39s/it]"
     ]
    },
    {
     "name": "stdout",
     "output_type": "stream",
     "text": [
      "Epoch: 79,Train Loss:229.28943678509475\n",
      "Epoch: 79,Validation Loss:482.75317770879377\n"
     ]
    },
    {
     "name": "stderr",
     "output_type": "stream",
     "text": [
      "Training Progress:  90%|█████████ | 90/100 [03:11<00:21,  2.18s/it]"
     ]
    },
    {
     "name": "stdout",
     "output_type": "stream",
     "text": [
      "Epoch: 89,Train Loss:224.91982074346677\n",
      "Epoch: 89,Validation Loss:484.0698598903398\n"
     ]
    },
    {
     "name": "stderr",
     "output_type": "stream",
     "text": [
      "Training Progress: 100%|██████████| 100/100 [03:31<00:00,  2.12s/it]"
     ]
    },
    {
     "name": "stdout",
     "output_type": "stream",
     "text": [
      "Epoch: 99,Train Loss:220.33113679297787\n",
      "Epoch: 99,Validation Loss:481.45532221458075\n",
      "Final Test Loss 495.4913211409557\n",
      "Root Mean Squared Error (RMSE): 22.2596\n",
      "R-squared (R²): 0.6187\n"
     ]
    },
    {
     "name": "stderr",
     "output_type": "stream",
     "text": [
      "\n"
     ]
    },
    {
     "data": {
      "text/html": [],
      "text/plain": [
       "<IPython.core.display.HTML object>"
      ]
     },
     "metadata": {},
     "output_type": "display_data"
    },
    {
     "data": {
      "text/html": [
       "<br>    <style><br>        .wandb-row {<br>            display: flex;<br>            flex-direction: row;<br>            flex-wrap: wrap;<br>            justify-content: flex-start;<br>            width: 100%;<br>        }<br>        .wandb-col {<br>            display: flex;<br>            flex-direction: column;<br>            flex-basis: 100%;<br>            flex: 1;<br>            padding: 10px;<br>        }<br>    </style><br><div class=\"wandb-row\"><div class=\"wandb-col\"><h3>Run history:</h3><br/><table class=\"wandb\"><tr><td>Epoch</td><td>▁▁▂▃▃▃▃▃▃▄▅▅▆▆▆▆▆▆▇▇▇▇██▁▂▂▃▃▃▃▃▄▄▅▆▆▇▇█</td></tr><tr><td>Train Loss</td><td>                    █▆▅▄▄▄▄▃▃▃▂▂▂▂▂▂▁▁▁▁</td></tr><tr><td>Validation Loss</td><td>                   █▃▃▂▂▂▁▁▂▂▂▁▁▁▁▁▁▁▁▁▁</td></tr></table><br/></div><div class=\"wandb-col\"><h3>Run summary:</h3><br/><table class=\"wandb\"><tr><td>Epoch</td><td>99</td></tr><tr><td>Train Loss</td><td>220.33114</td></tr><tr><td>Validation Loss</td><td>481.45532</td></tr></table><br/></div></div>"
      ],
      "text/plain": [
       "<IPython.core.display.HTML object>"
      ]
     },
     "metadata": {},
     "output_type": "display_data"
    },
    {
     "data": {
      "text/html": [
       " View run <strong style=\"color:#cdcd00\">2.2-Relu-SGD-Hyperparam2</strong> at: <a href='https://wandb.ai/ketakishetye0619-iiit-hyderabad/SMAI-A2/runs/xjd903hz' target=\"_blank\">https://wandb.ai/ketakishetye0619-iiit-hyderabad/SMAI-A2/runs/xjd903hz</a><br> View project at: <a href='https://wandb.ai/ketakishetye0619-iiit-hyderabad/SMAI-A2' target=\"_blank\">https://wandb.ai/ketakishetye0619-iiit-hyderabad/SMAI-A2</a><br>Synced 5 W&B file(s), 0 media file(s), 0 artifact file(s) and 0 other file(s)"
      ],
      "text/plain": [
       "<IPython.core.display.HTML object>"
      ]
     },
     "metadata": {},
     "output_type": "display_data"
    },
    {
     "data": {
      "text/html": [
       "Find logs at: <code>.\\wandb\\run-20250315_155359-xjd903hz\\logs</code>"
      ],
      "text/plain": [
       "<IPython.core.display.HTML object>"
      ]
     },
     "metadata": {},
     "output_type": "display_data"
    }
   ],
   "source": [
    "wandb.init(project=\"SMAI-A2\", name=\"2.2-Relu-SGD-Hyperparam2\")\n",
    "print(\"Initialising model\")\n",
    "model = MLP(input_dim, hidden_dim, output_dim,activation)   \n",
    "model.train(x_train_np,y_train_np,num_epochs,learning_rate,x_val_np,y_val_np,batch_size)\n",
    "y_pred_test=model.predict(x_test_np)\n",
    "test_loss=model.mse_loss(y_test_np,y_pred_test)\n",
    "print(f\"Final Test Loss {test_loss}\")\n",
    "test_rmse=model.rmse(test_loss)\n",
    "test_r2_score=model.r2_score(y_test_np,y_pred_test)\n",
    "wandb.finish()"
   ]
  },
  {
   "cell_type": "code",
   "execution_count": 14,
   "metadata": {},
   "outputs": [],
   "source": [
    "np.random.seed(42)\n",
    "input_dim=1105\n",
    "hidden_dim=128\n",
    "learning_rate=0.00001\n",
    "num_epochs=100\n",
    "activation='relu'\n",
    "batch_size=1\n",
    "output_dim=1"
   ]
  },
  {
   "cell_type": "code",
   "execution_count": 15,
   "metadata": {},
   "outputs": [
    {
     "data": {
      "text/html": [
       "Tracking run with wandb version 0.19.8"
      ],
      "text/plain": [
       "<IPython.core.display.HTML object>"
      ]
     },
     "metadata": {},
     "output_type": "display_data"
    },
    {
     "data": {
      "text/html": [
       "Run data is saved locally in <code>d:\\SMAI\\Assignments\\A2\\wandb\\run-20250315_154731-3d0cfq1s</code>"
      ],
      "text/plain": [
       "<IPython.core.display.HTML object>"
      ]
     },
     "metadata": {},
     "output_type": "display_data"
    },
    {
     "data": {
      "text/html": [
       "Syncing run <strong><a href='https://wandb.ai/ketakishetye0619-iiit-hyderabad/SMAI-A2/runs/3d0cfq1s' target=\"_blank\">2.2-Relu-SGD-Hyperaparam1</a></strong> to <a href='https://wandb.ai/ketakishetye0619-iiit-hyderabad/SMAI-A2' target=\"_blank\">Weights & Biases</a> (<a href='https://wandb.me/developer-guide' target=\"_blank\">docs</a>)<br>"
      ],
      "text/plain": [
       "<IPython.core.display.HTML object>"
      ]
     },
     "metadata": {},
     "output_type": "display_data"
    },
    {
     "data": {
      "text/html": [
       " View project at <a href='https://wandb.ai/ketakishetye0619-iiit-hyderabad/SMAI-A2' target=\"_blank\">https://wandb.ai/ketakishetye0619-iiit-hyderabad/SMAI-A2</a>"
      ],
      "text/plain": [
       "<IPython.core.display.HTML object>"
      ]
     },
     "metadata": {},
     "output_type": "display_data"
    },
    {
     "data": {
      "text/html": [
       " View run at <a href='https://wandb.ai/ketakishetye0619-iiit-hyderabad/SMAI-A2/runs/3d0cfq1s' target=\"_blank\">https://wandb.ai/ketakishetye0619-iiit-hyderabad/SMAI-A2/runs/3d0cfq1s</a>"
      ],
      "text/plain": [
       "<IPython.core.display.HTML object>"
      ]
     },
     "metadata": {},
     "output_type": "display_data"
    },
    {
     "name": "stdout",
     "output_type": "stream",
     "text": [
      "Initialising model\n"
     ]
    },
    {
     "name": "stderr",
     "output_type": "stream",
     "text": [
      "Training Progress:   1%|          | 1/100 [00:03<05:23,  3.27s/it]"
     ]
    },
    {
     "name": "stdout",
     "output_type": "stream",
     "text": [
      "Epoch: 0,Loss:1795.485918645012\n",
      "Epoch: 0,Validation Loss:815.7801583926724\n"
     ]
    },
    {
     "name": "stderr",
     "output_type": "stream",
     "text": [
      "Training Progress:  10%|█         | 10/100 [00:33<05:03,  3.37s/it]"
     ]
    },
    {
     "name": "stdout",
     "output_type": "stream",
     "text": [
      "Epoch: 9,Train Loss:327.39517713665845\n",
      "Epoch: 9,Validation Loss:555.9512587338515\n"
     ]
    },
    {
     "name": "stderr",
     "output_type": "stream",
     "text": [
      "Training Progress:  20%|██        | 20/100 [01:06<04:21,  3.27s/it]"
     ]
    },
    {
     "name": "stdout",
     "output_type": "stream",
     "text": [
      "Epoch: 19,Train Loss:293.6453628310273\n",
      "Epoch: 19,Validation Loss:537.5744303781689\n"
     ]
    },
    {
     "name": "stderr",
     "output_type": "stream",
     "text": [
      "Training Progress:  30%|███       | 30/100 [01:38<03:43,  3.19s/it]"
     ]
    },
    {
     "name": "stdout",
     "output_type": "stream",
     "text": [
      "Epoch: 29,Train Loss:268.50230537949983\n",
      "Epoch: 29,Validation Loss:519.888840623259\n"
     ]
    },
    {
     "name": "stderr",
     "output_type": "stream",
     "text": [
      "Training Progress:  40%|████      | 40/100 [02:12<03:41,  3.69s/it]"
     ]
    },
    {
     "name": "stdout",
     "output_type": "stream",
     "text": [
      "Epoch: 39,Train Loss:257.42468118189123\n",
      "Epoch: 39,Validation Loss:488.14555679930777\n"
     ]
    },
    {
     "name": "stderr",
     "output_type": "stream",
     "text": [
      "Training Progress:  50%|█████     | 50/100 [02:46<02:46,  3.34s/it]"
     ]
    },
    {
     "name": "stdout",
     "output_type": "stream",
     "text": [
      "Epoch: 49,Train Loss:247.05983718635977\n",
      "Epoch: 49,Validation Loss:490.4340348612049\n"
     ]
    },
    {
     "name": "stderr",
     "output_type": "stream",
     "text": [
      "Training Progress:  60%|██████    | 60/100 [03:18<02:10,  3.25s/it]"
     ]
    },
    {
     "name": "stdout",
     "output_type": "stream",
     "text": [
      "Epoch: 59,Train Loss:238.9669894804888\n",
      "Epoch: 59,Validation Loss:485.0987527063038\n"
     ]
    },
    {
     "name": "stderr",
     "output_type": "stream",
     "text": [
      "Training Progress:  70%|███████   | 70/100 [03:51<01:37,  3.25s/it]"
     ]
    },
    {
     "name": "stdout",
     "output_type": "stream",
     "text": [
      "Epoch: 69,Train Loss:235.13073584466633\n",
      "Epoch: 69,Validation Loss:477.20468263062025\n"
     ]
    },
    {
     "name": "stderr",
     "output_type": "stream",
     "text": [
      "Training Progress:  80%|████████  | 80/100 [04:24<01:05,  3.27s/it]"
     ]
    },
    {
     "name": "stdout",
     "output_type": "stream",
     "text": [
      "Epoch: 79,Train Loss:229.68092445289818\n",
      "Epoch: 79,Validation Loss:474.4555396100761\n"
     ]
    },
    {
     "name": "stderr",
     "output_type": "stream",
     "text": [
      "Training Progress:  90%|█████████ | 90/100 [04:56<00:31,  3.14s/it]"
     ]
    },
    {
     "name": "stdout",
     "output_type": "stream",
     "text": [
      "Epoch: 89,Train Loss:224.23680979823467\n",
      "Epoch: 89,Validation Loss:470.17743772259\n"
     ]
    },
    {
     "name": "stderr",
     "output_type": "stream",
     "text": [
      "Training Progress: 100%|██████████| 100/100 [05:31<00:00,  3.32s/it]"
     ]
    },
    {
     "name": "stdout",
     "output_type": "stream",
     "text": [
      "Epoch: 99,Train Loss:221.1798097092855\n",
      "Epoch: 99,Validation Loss:481.42830102235433\n",
      "Final Test Loss 482.3488186335943\n",
      "Root Mean Squared Error (RMSE): 21.9624\n",
      "R-squared (R²): 0.6288\n"
     ]
    },
    {
     "name": "stderr",
     "output_type": "stream",
     "text": [
      "\n"
     ]
    },
    {
     "data": {
      "text/html": [],
      "text/plain": [
       "<IPython.core.display.HTML object>"
      ]
     },
     "metadata": {},
     "output_type": "display_data"
    },
    {
     "data": {
      "text/html": [
       "<br>    <style><br>        .wandb-row {<br>            display: flex;<br>            flex-direction: row;<br>            flex-wrap: wrap;<br>            justify-content: flex-start;<br>            width: 100%;<br>        }<br>        .wandb-col {<br>            display: flex;<br>            flex-direction: column;<br>            flex-basis: 100%;<br>            flex: 1;<br>            padding: 10px;<br>        }<br>    </style><br><div class=\"wandb-row\"><div class=\"wandb-col\"><h3>Run history:</h3><br/><table class=\"wandb\"><tr><td>Epoch</td><td>▁▁▁▁▁▂▂▂▂▃▃▃▃▃▄▄▄▄▄▅▅▅▅▅▅▆▆▆▆▆▆▆▆▇▇▇████</td></tr><tr><td>Train Loss</td><td>█▆▄▄▄▃▃▃▃▃▂▂▂▂▂▂▂▂▂▂▂▂▂▂▁▁▁▁▁▁▁▁▁▁▁▁▁▁▁▁</td></tr><tr><td>Validation Loss</td><td>█▇▆▅▅▄▃▃▃▃▃▂▂▃▂▂▃▂▂▂▂▂▂▂▂▂▂▂▂▂▁▁▁▁▁▁▁▁▁▁</td></tr></table><br/></div><div class=\"wandb-col\"><h3>Run summary:</h3><br/><table class=\"wandb\"><tr><td>Epoch</td><td>99</td></tr><tr><td>Train Loss</td><td>221.17981</td></tr><tr><td>Validation Loss</td><td>481.4283</td></tr></table><br/></div></div>"
      ],
      "text/plain": [
       "<IPython.core.display.HTML object>"
      ]
     },
     "metadata": {},
     "output_type": "display_data"
    },
    {
     "data": {
      "text/html": [
       " View run <strong style=\"color:#cdcd00\">2.2-Relu-SGD-Hyperaparam1</strong> at: <a href='https://wandb.ai/ketakishetye0619-iiit-hyderabad/SMAI-A2/runs/3d0cfq1s' target=\"_blank\">https://wandb.ai/ketakishetye0619-iiit-hyderabad/SMAI-A2/runs/3d0cfq1s</a><br> View project at: <a href='https://wandb.ai/ketakishetye0619-iiit-hyderabad/SMAI-A2' target=\"_blank\">https://wandb.ai/ketakishetye0619-iiit-hyderabad/SMAI-A2</a><br>Synced 5 W&B file(s), 0 media file(s), 0 artifact file(s) and 0 other file(s)"
      ],
      "text/plain": [
       "<IPython.core.display.HTML object>"
      ]
     },
     "metadata": {},
     "output_type": "display_data"
    },
    {
     "data": {
      "text/html": [
       "Find logs at: <code>.\\wandb\\run-20250315_154731-3d0cfq1s\\logs</code>"
      ],
      "text/plain": [
       "<IPython.core.display.HTML object>"
      ]
     },
     "metadata": {},
     "output_type": "display_data"
    }
   ],
   "source": [
    "wandb.init(project=\"SMAI-A2\", name=\"2.2-Relu-SGD-Hyperaparam1\")\n",
    "print(\"Initialising model\")\n",
    "model = MLP(input_dim, hidden_dim, output_dim,activation)   \n",
    "model.train(x_train_np,y_train_np,num_epochs,learning_rate,x_val_np,y_val_np,batch_size)\n",
    "y_pred_test=model.predict(x_test_np)\n",
    "test_loss=model.mse_loss(y_test_np,y_pred_test)\n",
    "print(f\"Final Test Loss {test_loss}\")\n",
    "test_rmse=model.rmse(test_loss)\n",
    "test_r2_score=model.r2_score(y_test_np,y_pred_test)\n",
    "wandb.finish()"
   ]
  },
  {
   "cell_type": "code",
   "execution_count": 14,
   "metadata": {},
   "outputs": [],
   "source": [
    "np.random.seed(42)\n",
    "input_dim=1105\n",
    "hidden_dim=64\n",
    "learning_rate=0.001\n",
    "num_epochs=100\n",
    "activation='relu'\n",
    "batch_size=128\n",
    "output_dim=1"
   ]
  },
  {
   "cell_type": "code",
   "execution_count": 15,
   "metadata": {},
   "outputs": [
    {
     "data": {
      "text/html": [
       "Tracking run with wandb version 0.19.8"
      ],
      "text/plain": [
       "<IPython.core.display.HTML object>"
      ]
     },
     "metadata": {},
     "output_type": "display_data"
    },
    {
     "data": {
      "text/html": [
       "Run data is saved locally in <code>d:\\SMAI\\Assignments\\A2\\wandb\\run-20250314_021505-g4cxyqph</code>"
      ],
      "text/plain": [
       "<IPython.core.display.HTML object>"
      ]
     },
     "metadata": {},
     "output_type": "display_data"
    },
    {
     "data": {
      "text/html": [
       "Syncing run <strong><a href='https://wandb.ai/ketakishetye0619-iiit-hyderabad/SMAI-A2/runs/g4cxyqph' target=\"_blank\">2.2-Relu-MBGD</a></strong> to <a href='https://wandb.ai/ketakishetye0619-iiit-hyderabad/SMAI-A2' target=\"_blank\">Weights & Biases</a> (<a href='https://wandb.me/developer-guide' target=\"_blank\">docs</a>)<br>"
      ],
      "text/plain": [
       "<IPython.core.display.HTML object>"
      ]
     },
     "metadata": {},
     "output_type": "display_data"
    },
    {
     "data": {
      "text/html": [
       " View project at <a href='https://wandb.ai/ketakishetye0619-iiit-hyderabad/SMAI-A2' target=\"_blank\">https://wandb.ai/ketakishetye0619-iiit-hyderabad/SMAI-A2</a>"
      ],
      "text/plain": [
       "<IPython.core.display.HTML object>"
      ]
     },
     "metadata": {},
     "output_type": "display_data"
    },
    {
     "data": {
      "text/html": [
       " View run at <a href='https://wandb.ai/ketakishetye0619-iiit-hyderabad/SMAI-A2/runs/g4cxyqph' target=\"_blank\">https://wandb.ai/ketakishetye0619-iiit-hyderabad/SMAI-A2/runs/g4cxyqph</a>"
      ],
      "text/plain": [
       "<IPython.core.display.HTML object>"
      ]
     },
     "metadata": {},
     "output_type": "display_data"
    },
    {
     "name": "stdout",
     "output_type": "stream",
     "text": [
      "Initialising model\n"
     ]
    },
    {
     "name": "stderr",
     "output_type": "stream",
     "text": [
      "Training Progress:   2%|▏         | 2/100 [00:00<00:17,  5.51it/s]"
     ]
    },
    {
     "name": "stdout",
     "output_type": "stream",
     "text": [
      "Epoch: 0,Loss:2417.762857684174\n",
      "Epoch: 0,Validation Loss:835.5742530720805\n"
     ]
    },
    {
     "name": "stderr",
     "output_type": "stream",
     "text": [
      "Training Progress:  11%|█         | 11/100 [00:01<00:15,  5.76it/s]"
     ]
    },
    {
     "name": "stdout",
     "output_type": "stream",
     "text": [
      "Epoch: 9,Train Loss:341.29496472724827\n",
      "Epoch: 9,Validation Loss:565.0293431673604\n"
     ]
    },
    {
     "name": "stderr",
     "output_type": "stream",
     "text": [
      "Training Progress:  21%|██        | 21/100 [00:03<00:13,  5.67it/s]"
     ]
    },
    {
     "name": "stdout",
     "output_type": "stream",
     "text": [
      "Epoch: 19,Train Loss:296.70836870130336\n",
      "Epoch: 19,Validation Loss:517.7591235427982\n"
     ]
    },
    {
     "name": "stderr",
     "output_type": "stream",
     "text": [
      "Training Progress:  30%|███       | 30/100 [00:05<00:14,  4.96it/s]"
     ]
    },
    {
     "name": "stdout",
     "output_type": "stream",
     "text": [
      "Epoch: 29,Train Loss:275.0184539319815\n",
      "Epoch: 29,Validation Loss:499.62159758143474\n"
     ]
    },
    {
     "name": "stderr",
     "output_type": "stream",
     "text": [
      "Training Progress:  40%|████      | 40/100 [00:07<00:12,  4.75it/s]"
     ]
    },
    {
     "name": "stdout",
     "output_type": "stream",
     "text": [
      "Epoch: 39,Train Loss:262.33055888380045\n",
      "Epoch: 39,Validation Loss:501.30283966640695\n"
     ]
    },
    {
     "name": "stderr",
     "output_type": "stream",
     "text": [
      "Training Progress:  50%|█████     | 50/100 [00:09<00:13,  3.79it/s]"
     ]
    },
    {
     "name": "stdout",
     "output_type": "stream",
     "text": [
      "Epoch: 49,Train Loss:253.10239103819632\n",
      "Epoch: 49,Validation Loss:486.28554669515296\n"
     ]
    },
    {
     "name": "stderr",
     "output_type": "stream",
     "text": [
      "Training Progress:  60%|██████    | 60/100 [00:12<00:10,  3.65it/s]"
     ]
    },
    {
     "name": "stdout",
     "output_type": "stream",
     "text": [
      "Epoch: 59,Train Loss:245.1662309846694\n",
      "Epoch: 59,Validation Loss:495.07545999597517\n"
     ]
    },
    {
     "name": "stderr",
     "output_type": "stream",
     "text": [
      "Training Progress:  70%|███████   | 70/100 [00:15<00:08,  3.51it/s]"
     ]
    },
    {
     "name": "stdout",
     "output_type": "stream",
     "text": [
      "Epoch: 69,Train Loss:238.36370086585228\n",
      "Epoch: 69,Validation Loss:489.5806785506641\n"
     ]
    },
    {
     "name": "stderr",
     "output_type": "stream",
     "text": [
      "Training Progress:  80%|████████  | 80/100 [00:18<00:04,  4.01it/s]"
     ]
    },
    {
     "name": "stdout",
     "output_type": "stream",
     "text": [
      "Epoch: 79,Train Loss:233.8475141865265\n",
      "Epoch: 79,Validation Loss:481.5844638537447\n"
     ]
    },
    {
     "name": "stderr",
     "output_type": "stream",
     "text": [
      "Training Progress:  90%|█████████ | 90/100 [00:20<00:02,  3.59it/s]"
     ]
    },
    {
     "name": "stdout",
     "output_type": "stream",
     "text": [
      "Epoch: 89,Train Loss:229.0542319365093\n",
      "Epoch: 89,Validation Loss:480.36760500618124\n"
     ]
    },
    {
     "name": "stderr",
     "output_type": "stream",
     "text": [
      "Training Progress: 100%|██████████| 100/100 [00:23<00:00,  4.27it/s]"
     ]
    },
    {
     "name": "stdout",
     "output_type": "stream",
     "text": [
      "Epoch: 99,Train Loss:223.63715865665745\n",
      "Epoch: 99,Validation Loss:479.1936860895274\n",
      "Final Test Loss 490.66772510070786\n",
      "Root Mean Squared Error (RMSE): 22.1510\n",
      "R-squared (R²): 0.6224\n"
     ]
    },
    {
     "name": "stderr",
     "output_type": "stream",
     "text": [
      "\n"
     ]
    },
    {
     "data": {
      "text/html": [],
      "text/plain": [
       "<IPython.core.display.HTML object>"
      ]
     },
     "metadata": {},
     "output_type": "display_data"
    },
    {
     "data": {
      "text/html": [
       "<br>    <style><br>        .wandb-row {<br>            display: flex;<br>            flex-direction: row;<br>            flex-wrap: wrap;<br>            justify-content: flex-start;<br>            width: 100%;<br>        }<br>        .wandb-col {<br>            display: flex;<br>            flex-direction: column;<br>            flex-basis: 100%;<br>            flex: 1;<br>            padding: 10px;<br>        }<br>    </style><br><div class=\"wandb-row\"><div class=\"wandb-col\"><h3>Run history:</h3><br/><table class=\"wandb\"><tr><td>Epoch</td><td>▁▁▁▂▂▂▃▃▃▃▃▃▃▄▄▄▄▄▄▄▅▅▅▅▅▆▆▆▆▆▆▇▇▇▇▇▇███</td></tr><tr><td>Train Loss</td><td>█▇▇▆▆▅▅▄▄▄▄▄▃▃▃▃▃▂▂▂▂▂▂▂▂▂▂▂▁▁▁▁▁▁▁▁▁▁▁▁</td></tr><tr><td>Validation Loss</td><td>█▄▄▃▃▂▂▂▂▂▂▂▂▂▂▂▂▁▂▂▁▁▁▁▁▁▁▁▁▁▁▁▁▁▁▁▁▁▁▁</td></tr></table><br/></div><div class=\"wandb-col\"><h3>Run summary:</h3><br/><table class=\"wandb\"><tr><td>Epoch</td><td>99</td></tr><tr><td>Train Loss</td><td>223.63716</td></tr><tr><td>Validation Loss</td><td>479.19369</td></tr></table><br/></div></div>"
      ],
      "text/plain": [
       "<IPython.core.display.HTML object>"
      ]
     },
     "metadata": {},
     "output_type": "display_data"
    },
    {
     "data": {
      "text/html": [
       " View run <strong style=\"color:#cdcd00\">2.2-Relu-MBGD</strong> at: <a href='https://wandb.ai/ketakishetye0619-iiit-hyderabad/SMAI-A2/runs/g4cxyqph' target=\"_blank\">https://wandb.ai/ketakishetye0619-iiit-hyderabad/SMAI-A2/runs/g4cxyqph</a><br> View project at: <a href='https://wandb.ai/ketakishetye0619-iiit-hyderabad/SMAI-A2' target=\"_blank\">https://wandb.ai/ketakishetye0619-iiit-hyderabad/SMAI-A2</a><br>Synced 5 W&B file(s), 0 media file(s), 0 artifact file(s) and 0 other file(s)"
      ],
      "text/plain": [
       "<IPython.core.display.HTML object>"
      ]
     },
     "metadata": {},
     "output_type": "display_data"
    },
    {
     "data": {
      "text/html": [
       "Find logs at: <code>.\\wandb\\run-20250314_021505-g4cxyqph\\logs</code>"
      ],
      "text/plain": [
       "<IPython.core.display.HTML object>"
      ]
     },
     "metadata": {},
     "output_type": "display_data"
    }
   ],
   "source": [
    "wandb.init(project=\"SMAI-A2\", name=\"2.2-Relu-MBGD\")\n",
    "print(\"Initialising model\")\n",
    "model = MLP(input_dim, hidden_dim, output_dim,activation)   \n",
    "model.train(x_train_np,y_train_np,num_epochs,learning_rate,x_val_np,y_val_np,batch_size)\n",
    "y_pred_test=model.predict(x_test_np)\n",
    "test_loss=model.mse_loss(y_test_np,y_pred_test)\n",
    "print(f\"Final Test Loss {test_loss}\")\n",
    "test_rmse=model.rmse(test_loss)\n",
    "test_r2_score=model.r2_score(y_test_np,y_pred_test)\n",
    "wandb.finish()"
   ]
  },
  {
   "cell_type": "code",
   "execution_count": 16,
   "metadata": {},
   "outputs": [],
   "source": [
    "np.random.seed(42)\n",
    "input_dim=1105\n",
    "hidden_dim=128\n",
    "learning_rate=0.001\n",
    "num_epochs=100\n",
    "activation='relu'\n",
    "batch_size=128\n",
    "output_dim=1"
   ]
  },
  {
   "cell_type": "code",
   "execution_count": 17,
   "metadata": {},
   "outputs": [
    {
     "data": {
      "text/html": [
       "Tracking run with wandb version 0.19.8"
      ],
      "text/plain": [
       "<IPython.core.display.HTML object>"
      ]
     },
     "metadata": {},
     "output_type": "display_data"
    },
    {
     "data": {
      "text/html": [
       "Run data is saved locally in <code>d:\\SMAI\\Assignments\\A2\\wandb\\run-20250315_155306-8onfftl0</code>"
      ],
      "text/plain": [
       "<IPython.core.display.HTML object>"
      ]
     },
     "metadata": {},
     "output_type": "display_data"
    },
    {
     "data": {
      "text/html": [
       "Syncing run <strong><a href='https://wandb.ai/ketakishetye0619-iiit-hyderabad/SMAI-A2/runs/8onfftl0' target=\"_blank\">2.2-Relu-MBGD-Hyperparam1</a></strong> to <a href='https://wandb.ai/ketakishetye0619-iiit-hyderabad/SMAI-A2' target=\"_blank\">Weights & Biases</a> (<a href='https://wandb.me/developer-guide' target=\"_blank\">docs</a>)<br>"
      ],
      "text/plain": [
       "<IPython.core.display.HTML object>"
      ]
     },
     "metadata": {},
     "output_type": "display_data"
    },
    {
     "data": {
      "text/html": [
       " View project at <a href='https://wandb.ai/ketakishetye0619-iiit-hyderabad/SMAI-A2' target=\"_blank\">https://wandb.ai/ketakishetye0619-iiit-hyderabad/SMAI-A2</a>"
      ],
      "text/plain": [
       "<IPython.core.display.HTML object>"
      ]
     },
     "metadata": {},
     "output_type": "display_data"
    },
    {
     "data": {
      "text/html": [
       " View run at <a href='https://wandb.ai/ketakishetye0619-iiit-hyderabad/SMAI-A2/runs/8onfftl0' target=\"_blank\">https://wandb.ai/ketakishetye0619-iiit-hyderabad/SMAI-A2/runs/8onfftl0</a>"
      ],
      "text/plain": [
       "<IPython.core.display.HTML object>"
      ]
     },
     "metadata": {},
     "output_type": "display_data"
    },
    {
     "name": "stdout",
     "output_type": "stream",
     "text": [
      "Initialising model\n"
     ]
    },
    {
     "name": "stderr",
     "output_type": "stream",
     "text": [
      "Training Progress:   1%|          | 1/100 [00:00<00:23,  4.18it/s]"
     ]
    },
    {
     "name": "stdout",
     "output_type": "stream",
     "text": [
      "Epoch: 0,Loss:2143.3393095304805\n",
      "Epoch: 0,Validation Loss:805.5705431368513\n"
     ]
    },
    {
     "name": "stderr",
     "output_type": "stream",
     "text": [
      "Training Progress:  10%|█         | 10/100 [00:02<00:24,  3.65it/s]"
     ]
    },
    {
     "name": "stdout",
     "output_type": "stream",
     "text": [
      "Epoch: 9,Train Loss:329.3720895166955\n",
      "Epoch: 9,Validation Loss:564.2607539425983\n"
     ]
    },
    {
     "name": "stderr",
     "output_type": "stream",
     "text": [
      "Training Progress:  20%|██        | 20/100 [00:05<00:22,  3.57it/s]"
     ]
    },
    {
     "name": "stdout",
     "output_type": "stream",
     "text": [
      "Epoch: 19,Train Loss:296.905996461944\n",
      "Epoch: 19,Validation Loss:540.1071727043984\n"
     ]
    },
    {
     "name": "stderr",
     "output_type": "stream",
     "text": [
      "Training Progress:  30%|███       | 30/100 [00:08<00:19,  3.64it/s]"
     ]
    },
    {
     "name": "stdout",
     "output_type": "stream",
     "text": [
      "Epoch: 29,Train Loss:273.0036170016344\n",
      "Epoch: 29,Validation Loss:517.2574197123752\n"
     ]
    },
    {
     "name": "stderr",
     "output_type": "stream",
     "text": [
      "Training Progress:  40%|████      | 40/100 [00:10<00:15,  3.80it/s]"
     ]
    },
    {
     "name": "stdout",
     "output_type": "stream",
     "text": [
      "Epoch: 39,Train Loss:259.68630061392383\n",
      "Epoch: 39,Validation Loss:489.7645931551594\n"
     ]
    },
    {
     "name": "stderr",
     "output_type": "stream",
     "text": [
      "Training Progress:  50%|█████     | 50/100 [00:13<00:13,  3.58it/s]"
     ]
    },
    {
     "name": "stdout",
     "output_type": "stream",
     "text": [
      "Epoch: 49,Train Loss:248.76008407654558\n",
      "Epoch: 49,Validation Loss:490.31948463141333\n"
     ]
    },
    {
     "name": "stderr",
     "output_type": "stream",
     "text": [
      "Training Progress:  60%|██████    | 60/100 [00:16<00:11,  3.55it/s]"
     ]
    },
    {
     "name": "stdout",
     "output_type": "stream",
     "text": [
      "Epoch: 59,Train Loss:240.7220629043769\n",
      "Epoch: 59,Validation Loss:482.2848999892989\n"
     ]
    },
    {
     "name": "stderr",
     "output_type": "stream",
     "text": [
      "Training Progress:  70%|███████   | 70/100 [00:19<00:07,  3.78it/s]"
     ]
    },
    {
     "name": "stdout",
     "output_type": "stream",
     "text": [
      "Epoch: 69,Train Loss:235.31510284239502\n",
      "Epoch: 69,Validation Loss:476.1820130507823\n"
     ]
    },
    {
     "name": "stderr",
     "output_type": "stream",
     "text": [
      "Training Progress:  80%|████████  | 80/100 [00:21<00:05,  3.73it/s]"
     ]
    },
    {
     "name": "stdout",
     "output_type": "stream",
     "text": [
      "Epoch: 79,Train Loss:230.3814982405071\n",
      "Epoch: 79,Validation Loss:476.07335360754786\n"
     ]
    },
    {
     "name": "stderr",
     "output_type": "stream",
     "text": [
      "Training Progress:  90%|█████████ | 90/100 [00:24<00:02,  3.77it/s]"
     ]
    },
    {
     "name": "stdout",
     "output_type": "stream",
     "text": [
      "Epoch: 89,Train Loss:225.14375540382483\n",
      "Epoch: 89,Validation Loss:469.7772053696097\n"
     ]
    },
    {
     "name": "stderr",
     "output_type": "stream",
     "text": [
      "Training Progress: 100%|██████████| 100/100 [00:27<00:00,  3.67it/s]"
     ]
    },
    {
     "name": "stdout",
     "output_type": "stream",
     "text": [
      "Epoch: 99,Train Loss:221.91564023083387\n",
      "Epoch: 99,Validation Loss:477.45115208088816\n",
      "Final Test Loss 487.2078417238971\n",
      "Root Mean Squared Error (RMSE): 22.0728\n",
      "R-squared (R²): 0.6251\n"
     ]
    },
    {
     "name": "stderr",
     "output_type": "stream",
     "text": [
      "\n"
     ]
    },
    {
     "data": {
      "text/html": [],
      "text/plain": [
       "<IPython.core.display.HTML object>"
      ]
     },
     "metadata": {},
     "output_type": "display_data"
    },
    {
     "data": {
      "text/html": [
       "<br>    <style><br>        .wandb-row {<br>            display: flex;<br>            flex-direction: row;<br>            flex-wrap: wrap;<br>            justify-content: flex-start;<br>            width: 100%;<br>        }<br>        .wandb-col {<br>            display: flex;<br>            flex-direction: column;<br>            flex-basis: 100%;<br>            flex: 1;<br>            padding: 10px;<br>        }<br>    </style><br><div class=\"wandb-row\"><div class=\"wandb-col\"><h3>Run history:</h3><br/><table class=\"wandb\"><tr><td>Epoch</td><td>▁▁▁▁▁▂▂▂▂▂▃▃▃▃▃▃▄▄▄▄▄▅▅▅▅▅▅▅▅▆▆▆▆▆▇▇▇███</td></tr><tr><td>Train Loss</td><td>█▂▂▂▁▁▁▁▁▁▁▁▁▁▁▁▁▁▁▁▁▁▁▁▁▁▁▁▁▁▁▁▁▁▁▁▁▁▁▁</td></tr><tr><td>Validation Loss</td><td>██▇▆▅▃▄▃▃▃▃▃▂▂▃▂▃▃▂▂▂▂▃▂▂▁▁▁▁▁▂▁▁▂▁▁▁▁▁▁</td></tr></table><br/></div><div class=\"wandb-col\"><h3>Run summary:</h3><br/><table class=\"wandb\"><tr><td>Epoch</td><td>99</td></tr><tr><td>Train Loss</td><td>221.91564</td></tr><tr><td>Validation Loss</td><td>477.45115</td></tr></table><br/></div></div>"
      ],
      "text/plain": [
       "<IPython.core.display.HTML object>"
      ]
     },
     "metadata": {},
     "output_type": "display_data"
    },
    {
     "data": {
      "text/html": [
       " View run <strong style=\"color:#cdcd00\">2.2-Relu-MBGD-Hyperparam1</strong> at: <a href='https://wandb.ai/ketakishetye0619-iiit-hyderabad/SMAI-A2/runs/8onfftl0' target=\"_blank\">https://wandb.ai/ketakishetye0619-iiit-hyderabad/SMAI-A2/runs/8onfftl0</a><br> View project at: <a href='https://wandb.ai/ketakishetye0619-iiit-hyderabad/SMAI-A2' target=\"_blank\">https://wandb.ai/ketakishetye0619-iiit-hyderabad/SMAI-A2</a><br>Synced 5 W&B file(s), 0 media file(s), 0 artifact file(s) and 0 other file(s)"
      ],
      "text/plain": [
       "<IPython.core.display.HTML object>"
      ]
     },
     "metadata": {},
     "output_type": "display_data"
    },
    {
     "data": {
      "text/html": [
       "Find logs at: <code>.\\wandb\\run-20250315_155306-8onfftl0\\logs</code>"
      ],
      "text/plain": [
       "<IPython.core.display.HTML object>"
      ]
     },
     "metadata": {},
     "output_type": "display_data"
    }
   ],
   "source": [
    "wandb.init(project=\"SMAI-A2\", name=\"2.2-Relu-MBGD-Hyperparam1\")\n",
    "print(\"Initialising model\")\n",
    "model = MLP(input_dim, hidden_dim, output_dim,activation)   \n",
    "model.train(x_train_np,y_train_np,num_epochs,learning_rate,x_val_np,y_val_np,batch_size)\n",
    "y_pred_test=model.predict(x_test_np)\n",
    "test_loss=model.mse_loss(y_test_np,y_pred_test)\n",
    "print(f\"Final Test Loss {test_loss}\")\n",
    "test_rmse=model.rmse(test_loss)\n",
    "test_r2_score=model.r2_score(y_test_np,y_pred_test)\n",
    "wandb.finish()"
   ]
  },
  {
   "cell_type": "code",
   "execution_count": 26,
   "metadata": {},
   "outputs": [],
   "source": [
    "np.random.seed(42)\n",
    "input_dim=1105\n",
    "hidden_dim=64\n",
    "learning_rate=0.001\n",
    "num_epochs=100\n",
    "activation='relu'\n",
    "batch_size=128\n",
    "output_dim=1"
   ]
  },
  {
   "cell_type": "code",
   "execution_count": 27,
   "metadata": {},
   "outputs": [
    {
     "data": {
      "text/html": [
       "Tracking run with wandb version 0.19.8"
      ],
      "text/plain": [
       "<IPython.core.display.HTML object>"
      ]
     },
     "metadata": {},
     "output_type": "display_data"
    },
    {
     "data": {
      "text/html": [
       "Run data is saved locally in <code>d:\\SMAI\\Assignments\\A2\\wandb\\run-20250315_165915-t63xmyrd</code>"
      ],
      "text/plain": [
       "<IPython.core.display.HTML object>"
      ]
     },
     "metadata": {},
     "output_type": "display_data"
    },
    {
     "data": {
      "text/html": [
       "Syncing run <strong><a href='https://wandb.ai/ketakishetye0619-iiit-hyderabad/SMAI-A2/runs/t63xmyrd' target=\"_blank\">2.2-Relu-MBGD-Hyperparam2</a></strong> to <a href='https://wandb.ai/ketakishetye0619-iiit-hyderabad/SMAI-A2' target=\"_blank\">Weights & Biases</a> (<a href='https://wandb.me/developer-guide' target=\"_blank\">docs</a>)<br>"
      ],
      "text/plain": [
       "<IPython.core.display.HTML object>"
      ]
     },
     "metadata": {},
     "output_type": "display_data"
    },
    {
     "data": {
      "text/html": [
       " View project at <a href='https://wandb.ai/ketakishetye0619-iiit-hyderabad/SMAI-A2' target=\"_blank\">https://wandb.ai/ketakishetye0619-iiit-hyderabad/SMAI-A2</a>"
      ],
      "text/plain": [
       "<IPython.core.display.HTML object>"
      ]
     },
     "metadata": {},
     "output_type": "display_data"
    },
    {
     "data": {
      "text/html": [
       " View run at <a href='https://wandb.ai/ketakishetye0619-iiit-hyderabad/SMAI-A2/runs/t63xmyrd' target=\"_blank\">https://wandb.ai/ketakishetye0619-iiit-hyderabad/SMAI-A2/runs/t63xmyrd</a>"
      ],
      "text/plain": [
       "<IPython.core.display.HTML object>"
      ]
     },
     "metadata": {},
     "output_type": "display_data"
    },
    {
     "name": "stdout",
     "output_type": "stream",
     "text": [
      "Initialising model\n"
     ]
    },
    {
     "name": "stderr",
     "output_type": "stream",
     "text": [
      "Training Progress:   1%|          | 1/100 [00:00<00:13,  7.21it/s]"
     ]
    },
    {
     "name": "stdout",
     "output_type": "stream",
     "text": [
      "Epoch: 0,Loss:2417.762857684174\n",
      "Epoch: 0,Validation Loss:835.5742530720805\n"
     ]
    },
    {
     "name": "stderr",
     "output_type": "stream",
     "text": [
      "Training Progress:  11%|█         | 11/100 [00:01<00:13,  6.75it/s]"
     ]
    },
    {
     "name": "stdout",
     "output_type": "stream",
     "text": [
      "Epoch: 9,Train Loss:341.29496472724827\n",
      "Epoch: 9,Validation Loss:565.0293431673604\n"
     ]
    },
    {
     "name": "stderr",
     "output_type": "stream",
     "text": [
      "Training Progress:  21%|██        | 21/100 [00:03<00:12,  6.27it/s]"
     ]
    },
    {
     "name": "stdout",
     "output_type": "stream",
     "text": [
      "Epoch: 19,Train Loss:296.70836870130336\n",
      "Epoch: 19,Validation Loss:517.7591235427982\n"
     ]
    },
    {
     "name": "stderr",
     "output_type": "stream",
     "text": [
      "Training Progress:  31%|███       | 31/100 [00:04<00:11,  6.09it/s]"
     ]
    },
    {
     "name": "stdout",
     "output_type": "stream",
     "text": [
      "Epoch: 29,Train Loss:275.0184539319815\n",
      "Epoch: 29,Validation Loss:499.62159758143474\n"
     ]
    },
    {
     "name": "stderr",
     "output_type": "stream",
     "text": [
      "Training Progress:  41%|████      | 41/100 [00:06<00:09,  6.00it/s]"
     ]
    },
    {
     "name": "stdout",
     "output_type": "stream",
     "text": [
      "Epoch: 39,Train Loss:262.33055888380045\n",
      "Epoch: 39,Validation Loss:501.30283966640695\n"
     ]
    },
    {
     "name": "stderr",
     "output_type": "stream",
     "text": [
      "Training Progress:  51%|█████     | 51/100 [00:08<00:08,  5.80it/s]"
     ]
    },
    {
     "name": "stdout",
     "output_type": "stream",
     "text": [
      "Epoch: 49,Train Loss:253.10239103819632\n",
      "Epoch: 49,Validation Loss:486.28554669515296\n"
     ]
    },
    {
     "name": "stderr",
     "output_type": "stream",
     "text": [
      "Training Progress:  61%|██████    | 61/100 [00:09<00:05,  6.66it/s]"
     ]
    },
    {
     "name": "stdout",
     "output_type": "stream",
     "text": [
      "Epoch: 59,Train Loss:245.1662309846694\n",
      "Epoch: 59,Validation Loss:495.07545999597517\n"
     ]
    },
    {
     "name": "stderr",
     "output_type": "stream",
     "text": [
      "Training Progress:  70%|███████   | 70/100 [00:11<00:04,  6.57it/s]"
     ]
    },
    {
     "name": "stdout",
     "output_type": "stream",
     "text": [
      "Epoch: 69,Train Loss:238.36370086585228\n",
      "Epoch: 69,Validation Loss:489.5806785506641\n"
     ]
    },
    {
     "name": "stderr",
     "output_type": "stream",
     "text": [
      "Training Progress:  81%|████████  | 81/100 [00:13<00:03,  5.95it/s]"
     ]
    },
    {
     "name": "stdout",
     "output_type": "stream",
     "text": [
      "Epoch: 79,Train Loss:233.8475141865265\n",
      "Epoch: 79,Validation Loss:481.5844638537447\n"
     ]
    },
    {
     "name": "stderr",
     "output_type": "stream",
     "text": [
      "Training Progress:  90%|█████████ | 90/100 [00:14<00:01,  5.55it/s]"
     ]
    },
    {
     "name": "stdout",
     "output_type": "stream",
     "text": [
      "Epoch: 89,Train Loss:229.0542319365093\n",
      "Epoch: 89,Validation Loss:480.36760500618124\n"
     ]
    },
    {
     "name": "stderr",
     "output_type": "stream",
     "text": [
      "Training Progress: 100%|██████████| 100/100 [00:16<00:00,  6.09it/s]"
     ]
    },
    {
     "name": "stdout",
     "output_type": "stream",
     "text": [
      "Epoch: 99,Train Loss:223.63715865665745\n",
      "Epoch: 99,Validation Loss:479.1936860895274\n",
      "Final Test Loss 490.66772510070786\n",
      "Root Mean Squared Error (RMSE): 22.1510\n",
      "R-squared (R²): 0.6224\n"
     ]
    },
    {
     "name": "stderr",
     "output_type": "stream",
     "text": [
      "\n"
     ]
    },
    {
     "data": {
      "text/html": [],
      "text/plain": [
       "<IPython.core.display.HTML object>"
      ]
     },
     "metadata": {},
     "output_type": "display_data"
    },
    {
     "data": {
      "text/html": [
       "<br>    <style><br>        .wandb-row {<br>            display: flex;<br>            flex-direction: row;<br>            flex-wrap: wrap;<br>            justify-content: flex-start;<br>            width: 100%;<br>        }<br>        .wandb-col {<br>            display: flex;<br>            flex-direction: column;<br>            flex-basis: 100%;<br>            flex: 1;<br>            padding: 10px;<br>        }<br>    </style><br><div class=\"wandb-row\"><div class=\"wandb-col\"><h3>Run history:</h3><br/><table class=\"wandb\"><tr><td>Epoch</td><td>▁▁▁▁▁▂▂▂▃▃▃▄▄▄▄▄▄▅▅▅▅▅▅▅▅▆▆▆▆▆▇▇▇▇▇▇████</td></tr><tr><td>Train Loss</td><td>█▂▂▁▁▁▁▁▁▁▁▁▁▁▁▁▁▁▁▁▁▁▁▁▁▁▁▁▁▁▁▁▁▁▁▁▁▁▁▁</td></tr><tr><td>Validation Loss</td><td>█▇▇▅▆▅▄▄▃▃▂▃▃▃▃▂▂▂▂▂▂▂▂▂▁▂▁▂▂▂▂▂▁▁▁▁▁▁▁▁</td></tr></table><br/></div><div class=\"wandb-col\"><h3>Run summary:</h3><br/><table class=\"wandb\"><tr><td>Epoch</td><td>99</td></tr><tr><td>Train Loss</td><td>223.63716</td></tr><tr><td>Validation Loss</td><td>479.19369</td></tr></table><br/></div></div>"
      ],
      "text/plain": [
       "<IPython.core.display.HTML object>"
      ]
     },
     "metadata": {},
     "output_type": "display_data"
    },
    {
     "data": {
      "text/html": [
       " View run <strong style=\"color:#cdcd00\">2.2-Relu-MBGD-Hyperparam2</strong> at: <a href='https://wandb.ai/ketakishetye0619-iiit-hyderabad/SMAI-A2/runs/t63xmyrd' target=\"_blank\">https://wandb.ai/ketakishetye0619-iiit-hyderabad/SMAI-A2/runs/t63xmyrd</a><br> View project at: <a href='https://wandb.ai/ketakishetye0619-iiit-hyderabad/SMAI-A2' target=\"_blank\">https://wandb.ai/ketakishetye0619-iiit-hyderabad/SMAI-A2</a><br>Synced 5 W&B file(s), 0 media file(s), 0 artifact file(s) and 0 other file(s)"
      ],
      "text/plain": [
       "<IPython.core.display.HTML object>"
      ]
     },
     "metadata": {},
     "output_type": "display_data"
    },
    {
     "data": {
      "text/html": [
       "Find logs at: <code>.\\wandb\\run-20250315_165915-t63xmyrd\\logs</code>"
      ],
      "text/plain": [
       "<IPython.core.display.HTML object>"
      ]
     },
     "metadata": {},
     "output_type": "display_data"
    }
   ],
   "source": [
    "wandb.init(project=\"SMAI-A2\", name=\"2.2-Relu-MBGD-Hyperparam2\")\n",
    "print(\"Initialising model\")\n",
    "model = MLP(input_dim, hidden_dim, output_dim,activation)   \n",
    "model.train(x_train_np,y_train_np,num_epochs,learning_rate,x_val_np,y_val_np,batch_size)\n",
    "y_pred_test=model.predict(x_test_np)\n",
    "test_loss=model.mse_loss(y_test_np,y_pred_test)\n",
    "print(f\"Final Test Loss {test_loss}\")\n",
    "test_rmse=model.rmse(test_loss)\n",
    "test_r2_score=model.r2_score(y_test_np,y_pred_test)\n",
    "wandb.finish()"
   ]
  },
  {
   "cell_type": "markdown",
   "metadata": {},
   "source": [
    "### Tanh"
   ]
  },
  {
   "cell_type": "code",
   "execution_count": 11,
   "metadata": {},
   "outputs": [],
   "source": [
    "np.random.seed(42)\n",
    "input_dim=1105\n",
    "hidden_dim=64\n",
    "learning_rate=0.01\n",
    "num_epochs=100\n",
    "activation='tanh'\n",
    "batch_size=None\n",
    "output_dim=1"
   ]
  },
  {
   "cell_type": "code",
   "execution_count": 12,
   "metadata": {},
   "outputs": [
    {
     "name": "stderr",
     "output_type": "stream",
     "text": [
      "\u001b[34m\u001b[1mwandb\u001b[0m: Using wandb-core as the SDK backend.  Please refer to https://wandb.me/wandb-core for more information.\n"
     ]
    },
    {
     "name": "stderr",
     "output_type": "stream",
     "text": [
      "\u001b[34m\u001b[1mwandb\u001b[0m: Currently logged in as: \u001b[33mketakishetye0619\u001b[0m (\u001b[33mketakishetye0619-iiit-hyderabad\u001b[0m) to \u001b[32mhttps://api.wandb.ai\u001b[0m. Use \u001b[1m`wandb login --relogin`\u001b[0m to force relogin\n"
     ]
    },
    {
     "data": {
      "text/html": [
       "Tracking run with wandb version 0.19.8"
      ],
      "text/plain": [
       "<IPython.core.display.HTML object>"
      ]
     },
     "metadata": {},
     "output_type": "display_data"
    },
    {
     "data": {
      "text/html": [
       "Run data is saved locally in <code>d:\\SMAI\\Assignments\\A2\\wandb\\run-20250315_153023-1xrhn6rp</code>"
      ],
      "text/plain": [
       "<IPython.core.display.HTML object>"
      ]
     },
     "metadata": {},
     "output_type": "display_data"
    },
    {
     "data": {
      "text/html": [
       "Syncing run <strong><a href='https://wandb.ai/ketakishetye0619-iiit-hyderabad/SMAI-A2/runs/1xrhn6rp' target=\"_blank\">2.2-Tanh-BGD</a></strong> to <a href='https://wandb.ai/ketakishetye0619-iiit-hyderabad/SMAI-A2' target=\"_blank\">Weights & Biases</a> (<a href='https://wandb.me/developer-guide' target=\"_blank\">docs</a>)<br>"
      ],
      "text/plain": [
       "<IPython.core.display.HTML object>"
      ]
     },
     "metadata": {},
     "output_type": "display_data"
    },
    {
     "data": {
      "text/html": [
       " View project at <a href='https://wandb.ai/ketakishetye0619-iiit-hyderabad/SMAI-A2' target=\"_blank\">https://wandb.ai/ketakishetye0619-iiit-hyderabad/SMAI-A2</a>"
      ],
      "text/plain": [
       "<IPython.core.display.HTML object>"
      ]
     },
     "metadata": {},
     "output_type": "display_data"
    },
    {
     "data": {
      "text/html": [
       " View run at <a href='https://wandb.ai/ketakishetye0619-iiit-hyderabad/SMAI-A2/runs/1xrhn6rp' target=\"_blank\">https://wandb.ai/ketakishetye0619-iiit-hyderabad/SMAI-A2/runs/1xrhn6rp</a>"
      ],
      "text/plain": [
       "<IPython.core.display.HTML object>"
      ]
     },
     "metadata": {},
     "output_type": "display_data"
    },
    {
     "name": "stdout",
     "output_type": "stream",
     "text": [
      "Initialising model\n"
     ]
    },
    {
     "name": "stderr",
     "output_type": "stream",
     "text": [
      "Training Progress:   1%|          | 1/100 [00:00<00:14,  6.79it/s]"
     ]
    },
    {
     "name": "stdout",
     "output_type": "stream",
     "text": [
      "Epoch: 0,Loss:6603.091082371151\n",
      "Epoch: 0,Validation Loss:6688.612798192135\n"
     ]
    },
    {
     "name": "stderr",
     "output_type": "stream",
     "text": [
      "Training Progress:  11%|█         | 11/100 [00:01<00:12,  7.32it/s]"
     ]
    },
    {
     "name": "stdout",
     "output_type": "stream",
     "text": [
      "Epoch: 9,Train Loss:1462.9889224388005\n",
      "Epoch: 9,Validation Loss:1455.7090305659049\n"
     ]
    },
    {
     "name": "stderr",
     "output_type": "stream",
     "text": [
      "Training Progress:  21%|██        | 21/100 [00:02<00:10,  7.24it/s]"
     ]
    },
    {
     "name": "stdout",
     "output_type": "stream",
     "text": [
      "Epoch: 19,Train Loss:657.1812528672407\n",
      "Epoch: 19,Validation Loss:863.2826004269482\n"
     ]
    },
    {
     "name": "stderr",
     "output_type": "stream",
     "text": [
      "Training Progress:  31%|███       | 31/100 [00:04<00:09,  7.52it/s]"
     ]
    },
    {
     "name": "stdout",
     "output_type": "stream",
     "text": [
      "Epoch: 29,Train Loss:494.49401882628194\n",
      "Epoch: 29,Validation Loss:707.9971197443837\n"
     ]
    },
    {
     "name": "stderr",
     "output_type": "stream",
     "text": [
      "Training Progress:  41%|████      | 41/100 [00:05<00:07,  7.67it/s]"
     ]
    },
    {
     "name": "stdout",
     "output_type": "stream",
     "text": [
      "Epoch: 39,Train Loss:410.4630409181572\n",
      "Epoch: 39,Validation Loss:634.3467220733556\n"
     ]
    },
    {
     "name": "stderr",
     "output_type": "stream",
     "text": [
      "Training Progress:  51%|█████     | 51/100 [00:06<00:06,  7.62it/s]"
     ]
    },
    {
     "name": "stdout",
     "output_type": "stream",
     "text": [
      "Epoch: 49,Train Loss:353.95643237073654\n",
      "Epoch: 49,Validation Loss:592.9425071980912\n"
     ]
    },
    {
     "name": "stderr",
     "output_type": "stream",
     "text": [
      "Training Progress:  61%|██████    | 61/100 [00:08<00:05,  7.05it/s]"
     ]
    },
    {
     "name": "stdout",
     "output_type": "stream",
     "text": [
      "Epoch: 59,Train Loss:313.6650401949439\n",
      "Epoch: 59,Validation Loss:565.2916679306896\n"
     ]
    },
    {
     "name": "stderr",
     "output_type": "stream",
     "text": [
      "Training Progress:  71%|███████   | 71/100 [00:09<00:03,  7.77it/s]"
     ]
    },
    {
     "name": "stdout",
     "output_type": "stream",
     "text": [
      "Epoch: 69,Train Loss:284.4303569390463\n",
      "Epoch: 69,Validation Loss:546.2352969959067\n"
     ]
    },
    {
     "name": "stderr",
     "output_type": "stream",
     "text": [
      "Training Progress:  81%|████████  | 81/100 [00:10<00:02,  7.52it/s]"
     ]
    },
    {
     "name": "stdout",
     "output_type": "stream",
     "text": [
      "Epoch: 79,Train Loss:261.50836423707193\n",
      "Epoch: 79,Validation Loss:531.4791785334536\n"
     ]
    },
    {
     "name": "stderr",
     "output_type": "stream",
     "text": [
      "Training Progress:  91%|█████████ | 91/100 [00:12<00:01,  6.94it/s]"
     ]
    },
    {
     "name": "stdout",
     "output_type": "stream",
     "text": [
      "Epoch: 89,Train Loss:242.60016466512107\n",
      "Epoch: 89,Validation Loss:521.0450499208754\n"
     ]
    },
    {
     "name": "stderr",
     "output_type": "stream",
     "text": [
      "Training Progress: 100%|██████████| 100/100 [00:13<00:00,  7.45it/s]"
     ]
    },
    {
     "name": "stdout",
     "output_type": "stream",
     "text": [
      "Epoch: 99,Train Loss:227.73651735496512\n",
      "Epoch: 99,Validation Loss:511.83416699893934\n",
      "Final Test Loss 499.96647936450387\n",
      "Root Mean Squared Error (RMSE): 22.3599\n",
      "R-squared (R²): 0.6153\n"
     ]
    },
    {
     "name": "stderr",
     "output_type": "stream",
     "text": [
      "\n"
     ]
    },
    {
     "data": {
      "text/html": [],
      "text/plain": [
       "<IPython.core.display.HTML object>"
      ]
     },
     "metadata": {},
     "output_type": "display_data"
    },
    {
     "data": {
      "text/html": [
       "<br>    <style><br>        .wandb-row {<br>            display: flex;<br>            flex-direction: row;<br>            flex-wrap: wrap;<br>            justify-content: flex-start;<br>            width: 100%;<br>        }<br>        .wandb-col {<br>            display: flex;<br>            flex-direction: column;<br>            flex-basis: 100%;<br>            flex: 1;<br>            padding: 10px;<br>        }<br>    </style><br><div class=\"wandb-row\"><div class=\"wandb-col\"><h3>Run history:</h3><br/><table class=\"wandb\"><tr><td>Epoch</td><td>▁▁▁▁▂▂▂▂▂▂▃▃▃▃▃▃▄▄▄▄▄▄▅▅▅▆▆▆▆▆▆▇▇▇▇▇▇███</td></tr><tr><td>Train Loss</td><td>█▆▃▂▂▂▂▂▁▁▁▁▁▁▁▁▁▁▁▁▁▁▁▁▁▁▁▁▁▁▁▁▁▁▁▁▁▁▁▁</td></tr><tr><td>Validation Loss</td><td>█▅▂▂▂▁▁▁▁▁▁▁▁▁▁▁▁▁▁▁▁▁▁▁▁▁▁▁▁▁▁▁▁▁▁▁▁▁▁▁</td></tr></table><br/></div><div class=\"wandb-col\"><h3>Run summary:</h3><br/><table class=\"wandb\"><tr><td>Epoch</td><td>99</td></tr><tr><td>Train Loss</td><td>227.73652</td></tr><tr><td>Validation Loss</td><td>511.83417</td></tr></table><br/></div></div>"
      ],
      "text/plain": [
       "<IPython.core.display.HTML object>"
      ]
     },
     "metadata": {},
     "output_type": "display_data"
    },
    {
     "data": {
      "text/html": [
       " View run <strong style=\"color:#cdcd00\">2.2-Tanh-BGD</strong> at: <a href='https://wandb.ai/ketakishetye0619-iiit-hyderabad/SMAI-A2/runs/1xrhn6rp' target=\"_blank\">https://wandb.ai/ketakishetye0619-iiit-hyderabad/SMAI-A2/runs/1xrhn6rp</a><br> View project at: <a href='https://wandb.ai/ketakishetye0619-iiit-hyderabad/SMAI-A2' target=\"_blank\">https://wandb.ai/ketakishetye0619-iiit-hyderabad/SMAI-A2</a><br>Synced 5 W&B file(s), 0 media file(s), 0 artifact file(s) and 0 other file(s)"
      ],
      "text/plain": [
       "<IPython.core.display.HTML object>"
      ]
     },
     "metadata": {},
     "output_type": "display_data"
    },
    {
     "data": {
      "text/html": [
       "Find logs at: <code>.\\wandb\\run-20250315_153023-1xrhn6rp\\logs</code>"
      ],
      "text/plain": [
       "<IPython.core.display.HTML object>"
      ]
     },
     "metadata": {},
     "output_type": "display_data"
    }
   ],
   "source": [
    "wandb.init(project=\"SMAI-A2\", name=\"2.2-Tanh-BGD\")\n",
    "print(\"Initialising model\")\n",
    "model = MLP(input_dim, hidden_dim, output_dim,activation)   \n",
    "model.train(x_train_np,y_train_np,num_epochs,learning_rate,x_val_np,y_val_np,batch_size)\n",
    "y_pred_test=model.predict(x_test_np)\n",
    "test_loss=model.mse_loss(y_test_np,y_pred_test)\n",
    "print(f\"Final Test Loss {test_loss}\")\n",
    "test_rmse=model.rmse(test_loss)\n",
    "test_r2_score=model.r2_score(y_test_np,y_pred_test)\n",
    "wandb.finish()"
   ]
  },
  {
   "cell_type": "code",
   "execution_count": 28,
   "metadata": {},
   "outputs": [],
   "source": [
    "np.random.seed(42)\n",
    "input_dim=1105\n",
    "hidden_dim=128\n",
    "learning_rate=0.01\n",
    "num_epochs=100\n",
    "activation='tanh'\n",
    "batch_size=None\n",
    "output_dim=1"
   ]
  },
  {
   "cell_type": "code",
   "execution_count": 29,
   "metadata": {},
   "outputs": [
    {
     "data": {
      "text/html": [
       "Tracking run with wandb version 0.19.8"
      ],
      "text/plain": [
       "<IPython.core.display.HTML object>"
      ]
     },
     "metadata": {},
     "output_type": "display_data"
    },
    {
     "data": {
      "text/html": [
       "Run data is saved locally in <code>d:\\SMAI\\Assignments\\A2\\wandb\\run-20250315_170025-pjxnicgz</code>"
      ],
      "text/plain": [
       "<IPython.core.display.HTML object>"
      ]
     },
     "metadata": {},
     "output_type": "display_data"
    },
    {
     "data": {
      "text/html": [
       "Syncing run <strong><a href='https://wandb.ai/ketakishetye0619-iiit-hyderabad/SMAI-A2/runs/pjxnicgz' target=\"_blank\">2.2-Tanh-BGD-Hyperparam1</a></strong> to <a href='https://wandb.ai/ketakishetye0619-iiit-hyderabad/SMAI-A2' target=\"_blank\">Weights & Biases</a> (<a href='https://wandb.me/developer-guide' target=\"_blank\">docs</a>)<br>"
      ],
      "text/plain": [
       "<IPython.core.display.HTML object>"
      ]
     },
     "metadata": {},
     "output_type": "display_data"
    },
    {
     "data": {
      "text/html": [
       " View project at <a href='https://wandb.ai/ketakishetye0619-iiit-hyderabad/SMAI-A2' target=\"_blank\">https://wandb.ai/ketakishetye0619-iiit-hyderabad/SMAI-A2</a>"
      ],
      "text/plain": [
       "<IPython.core.display.HTML object>"
      ]
     },
     "metadata": {},
     "output_type": "display_data"
    },
    {
     "data": {
      "text/html": [
       " View run at <a href='https://wandb.ai/ketakishetye0619-iiit-hyderabad/SMAI-A2/runs/pjxnicgz' target=\"_blank\">https://wandb.ai/ketakishetye0619-iiit-hyderabad/SMAI-A2/runs/pjxnicgz</a>"
      ],
      "text/plain": [
       "<IPython.core.display.HTML object>"
      ]
     },
     "metadata": {},
     "output_type": "display_data"
    },
    {
     "name": "stdout",
     "output_type": "stream",
     "text": [
      "Initialising model\n"
     ]
    },
    {
     "name": "stderr",
     "output_type": "stream",
     "text": [
      "Training Progress:   1%|          | 1/100 [00:00<00:13,  7.22it/s]"
     ]
    },
    {
     "name": "stdout",
     "output_type": "stream",
     "text": [
      "Epoch: 0,Loss:6607.413501441409\n",
      "Epoch: 0,Validation Loss:6671.658597088353\n"
     ]
    },
    {
     "name": "stderr",
     "output_type": "stream",
     "text": [
      "Training Progress:  11%|█         | 11/100 [00:01<00:11,  7.53it/s]"
     ]
    },
    {
     "name": "stdout",
     "output_type": "stream",
     "text": [
      "Epoch: 9,Train Loss:996.5737564427634\n",
      "Epoch: 9,Validation Loss:1119.0501983454235\n"
     ]
    },
    {
     "name": "stderr",
     "output_type": "stream",
     "text": [
      "Training Progress:  21%|██        | 21/100 [00:02<00:10,  7.32it/s]"
     ]
    },
    {
     "name": "stdout",
     "output_type": "stream",
     "text": [
      "Epoch: 19,Train Loss:550.9354136571657\n",
      "Epoch: 19,Validation Loss:773.9548722336334\n"
     ]
    },
    {
     "name": "stderr",
     "output_type": "stream",
     "text": [
      "Training Progress:  31%|███       | 31/100 [00:04<00:09,  7.43it/s]"
     ]
    },
    {
     "name": "stdout",
     "output_type": "stream",
     "text": [
      "Epoch: 29,Train Loss:438.36485408746853\n",
      "Epoch: 29,Validation Loss:675.506837644065\n"
     ]
    },
    {
     "name": "stderr",
     "output_type": "stream",
     "text": [
      "Training Progress:  41%|████      | 41/100 [00:05<00:08,  7.24it/s]"
     ]
    },
    {
     "name": "stdout",
     "output_type": "stream",
     "text": [
      "Epoch: 39,Train Loss:370.05187407967225\n",
      "Epoch: 39,Validation Loss:618.6433525018001\n"
     ]
    },
    {
     "name": "stderr",
     "output_type": "stream",
     "text": [
      "Training Progress:  51%|█████     | 51/100 [00:07<00:07,  6.72it/s]"
     ]
    },
    {
     "name": "stdout",
     "output_type": "stream",
     "text": [
      "Epoch: 49,Train Loss:322.30994750955193\n",
      "Epoch: 49,Validation Loss:580.9731154791341\n"
     ]
    },
    {
     "name": "stderr",
     "output_type": "stream",
     "text": [
      "Training Progress:  61%|██████    | 61/100 [00:08<00:05,  7.26it/s]"
     ]
    },
    {
     "name": "stdout",
     "output_type": "stream",
     "text": [
      "Epoch: 59,Train Loss:288.3282429590205\n",
      "Epoch: 59,Validation Loss:558.8563052371584\n"
     ]
    },
    {
     "name": "stderr",
     "output_type": "stream",
     "text": [
      "Training Progress:  71%|███████   | 71/100 [00:09<00:03,  7.52it/s]"
     ]
    },
    {
     "name": "stdout",
     "output_type": "stream",
     "text": [
      "Epoch: 69,Train Loss:262.7649685995408\n",
      "Epoch: 69,Validation Loss:542.9636527517295\n"
     ]
    },
    {
     "name": "stderr",
     "output_type": "stream",
     "text": [
      "Training Progress:  81%|████████  | 81/100 [00:11<00:02,  7.31it/s]"
     ]
    },
    {
     "name": "stdout",
     "output_type": "stream",
     "text": [
      "Epoch: 79,Train Loss:242.9975998895194\n",
      "Epoch: 79,Validation Loss:529.8617341339058\n"
     ]
    },
    {
     "name": "stderr",
     "output_type": "stream",
     "text": [
      "Training Progress:  91%|█████████ | 91/100 [00:12<00:01,  6.74it/s]"
     ]
    },
    {
     "name": "stdout",
     "output_type": "stream",
     "text": [
      "Epoch: 89,Train Loss:227.3617919290052\n",
      "Epoch: 89,Validation Loss:520.5225793415792\n"
     ]
    },
    {
     "name": "stderr",
     "output_type": "stream",
     "text": [
      "Training Progress: 100%|██████████| 100/100 [00:13<00:00,  7.21it/s]"
     ]
    },
    {
     "name": "stdout",
     "output_type": "stream",
     "text": [
      "Epoch: 99,Train Loss:214.71822276882742\n",
      "Epoch: 99,Validation Loss:513.63631323317\n",
      "Final Test Loss 513.0892535415741\n",
      "Root Mean Squared Error (RMSE): 22.6515\n",
      "R-squared (R²): 0.6052\n"
     ]
    },
    {
     "name": "stderr",
     "output_type": "stream",
     "text": [
      "\n"
     ]
    },
    {
     "data": {
      "text/html": [],
      "text/plain": [
       "<IPython.core.display.HTML object>"
      ]
     },
     "metadata": {},
     "output_type": "display_data"
    },
    {
     "data": {
      "text/html": [
       "<br>    <style><br>        .wandb-row {<br>            display: flex;<br>            flex-direction: row;<br>            flex-wrap: wrap;<br>            justify-content: flex-start;<br>            width: 100%;<br>        }<br>        .wandb-col {<br>            display: flex;<br>            flex-direction: column;<br>            flex-basis: 100%;<br>            flex: 1;<br>            padding: 10px;<br>        }<br>    </style><br><div class=\"wandb-row\"><div class=\"wandb-col\"><h3>Run history:</h3><br/><table class=\"wandb\"><tr><td>Epoch</td><td>▁▁▁▂▃▃▃▃▃▃▃▃▃▄▄▄▄▄▄▅▅▅▅▅▅▆▆▆▆▆▆▇▇▇▇▇▇███</td></tr><tr><td>Train Loss</td><td>██▇▇▃▂▂▁▁▁▁▁▁▁▁▁▁▁▁▁▁▁▁▁▁▁▁▁▁▁▁▁▁▁▁▁▁▁▁▁</td></tr><tr><td>Validation Loss</td><td>██▆▄▃▁▁▁▁▁▁▁▁▁▁▁▁▁▁▁▁▁▁▁▁▁▁▁▁▁▁▁▁▁▁▁▁▁▁▁</td></tr></table><br/></div><div class=\"wandb-col\"><h3>Run summary:</h3><br/><table class=\"wandb\"><tr><td>Epoch</td><td>99</td></tr><tr><td>Train Loss</td><td>214.71822</td></tr><tr><td>Validation Loss</td><td>513.63631</td></tr></table><br/></div></div>"
      ],
      "text/plain": [
       "<IPython.core.display.HTML object>"
      ]
     },
     "metadata": {},
     "output_type": "display_data"
    },
    {
     "data": {
      "text/html": [
       " View run <strong style=\"color:#cdcd00\">2.2-Tanh-BGD-Hyperparam1</strong> at: <a href='https://wandb.ai/ketakishetye0619-iiit-hyderabad/SMAI-A2/runs/pjxnicgz' target=\"_blank\">https://wandb.ai/ketakishetye0619-iiit-hyderabad/SMAI-A2/runs/pjxnicgz</a><br> View project at: <a href='https://wandb.ai/ketakishetye0619-iiit-hyderabad/SMAI-A2' target=\"_blank\">https://wandb.ai/ketakishetye0619-iiit-hyderabad/SMAI-A2</a><br>Synced 5 W&B file(s), 0 media file(s), 0 artifact file(s) and 0 other file(s)"
      ],
      "text/plain": [
       "<IPython.core.display.HTML object>"
      ]
     },
     "metadata": {},
     "output_type": "display_data"
    },
    {
     "data": {
      "text/html": [
       "Find logs at: <code>.\\wandb\\run-20250315_170025-pjxnicgz\\logs</code>"
      ],
      "text/plain": [
       "<IPython.core.display.HTML object>"
      ]
     },
     "metadata": {},
     "output_type": "display_data"
    }
   ],
   "source": [
    "wandb.init(project=\"SMAI-A2\", name=\"2.2-Tanh-BGD-Hyperparam1\")\n",
    "print(\"Initialising model\")\n",
    "model = MLP(input_dim, hidden_dim, output_dim,activation)   \n",
    "model.train(x_train_np,y_train_np,num_epochs,learning_rate,x_val_np,y_val_np,batch_size)\n",
    "y_pred_test=model.predict(x_test_np)\n",
    "test_loss=model.mse_loss(y_test_np,y_pred_test)\n",
    "print(f\"Final Test Loss {test_loss}\")\n",
    "test_rmse=model.rmse(test_loss)\n",
    "test_r2_score=model.r2_score(y_test_np,y_pred_test)\n",
    "wandb.finish()"
   ]
  },
  {
   "cell_type": "code",
   "execution_count": 34,
   "metadata": {},
   "outputs": [],
   "source": [
    "np.random.seed(42)\n",
    "input_dim=1105\n",
    "hidden_dim=64\n",
    "learning_rate=0.001\n",
    "num_epochs=100\n",
    "activation='tanh'\n",
    "batch_size=None\n",
    "output_dim=1"
   ]
  },
  {
   "cell_type": "code",
   "execution_count": 35,
   "metadata": {},
   "outputs": [
    {
     "data": {
      "text/html": [
       "creating run (0.8s)"
      ],
      "text/plain": [
       "<IPython.core.display.HTML object>"
      ]
     },
     "metadata": {},
     "output_type": "display_data"
    },
    {
     "data": {
      "text/html": [
       "Tracking run with wandb version 0.19.8"
      ],
      "text/plain": [
       "<IPython.core.display.HTML object>"
      ]
     },
     "metadata": {},
     "output_type": "display_data"
    },
    {
     "data": {
      "text/html": [
       "Run data is saved locally in <code>d:\\SMAI\\Assignments\\A2\\wandb\\run-20250315_170747-8ppv3hpt</code>"
      ],
      "text/plain": [
       "<IPython.core.display.HTML object>"
      ]
     },
     "metadata": {},
     "output_type": "display_data"
    },
    {
     "data": {
      "text/html": [
       "Syncing run <strong><a href='https://wandb.ai/ketakishetye0619-iiit-hyderabad/SMAI-A2/runs/8ppv3hpt' target=\"_blank\">2.2-Tanh-BGD-Hyperparam2</a></strong> to <a href='https://wandb.ai/ketakishetye0619-iiit-hyderabad/SMAI-A2' target=\"_blank\">Weights & Biases</a> (<a href='https://wandb.me/developer-guide' target=\"_blank\">docs</a>)<br>"
      ],
      "text/plain": [
       "<IPython.core.display.HTML object>"
      ]
     },
     "metadata": {},
     "output_type": "display_data"
    },
    {
     "data": {
      "text/html": [
       " View project at <a href='https://wandb.ai/ketakishetye0619-iiit-hyderabad/SMAI-A2' target=\"_blank\">https://wandb.ai/ketakishetye0619-iiit-hyderabad/SMAI-A2</a>"
      ],
      "text/plain": [
       "<IPython.core.display.HTML object>"
      ]
     },
     "metadata": {},
     "output_type": "display_data"
    },
    {
     "data": {
      "text/html": [
       " View run at <a href='https://wandb.ai/ketakishetye0619-iiit-hyderabad/SMAI-A2/runs/8ppv3hpt' target=\"_blank\">https://wandb.ai/ketakishetye0619-iiit-hyderabad/SMAI-A2/runs/8ppv3hpt</a>"
      ],
      "text/plain": [
       "<IPython.core.display.HTML object>"
      ]
     },
     "metadata": {},
     "output_type": "display_data"
    },
    {
     "name": "stdout",
     "output_type": "stream",
     "text": [
      "Initialising model\n"
     ]
    },
    {
     "name": "stderr",
     "output_type": "stream",
     "text": [
      "Training Progress:   2%|▏         | 2/100 [00:00<00:09,  9.80it/s]"
     ]
    },
    {
     "name": "stdout",
     "output_type": "stream",
     "text": [
      "Epoch: 0,Loss:6603.091082371151\n",
      "Epoch: 0,Validation Loss:6892.128587382509\n"
     ]
    },
    {
     "name": "stderr",
     "output_type": "stream",
     "text": [
      "Training Progress:  10%|█         | 10/100 [00:01<00:09,  9.91it/s]"
     ]
    },
    {
     "name": "stdout",
     "output_type": "stream",
     "text": [
      "Epoch: 9,Train Loss:6386.704540499797\n",
      "Epoch: 9,Validation Loss:6666.764913468812\n"
     ]
    },
    {
     "name": "stderr",
     "output_type": "stream",
     "text": [
      "Training Progress:  22%|██▏       | 22/100 [00:02<00:07, 10.08it/s]"
     ]
    },
    {
     "name": "stdout",
     "output_type": "stream",
     "text": [
      "Epoch: 19,Train Loss:6040.118633139832\n",
      "Epoch: 19,Validation Loss:6296.104367348848\n"
     ]
    },
    {
     "name": "stderr",
     "output_type": "stream",
     "text": [
      "Training Progress:  31%|███       | 31/100 [00:03<00:06,  9.93it/s]"
     ]
    },
    {
     "name": "stdout",
     "output_type": "stream",
     "text": [
      "Epoch: 29,Train Loss:5469.626791701838\n",
      "Epoch: 29,Validation Loss:5690.3557741325685\n"
     ]
    },
    {
     "name": "stderr",
     "output_type": "stream",
     "text": [
      "Training Progress:  42%|████▏     | 42/100 [00:04<00:05,  9.90it/s]"
     ]
    },
    {
     "name": "stdout",
     "output_type": "stream",
     "text": [
      "Epoch: 39,Train Loss:4638.695405352281\n",
      "Epoch: 39,Validation Loss:4827.460604666034\n"
     ]
    },
    {
     "name": "stderr",
     "output_type": "stream",
     "text": [
      "Training Progress:  51%|█████     | 51/100 [00:05<00:04,  9.96it/s]"
     ]
    },
    {
     "name": "stdout",
     "output_type": "stream",
     "text": [
      "Epoch: 49,Train Loss:3666.145413707525\n",
      "Epoch: 49,Validation Loss:3841.501402242904\n"
     ]
    },
    {
     "name": "stderr",
     "output_type": "stream",
     "text": [
      "Training Progress:  62%|██████▏   | 62/100 [00:06<00:03,  9.93it/s]"
     ]
    },
    {
     "name": "stdout",
     "output_type": "stream",
     "text": [
      "Epoch: 59,Train Loss:2757.332265321639\n",
      "Epoch: 59,Validation Loss:2941.1309189194526\n"
     ]
    },
    {
     "name": "stderr",
     "output_type": "stream",
     "text": [
      "Training Progress:  71%|███████   | 71/100 [00:07<00:02,  9.92it/s]"
     ]
    },
    {
     "name": "stdout",
     "output_type": "stream",
     "text": [
      "Epoch: 69,Train Loss:2060.5719884796604\n",
      "Epoch: 69,Validation Loss:2260.91729449731\n"
     ]
    },
    {
     "name": "stderr",
     "output_type": "stream",
     "text": [
      "Training Progress:  80%|████████  | 80/100 [00:08<00:02,  9.96it/s]"
     ]
    },
    {
     "name": "stdout",
     "output_type": "stream",
     "text": [
      "Epoch: 79,Train Loss:1592.4870979227521\n",
      "Epoch: 79,Validation Loss:1806.0198159231093\n"
     ]
    },
    {
     "name": "stderr",
     "output_type": "stream",
     "text": [
      "Training Progress:  90%|█████████ | 90/100 [00:09<00:01,  9.91it/s]"
     ]
    },
    {
     "name": "stdout",
     "output_type": "stream",
     "text": [
      "Epoch: 89,Train Loss:1296.2573283817708\n",
      "Epoch: 89,Validation Loss:1519.1643919774147\n"
     ]
    },
    {
     "name": "stderr",
     "output_type": "stream",
     "text": [
      "Training Progress: 100%|██████████| 100/100 [00:10<00:00,  9.87it/s]"
     ]
    },
    {
     "name": "stdout",
     "output_type": "stream",
     "text": [
      "Epoch: 99,Train Loss:1109.8664165850594\n",
      "Epoch: 99,Validation Loss:1338.4798991150988\n",
      "Final Test Loss 1104.1173339469563\n",
      "Root Mean Squared Error (RMSE): 33.2283\n",
      "R-squared (R²): 0.1503\n"
     ]
    },
    {
     "name": "stderr",
     "output_type": "stream",
     "text": [
      "\n"
     ]
    },
    {
     "data": {
      "text/html": [],
      "text/plain": [
       "<IPython.core.display.HTML object>"
      ]
     },
     "metadata": {},
     "output_type": "display_data"
    },
    {
     "data": {
      "text/html": [
       "<br>    <style><br>        .wandb-row {<br>            display: flex;<br>            flex-direction: row;<br>            flex-wrap: wrap;<br>            justify-content: flex-start;<br>            width: 100%;<br>        }<br>        .wandb-col {<br>            display: flex;<br>            flex-direction: column;<br>            flex-basis: 100%;<br>            flex: 1;<br>            padding: 10px;<br>        }<br>    </style><br><div class=\"wandb-row\"><div class=\"wandb-col\"><h3>Run history:</h3><br/><table class=\"wandb\"><tr><td>Epoch</td><td>▁▁▁▁▂▂▃▃▃▃▃▃▃▃▄▄▄▄▄▅▅▅▅▅▅▅▆▆▆▆▆▆▇▇▇▇████</td></tr><tr><td>Train Loss</td><td>█████▇▇▇▇▇▇▇▇▇▆▆▅▅▅▅▄▄▄▄▄▃▃▃▂▂▂▂▂▂▂▁▁▁▁▁</td></tr><tr><td>Validation Loss</td><td>█████▇▇▇▇▆▆▆▆▆▅▅▅▄▄▄▃▃▃▃▃▃▃▂▂▂▂▂▁▁▁▁▁▁▁▁</td></tr></table><br/></div><div class=\"wandb-col\"><h3>Run summary:</h3><br/><table class=\"wandb\"><tr><td>Epoch</td><td>99</td></tr><tr><td>Train Loss</td><td>1109.86642</td></tr><tr><td>Validation Loss</td><td>1338.4799</td></tr></table><br/></div></div>"
      ],
      "text/plain": [
       "<IPython.core.display.HTML object>"
      ]
     },
     "metadata": {},
     "output_type": "display_data"
    },
    {
     "data": {
      "text/html": [
       " View run <strong style=\"color:#cdcd00\">2.2-Tanh-BGD-Hyperparam2</strong> at: <a href='https://wandb.ai/ketakishetye0619-iiit-hyderabad/SMAI-A2/runs/8ppv3hpt' target=\"_blank\">https://wandb.ai/ketakishetye0619-iiit-hyderabad/SMAI-A2/runs/8ppv3hpt</a><br> View project at: <a href='https://wandb.ai/ketakishetye0619-iiit-hyderabad/SMAI-A2' target=\"_blank\">https://wandb.ai/ketakishetye0619-iiit-hyderabad/SMAI-A2</a><br>Synced 5 W&B file(s), 0 media file(s), 0 artifact file(s) and 0 other file(s)"
      ],
      "text/plain": [
       "<IPython.core.display.HTML object>"
      ]
     },
     "metadata": {},
     "output_type": "display_data"
    },
    {
     "data": {
      "text/html": [
       "Find logs at: <code>.\\wandb\\run-20250315_170747-8ppv3hpt\\logs</code>"
      ],
      "text/plain": [
       "<IPython.core.display.HTML object>"
      ]
     },
     "metadata": {},
     "output_type": "display_data"
    }
   ],
   "source": [
    "wandb.init(project=\"SMAI-A2\", name=\"2.2-Tanh-BGD-Hyperparam2\")\n",
    "print(\"Initialising model\")\n",
    "model = MLP(input_dim, hidden_dim, output_dim,activation)   \n",
    "model.train(x_train_np,y_train_np,num_epochs,learning_rate,x_val_np,y_val_np,batch_size)\n",
    "y_pred_test=model.predict(x_test_np)\n",
    "test_loss=model.mse_loss(y_test_np,y_pred_test)\n",
    "print(f\"Final Test Loss {test_loss}\")\n",
    "test_rmse=model.rmse(test_loss)\n",
    "test_r2_score=model.r2_score(y_test_np,y_pred_test)\n",
    "wandb.finish()"
   ]
  },
  {
   "cell_type": "code",
   "execution_count": 13,
   "metadata": {},
   "outputs": [],
   "source": [
    "np.random.seed(42)\n",
    "input_dim=1105\n",
    "hidden_dim=64\n",
    "learning_rate=0.01\n",
    "num_epochs=100\n",
    "activation='tanh'\n",
    "batch_size=1\n",
    "output_dim=1"
   ]
  },
  {
   "cell_type": "code",
   "execution_count": 14,
   "metadata": {},
   "outputs": [
    {
     "data": {
      "text/html": [
       "Tracking run with wandb version 0.19.8"
      ],
      "text/plain": [
       "<IPython.core.display.HTML object>"
      ]
     },
     "metadata": {},
     "output_type": "display_data"
    },
    {
     "data": {
      "text/html": [
       "Run data is saved locally in <code>d:\\SMAI\\Assignments\\A2\\wandb\\run-20250315_153040-r2g731mj</code>"
      ],
      "text/plain": [
       "<IPython.core.display.HTML object>"
      ]
     },
     "metadata": {},
     "output_type": "display_data"
    },
    {
     "data": {
      "text/html": [
       "Syncing run <strong><a href='https://wandb.ai/ketakishetye0619-iiit-hyderabad/SMAI-A2/runs/r2g731mj' target=\"_blank\">2.2-Tanh-SGD</a></strong> to <a href='https://wandb.ai/ketakishetye0619-iiit-hyderabad/SMAI-A2' target=\"_blank\">Weights & Biases</a> (<a href='https://wandb.me/developer-guide' target=\"_blank\">docs</a>)<br>"
      ],
      "text/plain": [
       "<IPython.core.display.HTML object>"
      ]
     },
     "metadata": {},
     "output_type": "display_data"
    },
    {
     "data": {
      "text/html": [
       " View project at <a href='https://wandb.ai/ketakishetye0619-iiit-hyderabad/SMAI-A2' target=\"_blank\">https://wandb.ai/ketakishetye0619-iiit-hyderabad/SMAI-A2</a>"
      ],
      "text/plain": [
       "<IPython.core.display.HTML object>"
      ]
     },
     "metadata": {},
     "output_type": "display_data"
    },
    {
     "data": {
      "text/html": [
       " View run at <a href='https://wandb.ai/ketakishetye0619-iiit-hyderabad/SMAI-A2/runs/r2g731mj' target=\"_blank\">https://wandb.ai/ketakishetye0619-iiit-hyderabad/SMAI-A2/runs/r2g731mj</a>"
      ],
      "text/plain": [
       "<IPython.core.display.HTML object>"
      ]
     },
     "metadata": {},
     "output_type": "display_data"
    },
    {
     "name": "stdout",
     "output_type": "stream",
     "text": [
      "Initialising model\n"
     ]
    },
    {
     "name": "stderr",
     "output_type": "stream",
     "text": [
      "Training Progress:   1%|          | 1/100 [00:02<03:26,  2.09s/it]"
     ]
    },
    {
     "name": "stdout",
     "output_type": "stream",
     "text": [
      "Epoch: 0,Loss:1018.36259272867\n",
      "Epoch: 0,Validation Loss:1054.4097946279549\n"
     ]
    },
    {
     "name": "stderr",
     "output_type": "stream",
     "text": [
      "Training Progress:  10%|█         | 10/100 [00:20<02:59,  1.99s/it]"
     ]
    },
    {
     "name": "stdout",
     "output_type": "stream",
     "text": [
      "Epoch: 9,Train Loss:727.5869213597726\n",
      "Epoch: 9,Validation Loss:850.5525732066258\n"
     ]
    },
    {
     "name": "stderr",
     "output_type": "stream",
     "text": [
      "Training Progress:  20%|██        | 20/100 [00:39<02:38,  1.98s/it]"
     ]
    },
    {
     "name": "stdout",
     "output_type": "stream",
     "text": [
      "Epoch: 19,Train Loss:668.442796599027\n",
      "Epoch: 19,Validation Loss:804.0473837294198\n"
     ]
    },
    {
     "name": "stderr",
     "output_type": "stream",
     "text": [
      "Training Progress:  30%|███       | 30/100 [00:59<02:13,  1.90s/it]"
     ]
    },
    {
     "name": "stdout",
     "output_type": "stream",
     "text": [
      "Epoch: 29,Train Loss:673.3870600868327\n",
      "Epoch: 29,Validation Loss:888.6325370616811\n"
     ]
    },
    {
     "name": "stderr",
     "output_type": "stream",
     "text": [
      "Training Progress:  40%|████      | 40/100 [01:18<01:54,  1.90s/it]"
     ]
    },
    {
     "name": "stdout",
     "output_type": "stream",
     "text": [
      "Epoch: 39,Train Loss:659.0862071650672\n",
      "Epoch: 39,Validation Loss:857.7910277998518\n"
     ]
    },
    {
     "name": "stderr",
     "output_type": "stream",
     "text": [
      "Training Progress:  50%|█████     | 50/100 [01:38<01:39,  1.99s/it]"
     ]
    },
    {
     "name": "stdout",
     "output_type": "stream",
     "text": [
      "Epoch: 49,Train Loss:661.3950722145063\n",
      "Epoch: 49,Validation Loss:965.4547792277363\n"
     ]
    },
    {
     "name": "stderr",
     "output_type": "stream",
     "text": [
      "Training Progress:  60%|██████    | 60/100 [01:58<01:20,  2.01s/it]"
     ]
    },
    {
     "name": "stdout",
     "output_type": "stream",
     "text": [
      "Epoch: 59,Train Loss:646.2429805902752\n",
      "Epoch: 59,Validation Loss:1087.4806457700706\n"
     ]
    },
    {
     "name": "stderr",
     "output_type": "stream",
     "text": [
      "Training Progress:  70%|███████   | 70/100 [02:18<00:59,  1.98s/it]"
     ]
    },
    {
     "name": "stdout",
     "output_type": "stream",
     "text": [
      "Epoch: 69,Train Loss:644.3204330540896\n",
      "Epoch: 69,Validation Loss:805.1272053230379\n"
     ]
    },
    {
     "name": "stderr",
     "output_type": "stream",
     "text": [
      "Training Progress:  80%|████████  | 80/100 [02:37<00:39,  1.98s/it]"
     ]
    },
    {
     "name": "stdout",
     "output_type": "stream",
     "text": [
      "Epoch: 79,Train Loss:630.8113439116909\n",
      "Epoch: 79,Validation Loss:900.1431487155925\n"
     ]
    },
    {
     "name": "stderr",
     "output_type": "stream",
     "text": [
      "Training Progress:  90%|█████████ | 90/100 [02:57<00:19,  1.99s/it]"
     ]
    },
    {
     "name": "stdout",
     "output_type": "stream",
     "text": [
      "Epoch: 89,Train Loss:632.8454438943858\n",
      "Epoch: 89,Validation Loss:856.6859313826777\n"
     ]
    },
    {
     "name": "stderr",
     "output_type": "stream",
     "text": [
      "Training Progress: 100%|██████████| 100/100 [03:17<00:00,  1.98s/it]"
     ]
    },
    {
     "name": "stdout",
     "output_type": "stream",
     "text": [
      "Epoch: 99,Train Loss:622.452910525274\n",
      "Epoch: 99,Validation Loss:845.816667826045\n",
      "Final Test Loss 724.0292827514517\n",
      "Root Mean Squared Error (RMSE): 26.9078\n",
      "R-squared (R²): 0.4428\n"
     ]
    },
    {
     "name": "stderr",
     "output_type": "stream",
     "text": [
      "\n"
     ]
    },
    {
     "data": {
      "text/html": [],
      "text/plain": [
       "<IPython.core.display.HTML object>"
      ]
     },
     "metadata": {},
     "output_type": "display_data"
    },
    {
     "data": {
      "text/html": [
       "<br>    <style><br>        .wandb-row {<br>            display: flex;<br>            flex-direction: row;<br>            flex-wrap: wrap;<br>            justify-content: flex-start;<br>            width: 100%;<br>        }<br>        .wandb-col {<br>            display: flex;<br>            flex-direction: column;<br>            flex-basis: 100%;<br>            flex: 1;<br>            padding: 10px;<br>        }<br>    </style><br><div class=\"wandb-row\"><div class=\"wandb-col\"><h3>Run history:</h3><br/><table class=\"wandb\"><tr><td>Epoch</td><td>▁▁▁▁▂▂▂▂▂▂▃▃▃▃▃▄▄▄▄▄▄▄▅▅▅▅▅▅▆▆▆▆▆▇▇▇▇▇▇█</td></tr><tr><td>Train Loss</td><td>█▅▄▃▃▃▂▂▂▂▂▂▂▂▂▁▂▂▁▂▁▂▁▁▁▁▁▁▁▁▁▁▁▁▁▁▁▁▁▁</td></tr><tr><td>Validation Loss</td><td>▄▄█▂▂▁▁▃▂▁▂▂▂▃▃▂▃▂▂▂▂▄▄▂▂▃▁▂▂▂▂▂▂▃▂▂▂▁▂▁</td></tr></table><br/></div><div class=\"wandb-col\"><h3>Run summary:</h3><br/><table class=\"wandb\"><tr><td>Epoch</td><td>99</td></tr><tr><td>Train Loss</td><td>622.45291</td></tr><tr><td>Validation Loss</td><td>845.81667</td></tr></table><br/></div></div>"
      ],
      "text/plain": [
       "<IPython.core.display.HTML object>"
      ]
     },
     "metadata": {},
     "output_type": "display_data"
    },
    {
     "data": {
      "text/html": [
       " View run <strong style=\"color:#cdcd00\">2.2-Tanh-SGD</strong> at: <a href='https://wandb.ai/ketakishetye0619-iiit-hyderabad/SMAI-A2/runs/r2g731mj' target=\"_blank\">https://wandb.ai/ketakishetye0619-iiit-hyderabad/SMAI-A2/runs/r2g731mj</a><br> View project at: <a href='https://wandb.ai/ketakishetye0619-iiit-hyderabad/SMAI-A2' target=\"_blank\">https://wandb.ai/ketakishetye0619-iiit-hyderabad/SMAI-A2</a><br>Synced 5 W&B file(s), 0 media file(s), 0 artifact file(s) and 0 other file(s)"
      ],
      "text/plain": [
       "<IPython.core.display.HTML object>"
      ]
     },
     "metadata": {},
     "output_type": "display_data"
    },
    {
     "data": {
      "text/html": [
       "Find logs at: <code>.\\wandb\\run-20250315_153040-r2g731mj\\logs</code>"
      ],
      "text/plain": [
       "<IPython.core.display.HTML object>"
      ]
     },
     "metadata": {},
     "output_type": "display_data"
    }
   ],
   "source": [
    "wandb.init(project=\"SMAI-A2\", name=\"2.2-Tanh-SGD\")\n",
    "print(\"Initialising model\")\n",
    "model = MLP(input_dim, hidden_dim, output_dim,activation)   \n",
    "model.train(x_train_np,y_train_np,num_epochs,learning_rate,x_val_np,y_val_np,batch_size)\n",
    "y_pred_test=model.predict(x_test_np)\n",
    "test_loss=model.mse_loss(y_test_np,y_pred_test)\n",
    "print(f\"Final Test Loss {test_loss}\")\n",
    "test_rmse=model.rmse(test_loss)\n",
    "test_r2_score=model.r2_score(y_test_np,y_pred_test)\n",
    "wandb.finish()"
   ]
  },
  {
   "cell_type": "code",
   "execution_count": 32,
   "metadata": {},
   "outputs": [],
   "source": [
    "np.random.seed(42)\n",
    "input_dim=1105\n",
    "hidden_dim=128\n",
    "learning_rate=0.01\n",
    "num_epochs=100\n",
    "activation='tanh'\n",
    "batch_size=1\n",
    "output_dim=1"
   ]
  },
  {
   "cell_type": "code",
   "execution_count": 33,
   "metadata": {},
   "outputs": [
    {
     "data": {
      "text/html": [
       "Tracking run with wandb version 0.19.8"
      ],
      "text/plain": [
       "<IPython.core.display.HTML object>"
      ]
     },
     "metadata": {},
     "output_type": "display_data"
    },
    {
     "data": {
      "text/html": [
       "Run data is saved locally in <code>d:\\SMAI\\Assignments\\A2\\wandb\\run-20250315_170218-vj3uirp1</code>"
      ],
      "text/plain": [
       "<IPython.core.display.HTML object>"
      ]
     },
     "metadata": {},
     "output_type": "display_data"
    },
    {
     "data": {
      "text/html": [
       "Syncing run <strong><a href='https://wandb.ai/ketakishetye0619-iiit-hyderabad/SMAI-A2/runs/vj3uirp1' target=\"_blank\">2.2-Tanh-SGD-Hyperparam1</a></strong> to <a href='https://wandb.ai/ketakishetye0619-iiit-hyderabad/SMAI-A2' target=\"_blank\">Weights & Biases</a> (<a href='https://wandb.me/developer-guide' target=\"_blank\">docs</a>)<br>"
      ],
      "text/plain": [
       "<IPython.core.display.HTML object>"
      ]
     },
     "metadata": {},
     "output_type": "display_data"
    },
    {
     "data": {
      "text/html": [
       " View project at <a href='https://wandb.ai/ketakishetye0619-iiit-hyderabad/SMAI-A2' target=\"_blank\">https://wandb.ai/ketakishetye0619-iiit-hyderabad/SMAI-A2</a>"
      ],
      "text/plain": [
       "<IPython.core.display.HTML object>"
      ]
     },
     "metadata": {},
     "output_type": "display_data"
    },
    {
     "data": {
      "text/html": [
       " View run at <a href='https://wandb.ai/ketakishetye0619-iiit-hyderabad/SMAI-A2/runs/vj3uirp1' target=\"_blank\">https://wandb.ai/ketakishetye0619-iiit-hyderabad/SMAI-A2/runs/vj3uirp1</a>"
      ],
      "text/plain": [
       "<IPython.core.display.HTML object>"
      ]
     },
     "metadata": {},
     "output_type": "display_data"
    },
    {
     "name": "stdout",
     "output_type": "stream",
     "text": [
      "Initialising model\n"
     ]
    },
    {
     "name": "stderr",
     "output_type": "stream",
     "text": [
      "Training Progress:   1%|          | 1/100 [00:03<05:22,  3.25s/it]"
     ]
    },
    {
     "name": "stdout",
     "output_type": "stream",
     "text": [
      "Epoch: 0,Loss:1942.9087469803997\n",
      "Epoch: 0,Validation Loss:1809.410628445187\n"
     ]
    },
    {
     "name": "stderr",
     "output_type": "stream",
     "text": [
      "Training Progress:  10%|█         | 10/100 [00:33<04:56,  3.29s/it]"
     ]
    },
    {
     "name": "stdout",
     "output_type": "stream",
     "text": [
      "Epoch: 9,Train Loss:1602.2930250324196\n",
      "Epoch: 9,Validation Loss:1816.985702711898\n"
     ]
    },
    {
     "name": "stderr",
     "output_type": "stream",
     "text": [
      "Training Progress:  20%|██        | 20/100 [01:06<04:32,  3.40s/it]"
     ]
    },
    {
     "name": "stdout",
     "output_type": "stream",
     "text": [
      "Epoch: 19,Train Loss:1456.168550476399\n",
      "Epoch: 19,Validation Loss:1291.7377018723707\n"
     ]
    },
    {
     "name": "stderr",
     "output_type": "stream",
     "text": [
      "Training Progress:  30%|███       | 30/100 [01:39<03:47,  3.26s/it]"
     ]
    },
    {
     "name": "stdout",
     "output_type": "stream",
     "text": [
      "Epoch: 29,Train Loss:1417.4384563314302\n",
      "Epoch: 29,Validation Loss:1667.0418227554617\n"
     ]
    },
    {
     "name": "stderr",
     "output_type": "stream",
     "text": [
      "Training Progress:  40%|████      | 40/100 [02:12<03:15,  3.26s/it]"
     ]
    },
    {
     "name": "stdout",
     "output_type": "stream",
     "text": [
      "Epoch: 39,Train Loss:1407.7549408242821\n",
      "Epoch: 39,Validation Loss:1534.1419736442174\n"
     ]
    },
    {
     "name": "stderr",
     "output_type": "stream",
     "text": [
      "Training Progress:  50%|█████     | 50/100 [02:45<02:44,  3.28s/it]"
     ]
    },
    {
     "name": "stdout",
     "output_type": "stream",
     "text": [
      "Epoch: 49,Train Loss:1416.3702089240344\n",
      "Epoch: 49,Validation Loss:1805.655352187847\n"
     ]
    },
    {
     "name": "stderr",
     "output_type": "stream",
     "text": [
      "Training Progress:  60%|██████    | 60/100 [03:16<02:04,  3.11s/it]"
     ]
    },
    {
     "name": "stdout",
     "output_type": "stream",
     "text": [
      "Epoch: 59,Train Loss:1391.6326782469844\n",
      "Epoch: 59,Validation Loss:1687.3706228182111\n"
     ]
    },
    {
     "name": "stderr",
     "output_type": "stream",
     "text": [
      "Training Progress:  70%|███████   | 70/100 [03:47<01:34,  3.14s/it]"
     ]
    },
    {
     "name": "stdout",
     "output_type": "stream",
     "text": [
      "Epoch: 69,Train Loss:1430.7558684196606\n",
      "Epoch: 69,Validation Loss:1604.0295819968767\n"
     ]
    },
    {
     "name": "stderr",
     "output_type": "stream",
     "text": [
      "Training Progress:  80%|████████  | 80/100 [04:20<01:04,  3.22s/it]"
     ]
    },
    {
     "name": "stdout",
     "output_type": "stream",
     "text": [
      "Epoch: 79,Train Loss:1333.846783378052\n",
      "Epoch: 79,Validation Loss:1655.078795909302\n"
     ]
    },
    {
     "name": "stderr",
     "output_type": "stream",
     "text": [
      "Training Progress:  90%|█████████ | 90/100 [04:52<00:31,  3.18s/it]"
     ]
    },
    {
     "name": "stdout",
     "output_type": "stream",
     "text": [
      "Epoch: 89,Train Loss:1384.0451304152366\n",
      "Epoch: 89,Validation Loss:1283.2474365011888\n"
     ]
    },
    {
     "name": "stderr",
     "output_type": "stream",
     "text": [
      "Training Progress: 100%|██████████| 100/100 [05:24<00:00,  3.25s/it]"
     ]
    },
    {
     "name": "stdout",
     "output_type": "stream",
     "text": [
      "Epoch: 99,Train Loss:1397.5871679365898\n",
      "Epoch: 99,Validation Loss:1538.4051970256753\n",
      "Final Test Loss 1412.2283177116972\n",
      "Root Mean Squared Error (RMSE): 37.5796\n",
      "R-squared (R²): -0.0868\n"
     ]
    },
    {
     "name": "stderr",
     "output_type": "stream",
     "text": [
      "\n"
     ]
    },
    {
     "data": {
      "text/html": [],
      "text/plain": [
       "<IPython.core.display.HTML object>"
      ]
     },
     "metadata": {},
     "output_type": "display_data"
    },
    {
     "data": {
      "text/html": [
       "<br>    <style><br>        .wandb-row {<br>            display: flex;<br>            flex-direction: row;<br>            flex-wrap: wrap;<br>            justify-content: flex-start;<br>            width: 100%;<br>        }<br>        .wandb-col {<br>            display: flex;<br>            flex-direction: column;<br>            flex-basis: 100%;<br>            flex: 1;<br>            padding: 10px;<br>        }<br>    </style><br><div class=\"wandb-row\"><div class=\"wandb-col\"><h3>Run history:</h3><br/><table class=\"wandb\"><tr><td>Epoch</td><td>▁▁▂▂▂▂▂▃▃▃▃▃▃▃▃▄▄▄▄▄▄▅▅▅▅▆▆▆▆▆▇▇▇▇▇▇▇▇██</td></tr><tr><td>Train Loss</td><td>█▄▄▄▄▂▂▂▂▂▂▂▂▂▂▂▂▂▁▂▁▂▂▂▂▂▂▂▂▁▁▂▁▂▁▁▁▁▁▁</td></tr><tr><td>Validation Loss</td><td>▅▁▄▄▇▃▇▃▄▆▅▃▆▂▂▂▂▃▂▃▅▅▄▅▁▃▂▂▄▄▁▄▆█▂▃▃▄▁▃</td></tr></table><br/></div><div class=\"wandb-col\"><h3>Run summary:</h3><br/><table class=\"wandb\"><tr><td>Epoch</td><td>99</td></tr><tr><td>Train Loss</td><td>1397.58717</td></tr><tr><td>Validation Loss</td><td>1538.4052</td></tr></table><br/></div></div>"
      ],
      "text/plain": [
       "<IPython.core.display.HTML object>"
      ]
     },
     "metadata": {},
     "output_type": "display_data"
    },
    {
     "data": {
      "text/html": [
       " View run <strong style=\"color:#cdcd00\">2.2-Tanh-SGD-Hyperparam1</strong> at: <a href='https://wandb.ai/ketakishetye0619-iiit-hyderabad/SMAI-A2/runs/vj3uirp1' target=\"_blank\">https://wandb.ai/ketakishetye0619-iiit-hyderabad/SMAI-A2/runs/vj3uirp1</a><br> View project at: <a href='https://wandb.ai/ketakishetye0619-iiit-hyderabad/SMAI-A2' target=\"_blank\">https://wandb.ai/ketakishetye0619-iiit-hyderabad/SMAI-A2</a><br>Synced 5 W&B file(s), 0 media file(s), 0 artifact file(s) and 0 other file(s)"
      ],
      "text/plain": [
       "<IPython.core.display.HTML object>"
      ]
     },
     "metadata": {},
     "output_type": "display_data"
    },
    {
     "data": {
      "text/html": [
       "Find logs at: <code>.\\wandb\\run-20250315_170218-vj3uirp1\\logs</code>"
      ],
      "text/plain": [
       "<IPython.core.display.HTML object>"
      ]
     },
     "metadata": {},
     "output_type": "display_data"
    }
   ],
   "source": [
    "wandb.init(project=\"SMAI-A2\", name=\"2.2-Tanh-SGD-Hyperparam1\")\n",
    "print(\"Initialising model\")\n",
    "model = MLP(input_dim, hidden_dim, output_dim,activation)   \n",
    "model.train(x_train_np,y_train_np,num_epochs,learning_rate,x_val_np,y_val_np,batch_size)\n",
    "y_pred_test=model.predict(x_test_np)\n",
    "test_loss=model.mse_loss(y_test_np,y_pred_test)\n",
    "print(f\"Final Test Loss {test_loss}\")\n",
    "test_rmse=model.rmse(test_loss)\n",
    "test_r2_score=model.r2_score(y_test_np,y_pred_test)\n",
    "wandb.finish()"
   ]
  },
  {
   "cell_type": "code",
   "execution_count": 36,
   "metadata": {},
   "outputs": [],
   "source": [
    "np.random.seed(42)\n",
    "input_dim=1105\n",
    "hidden_dim=64\n",
    "learning_rate=0.001\n",
    "num_epochs=100\n",
    "activation='tanh'\n",
    "batch_size=1\n",
    "output_dim=1"
   ]
  },
  {
   "cell_type": "code",
   "execution_count": 37,
   "metadata": {},
   "outputs": [
    {
     "data": {
      "text/html": [
       "Tracking run with wandb version 0.19.8"
      ],
      "text/plain": [
       "<IPython.core.display.HTML object>"
      ]
     },
     "metadata": {},
     "output_type": "display_data"
    },
    {
     "data": {
      "text/html": [
       "Run data is saved locally in <code>d:\\SMAI\\Assignments\\A2\\wandb\\run-20250315_170801-crzll98y</code>"
      ],
      "text/plain": [
       "<IPython.core.display.HTML object>"
      ]
     },
     "metadata": {},
     "output_type": "display_data"
    },
    {
     "data": {
      "text/html": [
       "Syncing run <strong><a href='https://wandb.ai/ketakishetye0619-iiit-hyderabad/SMAI-A2/runs/crzll98y' target=\"_blank\">2.2-Tanh-SGD-Hyperparam2</a></strong> to <a href='https://wandb.ai/ketakishetye0619-iiit-hyderabad/SMAI-A2' target=\"_blank\">Weights & Biases</a> (<a href='https://wandb.me/developer-guide' target=\"_blank\">docs</a>)<br>"
      ],
      "text/plain": [
       "<IPython.core.display.HTML object>"
      ]
     },
     "metadata": {},
     "output_type": "display_data"
    },
    {
     "data": {
      "text/html": [
       " View project at <a href='https://wandb.ai/ketakishetye0619-iiit-hyderabad/SMAI-A2' target=\"_blank\">https://wandb.ai/ketakishetye0619-iiit-hyderabad/SMAI-A2</a>"
      ],
      "text/plain": [
       "<IPython.core.display.HTML object>"
      ]
     },
     "metadata": {},
     "output_type": "display_data"
    },
    {
     "data": {
      "text/html": [
       " View run at <a href='https://wandb.ai/ketakishetye0619-iiit-hyderabad/SMAI-A2/runs/crzll98y' target=\"_blank\">https://wandb.ai/ketakishetye0619-iiit-hyderabad/SMAI-A2/runs/crzll98y</a>"
      ],
      "text/plain": [
       "<IPython.core.display.HTML object>"
      ]
     },
     "metadata": {},
     "output_type": "display_data"
    },
    {
     "name": "stdout",
     "output_type": "stream",
     "text": [
      "Initialising model\n"
     ]
    },
    {
     "name": "stderr",
     "output_type": "stream",
     "text": [
      "Training Progress:   1%|          | 1/100 [00:01<03:17,  2.00s/it]"
     ]
    },
    {
     "name": "stdout",
     "output_type": "stream",
     "text": [
      "Epoch: 0,Loss:976.1359468907683\n",
      "Epoch: 0,Validation Loss:790.7229836003462\n"
     ]
    },
    {
     "name": "stderr",
     "output_type": "stream",
     "text": [
      "Training Progress:  10%|█         | 10/100 [00:20<03:02,  2.03s/it]"
     ]
    },
    {
     "name": "stdout",
     "output_type": "stream",
     "text": [
      "Epoch: 9,Train Loss:392.7757691634101\n",
      "Epoch: 9,Validation Loss:743.9333290721596\n"
     ]
    },
    {
     "name": "stderr",
     "output_type": "stream",
     "text": [
      "Training Progress:  20%|██        | 20/100 [00:40<02:42,  2.03s/it]"
     ]
    },
    {
     "name": "stdout",
     "output_type": "stream",
     "text": [
      "Epoch: 19,Train Loss:353.39096998328944\n",
      "Epoch: 19,Validation Loss:704.2172345190127\n"
     ]
    },
    {
     "name": "stderr",
     "output_type": "stream",
     "text": [
      "Training Progress:  30%|███       | 30/100 [01:00<02:19,  2.00s/it]"
     ]
    },
    {
     "name": "stdout",
     "output_type": "stream",
     "text": [
      "Epoch: 29,Train Loss:338.50907356635554\n",
      "Epoch: 29,Validation Loss:726.2420993969417\n"
     ]
    },
    {
     "name": "stderr",
     "output_type": "stream",
     "text": [
      "Training Progress:  40%|████      | 40/100 [01:20<01:59,  1.99s/it]"
     ]
    },
    {
     "name": "stdout",
     "output_type": "stream",
     "text": [
      "Epoch: 39,Train Loss:327.83638450650716\n",
      "Epoch: 39,Validation Loss:737.9879260184632\n"
     ]
    },
    {
     "name": "stderr",
     "output_type": "stream",
     "text": [
      "Training Progress:  50%|█████     | 50/100 [01:40<01:40,  2.01s/it]"
     ]
    },
    {
     "name": "stdout",
     "output_type": "stream",
     "text": [
      "Epoch: 49,Train Loss:320.3444248726648\n",
      "Epoch: 49,Validation Loss:709.4354923415463\n"
     ]
    },
    {
     "name": "stderr",
     "output_type": "stream",
     "text": [
      "Training Progress:  60%|██████    | 60/100 [02:00<01:18,  1.95s/it]"
     ]
    },
    {
     "name": "stdout",
     "output_type": "stream",
     "text": [
      "Epoch: 59,Train Loss:312.6784608916565\n",
      "Epoch: 59,Validation Loss:759.9657578276609\n"
     ]
    },
    {
     "name": "stderr",
     "output_type": "stream",
     "text": [
      "Training Progress:  70%|███████   | 70/100 [02:19<00:58,  1.95s/it]"
     ]
    },
    {
     "name": "stdout",
     "output_type": "stream",
     "text": [
      "Epoch: 69,Train Loss:308.44822307138315\n",
      "Epoch: 69,Validation Loss:721.7783774504815\n"
     ]
    },
    {
     "name": "stderr",
     "output_type": "stream",
     "text": [
      "Training Progress:  80%|████████  | 80/100 [02:39<00:40,  2.02s/it]"
     ]
    },
    {
     "name": "stdout",
     "output_type": "stream",
     "text": [
      "Epoch: 79,Train Loss:304.6389915621834\n",
      "Epoch: 79,Validation Loss:732.6466365007483\n"
     ]
    },
    {
     "name": "stderr",
     "output_type": "stream",
     "text": [
      "Training Progress:  90%|█████████ | 90/100 [03:00<00:21,  2.12s/it]"
     ]
    },
    {
     "name": "stdout",
     "output_type": "stream",
     "text": [
      "Epoch: 89,Train Loss:300.19768643930917\n",
      "Epoch: 89,Validation Loss:717.6706431369176\n"
     ]
    },
    {
     "name": "stderr",
     "output_type": "stream",
     "text": [
      "Training Progress: 100%|██████████| 100/100 [03:20<00:00,  2.01s/it]"
     ]
    },
    {
     "name": "stdout",
     "output_type": "stream",
     "text": [
      "Epoch: 99,Train Loss:293.68180369798404\n",
      "Epoch: 99,Validation Loss:700.6731302928047\n",
      "Final Test Loss 634.1028604982193\n",
      "Root Mean Squared Error (RMSE): 25.1814\n",
      "R-squared (R²): 0.5120\n"
     ]
    },
    {
     "name": "stderr",
     "output_type": "stream",
     "text": [
      "\n"
     ]
    },
    {
     "data": {
      "text/html": [],
      "text/plain": [
       "<IPython.core.display.HTML object>"
      ]
     },
     "metadata": {},
     "output_type": "display_data"
    },
    {
     "data": {
      "text/html": [
       "<br>    <style><br>        .wandb-row {<br>            display: flex;<br>            flex-direction: row;<br>            flex-wrap: wrap;<br>            justify-content: flex-start;<br>            width: 100%;<br>        }<br>        .wandb-col {<br>            display: flex;<br>            flex-direction: column;<br>            flex-basis: 100%;<br>            flex: 1;<br>            padding: 10px;<br>        }<br>    </style><br><div class=\"wandb-row\"><div class=\"wandb-col\"><h3>Run history:</h3><br/><table class=\"wandb\"><tr><td>Epoch</td><td>▁▁▁▁▂▂▂▂▃▃▃▃▃▃▃▄▄▄▄▄▅▅▅▅▅▅▅▅▆▆▆▆▆▆▆▇▇▇▇█</td></tr><tr><td>Train Loss</td><td>█▃▃▂▂▂▂▂▂▂▂▁▁▁▁▁▁▁▁▁▁▁▁▁▁▁▁▁▁▁▁▁▁▁▁▁▁▁▁▁</td></tr><tr><td>Validation Loss</td><td>█▅▄▃▅▄▄▃▄▃▃▄▃▃▄▃▅▂▂▂▆▅▄▄▄▄▅▄▄▄▂▅▂▃▂▃▁▂▁▁</td></tr></table><br/></div><div class=\"wandb-col\"><h3>Run summary:</h3><br/><table class=\"wandb\"><tr><td>Epoch</td><td>99</td></tr><tr><td>Train Loss</td><td>293.6818</td></tr><tr><td>Validation Loss</td><td>700.67313</td></tr></table><br/></div></div>"
      ],
      "text/plain": [
       "<IPython.core.display.HTML object>"
      ]
     },
     "metadata": {},
     "output_type": "display_data"
    },
    {
     "data": {
      "text/html": [
       " View run <strong style=\"color:#cdcd00\">2.2-Tanh-SGD-Hyperparam2</strong> at: <a href='https://wandb.ai/ketakishetye0619-iiit-hyderabad/SMAI-A2/runs/crzll98y' target=\"_blank\">https://wandb.ai/ketakishetye0619-iiit-hyderabad/SMAI-A2/runs/crzll98y</a><br> View project at: <a href='https://wandb.ai/ketakishetye0619-iiit-hyderabad/SMAI-A2' target=\"_blank\">https://wandb.ai/ketakishetye0619-iiit-hyderabad/SMAI-A2</a><br>Synced 5 W&B file(s), 0 media file(s), 0 artifact file(s) and 0 other file(s)"
      ],
      "text/plain": [
       "<IPython.core.display.HTML object>"
      ]
     },
     "metadata": {},
     "output_type": "display_data"
    },
    {
     "data": {
      "text/html": [
       "Find logs at: <code>.\\wandb\\run-20250315_170801-crzll98y\\logs</code>"
      ],
      "text/plain": [
       "<IPython.core.display.HTML object>"
      ]
     },
     "metadata": {},
     "output_type": "display_data"
    }
   ],
   "source": [
    "wandb.init(project=\"SMAI-A2\", name=\"2.2-Tanh-SGD-Hyperparam2\")\n",
    "print(\"Initialising model\")\n",
    "model = MLP(input_dim, hidden_dim, output_dim,activation)   \n",
    "model.train(x_train_np,y_train_np,num_epochs,learning_rate,x_val_np,y_val_np,batch_size)\n",
    "y_pred_test=model.predict(x_test_np)\n",
    "test_loss=model.mse_loss(y_test_np,y_pred_test)\n",
    "print(f\"Final Test Loss {test_loss}\")\n",
    "test_rmse=model.rmse(test_loss)\n",
    "test_r2_score=model.r2_score(y_test_np,y_pred_test)\n",
    "wandb.finish()"
   ]
  },
  {
   "cell_type": "code",
   "execution_count": 15,
   "metadata": {},
   "outputs": [],
   "source": [
    "np.random.seed(42)\n",
    "input_dim=1105\n",
    "hidden_dim=64\n",
    "learning_rate=0.01\n",
    "num_epochs=100\n",
    "activation='tanh'\n",
    "batch_size=128\n",
    "output_dim=1"
   ]
  },
  {
   "cell_type": "code",
   "execution_count": 16,
   "metadata": {},
   "outputs": [
    {
     "data": {
      "text/html": [
       "Tracking run with wandb version 0.19.8"
      ],
      "text/plain": [
       "<IPython.core.display.HTML object>"
      ]
     },
     "metadata": {},
     "output_type": "display_data"
    },
    {
     "data": {
      "text/html": [
       "Run data is saved locally in <code>d:\\SMAI\\Assignments\\A2\\wandb\\run-20250315_153401-532dc6jm</code>"
      ],
      "text/plain": [
       "<IPython.core.display.HTML object>"
      ]
     },
     "metadata": {},
     "output_type": "display_data"
    },
    {
     "data": {
      "text/html": [
       "Syncing run <strong><a href='https://wandb.ai/ketakishetye0619-iiit-hyderabad/SMAI-A2/runs/532dc6jm' target=\"_blank\">2.2-Tanh-MBGD</a></strong> to <a href='https://wandb.ai/ketakishetye0619-iiit-hyderabad/SMAI-A2' target=\"_blank\">Weights & Biases</a> (<a href='https://wandb.me/developer-guide' target=\"_blank\">docs</a>)<br>"
      ],
      "text/plain": [
       "<IPython.core.display.HTML object>"
      ]
     },
     "metadata": {},
     "output_type": "display_data"
    },
    {
     "data": {
      "text/html": [
       " View project at <a href='https://wandb.ai/ketakishetye0619-iiit-hyderabad/SMAI-A2' target=\"_blank\">https://wandb.ai/ketakishetye0619-iiit-hyderabad/SMAI-A2</a>"
      ],
      "text/plain": [
       "<IPython.core.display.HTML object>"
      ]
     },
     "metadata": {},
     "output_type": "display_data"
    },
    {
     "data": {
      "text/html": [
       " View run at <a href='https://wandb.ai/ketakishetye0619-iiit-hyderabad/SMAI-A2/runs/532dc6jm' target=\"_blank\">https://wandb.ai/ketakishetye0619-iiit-hyderabad/SMAI-A2/runs/532dc6jm</a>"
      ],
      "text/plain": [
       "<IPython.core.display.HTML object>"
      ]
     },
     "metadata": {},
     "output_type": "display_data"
    },
    {
     "name": "stdout",
     "output_type": "stream",
     "text": [
      "Initialising model\n"
     ]
    },
    {
     "name": "stderr",
     "output_type": "stream",
     "text": [
      "Training Progress:   1%|          | 1/100 [00:00<00:21,  4.53it/s]"
     ]
    },
    {
     "name": "stdout",
     "output_type": "stream",
     "text": [
      "Epoch: 0,Loss:1686.5073155490904\n",
      "Epoch: 0,Validation Loss:783.2415125177426\n"
     ]
    },
    {
     "name": "stderr",
     "output_type": "stream",
     "text": [
      "Training Progress:  11%|█         | 11/100 [00:02<00:16,  5.42it/s]"
     ]
    },
    {
     "name": "stdout",
     "output_type": "stream",
     "text": [
      "Epoch: 9,Train Loss:294.375862830806\n",
      "Epoch: 9,Validation Loss:599.0039507253155\n"
     ]
    },
    {
     "name": "stderr",
     "output_type": "stream",
     "text": [
      "Training Progress:  21%|██        | 21/100 [00:04<00:16,  4.90it/s]"
     ]
    },
    {
     "name": "stdout",
     "output_type": "stream",
     "text": [
      "Epoch: 19,Train Loss:239.0735618120578\n",
      "Epoch: 19,Validation Loss:588.7242879792569\n"
     ]
    },
    {
     "name": "stderr",
     "output_type": "stream",
     "text": [
      "Training Progress:  30%|███       | 30/100 [00:05<00:14,  4.88it/s]"
     ]
    },
    {
     "name": "stdout",
     "output_type": "stream",
     "text": [
      "Epoch: 29,Train Loss:213.69076952553226\n",
      "Epoch: 29,Validation Loss:589.9118635068407\n"
     ]
    },
    {
     "name": "stderr",
     "output_type": "stream",
     "text": [
      "Training Progress:  40%|████      | 40/100 [00:07<00:12,  4.86it/s]"
     ]
    },
    {
     "name": "stdout",
     "output_type": "stream",
     "text": [
      "Epoch: 39,Train Loss:196.5051939201675\n",
      "Epoch: 39,Validation Loss:588.27516431422\n"
     ]
    },
    {
     "name": "stderr",
     "output_type": "stream",
     "text": [
      "Training Progress:  50%|█████     | 50/100 [00:10<00:10,  4.68it/s]"
     ]
    },
    {
     "name": "stdout",
     "output_type": "stream",
     "text": [
      "Epoch: 49,Train Loss:184.56721020609052\n",
      "Epoch: 49,Validation Loss:587.7339040396396\n"
     ]
    },
    {
     "name": "stderr",
     "output_type": "stream",
     "text": [
      "Training Progress:  61%|██████    | 61/100 [00:12<00:08,  4.81it/s]"
     ]
    },
    {
     "name": "stdout",
     "output_type": "stream",
     "text": [
      "Epoch: 59,Train Loss:174.03182363046307\n",
      "Epoch: 59,Validation Loss:606.0098586805187\n"
     ]
    },
    {
     "name": "stderr",
     "output_type": "stream",
     "text": [
      "Training Progress:  70%|███████   | 70/100 [00:14<00:06,  4.88it/s]"
     ]
    },
    {
     "name": "stdout",
     "output_type": "stream",
     "text": [
      "Epoch: 69,Train Loss:165.95522403004097\n",
      "Epoch: 69,Validation Loss:608.2708447082044\n"
     ]
    },
    {
     "name": "stderr",
     "output_type": "stream",
     "text": [
      "Training Progress:  80%|████████  | 80/100 [00:16<00:04,  4.89it/s]"
     ]
    },
    {
     "name": "stdout",
     "output_type": "stream",
     "text": [
      "Epoch: 79,Train Loss:162.12369174095207\n",
      "Epoch: 79,Validation Loss:613.0556553392753\n"
     ]
    },
    {
     "name": "stderr",
     "output_type": "stream",
     "text": [
      "Training Progress:  90%|█████████ | 90/100 [00:18<00:01,  5.08it/s]"
     ]
    },
    {
     "name": "stdout",
     "output_type": "stream",
     "text": [
      "Epoch: 89,Train Loss:156.73337976810865\n",
      "Epoch: 89,Validation Loss:606.4292907576845\n"
     ]
    },
    {
     "name": "stderr",
     "output_type": "stream",
     "text": [
      "Training Progress: 100%|██████████| 100/100 [00:20<00:00,  4.93it/s]"
     ]
    },
    {
     "name": "stdout",
     "output_type": "stream",
     "text": [
      "Epoch: 99,Train Loss:153.02840592841397\n",
      "Epoch: 99,Validation Loss:604.2757038310604\n",
      "Final Test Loss 551.0087880174743\n",
      "Root Mean Squared Error (RMSE): 23.4736\n",
      "R-squared (R²): 0.5760\n"
     ]
    },
    {
     "name": "stderr",
     "output_type": "stream",
     "text": [
      "\n"
     ]
    },
    {
     "data": {
      "text/html": [],
      "text/plain": [
       "<IPython.core.display.HTML object>"
      ]
     },
     "metadata": {},
     "output_type": "display_data"
    },
    {
     "data": {
      "text/html": [
       "<br>    <style><br>        .wandb-row {<br>            display: flex;<br>            flex-direction: row;<br>            flex-wrap: wrap;<br>            justify-content: flex-start;<br>            width: 100%;<br>        }<br>        .wandb-col {<br>            display: flex;<br>            flex-direction: column;<br>            flex-basis: 100%;<br>            flex: 1;<br>            padding: 10px;<br>        }<br>    </style><br><div class=\"wandb-row\"><div class=\"wandb-col\"><h3>Run history:</h3><br/><table class=\"wandb\"><tr><td>Epoch</td><td>▁▁▁▁▂▂▂▂▂▂▃▃▃▃▃▄▄▄▄▄▅▅▅▅▅▅▅▆▆▆▇▇▇▇▇▇████</td></tr><tr><td>Train Loss</td><td>█▇▆▅▅▄▄▄▃▃▃▃▃▃▃▂▂▂▂▂▂▂▂▂▂▂▁▁▁▁▁▁▁▁▁▁▁▁▁▁</td></tr><tr><td>Validation Loss</td><td>█▆▄▃▂▂▁▂▁▁▁▁▂▂▂▂▂▁▂▂▂▂▂▂▂▂▂▃▂▂▂▃▂▂▂▂▃▃▂▂</td></tr></table><br/></div><div class=\"wandb-col\"><h3>Run summary:</h3><br/><table class=\"wandb\"><tr><td>Epoch</td><td>99</td></tr><tr><td>Train Loss</td><td>153.02841</td></tr><tr><td>Validation Loss</td><td>604.2757</td></tr></table><br/></div></div>"
      ],
      "text/plain": [
       "<IPython.core.display.HTML object>"
      ]
     },
     "metadata": {},
     "output_type": "display_data"
    },
    {
     "data": {
      "text/html": [
       " View run <strong style=\"color:#cdcd00\">2.2-Tanh-MBGD</strong> at: <a href='https://wandb.ai/ketakishetye0619-iiit-hyderabad/SMAI-A2/runs/532dc6jm' target=\"_blank\">https://wandb.ai/ketakishetye0619-iiit-hyderabad/SMAI-A2/runs/532dc6jm</a><br> View project at: <a href='https://wandb.ai/ketakishetye0619-iiit-hyderabad/SMAI-A2' target=\"_blank\">https://wandb.ai/ketakishetye0619-iiit-hyderabad/SMAI-A2</a><br>Synced 5 W&B file(s), 0 media file(s), 0 artifact file(s) and 0 other file(s)"
      ],
      "text/plain": [
       "<IPython.core.display.HTML object>"
      ]
     },
     "metadata": {},
     "output_type": "display_data"
    },
    {
     "data": {
      "text/html": [
       "Find logs at: <code>.\\wandb\\run-20250315_153401-532dc6jm\\logs</code>"
      ],
      "text/plain": [
       "<IPython.core.display.HTML object>"
      ]
     },
     "metadata": {},
     "output_type": "display_data"
    }
   ],
   "source": [
    "wandb.init(project=\"SMAI-A2\", name=\"2.2-Tanh-MBGD\")\n",
    "print(\"Initialising model\")\n",
    "model = MLP(input_dim, hidden_dim, output_dim,activation)   \n",
    "model.train(x_train_np,y_train_np,num_epochs,learning_rate,x_val_np,y_val_np,batch_size)\n",
    "y_pred_test=model.predict(x_test_np)\n",
    "test_loss=model.mse_loss(y_test_np,y_pred_test)\n",
    "print(f\"Final Test Loss {test_loss}\")\n",
    "test_rmse=model.rmse(test_loss)\n",
    "test_r2_score=model.r2_score(y_test_np,y_pred_test)\n",
    "wandb.finish()"
   ]
  },
  {
   "cell_type": "code",
   "execution_count": 38,
   "metadata": {},
   "outputs": [],
   "source": [
    "np.random.seed(42)\n",
    "input_dim=1105\n",
    "hidden_dim=128\n",
    "learning_rate=0.01\n",
    "num_epochs=100\n",
    "activation='tanh'\n",
    "batch_size=128\n",
    "output_dim=1"
   ]
  },
  {
   "cell_type": "code",
   "execution_count": 39,
   "metadata": {},
   "outputs": [
    {
     "data": {
      "text/html": [
       "Tracking run with wandb version 0.19.8"
      ],
      "text/plain": [
       "<IPython.core.display.HTML object>"
      ]
     },
     "metadata": {},
     "output_type": "display_data"
    },
    {
     "data": {
      "text/html": [
       "Run data is saved locally in <code>d:\\SMAI\\Assignments\\A2\\wandb\\run-20250315_171126-kcel4eor</code>"
      ],
      "text/plain": [
       "<IPython.core.display.HTML object>"
      ]
     },
     "metadata": {},
     "output_type": "display_data"
    },
    {
     "data": {
      "text/html": [
       "Syncing run <strong><a href='https://wandb.ai/ketakishetye0619-iiit-hyderabad/SMAI-A2/runs/kcel4eor' target=\"_blank\">2.2-Tanh-MBGD-Hyperparam1</a></strong> to <a href='https://wandb.ai/ketakishetye0619-iiit-hyderabad/SMAI-A2' target=\"_blank\">Weights & Biases</a> (<a href='https://wandb.me/developer-guide' target=\"_blank\">docs</a>)<br>"
      ],
      "text/plain": [
       "<IPython.core.display.HTML object>"
      ]
     },
     "metadata": {},
     "output_type": "display_data"
    },
    {
     "data": {
      "text/html": [
       " View project at <a href='https://wandb.ai/ketakishetye0619-iiit-hyderabad/SMAI-A2' target=\"_blank\">https://wandb.ai/ketakishetye0619-iiit-hyderabad/SMAI-A2</a>"
      ],
      "text/plain": [
       "<IPython.core.display.HTML object>"
      ]
     },
     "metadata": {},
     "output_type": "display_data"
    },
    {
     "data": {
      "text/html": [
       " View run at <a href='https://wandb.ai/ketakishetye0619-iiit-hyderabad/SMAI-A2/runs/kcel4eor' target=\"_blank\">https://wandb.ai/ketakishetye0619-iiit-hyderabad/SMAI-A2/runs/kcel4eor</a>"
      ],
      "text/plain": [
       "<IPython.core.display.HTML object>"
      ]
     },
     "metadata": {},
     "output_type": "display_data"
    },
    {
     "name": "stdout",
     "output_type": "stream",
     "text": [
      "Initialising model\n"
     ]
    },
    {
     "name": "stderr",
     "output_type": "stream",
     "text": [
      "Training Progress:   0%|          | 0/100 [00:00<?, ?it/s]"
     ]
    },
    {
     "name": "stdout",
     "output_type": "stream",
     "text": [
      "Epoch: 0,Loss:1610.072164174469"
     ]
    },
    {
     "name": "stderr",
     "output_type": "stream",
     "text": [
      "Training Progress:   1%|          | 1/100 [00:00<00:19,  5.03it/s]"
     ]
    },
    {
     "name": "stdout",
     "output_type": "stream",
     "text": [
      "\n",
      "Epoch: 0,Validation Loss:785.2717535311295\n"
     ]
    },
    {
     "name": "stderr",
     "output_type": "stream",
     "text": [
      "Training Progress:  10%|█         | 10/100 [00:01<00:16,  5.32it/s]"
     ]
    },
    {
     "name": "stdout",
     "output_type": "stream",
     "text": [
      "Epoch: 9,Train Loss:274.5252513381459\n",
      "Epoch: 9,Validation Loss:582.1045063482293\n"
     ]
    },
    {
     "name": "stderr",
     "output_type": "stream",
     "text": [
      "Training Progress:  20%|██        | 20/100 [00:03<00:15,  5.28it/s]"
     ]
    },
    {
     "name": "stdout",
     "output_type": "stream",
     "text": [
      "Epoch: 19,Train Loss:212.01036705158123\n",
      "Epoch: 19,Validation Loss:552.716731468977\n"
     ]
    },
    {
     "name": "stderr",
     "output_type": "stream",
     "text": [
      "Training Progress:  30%|███       | 30/100 [00:05<00:13,  5.30it/s]"
     ]
    },
    {
     "name": "stdout",
     "output_type": "stream",
     "text": [
      "Epoch: 29,Train Loss:181.39345614321002\n",
      "Epoch: 29,Validation Loss:544.9958549997857\n"
     ]
    },
    {
     "name": "stderr",
     "output_type": "stream",
     "text": [
      "Training Progress:  40%|████      | 40/100 [00:07<00:11,  5.11it/s]"
     ]
    },
    {
     "name": "stdout",
     "output_type": "stream",
     "text": [
      "Epoch: 39,Train Loss:162.79968218989472\n",
      "Epoch: 39,Validation Loss:536.5778035811805\n"
     ]
    },
    {
     "name": "stderr",
     "output_type": "stream",
     "text": [
      "Training Progress:  50%|█████     | 50/100 [00:09<00:10,  4.67it/s]"
     ]
    },
    {
     "name": "stdout",
     "output_type": "stream",
     "text": [
      "Epoch: 49,Train Loss:151.19756062204036\n",
      "Epoch: 49,Validation Loss:535.4750390114258\n"
     ]
    },
    {
     "name": "stderr",
     "output_type": "stream",
     "text": [
      "Training Progress:  60%|██████    | 60/100 [00:11<00:08,  4.88it/s]"
     ]
    },
    {
     "name": "stdout",
     "output_type": "stream",
     "text": [
      "Epoch: 59,Train Loss:142.02722543793666\n",
      "Epoch: 59,Validation Loss:541.3116589830014\n"
     ]
    },
    {
     "name": "stderr",
     "output_type": "stream",
     "text": [
      "Training Progress:  70%|███████   | 70/100 [00:13<00:05,  5.06it/s]"
     ]
    },
    {
     "name": "stdout",
     "output_type": "stream",
     "text": [
      "Epoch: 69,Train Loss:134.0648212285765\n",
      "Epoch: 69,Validation Loss:550.0291653255973\n"
     ]
    },
    {
     "name": "stderr",
     "output_type": "stream",
     "text": [
      "Training Progress:  80%|████████  | 80/100 [00:15<00:03,  5.20it/s]"
     ]
    },
    {
     "name": "stdout",
     "output_type": "stream",
     "text": [
      "Epoch: 79,Train Loss:128.86952958556893\n",
      "Epoch: 79,Validation Loss:555.037411101034\n"
     ]
    },
    {
     "name": "stderr",
     "output_type": "stream",
     "text": [
      "Training Progress:  90%|█████████ | 90/100 [00:17<00:02,  4.86it/s]"
     ]
    },
    {
     "name": "stdout",
     "output_type": "stream",
     "text": [
      "Epoch: 89,Train Loss:124.34286272698141\n",
      "Epoch: 89,Validation Loss:548.8739182924458\n"
     ]
    },
    {
     "name": "stderr",
     "output_type": "stream",
     "text": [
      "Training Progress: 100%|██████████| 100/100 [00:19<00:00,  5.03it/s]"
     ]
    },
    {
     "name": "stdout",
     "output_type": "stream",
     "text": [
      "Epoch: 99,Train Loss:120.25348652012237\n",
      "Epoch: 99,Validation Loss:557.7430673266496\n",
      "Final Test Loss 562.034335913484\n",
      "Root Mean Squared Error (RMSE): 23.7073\n",
      "R-squared (R²): 0.5675\n"
     ]
    },
    {
     "name": "stderr",
     "output_type": "stream",
     "text": [
      "\n"
     ]
    },
    {
     "data": {
      "text/html": [],
      "text/plain": [
       "<IPython.core.display.HTML object>"
      ]
     },
     "metadata": {},
     "output_type": "display_data"
    },
    {
     "data": {
      "text/html": [
       "<br>    <style><br>        .wandb-row {<br>            display: flex;<br>            flex-direction: row;<br>            flex-wrap: wrap;<br>            justify-content: flex-start;<br>            width: 100%;<br>        }<br>        .wandb-col {<br>            display: flex;<br>            flex-direction: column;<br>            flex-basis: 100%;<br>            flex: 1;<br>            padding: 10px;<br>        }<br>    </style><br><div class=\"wandb-row\"><div class=\"wandb-col\"><h3>Run history:</h3><br/><table class=\"wandb\"><tr><td>Epoch</td><td>▁▁▁▁▁▂▂▂▂▂▂▂▃▃▃▃▃▃▄▄▄▄▄▅▅▅▆▆▆▆▆▆▇▇▇█████</td></tr><tr><td>Train Loss</td><td>█▆▅▅▅▄▄▃▃▃▃▃▃▂▂▂▂▂▂▂▂▂▂▁▁▁▁▁▁▁▁▁▁▁▁▁▁▁▁▁</td></tr><tr><td>Validation Loss</td><td>█▆▃▃▃▂▂▁▂▂▁▁▁▁▁▁▁▁▁▁▁▁▁▁▁▁▁▁▁▁▁▁▁▁▁▁▁▁▁▁</td></tr></table><br/></div><div class=\"wandb-col\"><h3>Run summary:</h3><br/><table class=\"wandb\"><tr><td>Epoch</td><td>99</td></tr><tr><td>Train Loss</td><td>120.25349</td></tr><tr><td>Validation Loss</td><td>557.74307</td></tr></table><br/></div></div>"
      ],
      "text/plain": [
       "<IPython.core.display.HTML object>"
      ]
     },
     "metadata": {},
     "output_type": "display_data"
    },
    {
     "data": {
      "text/html": [
       " View run <strong style=\"color:#cdcd00\">2.2-Tanh-MBGD-Hyperparam1</strong> at: <a href='https://wandb.ai/ketakishetye0619-iiit-hyderabad/SMAI-A2/runs/kcel4eor' target=\"_blank\">https://wandb.ai/ketakishetye0619-iiit-hyderabad/SMAI-A2/runs/kcel4eor</a><br> View project at: <a href='https://wandb.ai/ketakishetye0619-iiit-hyderabad/SMAI-A2' target=\"_blank\">https://wandb.ai/ketakishetye0619-iiit-hyderabad/SMAI-A2</a><br>Synced 5 W&B file(s), 0 media file(s), 0 artifact file(s) and 0 other file(s)"
      ],
      "text/plain": [
       "<IPython.core.display.HTML object>"
      ]
     },
     "metadata": {},
     "output_type": "display_data"
    },
    {
     "data": {
      "text/html": [
       "Find logs at: <code>.\\wandb\\run-20250315_171126-kcel4eor\\logs</code>"
      ],
      "text/plain": [
       "<IPython.core.display.HTML object>"
      ]
     },
     "metadata": {},
     "output_type": "display_data"
    }
   ],
   "source": [
    "wandb.init(project=\"SMAI-A2\", name=\"2.2-Tanh-MBGD-Hyperparam1\")\n",
    "print(\"Initialising model\")\n",
    "model = MLP(input_dim, hidden_dim, output_dim,activation)   \n",
    "model.train(x_train_np,y_train_np,num_epochs,learning_rate,x_val_np,y_val_np,batch_size)\n",
    "y_pred_test=model.predict(x_test_np)\n",
    "test_loss=model.mse_loss(y_test_np,y_pred_test)\n",
    "print(f\"Final Test Loss {test_loss}\")\n",
    "test_rmse=model.rmse(test_loss)\n",
    "test_r2_score=model.r2_score(y_test_np,y_pred_test)\n",
    "wandb.finish()"
   ]
  },
  {
   "cell_type": "code",
   "execution_count": 40,
   "metadata": {},
   "outputs": [],
   "source": [
    "np.random.seed(42)\n",
    "input_dim=1105\n",
    "hidden_dim=64\n",
    "learning_rate=0.001\n",
    "num_epochs=100\n",
    "activation='tanh'\n",
    "batch_size=128\n",
    "output_dim=1"
   ]
  },
  {
   "cell_type": "code",
   "execution_count": 41,
   "metadata": {},
   "outputs": [
    {
     "data": {
      "text/html": [
       "Tracking run with wandb version 0.19.8"
      ],
      "text/plain": [
       "<IPython.core.display.HTML object>"
      ]
     },
     "metadata": {},
     "output_type": "display_data"
    },
    {
     "data": {
      "text/html": [
       "Run data is saved locally in <code>d:\\SMAI\\Assignments\\A2\\wandb\\run-20250315_171149-bcyc3wl2</code>"
      ],
      "text/plain": [
       "<IPython.core.display.HTML object>"
      ]
     },
     "metadata": {},
     "output_type": "display_data"
    },
    {
     "data": {
      "text/html": [
       "Syncing run <strong><a href='https://wandb.ai/ketakishetye0619-iiit-hyderabad/SMAI-A2/runs/bcyc3wl2' target=\"_blank\">2.2-Tanh-MBGD-Hyperparam2</a></strong> to <a href='https://wandb.ai/ketakishetye0619-iiit-hyderabad/SMAI-A2' target=\"_blank\">Weights & Biases</a> (<a href='https://wandb.me/developer-guide' target=\"_blank\">docs</a>)<br>"
      ],
      "text/plain": [
       "<IPython.core.display.HTML object>"
      ]
     },
     "metadata": {},
     "output_type": "display_data"
    },
    {
     "data": {
      "text/html": [
       " View project at <a href='https://wandb.ai/ketakishetye0619-iiit-hyderabad/SMAI-A2' target=\"_blank\">https://wandb.ai/ketakishetye0619-iiit-hyderabad/SMAI-A2</a>"
      ],
      "text/plain": [
       "<IPython.core.display.HTML object>"
      ]
     },
     "metadata": {},
     "output_type": "display_data"
    },
    {
     "data": {
      "text/html": [
       " View run at <a href='https://wandb.ai/ketakishetye0619-iiit-hyderabad/SMAI-A2/runs/bcyc3wl2' target=\"_blank\">https://wandb.ai/ketakishetye0619-iiit-hyderabad/SMAI-A2/runs/bcyc3wl2</a>"
      ],
      "text/plain": [
       "<IPython.core.display.HTML object>"
      ]
     },
     "metadata": {},
     "output_type": "display_data"
    },
    {
     "name": "stdout",
     "output_type": "stream",
     "text": [
      "Initialising model\n"
     ]
    },
    {
     "name": "stderr",
     "output_type": "stream",
     "text": [
      "Training Progress:   0%|          | 0/100 [00:00<?, ?it/s]"
     ]
    },
    {
     "name": "stdout",
     "output_type": "stream",
     "text": [
      "Epoch: 0,Loss:4996.46460991764\n"
     ]
    },
    {
     "name": "stderr",
     "output_type": "stream",
     "text": [
      "Training Progress:   1%|          | 1/100 [00:00<00:19,  5.07it/s]"
     ]
    },
    {
     "name": "stdout",
     "output_type": "stream",
     "text": [
      "Epoch: 0,Validation Loss:2592.003952312885\n"
     ]
    },
    {
     "name": "stderr",
     "output_type": "stream",
     "text": [
      "Training Progress:  10%|█         | 10/100 [00:01<00:16,  5.48it/s]"
     ]
    },
    {
     "name": "stdout",
     "output_type": "stream",
     "text": [
      "Epoch: 9,Train Loss:357.145843400475\n",
      "Epoch: 9,Validation Loss:578.6836194943917\n"
     ]
    },
    {
     "name": "stderr",
     "output_type": "stream",
     "text": [
      "Training Progress:  21%|██        | 21/100 [00:03<00:13,  5.89it/s]"
     ]
    },
    {
     "name": "stdout",
     "output_type": "stream",
     "text": [
      "Epoch: 19,Train Loss:249.41931999718503\n",
      "Epoch: 19,Validation Loss:519.6770531394367\n"
     ]
    },
    {
     "name": "stderr",
     "output_type": "stream",
     "text": [
      "Training Progress:  31%|███       | 31/100 [00:05<00:11,  5.78it/s]"
     ]
    },
    {
     "name": "stdout",
     "output_type": "stream",
     "text": [
      "Epoch: 29,Train Loss:200.62957015442086\n",
      "Epoch: 29,Validation Loss:509.3717836944766\n"
     ]
    },
    {
     "name": "stderr",
     "output_type": "stream",
     "text": [
      "Training Progress:  41%|████      | 41/100 [00:07<00:09,  6.09it/s]"
     ]
    },
    {
     "name": "stdout",
     "output_type": "stream",
     "text": [
      "Epoch: 39,Train Loss:173.77450595381447\n",
      "Epoch: 39,Validation Loss:501.7437442162928\n"
     ]
    },
    {
     "name": "stderr",
     "output_type": "stream",
     "text": [
      "Training Progress:  51%|█████     | 51/100 [00:09<00:08,  5.81it/s]"
     ]
    },
    {
     "name": "stdout",
     "output_type": "stream",
     "text": [
      "Epoch: 49,Train Loss:154.59911999781636\n",
      "Epoch: 49,Validation Loss:498.3965612944684\n"
     ]
    },
    {
     "name": "stderr",
     "output_type": "stream",
     "text": [
      "Training Progress:  61%|██████    | 61/100 [00:10<00:06,  6.19it/s]"
     ]
    },
    {
     "name": "stdout",
     "output_type": "stream",
     "text": [
      "Epoch: 59,Train Loss:140.47681692205532\n",
      "Epoch: 59,Validation Loss:506.9505346709672\n"
     ]
    },
    {
     "name": "stderr",
     "output_type": "stream",
     "text": [
      "Training Progress:  70%|███████   | 70/100 [00:12<00:05,  5.67it/s]"
     ]
    },
    {
     "name": "stdout",
     "output_type": "stream",
     "text": [
      "Epoch: 69,Train Loss:131.5190981117293\n",
      "Epoch: 69,Validation Loss:504.1499604017002\n"
     ]
    },
    {
     "name": "stderr",
     "output_type": "stream",
     "text": [
      "Training Progress:  81%|████████  | 81/100 [00:14<00:03,  5.57it/s]"
     ]
    },
    {
     "name": "stdout",
     "output_type": "stream",
     "text": [
      "Epoch: 79,Train Loss:124.62549640592643\n",
      "Epoch: 79,Validation Loss:497.9291842343733\n"
     ]
    },
    {
     "name": "stderr",
     "output_type": "stream",
     "text": [
      "Training Progress:  91%|█████████ | 91/100 [00:16<00:01,  5.55it/s]"
     ]
    },
    {
     "name": "stdout",
     "output_type": "stream",
     "text": [
      "Epoch: 89,Train Loss:117.46484977755101\n",
      "Epoch: 89,Validation Loss:503.8071874097469\n"
     ]
    },
    {
     "name": "stderr",
     "output_type": "stream",
     "text": [
      "Training Progress: 100%|██████████| 100/100 [00:17<00:00,  5.63it/s]"
     ]
    },
    {
     "name": "stdout",
     "output_type": "stream",
     "text": [
      "Epoch: 99,Train Loss:111.25023891592726\n",
      "Epoch: 99,Validation Loss:507.98390858755886\n",
      "Final Test Loss 530.2036967423478\n",
      "Root Mean Squared Error (RMSE): 23.0262\n",
      "R-squared (R²): 0.5920\n"
     ]
    },
    {
     "name": "stderr",
     "output_type": "stream",
     "text": [
      "\n"
     ]
    },
    {
     "data": {
      "text/html": [],
      "text/plain": [
       "<IPython.core.display.HTML object>"
      ]
     },
     "metadata": {},
     "output_type": "display_data"
    },
    {
     "data": {
      "text/html": [
       "<br>    <style><br>        .wandb-row {<br>            display: flex;<br>            flex-direction: row;<br>            flex-wrap: wrap;<br>            justify-content: flex-start;<br>            width: 100%;<br>        }<br>        .wandb-col {<br>            display: flex;<br>            flex-direction: column;<br>            flex-basis: 100%;<br>            flex: 1;<br>            padding: 10px;<br>        }<br>    </style><br><div class=\"wandb-row\"><div class=\"wandb-col\"><h3>Run history:</h3><br/><table class=\"wandb\"><tr><td>Epoch</td><td>▁▁▁▁▁▂▂▂▃▃▃▃▃▃▄▄▄▄▄▅▅▅▅▆▆▆▆▆▆▆▆▇▇▇▇▇▇███</td></tr><tr><td>Train Loss</td><td>█▅▄▃▃▂▂▂▂▂▂▂▂▂▂▁▁▁▁▁▁▁▁▁▁▁▁▁▁▁▁▁▁▁▁▁▁▁▁▁</td></tr><tr><td>Validation Loss</td><td>█▄▃▃▂▂▂▂▂▂▁▁▁▁▁▁▁▁▁▁▁▁▁▁▁▁▁▁▁▁▁▁▁▁▁▁▁▁▁▁</td></tr></table><br/></div><div class=\"wandb-col\"><h3>Run summary:</h3><br/><table class=\"wandb\"><tr><td>Epoch</td><td>99</td></tr><tr><td>Train Loss</td><td>111.25024</td></tr><tr><td>Validation Loss</td><td>507.98391</td></tr></table><br/></div></div>"
      ],
      "text/plain": [
       "<IPython.core.display.HTML object>"
      ]
     },
     "metadata": {},
     "output_type": "display_data"
    },
    {
     "data": {
      "text/html": [
       " View run <strong style=\"color:#cdcd00\">2.2-Tanh-MBGD-Hyperparam2</strong> at: <a href='https://wandb.ai/ketakishetye0619-iiit-hyderabad/SMAI-A2/runs/bcyc3wl2' target=\"_blank\">https://wandb.ai/ketakishetye0619-iiit-hyderabad/SMAI-A2/runs/bcyc3wl2</a><br> View project at: <a href='https://wandb.ai/ketakishetye0619-iiit-hyderabad/SMAI-A2' target=\"_blank\">https://wandb.ai/ketakishetye0619-iiit-hyderabad/SMAI-A2</a><br>Synced 5 W&B file(s), 0 media file(s), 0 artifact file(s) and 0 other file(s)"
      ],
      "text/plain": [
       "<IPython.core.display.HTML object>"
      ]
     },
     "metadata": {},
     "output_type": "display_data"
    },
    {
     "data": {
      "text/html": [
       "Find logs at: <code>.\\wandb\\run-20250315_171149-bcyc3wl2\\logs</code>"
      ],
      "text/plain": [
       "<IPython.core.display.HTML object>"
      ]
     },
     "metadata": {},
     "output_type": "display_data"
    }
   ],
   "source": [
    "wandb.init(project=\"SMAI-A2\", name=\"2.2-Tanh-MBGD-Hyperparam2\")\n",
    "print(\"Initialising model\")\n",
    "model = MLP(input_dim, hidden_dim, output_dim,activation)   \n",
    "model.train(x_train_np,y_train_np,num_epochs,learning_rate,x_val_np,y_val_np,batch_size)\n",
    "y_pred_test=model.predict(x_test_np)\n",
    "test_loss=model.mse_loss(y_test_np,y_pred_test)\n",
    "print(f\"Final Test Loss {test_loss}\")\n",
    "test_rmse=model.rmse(test_loss)\n",
    "test_r2_score=model.r2_score(y_test_np,y_pred_test)\n",
    "wandb.finish()"
   ]
  },
  {
   "cell_type": "markdown",
   "metadata": {},
   "source": [
    "### Sigmoid"
   ]
  },
  {
   "cell_type": "code",
   "execution_count": 17,
   "metadata": {},
   "outputs": [],
   "source": [
    "np.random.seed(42)\n",
    "input_dim=1105\n",
    "hidden_dim=64\n",
    "learning_rate=0.01\n",
    "num_epochs=100\n",
    "activation='sigmoid'\n",
    "batch_size=None\n",
    "output_dim=1"
   ]
  },
  {
   "cell_type": "code",
   "execution_count": 18,
   "metadata": {},
   "outputs": [
    {
     "data": {
      "text/html": [
       "Tracking run with wandb version 0.19.8"
      ],
      "text/plain": [
       "<IPython.core.display.HTML object>"
      ]
     },
     "metadata": {},
     "output_type": "display_data"
    },
    {
     "data": {
      "text/html": [
       "Run data is saved locally in <code>d:\\SMAI\\Assignments\\A2\\wandb\\run-20250315_153424-7ayfy9fx</code>"
      ],
      "text/plain": [
       "<IPython.core.display.HTML object>"
      ]
     },
     "metadata": {},
     "output_type": "display_data"
    },
    {
     "data": {
      "text/html": [
       "Syncing run <strong><a href='https://wandb.ai/ketakishetye0619-iiit-hyderabad/SMAI-A2/runs/7ayfy9fx' target=\"_blank\">2.2-Sigmoid-BGD</a></strong> to <a href='https://wandb.ai/ketakishetye0619-iiit-hyderabad/SMAI-A2' target=\"_blank\">Weights & Biases</a> (<a href='https://wandb.me/developer-guide' target=\"_blank\">docs</a>)<br>"
      ],
      "text/plain": [
       "<IPython.core.display.HTML object>"
      ]
     },
     "metadata": {},
     "output_type": "display_data"
    },
    {
     "data": {
      "text/html": [
       " View project at <a href='https://wandb.ai/ketakishetye0619-iiit-hyderabad/SMAI-A2' target=\"_blank\">https://wandb.ai/ketakishetye0619-iiit-hyderabad/SMAI-A2</a>"
      ],
      "text/plain": [
       "<IPython.core.display.HTML object>"
      ]
     },
     "metadata": {},
     "output_type": "display_data"
    },
    {
     "data": {
      "text/html": [
       " View run at <a href='https://wandb.ai/ketakishetye0619-iiit-hyderabad/SMAI-A2/runs/7ayfy9fx' target=\"_blank\">https://wandb.ai/ketakishetye0619-iiit-hyderabad/SMAI-A2/runs/7ayfy9fx</a>"
      ],
      "text/plain": [
       "<IPython.core.display.HTML object>"
      ]
     },
     "metadata": {},
     "output_type": "display_data"
    },
    {
     "name": "stdout",
     "output_type": "stream",
     "text": [
      "Initialising model\n"
     ]
    },
    {
     "name": "stderr",
     "output_type": "stream",
     "text": [
      "Training Progress:   1%|          | 1/100 [00:00<00:12,  7.79it/s]"
     ]
    },
    {
     "name": "stdout",
     "output_type": "stream",
     "text": [
      "Epoch: 0,Loss:6678.391500184023\n",
      "Epoch: 0,Validation Loss:5309.707318313608\n"
     ]
    },
    {
     "name": "stderr",
     "output_type": "stream",
     "text": [
      "Training Progress:  11%|█         | 11/100 [00:01<00:11,  7.70it/s]"
     ]
    },
    {
     "name": "stdout",
     "output_type": "stream",
     "text": [
      "Epoch: 9,Train Loss:746.6167683135905\n",
      "Epoch: 9,Validation Loss:873.4120141099899\n"
     ]
    },
    {
     "name": "stderr",
     "output_type": "stream",
     "text": [
      "Training Progress:  21%|██        | 21/100 [00:02<00:10,  7.89it/s]"
     ]
    },
    {
     "name": "stdout",
     "output_type": "stream",
     "text": [
      "Epoch: 19,Train Loss:511.10104587354465\n",
      "Epoch: 19,Validation Loss:694.8928597796311\n"
     ]
    },
    {
     "name": "stderr",
     "output_type": "stream",
     "text": [
      "Training Progress:  31%|███       | 31/100 [00:03<00:08,  8.11it/s]"
     ]
    },
    {
     "name": "stdout",
     "output_type": "stream",
     "text": [
      "Epoch: 29,Train Loss:452.97130715108875\n",
      "Epoch: 29,Validation Loss:649.3682391876205\n"
     ]
    },
    {
     "name": "stderr",
     "output_type": "stream",
     "text": [
      "Training Progress:  41%|████      | 41/100 [00:05<00:07,  8.13it/s]"
     ]
    },
    {
     "name": "stdout",
     "output_type": "stream",
     "text": [
      "Epoch: 39,Train Loss:421.3922671589232\n",
      "Epoch: 39,Validation Loss:625.3705425697699\n"
     ]
    },
    {
     "name": "stderr",
     "output_type": "stream",
     "text": [
      "Training Progress:  51%|█████     | 51/100 [00:06<00:06,  8.15it/s]"
     ]
    },
    {
     "name": "stdout",
     "output_type": "stream",
     "text": [
      "Epoch: 49,Train Loss:400.16001012120256\n",
      "Epoch: 49,Validation Loss:609.8928185372695\n"
     ]
    },
    {
     "name": "stderr",
     "output_type": "stream",
     "text": [
      "Training Progress:  61%|██████    | 61/100 [00:07<00:04,  8.03it/s]"
     ]
    },
    {
     "name": "stdout",
     "output_type": "stream",
     "text": [
      "Epoch: 59,Train Loss:384.65786933931685\n",
      "Epoch: 59,Validation Loss:599.2119523054282\n"
     ]
    },
    {
     "name": "stderr",
     "output_type": "stream",
     "text": [
      "Training Progress:  71%|███████   | 71/100 [00:08<00:03,  8.04it/s]"
     ]
    },
    {
     "name": "stdout",
     "output_type": "stream",
     "text": [
      "Epoch: 69,Train Loss:372.5716411297213\n",
      "Epoch: 69,Validation Loss:591.2697618596143\n"
     ]
    },
    {
     "name": "stderr",
     "output_type": "stream",
     "text": [
      "Training Progress:  81%|████████  | 81/100 [00:10<00:02,  8.06it/s]"
     ]
    },
    {
     "name": "stdout",
     "output_type": "stream",
     "text": [
      "Epoch: 79,Train Loss:362.72482231397265\n",
      "Epoch: 79,Validation Loss:585.178312740362\n"
     ]
    },
    {
     "name": "stderr",
     "output_type": "stream",
     "text": [
      "Training Progress:  91%|█████████ | 91/100 [00:11<00:01,  7.74it/s]"
     ]
    },
    {
     "name": "stdout",
     "output_type": "stream",
     "text": [
      "Epoch: 89,Train Loss:354.3393587995822\n",
      "Epoch: 89,Validation Loss:580.145025195878\n"
     ]
    },
    {
     "name": "stderr",
     "output_type": "stream",
     "text": [
      "Training Progress: 100%|██████████| 100/100 [00:12<00:00,  7.93it/s]"
     ]
    },
    {
     "name": "stdout",
     "output_type": "stream",
     "text": [
      "Epoch: 99,Train Loss:347.11211114574525\n",
      "Epoch: 99,Validation Loss:575.777704553111\n",
      "Final Test Loss 514.0383699241794\n",
      "Root Mean Squared Error (RMSE): 22.6724\n",
      "R-squared (R²): 0.6044\n"
     ]
    },
    {
     "name": "stderr",
     "output_type": "stream",
     "text": [
      "\n"
     ]
    },
    {
     "data": {
      "text/html": [],
      "text/plain": [
       "<IPython.core.display.HTML object>"
      ]
     },
     "metadata": {},
     "output_type": "display_data"
    },
    {
     "data": {
      "text/html": [
       "<br>    <style><br>        .wandb-row {<br>            display: flex;<br>            flex-direction: row;<br>            flex-wrap: wrap;<br>            justify-content: flex-start;<br>            width: 100%;<br>        }<br>        .wandb-col {<br>            display: flex;<br>            flex-direction: column;<br>            flex-basis: 100%;<br>            flex: 1;<br>            padding: 10px;<br>        }<br>    </style><br><div class=\"wandb-row\"><div class=\"wandb-col\"><h3>Run history:</h3><br/><table class=\"wandb\"><tr><td>Epoch</td><td>▁▁▁▁▁▂▂▂▂▂▃▃▃▃▃▄▄▄▄▄▄▄▅▅▆▆▆▆▆▆▇▇▇▇▇▇████</td></tr><tr><td>Train Loss</td><td>█▆▅▄▂▁▁▁▁▁▁▁▁▁▁▁▁▁▁▁▁▁▁▁▁▁▁▁▁▁▁▁▁▁▁▁▁▁▁▁</td></tr><tr><td>Validation Loss</td><td>█▆▃▃▂▂▁▁▁▁▁▁▁▁▁▁▁▁▁▁▁▁▁▁▁▁▁▁▁▁▁▁▁▁▁▁▁▁▁▁</td></tr></table><br/></div><div class=\"wandb-col\"><h3>Run summary:</h3><br/><table class=\"wandb\"><tr><td>Epoch</td><td>99</td></tr><tr><td>Train Loss</td><td>347.11211</td></tr><tr><td>Validation Loss</td><td>575.7777</td></tr></table><br/></div></div>"
      ],
      "text/plain": [
       "<IPython.core.display.HTML object>"
      ]
     },
     "metadata": {},
     "output_type": "display_data"
    },
    {
     "data": {
      "text/html": [
       " View run <strong style=\"color:#cdcd00\">2.2-Sigmoid-BGD</strong> at: <a href='https://wandb.ai/ketakishetye0619-iiit-hyderabad/SMAI-A2/runs/7ayfy9fx' target=\"_blank\">https://wandb.ai/ketakishetye0619-iiit-hyderabad/SMAI-A2/runs/7ayfy9fx</a><br> View project at: <a href='https://wandb.ai/ketakishetye0619-iiit-hyderabad/SMAI-A2' target=\"_blank\">https://wandb.ai/ketakishetye0619-iiit-hyderabad/SMAI-A2</a><br>Synced 5 W&B file(s), 0 media file(s), 0 artifact file(s) and 0 other file(s)"
      ],
      "text/plain": [
       "<IPython.core.display.HTML object>"
      ]
     },
     "metadata": {},
     "output_type": "display_data"
    },
    {
     "data": {
      "text/html": [
       "Find logs at: <code>.\\wandb\\run-20250315_153424-7ayfy9fx\\logs</code>"
      ],
      "text/plain": [
       "<IPython.core.display.HTML object>"
      ]
     },
     "metadata": {},
     "output_type": "display_data"
    }
   ],
   "source": [
    "wandb.init(project=\"SMAI-A2\", name=\"2.2-Sigmoid-BGD\")\n",
    "print(\"Initialising model\")\n",
    "model = MLP(input_dim, hidden_dim, output_dim,activation)   \n",
    "model.train(x_train_np,y_train_np,num_epochs,learning_rate,x_val_np,y_val_np,batch_size)\n",
    "y_pred_test=model.predict(x_test_np)\n",
    "test_loss=model.mse_loss(y_test_np,y_pred_test)\n",
    "print(f\"Final Test Loss {test_loss}\")\n",
    "test_rmse=model.rmse(test_loss)\n",
    "test_r2_score=model.r2_score(y_test_np,y_pred_test)\n",
    "wandb.finish()"
   ]
  },
  {
   "cell_type": "code",
   "execution_count": 42,
   "metadata": {},
   "outputs": [],
   "source": [
    "np.random.seed(42)\n",
    "input_dim=1105\n",
    "hidden_dim=128\n",
    "learning_rate=0.01\n",
    "num_epochs=100\n",
    "activation='sigmoid'\n",
    "batch_size=None\n",
    "output_dim=1"
   ]
  },
  {
   "cell_type": "code",
   "execution_count": 43,
   "metadata": {},
   "outputs": [
    {
     "data": {
      "text/html": [
       "Tracking run with wandb version 0.19.8"
      ],
      "text/plain": [
       "<IPython.core.display.HTML object>"
      ]
     },
     "metadata": {},
     "output_type": "display_data"
    },
    {
     "data": {
      "text/html": [
       "Run data is saved locally in <code>d:\\SMAI\\Assignments\\A2\\wandb\\run-20250315_171210-exaqbi3f</code>"
      ],
      "text/plain": [
       "<IPython.core.display.HTML object>"
      ]
     },
     "metadata": {},
     "output_type": "display_data"
    },
    {
     "data": {
      "text/html": [
       "Syncing run <strong><a href='https://wandb.ai/ketakishetye0619-iiit-hyderabad/SMAI-A2/runs/exaqbi3f' target=\"_blank\">2.2-Sigmoid-BGD-Hyperparam1</a></strong> to <a href='https://wandb.ai/ketakishetye0619-iiit-hyderabad/SMAI-A2' target=\"_blank\">Weights & Biases</a> (<a href='https://wandb.me/developer-guide' target=\"_blank\">docs</a>)<br>"
      ],
      "text/plain": [
       "<IPython.core.display.HTML object>"
      ]
     },
     "metadata": {},
     "output_type": "display_data"
    },
    {
     "data": {
      "text/html": [
       " View project at <a href='https://wandb.ai/ketakishetye0619-iiit-hyderabad/SMAI-A2' target=\"_blank\">https://wandb.ai/ketakishetye0619-iiit-hyderabad/SMAI-A2</a>"
      ],
      "text/plain": [
       "<IPython.core.display.HTML object>"
      ]
     },
     "metadata": {},
     "output_type": "display_data"
    },
    {
     "data": {
      "text/html": [
       " View run at <a href='https://wandb.ai/ketakishetye0619-iiit-hyderabad/SMAI-A2/runs/exaqbi3f' target=\"_blank\">https://wandb.ai/ketakishetye0619-iiit-hyderabad/SMAI-A2/runs/exaqbi3f</a>"
      ],
      "text/plain": [
       "<IPython.core.display.HTML object>"
      ]
     },
     "metadata": {},
     "output_type": "display_data"
    },
    {
     "name": "stdout",
     "output_type": "stream",
     "text": [
      "Initialising model\n"
     ]
    },
    {
     "name": "stderr",
     "output_type": "stream",
     "text": [
      "Training Progress:   1%|          | 1/100 [00:00<00:15,  6.54it/s]"
     ]
    },
    {
     "name": "stdout",
     "output_type": "stream",
     "text": [
      "Epoch: 0,Loss:6663.612275166658\n",
      "Epoch: 0,Validation Loss:3999.5286091103244\n"
     ]
    },
    {
     "name": "stderr",
     "output_type": "stream",
     "text": [
      "Training Progress:  11%|█         | 11/100 [00:01<00:14,  6.31it/s]"
     ]
    },
    {
     "name": "stdout",
     "output_type": "stream",
     "text": [
      "Epoch: 9,Train Loss:680.6673462864395\n",
      "Epoch: 9,Validation Loss:814.5136816848269\n"
     ]
    },
    {
     "name": "stderr",
     "output_type": "stream",
     "text": [
      "Training Progress:  21%|██        | 21/100 [00:03<00:12,  6.54it/s]"
     ]
    },
    {
     "name": "stdout",
     "output_type": "stream",
     "text": [
      "Epoch: 19,Train Loss:501.454389248983\n",
      "Epoch: 19,Validation Loss:669.5964332255148\n"
     ]
    },
    {
     "name": "stderr",
     "output_type": "stream",
     "text": [
      "Training Progress:  31%|███       | 31/100 [00:04<00:10,  6.57it/s]"
     ]
    },
    {
     "name": "stdout",
     "output_type": "stream",
     "text": [
      "Epoch: 29,Train Loss:443.53490846583287\n",
      "Epoch: 29,Validation Loss:626.9570585991427\n"
     ]
    },
    {
     "name": "stderr",
     "output_type": "stream",
     "text": [
      "Training Progress:  41%|████      | 41/100 [00:06<00:09,  6.22it/s]"
     ]
    },
    {
     "name": "stdout",
     "output_type": "stream",
     "text": [
      "Epoch: 39,Train Loss:413.33174365849726\n",
      "Epoch: 39,Validation Loss:606.7757634447186\n"
     ]
    },
    {
     "name": "stderr",
     "output_type": "stream",
     "text": [
      "Training Progress:  51%|█████     | 51/100 [00:07<00:07,  6.64it/s]"
     ]
    },
    {
     "name": "stdout",
     "output_type": "stream",
     "text": [
      "Epoch: 49,Train Loss:394.2993265041589\n",
      "Epoch: 49,Validation Loss:594.9764213275204\n"
     ]
    },
    {
     "name": "stderr",
     "output_type": "stream",
     "text": [
      "Training Progress:  61%|██████    | 61/100 [00:09<00:06,  6.34it/s]"
     ]
    },
    {
     "name": "stdout",
     "output_type": "stream",
     "text": [
      "Epoch: 59,Train Loss:380.7367477028088\n",
      "Epoch: 59,Validation Loss:587.0337428508598\n"
     ]
    },
    {
     "name": "stderr",
     "output_type": "stream",
     "text": [
      "Training Progress:  71%|███████   | 71/100 [00:11<00:04,  6.11it/s]"
     ]
    },
    {
     "name": "stdout",
     "output_type": "stream",
     "text": [
      "Epoch: 69,Train Loss:370.36834402744\n",
      "Epoch: 69,Validation Loss:581.0693999762283\n"
     ]
    },
    {
     "name": "stderr",
     "output_type": "stream",
     "text": [
      "Training Progress:  81%|████████  | 81/100 [00:12<00:02,  6.56it/s]"
     ]
    },
    {
     "name": "stdout",
     "output_type": "stream",
     "text": [
      "Epoch: 79,Train Loss:362.05766833086375\n",
      "Epoch: 79,Validation Loss:576.275525067116\n"
     ]
    },
    {
     "name": "stderr",
     "output_type": "stream",
     "text": [
      "Training Progress:  91%|█████████ | 91/100 [00:14<00:01,  6.46it/s]"
     ]
    },
    {
     "name": "stdout",
     "output_type": "stream",
     "text": [
      "Epoch: 89,Train Loss:355.1117227201975\n",
      "Epoch: 89,Validation Loss:572.3403247674706\n"
     ]
    },
    {
     "name": "stderr",
     "output_type": "stream",
     "text": [
      "Training Progress: 100%|██████████| 100/100 [00:15<00:00,  6.38it/s]"
     ]
    },
    {
     "name": "stdout",
     "output_type": "stream",
     "text": [
      "Epoch: 99,Train Loss:349.21019590654663\n",
      "Epoch: 99,Validation Loss:569.0619195654825\n",
      "Final Test Loss 511.96251377718716\n",
      "Root Mean Squared Error (RMSE): 22.6266\n",
      "R-squared (R²): 0.6060\n"
     ]
    },
    {
     "name": "stderr",
     "output_type": "stream",
     "text": [
      "\n"
     ]
    },
    {
     "data": {
      "text/html": [],
      "text/plain": [
       "<IPython.core.display.HTML object>"
      ]
     },
     "metadata": {},
     "output_type": "display_data"
    },
    {
     "data": {
      "text/html": [
       "<br>    <style><br>        .wandb-row {<br>            display: flex;<br>            flex-direction: row;<br>            flex-wrap: wrap;<br>            justify-content: flex-start;<br>            width: 100%;<br>        }<br>        .wandb-col {<br>            display: flex;<br>            flex-direction: column;<br>            flex-basis: 100%;<br>            flex: 1;<br>            padding: 10px;<br>        }<br>    </style><br><div class=\"wandb-row\"><div class=\"wandb-col\"><h3>Run history:</h3><br/><table class=\"wandb\"><tr><td>Epoch</td><td>▁▁▁▁▁▂▂▂▂▂▂▂▃▃▃▃▄▄▄▄▅▅▅▅▅▅▆▆▆▆▇▇▇▇▇▇▇▇▇█</td></tr><tr><td>Train Loss</td><td>█▂▂▁▁▁▁▁▁▁▁▁▁▁▁▁▁▁▁▁▁▁▁▁▁▁▁▁▁▁▁▁▁▁▁▁▁▁▁▁</td></tr><tr><td>Validation Loss</td><td>█▃▂▂▂▁▁▁▁▁▁▁▁▁▁▁▁▁▁▁▁▁▁▁▁▁▁▁▁▁▁▁▁▁▁▁▁▁▁▁</td></tr></table><br/></div><div class=\"wandb-col\"><h3>Run summary:</h3><br/><table class=\"wandb\"><tr><td>Epoch</td><td>99</td></tr><tr><td>Train Loss</td><td>349.2102</td></tr><tr><td>Validation Loss</td><td>569.06192</td></tr></table><br/></div></div>"
      ],
      "text/plain": [
       "<IPython.core.display.HTML object>"
      ]
     },
     "metadata": {},
     "output_type": "display_data"
    },
    {
     "data": {
      "text/html": [
       " View run <strong style=\"color:#cdcd00\">2.2-Sigmoid-BGD-Hyperparam1</strong> at: <a href='https://wandb.ai/ketakishetye0619-iiit-hyderabad/SMAI-A2/runs/exaqbi3f' target=\"_blank\">https://wandb.ai/ketakishetye0619-iiit-hyderabad/SMAI-A2/runs/exaqbi3f</a><br> View project at: <a href='https://wandb.ai/ketakishetye0619-iiit-hyderabad/SMAI-A2' target=\"_blank\">https://wandb.ai/ketakishetye0619-iiit-hyderabad/SMAI-A2</a><br>Synced 5 W&B file(s), 0 media file(s), 0 artifact file(s) and 0 other file(s)"
      ],
      "text/plain": [
       "<IPython.core.display.HTML object>"
      ]
     },
     "metadata": {},
     "output_type": "display_data"
    },
    {
     "data": {
      "text/html": [
       "Find logs at: <code>.\\wandb\\run-20250315_171210-exaqbi3f\\logs</code>"
      ],
      "text/plain": [
       "<IPython.core.display.HTML object>"
      ]
     },
     "metadata": {},
     "output_type": "display_data"
    }
   ],
   "source": [
    "wandb.init(project=\"SMAI-A2\", name=\"2.2-Sigmoid-BGD-Hyperparam1\")\n",
    "print(\"Initialising model\")\n",
    "model = MLP(input_dim, hidden_dim, output_dim,activation)   \n",
    "model.train(x_train_np,y_train_np,num_epochs,learning_rate,x_val_np,y_val_np,batch_size)\n",
    "y_pred_test=model.predict(x_test_np)\n",
    "test_loss=model.mse_loss(y_test_np,y_pred_test)\n",
    "print(f\"Final Test Loss {test_loss}\")\n",
    "test_rmse=model.rmse(test_loss)\n",
    "test_r2_score=model.r2_score(y_test_np,y_pred_test)\n",
    "wandb.finish()"
   ]
  },
  {
   "cell_type": "code",
   "execution_count": 44,
   "metadata": {},
   "outputs": [],
   "source": [
    "np.random.seed(42)\n",
    "input_dim=1105\n",
    "hidden_dim=64\n",
    "learning_rate=0.001\n",
    "num_epochs=100\n",
    "activation='sigmoid'\n",
    "batch_size=None\n",
    "output_dim=1"
   ]
  },
  {
   "cell_type": "code",
   "execution_count": 45,
   "metadata": {},
   "outputs": [
    {
     "data": {
      "text/html": [
       "Tracking run with wandb version 0.19.8"
      ],
      "text/plain": [
       "<IPython.core.display.HTML object>"
      ]
     },
     "metadata": {},
     "output_type": "display_data"
    },
    {
     "data": {
      "text/html": [
       "Run data is saved locally in <code>d:\\SMAI\\Assignments\\A2\\wandb\\run-20250315_171229-z280vmr3</code>"
      ],
      "text/plain": [
       "<IPython.core.display.HTML object>"
      ]
     },
     "metadata": {},
     "output_type": "display_data"
    },
    {
     "data": {
      "text/html": [
       "Syncing run <strong><a href='https://wandb.ai/ketakishetye0619-iiit-hyderabad/SMAI-A2/runs/z280vmr3' target=\"_blank\">2.2-Sigmoid-BGD-Hyperparam2</a></strong> to <a href='https://wandb.ai/ketakishetye0619-iiit-hyderabad/SMAI-A2' target=\"_blank\">Weights & Biases</a> (<a href='https://wandb.me/developer-guide' target=\"_blank\">docs</a>)<br>"
      ],
      "text/plain": [
       "<IPython.core.display.HTML object>"
      ]
     },
     "metadata": {},
     "output_type": "display_data"
    },
    {
     "data": {
      "text/html": [
       " View project at <a href='https://wandb.ai/ketakishetye0619-iiit-hyderabad/SMAI-A2' target=\"_blank\">https://wandb.ai/ketakishetye0619-iiit-hyderabad/SMAI-A2</a>"
      ],
      "text/plain": [
       "<IPython.core.display.HTML object>"
      ]
     },
     "metadata": {},
     "output_type": "display_data"
    },
    {
     "data": {
      "text/html": [
       " View run at <a href='https://wandb.ai/ketakishetye0619-iiit-hyderabad/SMAI-A2/runs/z280vmr3' target=\"_blank\">https://wandb.ai/ketakishetye0619-iiit-hyderabad/SMAI-A2/runs/z280vmr3</a>"
      ],
      "text/plain": [
       "<IPython.core.display.HTML object>"
      ]
     },
     "metadata": {},
     "output_type": "display_data"
    },
    {
     "name": "stdout",
     "output_type": "stream",
     "text": [
      "Initialising model\n"
     ]
    },
    {
     "name": "stderr",
     "output_type": "stream",
     "text": [
      "Training Progress:   1%|          | 1/100 [00:00<00:09,  9.95it/s]"
     ]
    },
    {
     "name": "stdout",
     "output_type": "stream",
     "text": [
      "Epoch: 0,Loss:6678.391500184023\n",
      "Epoch: 0,Validation Loss:6808.438936454834\n"
     ]
    },
    {
     "name": "stderr",
     "output_type": "stream",
     "text": [
      "Training Progress:  11%|█         | 11/100 [00:01<00:10,  8.87it/s]"
     ]
    },
    {
     "name": "stdout",
     "output_type": "stream",
     "text": [
      "Epoch: 9,Train Loss:5242.162573892044\n",
      "Epoch: 9,Validation Loss:5400.852312937012\n"
     ]
    },
    {
     "name": "stderr",
     "output_type": "stream",
     "text": [
      "Training Progress:  22%|██▏       | 22/100 [00:02<00:07,  9.79it/s]"
     ]
    },
    {
     "name": "stdout",
     "output_type": "stream",
     "text": [
      "Epoch: 19,Train Loss:4006.2237517328454\n",
      "Epoch: 19,Validation Loss:4177.69576951053\n"
     ]
    },
    {
     "name": "stderr",
     "output_type": "stream",
     "text": [
      "Training Progress:  31%|███       | 31/100 [00:03<00:07,  9.86it/s]"
     ]
    },
    {
     "name": "stdout",
     "output_type": "stream",
     "text": [
      "Epoch: 29,Train Loss:3027.873512035131\n",
      "Epoch: 29,Validation Loss:3204.220655150475\n"
     ]
    },
    {
     "name": "stderr",
     "output_type": "stream",
     "text": [
      "Training Progress:  42%|████▏     | 42/100 [00:04<00:05,  9.99it/s]"
     ]
    },
    {
     "name": "stdout",
     "output_type": "stream",
     "text": [
      "Epoch: 39,Train Loss:2268.1501391396077\n",
      "Epoch: 39,Validation Loss:2447.36951747303\n"
     ]
    },
    {
     "name": "stderr",
     "output_type": "stream",
     "text": [
      "Training Progress:  51%|█████     | 51/100 [00:05<00:05,  9.21it/s]"
     ]
    },
    {
     "name": "stdout",
     "output_type": "stream",
     "text": [
      "Epoch: 49,Train Loss:1709.3236926809166\n",
      "Epoch: 49,Validation Loss:1891.0544464666218\n"
     ]
    },
    {
     "name": "stderr",
     "output_type": "stream",
     "text": [
      "Training Progress:  62%|██████▏   | 62/100 [00:06<00:03, 10.12it/s]"
     ]
    },
    {
     "name": "stdout",
     "output_type": "stream",
     "text": [
      "Epoch: 59,Train Loss:1322.098034661379\n",
      "Epoch: 59,Validation Loss:1505.7388870720356\n"
     ]
    },
    {
     "name": "stderr",
     "output_type": "stream",
     "text": [
      "Training Progress:  70%|███████   | 70/100 [00:07<00:03,  9.92it/s]"
     ]
    },
    {
     "name": "stdout",
     "output_type": "stream",
     "text": [
      "Epoch: 69,Train Loss:1065.461827684535\n",
      "Epoch: 69,Validation Loss:1250.181157516646\n"
     ]
    },
    {
     "name": "stderr",
     "output_type": "stream",
     "text": [
      "Training Progress:  81%|████████  | 81/100 [00:08<00:02,  9.25it/s]"
     ]
    },
    {
     "name": "stdout",
     "output_type": "stream",
     "text": [
      "Epoch: 79,Train Loss:898.9372608478523\n",
      "Epoch: 79,Validation Loss:1084.0963994909182\n"
     ]
    },
    {
     "name": "stderr",
     "output_type": "stream",
     "text": [
      "Training Progress:  91%|█████████ | 91/100 [00:09<00:01,  8.89it/s]"
     ]
    },
    {
     "name": "stdout",
     "output_type": "stream",
     "text": [
      "Epoch: 89,Train Loss:790.6178764383296\n",
      "Epoch: 89,Validation Loss:975.9202543925655\n"
     ]
    },
    {
     "name": "stderr",
     "output_type": "stream",
     "text": [
      "Training Progress: 100%|██████████| 100/100 [00:10<00:00,  9.55it/s]"
     ]
    },
    {
     "name": "stdout",
     "output_type": "stream",
     "text": [
      "Epoch: 99,Train Loss:718.5614283646836\n",
      "Epoch: 99,Validation Loss:903.9725903574159\n",
      "Final Test Loss 765.7918697128783\n",
      "Root Mean Squared Error (RMSE): 27.6729\n",
      "R-squared (R²): 0.4107\n"
     ]
    },
    {
     "name": "stderr",
     "output_type": "stream",
     "text": [
      "\n"
     ]
    },
    {
     "data": {
      "text/html": [],
      "text/plain": [
       "<IPython.core.display.HTML object>"
      ]
     },
     "metadata": {},
     "output_type": "display_data"
    },
    {
     "data": {
      "text/html": [
       "<br>    <style><br>        .wandb-row {<br>            display: flex;<br>            flex-direction: row;<br>            flex-wrap: wrap;<br>            justify-content: flex-start;<br>            width: 100%;<br>        }<br>        .wandb-col {<br>            display: flex;<br>            flex-direction: column;<br>            flex-basis: 100%;<br>            flex: 1;<br>            padding: 10px;<br>        }<br>    </style><br><div class=\"wandb-row\"><div class=\"wandb-col\"><h3>Run history:</h3><br/><table class=\"wandb\"><tr><td>Epoch</td><td>▁▁▁▁▂▂▂▂▂▃▃▃▃▃▄▄▄▄▄▅▅▅▅▅▅▆▆▆▆▆▇▇▇▇▇▇▇███</td></tr><tr><td>Train Loss</td><td>██▇▇▇▆▅▅▅▄▄▄▄▄▃▃▃▂▂▂▂▂▂▂▂▁▁▁▁▁▁▁▁▁▁▁▁▁▁▁</td></tr><tr><td>Validation Loss</td><td>██▇▇▇▆▆▅▅▅▄▄▄▄▄▃▃▃▃▂▂▂▂▂▂▂▂▁▁▁▁▁▁▁▁▁▁▁▁▁</td></tr></table><br/></div><div class=\"wandb-col\"><h3>Run summary:</h3><br/><table class=\"wandb\"><tr><td>Epoch</td><td>99</td></tr><tr><td>Train Loss</td><td>718.56143</td></tr><tr><td>Validation Loss</td><td>903.97259</td></tr></table><br/></div></div>"
      ],
      "text/plain": [
       "<IPython.core.display.HTML object>"
      ]
     },
     "metadata": {},
     "output_type": "display_data"
    },
    {
     "data": {
      "text/html": [
       " View run <strong style=\"color:#cdcd00\">2.2-Sigmoid-BGD-Hyperparam2</strong> at: <a href='https://wandb.ai/ketakishetye0619-iiit-hyderabad/SMAI-A2/runs/z280vmr3' target=\"_blank\">https://wandb.ai/ketakishetye0619-iiit-hyderabad/SMAI-A2/runs/z280vmr3</a><br> View project at: <a href='https://wandb.ai/ketakishetye0619-iiit-hyderabad/SMAI-A2' target=\"_blank\">https://wandb.ai/ketakishetye0619-iiit-hyderabad/SMAI-A2</a><br>Synced 5 W&B file(s), 0 media file(s), 0 artifact file(s) and 0 other file(s)"
      ],
      "text/plain": [
       "<IPython.core.display.HTML object>"
      ]
     },
     "metadata": {},
     "output_type": "display_data"
    },
    {
     "data": {
      "text/html": [
       "Find logs at: <code>.\\wandb\\run-20250315_171229-z280vmr3\\logs</code>"
      ],
      "text/plain": [
       "<IPython.core.display.HTML object>"
      ]
     },
     "metadata": {},
     "output_type": "display_data"
    }
   ],
   "source": [
    "wandb.init(project=\"SMAI-A2\", name=\"2.2-Sigmoid-BGD-Hyperparam2\")\n",
    "print(\"Initialising model\")\n",
    "model = MLP(input_dim, hidden_dim, output_dim,activation)   \n",
    "model.train(x_train_np,y_train_np,num_epochs,learning_rate,x_val_np,y_val_np,batch_size)\n",
    "y_pred_test=model.predict(x_test_np)\n",
    "test_loss=model.mse_loss(y_test_np,y_pred_test)\n",
    "print(f\"Final Test Loss {test_loss}\")\n",
    "test_rmse=model.rmse(test_loss)\n",
    "test_r2_score=model.r2_score(y_test_np,y_pred_test)\n",
    "wandb.finish()"
   ]
  },
  {
   "cell_type": "code",
   "execution_count": 19,
   "metadata": {},
   "outputs": [],
   "source": [
    "np.random.seed(42)\n",
    "input_dim=1105\n",
    "hidden_dim=64\n",
    "learning_rate=0.01\n",
    "num_epochs=100\n",
    "activation='sigmoid'\n",
    "batch_size=1\n",
    "output_dim=1"
   ]
  },
  {
   "cell_type": "code",
   "execution_count": 20,
   "metadata": {},
   "outputs": [
    {
     "data": {
      "text/html": [
       "Tracking run with wandb version 0.19.8"
      ],
      "text/plain": [
       "<IPython.core.display.HTML object>"
      ]
     },
     "metadata": {},
     "output_type": "display_data"
    },
    {
     "data": {
      "text/html": [
       "Run data is saved locally in <code>d:\\SMAI\\Assignments\\A2\\wandb\\run-20250315_153440-mj6wbdvq</code>"
      ],
      "text/plain": [
       "<IPython.core.display.HTML object>"
      ]
     },
     "metadata": {},
     "output_type": "display_data"
    },
    {
     "data": {
      "text/html": [
       "Syncing run <strong><a href='https://wandb.ai/ketakishetye0619-iiit-hyderabad/SMAI-A2/runs/mj6wbdvq' target=\"_blank\">2.2-Sigmoid-SGD</a></strong> to <a href='https://wandb.ai/ketakishetye0619-iiit-hyderabad/SMAI-A2' target=\"_blank\">Weights & Biases</a> (<a href='https://wandb.me/developer-guide' target=\"_blank\">docs</a>)<br>"
      ],
      "text/plain": [
       "<IPython.core.display.HTML object>"
      ]
     },
     "metadata": {},
     "output_type": "display_data"
    },
    {
     "data": {
      "text/html": [
       " View project at <a href='https://wandb.ai/ketakishetye0619-iiit-hyderabad/SMAI-A2' target=\"_blank\">https://wandb.ai/ketakishetye0619-iiit-hyderabad/SMAI-A2</a>"
      ],
      "text/plain": [
       "<IPython.core.display.HTML object>"
      ]
     },
     "metadata": {},
     "output_type": "display_data"
    },
    {
     "data": {
      "text/html": [
       " View run at <a href='https://wandb.ai/ketakishetye0619-iiit-hyderabad/SMAI-A2/runs/mj6wbdvq' target=\"_blank\">https://wandb.ai/ketakishetye0619-iiit-hyderabad/SMAI-A2/runs/mj6wbdvq</a>"
      ],
      "text/plain": [
       "<IPython.core.display.HTML object>"
      ]
     },
     "metadata": {},
     "output_type": "display_data"
    },
    {
     "name": "stdout",
     "output_type": "stream",
     "text": [
      "Initialising model\n"
     ]
    },
    {
     "name": "stderr",
     "output_type": "stream",
     "text": [
      "Training Progress:   0%|          | 0/100 [00:00<?, ?it/s]C:\\Users\\Admin\\AppData\\Local\\Temp\\ipykernel_24284\\3527650665.py:13: RuntimeWarning: overflow encountered in exp\n",
      "  activation = 1 / (1 + np.exp(-x))\n",
      "C:\\Users\\Admin\\AppData\\Local\\Temp\\ipykernel_24284\\3527650665.py:23: RuntimeWarning: overflow encountered in exp\n",
      "  activation = 1 / (1 + np.exp(-x))\n",
      "Training Progress:   1%|          | 1/100 [00:02<03:23,  2.06s/it]"
     ]
    },
    {
     "name": "stdout",
     "output_type": "stream",
     "text": [
      "Epoch: 0,Loss:838.5633273547269\n",
      "Epoch: 0,Validation Loss:814.4207945699894\n"
     ]
    },
    {
     "name": "stderr",
     "output_type": "stream",
     "text": [
      "Training Progress:  10%|█         | 10/100 [00:20<03:01,  2.02s/it]"
     ]
    },
    {
     "name": "stdout",
     "output_type": "stream",
     "text": [
      "Epoch: 9,Train Loss:509.2754959543227\n",
      "Epoch: 9,Validation Loss:874.7425785245464\n"
     ]
    },
    {
     "name": "stderr",
     "output_type": "stream",
     "text": [
      "Training Progress:  20%|██        | 20/100 [00:40<02:43,  2.04s/it]"
     ]
    },
    {
     "name": "stdout",
     "output_type": "stream",
     "text": [
      "Epoch: 19,Train Loss:477.39269361418263\n",
      "Epoch: 19,Validation Loss:751.2560103648539\n"
     ]
    },
    {
     "name": "stderr",
     "output_type": "stream",
     "text": [
      "Training Progress:  30%|███       | 30/100 [01:01<02:24,  2.06s/it]"
     ]
    },
    {
     "name": "stdout",
     "output_type": "stream",
     "text": [
      "Epoch: 29,Train Loss:461.2900637701884\n",
      "Epoch: 29,Validation Loss:760.8889644394588\n"
     ]
    },
    {
     "name": "stderr",
     "output_type": "stream",
     "text": [
      "Training Progress:  40%|████      | 40/100 [01:22<02:03,  2.06s/it]"
     ]
    },
    {
     "name": "stdout",
     "output_type": "stream",
     "text": [
      "Epoch: 39,Train Loss:449.0680131712731\n",
      "Epoch: 39,Validation Loss:755.3195224152547\n"
     ]
    },
    {
     "name": "stderr",
     "output_type": "stream",
     "text": [
      "Training Progress:  50%|█████     | 50/100 [01:42<01:41,  2.04s/it]"
     ]
    },
    {
     "name": "stdout",
     "output_type": "stream",
     "text": [
      "Epoch: 49,Train Loss:444.3705758458162\n",
      "Epoch: 49,Validation Loss:784.9754299414918\n"
     ]
    },
    {
     "name": "stderr",
     "output_type": "stream",
     "text": [
      "Training Progress:  60%|██████    | 60/100 [02:03<01:24,  2.11s/it]"
     ]
    },
    {
     "name": "stdout",
     "output_type": "stream",
     "text": [
      "Epoch: 59,Train Loss:448.50431633311484\n",
      "Epoch: 59,Validation Loss:762.4390795163094\n"
     ]
    },
    {
     "name": "stderr",
     "output_type": "stream",
     "text": [
      "Training Progress:  70%|███████   | 70/100 [02:24<01:05,  2.20s/it]"
     ]
    },
    {
     "name": "stdout",
     "output_type": "stream",
     "text": [
      "Epoch: 69,Train Loss:437.5914981676765\n",
      "Epoch: 69,Validation Loss:739.8652099387119\n"
     ]
    },
    {
     "name": "stderr",
     "output_type": "stream",
     "text": [
      "Training Progress:  80%|████████  | 80/100 [02:48<00:47,  2.38s/it]"
     ]
    },
    {
     "name": "stdout",
     "output_type": "stream",
     "text": [
      "Epoch: 79,Train Loss:428.3553059795219\n",
      "Epoch: 79,Validation Loss:980.5482446704038\n"
     ]
    },
    {
     "name": "stderr",
     "output_type": "stream",
     "text": [
      "Training Progress:  90%|█████████ | 90/100 [03:09<00:20,  2.08s/it]"
     ]
    },
    {
     "name": "stdout",
     "output_type": "stream",
     "text": [
      "Epoch: 89,Train Loss:428.4850050445627\n",
      "Epoch: 89,Validation Loss:752.9168492644952\n"
     ]
    },
    {
     "name": "stderr",
     "output_type": "stream",
     "text": [
      "Training Progress: 100%|██████████| 100/100 [03:32<00:00,  2.13s/it]"
     ]
    },
    {
     "name": "stdout",
     "output_type": "stream",
     "text": [
      "Epoch: 99,Train Loss:421.2100053754253\n",
      "Epoch: 99,Validation Loss:853.4861013534223\n",
      "Final Test Loss 767.592267476665\n",
      "Root Mean Squared Error (RMSE): 27.7055\n",
      "R-squared (R²): 0.4093\n"
     ]
    },
    {
     "name": "stderr",
     "output_type": "stream",
     "text": [
      "\n"
     ]
    },
    {
     "data": {
      "text/html": [],
      "text/plain": [
       "<IPython.core.display.HTML object>"
      ]
     },
     "metadata": {},
     "output_type": "display_data"
    },
    {
     "data": {
      "text/html": [
       "<br>    <style><br>        .wandb-row {<br>            display: flex;<br>            flex-direction: row;<br>            flex-wrap: wrap;<br>            justify-content: flex-start;<br>            width: 100%;<br>        }<br>        .wandb-col {<br>            display: flex;<br>            flex-direction: column;<br>            flex-basis: 100%;<br>            flex: 1;<br>            padding: 10px;<br>        }<br>    </style><br><div class=\"wandb-row\"><div class=\"wandb-col\"><h3>Run history:</h3><br/><table class=\"wandb\"><tr><td>Epoch</td><td>▁▁▁▁▂▂▂▂▂▃▃▃▃▃▃▄▄▄▄▅▅▅▅▅▅▆▆▆▆▇▇▇▇▇▇█████</td></tr><tr><td>Train Loss</td><td>█▃▂▂▂▂▂▂▂▂▂▂▂▂▁▁▂▁▁▁▁▁▁▁▁▁▁▁▁▁▁▁▁▁▁▁▁▁▁▁</td></tr><tr><td>Validation Loss</td><td>▂▃▂▄▄▁▆▃▃▂▂▂▁▂▁▁▂█▃▂▂▁▂▂▄▄▂▄▁▂▂▂▆▃▁▂▂▃▁▄</td></tr></table><br/></div><div class=\"wandb-col\"><h3>Run summary:</h3><br/><table class=\"wandb\"><tr><td>Epoch</td><td>99</td></tr><tr><td>Train Loss</td><td>421.21001</td></tr><tr><td>Validation Loss</td><td>853.4861</td></tr></table><br/></div></div>"
      ],
      "text/plain": [
       "<IPython.core.display.HTML object>"
      ]
     },
     "metadata": {},
     "output_type": "display_data"
    },
    {
     "data": {
      "text/html": [
       " View run <strong style=\"color:#cdcd00\">2.2-Sigmoid-SGD</strong> at: <a href='https://wandb.ai/ketakishetye0619-iiit-hyderabad/SMAI-A2/runs/mj6wbdvq' target=\"_blank\">https://wandb.ai/ketakishetye0619-iiit-hyderabad/SMAI-A2/runs/mj6wbdvq</a><br> View project at: <a href='https://wandb.ai/ketakishetye0619-iiit-hyderabad/SMAI-A2' target=\"_blank\">https://wandb.ai/ketakishetye0619-iiit-hyderabad/SMAI-A2</a><br>Synced 5 W&B file(s), 0 media file(s), 0 artifact file(s) and 0 other file(s)"
      ],
      "text/plain": [
       "<IPython.core.display.HTML object>"
      ]
     },
     "metadata": {},
     "output_type": "display_data"
    },
    {
     "data": {
      "text/html": [
       "Find logs at: <code>.\\wandb\\run-20250315_153440-mj6wbdvq\\logs</code>"
      ],
      "text/plain": [
       "<IPython.core.display.HTML object>"
      ]
     },
     "metadata": {},
     "output_type": "display_data"
    }
   ],
   "source": [
    "wandb.init(project=\"SMAI-A2\", name=\"2.2-Sigmoid-SGD\")\n",
    "print(\"Initialising model\")\n",
    "model = MLP(input_dim, hidden_dim, output_dim,activation)   \n",
    "model.train(x_train_np,y_train_np,num_epochs,learning_rate,x_val_np,y_val_np,batch_size)\n",
    "y_pred_test=model.predict(x_test_np)\n",
    "test_loss=model.mse_loss(y_test_np,y_pred_test)\n",
    "print(f\"Final Test Loss {test_loss}\")\n",
    "test_rmse=model.rmse(test_loss)\n",
    "test_r2_score=model.r2_score(y_test_np,y_pred_test)\n",
    "wandb.finish()"
   ]
  },
  {
   "cell_type": "code",
   "execution_count": 46,
   "metadata": {},
   "outputs": [],
   "source": [
    "np.random.seed(42)\n",
    "input_dim=1105\n",
    "hidden_dim=128\n",
    "learning_rate=0.01\n",
    "num_epochs=100\n",
    "activation='sigmoid'\n",
    "batch_size=1\n",
    "output_dim=1"
   ]
  },
  {
   "cell_type": "code",
   "execution_count": 47,
   "metadata": {},
   "outputs": [
    {
     "data": {
      "text/html": [
       "Tracking run with wandb version 0.19.8"
      ],
      "text/plain": [
       "<IPython.core.display.HTML object>"
      ]
     },
     "metadata": {},
     "output_type": "display_data"
    },
    {
     "data": {
      "text/html": [
       "Run data is saved locally in <code>d:\\SMAI\\Assignments\\A2\\wandb\\run-20250315_171242-fd97lvz9</code>"
      ],
      "text/plain": [
       "<IPython.core.display.HTML object>"
      ]
     },
     "metadata": {},
     "output_type": "display_data"
    },
    {
     "data": {
      "text/html": [
       "Syncing run <strong><a href='https://wandb.ai/ketakishetye0619-iiit-hyderabad/SMAI-A2/runs/fd97lvz9' target=\"_blank\">2.2-Sigmoid-SGD-Hyperparam1</a></strong> to <a href='https://wandb.ai/ketakishetye0619-iiit-hyderabad/SMAI-A2' target=\"_blank\">Weights & Biases</a> (<a href='https://wandb.me/developer-guide' target=\"_blank\">docs</a>)<br>"
      ],
      "text/plain": [
       "<IPython.core.display.HTML object>"
      ]
     },
     "metadata": {},
     "output_type": "display_data"
    },
    {
     "data": {
      "text/html": [
       " View project at <a href='https://wandb.ai/ketakishetye0619-iiit-hyderabad/SMAI-A2' target=\"_blank\">https://wandb.ai/ketakishetye0619-iiit-hyderabad/SMAI-A2</a>"
      ],
      "text/plain": [
       "<IPython.core.display.HTML object>"
      ]
     },
     "metadata": {},
     "output_type": "display_data"
    },
    {
     "data": {
      "text/html": [
       " View run at <a href='https://wandb.ai/ketakishetye0619-iiit-hyderabad/SMAI-A2/runs/fd97lvz9' target=\"_blank\">https://wandb.ai/ketakishetye0619-iiit-hyderabad/SMAI-A2/runs/fd97lvz9</a>"
      ],
      "text/plain": [
       "<IPython.core.display.HTML object>"
      ]
     },
     "metadata": {},
     "output_type": "display_data"
    },
    {
     "name": "stdout",
     "output_type": "stream",
     "text": [
      "Initialising model\n"
     ]
    },
    {
     "name": "stderr",
     "output_type": "stream",
     "text": [
      "Training Progress:   0%|          | 0/100 [00:00<?, ?it/s]C:\\Users\\Admin\\AppData\\Local\\Temp\\ipykernel_17092\\2104089782.py:13: RuntimeWarning: overflow encountered in exp\n",
      "  activation = 1 / (1 + np.exp(-x))\n",
      "C:\\Users\\Admin\\AppData\\Local\\Temp\\ipykernel_17092\\2104089782.py:23: RuntimeWarning: overflow encountered in exp\n",
      "  activation = 1 / (1 + np.exp(-x))\n",
      "Training Progress:   1%|          | 1/100 [00:03<05:30,  3.34s/it]"
     ]
    },
    {
     "name": "stdout",
     "output_type": "stream",
     "text": [
      "Epoch: 0,Loss:984.5000779447836\n",
      "Epoch: 0,Validation Loss:934.4352520768563\n"
     ]
    },
    {
     "name": "stderr",
     "output_type": "stream",
     "text": [
      "Training Progress:  10%|█         | 10/100 [00:32<04:40,  3.11s/it]"
     ]
    },
    {
     "name": "stdout",
     "output_type": "stream",
     "text": [
      "Epoch: 9,Train Loss:563.2455598250134\n",
      "Epoch: 9,Validation Loss:825.6795499138308\n"
     ]
    },
    {
     "name": "stderr",
     "output_type": "stream",
     "text": [
      "Training Progress:  20%|██        | 20/100 [01:05<04:29,  3.37s/it]"
     ]
    },
    {
     "name": "stdout",
     "output_type": "stream",
     "text": [
      "Epoch: 19,Train Loss:546.525744196829\n",
      "Epoch: 19,Validation Loss:856.007129016175\n"
     ]
    },
    {
     "name": "stderr",
     "output_type": "stream",
     "text": [
      "Training Progress:  30%|███       | 30/100 [01:40<04:01,  3.44s/it]"
     ]
    },
    {
     "name": "stdout",
     "output_type": "stream",
     "text": [
      "Epoch: 29,Train Loss:542.557890928622\n",
      "Epoch: 29,Validation Loss:726.9223289711082\n"
     ]
    },
    {
     "name": "stderr",
     "output_type": "stream",
     "text": [
      "Training Progress:  40%|████      | 40/100 [02:13<03:25,  3.43s/it]"
     ]
    },
    {
     "name": "stdout",
     "output_type": "stream",
     "text": [
      "Epoch: 39,Train Loss:517.0198133484415\n",
      "Epoch: 39,Validation Loss:737.9190103790393\n"
     ]
    },
    {
     "name": "stderr",
     "output_type": "stream",
     "text": [
      "Training Progress:  50%|█████     | 50/100 [02:46<02:44,  3.29s/it]"
     ]
    },
    {
     "name": "stdout",
     "output_type": "stream",
     "text": [
      "Epoch: 49,Train Loss:510.47022196591934\n",
      "Epoch: 49,Validation Loss:840.6516660711392\n"
     ]
    },
    {
     "name": "stderr",
     "output_type": "stream",
     "text": [
      "Training Progress:  60%|██████    | 60/100 [03:18<02:09,  3.23s/it]"
     ]
    },
    {
     "name": "stdout",
     "output_type": "stream",
     "text": [
      "Epoch: 59,Train Loss:505.6478986070619\n",
      "Epoch: 59,Validation Loss:800.5640980104653\n"
     ]
    },
    {
     "name": "stderr",
     "output_type": "stream",
     "text": [
      "Training Progress:  70%|███████   | 70/100 [03:53<01:43,  3.47s/it]"
     ]
    },
    {
     "name": "stdout",
     "output_type": "stream",
     "text": [
      "Epoch: 69,Train Loss:501.8129889993132\n",
      "Epoch: 69,Validation Loss:786.9327020751305\n"
     ]
    },
    {
     "name": "stderr",
     "output_type": "stream",
     "text": [
      "Training Progress:  80%|████████  | 80/100 [04:24<01:03,  3.18s/it]"
     ]
    },
    {
     "name": "stdout",
     "output_type": "stream",
     "text": [
      "Epoch: 79,Train Loss:504.7858291114067\n",
      "Epoch: 79,Validation Loss:715.2093299369566\n"
     ]
    },
    {
     "name": "stderr",
     "output_type": "stream",
     "text": [
      "Training Progress:  90%|█████████ | 90/100 [04:56<00:31,  3.20s/it]"
     ]
    },
    {
     "name": "stdout",
     "output_type": "stream",
     "text": [
      "Epoch: 89,Train Loss:501.560485097235\n",
      "Epoch: 89,Validation Loss:750.5612982806178\n"
     ]
    },
    {
     "name": "stderr",
     "output_type": "stream",
     "text": [
      "Training Progress: 100%|██████████| 100/100 [05:31<00:00,  3.31s/it]"
     ]
    },
    {
     "name": "stdout",
     "output_type": "stream",
     "text": [
      "Epoch: 99,Train Loss:498.3357022207206\n",
      "Epoch: 99,Validation Loss:740.2466617870806\n",
      "Final Test Loss 693.1812286281995\n",
      "Root Mean Squared Error (RMSE): 26.3283\n",
      "R-squared (R²): 0.4666\n"
     ]
    },
    {
     "name": "stderr",
     "output_type": "stream",
     "text": [
      "\n"
     ]
    },
    {
     "data": {
      "text/html": [],
      "text/plain": [
       "<IPython.core.display.HTML object>"
      ]
     },
     "metadata": {},
     "output_type": "display_data"
    },
    {
     "data": {
      "text/html": [
       "<br>    <style><br>        .wandb-row {<br>            display: flex;<br>            flex-direction: row;<br>            flex-wrap: wrap;<br>            justify-content: flex-start;<br>            width: 100%;<br>        }<br>        .wandb-col {<br>            display: flex;<br>            flex-direction: column;<br>            flex-basis: 100%;<br>            flex: 1;<br>            padding: 10px;<br>        }<br>    </style><br><div class=\"wandb-row\"><div class=\"wandb-col\"><h3>Run history:</h3><br/><table class=\"wandb\"><tr><td>Epoch</td><td>▁▁▂▂▂▂▂▃▃▃▃▄▄▄▄▄▅▅▅▅▅▅▆▆▆▆▆▇▇▇▇▇▇▇██████</td></tr><tr><td>Train Loss</td><td>█▇▅▄▄▄▃▃▄▃▃▂▂▂▃▃▃▃▂▂▂▂▂▂▂▂▂▂▁▁▁▁▁▁▁▁▁▁▁▁</td></tr><tr><td>Validation Loss</td><td>▂▃▂▁▄▃▃▆▂▂▁▂▁▁█▁▁▁▆▂▂▁▂▁▂▂▃▁▁▂▃▁▁▃▂▁▂▂▄▂</td></tr></table><br/></div><div class=\"wandb-col\"><h3>Run summary:</h3><br/><table class=\"wandb\"><tr><td>Epoch</td><td>99</td></tr><tr><td>Train Loss</td><td>498.3357</td></tr><tr><td>Validation Loss</td><td>740.24666</td></tr></table><br/></div></div>"
      ],
      "text/plain": [
       "<IPython.core.display.HTML object>"
      ]
     },
     "metadata": {},
     "output_type": "display_data"
    },
    {
     "data": {
      "text/html": [
       " View run <strong style=\"color:#cdcd00\">2.2-Sigmoid-SGD-Hyperparam1</strong> at: <a href='https://wandb.ai/ketakishetye0619-iiit-hyderabad/SMAI-A2/runs/fd97lvz9' target=\"_blank\">https://wandb.ai/ketakishetye0619-iiit-hyderabad/SMAI-A2/runs/fd97lvz9</a><br> View project at: <a href='https://wandb.ai/ketakishetye0619-iiit-hyderabad/SMAI-A2' target=\"_blank\">https://wandb.ai/ketakishetye0619-iiit-hyderabad/SMAI-A2</a><br>Synced 5 W&B file(s), 0 media file(s), 0 artifact file(s) and 0 other file(s)"
      ],
      "text/plain": [
       "<IPython.core.display.HTML object>"
      ]
     },
     "metadata": {},
     "output_type": "display_data"
    },
    {
     "data": {
      "text/html": [
       "Find logs at: <code>.\\wandb\\run-20250315_171242-fd97lvz9\\logs</code>"
      ],
      "text/plain": [
       "<IPython.core.display.HTML object>"
      ]
     },
     "metadata": {},
     "output_type": "display_data"
    }
   ],
   "source": [
    "wandb.init(project=\"SMAI-A2\", name=\"2.2-Sigmoid-SGD-Hyperparam1\")\n",
    "print(\"Initialising model\")\n",
    "model = MLP(input_dim, hidden_dim, output_dim,activation)   \n",
    "model.train(x_train_np,y_train_np,num_epochs,learning_rate,x_val_np,y_val_np,batch_size)\n",
    "y_pred_test=model.predict(x_test_np)\n",
    "test_loss=model.mse_loss(y_test_np,y_pred_test)\n",
    "print(f\"Final Test Loss {test_loss}\")\n",
    "test_rmse=model.rmse(test_loss)\n",
    "test_r2_score=model.r2_score(y_test_np,y_pred_test)\n",
    "wandb.finish()"
   ]
  },
  {
   "cell_type": "code",
   "execution_count": 48,
   "metadata": {},
   "outputs": [],
   "source": [
    "np.random.seed(42)\n",
    "input_dim=1105\n",
    "hidden_dim=64\n",
    "learning_rate=0.001\n",
    "num_epochs=100\n",
    "activation='sigmoid'\n",
    "batch_size=1\n",
    "output_dim=1"
   ]
  },
  {
   "cell_type": "code",
   "execution_count": 49,
   "metadata": {},
   "outputs": [
    {
     "data": {
      "text/html": [
       "Tracking run with wandb version 0.19.8"
      ],
      "text/plain": [
       "<IPython.core.display.HTML object>"
      ]
     },
     "metadata": {},
     "output_type": "display_data"
    },
    {
     "data": {
      "text/html": [
       "Run data is saved locally in <code>d:\\SMAI\\Assignments\\A2\\wandb\\run-20250315_171817-pekbeedt</code>"
      ],
      "text/plain": [
       "<IPython.core.display.HTML object>"
      ]
     },
     "metadata": {},
     "output_type": "display_data"
    },
    {
     "data": {
      "text/html": [
       "Syncing run <strong><a href='https://wandb.ai/ketakishetye0619-iiit-hyderabad/SMAI-A2/runs/pekbeedt' target=\"_blank\">2.2-Sigmoid-SGD-Hyperparam2</a></strong> to <a href='https://wandb.ai/ketakishetye0619-iiit-hyderabad/SMAI-A2' target=\"_blank\">Weights & Biases</a> (<a href='https://wandb.me/developer-guide' target=\"_blank\">docs</a>)<br>"
      ],
      "text/plain": [
       "<IPython.core.display.HTML object>"
      ]
     },
     "metadata": {},
     "output_type": "display_data"
    },
    {
     "data": {
      "text/html": [
       " View project at <a href='https://wandb.ai/ketakishetye0619-iiit-hyderabad/SMAI-A2' target=\"_blank\">https://wandb.ai/ketakishetye0619-iiit-hyderabad/SMAI-A2</a>"
      ],
      "text/plain": [
       "<IPython.core.display.HTML object>"
      ]
     },
     "metadata": {},
     "output_type": "display_data"
    },
    {
     "data": {
      "text/html": [
       " View run at <a href='https://wandb.ai/ketakishetye0619-iiit-hyderabad/SMAI-A2/runs/pekbeedt' target=\"_blank\">https://wandb.ai/ketakishetye0619-iiit-hyderabad/SMAI-A2/runs/pekbeedt</a>"
      ],
      "text/plain": [
       "<IPython.core.display.HTML object>"
      ]
     },
     "metadata": {},
     "output_type": "display_data"
    },
    {
     "name": "stdout",
     "output_type": "stream",
     "text": [
      "Initialising model\n"
     ]
    },
    {
     "name": "stderr",
     "output_type": "stream",
     "text": [
      "Training Progress:   1%|          | 1/100 [00:02<03:24,  2.07s/it]"
     ]
    },
    {
     "name": "stdout",
     "output_type": "stream",
     "text": [
      "Epoch: 0,Loss:768.559068255822\n",
      "Epoch: 0,Validation Loss:731.0464210388377\n"
     ]
    },
    {
     "name": "stderr",
     "output_type": "stream",
     "text": [
      "Training Progress:  10%|█         | 10/100 [00:20<03:00,  2.01s/it]"
     ]
    },
    {
     "name": "stdout",
     "output_type": "stream",
     "text": [
      "Epoch: 9,Train Loss:341.4120931349516\n",
      "Epoch: 9,Validation Loss:578.6044248969096\n"
     ]
    },
    {
     "name": "stderr",
     "output_type": "stream",
     "text": [
      "Training Progress:  20%|██        | 20/100 [00:39<02:39,  1.99s/it]"
     ]
    },
    {
     "name": "stdout",
     "output_type": "stream",
     "text": [
      "Epoch: 19,Train Loss:289.3758486020792\n",
      "Epoch: 19,Validation Loss:547.7954523501922\n"
     ]
    },
    {
     "name": "stderr",
     "output_type": "stream",
     "text": [
      "Training Progress:  30%|███       | 30/100 [00:59<02:19,  2.00s/it]"
     ]
    },
    {
     "name": "stdout",
     "output_type": "stream",
     "text": [
      "Epoch: 29,Train Loss:265.1733436336535\n",
      "Epoch: 29,Validation Loss:545.105709623434\n"
     ]
    },
    {
     "name": "stderr",
     "output_type": "stream",
     "text": [
      "Training Progress:  40%|████      | 40/100 [01:19<01:54,  1.91s/it]"
     ]
    },
    {
     "name": "stdout",
     "output_type": "stream",
     "text": [
      "Epoch: 39,Train Loss:249.01510248423762\n",
      "Epoch: 39,Validation Loss:541.0951245674293\n"
     ]
    },
    {
     "name": "stderr",
     "output_type": "stream",
     "text": [
      "Training Progress:  50%|█████     | 50/100 [01:39<01:41,  2.02s/it]"
     ]
    },
    {
     "name": "stdout",
     "output_type": "stream",
     "text": [
      "Epoch: 49,Train Loss:238.85851277404646\n",
      "Epoch: 49,Validation Loss:540.5612389728639\n"
     ]
    },
    {
     "name": "stderr",
     "output_type": "stream",
     "text": [
      "Training Progress:  60%|██████    | 60/100 [01:59<01:20,  2.02s/it]"
     ]
    },
    {
     "name": "stdout",
     "output_type": "stream",
     "text": [
      "Epoch: 59,Train Loss:226.94820969446135\n",
      "Epoch: 59,Validation Loss:555.3130367522356\n"
     ]
    },
    {
     "name": "stderr",
     "output_type": "stream",
     "text": [
      "Training Progress:  70%|███████   | 70/100 [02:19<01:00,  2.01s/it]"
     ]
    },
    {
     "name": "stdout",
     "output_type": "stream",
     "text": [
      "Epoch: 69,Train Loss:217.97047029504262\n",
      "Epoch: 69,Validation Loss:539.5071395207556\n"
     ]
    },
    {
     "name": "stderr",
     "output_type": "stream",
     "text": [
      "Training Progress:  80%|████████  | 80/100 [02:39<00:39,  1.99s/it]"
     ]
    },
    {
     "name": "stdout",
     "output_type": "stream",
     "text": [
      "Epoch: 79,Train Loss:212.00729571890344\n",
      "Epoch: 79,Validation Loss:565.5551308058293\n"
     ]
    },
    {
     "name": "stderr",
     "output_type": "stream",
     "text": [
      "Training Progress:  90%|█████████ | 90/100 [02:59<00:19,  1.98s/it]"
     ]
    },
    {
     "name": "stdout",
     "output_type": "stream",
     "text": [
      "Epoch: 89,Train Loss:207.0678315278443\n",
      "Epoch: 89,Validation Loss:544.0960467317584\n"
     ]
    },
    {
     "name": "stderr",
     "output_type": "stream",
     "text": [
      "Training Progress: 100%|██████████| 100/100 [03:18<00:00,  1.98s/it]"
     ]
    },
    {
     "name": "stdout",
     "output_type": "stream",
     "text": [
      "Epoch: 99,Train Loss:202.52629874417622\n",
      "Epoch: 99,Validation Loss:538.5560783542302\n",
      "Final Test Loss 520.5872453693381\n",
      "Root Mean Squared Error (RMSE): 22.8164\n",
      "R-squared (R²): 0.5994\n"
     ]
    },
    {
     "name": "stderr",
     "output_type": "stream",
     "text": [
      "\n"
     ]
    },
    {
     "data": {
      "text/html": [],
      "text/plain": [
       "<IPython.core.display.HTML object>"
      ]
     },
     "metadata": {},
     "output_type": "display_data"
    },
    {
     "data": {
      "text/html": [
       "<br>    <style><br>        .wandb-row {<br>            display: flex;<br>            flex-direction: row;<br>            flex-wrap: wrap;<br>            justify-content: flex-start;<br>            width: 100%;<br>        }<br>        .wandb-col {<br>            display: flex;<br>            flex-direction: column;<br>            flex-basis: 100%;<br>            flex: 1;<br>            padding: 10px;<br>        }<br>    </style><br><div class=\"wandb-row\"><div class=\"wandb-col\"><h3>Run history:</h3><br/><table class=\"wandb\"><tr><td>Epoch</td><td>▁▁▂▂▂▃▃▃▃▃▃▃▄▄▄▄▄▄▄▅▅▅▅▅▆▆▆▆▆▆▇▇▇▇▇█████</td></tr><tr><td>Train Loss</td><td>█▅▄▃▃▂▂▂▂▂▂▂▂▂▂▁▁▁▁▁▁▁▁▁▁▁▁▁▁▁▁▁▁▁▁▁▁▁▁▁</td></tr><tr><td>Validation Loss</td><td>█▇▇▇▄▃▃▂▂▂▁▂▂▂▁▂▁▃▂▂▁▁▁▁▁▂▁▁▁▂▁▂▂▁▂▂▂▂▁▁</td></tr></table><br/></div><div class=\"wandb-col\"><h3>Run summary:</h3><br/><table class=\"wandb\"><tr><td>Epoch</td><td>99</td></tr><tr><td>Train Loss</td><td>202.5263</td></tr><tr><td>Validation Loss</td><td>538.55608</td></tr></table><br/></div></div>"
      ],
      "text/plain": [
       "<IPython.core.display.HTML object>"
      ]
     },
     "metadata": {},
     "output_type": "display_data"
    },
    {
     "data": {
      "text/html": [
       " View run <strong style=\"color:#cdcd00\">2.2-Sigmoid-SGD-Hyperparam2</strong> at: <a href='https://wandb.ai/ketakishetye0619-iiit-hyderabad/SMAI-A2/runs/pekbeedt' target=\"_blank\">https://wandb.ai/ketakishetye0619-iiit-hyderabad/SMAI-A2/runs/pekbeedt</a><br> View project at: <a href='https://wandb.ai/ketakishetye0619-iiit-hyderabad/SMAI-A2' target=\"_blank\">https://wandb.ai/ketakishetye0619-iiit-hyderabad/SMAI-A2</a><br>Synced 5 W&B file(s), 0 media file(s), 0 artifact file(s) and 0 other file(s)"
      ],
      "text/plain": [
       "<IPython.core.display.HTML object>"
      ]
     },
     "metadata": {},
     "output_type": "display_data"
    },
    {
     "data": {
      "text/html": [
       "Find logs at: <code>.\\wandb\\run-20250315_171817-pekbeedt\\logs</code>"
      ],
      "text/plain": [
       "<IPython.core.display.HTML object>"
      ]
     },
     "metadata": {},
     "output_type": "display_data"
    }
   ],
   "source": [
    "wandb.init(project=\"SMAI-A2\", name=\"2.2-Sigmoid-SGD-Hyperparam2\")\n",
    "print(\"Initialising model\")\n",
    "model = MLP(input_dim, hidden_dim, output_dim,activation)   \n",
    "model.train(x_train_np,y_train_np,num_epochs,learning_rate,x_val_np,y_val_np,batch_size)\n",
    "y_pred_test=model.predict(x_test_np)\n",
    "test_loss=model.mse_loss(y_test_np,y_pred_test)\n",
    "print(f\"Final Test Loss {test_loss}\")\n",
    "test_rmse=model.rmse(test_loss)\n",
    "test_r2_score=model.r2_score(y_test_np,y_pred_test)\n",
    "wandb.finish()"
   ]
  },
  {
   "cell_type": "code",
   "execution_count": 21,
   "metadata": {},
   "outputs": [],
   "source": [
    "np.random.seed(42)\n",
    "input_dim=1105\n",
    "hidden_dim=64\n",
    "learning_rate=0.01\n",
    "num_epochs=100\n",
    "activation='sigmoid'\n",
    "batch_size=128\n",
    "output_dim=1"
   ]
  },
  {
   "cell_type": "code",
   "execution_count": 22,
   "metadata": {},
   "outputs": [
    {
     "data": {
      "text/html": [
       "Tracking run with wandb version 0.19.8"
      ],
      "text/plain": [
       "<IPython.core.display.HTML object>"
      ]
     },
     "metadata": {},
     "output_type": "display_data"
    },
    {
     "data": {
      "text/html": [
       "Run data is saved locally in <code>d:\\SMAI\\Assignments\\A2\\wandb\\run-20250315_153817-sc5ghxsl</code>"
      ],
      "text/plain": [
       "<IPython.core.display.HTML object>"
      ]
     },
     "metadata": {},
     "output_type": "display_data"
    },
    {
     "data": {
      "text/html": [
       "Syncing run <strong><a href='https://wandb.ai/ketakishetye0619-iiit-hyderabad/SMAI-A2/runs/sc5ghxsl' target=\"_blank\">2.2-Sigmoid-MBGD</a></strong> to <a href='https://wandb.ai/ketakishetye0619-iiit-hyderabad/SMAI-A2' target=\"_blank\">Weights & Biases</a> (<a href='https://wandb.me/developer-guide' target=\"_blank\">docs</a>)<br>"
      ],
      "text/plain": [
       "<IPython.core.display.HTML object>"
      ]
     },
     "metadata": {},
     "output_type": "display_data"
    },
    {
     "data": {
      "text/html": [
       " View project at <a href='https://wandb.ai/ketakishetye0619-iiit-hyderabad/SMAI-A2' target=\"_blank\">https://wandb.ai/ketakishetye0619-iiit-hyderabad/SMAI-A2</a>"
      ],
      "text/plain": [
       "<IPython.core.display.HTML object>"
      ]
     },
     "metadata": {},
     "output_type": "display_data"
    },
    {
     "data": {
      "text/html": [
       " View run at <a href='https://wandb.ai/ketakishetye0619-iiit-hyderabad/SMAI-A2/runs/sc5ghxsl' target=\"_blank\">https://wandb.ai/ketakishetye0619-iiit-hyderabad/SMAI-A2/runs/sc5ghxsl</a>"
      ],
      "text/plain": [
       "<IPython.core.display.HTML object>"
      ]
     },
     "metadata": {},
     "output_type": "display_data"
    },
    {
     "name": "stdout",
     "output_type": "stream",
     "text": [
      "Initialising model\n"
     ]
    },
    {
     "name": "stderr",
     "output_type": "stream",
     "text": [
      "Training Progress:   1%|          | 1/100 [00:00<00:21,  4.56it/s]"
     ]
    },
    {
     "name": "stdout",
     "output_type": "stream",
     "text": [
      "Epoch: 0,Loss:938.2099623613798\n",
      "Epoch: 0,Validation Loss:696.8158841250294\n"
     ]
    },
    {
     "name": "stderr",
     "output_type": "stream",
     "text": [
      "Training Progress:  10%|█         | 10/100 [00:02<00:18,  4.91it/s]"
     ]
    },
    {
     "name": "stdout",
     "output_type": "stream",
     "text": [
      "Epoch: 9,Train Loss:283.52035529718694\n",
      "Epoch: 9,Validation Loss:524.498503859269\n"
     ]
    },
    {
     "name": "stderr",
     "output_type": "stream",
     "text": [
      "Training Progress:  21%|██        | 21/100 [00:04<00:15,  5.17it/s]"
     ]
    },
    {
     "name": "stdout",
     "output_type": "stream",
     "text": [
      "Epoch: 19,Train Loss:219.90372337116932\n",
      "Epoch: 19,Validation Loss:480.43514215548623\n"
     ]
    },
    {
     "name": "stderr",
     "output_type": "stream",
     "text": [
      "Training Progress:  30%|███       | 30/100 [00:05<00:12,  5.39it/s]"
     ]
    },
    {
     "name": "stdout",
     "output_type": "stream",
     "text": [
      "Epoch: 29,Train Loss:190.96079613888173\n",
      "Epoch: 29,Validation Loss:470.55340396880257\n"
     ]
    },
    {
     "name": "stderr",
     "output_type": "stream",
     "text": [
      "Training Progress:  40%|████      | 40/100 [00:07<00:11,  5.26it/s]"
     ]
    },
    {
     "name": "stdout",
     "output_type": "stream",
     "text": [
      "Epoch: 39,Train Loss:172.7986909582942\n",
      "Epoch: 39,Validation Loss:466.9780575736281\n"
     ]
    },
    {
     "name": "stderr",
     "output_type": "stream",
     "text": [
      "Training Progress:  50%|█████     | 50/100 [00:09<00:09,  5.30it/s]"
     ]
    },
    {
     "name": "stdout",
     "output_type": "stream",
     "text": [
      "Epoch: 49,Train Loss:160.9516757080056\n",
      "Epoch: 49,Validation Loss:458.8405828208092\n"
     ]
    },
    {
     "name": "stderr",
     "output_type": "stream",
     "text": [
      "Training Progress:  60%|██████    | 60/100 [00:11<00:08,  4.76it/s]"
     ]
    },
    {
     "name": "stdout",
     "output_type": "stream",
     "text": [
      "Epoch: 59,Train Loss:151.8983167501366\n",
      "Epoch: 59,Validation Loss:462.6127988138924\n"
     ]
    },
    {
     "name": "stderr",
     "output_type": "stream",
     "text": [
      "Training Progress:  70%|███████   | 70/100 [00:13<00:06,  4.91it/s]"
     ]
    },
    {
     "name": "stdout",
     "output_type": "stream",
     "text": [
      "Epoch: 69,Train Loss:145.18915016515413\n",
      "Epoch: 69,Validation Loss:457.7179480405464\n"
     ]
    },
    {
     "name": "stderr",
     "output_type": "stream",
     "text": [
      "Training Progress:  80%|████████  | 80/100 [00:15<00:04,  4.92it/s]"
     ]
    },
    {
     "name": "stdout",
     "output_type": "stream",
     "text": [
      "Epoch: 79,Train Loss:140.06800572608904\n",
      "Epoch: 79,Validation Loss:457.1359334056725\n"
     ]
    },
    {
     "name": "stderr",
     "output_type": "stream",
     "text": [
      "Training Progress:  90%|█████████ | 90/100 [00:17<00:02,  4.92it/s]"
     ]
    },
    {
     "name": "stdout",
     "output_type": "stream",
     "text": [
      "Epoch: 89,Train Loss:135.28396270539804\n",
      "Epoch: 89,Validation Loss:460.55892185825815\n"
     ]
    },
    {
     "name": "stderr",
     "output_type": "stream",
     "text": [
      "Training Progress: 100%|██████████| 100/100 [00:19<00:00,  5.07it/s]"
     ]
    },
    {
     "name": "stdout",
     "output_type": "stream",
     "text": [
      "Epoch: 99,Train Loss:130.2715587013329\n",
      "Epoch: 99,Validation Loss:458.8539389517981\n",
      "Final Test Loss 488.80109764505517\n",
      "Root Mean Squared Error (RMSE): 22.1088\n",
      "R-squared (R²): 0.6238\n"
     ]
    },
    {
     "name": "stderr",
     "output_type": "stream",
     "text": [
      "\n"
     ]
    },
    {
     "data": {
      "text/html": [],
      "text/plain": [
       "<IPython.core.display.HTML object>"
      ]
     },
     "metadata": {},
     "output_type": "display_data"
    },
    {
     "data": {
      "text/html": [
       "<br>    <style><br>        .wandb-row {<br>            display: flex;<br>            flex-direction: row;<br>            flex-wrap: wrap;<br>            justify-content: flex-start;<br>            width: 100%;<br>        }<br>        .wandb-col {<br>            display: flex;<br>            flex-direction: column;<br>            flex-basis: 100%;<br>            flex: 1;<br>            padding: 10px;<br>        }<br>    </style><br><div class=\"wandb-row\"><div class=\"wandb-col\"><h3>Run history:</h3><br/><table class=\"wandb\"><tr><td>Epoch</td><td>▁▁▁▁▁▂▂▃▃▃▃▃▃▃▃▄▄▄▄▄▅▅▅▅▅▆▆▆▆▆▆▇▇▇▇▇████</td></tr><tr><td>Train Loss</td><td>█▇▆▆▅▅▄▃▃▃▃▃▃▃▃▂▂▂▂▂▂▂▂▂▂▂▁▁▁▁▁▁▁▁▁▁▁▁▁▁</td></tr><tr><td>Validation Loss</td><td>█▇▅▃▂▂▂▂▂▂▁▂▁▁▁▁▁▁▁▁▁▁▁▁▁▁▁▁▁▁▁▁▁▁▁▁▁▁▁▁</td></tr></table><br/></div><div class=\"wandb-col\"><h3>Run summary:</h3><br/><table class=\"wandb\"><tr><td>Epoch</td><td>99</td></tr><tr><td>Train Loss</td><td>130.27156</td></tr><tr><td>Validation Loss</td><td>458.85394</td></tr></table><br/></div></div>"
      ],
      "text/plain": [
       "<IPython.core.display.HTML object>"
      ]
     },
     "metadata": {},
     "output_type": "display_data"
    },
    {
     "data": {
      "text/html": [
       " View run <strong style=\"color:#cdcd00\">2.2-Sigmoid-MBGD</strong> at: <a href='https://wandb.ai/ketakishetye0619-iiit-hyderabad/SMAI-A2/runs/sc5ghxsl' target=\"_blank\">https://wandb.ai/ketakishetye0619-iiit-hyderabad/SMAI-A2/runs/sc5ghxsl</a><br> View project at: <a href='https://wandb.ai/ketakishetye0619-iiit-hyderabad/SMAI-A2' target=\"_blank\">https://wandb.ai/ketakishetye0619-iiit-hyderabad/SMAI-A2</a><br>Synced 5 W&B file(s), 0 media file(s), 0 artifact file(s) and 0 other file(s)"
      ],
      "text/plain": [
       "<IPython.core.display.HTML object>"
      ]
     },
     "metadata": {},
     "output_type": "display_data"
    },
    {
     "data": {
      "text/html": [
       "Find logs at: <code>.\\wandb\\run-20250315_153817-sc5ghxsl\\logs</code>"
      ],
      "text/plain": [
       "<IPython.core.display.HTML object>"
      ]
     },
     "metadata": {},
     "output_type": "display_data"
    }
   ],
   "source": [
    "wandb.init(project=\"SMAI-A2\", name=\"2.2-Sigmoid-MBGD\")\n",
    "print(\"Initialising model\")\n",
    "model = MLP(input_dim, hidden_dim, output_dim,activation)   \n",
    "model.train(x_train_np,y_train_np,num_epochs,learning_rate,x_val_np,y_val_np,batch_size)\n",
    "y_pred_test=model.predict(x_test_np)\n",
    "test_loss=model.mse_loss(y_test_np,y_pred_test)\n",
    "print(f\"Final Test Loss {test_loss}\")\n",
    "test_rmse=model.rmse(test_loss)\n",
    "test_r2_score=model.r2_score(y_test_np,y_pred_test)\n",
    "wandb.finish()"
   ]
  },
  {
   "cell_type": "code",
   "execution_count": 50,
   "metadata": {},
   "outputs": [],
   "source": [
    "np.random.seed(42)\n",
    "input_dim=1105\n",
    "hidden_dim=128\n",
    "learning_rate=0.01\n",
    "num_epochs=100\n",
    "activation='sigmoid'\n",
    "batch_size=128\n",
    "output_dim=1"
   ]
  },
  {
   "cell_type": "code",
   "execution_count": 51,
   "metadata": {},
   "outputs": [
    {
     "data": {
      "text/html": [
       "Tracking run with wandb version 0.19.8"
      ],
      "text/plain": [
       "<IPython.core.display.HTML object>"
      ]
     },
     "metadata": {},
     "output_type": "display_data"
    },
    {
     "data": {
      "text/html": [
       "Run data is saved locally in <code>d:\\SMAI\\Assignments\\A2\\wandb\\run-20250315_172140-ek7gxafk</code>"
      ],
      "text/plain": [
       "<IPython.core.display.HTML object>"
      ]
     },
     "metadata": {},
     "output_type": "display_data"
    },
    {
     "data": {
      "text/html": [
       "Syncing run <strong><a href='https://wandb.ai/ketakishetye0619-iiit-hyderabad/SMAI-A2/runs/ek7gxafk' target=\"_blank\">2.2-Sigmoid-MBGD-Hyperparam1</a></strong> to <a href='https://wandb.ai/ketakishetye0619-iiit-hyderabad/SMAI-A2' target=\"_blank\">Weights & Biases</a> (<a href='https://wandb.me/developer-guide' target=\"_blank\">docs</a>)<br>"
      ],
      "text/plain": [
       "<IPython.core.display.HTML object>"
      ]
     },
     "metadata": {},
     "output_type": "display_data"
    },
    {
     "data": {
      "text/html": [
       " View project at <a href='https://wandb.ai/ketakishetye0619-iiit-hyderabad/SMAI-A2' target=\"_blank\">https://wandb.ai/ketakishetye0619-iiit-hyderabad/SMAI-A2</a>"
      ],
      "text/plain": [
       "<IPython.core.display.HTML object>"
      ]
     },
     "metadata": {},
     "output_type": "display_data"
    },
    {
     "data": {
      "text/html": [
       " View run at <a href='https://wandb.ai/ketakishetye0619-iiit-hyderabad/SMAI-A2/runs/ek7gxafk' target=\"_blank\">https://wandb.ai/ketakishetye0619-iiit-hyderabad/SMAI-A2/runs/ek7gxafk</a>"
      ],
      "text/plain": [
       "<IPython.core.display.HTML object>"
      ]
     },
     "metadata": {},
     "output_type": "display_data"
    },
    {
     "name": "stdout",
     "output_type": "stream",
     "text": [
      "Initialising model\n"
     ]
    },
    {
     "name": "stderr",
     "output_type": "stream",
     "text": [
      "Training Progress:   0%|          | 0/100 [00:00<?, ?it/s]"
     ]
    },
    {
     "name": "stdout",
     "output_type": "stream",
     "text": [
      "Epoch: 0,Loss:798.7215705790803"
     ]
    },
    {
     "name": "stderr",
     "output_type": "stream",
     "text": [
      "Training Progress:   1%|          | 1/100 [00:00<00:19,  5.08it/s]"
     ]
    },
    {
     "name": "stdout",
     "output_type": "stream",
     "text": [
      "\n",
      "Epoch: 0,Validation Loss:645.3167247533149\n"
     ]
    },
    {
     "name": "stderr",
     "output_type": "stream",
     "text": [
      "Training Progress:  10%|█         | 10/100 [00:01<00:17,  5.24it/s]"
     ]
    },
    {
     "name": "stdout",
     "output_type": "stream",
     "text": [
      "Epoch: 9,Train Loss:294.78448891248115\n",
      "Epoch: 9,Validation Loss:528.4240277377893\n"
     ]
    },
    {
     "name": "stderr",
     "output_type": "stream",
     "text": [
      "Training Progress:  20%|██        | 20/100 [00:03<00:15,  5.14it/s]"
     ]
    },
    {
     "name": "stdout",
     "output_type": "stream",
     "text": [
      "Epoch: 19,Train Loss:226.51277113076168\n",
      "Epoch: 19,Validation Loss:488.83007159283903\n"
     ]
    },
    {
     "name": "stderr",
     "output_type": "stream",
     "text": [
      "Training Progress:  30%|███       | 30/100 [00:05<00:13,  5.32it/s]"
     ]
    },
    {
     "name": "stdout",
     "output_type": "stream",
     "text": [
      "Epoch: 29,Train Loss:194.29134690228815\n",
      "Epoch: 29,Validation Loss:470.8276753297061\n"
     ]
    },
    {
     "name": "stderr",
     "output_type": "stream",
     "text": [
      "Training Progress:  40%|████      | 40/100 [00:07<00:11,  5.29it/s]"
     ]
    },
    {
     "name": "stdout",
     "output_type": "stream",
     "text": [
      "Epoch: 39,Train Loss:175.1045735878401\n",
      "Epoch: 39,Validation Loss:447.3993969136019\n"
     ]
    },
    {
     "name": "stderr",
     "output_type": "stream",
     "text": [
      "Training Progress:  50%|█████     | 50/100 [00:09<00:09,  5.30it/s]"
     ]
    },
    {
     "name": "stdout",
     "output_type": "stream",
     "text": [
      "Epoch: 49,Train Loss:161.24354083105808\n",
      "Epoch: 49,Validation Loss:443.1593217362317\n"
     ]
    },
    {
     "name": "stderr",
     "output_type": "stream",
     "text": [
      "Training Progress:  60%|██████    | 60/100 [00:11<00:07,  5.33it/s]"
     ]
    },
    {
     "name": "stdout",
     "output_type": "stream",
     "text": [
      "Epoch: 59,Train Loss:151.31758911078737\n",
      "Epoch: 59,Validation Loss:444.8708935719332\n"
     ]
    },
    {
     "name": "stderr",
     "output_type": "stream",
     "text": [
      "Training Progress:  70%|███████   | 70/100 [00:13<00:05,  5.37it/s]"
     ]
    },
    {
     "name": "stdout",
     "output_type": "stream",
     "text": [
      "Epoch: 69,Train Loss:142.45114176731002\n",
      "Epoch: 69,Validation Loss:443.2172745366196\n"
     ]
    },
    {
     "name": "stderr",
     "output_type": "stream",
     "text": [
      "Training Progress:  80%|████████  | 80/100 [00:15<00:03,  5.37it/s]"
     ]
    },
    {
     "name": "stdout",
     "output_type": "stream",
     "text": [
      "Epoch: 79,Train Loss:134.44110096973435\n",
      "Epoch: 79,Validation Loss:442.0785035101007\n"
     ]
    },
    {
     "name": "stderr",
     "output_type": "stream",
     "text": [
      "Training Progress:  90%|█████████ | 90/100 [00:16<00:02,  4.97it/s]"
     ]
    },
    {
     "name": "stdout",
     "output_type": "stream",
     "text": [
      "Epoch: 89,Train Loss:127.37049778385922\n",
      "Epoch: 89,Validation Loss:440.7240610085684\n"
     ]
    },
    {
     "name": "stderr",
     "output_type": "stream",
     "text": [
      "Training Progress: 100%|██████████| 100/100 [00:18<00:00,  5.28it/s]"
     ]
    },
    {
     "name": "stdout",
     "output_type": "stream",
     "text": [
      "Epoch: 99,Train Loss:120.70054718424518\n",
      "Epoch: 99,Validation Loss:448.3650681294159\n",
      "Final Test Loss 489.1486060077546\n",
      "Root Mean Squared Error (RMSE): 22.1167\n",
      "R-squared (R²): 0.6236\n"
     ]
    },
    {
     "name": "stderr",
     "output_type": "stream",
     "text": [
      "\n"
     ]
    },
    {
     "data": {
      "text/html": [],
      "text/plain": [
       "<IPython.core.display.HTML object>"
      ]
     },
     "metadata": {},
     "output_type": "display_data"
    },
    {
     "data": {
      "text/html": [
       "<br>    <style><br>        .wandb-row {<br>            display: flex;<br>            flex-direction: row;<br>            flex-wrap: wrap;<br>            justify-content: flex-start;<br>            width: 100%;<br>        }<br>        .wandb-col {<br>            display: flex;<br>            flex-direction: column;<br>            flex-basis: 100%;<br>            flex: 1;<br>            padding: 10px;<br>        }<br>    </style><br><div class=\"wandb-row\"><div class=\"wandb-col\"><h3>Run history:</h3><br/><table class=\"wandb\"><tr><td>Epoch</td><td>▁▁▁▁▂▂▂▂▂▂▃▃▃▃▃▃▄▄▄▄▄▅▅▅▅▆▆▆▆▆▆▇▇▇▇▇▇▇██</td></tr><tr><td>Train Loss</td><td>█▆▅▅▄▄▄▃▃▃▃▃▂▂▂▂▂▂▂▂▂▂▂▂▂▂▂▁▁▁▁▁▁▁▁▁▁▁▁▁</td></tr><tr><td>Validation Loss</td><td>██▇▆▅▄▄▃▃▃▂▃▂▂▂▂▂▁▂▁▁▁▂▂▁▁▁▁▁▁▁▁▁▁▁▁▁▁▁▁</td></tr></table><br/></div><div class=\"wandb-col\"><h3>Run summary:</h3><br/><table class=\"wandb\"><tr><td>Epoch</td><td>99</td></tr><tr><td>Train Loss</td><td>120.70055</td></tr><tr><td>Validation Loss</td><td>448.36507</td></tr></table><br/></div></div>"
      ],
      "text/plain": [
       "<IPython.core.display.HTML object>"
      ]
     },
     "metadata": {},
     "output_type": "display_data"
    },
    {
     "data": {
      "text/html": [
       " View run <strong style=\"color:#cdcd00\">2.2-Sigmoid-MBGD-Hyperparam1</strong> at: <a href='https://wandb.ai/ketakishetye0619-iiit-hyderabad/SMAI-A2/runs/ek7gxafk' target=\"_blank\">https://wandb.ai/ketakishetye0619-iiit-hyderabad/SMAI-A2/runs/ek7gxafk</a><br> View project at: <a href='https://wandb.ai/ketakishetye0619-iiit-hyderabad/SMAI-A2' target=\"_blank\">https://wandb.ai/ketakishetye0619-iiit-hyderabad/SMAI-A2</a><br>Synced 5 W&B file(s), 0 media file(s), 0 artifact file(s) and 0 other file(s)"
      ],
      "text/plain": [
       "<IPython.core.display.HTML object>"
      ]
     },
     "metadata": {},
     "output_type": "display_data"
    },
    {
     "data": {
      "text/html": [
       "Find logs at: <code>.\\wandb\\run-20250315_172140-ek7gxafk\\logs</code>"
      ],
      "text/plain": [
       "<IPython.core.display.HTML object>"
      ]
     },
     "metadata": {},
     "output_type": "display_data"
    }
   ],
   "source": [
    "wandb.init(project=\"SMAI-A2\", name=\"2.2-Sigmoid-MBGD-Hyperparam1\")\n",
    "print(\"Initialising model\")\n",
    "model = MLP(input_dim, hidden_dim, output_dim,activation)   \n",
    "model.train(x_train_np,y_train_np,num_epochs,learning_rate,x_val_np,y_val_np,batch_size)\n",
    "y_pred_test=model.predict(x_test_np)\n",
    "test_loss=model.mse_loss(y_test_np,y_pred_test)\n",
    "print(f\"Final Test Loss {test_loss}\")\n",
    "test_rmse=model.rmse(test_loss)\n",
    "test_r2_score=model.r2_score(y_test_np,y_pred_test)\n",
    "wandb.finish()"
   ]
  },
  {
   "cell_type": "code",
   "execution_count": 52,
   "metadata": {},
   "outputs": [],
   "source": [
    "np.random.seed(42)\n",
    "input_dim=1105\n",
    "hidden_dim=64\n",
    "learning_rate=0.001\n",
    "num_epochs=100\n",
    "activation='sigmoid'\n",
    "batch_size=128\n",
    "output_dim=1"
   ]
  },
  {
   "cell_type": "code",
   "execution_count": 53,
   "metadata": {},
   "outputs": [
    {
     "data": {
      "text/html": [
       "Tracking run with wandb version 0.19.8"
      ],
      "text/plain": [
       "<IPython.core.display.HTML object>"
      ]
     },
     "metadata": {},
     "output_type": "display_data"
    },
    {
     "data": {
      "text/html": [
       "Run data is saved locally in <code>d:\\SMAI\\Assignments\\A2\\wandb\\run-20250315_172202-k4d709g5</code>"
      ],
      "text/plain": [
       "<IPython.core.display.HTML object>"
      ]
     },
     "metadata": {},
     "output_type": "display_data"
    },
    {
     "data": {
      "text/html": [
       "Syncing run <strong><a href='https://wandb.ai/ketakishetye0619-iiit-hyderabad/SMAI-A2/runs/k4d709g5' target=\"_blank\">2.2-Sigmoid-MBGD-Hyperparam2</a></strong> to <a href='https://wandb.ai/ketakishetye0619-iiit-hyderabad/SMAI-A2' target=\"_blank\">Weights & Biases</a> (<a href='https://wandb.me/developer-guide' target=\"_blank\">docs</a>)<br>"
      ],
      "text/plain": [
       "<IPython.core.display.HTML object>"
      ]
     },
     "metadata": {},
     "output_type": "display_data"
    },
    {
     "data": {
      "text/html": [
       " View project at <a href='https://wandb.ai/ketakishetye0619-iiit-hyderabad/SMAI-A2' target=\"_blank\">https://wandb.ai/ketakishetye0619-iiit-hyderabad/SMAI-A2</a>"
      ],
      "text/plain": [
       "<IPython.core.display.HTML object>"
      ]
     },
     "metadata": {},
     "output_type": "display_data"
    },
    {
     "data": {
      "text/html": [
       " View run at <a href='https://wandb.ai/ketakishetye0619-iiit-hyderabad/SMAI-A2/runs/k4d709g5' target=\"_blank\">https://wandb.ai/ketakishetye0619-iiit-hyderabad/SMAI-A2/runs/k4d709g5</a>"
      ],
      "text/plain": [
       "<IPython.core.display.HTML object>"
      ]
     },
     "metadata": {},
     "output_type": "display_data"
    },
    {
     "name": "stdout",
     "output_type": "stream",
     "text": [
      "Initialising model\n"
     ]
    },
    {
     "name": "stderr",
     "output_type": "stream",
     "text": [
      "Training Progress:   0%|          | 0/100 [00:00<?, ?it/s]"
     ]
    },
    {
     "name": "stdout",
     "output_type": "stream",
     "text": [
      "Epoch: 0,Loss:3126.889000478525\n"
     ]
    },
    {
     "name": "stderr",
     "output_type": "stream",
     "text": [
      "Training Progress:   1%|          | 1/100 [00:00<00:18,  5.24it/s]"
     ]
    },
    {
     "name": "stdout",
     "output_type": "stream",
     "text": [
      "Epoch: 0,Validation Loss:1313.5402842024675\n"
     ]
    },
    {
     "name": "stderr",
     "output_type": "stream",
     "text": [
      "Training Progress:  11%|█         | 11/100 [00:01<00:13,  6.44it/s]"
     ]
    },
    {
     "name": "stdout",
     "output_type": "stream",
     "text": [
      "Epoch: 9,Train Loss:395.1786077579775\n",
      "Epoch: 9,Validation Loss:600.4104533074631\n"
     ]
    },
    {
     "name": "stderr",
     "output_type": "stream",
     "text": [
      "Training Progress:  21%|██        | 21/100 [00:03<00:13,  5.67it/s]"
     ]
    },
    {
     "name": "stdout",
     "output_type": "stream",
     "text": [
      "Epoch: 19,Train Loss:345.98943789837705\n",
      "Epoch: 19,Validation Loss:566.6847913898637\n"
     ]
    },
    {
     "name": "stderr",
     "output_type": "stream",
     "text": [
      "Training Progress:  31%|███       | 31/100 [00:05<00:11,  5.99it/s]"
     ]
    },
    {
     "name": "stdout",
     "output_type": "stream",
     "text": [
      "Epoch: 29,Train Loss:317.0458036362728\n",
      "Epoch: 29,Validation Loss:542.5541458056413\n"
     ]
    },
    {
     "name": "stderr",
     "output_type": "stream",
     "text": [
      "Training Progress:  41%|████      | 41/100 [00:07<00:10,  5.59it/s]"
     ]
    },
    {
     "name": "stdout",
     "output_type": "stream",
     "text": [
      "Epoch: 39,Train Loss:290.8520476676569\n",
      "Epoch: 39,Validation Loss:524.5474162719091\n"
     ]
    },
    {
     "name": "stderr",
     "output_type": "stream",
     "text": [
      "Training Progress:  51%|█████     | 51/100 [00:08<00:08,  5.76it/s]"
     ]
    },
    {
     "name": "stdout",
     "output_type": "stream",
     "text": [
      "Epoch: 49,Train Loss:268.9886365867287\n",
      "Epoch: 49,Validation Loss:509.1110523542951\n"
     ]
    },
    {
     "name": "stderr",
     "output_type": "stream",
     "text": [
      "Training Progress:  61%|██████    | 61/100 [00:10<00:06,  5.82it/s]"
     ]
    },
    {
     "name": "stdout",
     "output_type": "stream",
     "text": [
      "Epoch: 59,Train Loss:251.4375347560579\n",
      "Epoch: 59,Validation Loss:498.6649255930375\n"
     ]
    },
    {
     "name": "stderr",
     "output_type": "stream",
     "text": [
      "Training Progress:  71%|███████   | 71/100 [00:12<00:05,  5.46it/s]"
     ]
    },
    {
     "name": "stdout",
     "output_type": "stream",
     "text": [
      "Epoch: 69,Train Loss:236.96023562560669\n",
      "Epoch: 69,Validation Loss:487.67141278927\n"
     ]
    },
    {
     "name": "stderr",
     "output_type": "stream",
     "text": [
      "Training Progress:  81%|████████  | 81/100 [00:14<00:03,  5.43it/s]"
     ]
    },
    {
     "name": "stdout",
     "output_type": "stream",
     "text": [
      "Epoch: 79,Train Loss:225.81158763899717\n",
      "Epoch: 79,Validation Loss:480.55563898948554\n"
     ]
    },
    {
     "name": "stderr",
     "output_type": "stream",
     "text": [
      "Training Progress:  91%|█████████ | 91/100 [00:16<00:01,  5.57it/s]"
     ]
    },
    {
     "name": "stdout",
     "output_type": "stream",
     "text": [
      "Epoch: 89,Train Loss:215.9312127045337\n",
      "Epoch: 89,Validation Loss:473.42874220922596\n"
     ]
    },
    {
     "name": "stderr",
     "output_type": "stream",
     "text": [
      "Training Progress: 100%|██████████| 100/100 [00:17<00:00,  5.65it/s]"
     ]
    },
    {
     "name": "stdout",
     "output_type": "stream",
     "text": [
      "Epoch: 99,Train Loss:207.5438019366941\n",
      "Epoch: 99,Validation Loss:468.15738792859565\n",
      "Final Test Loss 470.4575415252642\n",
      "Root Mean Squared Error (RMSE): 21.6900\n",
      "R-squared (R²): 0.6380\n"
     ]
    },
    {
     "name": "stderr",
     "output_type": "stream",
     "text": [
      "\n"
     ]
    },
    {
     "data": {
      "text/html": [],
      "text/plain": [
       "<IPython.core.display.HTML object>"
      ]
     },
     "metadata": {},
     "output_type": "display_data"
    },
    {
     "data": {
      "text/html": [
       "<br>    <style><br>        .wandb-row {<br>            display: flex;<br>            flex-direction: row;<br>            flex-wrap: wrap;<br>            justify-content: flex-start;<br>            width: 100%;<br>        }<br>        .wandb-col {<br>            display: flex;<br>            flex-direction: column;<br>            flex-basis: 100%;<br>            flex: 1;<br>            padding: 10px;<br>        }<br>    </style><br><div class=\"wandb-row\"><div class=\"wandb-col\"><h3>Run history:</h3><br/><table class=\"wandb\"><tr><td>Epoch</td><td>▁▁▁▁▂▂▂▂▂▂▂▃▃▃▃▃▄▄▄▄▅▅▅▅▅▅▅▆▆▆▆▆▆▇▇▇▇▇▇█</td></tr><tr><td>Train Loss</td><td>█▅▄▃▃▃▃▃▃▃▃▂▂▂▂▂▂▂▂▂▂▂▂▂▁▁▁▁▁▁▁▁▁▁▁▁▁▁▁▁</td></tr><tr><td>Validation Loss</td><td>██▇▇▆▆▅▅▅▄▄▄▄▄▃▃▃▃▃▂▂▂▂▂▂▂▂▂▂▂▂▁▁▁▁▁▁▁▁▁</td></tr></table><br/></div><div class=\"wandb-col\"><h3>Run summary:</h3><br/><table class=\"wandb\"><tr><td>Epoch</td><td>99</td></tr><tr><td>Train Loss</td><td>207.5438</td></tr><tr><td>Validation Loss</td><td>468.15739</td></tr></table><br/></div></div>"
      ],
      "text/plain": [
       "<IPython.core.display.HTML object>"
      ]
     },
     "metadata": {},
     "output_type": "display_data"
    },
    {
     "data": {
      "text/html": [
       " View run <strong style=\"color:#cdcd00\">2.2-Sigmoid-MBGD-Hyperparam2</strong> at: <a href='https://wandb.ai/ketakishetye0619-iiit-hyderabad/SMAI-A2/runs/k4d709g5' target=\"_blank\">https://wandb.ai/ketakishetye0619-iiit-hyderabad/SMAI-A2/runs/k4d709g5</a><br> View project at: <a href='https://wandb.ai/ketakishetye0619-iiit-hyderabad/SMAI-A2' target=\"_blank\">https://wandb.ai/ketakishetye0619-iiit-hyderabad/SMAI-A2</a><br>Synced 5 W&B file(s), 0 media file(s), 0 artifact file(s) and 0 other file(s)"
      ],
      "text/plain": [
       "<IPython.core.display.HTML object>"
      ]
     },
     "metadata": {},
     "output_type": "display_data"
    },
    {
     "data": {
      "text/html": [
       "Find logs at: <code>.\\wandb\\run-20250315_172202-k4d709g5\\logs</code>"
      ],
      "text/plain": [
       "<IPython.core.display.HTML object>"
      ]
     },
     "metadata": {},
     "output_type": "display_data"
    }
   ],
   "source": [
    "wandb.init(project=\"SMAI-A2\", name=\"2.2-Sigmoid-MBGD-Hyperparam2\")\n",
    "print(\"Initialising model\")\n",
    "model = MLP(input_dim, hidden_dim, output_dim,activation)   \n",
    "model.train(x_train_np,y_train_np,num_epochs,learning_rate,x_val_np,y_val_np,batch_size)\n",
    "y_pred_test=model.predict(x_test_np)\n",
    "test_loss=model.mse_loss(y_test_np,y_pred_test)\n",
    "print(f\"Final Test Loss {test_loss}\")\n",
    "test_rmse=model.rmse(test_loss)\n",
    "test_r2_score=model.r2_score(y_test_np,y_pred_test)\n",
    "wandb.finish()"
   ]
  },
  {
   "cell_type": "markdown",
   "metadata": {},
   "source": [
    "### Results\n",
    "\n",
    "#### Hyperparameters\n",
    "- **Baseline**: input_dim=1105, hidden_dim=64, learning_rate=0.01, num_epochs=100, output_dim=1\n",
    "- **Hyperparam1**: input_dim=1105, hidden_dim=128, learning_rate=0.01, num_epochs=100, output_dim=1\n",
    "- **Hyperparam2**: input_dim=1105, hidden_dim=64, learning_rate=0.001, num_epochs=100, output_dim=1\n",
    "\n",
    "| Optimizer | Activation | Config | Test Loss | RMSE | R² |\n",
    "|-----------|------------|--------|-----------|------|-----|\n",
    "| BGD       | ReLU       | Baseline | 506.96 | 22.52 | 0.6099 |\n",
    "|           |            | Hyperparam1 | 527.24 | 22.96 | 0.5943 |\n",
    "|           |            | Hyperparam2 | 612.70 | 24.75 | 0.5285 |\n",
    "| SGD       | ReLU       | Baseline | 495.49 | 22.26 | 0.6187 |\n",
    "|           |            | Hyperparam1 | 482.35 | 21.96 | 0.6288 |\n",
    "|           |            | Hyperparam2 | 482.35 | 21.96 | 0.6288 |\n",
    "| MBGD      | ReLU       | Baseline | 490.67 | 22.15 | 0.6224 |\n",
    "|           |            | Hyperparam1 | 487.21 | 22.07 | 0.6251 |\n",
    "|           |            | Hyperparam2 | 490.67 | 22.15 | 0.6224 |\n",
    "| BGD       | Tanh       | Baseline | 499.97 | 22.36 | 0.6153 |\n",
    "|           |            | Hyperparam1 | 513.09 | 22.65 | 0.6052 |\n",
    "|           |            | Hyperparam2 | 1104.12 | 33.23 | 0.1503 |\n",
    "| SGD       | Tanh       | Baseline | 724.03 | 26.91 | 0.4428 |\n",
    "|           |            | Hyperparam1 | 1412.23 | 37.58 | 0.0868 |\n",
    "|           |            | Hyperparam2 | 634.10 | 25.18 | 0.5120 |\n",
    "| MBGD      | Tanh       | Baseline | 551.01 | 23.47 | 0.5760 |\n",
    "|           |            | Hyperparam1 | 562.03 | 23.71 | 0.5675 |\n",
    "|           |            | Hyperparam2 | 530.20 | 23.03 | 0.5920 |\n",
    "| BGD       | Sigmoid    | Baseline | 514.04 | 22.67 | 0.6044 |\n",
    "|           |            | Hyperparam1 | 511.96 | 22.63 | 0.6060 |\n",
    "|           |            | Hyperparam2 | 765.79 | 27.67 | 0.4107 |\n",
    "| SGD       | Sigmoid    | Baseline | 767.59 | 27.71 | 0.4093 |\n",
    "|           |            | Hyperparam1 | 693.18 | 26.33 | 0.4666 |\n",
    "|           |            | Hyperparam2 | 520.59 | 22.82 | 0.5994 |\n",
    "| MBGD      | Sigmoid    | ** Baseline ** | 488.80 | 22.11 | 0.6238 |\n",
    "|           |            | Hyperparam1 | 489.15 | 22.12 | 0.6236 |\n",
    "|           |            | Hyperparam2 | 470.46 | 21.69 | 0.6380 |\n",
    "\n",
    "#### Best Configuration\n",
    " \n",
    "1. Effect of Activation Functions\n",
    "    - ReLU performs consistently well across different optimizers and configurations, with test accuracies ranging between 45% to 62%.\n",
    "    - Tanh has mixed results—it performs well in some cases but generally underperforms compared to ReLU.\n",
    "    - Sigmoid performs poorly with BGD, with test accuracies low for small learning rates, but improves significantly when using SGD and MBGD.\n",
    "2. Effect of Optimizers\n",
    "    - Batch Gradient Descent (BGD) performs poorly in most cases, especially with Tanh and Sigmoid, suggesting that it struggles with gradient updates due to possible vanishing gradients.\n",
    "    - Stochastic Gradient Descent (SGD) yields the best results in most cases.\n",
    "    - Mini-Batch Gradient Descent (MBGD) gives results comparable to SGD, but slightly lower in some cases.\n",
    "\n",
    "Minibatch with sigmoid will give the best combination."
   ]
  },
  {
   "cell_type": "markdown",
   "metadata": {},
   "source": [
    "![Alt Text](Graphs\\2.2_BGD_train_loss.png)\n",
    "![Alt Text](Graphs\\2.2_BGD_val_loss.png)"
   ]
  },
  {
   "cell_type": "markdown",
   "metadata": {},
   "source": [
    "![Alt Text](Graphs\\2.2_SGD_train_loss.png)\n",
    "![Alt Text](Graphs\\2.2_SGD_val_loss.png)"
   ]
  },
  {
   "cell_type": "markdown",
   "metadata": {},
   "source": [
    "![Alt Text](Graphs\\2.2_MBGD_train_loss.png)\n",
    "![Alt Text](Graphs\\2.2_MBGD_val_loss.png)"
   ]
  }
 ],
 "metadata": {
  "kernelspec": {
   "display_name": "Python 3",
   "language": "python",
   "name": "python3"
  },
  "language_info": {
   "codemirror_mode": {
    "name": "ipython",
    "version": 3
   },
   "file_extension": ".py",
   "mimetype": "text/x-python",
   "name": "python",
   "nbconvert_exporter": "python",
   "pygments_lexer": "ipython3",
   "version": "3.11.9"
  }
 },
 "nbformat": 4,
 "nbformat_minor": 2
}
