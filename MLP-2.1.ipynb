{
 "cells": [
  {
   "cell_type": "markdown",
   "metadata": {},
   "source": [
    "## 2.1 MLP Multi-Class Classifier"
   ]
  },
  {
   "cell_type": "markdown",
   "metadata": {},
   "source": [
    "### Functions"
   ]
  },
  {
   "cell_type": "code",
   "execution_count": 1,
   "metadata": {},
   "outputs": [
    {
     "name": "stderr",
     "output_type": "stream",
     "text": [
      "\u001b[34m\u001b[1mwandb\u001b[0m: Using wandb-core as the SDK backend.  Please refer to https://wandb.me/wandb-core for more information.\n",
      "\u001b[34m\u001b[1mwandb\u001b[0m: \u001b[33mWARNING\u001b[0m If you're specifying your api key in code, ensure this code is not shared publicly.\n",
      "\u001b[34m\u001b[1mwandb\u001b[0m: \u001b[33mWARNING\u001b[0m Consider setting the WANDB_API_KEY environment variable, or running `wandb login` from the command line.\n",
      "\u001b[34m\u001b[1mwandb\u001b[0m: Appending key for api.wandb.ai to your netrc file: C:\\Users\\Admin\\_netrc\n",
      "\u001b[34m\u001b[1mwandb\u001b[0m: Currently logged in as: \u001b[33mketakishetye0619\u001b[0m (\u001b[33mketakishetye0619-iiit-hyderabad\u001b[0m) to \u001b[32mhttps://api.wandb.ai\u001b[0m. Use \u001b[1m`wandb login --relogin`\u001b[0m to force relogin\n"
     ]
    },
    {
     "data": {
      "text/plain": [
       "True"
      ]
     },
     "execution_count": 1,
     "metadata": {},
     "output_type": "execute_result"
    }
   ],
   "source": [
    "import numpy as np\n",
    "import pandas as pd\n",
    "import os\n",
    "import matplotlib.pyplot as plt\n",
    "import cv2\n",
    "from sklearn.preprocessing import OneHotEncoder\n",
    "from tqdm import tqdm\n",
    "import wandb\n",
    "from sklearn.preprocessing import StandardScaler\n",
    "wandb.login(key=\"cb255956b462ea96bcedb0051bc14581a02f25c3\")"
   ]
  },
  {
   "cell_type": "code",
   "execution_count": 2,
   "metadata": {},
   "outputs": [],
   "source": [
    "class MLP():\n",
    "    def __init__(self,input_dim,hidden_dim,output_dim,activation):\n",
    "        self.in_hidden_weights=np.random.randn(input_dim, hidden_dim)*np.sqrt(2/input_dim)\n",
    "        self.out_hidden_weights=np.random.randn(hidden_dim,output_dim)*np.sqrt(2/hidden_dim)\n",
    "        self.bias_hidden = np.zeros((1, hidden_dim))\n",
    "        self.bias_output=np.zeros((1,output_dim))\n",
    "        self.activation=activation\n",
    "        \n",
    "    def apply_activation(self,x):\n",
    "        if self.activation=='relu':\n",
    "            activation = np.maximum(0, x)  \n",
    "        elif self.activation=='sigmoid':\n",
    "            activation = 1 / (1 + np.exp(-x))\n",
    "        elif self.activation=='tanh':\n",
    "            activation = np.tanh(x)  \n",
    "            \n",
    "        return activation\n",
    "    \n",
    "    def apply_derivative(self,x):\n",
    "        if self.activation=='relu':\n",
    "            derivative=np.where(x > 0, 1, 0)\n",
    "        elif self.activation=='sigmoid':\n",
    "            activation = 1 / (1 + np.exp(-x))\n",
    "            derivative= activation * (1 - activation)  \n",
    "        elif self.activation=='tanh':\n",
    "            activation = np.tanh(x)  \n",
    "            derivative = 1 - activation ** 2  \n",
    "            \n",
    "        return derivative\n",
    "    \n",
    "    def softmax(self,x):\n",
    "        exponent_of_x=np.exp(x-np.max(x, axis=1, keepdims=True)) # the largest value in x becomes 0, making all exponentials ≤ 1 => to prevent large exponents\n",
    "        return exponent_of_x / np.sum(exponent_of_x,axis=1, keepdims=True)\n",
    "    \n",
    "    def forward(self,x):\n",
    "        self.hidden_layer_input=np.dot(x,self.in_hidden_weights)+self.bias_hidden\n",
    "        self.hidden_layer_output=self.apply_activation(self.hidden_layer_input)\n",
    "        self.final_input=np.dot(self.hidden_layer_output,self.out_hidden_weights)+self.bias_output\n",
    "        self.final_output=self.softmax(self.final_input)\n",
    "        return self.final_output\n",
    "    \n",
    "    def backward_propogation(self,x,y_true,y_pred,learning_rate):\n",
    "        batch_size=x.shape[0]\n",
    "        output_layer_error=(y_pred-y_true)/batch_size\n",
    "        hidden_layer_error=(np.dot(output_layer_error,self.out_hidden_weights.T))*self.apply_derivative(self.hidden_layer_input) # total contribution of each hidden neuron to the overall output error and multiplied by derivative as scales the hidden error based on how much each hidden neuron is \"activated.\"\n",
    "\n",
    "        self.out_hidden_weights=self.out_hidden_weights-learning_rate*(np.dot(self.hidden_layer_output.T,output_layer_error))\n",
    "        self.bias_output=self.bias_output-learning_rate*(np.sum(output_layer_error,axis=0,keepdims=True))\n",
    "        \n",
    "        self.in_hidden_weights=self.in_hidden_weights-learning_rate*(np.dot(x.T,hidden_layer_error))\n",
    "        self.bias_hidden=self.bias_hidden-learning_rate*(np.sum(hidden_layer_error,axis=0,keepdims=True))\n",
    "        \n",
    "    def cross_entropy(self,y_true,y_pred,x):\n",
    "        loss=-np.sum(y_true*np.log(y_pred))/x.shape[0]\n",
    "        return loss\n",
    "        \n",
    "    def calculate_train_accuracy(self, y_true, y_pred):\n",
    "        y_true_indices = np.argmax(y_true, axis=-1)\n",
    "        y_pred_indices = np.argmax(y_pred, axis=-1)\n",
    "        accuracy = np.mean(y_true_indices == y_pred_indices)\n",
    "        return accuracy*100\n",
    "    \n",
    "    def calculate_test_accuracy(self, y_true, y_pred):\n",
    "        y_true_indices = np.argmax(y_true, axis=-1)\n",
    "        accuracy = np.mean(y_true_indices == y_pred)\n",
    "        return accuracy*100\n",
    "        \n",
    "    def predict(self, x):\n",
    "        return np.argmax(self.forward(x), axis=-1)\n",
    "    \n",
    "    def train(self,x_train,y_true,num_epochs,learning_rate,x_test,y_test,fold_index,batch_size):\n",
    "        \n",
    "        total_num_train_samples=x_train.shape[0]\n",
    "        if batch_size is None:\n",
    "            batch_size=total_num_train_samples\n",
    "            \n",
    "        epoch_iterator = tqdm(\n",
    "            range(num_epochs),\n",
    "            desc=f\"Fold {fold_index+1}/10\",\n",
    "            unit=\"epoch\",\n",
    "            ncols=100,\n",
    "            leave=True\n",
    "        )\n",
    "\n",
    "        for epoch in epoch_iterator:\n",
    "            \n",
    "            indices=np.random.permutation(total_num_train_samples)\n",
    "            x_shuffled_train = x_train[indices]\n",
    "            y_shuffled_train= y_true[indices]\n",
    "            \n",
    "            epoch_loss = 0\n",
    "            epoch_accuracy = 0\n",
    "            num_batches = 0\n",
    "        \n",
    "            for i in range(0, total_num_train_samples, batch_size):\n",
    "                end = min(i + batch_size, total_num_train_samples)\n",
    "                x_batch = x_shuffled_train[i:end]\n",
    "                y_batch = y_shuffled_train[i:end]\n",
    "                \n",
    "                y_pred=self.forward(x_batch)\n",
    "                self.backward_propogation(x_batch,y_batch,y_pred,learning_rate)\n",
    "                \n",
    "                loss=self.cross_entropy(y_batch,y_pred,x_batch)\n",
    "                epoch_loss=epoch_loss+loss\n",
    "                \n",
    "                accuracy=self.calculate_train_accuracy(y_batch,y_pred)\n",
    "                epoch_accuracy=epoch_accuracy+accuracy\n",
    "                \n",
    "                num_batches=num_batches+1\n",
    "                \n",
    "            y_pred_test=self.predict(x_test)\n",
    "            test_accuracy=self.calculate_test_accuracy(y_test,y_pred_test)\n",
    "            \n",
    "            if (epoch+1)%10==0:\n",
    "                print(f\"Epoch: {epoch},Loss:{epoch_loss/num_batches}\")\n",
    "                print(f\"Train Accuracy:{epoch_accuracy/num_batches},Test Accuracy:{test_accuracy}\")\n",
    "            elif epoch==0:\n",
    "                print(f\"Epoch: {epoch},Loss:{epoch_loss/num_batches}\")\n",
    "                print(f\"Train Accuracy:{epoch_accuracy/num_batches},Test Accuracy:{test_accuracy}\")\n",
    "            \n",
    "            wandb.log({\n",
    "                \"fold index\": fold_index + 1,\n",
    "                \"epoch\": epoch,\n",
    "                \"train loss\": epoch_loss/num_batches,\n",
    "                \"train_accuracy\": epoch_accuracy/num_batches,\n",
    "                \"test_accuracy\": test_accuracy\n",
    "            })"
   ]
  },
  {
   "cell_type": "code",
   "execution_count": 3,
   "metadata": {},
   "outputs": [],
   "source": [
    "np.random.seed(42)\n",
    "input_dim=1024\n",
    "hidden_dim=512\n",
    "learning_rate=0.01\n",
    "num_epochs=50\n",
    "activation='relu'\n",
    "batch_size=None"
   ]
  },
  {
   "cell_type": "code",
   "execution_count": 3,
   "metadata": {},
   "outputs": [],
   "source": [
    "folder=\"Symbols\"\n",
    "def load_data(fold_path):\n",
    "    df=pd.read_csv(fold_path)\n",
    "    images=[]\n",
    "    labels = df['symbol_id'].values.reshape(-1, 1)\n",
    "    for image_path in df['path']:\n",
    "        actual_image_path = os.path.join(*image_path.split(\"/\")[-2:])\n",
    "        image = cv2.imread(os.path.join(folder, actual_image_path), cv2.IMREAD_GRAYSCALE) #can convert to grayscale as no colours in it\n",
    "        image = cv2.resize(image, (32, 32)).flatten() / 255.0\n",
    "        images.append(image)\n",
    "    return np.array(images), labels"
   ]
  },
  {
   "cell_type": "code",
   "execution_count": 5,
   "metadata": {},
   "outputs": [
    {
     "data": {
      "text/html": [
       "Tracking run with wandb version 0.19.8"
      ],
      "text/plain": [
       "<IPython.core.display.HTML object>"
      ]
     },
     "metadata": {},
     "output_type": "display_data"
    },
    {
     "data": {
      "text/html": [
       "Run data is saved locally in <code>d:\\SMAI\\Assignments\\A2\\wandb\\run-20250311_151931-svvcvsz7</code>"
      ],
      "text/plain": [
       "<IPython.core.display.HTML object>"
      ]
     },
     "metadata": {},
     "output_type": "display_data"
    },
    {
     "data": {
      "text/html": [
       "Syncing run <strong><a href='https://wandb.ai/ketakishetye0619-iiit-hyderabad/SMAI-A2/runs/svvcvsz7' target=\"_blank\">2.1-Relu-BGD</a></strong> to <a href='https://wandb.ai/ketakishetye0619-iiit-hyderabad/SMAI-A2' target=\"_blank\">Weights & Biases</a> (<a href='https://wandb.me/developer-guide' target=\"_blank\">docs</a>)<br>"
      ],
      "text/plain": [
       "<IPython.core.display.HTML object>"
      ]
     },
     "metadata": {},
     "output_type": "display_data"
    },
    {
     "data": {
      "text/html": [
       " View project at <a href='https://wandb.ai/ketakishetye0619-iiit-hyderabad/SMAI-A2' target=\"_blank\">https://wandb.ai/ketakishetye0619-iiit-hyderabad/SMAI-A2</a>"
      ],
      "text/plain": [
       "<IPython.core.display.HTML object>"
      ]
     },
     "metadata": {},
     "output_type": "display_data"
    },
    {
     "data": {
      "text/html": [
       " View run at <a href='https://wandb.ai/ketakishetye0619-iiit-hyderabad/SMAI-A2/runs/svvcvsz7' target=\"_blank\">https://wandb.ai/ketakishetye0619-iiit-hyderabad/SMAI-A2/runs/svvcvsz7</a>"
      ],
      "text/plain": [
       "<IPython.core.display.HTML object>"
      ]
     },
     "metadata": {},
     "output_type": "display_data"
    },
    {
     "name": "stdout",
     "output_type": "stream",
     "text": [
      "Loading Data\n",
      "Initialising model\n"
     ]
    },
    {
     "name": "stderr",
     "output_type": "stream",
     "text": [
      "Fold 1/10:   2%|█                                                 | 1/50 [00:10<08:11, 10.04s/epoch]"
     ]
    },
    {
     "name": "stdout",
     "output_type": "stream",
     "text": [
      "Epoch: 0,Loss:6.742725595315644\n",
      "Train Accuracy:0.08926150977578831,Test Accuracy:0.10004708097928437\n"
     ]
    },
    {
     "name": "stderr",
     "output_type": "stream",
     "text": [
      "Fold 1/10:  20%|█████████▊                                       | 10/50 [01:24<05:32,  8.31s/epoch]"
     ]
    },
    {
     "name": "stdout",
     "output_type": "stream",
     "text": [
      "Epoch: 9,Loss:6.104334657521007\n",
      "Train Accuracy:0.6552456013911572,Test Accuracy:0.759180790960452\n"
     ]
    },
    {
     "name": "stderr",
     "output_type": "stream",
     "text": [
      "Fold 1/10:  40%|███████████████████▌                             | 20/50 [02:39<03:50,  7.68s/epoch]"
     ]
    },
    {
     "name": "stdout",
     "output_type": "stream",
     "text": [
      "Epoch: 19,Loss:5.850413013257696\n",
      "Train Accuracy:1.3468570030613392,Test Accuracy:1.3653483992467044\n"
     ]
    },
    {
     "name": "stderr",
     "output_type": "stream",
     "text": [
      "Fold 1/10:  60%|█████████████████████████████▍                   | 30/50 [03:57<02:35,  7.76s/epoch]"
     ]
    },
    {
     "name": "stdout",
     "output_type": "stream",
     "text": [
      "Epoch: 29,Loss:5.72267080574783\n",
      "Train Accuracy:2.638173511151077,Test Accuracy:2.7660075329566856\n"
     ]
    },
    {
     "name": "stderr",
     "output_type": "stream",
     "text": [
      "Fold 1/10:  80%|███████████████████████████████████████▏         | 40/50 [05:14<01:15,  7.53s/epoch]"
     ]
    },
    {
     "name": "stdout",
     "output_type": "stream",
     "text": [
      "Epoch: 39,Loss:5.640426467713706\n",
      "Train Accuracy:3.243168188520309,Test Accuracy:3.3486346516007535\n"
     ]
    },
    {
     "name": "stderr",
     "output_type": "stream",
     "text": [
      "Fold 1/10: 100%|█████████████████████████████████████████████████| 50/50 [06:29<00:00,  7.80s/epoch]"
     ]
    },
    {
     "name": "stdout",
     "output_type": "stream",
     "text": [
      "Epoch: 49,Loss:5.579073282375954\n",
      "Train Accuracy:3.6656726681257066,Test Accuracy:3.8370998116760826\n"
     ]
    },
    {
     "name": "stderr",
     "output_type": "stream",
     "text": [
      "\n"
     ]
    },
    {
     "name": "stdout",
     "output_type": "stream",
     "text": [
      "Loading Data\n",
      "Initialising model\n"
     ]
    },
    {
     "name": "stderr",
     "output_type": "stream",
     "text": [
      "Fold 2/10:   2%|█                                                 | 1/50 [00:08<07:03,  8.64s/epoch]"
     ]
    },
    {
     "name": "stdout",
     "output_type": "stream",
     "text": [
      "Epoch: 0,Loss:6.550401406527379\n",
      "Train Accuracy:0.26109142826926124,Test Accuracy:0.3245795219828858\n"
     ]
    },
    {
     "name": "stderr",
     "output_type": "stream",
     "text": [
      "Fold 2/10:  20%|█████████▊                                       | 10/50 [01:13<04:45,  7.14s/epoch]"
     ]
    },
    {
     "name": "stdout",
     "output_type": "stream",
     "text": [
      "Epoch: 9,Loss:6.031438678355263\n",
      "Train Accuracy:1.532838030775739,Test Accuracy:1.7645323104160517\n"
     ]
    },
    {
     "name": "stderr",
     "output_type": "stream",
     "text": [
      "Fold 2/10:  40%|███████████████████▌                             | 20/50 [02:27<03:42,  7.41s/epoch]"
     ]
    },
    {
     "name": "stdout",
     "output_type": "stream",
     "text": [
      "Epoch: 19,Loss:5.802985485235308\n",
      "Train Accuracy:2.819787425308022,Test Accuracy:2.838595455886692\n"
     ]
    },
    {
     "name": "stderr",
     "output_type": "stream",
     "text": [
      "Fold 2/10:  60%|█████████████████████████████▍                   | 30/50 [03:43<02:35,  7.78s/epoch]"
     ]
    },
    {
     "name": "stdout",
     "output_type": "stream",
     "text": [
      "Epoch: 29,Loss:5.681138615294427\n",
      "Train Accuracy:3.3188355983290148,Test Accuracy:3.204485098849218\n"
     ]
    },
    {
     "name": "stderr",
     "output_type": "stream",
     "text": [
      "Fold 2/10:  80%|███████████████████████████████████████▏         | 40/50 [04:59<01:14,  7.42s/epoch]"
     ]
    },
    {
     "name": "stdout",
     "output_type": "stream",
     "text": [
      "Epoch: 39,Loss:5.602538906896944\n",
      "Train Accuracy:3.6764317064142564,Test Accuracy:3.5526704042490413\n"
     ]
    },
    {
     "name": "stderr",
     "output_type": "stream",
     "text": [
      "Fold 2/10: 100%|█████████████████████████████████████████████████| 50/50 [06:12<00:00,  7.44s/epoch]"
     ]
    },
    {
     "name": "stdout",
     "output_type": "stream",
     "text": [
      "Epoch: 49,Loss:5.544845822582623\n",
      "Train Accuracy:4.06112844376289,Test Accuracy:3.97757450575391\n"
     ]
    },
    {
     "name": "stderr",
     "output_type": "stream",
     "text": [
      "\n"
     ]
    },
    {
     "name": "stdout",
     "output_type": "stream",
     "text": [
      "Loading Data\n",
      "Initialising model\n"
     ]
    },
    {
     "name": "stderr",
     "output_type": "stream",
     "text": [
      "Fold 3/10:   2%|█                                                 | 1/50 [00:08<06:35,  8.07s/epoch]"
     ]
    },
    {
     "name": "stdout",
     "output_type": "stream",
     "text": [
      "Epoch: 0,Loss:6.556365432451235\n",
      "Train Accuracy:0.5108379592915675,Test Accuracy:0.4375332584402531\n"
     ]
    },
    {
     "name": "stderr",
     "output_type": "stream",
     "text": [
      "Fold 3/10:  20%|█████████▊                                       | 10/50 [01:18<05:14,  7.87s/epoch]"
     ]
    },
    {
     "name": "stdout",
     "output_type": "stream",
     "text": [
      "Epoch: 9,Loss:6.037644762977713\n",
      "Train Accuracy:0.6350779804388051,Test Accuracy:0.6149116064565718\n"
     ]
    },
    {
     "name": "stderr",
     "output_type": "stream",
     "text": [
      "Fold 3/10:  40%|███████████████████▌                             | 20/50 [02:36<04:00,  8.03s/epoch]"
     ]
    },
    {
     "name": "stdout",
     "output_type": "stream",
     "text": [
      "Epoch: 19,Loss:5.809724309710235\n",
      "Train Accuracy:1.5807560137457044,Test Accuracy:1.5964051321468693\n"
     ]
    },
    {
     "name": "stderr",
     "output_type": "stream",
     "text": [
      "Fold 3/10:  60%|█████████████████████████████▍                   | 30/50 [03:50<02:25,  7.30s/epoch]"
     ]
    },
    {
     "name": "stdout",
     "output_type": "stream",
     "text": [
      "Epoch: 29,Loss:5.688931296050418\n",
      "Train Accuracy:2.4900872323552736,Test Accuracy:2.430083367823568\n"
     ]
    },
    {
     "name": "stderr",
     "output_type": "stream",
     "text": [
      "Fold 3/10:  80%|███████████████████████████████████████▏         | 40/50 [05:02<01:12,  7.24s/epoch]"
     ]
    },
    {
     "name": "stdout",
     "output_type": "stream",
     "text": [
      "Epoch: 39,Loss:5.609621251701886\n",
      "Train Accuracy:3.197858842188739,Test Accuracy:3.1277715366877548\n"
     ]
    },
    {
     "name": "stderr",
     "output_type": "stream",
     "text": [
      "Fold 3/10: 100%|█████████████████████████████████████████████████| 50/50 [06:14<00:00,  7.49s/epoch]"
     ]
    },
    {
     "name": "stdout",
     "output_type": "stream",
     "text": [
      "Epoch: 49,Loss:5.549455994926608\n",
      "Train Accuracy:3.844171292624901,Test Accuracy:3.7663335895465027\n"
     ]
    },
    {
     "name": "stderr",
     "output_type": "stream",
     "text": [
      "\n"
     ]
    },
    {
     "name": "stdout",
     "output_type": "stream",
     "text": [
      "Loading Data\n",
      "Initialising model\n"
     ]
    },
    {
     "name": "stderr",
     "output_type": "stream",
     "text": [
      "Fold 4/10:   2%|█                                                 | 1/50 [00:08<06:33,  8.03s/epoch]"
     ]
    },
    {
     "name": "stdout",
     "output_type": "stream",
     "text": [
      "Epoch: 0,Loss:6.746135848787511\n",
      "Train Accuracy:0.13411910833916937,Test Accuracy:0.14814814814814814\n"
     ]
    },
    {
     "name": "stderr",
     "output_type": "stream",
     "text": [
      "Fold 4/10:  20%|█████████▊                                       | 10/50 [01:14<04:56,  7.41s/epoch]"
     ]
    },
    {
     "name": "stdout",
     "output_type": "stream",
     "text": [
      "Epoch: 9,Loss:6.11923645164549\n",
      "Train Accuracy:0.8734259173614873,Test Accuracy:0.9837037037037036\n"
     ]
    },
    {
     "name": "stderr",
     "output_type": "stream",
     "text": [
      "Fold 4/10:  40%|███████████████████▌                             | 20/50 [02:27<03:36,  7.20s/epoch]"
     ]
    },
    {
     "name": "stdout",
     "output_type": "stream",
     "text": [
      "Epoch: 19,Loss:5.86681737496296\n",
      "Train Accuracy:1.5856446306108698,Test Accuracy:1.605925925925926\n"
     ]
    },
    {
     "name": "stderr",
     "output_type": "stream",
     "text": [
      "Fold 4/10:  60%|█████████████████████████████▍                   | 30/50 [03:40<02:32,  7.64s/epoch]"
     ]
    },
    {
     "name": "stdout",
     "output_type": "stream",
     "text": [
      "Epoch: 29,Loss:5.7302059271603305\n",
      "Train Accuracy:2.477569735329484,Test Accuracy:2.482962962962963\n"
     ]
    },
    {
     "name": "stderr",
     "output_type": "stream",
     "text": [
      "Fold 4/10:  80%|███████████████████████████████████████▏         | 40/50 [04:55<01:16,  7.62s/epoch]"
     ]
    },
    {
     "name": "stdout",
     "output_type": "stream",
     "text": [
      "Epoch: 39,Loss:5.638649145562706\n",
      "Train Accuracy:3.286248496941027,Test Accuracy:3.3066666666666666\n"
     ]
    },
    {
     "name": "stderr",
     "output_type": "stream",
     "text": [
      "Fold 4/10: 100%|█████████████████████████████████████████████████| 50/50 [06:11<00:00,  7.42s/epoch]"
     ]
    },
    {
     "name": "stdout",
     "output_type": "stream",
     "text": [
      "Epoch: 49,Loss:5.569826020687193\n",
      "Train Accuracy:4.015645027022027,Test Accuracy:4.071111111111112\n"
     ]
    },
    {
     "name": "stderr",
     "output_type": "stream",
     "text": [
      "\n"
     ]
    },
    {
     "name": "stdout",
     "output_type": "stream",
     "text": [
      "Loading Data\n",
      "Initialising model\n"
     ]
    },
    {
     "name": "stderr",
     "output_type": "stream",
     "text": [
      "Fold 5/10:   2%|█                                                 | 1/50 [00:08<07:12,  8.83s/epoch]"
     ]
    },
    {
     "name": "stdout",
     "output_type": "stream",
     "text": [
      "Epoch: 0,Loss:6.770860714110531\n",
      "Train Accuracy:0.38244327751907264,Test Accuracy:0.4691768618600784\n"
     ]
    },
    {
     "name": "stderr",
     "output_type": "stream",
     "text": [
      "Fold 5/10:  20%|█████████▊                                       | 10/50 [01:21<05:25,  8.15s/epoch]"
     ]
    },
    {
     "name": "stdout",
     "output_type": "stream",
     "text": [
      "Epoch: 9,Loss:6.075560156445209\n",
      "Train Accuracy:0.8831203144093266,Test Accuracy:1.0214989903789047\n"
     ]
    },
    {
     "name": "stderr",
     "output_type": "stream",
     "text": [
      "Fold 5/10:  40%|███████████████████▌                             | 20/50 [02:38<03:44,  7.49s/epoch]"
     ]
    },
    {
     "name": "stdout",
     "output_type": "stream",
     "text": [
      "Epoch: 19,Loss:5.822652641482415\n",
      "Train Accuracy:2.1883153340599097,Test Accuracy:2.0845706140871836\n"
     ]
    },
    {
     "name": "stderr",
     "output_type": "stream",
     "text": [
      "Fold 5/10:  60%|█████████████████████████████▍                   | 30/50 [03:49<02:22,  7.11s/epoch]"
     ]
    },
    {
     "name": "stdout",
     "output_type": "stream",
     "text": [
      "Epoch: 29,Loss:5.699975940671835\n",
      "Train Accuracy:2.7695762739852703,Test Accuracy:2.6784653759353843\n"
     ]
    },
    {
     "name": "stderr",
     "output_type": "stream",
     "text": [
      "Fold 5/10:  80%|███████████████████████████████████████▏         | 40/50 [05:00<01:11,  7.17s/epoch]"
     ]
    },
    {
     "name": "stdout",
     "output_type": "stream",
     "text": [
      "Epoch: 39,Loss:5.619078947712587\n",
      "Train Accuracy:3.2629875491264575,Test Accuracy:3.242665399691175\n"
     ]
    },
    {
     "name": "stderr",
     "output_type": "stream",
     "text": [
      "Fold 5/10: 100%|█████████████████████████████████████████████████| 50/50 [06:10<00:00,  7.42s/epoch]"
     ]
    },
    {
     "name": "stdout",
     "output_type": "stream",
     "text": [
      "Epoch: 49,Loss:5.5569692072873975\n",
      "Train Accuracy:3.7980118233759375,Test Accuracy:3.729659104406699\n"
     ]
    },
    {
     "name": "stderr",
     "output_type": "stream",
     "text": [
      "\n"
     ]
    },
    {
     "name": "stdout",
     "output_type": "stream",
     "text": [
      "Loading Data\n",
      "Initialising model\n"
     ]
    },
    {
     "name": "stderr",
     "output_type": "stream",
     "text": [
      "Fold 6/10:   2%|█                                                 | 1/50 [00:07<06:23,  7.83s/epoch]"
     ]
    },
    {
     "name": "stdout",
     "output_type": "stream",
     "text": [
      "Epoch: 0,Loss:6.5289746327723694\n",
      "Train Accuracy:0.318973999986792,Test Accuracy:0.3509815585960738\n"
     ]
    },
    {
     "name": "stderr",
     "output_type": "stream",
     "text": [
      "Fold 6/10:  20%|█████████▊                                       | 10/50 [01:12<04:48,  7.21s/epoch]"
     ]
    },
    {
     "name": "stdout",
     "output_type": "stream",
     "text": [
      "Epoch: 9,Loss:6.037269184969395\n",
      "Train Accuracy:1.214478645912444,Test Accuracy:1.3622843545508625\n"
     ]
    },
    {
     "name": "stderr",
     "output_type": "stream",
     "text": [
      "Fold 6/10:  40%|███████████████████▌                             | 20/50 [02:23<03:30,  7.01s/epoch]"
     ]
    },
    {
     "name": "stdout",
     "output_type": "stream",
     "text": [
      "Epoch: 19,Loss:5.825372048309719\n",
      "Train Accuracy:2.9077484926332198,Test Accuracy:2.8970850684116596\n"
     ]
    },
    {
     "name": "stderr",
     "output_type": "stream",
     "text": [
      "Fold 6/10:  60%|█████████████████████████████▍                   | 30/50 [03:33<02:18,  6.94s/epoch]"
     ]
    },
    {
     "name": "stdout",
     "output_type": "stream",
     "text": [
      "Epoch: 29,Loss:5.710576583895696\n",
      "Train Accuracy:3.6896640536774465,Test Accuracy:3.6406900654372394\n"
     ]
    },
    {
     "name": "stderr",
     "output_type": "stream",
     "text": [
      "Fold 6/10:  80%|███████████████████████████████████████▏         | 40/50 [04:42<01:08,  6.86s/epoch]"
     ]
    },
    {
     "name": "stdout",
     "output_type": "stream",
     "text": [
      "Epoch: 39,Loss:5.6340418765225975\n",
      "Train Accuracy:4.067413801073813,Test Accuracy:4.045211183819155\n"
     ]
    },
    {
     "name": "stderr",
     "output_type": "stream",
     "text": [
      "Fold 6/10: 100%|█████████████████████████████████████████████████| 50/50 [05:50<00:00,  7.02s/epoch]"
     ]
    },
    {
     "name": "stdout",
     "output_type": "stream",
     "text": [
      "Epoch: 49,Loss:5.575669574674175\n",
      "Train Accuracy:4.381104587810306,Test Accuracy:4.396192742415229\n"
     ]
    },
    {
     "name": "stderr",
     "output_type": "stream",
     "text": [
      "\n"
     ]
    },
    {
     "name": "stdout",
     "output_type": "stream",
     "text": [
      "Loading Data\n",
      "Initialising model\n"
     ]
    },
    {
     "name": "stderr",
     "output_type": "stream",
     "text": [
      "Fold 7/10:   2%|█                                                 | 1/50 [00:07<06:23,  7.82s/epoch]"
     ]
    },
    {
     "name": "stdout",
     "output_type": "stream",
     "text": [
      "Epoch: 0,Loss:6.626320347206867\n",
      "Train Accuracy:0.14921037342206728,Test Accuracy:0.2027550837855567\n"
     ]
    },
    {
     "name": "stderr",
     "output_type": "stream",
     "text": [
      "Fold 7/10:  20%|█████████▊                                       | 10/50 [01:11<04:41,  7.03s/epoch]"
     ]
    },
    {
     "name": "stdout",
     "output_type": "stream",
     "text": [
      "Epoch: 9,Loss:6.031479807123182\n",
      "Train Accuracy:0.912428035704854,Test Accuracy:1.025702188562228\n"
     ]
    },
    {
     "name": "stderr",
     "output_type": "stream",
     "text": [
      "Fold 7/10:  40%|███████████████████▌                             | 20/50 [02:20<03:27,  6.92s/epoch]"
     ]
    },
    {
     "name": "stdout",
     "output_type": "stream",
     "text": [
      "Epoch: 19,Loss:5.791137800850553\n",
      "Train Accuracy:2.80000528178313,Test Accuracy:2.820681018546127\n"
     ]
    },
    {
     "name": "stderr",
     "output_type": "stream",
     "text": [
      "Fold 7/10:  60%|█████████████████████████████▍                   | 30/50 [03:29<02:18,  6.90s/epoch]"
     ]
    },
    {
     "name": "stdout",
     "output_type": "stream",
     "text": [
      "Epoch: 29,Loss:5.670967473423955\n",
      "Train Accuracy:3.2370728357893626,Test Accuracy:3.256008110203351\n"
     ]
    },
    {
     "name": "stderr",
     "output_type": "stream",
     "text": [
      "Fold 7/10:  80%|███████████████████████████████████████▏         | 40/50 [04:39<01:10,  7.05s/epoch]"
     ]
    },
    {
     "name": "stdout",
     "output_type": "stream",
     "text": [
      "Epoch: 39,Loss:5.592961696713404\n",
      "Train Accuracy:3.5282311308297682,Test Accuracy:3.566104120698909\n"
     ]
    },
    {
     "name": "stderr",
     "output_type": "stream",
     "text": [
      "Fold 7/10: 100%|█████████████████████████████████████████████████| 50/50 [05:49<00:00,  7.00s/epoch]"
     ]
    },
    {
     "name": "stdout",
     "output_type": "stream",
     "text": [
      "Epoch: 49,Loss:5.535563671342666\n",
      "Train Accuracy:3.8999366186024407,Test Accuracy:3.8762001311944663\n"
     ]
    },
    {
     "name": "stderr",
     "output_type": "stream",
     "text": [
      "\n"
     ]
    },
    {
     "name": "stdout",
     "output_type": "stream",
     "text": [
      "Loading Data\n",
      "Initialising model\n"
     ]
    },
    {
     "name": "stderr",
     "output_type": "stream",
     "text": [
      "Fold 8/10:   2%|█                                                 | 1/50 [00:07<06:12,  7.60s/epoch]"
     ]
    },
    {
     "name": "stdout",
     "output_type": "stream",
     "text": [
      "Epoch: 0,Loss:6.733245908627203\n",
      "Train Accuracy:0.08844826106758372,Test Accuracy:0.12550800860626343\n"
     ]
    },
    {
     "name": "stderr",
     "output_type": "stream",
     "text": [
      "Fold 8/10:  20%|█████████▊                                       | 10/50 [01:13<04:50,  7.26s/epoch]"
     ]
    },
    {
     "name": "stdout",
     "output_type": "stream",
     "text": [
      "Epoch: 9,Loss:6.026564395127004\n",
      "Train Accuracy:0.6805235609005881,Test Accuracy:0.6454697585464977\n"
     ]
    },
    {
     "name": "stderr",
     "output_type": "stream",
     "text": [
      "Fold 8/10:  40%|███████████████████▌                             | 20/50 [02:24<03:31,  7.04s/epoch]"
     ]
    },
    {
     "name": "stdout",
     "output_type": "stream",
     "text": [
      "Epoch: 19,Loss:5.795623859796651\n",
      "Train Accuracy:1.734642015564254,Test Accuracy:1.8049246951948361\n"
     ]
    },
    {
     "name": "stderr",
     "output_type": "stream",
     "text": [
      "Fold 8/10:  60%|█████████████████████████████▍                   | 30/50 [03:34<02:20,  7.04s/epoch]"
     ]
    },
    {
     "name": "stdout",
     "output_type": "stream",
     "text": [
      "Epoch: 29,Loss:5.6783027883819575\n",
      "Train Accuracy:2.490412604537264,Test Accuracy:2.4085584508725795\n"
     ]
    },
    {
     "name": "stderr",
     "output_type": "stream",
     "text": [
      "Fold 8/10:  80%|███████████████████████████████████████▏         | 40/50 [04:45<01:12,  7.26s/epoch]"
     ]
    },
    {
     "name": "stdout",
     "output_type": "stream",
     "text": [
      "Epoch: 39,Loss:5.601116055519922\n",
      "Train Accuracy:2.996679889901717,Test Accuracy:2.9643796318431748\n"
     ]
    },
    {
     "name": "stderr",
     "output_type": "stream",
     "text": [
      "Fold 8/10: 100%|█████████████████████████████████████████████████| 50/50 [05:57<00:00,  7.15s/epoch]"
     ]
    },
    {
     "name": "stdout",
     "output_type": "stream",
     "text": [
      "Epoch: 49,Loss:5.543161925365647\n",
      "Train Accuracy:3.500306928667137,Test Accuracy:3.484341381783409\n"
     ]
    },
    {
     "name": "stderr",
     "output_type": "stream",
     "text": [
      "\n"
     ]
    },
    {
     "name": "stdout",
     "output_type": "stream",
     "text": [
      "Loading Data\n",
      "Initialising model\n"
     ]
    },
    {
     "name": "stderr",
     "output_type": "stream",
     "text": [
      "Fold 9/10:   2%|█                                                 | 1/50 [00:07<06:16,  7.68s/epoch]"
     ]
    },
    {
     "name": "stdout",
     "output_type": "stream",
     "text": [
      "Epoch: 0,Loss:6.683991120406834\n",
      "Train Accuracy:0.13594219157290394,Test Accuracy:0.28147083483051866\n"
     ]
    },
    {
     "name": "stderr",
     "output_type": "stream",
     "text": [
      "Fold 9/10:  20%|█████████▊                                       | 10/50 [01:10<04:37,  6.95s/epoch]"
     ]
    },
    {
     "name": "stdout",
     "output_type": "stream",
     "text": [
      "Epoch: 9,Loss:6.095697218122899\n",
      "Train Accuracy:0.4909756821856337,Test Accuracy:0.49706551682836264\n"
     ]
    },
    {
     "name": "stderr",
     "output_type": "stream",
     "text": [
      "Fold 9/10:  40%|███████████████████▌                             | 20/50 [02:19<03:25,  6.86s/epoch]"
     ]
    },
    {
     "name": "stdout",
     "output_type": "stream",
     "text": [
      "Epoch: 19,Loss:5.837777456394652\n",
      "Train Accuracy:1.8028838222192896,Test Accuracy:1.9223859144807762\n"
     ]
    },
    {
     "name": "stderr",
     "output_type": "stream",
     "text": [
      "Fold 9/10:  60%|█████████████████████████████▍                   | 30/50 [03:28<02:17,  6.89s/epoch]"
     ]
    },
    {
     "name": "stdout",
     "output_type": "stream",
     "text": [
      "Epoch: 29,Loss:5.702629896398918\n",
      "Train Accuracy:3.5015013033292637,Test Accuracy:3.5872559587974604\n"
     ]
    },
    {
     "name": "stderr",
     "output_type": "stream",
     "text": [
      "Fold 9/10:  80%|███████████████████████████████████████▏         | 40/50 [04:36<01:08,  6.82s/epoch]"
     ]
    },
    {
     "name": "stdout",
     "output_type": "stream",
     "text": [
      "Epoch: 39,Loss:5.615653681112996\n",
      "Train Accuracy:4.278219553238525,Test Accuracy:4.311893639956881\n"
     ]
    },
    {
     "name": "stderr",
     "output_type": "stream",
     "text": [
      "Fold 9/10: 100%|█████████████████████████████████████████████████| 50/50 [05:45<00:00,  6.90s/epoch]"
     ]
    },
    {
     "name": "stdout",
     "output_type": "stream",
     "text": [
      "Epoch: 49,Loss:5.552013587339547\n",
      "Train Accuracy:4.8563038241990295,Test Accuracy:4.940711462450593\n"
     ]
    },
    {
     "name": "stderr",
     "output_type": "stream",
     "text": [
      "\n"
     ]
    },
    {
     "name": "stdout",
     "output_type": "stream",
     "text": [
      "Loading Data\n",
      "Initialising model\n"
     ]
    },
    {
     "name": "stderr",
     "output_type": "stream",
     "text": [
      "Fold 10/10:   2%|▉                                                | 1/50 [00:07<06:30,  7.98s/epoch]"
     ]
    },
    {
     "name": "stdout",
     "output_type": "stream",
     "text": [
      "Epoch: 0,Loss:6.956335466778957\n",
      "Train Accuracy:0.19396722349774365,Test Accuracy:0.15605305803973352\n"
     ]
    },
    {
     "name": "stderr",
     "output_type": "stream",
     "text": [
      "Fold 10/10:  20%|█████████▌                                      | 10/50 [01:10<04:40,  7.00s/epoch]"
     ]
    },
    {
     "name": "stdout",
     "output_type": "stream",
     "text": [
      "Epoch: 9,Loss:6.113073234993068\n",
      "Train Accuracy:0.5152666719446863,Test Accuracy:0.8282816157493548\n"
     ]
    },
    {
     "name": "stderr",
     "output_type": "stream",
     "text": [
      "Fold 10/10:  40%|███████████████████▏                            | 20/50 [02:25<03:41,  7.38s/epoch]"
     ]
    },
    {
     "name": "stdout",
     "output_type": "stream",
     "text": [
      "Epoch: 19,Loss:5.821252383960896\n",
      "Train Accuracy:2.248436386667722,Test Accuracy:2.4668387251665567\n"
     ]
    },
    {
     "name": "stderr",
     "output_type": "stream",
     "text": [
      "Fold 10/10:  60%|████████████████████████████▊                   | 30/50 [03:36<02:28,  7.42s/epoch]"
     ]
    },
    {
     "name": "stdout",
     "output_type": "stream",
     "text": [
      "Epoch: 29,Loss:5.680896529651136\n",
      "Train Accuracy:2.748528752012245,Test Accuracy:2.9770121841426085\n"
     ]
    },
    {
     "name": "stderr",
     "output_type": "stream",
     "text": [
      "Fold 10/10:  80%|██████████████████████████████████████▍         | 40/50 [04:51<01:14,  7.46s/epoch]"
     ]
    },
    {
     "name": "stdout",
     "output_type": "stream",
     "text": [
      "Epoch: 39,Loss:5.5951017189344645\n",
      "Train Accuracy:3.19650067294751,Test Accuracy:3.3371346257727628\n"
     ]
    },
    {
     "name": "stderr",
     "output_type": "stream",
     "text": [
      "Fold 10/10: 100%|████████████████████████████████████████████████| 50/50 [06:07<00:00,  7.36s/epoch]"
     ]
    },
    {
     "name": "stdout",
     "output_type": "stream",
     "text": [
      "Epoch: 49,Loss:5.533541056405469\n",
      "Train Accuracy:3.591032644551764,Test Accuracy:3.685252986015245\n"
     ]
    },
    {
     "name": "stderr",
     "output_type": "stream",
     "text": [
      "\n"
     ]
    },
    {
     "name": "stdout",
     "output_type": "stream",
     "text": [
      "Mean test accuracy:3.9764476826353246 ,Standard deviation:0.3970435598950846\n"
     ]
    },
    {
     "data": {
      "text/html": [],
      "text/plain": [
       "<IPython.core.display.HTML object>"
      ]
     },
     "metadata": {},
     "output_type": "display_data"
    },
    {
     "data": {
      "text/html": [
       "<br>    <style><br>        .wandb-row {<br>            display: flex;<br>            flex-direction: row;<br>            flex-wrap: wrap;<br>            justify-content: flex-start;<br>            width: 100%;<br>        }<br>        .wandb-col {<br>            display: flex;<br>            flex-direction: column;<br>            flex-basis: 100%;<br>            flex: 1;<br>            padding: 10px;<br>        }<br>    </style><br><div class=\"wandb-row\"><div class=\"wandb-col\"><h3>Run history:</h3><br/><table class=\"wandb\"><tr><td>epoch</td><td>▂▄▆█▁▂▇▂▃▃▅▅▇▁█▄▅▅▆█▃▄▅▆▇▅▅▇▇█▂▃▅▆█▁▄▅▇█</td></tr><tr><td>fold index</td><td>▁▁▁▁▂▂▂▂▃▃▃▃▃▃▃▃▄▄▄▄▅▅▆▆▆▆▆▆▆▆▆▇▇▇▇█████</td></tr><tr><td>test_accuracy</td><td>▂▃▃▄▆▇▇▇▁▁▇▁▃▃▅▄▄█▂▂▆▇▄▇█▆▇▇▃▅▆██▁▂▆▆▆▆▇</td></tr><tr><td>train loss</td><td>▃▃▂▇▃▇▆▃▃▁▆▅▄▃▂▂▁▃▂▂▄▂▂▇▆▃▃▁▁▄▂▂▁▁█▅▄▂▇▁</td></tr><tr><td>train_accuracy</td><td>▁▁▁▆▇▇▂▅▅▆▇█▂▂▅▂▃▃▅▂▆▇▆▇█▂▆▆▂▃▄▄▅▇▂▄█▅▅▇</td></tr></table><br/></div><div class=\"wandb-col\"><h3>Run summary:</h3><br/><table class=\"wandb\"><tr><td>epoch</td><td>49</td></tr><tr><td>fold index</td><td>10</td></tr><tr><td>test_accuracy</td><td>3.68525</td></tr><tr><td>train loss</td><td>5.53354</td></tr><tr><td>train_accuracy</td><td>3.59103</td></tr></table><br/></div></div>"
      ],
      "text/plain": [
       "<IPython.core.display.HTML object>"
      ]
     },
     "metadata": {},
     "output_type": "display_data"
    },
    {
     "data": {
      "text/html": [
       " View run <strong style=\"color:#cdcd00\">2.1-Relu-BGD</strong> at: <a href='https://wandb.ai/ketakishetye0619-iiit-hyderabad/SMAI-A2/runs/svvcvsz7' target=\"_blank\">https://wandb.ai/ketakishetye0619-iiit-hyderabad/SMAI-A2/runs/svvcvsz7</a><br> View project at: <a href='https://wandb.ai/ketakishetye0619-iiit-hyderabad/SMAI-A2' target=\"_blank\">https://wandb.ai/ketakishetye0619-iiit-hyderabad/SMAI-A2</a><br>Synced 5 W&B file(s), 0 media file(s), 0 artifact file(s) and 0 other file(s)"
      ],
      "text/plain": [
       "<IPython.core.display.HTML object>"
      ]
     },
     "metadata": {},
     "output_type": "display_data"
    },
    {
     "data": {
      "text/html": [
       "Find logs at: <code>.\\wandb\\run-20250311_151931-svvcvsz7\\logs</code>"
      ],
      "text/plain": [
       "<IPython.core.display.HTML object>"
      ]
     },
     "metadata": {},
     "output_type": "display_data"
    }
   ],
   "source": [
    "wandb.init(project=\"SMAI-A2\", name=\"2.1-Relu-BGD\")\n",
    "\n",
    "fold_dirs = [f'Symbols/classification-task/fold-{i}' for i in range(1, 11)]\n",
    "\n",
    "test_accuracies=[]\n",
    "for fold_index,fold in enumerate(fold_dirs):\n",
    "    print(\"Loading Data\")\n",
    "    train_path = os.path.join(fold, 'train.csv')\n",
    "    test_path = os.path.join(fold, 'test.csv')\n",
    "    x_train,y_train=load_data(train_path)\n",
    "    x_test,y_test=load_data(test_path)\n",
    "    \n",
    "    encoder = OneHotEncoder(sparse_output=False)\n",
    "    y_train = encoder.fit_transform(y_train)\n",
    "    encoder = OneHotEncoder(sparse_output=False)\n",
    "    y_test = encoder.fit_transform(y_test)\n",
    "    \n",
    "    output_dim=y_train.shape[1]\n",
    "    \n",
    "    print(\"Initialising model\")\n",
    "    model = MLP(input_dim, hidden_dim, output_dim,activation)   \n",
    "    model.train(x_train,y_train,num_epochs,learning_rate,x_test,y_test,fold_index,batch_size)\n",
    "    y_pred_test=model.predict(x_test)\n",
    "    test_accuracy=model.calculate_test_accuracy(y_test,y_pred_test)\n",
    "    test_accuracies.append(test_accuracy)\n",
    "    \n",
    "print(f\"Mean test accuracy:{np.mean(test_accuracies)} ,Standard deviation:{np.std(test_accuracies)}\")\n",
    "wandb.finish()"
   ]
  },
  {
   "cell_type": "code",
   "execution_count": 4,
   "metadata": {},
   "outputs": [],
   "source": [
    "np.random.seed(42)\n",
    "input_dim=1024\n",
    "hidden_dim=512\n",
    "learning_rate=0.01\n",
    "num_epochs=5\n",
    "activation='relu'\n",
    "batch_size=1"
   ]
  },
  {
   "cell_type": "code",
   "execution_count": 5,
   "metadata": {},
   "outputs": [
    {
     "data": {
      "text/html": [
       "Tracking run with wandb version 0.19.8"
      ],
      "text/plain": [
       "<IPython.core.display.HTML object>"
      ]
     },
     "metadata": {},
     "output_type": "display_data"
    },
    {
     "data": {
      "text/html": [
       "Run data is saved locally in <code>d:\\SMAI\\Assignments\\A2\\wandb\\run-20250314_022014-wpoiv1hx</code>"
      ],
      "text/plain": [
       "<IPython.core.display.HTML object>"
      ]
     },
     "metadata": {},
     "output_type": "display_data"
    },
    {
     "data": {
      "text/html": [
       "Syncing run <strong><a href='https://wandb.ai/ketakishetye0619-iiit-hyderabad/SMAI-A2/runs/wpoiv1hx' target=\"_blank\">2.1-Relu-SGD</a></strong> to <a href='https://wandb.ai/ketakishetye0619-iiit-hyderabad/SMAI-A2' target=\"_blank\">Weights & Biases</a> (<a href='https://wandb.me/developer-guide' target=\"_blank\">docs</a>)<br>"
      ],
      "text/plain": [
       "<IPython.core.display.HTML object>"
      ]
     },
     "metadata": {},
     "output_type": "display_data"
    },
    {
     "data": {
      "text/html": [
       " View project at <a href='https://wandb.ai/ketakishetye0619-iiit-hyderabad/SMAI-A2' target=\"_blank\">https://wandb.ai/ketakishetye0619-iiit-hyderabad/SMAI-A2</a>"
      ],
      "text/plain": [
       "<IPython.core.display.HTML object>"
      ]
     },
     "metadata": {},
     "output_type": "display_data"
    },
    {
     "data": {
      "text/html": [
       " View run at <a href='https://wandb.ai/ketakishetye0619-iiit-hyderabad/SMAI-A2/runs/wpoiv1hx' target=\"_blank\">https://wandb.ai/ketakishetye0619-iiit-hyderabad/SMAI-A2/runs/wpoiv1hx</a>"
      ],
      "text/plain": [
       "<IPython.core.display.HTML object>"
      ]
     },
     "metadata": {},
     "output_type": "display_data"
    },
    {
     "name": "stdout",
     "output_type": "stream",
     "text": [
      "Loading Data\n",
      "Initialising model\n"
     ]
    },
    {
     "name": "stderr",
     "output_type": "stream",
     "text": [
      "Fold 1/10:  20%|██████████                                        | 1/5 [06:58<27:54, 418.58s/epoch]"
     ]
    },
    {
     "name": "stdout",
     "output_type": "stream",
     "text": [
      "Epoch: 0,Loss:3.186585573834487\n",
      "Train Accuracy:32.505735878498555,Test Accuracy:38.70645009416196\n"
     ]
    },
    {
     "name": "stderr",
     "output_type": "stream",
     "text": [
      "Fold 1/10: 100%|██████████████████████████████████████████████████| 5/5 [36:59<00:00, 443.89s/epoch]\n"
     ]
    },
    {
     "name": "stdout",
     "output_type": "stream",
     "text": [
      "Loading Data\n",
      "Initialising model\n"
     ]
    },
    {
     "name": "stderr",
     "output_type": "stream",
     "text": [
      "Fold 2/10:  20%|██████████                                        | 1/5 [08:26<33:44, 506.03s/epoch]"
     ]
    },
    {
     "name": "stdout",
     "output_type": "stream",
     "text": [
      "Epoch: 0,Loss:3.2503062948547634\n",
      "Train Accuracy:31.512082914705726,Test Accuracy:38.27087636470935\n"
     ]
    },
    {
     "name": "stderr",
     "output_type": "stream",
     "text": [
      "Fold 2/10: 100%|██████████████████████████████████████████████████| 5/5 [38:21<00:00, 460.38s/epoch]\n"
     ]
    },
    {
     "name": "stdout",
     "output_type": "stream",
     "text": [
      "Loading Data\n",
      "Initialising model\n"
     ]
    },
    {
     "name": "stderr",
     "output_type": "stream",
     "text": [
      "Fold 3/10:  20%|██████████                                        | 1/5 [07:27<29:49, 447.37s/epoch]"
     ]
    },
    {
     "name": "stdout",
     "output_type": "stream",
     "text": [
      "Epoch: 0,Loss:3.255120947313419\n",
      "Train Accuracy:31.034232090933124,Test Accuracy:37.74611245787264\n"
     ]
    },
    {
     "name": "stderr",
     "output_type": "stream",
     "text": [
      "Fold 3/10: 100%|██████████████████████████████████████████████████| 5/5 [36:56<00:00, 443.21s/epoch]\n"
     ]
    },
    {
     "name": "stdout",
     "output_type": "stream",
     "text": [
      "Loading Data\n",
      "Initialising model\n"
     ]
    },
    {
     "name": "stderr",
     "output_type": "stream",
     "text": [
      "Fold 4/10:  20%|██████████                                        | 1/5 [07:29<29:57, 449.49s/epoch]"
     ]
    },
    {
     "name": "stdout",
     "output_type": "stream",
     "text": [
      "Epoch: 0,Loss:3.224419239954825\n",
      "Train Accuracy:32.02737879728855,Test Accuracy:40.04148148148148\n"
     ]
    },
    {
     "name": "stderr",
     "output_type": "stream",
     "text": [
      "Fold 4/10: 100%|██████████████████████████████████████████████████| 5/5 [37:00<00:00, 444.01s/epoch]\n"
     ]
    },
    {
     "name": "stdout",
     "output_type": "stream",
     "text": [
      "Loading Data\n",
      "Initialising model\n"
     ]
    },
    {
     "name": "stderr",
     "output_type": "stream",
     "text": [
      "Fold 5/10:  20%|██████████                                        | 1/5 [07:35<30:23, 455.94s/epoch]"
     ]
    },
    {
     "name": "stdout",
     "output_type": "stream",
     "text": [
      "Epoch: 0,Loss:3.251316265240449\n",
      "Train Accuracy:31.37488028006209,Test Accuracy:36.60767312032308\n"
     ]
    },
    {
     "name": "stderr",
     "output_type": "stream",
     "text": [
      "Fold 5/10: 100%|██████████████████████████████████████████████████| 5/5 [37:04<00:00, 444.85s/epoch]\n"
     ]
    },
    {
     "name": "stdout",
     "output_type": "stream",
     "text": [
      "Loading Data\n",
      "Initialising model\n"
     ]
    },
    {
     "name": "stderr",
     "output_type": "stream",
     "text": [
      "Fold 6/10:  20%|██████████                                        | 1/5 [07:53<31:34, 473.58s/epoch]"
     ]
    },
    {
     "name": "stdout",
     "output_type": "stream",
     "text": [
      "Epoch: 0,Loss:3.1903664978655706\n",
      "Train Accuracy:32.631106238814446,Test Accuracy:35.37775133848899\n"
     ]
    },
    {
     "name": "stderr",
     "output_type": "stream",
     "text": [
      "Fold 6/10: 100%|██████████████████████████████████████████████████| 5/5 [37:26<00:00, 449.34s/epoch]\n"
     ]
    },
    {
     "name": "stdout",
     "output_type": "stream",
     "text": [
      "Loading Data\n",
      "Initialising model\n"
     ]
    },
    {
     "name": "stderr",
     "output_type": "stream",
     "text": [
      "Fold 7/10:  20%|██████████                                        | 1/5 [07:32<30:09, 452.27s/epoch]"
     ]
    },
    {
     "name": "stdout",
     "output_type": "stream",
     "text": [
      "Epoch: 0,Loss:3.2953466795012694\n",
      "Train Accuracy:30.36959277452068,Test Accuracy:29.894448088735164\n"
     ]
    },
    {
     "name": "stderr",
     "output_type": "stream",
     "text": [
      "Fold 7/10: 100%|██████████████████████████████████████████████████| 5/5 [37:26<00:00, 449.23s/epoch]\n"
     ]
    },
    {
     "name": "stdout",
     "output_type": "stream",
     "text": [
      "Loading Data\n",
      "Initialising model\n"
     ]
    },
    {
     "name": "stderr",
     "output_type": "stream",
     "text": [
      "Fold 8/10:  20%|██████████                                        | 1/5 [07:27<29:49, 447.33s/epoch]"
     ]
    },
    {
     "name": "stdout",
     "output_type": "stream",
     "text": [
      "Epoch: 0,Loss:3.2354223152764545\n",
      "Train Accuracy:31.4750397687144,Test Accuracy:38.75209180014344\n"
     ]
    },
    {
     "name": "stderr",
     "output_type": "stream",
     "text": [
      "Fold 8/10: 100%|██████████████████████████████████████████████████| 5/5 [36:53<00:00, 442.76s/epoch]\n"
     ]
    },
    {
     "name": "stdout",
     "output_type": "stream",
     "text": [
      "Loading Data\n",
      "Initialising model\n"
     ]
    },
    {
     "name": "stderr",
     "output_type": "stream",
     "text": [
      "Fold 9/10:  20%|██████████                                        | 1/5 [07:36<30:24, 456.15s/epoch]"
     ]
    },
    {
     "name": "stdout",
     "output_type": "stream",
     "text": [
      "Epoch: 0,Loss:3.2583853132427483\n",
      "Train Accuracy:30.94928564358069,Test Accuracy:39.53766918193796\n"
     ]
    },
    {
     "name": "stderr",
     "output_type": "stream",
     "text": [
      "Fold 9/10: 100%|██████████████████████████████████████████████████| 5/5 [37:09<00:00, 445.83s/epoch]\n"
     ]
    },
    {
     "name": "stdout",
     "output_type": "stream",
     "text": [
      "Loading Data\n",
      "Initialising model\n"
     ]
    },
    {
     "name": "stderr",
     "output_type": "stream",
     "text": [
      "Fold 10/10:  20%|█████████▊                                       | 1/5 [07:28<29:52, 448.02s/epoch]"
     ]
    },
    {
     "name": "stdout",
     "output_type": "stream",
     "text": [
      "Epoch: 0,Loss:3.222654435110858\n",
      "Train Accuracy:31.942575145805293,Test Accuracy:36.33035231978873\n"
     ]
    },
    {
     "name": "stderr",
     "output_type": "stream",
     "text": [
      "Fold 10/10: 100%|█████████████████████████████████████████████████| 5/5 [36:52<00:00, 442.44s/epoch]\n"
     ]
    },
    {
     "name": "stdout",
     "output_type": "stream",
     "text": [
      "Mean test accuracy:45.83704585494711 ,Standard deviation:1.4192017495570537\n"
     ]
    },
    {
     "data": {
      "text/html": [],
      "text/plain": [
       "<IPython.core.display.HTML object>"
      ]
     },
     "metadata": {},
     "output_type": "display_data"
    },
    {
     "data": {
      "text/html": [
       "<br>    <style><br>        .wandb-row {<br>            display: flex;<br>            flex-direction: row;<br>            flex-wrap: wrap;<br>            justify-content: flex-start;<br>            width: 100%;<br>        }<br>        .wandb-col {<br>            display: flex;<br>            flex-direction: column;<br>            flex-basis: 100%;<br>            flex: 1;<br>            padding: 10px;<br>        }<br>    </style><br><div class=\"wandb-row\"><div class=\"wandb-col\"><h3>Run history:</h3><br/><table class=\"wandb\"><tr><td>epoch</td><td>▁▃▅▆█▃▅▆█▁▅▆█▁▃▆█▁▃▅█▁▃▅▆▁▃▅▆▁▆█▁▃▅█▁▃▅█</td></tr><tr><td>fold index</td><td>▁▁▁▁▁▂▂▂▂▃▃▃▃▃▃▄▄▄▄▄▅▅▅▅▆▆▆▆▆▆▆▆▇▇▇▇████</td></tr><tr><td>test_accuracy</td><td>▃▅▅▇▆▆▅▆▅▃▁▅▇▄▁▅▆▂▅▄▆▂▆█▆▄▅▆▆▃▅▆▄▆▄▇▂▆▇▆</td></tr><tr><td>train loss</td><td>▇▃▂▂▁▄▃▂▂█▃▂▂█▄▂▂█▄▃▂▇▂▂▁▃▂▂█▄▂▁█▄▃▂█▄▃▁</td></tr><tr><td>train_accuracy</td><td>▂▅▇▇█▅▆▇▇▁▆▇▇▂▅▇▇▁▅▆█▂▆▇▇▁▅▆▇▁▆█▁▅▆▇▂▅▆█</td></tr></table><br/></div><div class=\"wandb-col\"><h3>Run summary:</h3><br/><table class=\"wandb\"><tr><td>epoch</td><td>4</td></tr><tr><td>fold index</td><td>10</td></tr><tr><td>test_accuracy</td><td>45.93962</td></tr><tr><td>train loss</td><td>2.4552</td></tr><tr><td>train_accuracy</td><td>46.77051</td></tr></table><br/></div></div>"
      ],
      "text/plain": [
       "<IPython.core.display.HTML object>"
      ]
     },
     "metadata": {},
     "output_type": "display_data"
    },
    {
     "data": {
      "text/html": [
       " View run <strong style=\"color:#cdcd00\">2.1-Relu-SGD</strong> at: <a href='https://wandb.ai/ketakishetye0619-iiit-hyderabad/SMAI-A2/runs/wpoiv1hx' target=\"_blank\">https://wandb.ai/ketakishetye0619-iiit-hyderabad/SMAI-A2/runs/wpoiv1hx</a><br> View project at: <a href='https://wandb.ai/ketakishetye0619-iiit-hyderabad/SMAI-A2' target=\"_blank\">https://wandb.ai/ketakishetye0619-iiit-hyderabad/SMAI-A2</a><br>Synced 5 W&B file(s), 0 media file(s), 0 artifact file(s) and 0 other file(s)"
      ],
      "text/plain": [
       "<IPython.core.display.HTML object>"
      ]
     },
     "metadata": {},
     "output_type": "display_data"
    },
    {
     "data": {
      "text/html": [
       "Find logs at: <code>.\\wandb\\run-20250314_022014-wpoiv1hx\\logs</code>"
      ],
      "text/plain": [
       "<IPython.core.display.HTML object>"
      ]
     },
     "metadata": {},
     "output_type": "display_data"
    }
   ],
   "source": [
    "wandb.init(project=\"SMAI-A2\", name=\"2.1-Relu-SGD\")\n",
    "\n",
    "fold_dirs = [f'Symbols/classification-task/fold-{i}' for i in range(1, 11)]\n",
    "\n",
    "test_accuracies=[]\n",
    "for fold_index,fold in enumerate(fold_dirs):\n",
    "    print(\"Loading Data\")\n",
    "    train_path = os.path.join(fold, 'train.csv')\n",
    "    test_path = os.path.join(fold, 'test.csv')\n",
    "    x_train,y_train=load_data(train_path)\n",
    "    x_test,y_test=load_data(test_path)\n",
    "    \n",
    "    encoder = OneHotEncoder(sparse_output=False)\n",
    "    y_train = encoder.fit_transform(y_train)\n",
    "    encoder = OneHotEncoder(sparse_output=False)\n",
    "    y_test = encoder.fit_transform(y_test)\n",
    "    \n",
    "    output_dim=y_train.shape[1]\n",
    "    \n",
    "    print(\"Initialising model\")\n",
    "    model = MLP(input_dim, hidden_dim, output_dim,activation)   \n",
    "    model.train(x_train,y_train,num_epochs,learning_rate,x_test,y_test,fold_index,batch_size)\n",
    "    y_pred_test=model.predict(x_test)\n",
    "    test_accuracy=model.calculate_test_accuracy(y_test,y_pred_test)\n",
    "    test_accuracies.append(test_accuracy)\n",
    "    \n",
    "print(f\"Mean test accuracy:{np.mean(test_accuracies)} ,Standard deviation:{np.std(test_accuracies)}\")\n",
    "wandb.finish()"
   ]
  },
  {
   "cell_type": "code",
   "execution_count": 7,
   "metadata": {},
   "outputs": [],
   "source": [
    "np.random.seed(42)\n",
    "input_dim=1024\n",
    "hidden_dim=512\n",
    "learning_rate=0.01\n",
    "num_epochs=30\n",
    "activation='relu'\n",
    "batch_size=256"
   ]
  },
  {
   "cell_type": "code",
   "execution_count": 8,
   "metadata": {},
   "outputs": [
    {
     "data": {
      "text/html": [
       "Tracking run with wandb version 0.19.8"
      ],
      "text/plain": [
       "<IPython.core.display.HTML object>"
      ]
     },
     "metadata": {},
     "output_type": "display_data"
    },
    {
     "data": {
      "text/html": [
       "Run data is saved locally in <code>d:\\SMAI\\Assignments\\A2\\wandb\\run-20250311_232423-doa06jdn</code>"
      ],
      "text/plain": [
       "<IPython.core.display.HTML object>"
      ]
     },
     "metadata": {},
     "output_type": "display_data"
    },
    {
     "data": {
      "text/html": [
       "Syncing run <strong><a href='https://wandb.ai/ketakishetye0619-iiit-hyderabad/SMAI-A2/runs/doa06jdn' target=\"_blank\">2.1-Relu-MBGD</a></strong> to <a href='https://wandb.ai/ketakishetye0619-iiit-hyderabad/SMAI-A2' target=\"_blank\">Weights & Biases</a> (<a href='https://wandb.me/developer-guide' target=\"_blank\">docs</a>)<br>"
      ],
      "text/plain": [
       "<IPython.core.display.HTML object>"
      ]
     },
     "metadata": {},
     "output_type": "display_data"
    },
    {
     "data": {
      "text/html": [
       " View project at <a href='https://wandb.ai/ketakishetye0619-iiit-hyderabad/SMAI-A2' target=\"_blank\">https://wandb.ai/ketakishetye0619-iiit-hyderabad/SMAI-A2</a>"
      ],
      "text/plain": [
       "<IPython.core.display.HTML object>"
      ]
     },
     "metadata": {},
     "output_type": "display_data"
    },
    {
     "data": {
      "text/html": [
       " View run at <a href='https://wandb.ai/ketakishetye0619-iiit-hyderabad/SMAI-A2/runs/doa06jdn' target=\"_blank\">https://wandb.ai/ketakishetye0619-iiit-hyderabad/SMAI-A2/runs/doa06jdn</a>"
      ],
      "text/plain": [
       "<IPython.core.display.HTML object>"
      ]
     },
     "metadata": {},
     "output_type": "display_data"
    },
    {
     "name": "stdout",
     "output_type": "stream",
     "text": [
      "Loading Data\n",
      "Initialising model\n"
     ]
    },
    {
     "name": "stderr",
     "output_type": "stream",
     "text": [
      "Fold 1/10:   3%|█▋                                                | 1/30 [00:09<04:35,  9.50s/epoch]"
     ]
    },
    {
     "name": "stdout",
     "output_type": "stream",
     "text": [
      "Epoch: 0,Loss:5.090175263497532\n",
      "Train Accuracy:11.42242467863727,Test Accuracy:18.349811676082865\n"
     ]
    },
    {
     "name": "stderr",
     "output_type": "stream",
     "text": [
      "Fold 1/10:  33%|████████████████▎                                | 10/30 [01:32<03:03,  9.18s/epoch]"
     ]
    },
    {
     "name": "stdout",
     "output_type": "stream",
     "text": [
      "Epoch: 9,Loss:2.2331807020096126\n",
      "Train Accuracy:53.196080721603494,Test Accuracy:53.14854048964218\n"
     ]
    },
    {
     "name": "stderr",
     "output_type": "stream",
     "text": [
      "Fold 1/10:  67%|████████████████████████████████▋                | 20/30 [03:05<01:37,  9.71s/epoch]"
     ]
    },
    {
     "name": "stdout",
     "output_type": "stream",
     "text": [
      "Epoch: 19,Loss:1.7681265910719541\n",
      "Train Accuracy:60.841963906146084,Test Accuracy:59.78107344632768\n"
     ]
    },
    {
     "name": "stderr",
     "output_type": "stream",
     "text": [
      "Fold 1/10: 100%|█████████████████████████████████████████████████| 30/30 [04:37<00:00,  9.25s/epoch]"
     ]
    },
    {
     "name": "stdout",
     "output_type": "stream",
     "text": [
      "Epoch: 29,Loss:1.5762412827673595\n",
      "Train Accuracy:64.41486847172766,Test Accuracy:62.6412429378531\n"
     ]
    },
    {
     "name": "stderr",
     "output_type": "stream",
     "text": [
      "\n"
     ]
    },
    {
     "name": "stdout",
     "output_type": "stream",
     "text": [
      "Loading Data\n",
      "Initialising model\n"
     ]
    },
    {
     "name": "stderr",
     "output_type": "stream",
     "text": [
      "Fold 2/10:   3%|█▋                                                | 1/30 [00:08<04:03,  8.39s/epoch]"
     ]
    },
    {
     "name": "stdout",
     "output_type": "stream",
     "text": [
      "Epoch: 0,Loss:5.048222321935868\n",
      "Train Accuracy:12.07445093744883,Test Accuracy:19.00855709648864\n"
     ]
    },
    {
     "name": "stderr",
     "output_type": "stream",
     "text": [
      "Fold 2/10:  33%|████████████████▎                                | 10/30 [01:35<03:51, 11.57s/epoch]"
     ]
    },
    {
     "name": "stdout",
     "output_type": "stream",
     "text": [
      "Epoch: 9,Loss:2.2301846674775954\n",
      "Train Accuracy:53.311496199716174,Test Accuracy:53.43169076423724\n"
     ]
    },
    {
     "name": "stderr",
     "output_type": "stream",
     "text": [
      "Fold 2/10:  67%|████████████████████████████████▋                | 20/30 [03:17<01:30,  9.10s/epoch]"
     ]
    },
    {
     "name": "stdout",
     "output_type": "stream",
     "text": [
      "Epoch: 19,Loss:1.76562835797201\n",
      "Train Accuracy:60.91511278041591,Test Accuracy:60.27736795514901\n"
     ]
    },
    {
     "name": "stderr",
     "output_type": "stream",
     "text": [
      "Fold 2/10: 100%|█████████████████████████████████████████████████| 30/30 [04:49<00:00,  9.66s/epoch]"
     ]
    },
    {
     "name": "stdout",
     "output_type": "stream",
     "text": [
      "Epoch: 29,Loss:1.5744956312029168\n",
      "Train Accuracy:64.33884357431363,Test Accuracy:62.97432871053408\n"
     ]
    },
    {
     "name": "stderr",
     "output_type": "stream",
     "text": [
      "\n"
     ]
    },
    {
     "name": "stdout",
     "output_type": "stream",
     "text": [
      "Loading Data\n",
      "Initialising model\n"
     ]
    },
    {
     "name": "stderr",
     "output_type": "stream",
     "text": [
      "Fold 3/10:   3%|█▋                                                | 1/30 [00:09<04:23,  9.10s/epoch]"
     ]
    },
    {
     "name": "stdout",
     "output_type": "stream",
     "text": [
      "Epoch: 0,Loss:5.095390863662664\n",
      "Train Accuracy:11.54345263231982,Test Accuracy:18.264057234080294\n"
     ]
    },
    {
     "name": "stderr",
     "output_type": "stream",
     "text": [
      "Fold 3/10:  33%|████████████████▎                                | 10/30 [01:31<03:05,  9.29s/epoch]"
     ]
    },
    {
     "name": "stdout",
     "output_type": "stream",
     "text": [
      "Epoch: 9,Loss:2.2322579295449327\n",
      "Train Accuracy:53.18284593186937,Test Accuracy:52.56902974043635\n"
     ]
    },
    {
     "name": "stderr",
     "output_type": "stream",
     "text": [
      "Fold 3/10:  67%|████████████████████████████████▋                | 20/30 [03:06<01:32,  9.26s/epoch]"
     ]
    },
    {
     "name": "stdout",
     "output_type": "stream",
     "text": [
      "Epoch: 19,Loss:1.769852394328717\n",
      "Train Accuracy:60.74196755349099,Test Accuracy:58.81274759061077\n"
     ]
    },
    {
     "name": "stderr",
     "output_type": "stream",
     "text": [
      "Fold 3/10: 100%|█████████████████████████████████████████████████| 30/30 [04:42<00:00,  9.42s/epoch]"
     ]
    },
    {
     "name": "stdout",
     "output_type": "stream",
     "text": [
      "Epoch: 29,Loss:1.5773065099496244\n",
      "Train Accuracy:64.3264358108108,Test Accuracy:60.06622124992609\n"
     ]
    },
    {
     "name": "stderr",
     "output_type": "stream",
     "text": [
      "\n"
     ]
    },
    {
     "name": "stdout",
     "output_type": "stream",
     "text": [
      "Loading Data\n",
      "Initialising model\n"
     ]
    },
    {
     "name": "stderr",
     "output_type": "stream",
     "text": [
      "Fold 4/10:   3%|█▋                                                | 1/30 [00:07<03:43,  7.69s/epoch]"
     ]
    },
    {
     "name": "stdout",
     "output_type": "stream",
     "text": [
      "Epoch: 0,Loss:5.064556803431313\n",
      "Train Accuracy:11.534527061083262,Test Accuracy:18.54222222222222\n"
     ]
    },
    {
     "name": "stderr",
     "output_type": "stream",
     "text": [
      "Fold 4/10:  33%|████████████████▎                                | 10/30 [01:26<02:53,  8.66s/epoch]"
     ]
    },
    {
     "name": "stdout",
     "output_type": "stream",
     "text": [
      "Epoch: 9,Loss:2.23620096005768\n",
      "Train Accuracy:53.15865181587838,Test Accuracy:52.4562962962963\n"
     ]
    },
    {
     "name": "stderr",
     "output_type": "stream",
     "text": [
      "Fold 4/10:  67%|████████████████████████████████▋                | 20/30 [02:55<01:29,  8.98s/epoch]"
     ]
    },
    {
     "name": "stdout",
     "output_type": "stream",
     "text": [
      "Epoch: 19,Loss:1.7695334998908396\n",
      "Train Accuracy:60.880860226405844,Test Accuracy:59.13481481481482\n"
     ]
    },
    {
     "name": "stderr",
     "output_type": "stream",
     "text": [
      "Fold 4/10: 100%|█████████████████████████████████████████████████| 30/30 [04:22<00:00,  8.75s/epoch]"
     ]
    },
    {
     "name": "stdout",
     "output_type": "stream",
     "text": [
      "Epoch: 29,Loss:1.5803036707340972\n",
      "Train Accuracy:64.26490045362902,Test Accuracy:61.79555555555556\n"
     ]
    },
    {
     "name": "stderr",
     "output_type": "stream",
     "text": [
      "\n"
     ]
    },
    {
     "name": "stdout",
     "output_type": "stream",
     "text": [
      "Loading Data\n",
      "Initialising model\n"
     ]
    },
    {
     "name": "stderr",
     "output_type": "stream",
     "text": [
      "Fold 5/10:   3%|█▋                                                | 1/30 [00:08<03:57,  8.20s/epoch]"
     ]
    },
    {
     "name": "stdout",
     "output_type": "stream",
     "text": [
      "Epoch: 0,Loss:5.075686419073998\n",
      "Train Accuracy:11.634377186135,Test Accuracy:18.713623945836797\n"
     ]
    },
    {
     "name": "stderr",
     "output_type": "stream",
     "text": [
      "Fold 5/10:  33%|████████████████▎                                | 10/30 [01:26<02:56,  8.81s/epoch]"
     ]
    },
    {
     "name": "stdout",
     "output_type": "stream",
     "text": [
      "Epoch: 9,Loss:2.219863506524969\n",
      "Train Accuracy:53.473042022846705,Test Accuracy:51.97173060933603\n"
     ]
    },
    {
     "name": "stderr",
     "output_type": "stream",
     "text": [
      "Fold 5/10:  67%|████████████████████████████████▋                | 20/30 [02:53<01:28,  8.83s/epoch]"
     ]
    },
    {
     "name": "stdout",
     "output_type": "stream",
     "text": [
      "Epoch: 19,Loss:1.7554407873816829\n",
      "Train Accuracy:61.05687096898034,Test Accuracy:58.64116878489132\n"
     ]
    },
    {
     "name": "stderr",
     "output_type": "stream",
     "text": [
      "Fold 5/10: 100%|█████████████████████████████████████████████████| 30/30 [04:24<00:00,  8.83s/epoch]"
     ]
    },
    {
     "name": "stdout",
     "output_type": "stream",
     "text": [
      "Epoch: 29,Loss:1.5639579956415859\n",
      "Train Accuracy:64.53736451295045,Test Accuracy:61.82444470839768\n"
     ]
    },
    {
     "name": "stderr",
     "output_type": "stream",
     "text": [
      "\n"
     ]
    },
    {
     "name": "stdout",
     "output_type": "stream",
     "text": [
      "Loading Data\n",
      "Initialising model\n"
     ]
    },
    {
     "name": "stderr",
     "output_type": "stream",
     "text": [
      "Fold 6/10:   3%|█▋                                                | 1/30 [00:07<03:46,  7.80s/epoch]"
     ]
    },
    {
     "name": "stdout",
     "output_type": "stream",
     "text": [
      "Epoch: 0,Loss:5.07607748091685\n",
      "Train Accuracy:11.28086594222175,Test Accuracy:18.709101725163592\n"
     ]
    },
    {
     "name": "stderr",
     "output_type": "stream",
     "text": [
      "Fold 6/10:  33%|████████████████▎                                | 10/30 [01:21<02:43,  8.17s/epoch]"
     ]
    },
    {
     "name": "stdout",
     "output_type": "stream",
     "text": [
      "Epoch: 9,Loss:2.232491213446246\n",
      "Train Accuracy:53.04852615749362,Test Accuracy:52.73646638905414\n"
     ]
    },
    {
     "name": "stderr",
     "output_type": "stream",
     "text": [
      "Fold 6/10:  67%|████████████████████████████████▋                | 20/30 [02:41<01:21,  8.13s/epoch]"
     ]
    },
    {
     "name": "stdout",
     "output_type": "stream",
     "text": [
      "Epoch: 19,Loss:1.7647748765793108\n",
      "Train Accuracy:60.87955362011864,Test Accuracy:59.17311124330755\n"
     ]
    },
    {
     "name": "stderr",
     "output_type": "stream",
     "text": [
      "Fold 6/10: 100%|█████████████████████████████████████████████████| 30/30 [04:13<00:00,  8.46s/epoch]"
     ]
    },
    {
     "name": "stdout",
     "output_type": "stream",
     "text": [
      "Epoch: 29,Loss:1.574042775379641\n",
      "Train Accuracy:64.44137777818419,Test Accuracy:61.71921475312314\n"
     ]
    },
    {
     "name": "stderr",
     "output_type": "stream",
     "text": [
      "\n"
     ]
    },
    {
     "name": "stdout",
     "output_type": "stream",
     "text": [
      "Loading Data\n",
      "Initialising model\n"
     ]
    },
    {
     "name": "stderr",
     "output_type": "stream",
     "text": [
      "Fold 7/10:   3%|█▋                                                | 1/30 [00:09<04:43,  9.79s/epoch]"
     ]
    },
    {
     "name": "stdout",
     "output_type": "stream",
     "text": [
      "Epoch: 0,Loss:5.095438149086\n",
      "Train Accuracy:11.19065843186937,Test Accuracy:18.838332637605106\n"
     ]
    },
    {
     "name": "stderr",
     "output_type": "stream",
     "text": [
      "Fold 7/10:  33%|████████████████▎                                | 10/30 [01:34<03:06,  9.33s/epoch]"
     ]
    },
    {
     "name": "stdout",
     "output_type": "stream",
     "text": [
      "Epoch: 9,Loss:2.241579051803301\n",
      "Train Accuracy:53.054994168275414,Test Accuracy:53.092015027729744\n"
     ]
    },
    {
     "name": "stderr",
     "output_type": "stream",
     "text": [
      "Fold 7/10:  67%|████████████████████████████████▋                | 20/30 [03:06<01:30,  9.05s/epoch]"
     ]
    },
    {
     "name": "stdout",
     "output_type": "stream",
     "text": [
      "Epoch: 19,Loss:1.7669578302217022\n",
      "Train Accuracy:60.84948997546654,Test Accuracy:59.162740771661994\n"
     ]
    },
    {
     "name": "stderr",
     "output_type": "stream",
     "text": [
      "Fold 7/10: 100%|█████████████████████████████████████████████████| 30/30 [04:41<00:00,  9.38s/epoch]"
     ]
    },
    {
     "name": "stdout",
     "output_type": "stream",
     "text": [
      "Epoch: 29,Loss:1.5736354576867286\n",
      "Train Accuracy:64.34506842221685,Test Accuracy:61.864154093863675\n"
     ]
    },
    {
     "name": "stderr",
     "output_type": "stream",
     "text": [
      "\n"
     ]
    },
    {
     "name": "stdout",
     "output_type": "stream",
     "text": [
      "Loading Data\n",
      "Initialising model\n"
     ]
    },
    {
     "name": "stderr",
     "output_type": "stream",
     "text": [
      "Fold 8/10:   3%|█▋                                                | 1/30 [00:08<03:57,  8.20s/epoch]"
     ]
    },
    {
     "name": "stdout",
     "output_type": "stream",
     "text": [
      "Epoch: 0,Loss:5.111876757946592\n",
      "Train Accuracy:10.942250844594595,Test Accuracy:18.055223523786758\n"
     ]
    },
    {
     "name": "stderr",
     "output_type": "stream",
     "text": [
      "Fold 8/10:  33%|████████████████▎                                | 10/30 [01:23<02:43,  8.19s/epoch]"
     ]
    },
    {
     "name": "stdout",
     "output_type": "stream",
     "text": [
      "Epoch: 9,Loss:2.241186803686768\n",
      "Train Accuracy:52.94988824571523,Test Accuracy:53.00023906287353\n"
     ]
    },
    {
     "name": "stderr",
     "output_type": "stream",
     "text": [
      "Fold 8/10:  67%|████████████████████████████████▋                | 20/30 [02:43<01:20,  8.10s/epoch]"
     ]
    },
    {
     "name": "stdout",
     "output_type": "stream",
     "text": [
      "Epoch: 19,Loss:1.7672320966195134\n",
      "Train Accuracy:60.767155183956824,Test Accuracy:59.4728663638537\n"
     ]
    },
    {
     "name": "stderr",
     "output_type": "stream",
     "text": [
      "Fold 8/10: 100%|█████████████████████████████████████████████████| 30/30 [04:04<00:00,  8.16s/epoch]"
     ]
    },
    {
     "name": "stdout",
     "output_type": "stream",
     "text": [
      "Epoch: 29,Loss:1.5721777893509612\n",
      "Train Accuracy:64.38455318885958,Test Accuracy:62.21013626583791\n"
     ]
    },
    {
     "name": "stderr",
     "output_type": "stream",
     "text": [
      "\n"
     ]
    },
    {
     "name": "stdout",
     "output_type": "stream",
     "text": [
      "Loading Data\n",
      "Initialising model\n"
     ]
    },
    {
     "name": "stderr",
     "output_type": "stream",
     "text": [
      "Fold 9/10:   3%|█▋                                                | 1/30 [00:09<04:27,  9.21s/epoch]"
     ]
    },
    {
     "name": "stdout",
     "output_type": "stream",
     "text": [
      "Epoch: 0,Loss:5.064261440344972\n",
      "Train Accuracy:11.69668264711495,Test Accuracy:18.936399568810636\n"
     ]
    },
    {
     "name": "stderr",
     "output_type": "stream",
     "text": [
      "Fold 9/10:  33%|████████████████▎                                | 10/30 [01:29<02:56,  8.82s/epoch]"
     ]
    },
    {
     "name": "stdout",
     "output_type": "stream",
     "text": [
      "Epoch: 9,Loss:2.231655005376074\n",
      "Train Accuracy:53.14420436715481,Test Accuracy:53.19798778296801\n"
     ]
    },
    {
     "name": "stderr",
     "output_type": "stream",
     "text": [
      "Fold 9/10:  67%|████████████████████████████████▋                | 20/30 [02:59<01:28,  8.88s/epoch]"
     ]
    },
    {
     "name": "stdout",
     "output_type": "stream",
     "text": [
      "Epoch: 19,Loss:1.7620949061115252\n",
      "Train Accuracy:60.86050583795092,Test Accuracy:59.66582824290334\n"
     ]
    },
    {
     "name": "stderr",
     "output_type": "stream",
     "text": [
      "Fold 9/10: 100%|█████████████████████████████████████████████████| 30/30 [04:31<00:00,  9.04s/epoch]"
     ]
    },
    {
     "name": "stdout",
     "output_type": "stream",
     "text": [
      "Epoch: 29,Loss:1.5699554587581837\n",
      "Train Accuracy:64.44004140368794,Test Accuracy:62.8039286142053\n"
     ]
    },
    {
     "name": "stderr",
     "output_type": "stream",
     "text": [
      "\n"
     ]
    },
    {
     "name": "stdout",
     "output_type": "stream",
     "text": [
      "Loading Data\n",
      "Initialising model\n"
     ]
    },
    {
     "name": "stderr",
     "output_type": "stream",
     "text": [
      "Fold 10/10:   3%|█▋                                               | 1/30 [00:08<04:07,  8.55s/epoch]"
     ]
    },
    {
     "name": "stdout",
     "output_type": "stream",
     "text": [
      "Epoch: 0,Loss:5.061604238665795\n",
      "Train Accuracy:11.564739671163576,Test Accuracy:17.351899645879598\n"
     ]
    },
    {
     "name": "stderr",
     "output_type": "stream",
     "text": [
      "Fold 10/10:  33%|████████████████                                | 10/30 [01:33<03:10,  9.51s/epoch]"
     ]
    },
    {
     "name": "stdout",
     "output_type": "stream",
     "text": [
      "Epoch: 9,Loss:2.233154394593833\n",
      "Train Accuracy:53.05425274030354,Test Accuracy:51.689574455314805\n"
     ]
    },
    {
     "name": "stderr",
     "output_type": "stream",
     "text": [
      "Fold 10/10:  67%|████████████████████████████████                | 20/30 [03:07<01:32,  9.27s/epoch]"
     ]
    },
    {
     "name": "stdout",
     "output_type": "stream",
     "text": [
      "Epoch: 19,Loss:1.7639574809760146\n",
      "Train Accuracy:60.778219856661046,Test Accuracy:57.709621271232216\n"
     ]
    },
    {
     "name": "stderr",
     "output_type": "stream",
     "text": [
      "Fold 10/10: 100%|████████████████████████████████████████████████| 30/30 [04:38<00:00,  9.28s/epoch]"
     ]
    },
    {
     "name": "stdout",
     "output_type": "stream",
     "text": [
      "Epoch: 29,Loss:1.5727943651547778\n",
      "Train Accuracy:64.40134907251264,Test Accuracy:61.16079467018787\n"
     ]
    },
    {
     "name": "stderr",
     "output_type": "stream",
     "text": [
      "\n"
     ]
    },
    {
     "name": "stdout",
     "output_type": "stream",
     "text": [
      "Mean test accuracy:61.90600215594844 ,Standard deviation:0.8109432136584163\n"
     ]
    },
    {
     "data": {
      "text/html": [],
      "text/plain": [
       "<IPython.core.display.HTML object>"
      ]
     },
     "metadata": {},
     "output_type": "display_data"
    },
    {
     "data": {
      "text/html": [
       "<br>    <style><br>        .wandb-row {<br>            display: flex;<br>            flex-direction: row;<br>            flex-wrap: wrap;<br>            justify-content: flex-start;<br>            width: 100%;<br>        }<br>        .wandb-col {<br>            display: flex;<br>            flex-direction: column;<br>            flex-basis: 100%;<br>            flex: 1;<br>            padding: 10px;<br>        }<br>    </style><br><div class=\"wandb-row\"><div class=\"wandb-col\"><h3>Run history:</h3><br/><table class=\"wandb\"><tr><td>epoch</td><td>▂▆▆▇▅▆▇▇█▃▇▇▁▂▃▇█▁▂▅▇██▄▆▇▁▁▃▃▁▁▁▄▇▆▆▇▇▇</td></tr><tr><td>fold index</td><td>▁▁▁▁▂▂▂▂▃▃▃▃▃▃▃▃▃▃▃▃▄▄▅▅▅▆▆▆▆▆▆▇▇▇▇█████</td></tr><tr><td>test_accuracy</td><td>▆▇▁▇█▇▇█▅▇██▃▆▇████▃▇▇███▃▆█▃▄████▃▅▇███</td></tr><tr><td>train loss</td><td>▄▂▂▁▁▂▂▁█▆▇▃▂▂▁▃▂▂▂▁▇▄▃▂▂▂▂▄▃▂▁▆▂▁▁█▇▅▄▁</td></tr><tr><td>train_accuracy</td><td>▃▅▆▇▇████▄█▆█▁▅▇▇███▄▆▇██▅▆▆▇▇█▆▃▆▇█▇▇▄█</td></tr></table><br/></div><div class=\"wandb-col\"><h3>Run summary:</h3><br/><table class=\"wandb\"><tr><td>epoch</td><td>29</td></tr><tr><td>fold index</td><td>10</td></tr><tr><td>test_accuracy</td><td>61.16079</td></tr><tr><td>train loss</td><td>1.57279</td></tr><tr><td>train_accuracy</td><td>64.40135</td></tr></table><br/></div></div>"
      ],
      "text/plain": [
       "<IPython.core.display.HTML object>"
      ]
     },
     "metadata": {},
     "output_type": "display_data"
    },
    {
     "data": {
      "text/html": [
       " View run <strong style=\"color:#cdcd00\">2.1-Relu-MBGD</strong> at: <a href='https://wandb.ai/ketakishetye0619-iiit-hyderabad/SMAI-A2/runs/doa06jdn' target=\"_blank\">https://wandb.ai/ketakishetye0619-iiit-hyderabad/SMAI-A2/runs/doa06jdn</a><br> View project at: <a href='https://wandb.ai/ketakishetye0619-iiit-hyderabad/SMAI-A2' target=\"_blank\">https://wandb.ai/ketakishetye0619-iiit-hyderabad/SMAI-A2</a><br>Synced 5 W&B file(s), 0 media file(s), 0 artifact file(s) and 0 other file(s)"
      ],
      "text/plain": [
       "<IPython.core.display.HTML object>"
      ]
     },
     "metadata": {},
     "output_type": "display_data"
    },
    {
     "data": {
      "text/html": [
       "Find logs at: <code>.\\wandb\\run-20250311_232423-doa06jdn\\logs</code>"
      ],
      "text/plain": [
       "<IPython.core.display.HTML object>"
      ]
     },
     "metadata": {},
     "output_type": "display_data"
    }
   ],
   "source": [
    "wandb.init(project=\"SMAI-A2\", name=\"2.1-Relu-MBGD\")\n",
    "\n",
    "fold_dirs = [f'Symbols/classification-task/fold-{i}' for i in range(1, 11)]\n",
    "\n",
    "test_accuracies=[]\n",
    "for fold_index,fold in enumerate(fold_dirs):\n",
    "    print(\"Loading Data\")\n",
    "    train_path = os.path.join(fold, 'train.csv')\n",
    "    test_path = os.path.join(fold, 'test.csv')\n",
    "    x_train,y_train=load_data(train_path)\n",
    "    x_test,y_test=load_data(test_path)\n",
    "    \n",
    "    encoder = OneHotEncoder(sparse_output=False)\n",
    "    y_train = encoder.fit_transform(y_train)\n",
    "    encoder = OneHotEncoder(sparse_output=False)\n",
    "    y_test = encoder.fit_transform(y_test)\n",
    "    \n",
    "    output_dim=y_train.shape[1]\n",
    "    \n",
    "    print(\"Initialising model\")\n",
    "    model = MLP(input_dim, hidden_dim, output_dim,activation)   \n",
    "    model.train(x_train,y_train,num_epochs,learning_rate,x_test,y_test,fold_index,batch_size)\n",
    "    y_pred_test=model.predict(x_test)\n",
    "    test_accuracy=model.calculate_test_accuracy(y_test,y_pred_test)\n",
    "    test_accuracies.append(test_accuracy)\n",
    "    \n",
    "print(f\"Mean test accuracy:{np.mean(test_accuracies)} ,Standard deviation:{np.std(test_accuracies)}\")\n",
    "wandb.finish()"
   ]
  },
  {
   "cell_type": "code",
   "execution_count": 5,
   "metadata": {},
   "outputs": [],
   "source": [
    "np.random.seed(42)\n",
    "input_dim=1024\n",
    "hidden_dim=512\n",
    "learning_rate=0.01\n",
    "num_epochs=50\n",
    "activation='sigmoid'\n",
    "batch_size=None"
   ]
  },
  {
   "cell_type": "code",
   "execution_count": 6,
   "metadata": {},
   "outputs": [
    {
     "data": {
      "text/html": [
       "Tracking run with wandb version 0.19.8"
      ],
      "text/plain": [
       "<IPython.core.display.HTML object>"
      ]
     },
     "metadata": {},
     "output_type": "display_data"
    },
    {
     "data": {
      "text/html": [
       "Run data is saved locally in <code>d:\\SMAI\\Assignments\\A2\\wandb\\run-20250313_021110-my2hu012</code>"
      ],
      "text/plain": [
       "<IPython.core.display.HTML object>"
      ]
     },
     "metadata": {},
     "output_type": "display_data"
    },
    {
     "data": {
      "text/html": [
       "Syncing run <strong><a href='https://wandb.ai/ketakishetye0619-iiit-hyderabad/SMAI-A2/runs/my2hu012' target=\"_blank\">2.1-Sigmoid-BGD</a></strong> to <a href='https://wandb.ai/ketakishetye0619-iiit-hyderabad/SMAI-A2' target=\"_blank\">Weights & Biases</a> (<a href='https://wandb.me/developer-guide' target=\"_blank\">docs</a>)<br>"
      ],
      "text/plain": [
       "<IPython.core.display.HTML object>"
      ]
     },
     "metadata": {},
     "output_type": "display_data"
    },
    {
     "data": {
      "text/html": [
       " View project at <a href='https://wandb.ai/ketakishetye0619-iiit-hyderabad/SMAI-A2' target=\"_blank\">https://wandb.ai/ketakishetye0619-iiit-hyderabad/SMAI-A2</a>"
      ],
      "text/plain": [
       "<IPython.core.display.HTML object>"
      ]
     },
     "metadata": {},
     "output_type": "display_data"
    },
    {
     "data": {
      "text/html": [
       " View run at <a href='https://wandb.ai/ketakishetye0619-iiit-hyderabad/SMAI-A2/runs/my2hu012' target=\"_blank\">https://wandb.ai/ketakishetye0619-iiit-hyderabad/SMAI-A2/runs/my2hu012</a>"
      ],
      "text/plain": [
       "<IPython.core.display.HTML object>"
      ]
     },
     "metadata": {},
     "output_type": "display_data"
    },
    {
     "name": "stdout",
     "output_type": "stream",
     "text": [
      "Loading Data\n",
      "Initialising model\n"
     ]
    },
    {
     "name": "stderr",
     "output_type": "stream",
     "text": [
      "Fold 1/10:   2%|█                                                 | 1/50 [00:15<12:25, 15.21s/epoch]"
     ]
    },
    {
     "name": "stdout",
     "output_type": "stream",
     "text": [
      "Epoch: 0,Loss:6.258077768496321\n",
      "Train Accuracy:0.30216674050026116,Test Accuracy:0.294256120527307\n"
     ]
    },
    {
     "name": "stderr",
     "output_type": "stream",
     "text": [
      "Fold 1/10:  20%|█████████▊                                       | 10/50 [01:52<06:23,  9.59s/epoch]"
     ]
    },
    {
     "name": "stdout",
     "output_type": "stream",
     "text": [
      "Epoch: 9,Loss:6.144501799985322\n",
      "Train Accuracy:0.3636580027902487,Test Accuracy:0.3825329566854991\n"
     ]
    },
    {
     "name": "stderr",
     "output_type": "stream",
     "text": [
      "Fold 1/10:  40%|███████████████████▌                             | 20/50 [03:23<04:30,  9.02s/epoch]"
     ]
    },
    {
     "name": "stdout",
     "output_type": "stream",
     "text": [
      "Epoch: 19,Loss:6.037633652003898\n",
      "Train Accuracy:0.6678083323966385,Test Accuracy:0.7768361581920904\n"
     ]
    },
    {
     "name": "stderr",
     "output_type": "stream",
     "text": [
      "Fold 1/10:  60%|█████████████████████████████▍                   | 30/50 [04:53<02:59,  8.98s/epoch]"
     ]
    },
    {
     "name": "stdout",
     "output_type": "stream",
     "text": [
      "Epoch: 29,Loss:5.946856663655547\n",
      "Train Accuracy:1.0466738516672065,Test Accuracy:1.1122881355932204\n"
     ]
    },
    {
     "name": "stderr",
     "output_type": "stream",
     "text": [
      "Fold 1/10:  80%|███████████████████████████████████████▏         | 40/50 [06:23<01:28,  8.85s/epoch]"
     ]
    },
    {
     "name": "stdout",
     "output_type": "stream",
     "text": [
      "Epoch: 39,Loss:5.869631014467134\n",
      "Train Accuracy:1.2536283150732936,Test Accuracy:1.2358757062146892\n"
     ]
    },
    {
     "name": "stderr",
     "output_type": "stream",
     "text": [
      "Fold 1/10: 100%|█████████████████████████████████████████████████| 50/50 [07:51<00:00,  9.43s/epoch]"
     ]
    },
    {
     "name": "stdout",
     "output_type": "stream",
     "text": [
      "Epoch: 49,Loss:5.804098938069873\n",
      "Train Accuracy:1.2985896681455424,Test Accuracy:1.277071563088512\n"
     ]
    },
    {
     "name": "stderr",
     "output_type": "stream",
     "text": [
      "\n"
     ]
    },
    {
     "name": "stdout",
     "output_type": "stream",
     "text": [
      "Loading Data\n",
      "Initialising model\n"
     ]
    },
    {
     "name": "stderr",
     "output_type": "stream",
     "text": [
      "Fold 2/10:   2%|█                                                 | 1/50 [00:09<08:05,  9.90s/epoch]"
     ]
    },
    {
     "name": "stdout",
     "output_type": "stream",
     "text": [
      "Epoch: 0,Loss:6.2135729515796525\n",
      "Train Accuracy:0.6094336629474908,Test Accuracy:0.6196518146946002\n"
     ]
    },
    {
     "name": "stderr",
     "output_type": "stream",
     "text": [
      "Fold 2/10:  20%|█████████▊                                       | 10/50 [01:32<06:00,  9.02s/epoch]"
     ]
    },
    {
     "name": "stdout",
     "output_type": "stream",
     "text": [
      "Epoch: 9,Loss:6.104806718786992\n",
      "Train Accuracy:0.6636349214742743,Test Accuracy:0.6963706107996459\n"
     ]
    },
    {
     "name": "stderr",
     "output_type": "stream",
     "text": [
      "Fold 2/10:  40%|███████████████████▌                             | 20/50 [03:00<04:26,  8.89s/epoch]"
     ]
    },
    {
     "name": "stdout",
     "output_type": "stream",
     "text": [
      "Epoch: 19,Loss:6.002367481176545\n",
      "Train Accuracy:1.0093331923219289,Test Accuracy:1.0032457952198288\n"
     ]
    },
    {
     "name": "stderr",
     "output_type": "stream",
     "text": [
      "Fold 2/10:  60%|█████████████████████████████▍                   | 30/50 [04:29<02:57,  8.89s/epoch]"
     ]
    },
    {
     "name": "stdout",
     "output_type": "stream",
     "text": [
      "Epoch: 29,Loss:5.916186700488878\n",
      "Train Accuracy:1.317354978583893,Test Accuracy:1.2452050752434347\n"
     ]
    },
    {
     "name": "stderr",
     "output_type": "stream",
     "text": [
      "Fold 2/10:  80%|███████████████████████████████████████▏         | 40/50 [06:01<01:30,  9.07s/epoch]"
     ]
    },
    {
     "name": "stdout",
     "output_type": "stream",
     "text": [
      "Epoch: 39,Loss:5.843734429484741\n",
      "Train Accuracy:1.6352916292105124,Test Accuracy:1.658306285039835\n"
     ]
    },
    {
     "name": "stderr",
     "output_type": "stream",
     "text": [
      "Fold 2/10: 100%|█████████████████████████████████████████████████| 50/50 [07:29<00:00,  9.00s/epoch]"
     ]
    },
    {
     "name": "stdout",
     "output_type": "stream",
     "text": [
      "Epoch: 49,Loss:5.7828093318746765\n",
      "Train Accuracy:2.425836814552377,Test Accuracy:2.537621717320744\n"
     ]
    },
    {
     "name": "stderr",
     "output_type": "stream",
     "text": [
      "\n"
     ]
    },
    {
     "name": "stdout",
     "output_type": "stream",
     "text": [
      "Loading Data\n",
      "Initialising model\n"
     ]
    },
    {
     "name": "stderr",
     "output_type": "stream",
     "text": [
      "Fold 3/10:   2%|█                                                 | 1/50 [00:08<07:14,  8.86s/epoch]"
     ]
    },
    {
     "name": "stdout",
     "output_type": "stream",
     "text": [
      "Epoch: 0,Loss:6.145729408555467\n",
      "Train Accuracy:0.18900343642611683,Test Accuracy:0.14190267841305504\n"
     ]
    },
    {
     "name": "stderr",
     "output_type": "stream",
     "text": [
      "Fold 3/10:  20%|█████████▊                                       | 10/50 [01:29<05:56,  8.92s/epoch]"
     ]
    },
    {
     "name": "stdout",
     "output_type": "stream",
     "text": [
      "Epoch: 9,Loss:6.046396398710723\n",
      "Train Accuracy:0.7877346021675918,Test Accuracy:0.7804647312718027\n"
     ]
    },
    {
     "name": "stderr",
     "output_type": "stream",
     "text": [
      "Fold 3/10:  40%|███████████████████▌                             | 20/50 [02:58<04:26,  8.90s/epoch]"
     ]
    },
    {
     "name": "stdout",
     "output_type": "stream",
     "text": [
      "Epoch: 19,Loss:5.952245918825764\n",
      "Train Accuracy:1.1670631773724558,Test Accuracy:1.19434754330988\n"
     ]
    },
    {
     "name": "stderr",
     "output_type": "stream",
     "text": [
      "Fold 3/10:  60%|█████████████████████████████▍                   | 30/50 [04:29<03:04,  9.24s/epoch]"
     ]
    },
    {
     "name": "stdout",
     "output_type": "stream",
     "text": [
      "Epoch: 29,Loss:5.872308160148217\n",
      "Train Accuracy:1.317737245572297,Test Accuracy:1.4367646189321823\n"
     ]
    },
    {
     "name": "stderr",
     "output_type": "stream",
     "text": [
      "Fold 3/10:  80%|███████████████████████████████████████▏         | 40/50 [05:57<01:28,  8.84s/epoch]"
     ]
    },
    {
     "name": "stdout",
     "output_type": "stream",
     "text": [
      "Epoch: 39,Loss:5.804517504713892\n",
      "Train Accuracy:2.0089875759978852,Test Accuracy:1.9748122745816827\n"
     ]
    },
    {
     "name": "stderr",
     "output_type": "stream",
     "text": [
      "Fold 3/10: 100%|█████████████████████████████████████████████████| 50/50 [07:26<00:00,  8.92s/epoch]"
     ]
    },
    {
     "name": "stdout",
     "output_type": "stream",
     "text": [
      "Epoch: 49,Loss:5.747189864459649\n",
      "Train Accuracy:2.469600845889506,Test Accuracy:2.554248211434991\n"
     ]
    },
    {
     "name": "stderr",
     "output_type": "stream",
     "text": [
      "\n"
     ]
    },
    {
     "name": "stdout",
     "output_type": "stream",
     "text": [
      "Loading Data\n",
      "Initialising model\n"
     ]
    },
    {
     "name": "stderr",
     "output_type": "stream",
     "text": [
      "Fold 4/10:   2%|█                                                 | 1/50 [00:08<07:18,  8.95s/epoch]"
     ]
    },
    {
     "name": "stdout",
     "output_type": "stream",
     "text": [
      "Epoch: 0,Loss:6.261954539767836\n",
      "Train Accuracy:0.9071208657619684,Test Accuracy:0.9007407407407406\n"
     ]
    },
    {
     "name": "stderr",
     "output_type": "stream",
     "text": [
      "Fold 4/10:  20%|█████████▊                                       | 10/50 [01:29<05:57,  8.95s/epoch]"
     ]
    },
    {
     "name": "stdout",
     "output_type": "stream",
     "text": [
      "Epoch: 9,Loss:6.1495028856883485\n",
      "Train Accuracy:0.9619577425705942,Test Accuracy:0.9777777777777777\n"
     ]
    },
    {
     "name": "stderr",
     "output_type": "stream",
     "text": [
      "Fold 4/10:  40%|███████████████████▌                             | 20/50 [02:59<04:33,  9.12s/epoch]"
     ]
    },
    {
     "name": "stdout",
     "output_type": "stream",
     "text": [
      "Epoch: 19,Loss:6.04302947078673\n",
      "Train Accuracy:0.9982954320220934,Test Accuracy:1.0192592592592593\n"
     ]
    },
    {
     "name": "stderr",
     "output_type": "stream",
     "text": [
      "Fold 4/10:  60%|█████████████████████████████▍                   | 30/50 [04:29<03:01,  9.06s/epoch]"
     ]
    },
    {
     "name": "stdout",
     "output_type": "stream",
     "text": [
      "Epoch: 29,Loss:5.952458052259435\n",
      "Train Accuracy:1.2480344613433054,Test Accuracy:1.3274074074074074\n"
     ]
    },
    {
     "name": "stderr",
     "output_type": "stream",
     "text": [
      "Fold 4/10:  80%|███████████████████████████████████████▏         | 40/50 [05:58<01:30,  9.01s/epoch]"
     ]
    },
    {
     "name": "stdout",
     "output_type": "stream",
     "text": [
      "Epoch: 39,Loss:5.875225892397537\n",
      "Train Accuracy:1.7488338905112384,Test Accuracy:1.8014814814814812\n"
     ]
    },
    {
     "name": "stderr",
     "output_type": "stream",
     "text": [
      "Fold 4/10: 100%|█████████████████████████████████████████████████| 50/50 [07:28<00:00,  8.97s/epoch]"
     ]
    },
    {
     "name": "stdout",
     "output_type": "stream",
     "text": [
      "Epoch: 49,Loss:5.809306901202817\n",
      "Train Accuracy:1.933165078819752,Test Accuracy:1.9022222222222223\n"
     ]
    },
    {
     "name": "stderr",
     "output_type": "stream",
     "text": [
      "\n"
     ]
    },
    {
     "name": "stdout",
     "output_type": "stream",
     "text": [
      "Loading Data\n",
      "Initialising model\n"
     ]
    },
    {
     "name": "stderr",
     "output_type": "stream",
     "text": [
      "Fold 5/10:   2%|█                                                 | 1/50 [00:08<07:03,  8.64s/epoch]"
     ]
    },
    {
     "name": "stdout",
     "output_type": "stream",
     "text": [
      "Epoch: 0,Loss:6.244890288090331\n",
      "Train Accuracy:0.272135803692328,Test Accuracy:0.3503979094904383\n"
     ]
    },
    {
     "name": "stderr",
     "output_type": "stream",
     "text": [
      "Fold 5/10:  20%|█████████▊                                       | 10/50 [01:31<06:20,  9.51s/epoch]"
     ]
    },
    {
     "name": "stdout",
     "output_type": "stream",
     "text": [
      "Epoch: 9,Loss:6.121632011365678\n",
      "Train Accuracy:0.5237953697281945,Test Accuracy:0.6057726570851645\n"
     ]
    },
    {
     "name": "stderr",
     "output_type": "stream",
     "text": [
      "Fold 5/10:  40%|███████████████████▌                             | 20/50 [03:02<04:32,  9.07s/epoch]"
     ]
    },
    {
     "name": "stdout",
     "output_type": "stream",
     "text": [
      "Epoch: 19,Loss:6.006516747059714\n",
      "Train Accuracy:0.8923676475445027,Test Accuracy:1.0214989903789047\n"
     ]
    },
    {
     "name": "stderr",
     "output_type": "stream",
     "text": [
      "Fold 5/10:  60%|█████████████████████████████▍                   | 30/50 [04:32<03:01,  9.08s/epoch]"
     ]
    },
    {
     "name": "stdout",
     "output_type": "stream",
     "text": [
      "Epoch: 29,Loss:5.9103717065848835\n",
      "Train Accuracy:1.212721688298821,Test Accuracy:1.306568476066041\n"
     ]
    },
    {
     "name": "stderr",
     "output_type": "stream",
     "text": [
      "Fold 5/10:  80%|███████████████████████████████████████▏         | 40/50 [06:01<01:29,  8.91s/epoch]"
     ]
    },
    {
     "name": "stdout",
     "output_type": "stream",
     "text": [
      "Epoch: 39,Loss:5.830436230499077\n",
      "Train Accuracy:2.2655966181181677,Test Accuracy:2.357762204537356\n"
     ]
    },
    {
     "name": "stderr",
     "output_type": "stream",
     "text": [
      "Fold 5/10: 100%|█████████████████████████████████████████████████| 50/50 [07:30<00:00,  9.00s/epoch]"
     ]
    },
    {
     "name": "stdout",
     "output_type": "stream",
     "text": [
      "Epoch: 49,Loss:5.764416385145101\n",
      "Train Accuracy:2.8739390336536874,Test Accuracy:2.8922674902007364\n"
     ]
    },
    {
     "name": "stderr",
     "output_type": "stream",
     "text": [
      "\n"
     ]
    },
    {
     "name": "stdout",
     "output_type": "stream",
     "text": [
      "Loading Data\n",
      "Initialising model\n"
     ]
    },
    {
     "name": "stderr",
     "output_type": "stream",
     "text": [
      "Fold 6/10:   2%|█                                                 | 1/50 [00:09<07:25,  9.10s/epoch]"
     ]
    },
    {
     "name": "stdout",
     "output_type": "stream",
     "text": [
      "Epoch: 0,Loss:6.148935838303076\n",
      "Train Accuracy:0.06934217391017217,Test Accuracy:0.0594883997620464\n"
     ]
    },
    {
     "name": "stderr",
     "output_type": "stream",
     "text": [
      "Fold 6/10:  20%|█████████▊                                       | 10/50 [01:29<05:58,  8.96s/epoch]"
     ]
    },
    {
     "name": "stdout",
     "output_type": "stream",
     "text": [
      "Epoch: 9,Loss:6.042492266489284\n",
      "Train Accuracy:0.1419863561017811,Test Accuracy:0.09518143961927424\n"
     ]
    },
    {
     "name": "stderr",
     "output_type": "stream",
     "text": [
      "Fold 6/10:  40%|███████████████████▌                             | 20/50 [02:58<04:28,  8.93s/epoch]"
     ]
    },
    {
     "name": "stdout",
     "output_type": "stream",
     "text": [
      "Epoch: 19,Loss:5.945129404178101\n",
      "Train Accuracy:0.28661431882871163,Test Accuracy:0.3569303985722784\n"
     ]
    },
    {
     "name": "stderr",
     "output_type": "stream",
     "text": [
      "Fold 6/10:  60%|█████████████████████████████▍                   | 30/50 [04:27<02:58,  8.91s/epoch]"
     ]
    },
    {
     "name": "stdout",
     "output_type": "stream",
     "text": [
      "Epoch: 29,Loss:5.8647306853991\n",
      "Train Accuracy:0.7066297722274687,Test Accuracy:0.7792980368828079\n"
     ]
    },
    {
     "name": "stderr",
     "output_type": "stream",
     "text": [
      "Fold 6/10:  80%|███████████████████████████████████████▏         | 40/50 [05:56<01:28,  8.85s/epoch]"
     ]
    },
    {
     "name": "stdout",
     "output_type": "stream",
     "text": [
      "Epoch: 39,Loss:5.798090656219849\n",
      "Train Accuracy:1.546660679024983,Test Accuracy:1.4574657941701368\n"
     ]
    },
    {
     "name": "stderr",
     "output_type": "stream",
     "text": [
      "Fold 6/10: 100%|█████████████████████████████████████████████████| 50/50 [07:25<00:00,  8.91s/epoch]"
     ]
    },
    {
     "name": "stdout",
     "output_type": "stream",
     "text": [
      "Epoch: 49,Loss:5.742797589646769\n",
      "Train Accuracy:1.9455432794225447,Test Accuracy:1.9036287923854849\n"
     ]
    },
    {
     "name": "stderr",
     "output_type": "stream",
     "text": [
      "\n"
     ]
    },
    {
     "name": "stdout",
     "output_type": "stream",
     "text": [
      "Loading Data\n",
      "Initialising model\n"
     ]
    },
    {
     "name": "stderr",
     "output_type": "stream",
     "text": [
      "Fold 7/10:   2%|█                                                 | 1/50 [00:08<07:17,  8.93s/epoch]"
     ]
    },
    {
     "name": "stdout",
     "output_type": "stream",
     "text": [
      "Epoch: 0,Loss:6.152247319323116\n",
      "Train Accuracy:0.10101410236095706,Test Accuracy:0.10734092671000059\n"
     ]
    },
    {
     "name": "stderr",
     "output_type": "stream",
     "text": [
      "Fold 7/10:  20%|█████████▊                                       | 10/50 [01:29<05:56,  8.92s/epoch]"
     ]
    },
    {
     "name": "stdout",
     "output_type": "stream",
     "text": [
      "Epoch: 9,Loss:6.04368482358021\n",
      "Train Accuracy:0.24494269265303964,Test Accuracy:0.29220585604389054\n"
     ]
    },
    {
     "name": "stderr",
     "output_type": "stream",
     "text": [
      "Fold 7/10:  40%|███████████████████▌                             | 20/50 [02:58<04:25,  8.85s/epoch]"
     ]
    },
    {
     "name": "stdout",
     "output_type": "stream",
     "text": [
      "Epoch: 19,Loss:5.94239292164472\n",
      "Train Accuracy:0.44829134315745,Test Accuracy:0.5247778639155585\n"
     ]
    },
    {
     "name": "stderr",
     "output_type": "stream",
     "text": [
      "Fold 7/10:  60%|█████████████████████████████▍                   | 30/50 [04:28<03:01,  9.10s/epoch]"
     ]
    },
    {
     "name": "stdout",
     "output_type": "stream",
     "text": [
      "Epoch: 29,Loss:5.858269005123728\n",
      "Train Accuracy:0.9137484814873501,Test Accuracy:0.9302880314866719\n"
     ]
    },
    {
     "name": "stderr",
     "output_type": "stream",
     "text": [
      "Fold 7/10:  80%|███████████████████████████████████████▏         | 40/50 [05:56<01:27,  8.79s/epoch]"
     ]
    },
    {
     "name": "stdout",
     "output_type": "stream",
     "text": [
      "Epoch: 39,Loss:5.788792292192119\n",
      "Train Accuracy:1.3858078487297312,Test Accuracy:1.3119446597888962\n"
     ]
    },
    {
     "name": "stderr",
     "output_type": "stream",
     "text": [
      "Fold 7/10: 100%|█████████████████████████████████████████████████| 50/50 [07:24<00:00,  8.90s/epoch]"
     ]
    },
    {
     "name": "stdout",
     "output_type": "stream",
     "text": [
      "Epoch: 49,Loss:5.731699072137284\n",
      "Train Accuracy:1.7958062641947923,Test Accuracy:1.705528057725565\n"
     ]
    },
    {
     "name": "stderr",
     "output_type": "stream",
     "text": [
      "\n"
     ]
    },
    {
     "name": "stdout",
     "output_type": "stream",
     "text": [
      "Loading Data\n",
      "Initialising model\n"
     ]
    },
    {
     "name": "stderr",
     "output_type": "stream",
     "text": [
      "Fold 8/10:   2%|█                                                 | 1/50 [00:08<07:18,  8.94s/epoch]"
     ]
    },
    {
     "name": "stdout",
     "output_type": "stream",
     "text": [
      "Epoch: 0,Loss:6.218877965016949\n",
      "Train Accuracy:0.21319991287186224,Test Accuracy:0.2629691608893139\n"
     ]
    },
    {
     "name": "stderr",
     "output_type": "stream",
     "text": [
      "Fold 8/10:  20%|█████████▊                                       | 10/50 [01:28<05:53,  8.83s/epoch]"
     ]
    },
    {
     "name": "stdout",
     "output_type": "stream",
     "text": [
      "Epoch: 9,Loss:6.1034181286804925\n",
      "Train Accuracy:0.5491712925987287,Test Accuracy:0.5558211809705953\n"
     ]
    },
    {
     "name": "stderr",
     "output_type": "stream",
     "text": [
      "Fold 8/10:  40%|███████████████████▌                             | 20/50 [02:58<04:26,  8.87s/epoch]"
     ]
    },
    {
     "name": "stdout",
     "output_type": "stream",
     "text": [
      "Epoch: 19,Loss:5.998632094110145\n",
      "Train Accuracy:1.0772206124051986,Test Accuracy:1.320822376284963\n"
     ]
    },
    {
     "name": "stderr",
     "output_type": "stream",
     "text": [
      "Fold 8/10:  60%|█████████████████████████████▍                   | 30/50 [04:26<02:56,  8.85s/epoch]"
     ]
    },
    {
     "name": "stdout",
     "output_type": "stream",
     "text": [
      "Epoch: 29,Loss:5.91219140393273\n",
      "Train Accuracy:2.0666530253925717,Test Accuracy:2.0858235715993305\n"
     ]
    },
    {
     "name": "stderr",
     "output_type": "stream",
     "text": [
      "Fold 8/10:  80%|███████████████████████████████████████▏         | 40/50 [05:54<01:27,  8.80s/epoch]"
     ]
    },
    {
     "name": "stdout",
     "output_type": "stream",
     "text": [
      "Epoch: 39,Loss:5.840016906402062\n",
      "Train Accuracy:2.165002211206527,Test Accuracy:2.1575424336600526\n"
     ]
    },
    {
     "name": "stderr",
     "output_type": "stream",
     "text": [
      "Fold 8/10: 100%|█████████████████████████████████████████████████| 50/50 [07:23<00:00,  8.87s/epoch]\n"
     ]
    },
    {
     "name": "stdout",
     "output_type": "stream",
     "text": [
      "Epoch: 49,Loss:5.779234407751096\n",
      "Train Accuracy:2.1749031359528983,Test Accuracy:2.175472149175233\n",
      "Loading Data\n",
      "Initialising model\n"
     ]
    },
    {
     "name": "stderr",
     "output_type": "stream",
     "text": [
      "Fold 9/10:   2%|█                                                 | 1/50 [00:09<07:36,  9.31s/epoch]"
     ]
    },
    {
     "name": "stdout",
     "output_type": "stream",
     "text": [
      "Epoch: 0,Loss:6.231829113019173\n",
      "Train Accuracy:0.42894380836110474,Test Accuracy:0.47311055216193554\n"
     ]
    },
    {
     "name": "stderr",
     "output_type": "stream",
     "text": [
      "Fold 9/10:  20%|█████████▊                                       | 10/50 [01:32<06:07,  9.18s/epoch]"
     ]
    },
    {
     "name": "stdout",
     "output_type": "stream",
     "text": [
      "Epoch: 9,Loss:6.123358520146447\n",
      "Train Accuracy:0.8163130629887485,Test Accuracy:0.8863336926578033\n"
     ]
    },
    {
     "name": "stderr",
     "output_type": "stream",
     "text": [
      "Fold 9/10:  40%|███████████████████▌                             | 20/50 [03:01<04:30,  9.02s/epoch]"
     ]
    },
    {
     "name": "stdout",
     "output_type": "stream",
     "text": [
      "Epoch: 19,Loss:6.019412420528724\n",
      "Train Accuracy:1.2327185138746823,Test Accuracy:1.2396694214876034\n"
     ]
    },
    {
     "name": "stderr",
     "output_type": "stream",
     "text": [
      "Fold 9/10:  60%|█████████████████████████████▍                   | 30/50 [04:31<02:57,  8.88s/epoch]"
     ]
    },
    {
     "name": "stdout",
     "output_type": "stream",
     "text": [
      "Epoch: 29,Loss:5.930185808838418\n",
      "Train Accuracy:1.3508430395618174,Test Accuracy:1.3654329859863457\n"
     ]
    },
    {
     "name": "stderr",
     "output_type": "stream",
     "text": [
      "Fold 9/10:  80%|███████████████████████████████████████▏         | 40/50 [05:59<01:28,  8.84s/epoch]"
     ]
    },
    {
     "name": "stdout",
     "output_type": "stream",
     "text": [
      "Epoch: 39,Loss:5.853831033786679\n",
      "Train Accuracy:1.3910977661926287,Test Accuracy:1.4013654329859864\n"
     ]
    },
    {
     "name": "stderr",
     "output_type": "stream",
     "text": [
      "Fold 9/10: 100%|█████████████████████████████████████████████████| 50/50 [07:27<00:00,  8.95s/epoch]"
     ]
    },
    {
     "name": "stdout",
     "output_type": "stream",
     "text": [
      "Epoch: 49,Loss:5.788925668130863\n",
      "Train Accuracy:1.4188141353482695,Test Accuracy:1.4133429153191999\n"
     ]
    },
    {
     "name": "stderr",
     "output_type": "stream",
     "text": [
      "\n"
     ]
    },
    {
     "name": "stdout",
     "output_type": "stream",
     "text": [
      "Loading Data\n",
      "Initialising model\n"
     ]
    },
    {
     "name": "stderr",
     "output_type": "stream",
     "text": [
      "Fold 10/10:   2%|▉                                                | 1/50 [00:08<07:05,  8.69s/epoch]"
     ]
    },
    {
     "name": "stdout",
     "output_type": "stream",
     "text": [
      "Epoch: 0,Loss:6.203831368007934\n",
      "Train Accuracy:0.17153563982793657,Test Accuracy:0.20406938359042076\n"
     ]
    },
    {
     "name": "stderr",
     "output_type": "stream",
     "text": [
      "Fold 10/10:  20%|█████████▌                                      | 10/50 [01:28<05:57,  8.95s/epoch]"
     ]
    },
    {
     "name": "stdout",
     "output_type": "stream",
     "text": [
      "Epoch: 9,Loss:6.094081115632871\n",
      "Train Accuracy:0.18209167920196342,Test Accuracy:0.20406938359042076\n"
     ]
    },
    {
     "name": "stderr",
     "output_type": "stream",
     "text": [
      "Fold 10/10:  40%|███████████████████▏                            | 20/50 [02:57<04:27,  8.90s/epoch]"
     ]
    },
    {
     "name": "stdout",
     "output_type": "stream",
     "text": [
      "Epoch: 19,Loss:5.992022710333424\n",
      "Train Accuracy:0.5588103343625471,Test Accuracy:0.684232639097293\n"
     ]
    },
    {
     "name": "stderr",
     "output_type": "stream",
     "text": [
      "Fold 10/10:  60%|████████████████████████████▊                   | 30/50 [04:26<02:57,  8.88s/epoch]"
     ]
    },
    {
     "name": "stdout",
     "output_type": "stream",
     "text": [
      "Epoch: 29,Loss:5.906672046447078\n",
      "Train Accuracy:1.3023513577705643,Test Accuracy:1.4704999699897965\n"
     ]
    },
    {
     "name": "stderr",
     "output_type": "stream",
     "text": [
      "Fold 10/10:  80%|██████████████████████████████████████▍         | 40/50 [05:54<01:27,  8.79s/epoch]"
     ]
    },
    {
     "name": "stdout",
     "output_type": "stream",
     "text": [
      "Epoch: 39,Loss:5.835054960447865\n",
      "Train Accuracy:2.0887762911355656,Test Accuracy:2.2267570974131203\n"
     ]
    },
    {
     "name": "stderr",
     "output_type": "stream",
     "text": [
      "Fold 10/10: 100%|████████████████████████████████████████████████| 50/50 [07:22<00:00,  8.85s/epoch]"
     ]
    },
    {
     "name": "stdout",
     "output_type": "stream",
     "text": [
      "Epoch: 49,Loss:5.774814347057074\n",
      "Train Accuracy:2.4760509856701765,Test Accuracy:2.568873416961767\n"
     ]
    },
    {
     "name": "stderr",
     "output_type": "stream",
     "text": [
      "\n"
     ]
    },
    {
     "name": "stdout",
     "output_type": "stream",
     "text": [
      "Mean test accuracy:2.0930276535834453 ,Standard deviation:0.5130876289100148\n"
     ]
    },
    {
     "data": {
      "text/html": [],
      "text/plain": [
       "<IPython.core.display.HTML object>"
      ]
     },
     "metadata": {},
     "output_type": "display_data"
    },
    {
     "data": {
      "text/html": [
       "<br>    <style><br>        .wandb-row {<br>            display: flex;<br>            flex-direction: row;<br>            flex-wrap: wrap;<br>            justify-content: flex-start;<br>            width: 100%;<br>        }<br>        .wandb-col {<br>            display: flex;<br>            flex-direction: column;<br>            flex-basis: 100%;<br>            flex: 1;<br>            padding: 10px;<br>        }<br>    </style><br><div class=\"wandb-row\"><div class=\"wandb-col\"><h3>Run history:</h3><br/><table class=\"wandb\"><tr><td>epoch</td><td>▂▅▅▇▄█▁▂▂▃▇▁▃▃▄█▁█▂▄▅▅▅▆▆▃▃▇█▂▅▅▇██▁▁▂▅█</td></tr><tr><td>fold index</td><td>▁▁▁▁▂▂▂▃▃▃▃▃▃▃▃▄▅▅▅▆▆▆▆▆▆▆▆▆▆▆▆▇▇▇▇▇▇███</td></tr><tr><td>test_accuracy</td><td>▁▂▂▄▂▄▆▃▄▄▆▆▃▃▃▅▃▃▃▃▅█▁▂▂▃▁▁▁▁▆▆▆▆▃▄▄▄▃▇</td></tr><tr><td>train loss</td><td>█▆▆▄▂▆▅▅▄▄▂▅▄▁▆▄▄▂▂▄▅▅▄▄▃▅▅▄▃▁▅▅▃▂█▇▇▂▆▄</td></tr><tr><td>train_accuracy</td><td>▄▄▄▂▃▄▂▄▄▄▇▇▇▃▃▆▂▂▃▆█▁▁▄▅▁▁▂▄▅▂▆▆▃▄▄▄▁▁▂</td></tr></table><br/></div><div class=\"wandb-col\"><h3>Run summary:</h3><br/><table class=\"wandb\"><tr><td>epoch</td><td>49</td></tr><tr><td>fold index</td><td>10</td></tr><tr><td>test_accuracy</td><td>2.56887</td></tr><tr><td>train loss</td><td>5.77481</td></tr><tr><td>train_accuracy</td><td>2.47605</td></tr></table><br/></div></div>"
      ],
      "text/plain": [
       "<IPython.core.display.HTML object>"
      ]
     },
     "metadata": {},
     "output_type": "display_data"
    },
    {
     "data": {
      "text/html": [
       " View run <strong style=\"color:#cdcd00\">2.1-Sigmoid-BGD</strong> at: <a href='https://wandb.ai/ketakishetye0619-iiit-hyderabad/SMAI-A2/runs/my2hu012' target=\"_blank\">https://wandb.ai/ketakishetye0619-iiit-hyderabad/SMAI-A2/runs/my2hu012</a><br> View project at: <a href='https://wandb.ai/ketakishetye0619-iiit-hyderabad/SMAI-A2' target=\"_blank\">https://wandb.ai/ketakishetye0619-iiit-hyderabad/SMAI-A2</a><br>Synced 5 W&B file(s), 0 media file(s), 0 artifact file(s) and 0 other file(s)"
      ],
      "text/plain": [
       "<IPython.core.display.HTML object>"
      ]
     },
     "metadata": {},
     "output_type": "display_data"
    },
    {
     "data": {
      "text/html": [
       "Find logs at: <code>.\\wandb\\run-20250313_021110-my2hu012\\logs</code>"
      ],
      "text/plain": [
       "<IPython.core.display.HTML object>"
      ]
     },
     "metadata": {},
     "output_type": "display_data"
    }
   ],
   "source": [
    "wandb.init(project=\"SMAI-A2\", name=\"2.1-Sigmoid-BGD\")\n",
    "\n",
    "fold_dirs = [f'Symbols/classification-task/fold-{i}' for i in range(1, 11)]\n",
    "\n",
    "test_accuracies=[]\n",
    "for fold_index,fold in enumerate(fold_dirs):\n",
    "    print(\"Loading Data\")\n",
    "    train_path = os.path.join(fold, 'train.csv')\n",
    "    test_path = os.path.join(fold, 'test.csv')\n",
    "    x_train,y_train=load_data(train_path)\n",
    "    x_test,y_test=load_data(test_path)\n",
    "    \n",
    "    encoder = OneHotEncoder(sparse_output=False)\n",
    "    y_train = encoder.fit_transform(y_train)\n",
    "    encoder = OneHotEncoder(sparse_output=False)\n",
    "    y_test = encoder.fit_transform(y_test)\n",
    "    \n",
    "    output_dim=y_train.shape[1]\n",
    "    \n",
    "    print(\"Initialising model\")\n",
    "    model = MLP(input_dim, hidden_dim, output_dim,activation)   \n",
    "    model.train(x_train,y_train,num_epochs,learning_rate,x_test,y_test,fold_index,batch_size)\n",
    "    y_pred_test=model.predict(x_test)\n",
    "    test_accuracy=model.calculate_test_accuracy(y_test,y_pred_test)\n",
    "    test_accuracies.append(test_accuracy)\n",
    "    \n",
    "print(f\"Mean test accuracy:{np.mean(test_accuracies)} ,Standard deviation:{np.std(test_accuracies)}\")\n",
    "wandb.finish()"
   ]
  },
  {
   "cell_type": "code",
   "execution_count": 4,
   "metadata": {},
   "outputs": [],
   "source": [
    "np.random.seed(42)\n",
    "input_dim=1024\n",
    "hidden_dim=512\n",
    "learning_rate=0.01\n",
    "num_epochs=3\n",
    "activation='sigmoid'\n",
    "batch_size=1"
   ]
  },
  {
   "cell_type": "code",
   "execution_count": 5,
   "metadata": {},
   "outputs": [
    {
     "data": {
      "text/html": [
       "Tracking run with wandb version 0.19.8"
      ],
      "text/plain": [
       "<IPython.core.display.HTML object>"
      ]
     },
     "metadata": {},
     "output_type": "display_data"
    },
    {
     "data": {
      "text/html": [
       "Run data is saved locally in <code>d:\\SMAI\\Assignments\\A2\\wandb\\run-20250316_002131-lbmfv22v</code>"
      ],
      "text/plain": [
       "<IPython.core.display.HTML object>"
      ]
     },
     "metadata": {},
     "output_type": "display_data"
    },
    {
     "data": {
      "text/html": [
       "Syncing run <strong><a href='https://wandb.ai/ketakishetye0619-iiit-hyderabad/SMAI-A2/runs/lbmfv22v' target=\"_blank\">2.1-Sigmoid-SGD</a></strong> to <a href='https://wandb.ai/ketakishetye0619-iiit-hyderabad/SMAI-A2' target=\"_blank\">Weights & Biases</a> (<a href='https://wandb.me/developer-guide' target=\"_blank\">docs</a>)<br>"
      ],
      "text/plain": [
       "<IPython.core.display.HTML object>"
      ]
     },
     "metadata": {},
     "output_type": "display_data"
    },
    {
     "data": {
      "text/html": [
       " View project at <a href='https://wandb.ai/ketakishetye0619-iiit-hyderabad/SMAI-A2' target=\"_blank\">https://wandb.ai/ketakishetye0619-iiit-hyderabad/SMAI-A2</a>"
      ],
      "text/plain": [
       "<IPython.core.display.HTML object>"
      ]
     },
     "metadata": {},
     "output_type": "display_data"
    },
    {
     "data": {
      "text/html": [
       " View run at <a href='https://wandb.ai/ketakishetye0619-iiit-hyderabad/SMAI-A2/runs/lbmfv22v' target=\"_blank\">https://wandb.ai/ketakishetye0619-iiit-hyderabad/SMAI-A2/runs/lbmfv22v</a>"
      ],
      "text/plain": [
       "<IPython.core.display.HTML object>"
      ]
     },
     "metadata": {},
     "output_type": "display_data"
    },
    {
     "name": "stdout",
     "output_type": "stream",
     "text": [
      "Loading Data\n",
      "Initialising model\n"
     ]
    },
    {
     "name": "stderr",
     "output_type": "stream",
     "text": [
      "Fold 1/10:  33%|████████████████▋                                 | 1/3 [05:21<10:43, 321.72s/epoch]"
     ]
    },
    {
     "name": "stdout",
     "output_type": "stream",
     "text": [
      "Epoch: 0,Loss:2.3948914570499915\n",
      "Train Accuracy:48.915307357131994,Test Accuracy:61.4289077212806\n"
     ]
    },
    {
     "name": "stderr",
     "output_type": "stream",
     "text": [
      "Fold 1/10: 100%|██████████████████████████████████████████████████| 3/3 [19:33<00:00, 391.27s/epoch]\n"
     ]
    },
    {
     "name": "stdout",
     "output_type": "stream",
     "text": [
      "Loading Data\n",
      "Initialising model\n"
     ]
    },
    {
     "name": "stderr",
     "output_type": "stream",
     "text": [
      "Fold 2/10:  33%|████████████████▋                                 | 1/3 [07:06<14:13, 426.97s/epoch]"
     ]
    },
    {
     "name": "stdout",
     "output_type": "stream",
     "text": [
      "Epoch: 0,Loss:2.396661149798449\n",
      "Train Accuracy:48.82079213156364,Test Accuracy:62.266155208025964\n"
     ]
    },
    {
     "name": "stderr",
     "output_type": "stream",
     "text": [
      "Fold 2/10: 100%|██████████████████████████████████████████████████| 3/3 [21:28<00:00, 429.39s/epoch]\n"
     ]
    },
    {
     "name": "stdout",
     "output_type": "stream",
     "text": [
      "Loading Data\n",
      "Initialising model\n"
     ]
    },
    {
     "name": "stderr",
     "output_type": "stream",
     "text": [
      "Fold 3/10:  33%|████████████████▋                                 | 1/3 [07:14<14:29, 434.74s/epoch]"
     ]
    },
    {
     "name": "stdout",
     "output_type": "stream",
     "text": [
      "Epoch: 0,Loss:2.3752969916518967\n",
      "Train Accuracy:49.05894792492731,Test Accuracy:61.67445160527405\n"
     ]
    },
    {
     "name": "stderr",
     "output_type": "stream",
     "text": [
      "Fold 3/10: 100%|██████████████████████████████████████████████████| 3/3 [22:26<00:00, 448.95s/epoch]\n"
     ]
    },
    {
     "name": "stdout",
     "output_type": "stream",
     "text": [
      "Loading Data\n",
      "Initialising model\n"
     ]
    },
    {
     "name": "stderr",
     "output_type": "stream",
     "text": [
      "Fold 4/10:  33%|████████████████▋                                 | 1/3 [07:14<14:28, 434.16s/epoch]"
     ]
    },
    {
     "name": "stdout",
     "output_type": "stream",
     "text": [
      "Epoch: 0,Loss:2.380190418902765\n",
      "Train Accuracy:49.04663116584521,Test Accuracy:60.053333333333335\n"
     ]
    },
    {
     "name": "stderr",
     "output_type": "stream",
     "text": [
      "Fold 4/10: 100%|██████████████████████████████████████████████████| 3/3 [21:31<00:00, 430.51s/epoch]\n"
     ]
    },
    {
     "name": "stdout",
     "output_type": "stream",
     "text": [
      "Loading Data\n",
      "Initialising model\n"
     ]
    },
    {
     "name": "stderr",
     "output_type": "stream",
     "text": [
      "Fold 5/10:  33%|████████████████▋                                 | 1/3 [07:11<14:23, 431.69s/epoch]"
     ]
    },
    {
     "name": "stdout",
     "output_type": "stream",
     "text": [
      "Epoch: 0,Loss:2.385000422949258\n",
      "Train Accuracy:49.08880742428746,Test Accuracy:60.08433305618245\n"
     ]
    },
    {
     "name": "stderr",
     "output_type": "stream",
     "text": [
      "Fold 5/10: 100%|██████████████████████████████████████████████████| 3/3 [22:06<00:00, 442.09s/epoch]\n"
     ]
    },
    {
     "name": "stdout",
     "output_type": "stream",
     "text": [
      "Loading Data\n",
      "Initialising model\n"
     ]
    },
    {
     "name": "stderr",
     "output_type": "stream",
     "text": [
      "Fold 6/10:  33%|████████████████▋                                 | 1/3 [07:15<14:30, 435.26s/epoch]"
     ]
    },
    {
     "name": "stdout",
     "output_type": "stream",
     "text": [
      "Epoch: 0,Loss:2.3856239122103546\n",
      "Train Accuracy:48.98595325677077,Test Accuracy:60.660321237358716\n"
     ]
    },
    {
     "name": "stderr",
     "output_type": "stream",
     "text": [
      "Fold 6/10: 100%|██████████████████████████████████████████████████| 3/3 [22:13<00:00, 444.46s/epoch]\n"
     ]
    },
    {
     "name": "stdout",
     "output_type": "stream",
     "text": [
      "Loading Data\n",
      "Initialising model\n"
     ]
    },
    {
     "name": "stderr",
     "output_type": "stream",
     "text": [
      "Fold 7/10:  33%|████████████████▋                                 | 1/3 [07:03<14:07, 423.78s/epoch]"
     ]
    },
    {
     "name": "stdout",
     "output_type": "stream",
     "text": [
      "Epoch: 0,Loss:2.3779602992243025\n",
      "Train Accuracy:49.06578460888396,Test Accuracy:61.54809469855089\n"
     ]
    },
    {
     "name": "stderr",
     "output_type": "stream",
     "text": [
      "Fold 7/10: 100%|██████████████████████████████████████████████████| 3/3 [21:23<00:00, 427.95s/epoch]\n"
     ]
    },
    {
     "name": "stdout",
     "output_type": "stream",
     "text": [
      "Loading Data\n",
      "Initialising model\n"
     ]
    },
    {
     "name": "stderr",
     "output_type": "stream",
     "text": [
      "Fold 8/10:  33%|████████████████▋                                 | 1/3 [07:15<14:30, 435.21s/epoch]"
     ]
    },
    {
     "name": "stdout",
     "output_type": "stream",
     "text": [
      "Epoch: 0,Loss:2.3846544545632864\n",
      "Train Accuracy:48.84126177384968,Test Accuracy:61.277791059048525\n"
     ]
    },
    {
     "name": "stderr",
     "output_type": "stream",
     "text": [
      "Fold 8/10: 100%|██████████████████████████████████████████████████| 3/3 [21:37<00:00, 432.40s/epoch]\n"
     ]
    },
    {
     "name": "stdout",
     "output_type": "stream",
     "text": [
      "Loading Data\n",
      "Initialising model\n"
     ]
    },
    {
     "name": "stderr",
     "output_type": "stream",
     "text": [
      "Fold 9/10:  33%|████████████████▋                                 | 1/3 [07:10<14:20, 430.00s/epoch]"
     ]
    },
    {
     "name": "stdout",
     "output_type": "stream",
     "text": [
      "Epoch: 0,Loss:2.38006718121859\n",
      "Train Accuracy:49.00122084006995,Test Accuracy:61.94154988621392\n"
     ]
    },
    {
     "name": "stderr",
     "output_type": "stream",
     "text": [
      "Fold 9/10: 100%|██████████████████████████████████████████████████| 3/3 [21:30<00:00, 430.01s/epoch]\n"
     ]
    },
    {
     "name": "stdout",
     "output_type": "stream",
     "text": [
      "Loading Data\n",
      "Initialising model\n"
     ]
    },
    {
     "name": "stderr",
     "output_type": "stream",
     "text": [
      "Fold 10/10:  33%|████████████████▎                                | 1/3 [07:11<14:22, 431.45s/epoch]"
     ]
    },
    {
     "name": "stdout",
     "output_type": "stream",
     "text": [
      "Epoch: 0,Loss:2.3796112093009536\n",
      "Train Accuracy:49.18850447312168,Test Accuracy:60.62061100774263\n"
     ]
    },
    {
     "name": "stderr",
     "output_type": "stream",
     "text": [
      "Fold 10/10: 100%|█████████████████████████████████████████████████| 3/3 [21:27<00:00, 429.31s/epoch]\n"
     ]
    },
    {
     "name": "stdout",
     "output_type": "stream",
     "text": [
      "Mean test accuracy:70.28681640663532 ,Standard deviation:0.3799426231114455\n"
     ]
    },
    {
     "data": {
      "text/html": [],
      "text/plain": [
       "<IPython.core.display.HTML object>"
      ]
     },
     "metadata": {},
     "output_type": "display_data"
    },
    {
     "data": {
      "text/html": [
       "<br>    <style><br>        .wandb-row {<br>            display: flex;<br>            flex-direction: row;<br>            flex-wrap: wrap;<br>            justify-content: flex-start;<br>            width: 100%;<br>        }<br>        .wandb-col {<br>            display: flex;<br>            flex-direction: column;<br>            flex-basis: 100%;<br>            flex: 1;<br>            padding: 10px;<br>        }<br>    </style><br><div class=\"wandb-row\"><div class=\"wandb-col\"><h3>Run history:</h3><br/><table class=\"wandb\"><tr><td>epoch</td><td>▁▅█▁▅█▁▅█▁▅█▁▅█▁▅█▁▅█▁▅█▁▅█▁▅█</td></tr><tr><td>fold index</td><td>▁▁▁▂▂▂▃▃▃▃▃▃▄▄▄▅▅▅▆▆▆▆▆▆▇▇▇███</td></tr><tr><td>test_accuracy</td><td>▂▅█▂▆█▂▆▇▁▆█▁▅█▁▆▇▂▆▇▂▆▇▂▅█▁▅█</td></tr><tr><td>train loss</td><td>█▂▁█▂▁█▂▁█▂▁█▂▁█▂▁█▂▁█▂▁█▂▁█▂▁</td></tr><tr><td>train_accuracy</td><td>▁▆█▁▆█▁▆█▁▆█▁▆█▁▆█▁▆█▁▆█▁▆█▁▆█</td></tr></table><br/></div><div class=\"wandb-col\"><h3>Run summary:</h3><br/><table class=\"wandb\"><tr><td>epoch</td><td>2</td></tr><tr><td>fold index</td><td>10</td></tr><tr><td>test_accuracy</td><td>70.42194</td></tr><tr><td>train loss</td><td>1.17064</td></tr><tr><td>train_accuracy</td><td>70.11585</td></tr></table><br/></div></div>"
      ],
      "text/plain": [
       "<IPython.core.display.HTML object>"
      ]
     },
     "metadata": {},
     "output_type": "display_data"
    },
    {
     "data": {
      "text/html": [
       " View run <strong style=\"color:#cdcd00\">2.1-Sigmoid-SGD</strong> at: <a href='https://wandb.ai/ketakishetye0619-iiit-hyderabad/SMAI-A2/runs/lbmfv22v' target=\"_blank\">https://wandb.ai/ketakishetye0619-iiit-hyderabad/SMAI-A2/runs/lbmfv22v</a><br> View project at: <a href='https://wandb.ai/ketakishetye0619-iiit-hyderabad/SMAI-A2' target=\"_blank\">https://wandb.ai/ketakishetye0619-iiit-hyderabad/SMAI-A2</a><br>Synced 5 W&B file(s), 0 media file(s), 0 artifact file(s) and 0 other file(s)"
      ],
      "text/plain": [
       "<IPython.core.display.HTML object>"
      ]
     },
     "metadata": {},
     "output_type": "display_data"
    },
    {
     "data": {
      "text/html": [
       "Find logs at: <code>.\\wandb\\run-20250316_002131-lbmfv22v\\logs</code>"
      ],
      "text/plain": [
       "<IPython.core.display.HTML object>"
      ]
     },
     "metadata": {},
     "output_type": "display_data"
    }
   ],
   "source": [
    "wandb.init(project=\"SMAI-A2\", name=\"2.1-Sigmoid-SGD\")\n",
    "\n",
    "fold_dirs = [f'Symbols/classification-task/fold-{i}' for i in range(1, 11)]\n",
    "\n",
    "test_accuracies=[]\n",
    "for fold_index,fold in enumerate(fold_dirs):\n",
    "    print(\"Loading Data\")\n",
    "    train_path = os.path.join(fold, 'train.csv')\n",
    "    test_path = os.path.join(fold, 'test.csv')\n",
    "    x_train,y_train=load_data(train_path)\n",
    "    x_test,y_test=load_data(test_path)\n",
    "    \n",
    "    encoder = OneHotEncoder(sparse_output=False)\n",
    "    y_train = encoder.fit_transform(y_train)\n",
    "    encoder = OneHotEncoder(sparse_output=False)\n",
    "    y_test = encoder.fit_transform(y_test)\n",
    "    \n",
    "    output_dim=y_train.shape[1]\n",
    "    \n",
    "    print(\"Initialising model\")\n",
    "    model = MLP(input_dim, hidden_dim, output_dim,activation)   \n",
    "    model.train(x_train,y_train,num_epochs,learning_rate,x_test,y_test,fold_index,batch_size)\n",
    "    y_pred_test=model.predict(x_test)\n",
    "    test_accuracy=model.calculate_test_accuracy(y_test,y_pred_test)\n",
    "    test_accuracies.append(test_accuracy)\n",
    "    \n",
    "print(f\"Mean test accuracy:{np.mean(test_accuracies)} ,Standard deviation:{np.std(test_accuracies)}\")\n",
    "wandb.finish()"
   ]
  },
  {
   "cell_type": "code",
   "execution_count": 5,
   "metadata": {},
   "outputs": [],
   "source": [
    "np.random.seed(42)\n",
    "input_dim=1024\n",
    "hidden_dim=512\n",
    "learning_rate=0.01\n",
    "num_epochs=30\n",
    "activation='sigmoid'\n",
    "batch_size=256"
   ]
  },
  {
   "cell_type": "code",
   "execution_count": 7,
   "metadata": {},
   "outputs": [
    {
     "name": "stdout",
     "output_type": "stream",
     "text": [
      "Loading Data\n",
      "Initialising model\n"
     ]
    },
    {
     "name": "stderr",
     "output_type": "stream",
     "text": [
      "Fold 1/10:   3%|█▋                                                | 1/30 [00:09<04:48,  9.96s/epoch]"
     ]
    },
    {
     "name": "stdout",
     "output_type": "stream",
     "text": [
      "Epoch: 0,Loss:5.456389487491301\n",
      "Train Accuracy:4.343391834187775,Test Accuracy:6.455979284369115\n"
     ]
    },
    {
     "name": "stderr",
     "output_type": "stream",
     "text": [
      "Fold 1/10:  33%|████████████████▎                                | 10/30 [01:36<03:15,  9.77s/epoch]"
     ]
    },
    {
     "name": "stdout",
     "output_type": "stream",
     "text": [
      "Epoch: 9,Loss:4.25527078899339\n",
      "Train Accuracy:23.640446377461256,Test Accuracy:24.017184557438796\n"
     ]
    },
    {
     "name": "stderr",
     "output_type": "stream",
     "text": [
      "Fold 1/10:  67%|████████████████████████████████▋                | 20/30 [03:12<01:34,  9.45s/epoch]"
     ]
    },
    {
     "name": "stdout",
     "output_type": "stream",
     "text": [
      "Epoch: 19,Loss:3.384342873517373\n",
      "Train Accuracy:38.07910597709422,Test Accuracy:38.35922787193974\n"
     ]
    },
    {
     "name": "stderr",
     "output_type": "stream",
     "text": [
      "Fold 1/10: 100%|█████████████████████████████████████████████████| 30/30 [04:45<00:00,  9.53s/epoch]"
     ]
    },
    {
     "name": "stdout",
     "output_type": "stream",
     "text": [
      "Epoch: 29,Loss:2.8721695764917037\n",
      "Train Accuracy:45.145574080738434,Test Accuracy:44.78578154425612\n"
     ]
    },
    {
     "name": "stderr",
     "output_type": "stream",
     "text": [
      "\n"
     ]
    },
    {
     "name": "stdout",
     "output_type": "stream",
     "text": [
      "Loading Data\n",
      "Initialising model\n"
     ]
    },
    {
     "name": "stderr",
     "output_type": "stream",
     "text": [
      "Fold 2/10:   3%|█▋                                                | 1/30 [00:09<04:42,  9.75s/epoch]"
     ]
    },
    {
     "name": "stdout",
     "output_type": "stream",
     "text": [
      "Epoch: 0,Loss:5.471635115490989\n",
      "Train Accuracy:3.9237759947601116,Test Accuracy:6.107996459132488\n"
     ]
    },
    {
     "name": "stderr",
     "output_type": "stream",
     "text": [
      "Fold 2/10:  33%|████████████████▎                                | 10/30 [01:35<03:09,  9.47s/epoch]"
     ]
    },
    {
     "name": "stdout",
     "output_type": "stream",
     "text": [
      "Epoch: 9,Loss:4.276918229528222\n",
      "Train Accuracy:23.15422704819606,Test Accuracy:24.18412511065211\n"
     ]
    },
    {
     "name": "stderr",
     "output_type": "stream",
     "text": [
      "Fold 2/10:  67%|████████████████████████████████▋                | 20/30 [03:09<01:34,  9.49s/epoch]"
     ]
    },
    {
     "name": "stdout",
     "output_type": "stream",
     "text": [
      "Epoch: 19,Loss:3.413538517971245\n",
      "Train Accuracy:37.506780129359754,Test Accuracy:37.89908527589259\n"
     ]
    },
    {
     "name": "stderr",
     "output_type": "stream",
     "text": [
      "Fold 2/10: 100%|█████████████████████████████████████████████████| 30/30 [04:47<00:00,  9.60s/epoch]"
     ]
    },
    {
     "name": "stdout",
     "output_type": "stream",
     "text": [
      "Epoch: 29,Loss:2.89896100522224\n",
      "Train Accuracy:44.606492378964035,Test Accuracy:44.939510179994095\n"
     ]
    },
    {
     "name": "stderr",
     "output_type": "stream",
     "text": [
      "\n"
     ]
    },
    {
     "name": "stdout",
     "output_type": "stream",
     "text": [
      "Loading Data\n",
      "Initialising model\n"
     ]
    },
    {
     "name": "stderr",
     "output_type": "stream",
     "text": [
      "Fold 3/10:   3%|█▋                                                | 1/30 [00:09<04:34,  9.47s/epoch]"
     ]
    },
    {
     "name": "stdout",
     "output_type": "stream",
     "text": [
      "Epoch: 0,Loss:5.477691004504626\n",
      "Train Accuracy:3.542678420608108,Test Accuracy:5.5046414001064266\n"
     ]
    },
    {
     "name": "stderr",
     "output_type": "stream",
     "text": [
      "Fold 3/10:  33%|████████████████▎                                | 10/30 [01:37<03:14,  9.72s/epoch]"
     ]
    },
    {
     "name": "stdout",
     "output_type": "stream",
     "text": [
      "Epoch: 9,Loss:4.269912800485101\n",
      "Train Accuracy:23.56792827984234,Test Accuracy:24.342221959439485\n"
     ]
    },
    {
     "name": "stderr",
     "output_type": "stream",
     "text": [
      "Fold 3/10:  67%|████████████████████████████████▋                | 20/30 [03:14<01:40, 10.08s/epoch]"
     ]
    },
    {
     "name": "stdout",
     "output_type": "stream",
     "text": [
      "Epoch: 19,Loss:3.3963592442787998\n",
      "Train Accuracy:37.89656355574324,Test Accuracy:38.11860698870691\n"
     ]
    },
    {
     "name": "stderr",
     "output_type": "stream",
     "text": [
      "Fold 3/10: 100%|█████████████████████████████████████████████████| 30/30 [04:50<00:00,  9.67s/epoch]"
     ]
    },
    {
     "name": "stdout",
     "output_type": "stream",
     "text": [
      "Epoch: 29,Loss:2.883015551793434\n",
      "Train Accuracy:45.003695101351354,Test Accuracy:44.675693253710165\n"
     ]
    },
    {
     "name": "stderr",
     "output_type": "stream",
     "text": [
      "\n"
     ]
    },
    {
     "name": "stdout",
     "output_type": "stream",
     "text": [
      "Loading Data\n",
      "Initialising model\n"
     ]
    },
    {
     "name": "stderr",
     "output_type": "stream",
     "text": [
      "Fold 4/10:   3%|█▋                                                | 1/30 [00:08<04:10,  8.65s/epoch]"
     ]
    },
    {
     "name": "stdout",
     "output_type": "stream",
     "text": [
      "Epoch: 0,Loss:5.462678384231491\n",
      "Train Accuracy:3.810253991390584,Test Accuracy:5.1792592592592595\n"
     ]
    },
    {
     "name": "stderr",
     "output_type": "stream",
     "text": [
      "Fold 4/10:  33%|████████████████▎                                | 10/30 [01:26<02:54,  8.70s/epoch]"
     ]
    },
    {
     "name": "stdout",
     "output_type": "stream",
     "text": [
      "Epoch: 9,Loss:4.245775760561683\n",
      "Train Accuracy:23.548055048496078,Test Accuracy:24.124444444444446\n"
     ]
    },
    {
     "name": "stderr",
     "output_type": "stream",
     "text": [
      "Fold 4/10:  67%|████████████████████████████████▋                | 20/30 [02:52<01:26,  8.62s/epoch]"
     ]
    },
    {
     "name": "stdout",
     "output_type": "stream",
     "text": [
      "Epoch: 19,Loss:3.3762335820892866\n",
      "Train Accuracy:38.12007887423714,Test Accuracy:38.12148148148148\n"
     ]
    },
    {
     "name": "stderr",
     "output_type": "stream",
     "text": [
      "Fold 4/10: 100%|█████████████████████████████████████████████████| 30/30 [04:16<00:00,  8.54s/epoch]"
     ]
    },
    {
     "name": "stdout",
     "output_type": "stream",
     "text": [
      "Epoch: 29,Loss:2.8658663641495212\n",
      "Train Accuracy:45.17129434121622,Test Accuracy:44.83555555555556\n"
     ]
    },
    {
     "name": "stderr",
     "output_type": "stream",
     "text": [
      "\n"
     ]
    },
    {
     "name": "stdout",
     "output_type": "stream",
     "text": [
      "Loading Data\n",
      "Initialising model\n"
     ]
    },
    {
     "name": "stderr",
     "output_type": "stream",
     "text": [
      "Fold 5/10:   3%|█▋                                                | 1/30 [00:08<03:58,  8.21s/epoch]"
     ]
    },
    {
     "name": "stdout",
     "output_type": "stream",
     "text": [
      "Epoch: 0,Loss:5.45872049805478\n",
      "Train Accuracy:3.801402165659978,Test Accuracy:5.647939185176386\n"
     ]
    },
    {
     "name": "stderr",
     "output_type": "stream",
     "text": [
      "Fold 5/10:  33%|████████████████▎                                | 10/30 [01:25<02:51,  8.56s/epoch]"
     ]
    },
    {
     "name": "stdout",
     "output_type": "stream",
     "text": [
      "Epoch: 9,Loss:4.256875322793866\n",
      "Train Accuracy:23.56302280618687,Test Accuracy:24.248723126262025\n"
     ]
    },
    {
     "name": "stderr",
     "output_type": "stream",
     "text": [
      "Fold 5/10:  67%|████████████████████████████████▋                | 20/30 [02:50<01:25,  8.51s/epoch]"
     ]
    },
    {
     "name": "stdout",
     "output_type": "stream",
     "text": [
      "Epoch: 19,Loss:3.3852622515589657\n",
      "Train Accuracy:38.176622112168985,Test Accuracy:38.14586055350992\n"
     ]
    },
    {
     "name": "stderr",
     "output_type": "stream",
     "text": [
      "Fold 5/10: 100%|█████████████████████████████████████████████████| 30/30 [04:15<00:00,  8.52s/epoch]"
     ]
    },
    {
     "name": "stdout",
     "output_type": "stream",
     "text": [
      "Epoch: 29,Loss:2.874914455675615\n",
      "Train Accuracy:45.12616531659501,Test Accuracy:44.58367977194441\n"
     ]
    },
    {
     "name": "stderr",
     "output_type": "stream",
     "text": [
      "\n"
     ]
    },
    {
     "name": "stdout",
     "output_type": "stream",
     "text": [
      "Loading Data\n",
      "Initialising model\n"
     ]
    },
    {
     "name": "stderr",
     "output_type": "stream",
     "text": [
      "Fold 6/10:   3%|█▋                                                | 1/30 [00:08<03:55,  8.11s/epoch]"
     ]
    },
    {
     "name": "stdout",
     "output_type": "stream",
     "text": [
      "Epoch: 0,Loss:5.463605260635487\n",
      "Train Accuracy:3.791500269339221,Test Accuracy:6.508030933967876\n"
     ]
    },
    {
     "name": "stderr",
     "output_type": "stream",
     "text": [
      "Fold 6/10:  33%|████████████████▎                                | 10/30 [01:25<02:50,  8.52s/epoch]"
     ]
    },
    {
     "name": "stdout",
     "output_type": "stream",
     "text": [
      "Epoch: 9,Loss:4.275787314186831\n",
      "Train Accuracy:23.368538976045436,Test Accuracy:23.991671624033316\n"
     ]
    },
    {
     "name": "stderr",
     "output_type": "stream",
     "text": [
      "Fold 6/10:  67%|████████████████████████████████▋                | 20/30 [02:51<01:27,  8.72s/epoch]"
     ]
    },
    {
     "name": "stdout",
     "output_type": "stream",
     "text": [
      "Epoch: 19,Loss:3.402558180085517\n",
      "Train Accuracy:37.88909230188604,Test Accuracy:37.947650208209396\n"
     ]
    },
    {
     "name": "stderr",
     "output_type": "stream",
     "text": [
      "Fold 6/10: 100%|█████████████████████████████████████████████████| 30/30 [04:17<00:00,  8.60s/epoch]"
     ]
    },
    {
     "name": "stdout",
     "output_type": "stream",
     "text": [
      "Epoch: 29,Loss:2.888394212404664\n",
      "Train Accuracy:44.8683292821611,Test Accuracy:44.4854253420583\n"
     ]
    },
    {
     "name": "stderr",
     "output_type": "stream",
     "text": [
      "\n"
     ]
    },
    {
     "name": "stdout",
     "output_type": "stream",
     "text": [
      "Loading Data\n",
      "Initialising model\n"
     ]
    },
    {
     "name": "stderr",
     "output_type": "stream",
     "text": [
      "Fold 7/10:   3%|█▋                                                | 1/30 [00:08<04:05,  8.48s/epoch]"
     ]
    },
    {
     "name": "stdout",
     "output_type": "stream",
     "text": [
      "Epoch: 0,Loss:5.466443834449366\n",
      "Train Accuracy:4.327824615910553,Test Accuracy:7.317073170731707\n"
     ]
    },
    {
     "name": "stderr",
     "output_type": "stream",
     "text": [
      "Fold 7/10:  33%|████████████████▎                                | 10/30 [01:24<02:48,  8.41s/epoch]"
     ]
    },
    {
     "name": "stdout",
     "output_type": "stream",
     "text": [
      "Epoch: 9,Loss:4.276938580282575\n",
      "Train Accuracy:23.23197569779601,Test Accuracy:23.811795575168464\n"
     ]
    },
    {
     "name": "stderr",
     "output_type": "stream",
     "text": [
      "Fold 7/10:  67%|████████████████████████████████▋                | 20/30 [02:49<01:24,  8.46s/epoch]"
     ]
    },
    {
     "name": "stdout",
     "output_type": "stream",
     "text": [
      "Epoch: 19,Loss:3.4161917573592278\n",
      "Train Accuracy:37.57355639679859,Test Accuracy:37.778042817102985\n"
     ]
    },
    {
     "name": "stderr",
     "output_type": "stream",
     "text": [
      "Fold 7/10: 100%|█████████████████████████████████████████████████| 30/30 [04:16<00:00,  8.56s/epoch]"
     ]
    },
    {
     "name": "stdout",
     "output_type": "stream",
     "text": [
      "Epoch: 29,Loss:2.896396022418367\n",
      "Train Accuracy:44.88184473536036,Test Accuracy:44.88639751923192\n"
     ]
    },
    {
     "name": "stderr",
     "output_type": "stream",
     "text": [
      "\n"
     ]
    },
    {
     "name": "stdout",
     "output_type": "stream",
     "text": [
      "Loading Data\n",
      "Initialising model\n"
     ]
    },
    {
     "name": "stderr",
     "output_type": "stream",
     "text": [
      "Fold 8/10:   3%|█▋                                                | 1/30 [00:08<04:05,  8.46s/epoch]"
     ]
    },
    {
     "name": "stdout",
     "output_type": "stream",
     "text": [
      "Epoch: 0,Loss:5.47447212705356\n",
      "Train Accuracy:3.7939066877471985,Test Accuracy:5.319148936170213\n"
     ]
    },
    {
     "name": "stderr",
     "output_type": "stream",
     "text": [
      "Fold 8/10:  33%|████████████████▎                                | 10/30 [01:24<02:49,  8.47s/epoch]"
     ]
    },
    {
     "name": "stdout",
     "output_type": "stream",
     "text": [
      "Epoch: 9,Loss:4.271829811733566\n",
      "Train Accuracy:23.206189230388926,Test Accuracy:23.87042792254363\n"
     ]
    },
    {
     "name": "stderr",
     "output_type": "stream",
     "text": [
      "Fold 8/10:  67%|████████████████████████████████▋                | 20/30 [02:48<01:23,  8.38s/epoch]"
     ]
    },
    {
     "name": "stdout",
     "output_type": "stream",
     "text": [
      "Epoch: 19,Loss:3.400768082516558\n",
      "Train Accuracy:37.802631375659196,Test Accuracy:38.08271575424337\n"
     ]
    },
    {
     "name": "stderr",
     "output_type": "stream",
     "text": [
      "Fold 8/10: 100%|█████████████████████████████████████████████████| 30/30 [04:13<00:00,  8.44s/epoch]"
     ]
    },
    {
     "name": "stdout",
     "output_type": "stream",
     "text": [
      "Epoch: 29,Loss:2.8821031500368894\n",
      "Train Accuracy:44.85681160390573,Test Accuracy:45.21276595744681\n"
     ]
    },
    {
     "name": "stderr",
     "output_type": "stream",
     "text": [
      "\n"
     ]
    },
    {
     "name": "stdout",
     "output_type": "stream",
     "text": [
      "Loading Data\n",
      "Initialising model\n"
     ]
    },
    {
     "name": "stderr",
     "output_type": "stream",
     "text": [
      "Fold 9/10:   3%|█▋                                                | 1/30 [00:08<04:14,  8.76s/epoch]"
     ]
    },
    {
     "name": "stdout",
     "output_type": "stream",
     "text": [
      "Epoch: 0,Loss:5.444431646595415\n",
      "Train Accuracy:4.1961045282992195,Test Accuracy:6.767277518265661\n"
     ]
    },
    {
     "name": "stderr",
     "output_type": "stream",
     "text": [
      "Fold 9/10:  33%|████████████████▎                                | 10/30 [01:27<02:54,  8.75s/epoch]"
     ]
    },
    {
     "name": "stdout",
     "output_type": "stream",
     "text": [
      "Epoch: 9,Loss:4.258523141164164\n",
      "Train Accuracy:23.47736093343605,Test Accuracy:24.440052700922266\n"
     ]
    },
    {
     "name": "stderr",
     "output_type": "stream",
     "text": [
      "Fold 9/10:  67%|████████████████████████████████▋                | 20/30 [02:57<01:29,  9.00s/epoch]"
     ]
    },
    {
     "name": "stdout",
     "output_type": "stream",
     "text": [
      "Epoch: 19,Loss:3.3935779480849613\n",
      "Train Accuracy:37.834096906628126,Test Accuracy:38.052461372619476\n"
     ]
    },
    {
     "name": "stderr",
     "output_type": "stream",
     "text": [
      "Fold 9/10: 100%|█████████████████████████████████████████████████| 30/30 [04:25<00:00,  8.85s/epoch]"
     ]
    },
    {
     "name": "stdout",
     "output_type": "stream",
     "text": [
      "Epoch: 29,Loss:2.8790269822750547\n",
      "Train Accuracy:44.88377271835774,Test Accuracy:45.08923224338244\n"
     ]
    },
    {
     "name": "stderr",
     "output_type": "stream",
     "text": [
      "\n"
     ]
    },
    {
     "name": "stdout",
     "output_type": "stream",
     "text": [
      "Loading Data\n",
      "Initialising model\n"
     ]
    },
    {
     "name": "stderr",
     "output_type": "stream",
     "text": [
      "Fold 10/10:   3%|█▋                                               | 1/30 [00:08<04:18,  8.92s/epoch]"
     ]
    },
    {
     "name": "stdout",
     "output_type": "stream",
     "text": [
      "Epoch: 0,Loss:5.460161974459674\n",
      "Train Accuracy:4.291473440134907,Test Accuracy:6.338154972690716\n"
     ]
    },
    {
     "name": "stderr",
     "output_type": "stream",
     "text": [
      "Fold 10/10:  33%|████████████████                                | 10/30 [01:30<03:02,  9.13s/epoch]"
     ]
    },
    {
     "name": "stdout",
     "output_type": "stream",
     "text": [
      "Epoch: 9,Loss:4.272441118455042\n",
      "Train Accuracy:23.399689080944352,Test Accuracy:23.798091351059362\n"
     ]
    },
    {
     "name": "stderr",
     "output_type": "stream",
     "text": [
      "Fold 10/10:  67%|████████████████████████████████                | 20/30 [02:59<01:29,  8.94s/epoch]"
     ]
    },
    {
     "name": "stdout",
     "output_type": "stream",
     "text": [
      "Epoch: 19,Loss:3.398588467417247\n",
      "Train Accuracy:37.828309443507585,Test Accuracy:37.71082167937099\n"
     ]
    },
    {
     "name": "stderr",
     "output_type": "stream",
     "text": [
      "Fold 10/10: 100%|████████████████████████████████████████████████| 30/30 [04:30<00:00,  9.00s/epoch]"
     ]
    },
    {
     "name": "stdout",
     "output_type": "stream",
     "text": [
      "Epoch: 29,Loss:2.881095668517601\n",
      "Train Accuracy:44.940319350758855,Test Accuracy:44.77522357601585\n"
     ]
    },
    {
     "name": "stderr",
     "output_type": "stream",
     "text": [
      "\n"
     ]
    },
    {
     "name": "stdout",
     "output_type": "stream",
     "text": [
      "Mean test accuracy:44.82692649435957 ,Standard deviation:0.209043618358431\n"
     ]
    },
    {
     "data": {
      "text/html": [],
      "text/plain": [
       "<IPython.core.display.HTML object>"
      ]
     },
     "metadata": {},
     "output_type": "display_data"
    },
    {
     "data": {
      "text/html": [
       "<br>    <style><br>        .wandb-row {<br>            display: flex;<br>            flex-direction: row;<br>            flex-wrap: wrap;<br>            justify-content: flex-start;<br>            width: 100%;<br>        }<br>        .wandb-col {<br>            display: flex;<br>            flex-direction: column;<br>            flex-basis: 100%;<br>            flex: 1;<br>            padding: 10px;<br>        }<br>    </style><br><div class=\"wandb-row\"><div class=\"wandb-col\"><h3>Run history:</h3><br/><table class=\"wandb\"><tr><td>epoch</td><td>▁▃▅▅▅▆▇█▁▄▇█▁▃▄▆▁▂█▆▃█▁▃▃▅█▄▇▇█▁▂▅▇▂█▄▅▇</td></tr><tr><td>fold index</td><td>▁▁▁▁▁▁▁▁▂▂▃▃▃▃▃▃▃▄▄▄▄▄▄▄▅▅▅▅▅▅▆▆▆▆▇█████</td></tr><tr><td>test_accuracy</td><td>▂▃▄▆▂▇▁▄▅█▇█▃▄▄▅▇▂▃▆▄▅▇█▄▆▆▇██▃▄▆██▇█▂▅▇</td></tr><tr><td>train loss</td><td>▆▄▄▁█▆▃▅▄▂▇▅▄▂▁▇▆▅▄▃▇▅▄▃▂▇▄▁▆▄▂▆▆▄▂▇▅▅▃▁</td></tr><tr><td>train_accuracy</td><td>▆▇▃▄▄▁▄▆▁▄▇▄▅▆▆▂▃▆▆▇█▆▇██▅▇▁▂▅█▁███▂▃▆▆█</td></tr></table><br/></div><div class=\"wandb-col\"><h3>Run summary:</h3><br/><table class=\"wandb\"><tr><td>epoch</td><td>29</td></tr><tr><td>fold index</td><td>10</td></tr><tr><td>test_accuracy</td><td>44.77522</td></tr><tr><td>train loss</td><td>2.8811</td></tr><tr><td>train_accuracy</td><td>44.94032</td></tr></table><br/></div></div>"
      ],
      "text/plain": [
       "<IPython.core.display.HTML object>"
      ]
     },
     "metadata": {},
     "output_type": "display_data"
    },
    {
     "data": {
      "text/html": [
       " View run <strong style=\"color:#cdcd00\">2.1-Sigmoid-MBGD</strong> at: <a href='https://wandb.ai/ketakishetye0619-iiit-hyderabad/SMAI-A2/runs/q5lxli7k' target=\"_blank\">https://wandb.ai/ketakishetye0619-iiit-hyderabad/SMAI-A2/runs/q5lxli7k</a><br> View project at: <a href='https://wandb.ai/ketakishetye0619-iiit-hyderabad/SMAI-A2' target=\"_blank\">https://wandb.ai/ketakishetye0619-iiit-hyderabad/SMAI-A2</a><br>Synced 5 W&B file(s), 0 media file(s), 0 artifact file(s) and 0 other file(s)"
      ],
      "text/plain": [
       "<IPython.core.display.HTML object>"
      ]
     },
     "metadata": {},
     "output_type": "display_data"
    },
    {
     "data": {
      "text/html": [
       "Find logs at: <code>.\\wandb\\run-20250312_202247-q5lxli7k\\logs</code>"
      ],
      "text/plain": [
       "<IPython.core.display.HTML object>"
      ]
     },
     "metadata": {},
     "output_type": "display_data"
    }
   ],
   "source": [
    "wandb.init(project=\"SMAI-A2\", name=\"2.1-Sigmoid-MBGD\")\n",
    "\n",
    "fold_dirs = [f'Symbols/classification-task/fold-{i}' for i in range(1, 11)]\n",
    "\n",
    "test_accuracies=[]\n",
    "for fold_index,fold in enumerate(fold_dirs):\n",
    "    print(\"Loading Data\")\n",
    "    train_path = os.path.join(fold, 'train.csv')\n",
    "    test_path = os.path.join(fold, 'test.csv')\n",
    "    x_train,y_train=load_data(train_path)\n",
    "    x_test,y_test=load_data(test_path)\n",
    "    \n",
    "    encoder = OneHotEncoder(sparse_output=False)\n",
    "    y_train = encoder.fit_transform(y_train)\n",
    "    encoder = OneHotEncoder(sparse_output=False)\n",
    "    y_test = encoder.fit_transform(y_test)\n",
    "    \n",
    "    output_dim=y_train.shape[1]\n",
    "    \n",
    "    print(\"Initialising model\")\n",
    "    model = MLP(input_dim, hidden_dim, output_dim,activation)   \n",
    "    model.train(x_train,y_train,num_epochs,learning_rate,x_test,y_test,fold_index,batch_size)\n",
    "    y_pred_test=model.predict(x_test)\n",
    "    test_accuracy=model.calculate_test_accuracy(y_test,y_pred_test)\n",
    "    test_accuracies.append(test_accuracy)\n",
    "    \n",
    "print(f\"Mean test accuracy:{np.mean(test_accuracies)} ,Standard deviation:{np.std(test_accuracies)}\")\n",
    "wandb.finish()"
   ]
  },
  {
   "cell_type": "code",
   "execution_count": 7,
   "metadata": {},
   "outputs": [],
   "source": [
    "np.random.seed(42)\n",
    "input_dim=1024\n",
    "hidden_dim=512\n",
    "learning_rate=0.01\n",
    "num_epochs=50\n",
    "activation='tanh'\n",
    "batch_size=None"
   ]
  },
  {
   "cell_type": "code",
   "execution_count": 8,
   "metadata": {},
   "outputs": [
    {
     "data": {
      "text/html": [
       "Tracking run with wandb version 0.19.8"
      ],
      "text/plain": [
       "<IPython.core.display.HTML object>"
      ]
     },
     "metadata": {},
     "output_type": "display_data"
    },
    {
     "data": {
      "text/html": [
       "Run data is saved locally in <code>d:\\SMAI\\Assignments\\A2\\wandb\\run-20250313_032852-koijwz9w</code>"
      ],
      "text/plain": [
       "<IPython.core.display.HTML object>"
      ]
     },
     "metadata": {},
     "output_type": "display_data"
    },
    {
     "data": {
      "text/html": [
       "Syncing run <strong><a href='https://wandb.ai/ketakishetye0619-iiit-hyderabad/SMAI-A2/runs/koijwz9w' target=\"_blank\">2.1-Tanh-BGD</a></strong> to <a href='https://wandb.ai/ketakishetye0619-iiit-hyderabad/SMAI-A2' target=\"_blank\">Weights & Biases</a> (<a href='https://wandb.me/developer-guide' target=\"_blank\">docs</a>)<br>"
      ],
      "text/plain": [
       "<IPython.core.display.HTML object>"
      ]
     },
     "metadata": {},
     "output_type": "display_data"
    },
    {
     "data": {
      "text/html": [
       " View project at <a href='https://wandb.ai/ketakishetye0619-iiit-hyderabad/SMAI-A2' target=\"_blank\">https://wandb.ai/ketakishetye0619-iiit-hyderabad/SMAI-A2</a>"
      ],
      "text/plain": [
       "<IPython.core.display.HTML object>"
      ]
     },
     "metadata": {},
     "output_type": "display_data"
    },
    {
     "data": {
      "text/html": [
       " View run at <a href='https://wandb.ai/ketakishetye0619-iiit-hyderabad/SMAI-A2/runs/koijwz9w' target=\"_blank\">https://wandb.ai/ketakishetye0619-iiit-hyderabad/SMAI-A2/runs/koijwz9w</a>"
      ],
      "text/plain": [
       "<IPython.core.display.HTML object>"
      ]
     },
     "metadata": {},
     "output_type": "display_data"
    },
    {
     "name": "stdout",
     "output_type": "stream",
     "text": [
      "Loading Data\n",
      "Initialising model\n"
     ]
    },
    {
     "name": "stderr",
     "output_type": "stream",
     "text": [
      "Fold 1/10:   2%|█                                                 | 1/50 [00:07<06:20,  7.77s/epoch]"
     ]
    },
    {
     "name": "stdout",
     "output_type": "stream",
     "text": [
      "Epoch: 0,Loss:6.452403107465139\n",
      "Train Accuracy:0.37886551927056816,Test Accuracy:0.3295668549905838\n"
     ]
    },
    {
     "name": "stderr",
     "output_type": "stream",
     "text": [
      "Fold 1/10:  20%|█████████▊                                       | 10/50 [01:20<05:21,  8.04s/epoch]"
     ]
    },
    {
     "name": "stdout",
     "output_type": "stream",
     "text": [
      "Epoch: 9,Loss:6.10298970371785\n",
      "Train Accuracy:0.3643191991589582,Test Accuracy:0.3472222222222222\n"
     ]
    },
    {
     "name": "stderr",
     "output_type": "stream",
     "text": [
      "Fold 1/10:  40%|███████████████████▌                             | 20/50 [02:40<04:00,  8.00s/epoch]"
     ]
    },
    {
     "name": "stdout",
     "output_type": "stream",
     "text": [
      "Epoch: 19,Loss:5.869524951083468\n",
      "Train Accuracy:1.406364676245198,Test Accuracy:1.3653483992467044\n"
     ]
    },
    {
     "name": "stderr",
     "output_type": "stream",
     "text": [
      "Fold 1/10:  60%|█████████████████████████████▍                   | 30/50 [04:02<02:47,  8.37s/epoch]"
     ]
    },
    {
     "name": "stdout",
     "output_type": "stream",
     "text": [
      "Epoch: 29,Loss:5.727897585064235\n",
      "Train Accuracy:2.205089889646326,Test Accuracy:2.148069679849341\n"
     ]
    },
    {
     "name": "stderr",
     "output_type": "stream",
     "text": [
      "Fold 1/10:  80%|███████████████████████████████████████▏         | 40/50 [05:22<01:19,  7.99s/epoch]"
     ]
    },
    {
     "name": "stdout",
     "output_type": "stream",
     "text": [
      "Epoch: 39,Loss:5.633478647557381\n",
      "Train Accuracy:2.5733762670175415,Test Accuracy:2.5600282485875705\n"
     ]
    },
    {
     "name": "stderr",
     "output_type": "stream",
     "text": [
      "Fold 1/10: 100%|█████████████████████████████████████████████████| 50/50 [06:41<00:00,  8.04s/epoch]"
     ]
    },
    {
     "name": "stdout",
     "output_type": "stream",
     "text": [
      "Epoch: 49,Loss:5.56531267033076\n",
      "Train Accuracy:2.942985037126176,Test Accuracy:2.9425612052730696\n"
     ]
    },
    {
     "name": "stderr",
     "output_type": "stream",
     "text": [
      "\n"
     ]
    },
    {
     "name": "stdout",
     "output_type": "stream",
     "text": [
      "Loading Data\n",
      "Initialising model\n"
     ]
    },
    {
     "name": "stderr",
     "output_type": "stream",
     "text": [
      "Fold 2/10:   2%|█                                                 | 1/50 [00:08<06:40,  8.17s/epoch]"
     ]
    },
    {
     "name": "stdout",
     "output_type": "stream",
     "text": [
      "Epoch: 0,Loss:6.249830419407768\n",
      "Train Accuracy:0.4924382634445561,Test Accuracy:0.5016228976099144\n"
     ]
    },
    {
     "name": "stderr",
     "output_type": "stream",
     "text": [
      "Fold 2/10:  20%|█████████▊                                       | 10/50 [01:24<05:35,  8.39s/epoch]"
     ]
    },
    {
     "name": "stdout",
     "output_type": "stream",
     "text": [
      "Epoch: 9,Loss:5.9567522553996195\n",
      "Train Accuracy:1.308762096134525,Test Accuracy:1.4104455591619947\n"
     ]
    },
    {
     "name": "stderr",
     "output_type": "stream",
     "text": [
      "Fold 2/10:  40%|███████████████████▌                             | 20/50 [02:48<04:12,  8.41s/epoch]"
     ]
    },
    {
     "name": "stdout",
     "output_type": "stream",
     "text": [
      "Epoch: 19,Loss:5.777531069502031\n",
      "Train Accuracy:2.217624662894612,Test Accuracy:2.342874004131012\n"
     ]
    },
    {
     "name": "stderr",
     "output_type": "stream",
     "text": [
      "Fold 2/10:  60%|█████████████████████████████▍                   | 30/50 [04:13<02:49,  8.46s/epoch]"
     ]
    },
    {
     "name": "stdout",
     "output_type": "stream",
     "text": [
      "Epoch: 29,Loss:5.671910597050149\n",
      "Train Accuracy:2.7265877002802603,Test Accuracy:2.6969607553850694\n"
     ]
    },
    {
     "name": "stderr",
     "output_type": "stream",
     "text": [
      "Fold 2/10:  80%|███████████████████████████████████████▏         | 40/50 [05:38<01:24,  8.48s/epoch]"
     ]
    },
    {
     "name": "stdout",
     "output_type": "stream",
     "text": [
      "Epoch: 39,Loss:5.599521757966145\n",
      "Train Accuracy:3.200518216910793,Test Accuracy:3.245795219828858\n"
     ]
    },
    {
     "name": "stderr",
     "output_type": "stream",
     "text": [
      "Fold 2/10: 100%|█████████████████████████████████████████████████| 50/50 [07:03<00:00,  8.46s/epoch]"
     ]
    },
    {
     "name": "stdout",
     "output_type": "stream",
     "text": [
      "Epoch: 49,Loss:5.544397645479641\n",
      "Train Accuracy:3.6797366612024747,Test Accuracy:3.72971377987607\n"
     ]
    },
    {
     "name": "stderr",
     "output_type": "stream",
     "text": [
      "\n"
     ]
    },
    {
     "name": "stdout",
     "output_type": "stream",
     "text": [
      "Loading Data\n",
      "Initialising model\n"
     ]
    },
    {
     "name": "stderr",
     "output_type": "stream",
     "text": [
      "Fold 3/10:   2%|█                                                 | 1/50 [00:08<07:00,  8.59s/epoch]"
     ]
    },
    {
     "name": "stdout",
     "output_type": "stream",
     "text": [
      "Epoch: 0,Loss:6.414571509274292\n",
      "Train Accuracy:0.14604810996563575,Test Accuracy:0.19511618281795068\n"
     ]
    },
    {
     "name": "stderr",
     "output_type": "stream",
     "text": [
      "Fold 3/10:  20%|█████████▊                                       | 10/50 [01:26<05:42,  8.57s/epoch]"
     ]
    },
    {
     "name": "stdout",
     "output_type": "stream",
     "text": [
      "Epoch: 9,Loss:6.038649081603386\n",
      "Train Accuracy:0.5029077451757864,Test Accuracy:0.6030863832554839\n"
     ]
    },
    {
     "name": "stderr",
     "output_type": "stream",
     "text": [
      "Fold 3/10:  40%|███████████████████▌                             | 20/50 [02:51<04:13,  8.46s/epoch]"
     ]
    },
    {
     "name": "stdout",
     "output_type": "stream",
     "text": [
      "Epoch: 19,Loss:5.801074705393969\n",
      "Train Accuracy:1.6772402854877082,Test Accuracy:1.8802104889729794\n"
     ]
    },
    {
     "name": "stderr",
     "output_type": "stream",
     "text": [
      "Fold 3/10:  60%|█████████████████████████████▍                   | 30/50 [04:17<02:49,  8.46s/epoch]"
     ]
    },
    {
     "name": "stdout",
     "output_type": "stream",
     "text": [
      "Epoch: 29,Loss:5.6668710313183235\n",
      "Train Accuracy:2.800026434047053,Test Accuracy:2.968131023473068\n"
     ]
    },
    {
     "name": "stderr",
     "output_type": "stream",
     "text": [
      "Fold 3/10:  80%|███████████████████████████████████████▏         | 40/50 [05:42<01:24,  8.49s/epoch]"
     ]
    },
    {
     "name": "stdout",
     "output_type": "stream",
     "text": [
      "Epoch: 39,Loss:5.583071990006234\n",
      "Train Accuracy:3.4747554850647635,Test Accuracy:3.736770531543783\n"
     ]
    },
    {
     "name": "stderr",
     "output_type": "stream",
     "text": [
      "Fold 3/10: 100%|█████████████████████████████████████████████████| 50/50 [07:07<00:00,  8.55s/epoch]"
     ]
    },
    {
     "name": "stdout",
     "output_type": "stream",
     "text": [
      "Epoch: 49,Loss:5.523850188383223\n",
      "Train Accuracy:3.9836108908273853,Test Accuracy:4.18021640158458\n"
     ]
    },
    {
     "name": "stderr",
     "output_type": "stream",
     "text": [
      "\n"
     ]
    },
    {
     "name": "stdout",
     "output_type": "stream",
     "text": [
      "Loading Data\n",
      "Initialising model\n"
     ]
    },
    {
     "name": "stderr",
     "output_type": "stream",
     "text": [
      "Fold 4/10:   2%|█                                                 | 1/50 [00:08<07:11,  8.81s/epoch]"
     ]
    },
    {
     "name": "stdout",
     "output_type": "stream",
     "text": [
      "Epoch: 0,Loss:6.386527699427274\n",
      "Train Accuracy:0.23057915670133064,Test Accuracy:0.21333333333333335\n"
     ]
    },
    {
     "name": "stderr",
     "output_type": "stream",
     "text": [
      "Fold 4/10:  20%|█████████▊                                       | 10/50 [01:25<05:36,  8.42s/epoch]"
     ]
    },
    {
     "name": "stdout",
     "output_type": "stream",
     "text": [
      "Epoch: 9,Loss:6.047884924894596\n",
      "Train Accuracy:0.7102366574611186,Test Accuracy:0.7940740740740742\n"
     ]
    },
    {
     "name": "stderr",
     "output_type": "stream",
     "text": [
      "Fold 4/10:  40%|███████████████████▌                             | 20/50 [02:49<04:11,  8.40s/epoch]"
     ]
    },
    {
     "name": "stdout",
     "output_type": "stream",
     "text": [
      "Epoch: 19,Loss:5.823444942348278\n",
      "Train Accuracy:1.620000264274105,Test Accuracy:1.5940740740740742\n"
     ]
    },
    {
     "name": "stderr",
     "output_type": "stream",
     "text": [
      "Fold 4/10:  60%|█████████████████████████████▍                   | 30/50 [04:14<02:49,  8.48s/epoch]"
     ]
    },
    {
     "name": "stdout",
     "output_type": "stream",
     "text": [
      "Epoch: 29,Loss:5.6905704354133855\n",
      "Train Accuracy:1.9589318040671784,Test Accuracy:1.866666666666667\n"
     ]
    },
    {
     "name": "stderr",
     "output_type": "stream",
     "text": [
      "Fold 4/10:  80%|███████████████████████████████████████▏         | 40/50 [05:39<01:24,  8.45s/epoch]"
     ]
    },
    {
     "name": "stdout",
     "output_type": "stream",
     "text": [
      "Epoch: 39,Loss:5.605622465295799\n",
      "Train Accuracy:2.3401472006765416,Test Accuracy:2.311111111111111\n"
     ]
    },
    {
     "name": "stderr",
     "output_type": "stream",
     "text": [
      "Fold 4/10: 100%|█████████████████████████████████████████████████| 50/50 [07:03<00:00,  8.48s/epoch]"
     ]
    },
    {
     "name": "stdout",
     "output_type": "stream",
     "text": [
      "Epoch: 49,Loss:5.544429829907466\n",
      "Train Accuracy:2.863409928778129,Test Accuracy:2.8444444444444446\n"
     ]
    },
    {
     "name": "stderr",
     "output_type": "stream",
     "text": [
      "\n"
     ]
    },
    {
     "name": "stdout",
     "output_type": "stream",
     "text": [
      "Loading Data\n",
      "Initialising model\n"
     ]
    },
    {
     "name": "stderr",
     "output_type": "stream",
     "text": [
      "Fold 5/10:   2%|█                                                 | 1/50 [00:08<06:50,  8.37s/epoch]"
     ]
    },
    {
     "name": "stdout",
     "output_type": "stream",
     "text": [
      "Epoch: 0,Loss:6.3604859441395565\n",
      "Train Accuracy:0.5528584167244625,Test Accuracy:0.5285663380448984\n"
     ]
    },
    {
     "name": "stderr",
     "output_type": "stream",
     "text": [
      "Fold 5/10:  20%|█████████▊                                       | 10/50 [01:25<05:42,  8.56s/epoch]"
     ]
    },
    {
     "name": "stdout",
     "output_type": "stream",
     "text": [
      "Epoch: 9,Loss:5.977018844439641\n",
      "Train Accuracy:0.7972522210112619,Test Accuracy:0.9145979332462287\n"
     ]
    },
    {
     "name": "stderr",
     "output_type": "stream",
     "text": [
      "Fold 5/10:  40%|███████████████████▌                             | 20/50 [02:51<04:16,  8.57s/epoch]"
     ]
    },
    {
     "name": "stdout",
     "output_type": "stream",
     "text": [
      "Epoch: 19,Loss:5.758253420065321\n",
      "Train Accuracy:2.8131708444796724,Test Accuracy:3.0704359187551966\n"
     ]
    },
    {
     "name": "stderr",
     "output_type": "stream",
     "text": [
      "Fold 5/10:  60%|█████████████████████████████▍                   | 30/50 [04:16<02:50,  8.53s/epoch]"
     ]
    },
    {
     "name": "stdout",
     "output_type": "stream",
     "text": [
      "Epoch: 29,Loss:5.644293280427454\n",
      "Train Accuracy:3.550315400112289,Test Accuracy:3.670269628221879\n"
     ]
    },
    {
     "name": "stderr",
     "output_type": "stream",
     "text": [
      "Fold 5/10:  80%|███████████████████████████████████████▏         | 40/50 [05:42<01:26,  8.60s/epoch]"
     ]
    },
    {
     "name": "stdout",
     "output_type": "stream",
     "text": [
      "Epoch: 39,Loss:5.570900396423525\n",
      "Train Accuracy:3.897750916476766,Test Accuracy:4.068179118660174\n"
     ]
    },
    {
     "name": "stderr",
     "output_type": "stream",
     "text": [
      "Fold 5/10: 100%|█████████████████████████████████████████████████| 50/50 [07:07<00:00,  8.55s/epoch]"
     ]
    },
    {
     "name": "stdout",
     "output_type": "stream",
     "text": [
      "Epoch: 49,Loss:5.515843943689826\n",
      "Train Accuracy:4.233957528319958,Test Accuracy:4.365126499584274\n"
     ]
    },
    {
     "name": "stderr",
     "output_type": "stream",
     "text": [
      "\n"
     ]
    },
    {
     "name": "stdout",
     "output_type": "stream",
     "text": [
      "Loading Data\n",
      "Initialising model\n"
     ]
    },
    {
     "name": "stderr",
     "output_type": "stream",
     "text": [
      "Fold 6/10:   2%|█                                                 | 1/50 [00:08<06:58,  8.55s/epoch]"
     ]
    },
    {
     "name": "stdout",
     "output_type": "stream",
     "text": [
      "Epoch: 0,Loss:6.31156482971286\n",
      "Train Accuracy:0.3546356894263091,Test Accuracy:0.5175490779298038\n"
     ]
    },
    {
     "name": "stderr",
     "output_type": "stream",
     "text": [
      "Fold 6/10:  20%|█████████▊                                       | 10/50 [01:25<05:42,  8.55s/epoch]"
     ]
    },
    {
     "name": "stdout",
     "output_type": "stream",
     "text": [
      "Epoch: 9,Loss:6.005171196614349\n",
      "Train Accuracy:1.3610878136082365,Test Accuracy:1.374182034503272\n"
     ]
    },
    {
     "name": "stderr",
     "output_type": "stream",
     "text": [
      "Fold 6/10:  40%|███████████████████▌                             | 20/50 [02:51<04:15,  8.50s/epoch]"
     ]
    },
    {
     "name": "stdout",
     "output_type": "stream",
     "text": [
      "Epoch: 19,Loss:5.807332054634458\n",
      "Train Accuracy:2.1311161448392912,Test Accuracy:2.266508030933968\n"
     ]
    },
    {
     "name": "stderr",
     "output_type": "stream",
     "text": [
      "Fold 6/10:  60%|█████████████████████████████▍                   | 30/50 [04:17<02:53,  8.69s/epoch]"
     ]
    },
    {
     "name": "stdout",
     "output_type": "stream",
     "text": [
      "Epoch: 29,Loss:5.691228441310818\n",
      "Train Accuracy:2.9229377307278286,Test Accuracy:2.908982748364069\n"
     ]
    },
    {
     "name": "stderr",
     "output_type": "stream",
     "text": [
      "Fold 6/10:  80%|███████████████████████████████████████▏         | 40/50 [05:43<01:25,  8.55s/epoch]"
     ]
    },
    {
     "name": "stdout",
     "output_type": "stream",
     "text": [
      "Epoch: 39,Loss:5.6142796254511405\n",
      "Train Accuracy:3.4605046789457345,Test Accuracy:3.521713265913147\n"
     ]
    },
    {
     "name": "stderr",
     "output_type": "stream",
     "text": [
      "Fold 6/10: 100%|█████████████████████████████████████████████████| 50/50 [07:08<00:00,  8.57s/epoch]"
     ]
    },
    {
     "name": "stdout",
     "output_type": "stream",
     "text": [
      "Epoch: 49,Loss:5.55699434543769\n",
      "Train Accuracy:3.955145519504963,Test Accuracy:3.896490184414039\n"
     ]
    },
    {
     "name": "stderr",
     "output_type": "stream",
     "text": [
      "\n"
     ]
    },
    {
     "name": "stdout",
     "output_type": "stream",
     "text": [
      "Loading Data\n",
      "Initialising model\n"
     ]
    },
    {
     "name": "stderr",
     "output_type": "stream",
     "text": [
      "Fold 7/10:   2%|█                                                 | 1/50 [00:08<07:13,  8.84s/epoch]"
     ]
    },
    {
     "name": "stdout",
     "output_type": "stream",
     "text": [
      "Epoch: 0,Loss:6.353178324298245\n",
      "Train Accuracy:0.21193154809063539,Test Accuracy:0.256425547140557\n"
     ]
    },
    {
     "name": "stderr",
     "output_type": "stream",
     "text": [
      "Fold 7/10:  20%|█████████▊                                       | 10/50 [01:26<05:39,  8.48s/epoch]"
     ]
    },
    {
     "name": "stdout",
     "output_type": "stream",
     "text": [
      "Epoch: 9,Loss:6.010841360043817\n",
      "Train Accuracy:1.1481276078804206,Test Accuracy:1.449102510585008\n"
     ]
    },
    {
     "name": "stderr",
     "output_type": "stream",
     "text": [
      "Fold 7/10:  40%|███████████████████▌                             | 20/50 [02:52<04:15,  8.52s/epoch]"
     ]
    },
    {
     "name": "stdout",
     "output_type": "stream",
     "text": [
      "Epoch: 19,Loss:5.806104507892963\n",
      "Train Accuracy:2.840278878149263,Test Accuracy:2.862424712266683\n"
     ]
    },
    {
     "name": "stderr",
     "output_type": "stream",
     "text": [
      "Fold 7/10:  60%|█████████████████████████████▍                   | 30/50 [04:16<02:48,  8.41s/epoch]"
     ]
    },
    {
     "name": "stdout",
     "output_type": "stream",
     "text": [
      "Epoch: 29,Loss:5.687021187429997\n",
      "Train Accuracy:3.195478793640733,Test Accuracy:3.1128868745900173\n"
     ]
    },
    {
     "name": "stderr",
     "output_type": "stream",
     "text": [
      "Fold 7/10:  80%|███████████████████████████████████████▏         | 40/50 [05:41<01:26,  8.65s/epoch]"
     ]
    },
    {
     "name": "stdout",
     "output_type": "stream",
     "text": [
      "Epoch: 39,Loss:5.606835926774418\n",
      "Train Accuracy:3.4225954682300745,Test Accuracy:3.3752758065477964\n"
     ]
    },
    {
     "name": "stderr",
     "output_type": "stream",
     "text": [
      "Fold 7/10: 100%|█████████████████████████████████████████████████| 50/50 [07:05<00:00,  8.52s/epoch]"
     ]
    },
    {
     "name": "stdout",
     "output_type": "stream",
     "text": [
      "Epoch: 49,Loss:5.547818562466391\n",
      "Train Accuracy:3.672159721121851,Test Accuracy:3.6018844296022423\n"
     ]
    },
    {
     "name": "stderr",
     "output_type": "stream",
     "text": [
      "\n"
     ]
    },
    {
     "name": "stdout",
     "output_type": "stream",
     "text": [
      "Loading Data\n",
      "Initialising model\n"
     ]
    },
    {
     "name": "stderr",
     "output_type": "stream",
     "text": [
      "Fold 8/10:   2%|█                                                 | 1/50 [00:08<07:04,  8.66s/epoch]"
     ]
    },
    {
     "name": "stdout",
     "output_type": "stream",
     "text": [
      "Epoch: 0,Loss:6.372185497957818\n",
      "Train Accuracy:0.1881175701810549,Test Accuracy:0.2091800143437724\n"
     ]
    },
    {
     "name": "stderr",
     "output_type": "stream",
     "text": [
      "Fold 8/10:  20%|█████████▊                                       | 10/50 [01:26<05:44,  8.62s/epoch]"
     ]
    },
    {
     "name": "stdout",
     "output_type": "stream",
     "text": [
      "Epoch: 9,Loss:6.0143237117578785\n",
      "Train Accuracy:0.5155081484610663,Test Accuracy:0.5797274683241692\n"
     ]
    },
    {
     "name": "stderr",
     "output_type": "stream",
     "text": [
      "Fold 8/10:  40%|███████████████████▌                             | 20/50 [02:51<04:15,  8.51s/epoch]"
     ]
    },
    {
     "name": "stdout",
     "output_type": "stream",
     "text": [
      "Epoch: 19,Loss:5.800006373519716\n",
      "Train Accuracy:2.083154566636524,Test Accuracy:2.1336361463064786\n"
     ]
    },
    {
     "name": "stderr",
     "output_type": "stream",
     "text": [
      "Fold 8/10:  60%|█████████████████████████████▍                   | 30/50 [04:17<02:51,  8.58s/epoch]"
     ]
    },
    {
     "name": "stdout",
     "output_type": "stream",
     "text": [
      "Epoch: 29,Loss:5.678398835462978\n",
      "Train Accuracy:2.98875915010462,Test Accuracy:2.9524264881663878\n"
     ]
    },
    {
     "name": "stderr",
     "output_type": "stream",
     "text": [
      "Fold 8/10:  80%|███████████████████████████████████████▏         | 40/50 [05:43<01:25,  8.54s/epoch]"
     ]
    },
    {
     "name": "stdout",
     "output_type": "stream",
     "text": [
      "Epoch: 39,Loss:5.599694470879489\n",
      "Train Accuracy:3.6673025260559338,Test Accuracy:3.603872818551279\n"
     ]
    },
    {
     "name": "stderr",
     "output_type": "stream",
     "text": [
      "Fold 8/10: 100%|█████████████████████████████████████████████████| 50/50 [07:08<00:00,  8.57s/epoch]"
     ]
    },
    {
     "name": "stdout",
     "output_type": "stream",
     "text": [
      "Epoch: 49,Loss:5.542626510294607\n",
      "Train Accuracy:4.2798397370314385,Test Accuracy:4.201530002390628\n"
     ]
    },
    {
     "name": "stderr",
     "output_type": "stream",
     "text": [
      "\n"
     ]
    },
    {
     "name": "stdout",
     "output_type": "stream",
     "text": [
      "Loading Data\n",
      "Initialising model\n"
     ]
    },
    {
     "name": "stderr",
     "output_type": "stream",
     "text": [
      "Fold 9/10:   2%|█                                                 | 1/50 [00:08<06:47,  8.32s/epoch]"
     ]
    },
    {
     "name": "stdout",
     "output_type": "stream",
     "text": [
      "Epoch: 0,Loss:6.460647129133123\n",
      "Train Accuracy:0.15903916586927114,Test Accuracy:0.1676847526649898\n"
     ]
    },
    {
     "name": "stderr",
     "output_type": "stream",
     "text": [
      "Fold 9/10:  20%|█████████▊                                       | 10/50 [01:27<05:51,  8.79s/epoch]"
     ]
    },
    {
     "name": "stdout",
     "output_type": "stream",
     "text": [
      "Epoch: 9,Loss:6.104996273589846\n",
      "Train Accuracy:0.29828092519879895,Test Accuracy:0.3114145406635525\n"
     ]
    },
    {
     "name": "stderr",
     "output_type": "stream",
     "text": [
      "Fold 9/10:  40%|███████████████████▌                             | 20/50 [02:52<04:15,  8.50s/epoch]"
     ]
    },
    {
     "name": "stdout",
     "output_type": "stream",
     "text": [
      "Epoch: 19,Loss:5.852306440121772\n",
      "Train Accuracy:1.2459167849011779,Test Accuracy:1.622948856150437\n"
     ]
    },
    {
     "name": "stderr",
     "output_type": "stream",
     "text": [
      "Fold 9/10:  60%|█████████████████████████████▍                   | 30/50 [04:17<02:51,  8.56s/epoch]"
     ]
    },
    {
     "name": "stdout",
     "output_type": "stream",
     "text": [
      "Epoch: 29,Loss:5.704069730487616\n",
      "Train Accuracy:3.2804302636354636,Test Accuracy:3.3177626063001555\n"
     ]
    },
    {
     "name": "stderr",
     "output_type": "stream",
     "text": [
      "Fold 9/10:  80%|███████████████████████████████████████▏         | 40/50 [05:42<01:24,  8.49s/epoch]"
     ]
    },
    {
     "name": "stdout",
     "output_type": "stream",
     "text": [
      "Epoch: 39,Loss:5.613653108000002\n",
      "Train Accuracy:3.67505856732768,Test Accuracy:3.7249970056294166\n"
     ]
    },
    {
     "name": "stderr",
     "output_type": "stream",
     "text": [
      "Fold 9/10: 100%|█████████████████████████████████████████████████| 50/50 [07:08<00:00,  8.56s/epoch]"
     ]
    },
    {
     "name": "stdout",
     "output_type": "stream",
     "text": [
      "Epoch: 49,Loss:5.551421651364316\n",
      "Train Accuracy:4.04527006962088,Test Accuracy:4.186130075458139\n"
     ]
    },
    {
     "name": "stderr",
     "output_type": "stream",
     "text": [
      "\n"
     ]
    },
    {
     "name": "stdout",
     "output_type": "stream",
     "text": [
      "Loading Data\n",
      "Initialising model\n"
     ]
    },
    {
     "name": "stderr",
     "output_type": "stream",
     "text": [
      "Fold 10/10:   2%|▉                                                | 1/50 [00:08<07:03,  8.64s/epoch]"
     ]
    },
    {
     "name": "stdout",
     "output_type": "stream",
     "text": [
      "Epoch: 0,Loss:6.418694386489753\n",
      "Train Accuracy:0.14910405615812947,Test Accuracy:0.1500510173458976\n"
     ]
    },
    {
     "name": "stderr",
     "output_type": "stream",
     "text": [
      "Fold 10/10:  20%|█████████▌                                      | 10/50 [01:26<05:47,  8.70s/epoch]"
     ]
    },
    {
     "name": "stdout",
     "output_type": "stream",
     "text": [
      "Epoch: 9,Loss:6.070793114469993\n",
      "Train Accuracy:0.2790752909508352,Test Accuracy:0.3601224416301542\n"
     ]
    },
    {
     "name": "stderr",
     "output_type": "stream",
     "text": [
      "Fold 10/10:  40%|███████████████████▏                            | 20/50 [02:52<04:17,  8.60s/epoch]"
     ]
    },
    {
     "name": "stdout",
     "output_type": "stream",
     "text": [
      "Epoch: 19,Loss:5.842594766661712\n",
      "Train Accuracy:1.6566384292613412,Test Accuracy:1.8306224116199508\n"
     ]
    },
    {
     "name": "stderr",
     "output_type": "stream",
     "text": [
      "Fold 10/10:  60%|████████████████████████████▊                   | 30/50 [04:17<02:48,  8.44s/epoch]"
     ]
    },
    {
     "name": "stdout",
     "output_type": "stream",
     "text": [
      "Epoch: 29,Loss:5.7048429215865735\n",
      "Train Accuracy:2.448341382313356,Test Accuracy:2.508853010023408\n"
     ]
    },
    {
     "name": "stderr",
     "output_type": "stream",
     "text": [
      "Fold 10/10:  80%|██████████████████████████████████████▍         | 40/50 [05:43<01:24,  8.49s/epoch]"
     ]
    },
    {
     "name": "stdout",
     "output_type": "stream",
     "text": [
      "Epoch: 39,Loss:5.615317698651193\n",
      "Train Accuracy:3.0652099332330507,Test Accuracy:2.9830142248364444\n"
     ]
    },
    {
     "name": "stderr",
     "output_type": "stream",
     "text": [
      "Fold 10/10: 100%|████████████████████████████████████████████████| 50/50 [07:07<00:00,  8.56s/epoch]"
     ]
    },
    {
     "name": "stdout",
     "output_type": "stream",
     "text": [
      "Epoch: 49,Loss:5.551788426196373\n",
      "Train Accuracy:3.581796110099491,Test Accuracy:3.4691795210371525\n"
     ]
    },
    {
     "name": "stderr",
     "output_type": "stream",
     "text": [
      "\n"
     ]
    },
    {
     "name": "stdout",
     "output_type": "stream",
     "text": [
      "Mean test accuracy:3.741727654366464 ,Standard deviation:0.5051265951542983\n"
     ]
    },
    {
     "data": {
      "text/html": [],
      "text/plain": [
       "<IPython.core.display.HTML object>"
      ]
     },
     "metadata": {},
     "output_type": "display_data"
    },
    {
     "data": {
      "text/html": [
       "<br>    <style><br>        .wandb-row {<br>            display: flex;<br>            flex-direction: row;<br>            flex-wrap: wrap;<br>            justify-content: flex-start;<br>            width: 100%;<br>        }<br>        .wandb-col {<br>            display: flex;<br>            flex-direction: column;<br>            flex-basis: 100%;<br>            flex: 1;<br>            padding: 10px;<br>        }<br>    </style><br><div class=\"wandb-row\"><div class=\"wandb-col\"><h3>Run history:</h3><br/><table class=\"wandb\"><tr><td>epoch</td><td>▁▃▃▇█▂▃▃▄▅██▁▁▂▃▅▆▇▅▆▅█▃▃▂▄▅▅▆██▁▁▂█▃▃▅█</td></tr><tr><td>fold index</td><td>▁▁▁▁▁▂▂▃▃▃▃▃▃▃▃▄▄▄▄▄▄▅▅▅▅▆▆▆▆▆▆▇▇▇▇▇▇▇██</td></tr><tr><td>test_accuracy</td><td>▁▄▅▆▆▆▇▇▃▆█▁▂▃▅▅▅▆▂▇▃▃▄▇▆▆▇▁▁▆██▁▇█▁▃▆▆▇</td></tr><tr><td>train loss</td><td>▆▅▃▃▂▃▂▁▃▃▁▇▇▅▄▂▁▆▅▂▆▆▅▄▃▂▆▃▂▂▃▂█▅▅▂▄▄▄▂</td></tr><tr><td>train_accuracy</td><td>▁▁▂▃▅▆▆▃▆▆▇▇▇▃▄▄▅▅▆█▅▆▇▇▇▅▆▆▃▆▁▁▂▂▃▇██▁▅</td></tr></table><br/></div><div class=\"wandb-col\"><h3>Run summary:</h3><br/><table class=\"wandb\"><tr><td>epoch</td><td>49</td></tr><tr><td>fold index</td><td>10</td></tr><tr><td>test_accuracy</td><td>3.46918</td></tr><tr><td>train loss</td><td>5.55179</td></tr><tr><td>train_accuracy</td><td>3.5818</td></tr></table><br/></div></div>"
      ],
      "text/plain": [
       "<IPython.core.display.HTML object>"
      ]
     },
     "metadata": {},
     "output_type": "display_data"
    },
    {
     "data": {
      "text/html": [
       " View run <strong style=\"color:#cdcd00\">2.1-Tanh-BGD</strong> at: <a href='https://wandb.ai/ketakishetye0619-iiit-hyderabad/SMAI-A2/runs/koijwz9w' target=\"_blank\">https://wandb.ai/ketakishetye0619-iiit-hyderabad/SMAI-A2/runs/koijwz9w</a><br> View project at: <a href='https://wandb.ai/ketakishetye0619-iiit-hyderabad/SMAI-A2' target=\"_blank\">https://wandb.ai/ketakishetye0619-iiit-hyderabad/SMAI-A2</a><br>Synced 5 W&B file(s), 0 media file(s), 0 artifact file(s) and 0 other file(s)"
      ],
      "text/plain": [
       "<IPython.core.display.HTML object>"
      ]
     },
     "metadata": {},
     "output_type": "display_data"
    },
    {
     "data": {
      "text/html": [
       "Find logs at: <code>.\\wandb\\run-20250313_032852-koijwz9w\\logs</code>"
      ],
      "text/plain": [
       "<IPython.core.display.HTML object>"
      ]
     },
     "metadata": {},
     "output_type": "display_data"
    }
   ],
   "source": [
    "wandb.init(project=\"SMAI-A2\", name=\"2.1-Tanh-BGD\")\n",
    "\n",
    "fold_dirs = [f'Symbols/classification-task/fold-{i}' for i in range(1, 11)]\n",
    "\n",
    "test_accuracies=[]\n",
    "for fold_index,fold in enumerate(fold_dirs):\n",
    "    print(\"Loading Data\")\n",
    "    train_path = os.path.join(fold, 'train.csv')\n",
    "    test_path = os.path.join(fold, 'test.csv')\n",
    "    x_train,y_train=load_data(train_path)\n",
    "    x_test,y_test=load_data(test_path)\n",
    "    \n",
    "    encoder = OneHotEncoder(sparse_output=False)\n",
    "    y_train = encoder.fit_transform(y_train)\n",
    "    encoder = OneHotEncoder(sparse_output=False)\n",
    "    y_test = encoder.fit_transform(y_test)\n",
    "    \n",
    "    output_dim=y_train.shape[1]\n",
    "    \n",
    "    print(\"Initialising model\")\n",
    "    model = MLP(input_dim, hidden_dim, output_dim,activation)   \n",
    "    model.train(x_train,y_train,num_epochs,learning_rate,x_test,y_test,fold_index,batch_size)\n",
    "    y_pred_test=model.predict(x_test)\n",
    "    test_accuracy=model.calculate_test_accuracy(y_test,y_pred_test)\n",
    "    test_accuracies.append(test_accuracy)\n",
    "    \n",
    "print(f\"Mean test accuracy:{np.mean(test_accuracies)} ,Standard deviation:{np.std(test_accuracies)}\")\n",
    "wandb.finish()"
   ]
  },
  {
   "cell_type": "code",
   "execution_count": 4,
   "metadata": {},
   "outputs": [],
   "source": [
    "np.random.seed(42)\n",
    "input_dim=1024\n",
    "hidden_dim=512\n",
    "learning_rate=0.01\n",
    "num_epochs=3\n",
    "activation='tanh'\n",
    "batch_size=1"
   ]
  },
  {
   "cell_type": "code",
   "execution_count": 5,
   "metadata": {},
   "outputs": [
    {
     "data": {
      "text/html": [
       "Tracking run with wandb version 0.19.8"
      ],
      "text/plain": [
       "<IPython.core.display.HTML object>"
      ]
     },
     "metadata": {},
     "output_type": "display_data"
    },
    {
     "data": {
      "text/html": [
       "Run data is saved locally in <code>d:\\SMAI\\Assignments\\A2\\wandb\\run-20250315_204914-960mhh9u</code>"
      ],
      "text/plain": [
       "<IPython.core.display.HTML object>"
      ]
     },
     "metadata": {},
     "output_type": "display_data"
    },
    {
     "data": {
      "text/html": [
       "Syncing run <strong><a href='https://wandb.ai/ketakishetye0619-iiit-hyderabad/SMAI-A2/runs/960mhh9u' target=\"_blank\">2.1-Tanh-SGD</a></strong> to <a href='https://wandb.ai/ketakishetye0619-iiit-hyderabad/SMAI-A2' target=\"_blank\">Weights & Biases</a> (<a href='https://wandb.me/developer-guide' target=\"_blank\">docs</a>)<br>"
      ],
      "text/plain": [
       "<IPython.core.display.HTML object>"
      ]
     },
     "metadata": {},
     "output_type": "display_data"
    },
    {
     "data": {
      "text/html": [
       " View project at <a href='https://wandb.ai/ketakishetye0619-iiit-hyderabad/SMAI-A2' target=\"_blank\">https://wandb.ai/ketakishetye0619-iiit-hyderabad/SMAI-A2</a>"
      ],
      "text/plain": [
       "<IPython.core.display.HTML object>"
      ]
     },
     "metadata": {},
     "output_type": "display_data"
    },
    {
     "data": {
      "text/html": [
       " View run at <a href='https://wandb.ai/ketakishetye0619-iiit-hyderabad/SMAI-A2/runs/960mhh9u' target=\"_blank\">https://wandb.ai/ketakishetye0619-iiit-hyderabad/SMAI-A2/runs/960mhh9u</a>"
      ],
      "text/plain": [
       "<IPython.core.display.HTML object>"
      ]
     },
     "metadata": {},
     "output_type": "display_data"
    },
    {
     "name": "stdout",
     "output_type": "stream",
     "text": [
      "Loading Data\n",
      "Initialising model\n"
     ]
    },
    {
     "name": "stderr",
     "output_type": "stream",
     "text": [
      "Fold 1/10:  33%|████████████████▋                                 | 1/3 [06:23<12:47, 383.70s/epoch]"
     ]
    },
    {
     "name": "stdout",
     "output_type": "stream",
     "text": [
      "Epoch: 0,Loss:3.0902145099197793\n",
      "Train Accuracy:35.4811195376915,Test Accuracy:41.17231638418079\n"
     ]
    },
    {
     "name": "stderr",
     "output_type": "stream",
     "text": [
      "Fold 1/10: 100%|██████████████████████████████████████████████████| 3/3 [17:28<00:00, 349.57s/epoch]\n"
     ]
    },
    {
     "name": "stdout",
     "output_type": "stream",
     "text": [
      "Loading Data\n",
      "Initialising model\n"
     ]
    },
    {
     "name": "stderr",
     "output_type": "stream",
     "text": [
      "Fold 2/10:  33%|████████████████▋                                 | 1/3 [06:48<13:36, 408.43s/epoch]"
     ]
    },
    {
     "name": "stdout",
     "output_type": "stream",
     "text": [
      "Epoch: 0,Loss:3.0973337644235666\n",
      "Train Accuracy:35.34847443286976,Test Accuracy:38.5364414281499\n"
     ]
    },
    {
     "name": "stderr",
     "output_type": "stream",
     "text": [
      "Fold 2/10: 100%|██████████████████████████████████████████████████| 3/3 [17:45<00:00, 355.08s/epoch]\n"
     ]
    },
    {
     "name": "stdout",
     "output_type": "stream",
     "text": [
      "Loading Data\n",
      "Initialising model\n"
     ]
    },
    {
     "name": "stderr",
     "output_type": "stream",
     "text": [
      "Fold 3/10:  33%|████████████████▋                                 | 1/3 [05:29<10:59, 329.54s/epoch]"
     ]
    },
    {
     "name": "stdout",
     "output_type": "stream",
     "text": [
      "Epoch: 0,Loss:3.0765908189793305\n",
      "Train Accuracy:35.674729051017714,Test Accuracy:40.78519482055224\n"
     ]
    },
    {
     "name": "stderr",
     "output_type": "stream",
     "text": [
      "Fold 3/10: 100%|██████████████████████████████████████████████████| 3/3 [17:24<00:00, 348.30s/epoch]\n"
     ]
    },
    {
     "name": "stdout",
     "output_type": "stream",
     "text": [
      "Loading Data\n",
      "Initialising model\n"
     ]
    },
    {
     "name": "stderr",
     "output_type": "stream",
     "text": [
      "Fold 4/10:  33%|████████████████▋                                 | 1/3 [07:13<14:27, 433.73s/epoch]"
     ]
    },
    {
     "name": "stdout",
     "output_type": "stream",
     "text": [
      "Epoch: 0,Loss:3.0676080895785436\n",
      "Train Accuracy:35.94326034963464,Test Accuracy:39.09925925925926\n"
     ]
    },
    {
     "name": "stderr",
     "output_type": "stream",
     "text": [
      "Fold 4/10: 100%|██████████████████████████████████████████████████| 3/3 [22:18<00:00, 446.19s/epoch]\n"
     ]
    },
    {
     "name": "stdout",
     "output_type": "stream",
     "text": [
      "Loading Data\n",
      "Initialising model\n"
     ]
    },
    {
     "name": "stderr",
     "output_type": "stream",
     "text": [
      "Fold 5/10:  33%|████████████████▋                                 | 1/3 [07:32<15:05, 452.68s/epoch]"
     ]
    },
    {
     "name": "stdout",
     "output_type": "stream",
     "text": [
      "Epoch: 0,Loss:3.0734687977636432\n",
      "Train Accuracy:35.91928399220582,Test Accuracy:32.62263926832165\n"
     ]
    },
    {
     "name": "stderr",
     "output_type": "stream",
     "text": [
      "Fold 5/10: 100%|██████████████████████████████████████████████████| 3/3 [22:06<00:00, 442.30s/epoch]\n"
     ]
    },
    {
     "name": "stdout",
     "output_type": "stream",
     "text": [
      "Loading Data\n",
      "Initialising model\n"
     ]
    },
    {
     "name": "stderr",
     "output_type": "stream",
     "text": [
      "Fold 6/10:  33%|████████████████▋                                 | 1/3 [06:41<13:23, 401.68s/epoch]"
     ]
    },
    {
     "name": "stdout",
     "output_type": "stream",
     "text": [
      "Epoch: 0,Loss:3.077384637966962\n",
      "Train Accuracy:35.80565700058776,Test Accuracy:39.63712076145151\n"
     ]
    },
    {
     "name": "stderr",
     "output_type": "stream",
     "text": [
      "Fold 6/10: 100%|██████████████████████████████████████████████████| 3/3 [21:32<00:00, 430.91s/epoch]\n"
     ]
    },
    {
     "name": "stdout",
     "output_type": "stream",
     "text": [
      "Loading Data\n",
      "Initialising model\n"
     ]
    },
    {
     "name": "stderr",
     "output_type": "stream",
     "text": [
      "Fold 7/10:  33%|████████████████▋                                 | 1/3 [05:24<10:48, 324.31s/epoch]"
     ]
    },
    {
     "name": "stdout",
     "output_type": "stream",
     "text": [
      "Epoch: 0,Loss:3.0836161197615137\n",
      "Train Accuracy:35.61374319970422,Test Accuracy:35.89957659967798\n"
     ]
    },
    {
     "name": "stderr",
     "output_type": "stream",
     "text": [
      "Fold 7/10: 100%|██████████████████████████████████████████████████| 3/3 [17:30<00:00, 350.23s/epoch]\n"
     ]
    },
    {
     "name": "stdout",
     "output_type": "stream",
     "text": [
      "Loading Data\n",
      "Initialising model\n"
     ]
    },
    {
     "name": "stderr",
     "output_type": "stream",
     "text": [
      "Fold 8/10:  33%|████████████████▋                                 | 1/3 [06:25<12:51, 385.95s/epoch]"
     ]
    },
    {
     "name": "stdout",
     "output_type": "stream",
     "text": [
      "Epoch: 0,Loss:3.0808405275969903\n",
      "Train Accuracy:35.45851182500446,Test Accuracy:29.297155151804926\n"
     ]
    },
    {
     "name": "stderr",
     "output_type": "stream",
     "text": [
      "Fold 8/10: 100%|██████████████████████████████████████████████████| 3/3 [19:04<00:00, 381.58s/epoch]\n"
     ]
    },
    {
     "name": "stdout",
     "output_type": "stream",
     "text": [
      "Loading Data\n",
      "Initialising model\n"
     ]
    },
    {
     "name": "stderr",
     "output_type": "stream",
     "text": [
      "Fold 9/10:  33%|████████████████▋                                 | 1/3 [07:07<14:15, 427.87s/epoch]"
     ]
    },
    {
     "name": "stdout",
     "output_type": "stream",
     "text": [
      "Epoch: 0,Loss:3.0705745903469297\n",
      "Train Accuracy:35.899957105619166,Test Accuracy:41.99904180141335\n"
     ]
    },
    {
     "name": "stderr",
     "output_type": "stream",
     "text": [
      "Fold 9/10: 100%|██████████████████████████████████████████████████| 3/3 [21:08<00:00, 422.85s/epoch]\n"
     ]
    },
    {
     "name": "stdout",
     "output_type": "stream",
     "text": [
      "Loading Data\n",
      "Initialising model\n"
     ]
    },
    {
     "name": "stderr",
     "output_type": "stream",
     "text": [
      "Fold 10/10:  33%|████████████████▎                                | 1/3 [06:30<13:01, 390.72s/epoch]"
     ]
    },
    {
     "name": "stdout",
     "output_type": "stream",
     "text": [
      "Epoch: 0,Loss:3.0747299135133894\n",
      "Train Accuracy:35.806085556699124,Test Accuracy:38.46107676610047\n"
     ]
    },
    {
     "name": "stderr",
     "output_type": "stream",
     "text": [
      "Fold 10/10: 100%|█████████████████████████████████████████████████| 3/3 [23:46<00:00, 475.40s/epoch]\n"
     ]
    },
    {
     "name": "stdout",
     "output_type": "stream",
     "text": [
      "Mean test accuracy:36.88583153361808 ,Standard deviation:1.642102474282666\n"
     ]
    },
    {
     "data": {
      "text/html": [],
      "text/plain": [
       "<IPython.core.display.HTML object>"
      ]
     },
     "metadata": {},
     "output_type": "display_data"
    },
    {
     "data": {
      "text/html": [
       "<br>    <style><br>        .wandb-row {<br>            display: flex;<br>            flex-direction: row;<br>            flex-wrap: wrap;<br>            justify-content: flex-start;<br>            width: 100%;<br>        }<br>        .wandb-col {<br>            display: flex;<br>            flex-direction: column;<br>            flex-basis: 100%;<br>            flex: 1;<br>            padding: 10px;<br>        }<br>    </style><br><div class=\"wandb-row\"><div class=\"wandb-col\"><h3>Run history:</h3><br/><table class=\"wandb\"><tr><td>epoch</td><td>▁▅█▁▅█▁▅█▁▅█▁▅█▁▅█▁▅█▁▅█▁▅█▁▅█</td></tr><tr><td>fold index</td><td>▁▁▁▂▂▂▃▃▃▃▃▃▄▄▄▅▅▅▆▆▆▆▆▆▇▇▇███</td></tr><tr><td>test_accuracy</td><td>█▅▄▆▇▅▇▆▆▇█▆▃▄▆▇█▅▅▁▄▂▆▆█▄▆▆▅▆</td></tr><tr><td>train loss</td><td>▇▄█▇▂▇▆▃█▆▁▆▆▃▇▆▁▅▇▃▇▇▁▆▆▁▅▆▂▇</td></tr><tr><td>train_accuracy</td><td>▁▆▅▁▆▅▂▇▄▂▇▆▂▅▅▂█▇▂▆▅▁█▆▂█▇▂█▅</td></tr></table><br/></div><div class=\"wandb-col\"><h3>Run summary:</h3><br/><table class=\"wandb\"><tr><td>epoch</td><td>2</td></tr><tr><td>fold index</td><td>10</td></tr><tr><td>test_accuracy</td><td>37.70482</td></tr><tr><td>train loss</td><td>3.08315</td></tr><tr><td>train_accuracy</td><td>37.055</td></tr></table><br/></div></div>"
      ],
      "text/plain": [
       "<IPython.core.display.HTML object>"
      ]
     },
     "metadata": {},
     "output_type": "display_data"
    },
    {
     "data": {
      "text/html": [
       " View run <strong style=\"color:#cdcd00\">2.1-Tanh-SGD</strong> at: <a href='https://wandb.ai/ketakishetye0619-iiit-hyderabad/SMAI-A2/runs/960mhh9u' target=\"_blank\">https://wandb.ai/ketakishetye0619-iiit-hyderabad/SMAI-A2/runs/960mhh9u</a><br> View project at: <a href='https://wandb.ai/ketakishetye0619-iiit-hyderabad/SMAI-A2' target=\"_blank\">https://wandb.ai/ketakishetye0619-iiit-hyderabad/SMAI-A2</a><br>Synced 5 W&B file(s), 0 media file(s), 0 artifact file(s) and 0 other file(s)"
      ],
      "text/plain": [
       "<IPython.core.display.HTML object>"
      ]
     },
     "metadata": {},
     "output_type": "display_data"
    },
    {
     "data": {
      "text/html": [
       "Find logs at: <code>.\\wandb\\run-20250315_204914-960mhh9u\\logs</code>"
      ],
      "text/plain": [
       "<IPython.core.display.HTML object>"
      ]
     },
     "metadata": {},
     "output_type": "display_data"
    }
   ],
   "source": [
    "wandb.init(project=\"SMAI-A2\", name=\"2.1-Tanh-SGD\")\n",
    "\n",
    "fold_dirs = [f'Symbols/classification-task/fold-{i}' for i in range(1, 11)]\n",
    "\n",
    "test_accuracies=[]\n",
    "for fold_index,fold in enumerate(fold_dirs):\n",
    "    print(\"Loading Data\")\n",
    "    train_path = os.path.join(fold, 'train.csv')\n",
    "    test_path = os.path.join(fold, 'test.csv')\n",
    "    x_train,y_train=load_data(train_path)\n",
    "    x_test,y_test=load_data(test_path)\n",
    "    \n",
    "    encoder = OneHotEncoder(sparse_output=False)\n",
    "    y_train = encoder.fit_transform(y_train)\n",
    "    encoder = OneHotEncoder(sparse_output=False)\n",
    "    y_test = encoder.fit_transform(y_test)\n",
    "    \n",
    "    output_dim=y_train.shape[1]\n",
    "    \n",
    "    print(\"Initialising model\")\n",
    "    model = MLP(input_dim, hidden_dim, output_dim,activation)   \n",
    "    model.train(x_train,y_train,num_epochs,learning_rate,x_test,y_test,fold_index,batch_size)\n",
    "    y_pred_test=model.predict(x_test)\n",
    "    test_accuracy=model.calculate_test_accuracy(y_test,y_pred_test)\n",
    "    test_accuracies.append(test_accuracy)\n",
    "    \n",
    "print(f\"Mean test accuracy:{np.mean(test_accuracies)} ,Standard deviation:{np.std(test_accuracies)}\")\n",
    "wandb.finish()"
   ]
  },
  {
   "cell_type": "code",
   "execution_count": 9,
   "metadata": {},
   "outputs": [],
   "source": [
    "np.random.seed(42)\n",
    "input_dim=1024\n",
    "hidden_dim=512\n",
    "learning_rate=0.01\n",
    "num_epochs=30\n",
    "activation='tanh'\n",
    "batch_size=256"
   ]
  },
  {
   "cell_type": "code",
   "execution_count": 10,
   "metadata": {},
   "outputs": [
    {
     "data": {
      "text/html": [
       "Tracking run with wandb version 0.19.8"
      ],
      "text/plain": [
       "<IPython.core.display.HTML object>"
      ]
     },
     "metadata": {},
     "output_type": "display_data"
    },
    {
     "data": {
      "text/html": [
       "Run data is saved locally in <code>d:\\SMAI\\Assignments\\A2\\wandb\\run-20250312_002020-xprwosun</code>"
      ],
      "text/plain": [
       "<IPython.core.display.HTML object>"
      ]
     },
     "metadata": {},
     "output_type": "display_data"
    },
    {
     "data": {
      "text/html": [
       "Syncing run <strong><a href='https://wandb.ai/ketakishetye0619-iiit-hyderabad/SMAI-A2/runs/xprwosun' target=\"_blank\">2.1-Tanh-MBGD</a></strong> to <a href='https://wandb.ai/ketakishetye0619-iiit-hyderabad/SMAI-A2' target=\"_blank\">Weights & Biases</a> (<a href='https://wandb.me/developer-guide' target=\"_blank\">docs</a>)<br>"
      ],
      "text/plain": [
       "<IPython.core.display.HTML object>"
      ]
     },
     "metadata": {},
     "output_type": "display_data"
    },
    {
     "data": {
      "text/html": [
       " View project at <a href='https://wandb.ai/ketakishetye0619-iiit-hyderabad/SMAI-A2' target=\"_blank\">https://wandb.ai/ketakishetye0619-iiit-hyderabad/SMAI-A2</a>"
      ],
      "text/plain": [
       "<IPython.core.display.HTML object>"
      ]
     },
     "metadata": {},
     "output_type": "display_data"
    },
    {
     "data": {
      "text/html": [
       " View run at <a href='https://wandb.ai/ketakishetye0619-iiit-hyderabad/SMAI-A2/runs/xprwosun' target=\"_blank\">https://wandb.ai/ketakishetye0619-iiit-hyderabad/SMAI-A2/runs/xprwosun</a>"
      ],
      "text/plain": [
       "<IPython.core.display.HTML object>"
      ]
     },
     "metadata": {},
     "output_type": "display_data"
    },
    {
     "name": "stdout",
     "output_type": "stream",
     "text": [
      "Loading Data\n",
      "Initialising model\n"
     ]
    },
    {
     "name": "stderr",
     "output_type": "stream",
     "text": [
      "Fold 1/10:   3%|█▋                                                | 1/30 [00:11<05:23, 11.14s/epoch]"
     ]
    },
    {
     "name": "stdout",
     "output_type": "stream",
     "text": [
      "Epoch: 0,Loss:5.131595144341551\n",
      "Train Accuracy:10.402388701585137,Test Accuracy:17.02565913370998\n"
     ]
    },
    {
     "name": "stderr",
     "output_type": "stream",
     "text": [
      "Fold 1/10:  33%|████████████████▎                                | 10/30 [01:54<03:48, 11.42s/epoch]"
     ]
    },
    {
     "name": "stdout",
     "output_type": "stream",
     "text": [
      "Epoch: 9,Loss:2.4737244537414367\n",
      "Train Accuracy:50.19689912325008,Test Accuracy:49.78813559322034\n"
     ]
    },
    {
     "name": "stderr",
     "output_type": "stream",
     "text": [
      "Fold 1/10:  67%|████████████████████████████████▋                | 20/30 [03:47<01:54, 11.49s/epoch]"
     ]
    },
    {
     "name": "stdout",
     "output_type": "stream",
     "text": [
      "Epoch: 19,Loss:1.9301366432508735\n",
      "Train Accuracy:58.299147767928545,Test Accuracy:57.45056497175142\n"
     ]
    },
    {
     "name": "stderr",
     "output_type": "stream",
     "text": [
      "Fold 1/10: 100%|█████████████████████████████████████████████████| 30/30 [05:41<00:00, 11.37s/epoch]"
     ]
    },
    {
     "name": "stdout",
     "output_type": "stream",
     "text": [
      "Epoch: 29,Loss:1.6912643582332405\n",
      "Train Accuracy:62.393421665993216,Test Accuracy:60.86393596986818\n"
     ]
    },
    {
     "name": "stderr",
     "output_type": "stream",
     "text": [
      "\n"
     ]
    },
    {
     "name": "stdout",
     "output_type": "stream",
     "text": [
      "Loading Data\n",
      "Initialising model\n"
     ]
    },
    {
     "name": "stderr",
     "output_type": "stream",
     "text": [
      "Fold 2/10:   3%|█▋                                                | 1/30 [00:10<04:59, 10.31s/epoch]"
     ]
    },
    {
     "name": "stdout",
     "output_type": "stream",
     "text": [
      "Epoch: 0,Loss:5.101188476566265\n",
      "Train Accuracy:11.418015016920474,Test Accuracy:17.432871053408086\n"
     ]
    },
    {
     "name": "stderr",
     "output_type": "stream",
     "text": [
      "Fold 2/10:  33%|████████████████▎                                | 10/30 [01:46<03:27, 10.39s/epoch]"
     ]
    },
    {
     "name": "stdout",
     "output_type": "stream",
     "text": [
      "Epoch: 9,Loss:2.4806816103213127\n",
      "Train Accuracy:49.9603213184324,Test Accuracy:50.40424904101505\n"
     ]
    },
    {
     "name": "stderr",
     "output_type": "stream",
     "text": [
      "Fold 2/10:  67%|████████████████████████████████▋                | 20/30 [03:36<01:51, 11.13s/epoch]"
     ]
    },
    {
     "name": "stdout",
     "output_type": "stream",
     "text": [
      "Epoch: 19,Loss:1.9363695351860064\n",
      "Train Accuracy:58.26911399486928,Test Accuracy:58.064325759811155\n"
     ]
    },
    {
     "name": "stderr",
     "output_type": "stream",
     "text": [
      "Fold 2/10: 100%|█████████████████████████████████████████████████| 30/30 [05:29<00:00, 10.97s/epoch]"
     ]
    },
    {
     "name": "stdout",
     "output_type": "stream",
     "text": [
      "Epoch: 29,Loss:1.696264799425275\n",
      "Train Accuracy:62.183956422957266,Test Accuracy:61.39864266745353\n"
     ]
    },
    {
     "name": "stderr",
     "output_type": "stream",
     "text": [
      "\n"
     ]
    },
    {
     "name": "stdout",
     "output_type": "stream",
     "text": [
      "Loading Data\n",
      "Initialising model\n"
     ]
    },
    {
     "name": "stderr",
     "output_type": "stream",
     "text": [
      "Fold 3/10:   3%|█▋                                                | 1/30 [00:11<05:47, 12.00s/epoch]"
     ]
    },
    {
     "name": "stdout",
     "output_type": "stream",
     "text": [
      "Epoch: 0,Loss:5.113328813940719\n",
      "Train Accuracy:11.018000422297296,Test Accuracy:17.55454384201502\n"
     ]
    },
    {
     "name": "stderr",
     "output_type": "stream",
     "text": [
      "Fold 3/10:  33%|████████████████▎                                | 10/30 [01:56<03:54, 11.73s/epoch]"
     ]
    },
    {
     "name": "stdout",
     "output_type": "stream",
     "text": [
      "Epoch: 9,Loss:2.470515323390326\n",
      "Train Accuracy:50.042229729729726,Test Accuracy:49.86105362738722\n"
     ]
    },
    {
     "name": "stderr",
     "output_type": "stream",
     "text": [
      "Fold 3/10:  67%|████████████████████████████████▋                | 20/30 [03:59<02:03, 12.39s/epoch]"
     ]
    },
    {
     "name": "stdout",
     "output_type": "stream",
     "text": [
      "Epoch: 19,Loss:1.932131702396887\n",
      "Train Accuracy:58.16199500281531,Test Accuracy:57.529710873292736\n"
     ]
    },
    {
     "name": "stderr",
     "output_type": "stream",
     "text": [
      "Fold 3/10: 100%|█████████████████████████████████████████████████| 30/30 [06:32<00:00, 13.08s/epoch]"
     ]
    },
    {
     "name": "stdout",
     "output_type": "stream",
     "text": [
      "Epoch: 29,Loss:1.6946280207677429\n",
      "Train Accuracy:62.22550675675676,Test Accuracy:60.61018151717613\n"
     ]
    },
    {
     "name": "stderr",
     "output_type": "stream",
     "text": [
      "\n"
     ]
    },
    {
     "name": "stdout",
     "output_type": "stream",
     "text": [
      "Loading Data\n",
      "Initialising model\n"
     ]
    },
    {
     "name": "stderr",
     "output_type": "stream",
     "text": [
      "Fold 4/10:   3%|█▋                                                | 1/30 [00:13<06:43, 13.91s/epoch]"
     ]
    },
    {
     "name": "stdout",
     "output_type": "stream",
     "text": [
      "Epoch: 0,Loss:5.118569687423822\n",
      "Train Accuracy:11.107440605928508,Test Accuracy:17.084444444444443\n"
     ]
    },
    {
     "name": "stderr",
     "output_type": "stream",
     "text": [
      "Fold 4/10:  33%|████████████████▎                                | 10/30 [02:42<05:27, 16.37s/epoch]"
     ]
    },
    {
     "name": "stdout",
     "output_type": "stream",
     "text": [
      "Epoch: 9,Loss:2.4751283852056263\n",
      "Train Accuracy:49.946297576558415,Test Accuracy:49.76\n"
     ]
    },
    {
     "name": "stderr",
     "output_type": "stream",
     "text": [
      "Fold 4/10:  67%|████████████████████████████████▋                | 20/30 [05:30<02:47, 16.77s/epoch]"
     ]
    },
    {
     "name": "stdout",
     "output_type": "stream",
     "text": [
      "Epoch: 19,Loss:1.9303996940467483\n",
      "Train Accuracy:58.28496638649739,Test Accuracy:57.32740740740741\n"
     ]
    },
    {
     "name": "stderr",
     "output_type": "stream",
     "text": [
      "Fold 4/10: 100%|█████████████████████████████████████████████████| 30/30 [08:08<00:00, 16.29s/epoch]"
     ]
    },
    {
     "name": "stdout",
     "output_type": "stream",
     "text": [
      "Epoch: 29,Loss:1.6922203075634983\n",
      "Train Accuracy:62.300473041085446,Test Accuracy:60.64000000000001\n"
     ]
    },
    {
     "name": "stderr",
     "output_type": "stream",
     "text": [
      "\n"
     ]
    },
    {
     "name": "stdout",
     "output_type": "stream",
     "text": [
      "Loading Data\n",
      "Initialising model\n"
     ]
    },
    {
     "name": "stderr",
     "output_type": "stream",
     "text": [
      "Fold 5/10:   3%|█▋                                                | 1/30 [00:12<06:10, 12.79s/epoch]"
     ]
    },
    {
     "name": "stdout",
     "output_type": "stream",
     "text": [
      "Epoch: 0,Loss:5.112182311057576\n",
      "Train Accuracy:11.315561388803577,Test Accuracy:17.407055469770757\n"
     ]
    },
    {
     "name": "stderr",
     "output_type": "stream",
     "text": [
      "Fold 5/10:  33%|████████████████▎                                | 10/30 [02:10<04:07, 12.38s/epoch]"
     ]
    },
    {
     "name": "stdout",
     "output_type": "stream",
     "text": [
      "Epoch: 9,Loss:2.477523333042555\n",
      "Train Accuracy:49.938828210312586,Test Accuracy:49.507067347665995\n"
     ]
    },
    {
     "name": "stderr",
     "output_type": "stream",
     "text": [
      "Fold 5/10:  67%|████████████████████████████████▋                | 20/30 [04:51<02:44, 16.42s/epoch]"
     ]
    },
    {
     "name": "stdout",
     "output_type": "stream",
     "text": [
      "Epoch: 19,Loss:1.9305179195312583\n",
      "Train Accuracy:58.24556801119301,Test Accuracy:56.77633923268797\n"
     ]
    },
    {
     "name": "stderr",
     "output_type": "stream",
     "text": [
      "Fold 5/10: 100%|█████████████████████████████████████████████████| 30/30 [06:58<00:00, 13.95s/epoch]"
     ]
    },
    {
     "name": "stdout",
     "output_type": "stream",
     "text": [
      "Epoch: 29,Loss:1.6908440948194072\n",
      "Train Accuracy:62.30694695050163,Test Accuracy:60.32189096092172\n"
     ]
    },
    {
     "name": "stderr",
     "output_type": "stream",
     "text": [
      "\n"
     ]
    },
    {
     "name": "stdout",
     "output_type": "stream",
     "text": [
      "Loading Data\n",
      "Initialising model\n"
     ]
    },
    {
     "name": "stderr",
     "output_type": "stream",
     "text": [
      "Fold 6/10:   3%|█▋                                                | 1/30 [00:11<05:37, 11.65s/epoch]"
     ]
    },
    {
     "name": "stdout",
     "output_type": "stream",
     "text": [
      "Epoch: 0,Loss:5.112077303042446\n",
      "Train Accuracy:10.929779357975102,Test Accuracy:17.555026769779893\n"
     ]
    },
    {
     "name": "stderr",
     "output_type": "stream",
     "text": [
      "Fold 6/10:  33%|████████████████▎                                | 10/30 [01:59<04:01, 12.08s/epoch]"
     ]
    },
    {
     "name": "stdout",
     "output_type": "stream",
     "text": [
      "Epoch: 9,Loss:2.4669655861272903\n",
      "Train Accuracy:49.984158655764524,Test Accuracy:49.71445568114218\n"
     ]
    },
    {
     "name": "stderr",
     "output_type": "stream",
     "text": [
      "Fold 6/10:  67%|████████████████████████████████▋                | 20/30 [04:17<02:37, 15.71s/epoch]"
     ]
    },
    {
     "name": "stdout",
     "output_type": "stream",
     "text": [
      "Epoch: 19,Loss:1.9242625142767018\n",
      "Train Accuracy:58.33254187227336,Test Accuracy:57.06127305175491\n"
     ]
    },
    {
     "name": "stderr",
     "output_type": "stream",
     "text": [
      "Fold 6/10: 100%|█████████████████████████████████████████████████| 30/30 [06:36<00:00, 13.21s/epoch]"
     ]
    },
    {
     "name": "stdout",
     "output_type": "stream",
     "text": [
      "Epoch: 29,Loss:1.687423285409761\n",
      "Train Accuracy:62.42622786264364,Test Accuracy:60.55324211778703\n"
     ]
    },
    {
     "name": "stderr",
     "output_type": "stream",
     "text": [
      "\n"
     ]
    },
    {
     "name": "stdout",
     "output_type": "stream",
     "text": [
      "Loading Data\n",
      "Initialising model\n"
     ]
    },
    {
     "name": "stderr",
     "output_type": "stream",
     "text": [
      "Fold 7/10:   3%|█▋                                                | 1/30 [00:09<04:42,  9.73s/epoch]"
     ]
    },
    {
     "name": "stdout",
     "output_type": "stream",
     "text": [
      "Epoch: 0,Loss:5.11695010772973\n",
      "Train Accuracy:10.959086178812742,Test Accuracy:18.319518158506767\n"
     ]
    },
    {
     "name": "stderr",
     "output_type": "stream",
     "text": [
      "Fold 7/10:  33%|████████████████▎                                | 10/30 [01:50<03:58, 11.91s/epoch]"
     ]
    },
    {
     "name": "stdout",
     "output_type": "stream",
     "text": [
      "Epoch: 9,Loss:2.487558552825456\n",
      "Train Accuracy:49.932822051962674,Test Accuracy:49.8658238416125\n"
     ]
    },
    {
     "name": "stderr",
     "output_type": "stream",
     "text": [
      "Fold 7/10:  67%|████████████████████████████████▋                | 20/30 [04:31<02:40, 16.05s/epoch]"
     ]
    },
    {
     "name": "stdout",
     "output_type": "stream",
     "text": [
      "Epoch: 19,Loss:1.9330691420375377\n",
      "Train Accuracy:58.17000733992921,Test Accuracy:56.95628838928975\n"
     ]
    },
    {
     "name": "stderr",
     "output_type": "stream",
     "text": [
      "Fold 7/10: 100%|█████████████████████████████████████████████████| 30/30 [07:07<00:00, 14.25s/epoch]"
     ]
    },
    {
     "name": "stdout",
     "output_type": "stream",
     "text": [
      "Epoch: 29,Loss:1.6910966346706253\n",
      "Train Accuracy:62.35156752734877,Test Accuracy:60.37330788955811\n"
     ]
    },
    {
     "name": "stderr",
     "output_type": "stream",
     "text": [
      "\n"
     ]
    },
    {
     "name": "stdout",
     "output_type": "stream",
     "text": [
      "Loading Data\n",
      "Initialising model\n"
     ]
    },
    {
     "name": "stderr",
     "output_type": "stream",
     "text": [
      "Fold 8/10:   3%|█▋                                                | 1/30 [00:10<04:57, 10.26s/epoch]"
     ]
    },
    {
     "name": "stdout",
     "output_type": "stream",
     "text": [
      "Epoch: 0,Loss:5.141738233337396\n",
      "Train Accuracy:10.013859848796967,Test Accuracy:16.05307195792493\n"
     ]
    },
    {
     "name": "stderr",
     "output_type": "stream",
     "text": [
      "Fold 8/10:  33%|████████████████▎                                | 10/30 [01:49<03:42, 11.10s/epoch]"
     ]
    },
    {
     "name": "stdout",
     "output_type": "stream",
     "text": [
      "Epoch: 9,Loss:2.4810873639287205\n",
      "Train Accuracy:49.91017491863052,Test Accuracy:50.05378914654555\n"
     ]
    },
    {
     "name": "stderr",
     "output_type": "stream",
     "text": [
      "Fold 8/10:  67%|████████████████████████████████▋                | 20/30 [03:41<01:51, 11.14s/epoch]"
     ]
    },
    {
     "name": "stdout",
     "output_type": "stream",
     "text": [
      "Epoch: 19,Loss:1.9271458592346131\n",
      "Train Accuracy:58.24772693329762,Test Accuracy:57.506574229022235\n"
     ]
    },
    {
     "name": "stderr",
     "output_type": "stream",
     "text": [
      "Fold 8/10: 100%|█████████████████████████████████████████████████| 30/30 [05:30<00:00, 11.01s/epoch]"
     ]
    },
    {
     "name": "stdout",
     "output_type": "stream",
     "text": [
      "Epoch: 29,Loss:1.6859495058522127\n",
      "Train Accuracy:62.33542958450065,Test Accuracy:60.85943103036099\n"
     ]
    },
    {
     "name": "stderr",
     "output_type": "stream",
     "text": [
      "\n"
     ]
    },
    {
     "name": "stdout",
     "output_type": "stream",
     "text": [
      "Loading Data\n",
      "Initialising model\n"
     ]
    },
    {
     "name": "stderr",
     "output_type": "stream",
     "text": [
      "Fold 9/10:   3%|█▋                                                | 1/30 [00:10<05:03, 10.48s/epoch]"
     ]
    },
    {
     "name": "stdout",
     "output_type": "stream",
     "text": [
      "Epoch: 0,Loss:5.114626860098178\n",
      "Train Accuracy:10.752264547170078,Test Accuracy:17.511079171158222\n"
     ]
    },
    {
     "name": "stderr",
     "output_type": "stream",
     "text": [
      "Fold 9/10:  33%|████████████████▎                                | 10/30 [01:45<03:29, 10.45s/epoch]"
     ]
    },
    {
     "name": "stdout",
     "output_type": "stream",
     "text": [
      "Epoch: 9,Loss:2.4794987972274227\n",
      "Train Accuracy:49.842654500735044,Test Accuracy:50.077853635165894\n"
     ]
    },
    {
     "name": "stderr",
     "output_type": "stream",
     "text": [
      "Fold 9/10:  67%|████████████████████████████████▋                | 20/30 [03:30<01:45, 10.58s/epoch]"
     ]
    },
    {
     "name": "stdout",
     "output_type": "stream",
     "text": [
      "Epoch: 19,Loss:1.9285145384663598\n",
      "Train Accuracy:58.11425648729927,Test Accuracy:57.623667505090424\n"
     ]
    },
    {
     "name": "stderr",
     "output_type": "stream",
     "text": [
      "Fold 9/10: 100%|█████████████████████████████████████████████████| 30/30 [05:19<00:00, 10.64s/epoch]"
     ]
    },
    {
     "name": "stdout",
     "output_type": "stream",
     "text": [
      "Epoch: 29,Loss:1.687566627502201\n",
      "Train Accuracy:62.310173278829296,Test Accuracy:60.88154269972452\n"
     ]
    },
    {
     "name": "stderr",
     "output_type": "stream",
     "text": [
      "\n"
     ]
    },
    {
     "name": "stdout",
     "output_type": "stream",
     "text": [
      "Loading Data\n",
      "Initialising model\n"
     ]
    },
    {
     "name": "stderr",
     "output_type": "stream",
     "text": [
      "Fold 10/10:   3%|█▋                                               | 1/30 [00:11<05:40, 11.74s/epoch]"
     ]
    },
    {
     "name": "stdout",
     "output_type": "stream",
     "text": [
      "Epoch: 0,Loss:5.117491390810385\n",
      "Train Accuracy:10.63514439291737,Test Accuracy:16.33755476862133\n"
     ]
    },
    {
     "name": "stderr",
     "output_type": "stream",
     "text": [
      "Fold 10/10:  33%|████████████████                                | 10/30 [02:00<04:00, 12.02s/epoch]"
     ]
    },
    {
     "name": "stdout",
     "output_type": "stream",
     "text": [
      "Epoch: 9,Loss:2.4884281328532407\n",
      "Train Accuracy:49.85204995784149,Test Accuracy:49.198727567372906\n"
     ]
    },
    {
     "name": "stderr",
     "output_type": "stream",
     "text": [
      "Fold 10/10:  67%|████████████████████████████████                | 20/30 [04:01<02:01, 12.18s/epoch]"
     ]
    },
    {
     "name": "stdout",
     "output_type": "stream",
     "text": [
      "Epoch: 19,Loss:1.9337628419475557\n",
      "Train Accuracy:58.12908410623946,Test Accuracy:56.785307004381494\n"
     ]
    },
    {
     "name": "stderr",
     "output_type": "stream",
     "text": [
      "Fold 10/10: 100%|████████████████████████████████████████████████| 30/30 [06:02<00:00, 12.08s/epoch]"
     ]
    },
    {
     "name": "stdout",
     "output_type": "stream",
     "text": [
      "Epoch: 29,Loss:1.6930920321254068\n",
      "Train Accuracy:62.24085687183811,Test Accuracy:59.936378368645336\n"
     ]
    },
    {
     "name": "stderr",
     "output_type": "stream",
     "text": [
      "\n"
     ]
    },
    {
     "name": "stdout",
     "output_type": "stream",
     "text": [
      "Mean test accuracy:60.643855322149555 ,Standard deviation:0.37521297258197034\n"
     ]
    },
    {
     "data": {
      "text/html": [],
      "text/plain": [
       "<IPython.core.display.HTML object>"
      ]
     },
     "metadata": {},
     "output_type": "display_data"
    },
    {
     "data": {
      "text/html": [
       "<br>    <style><br>        .wandb-row {<br>            display: flex;<br>            flex-direction: row;<br>            flex-wrap: wrap;<br>            justify-content: flex-start;<br>            width: 100%;<br>        }<br>        .wandb-col {<br>            display: flex;<br>            flex-direction: column;<br>            flex-basis: 100%;<br>            flex: 1;<br>            padding: 10px;<br>        }<br>    </style><br><div class=\"wandb-row\"><div class=\"wandb-col\"><h3>Run history:</h3><br/><table class=\"wandb\"><tr><td>epoch</td><td>▅▅█▁▄▅▆▁▃▇█▂▃▅▇▇▁▂▃▃▆▇▇█▁▃▅▅▁▄▆▇▃▃▃▅▇▇▃▇</td></tr><tr><td>fold index</td><td>▁▁▁▁▁▂▂▂▂▃▃▃▃▃▃▄▄▄▄▆▆▆▆▆▆▆▆▆▆▆▆▇▇▇██████</td></tr><tr><td>test_accuracy</td><td>▁▆▆▇▇█▁▃▅██▅▆▇▇▇██▆▇▆▆▇█▁▅▆▆▇▇█▄▇█▆▁▄▄▅█</td></tr><tr><td>train loss</td><td>▅▁▁▆▅▃█▅▅▄▁▁▁▇▅▁▁▅▃▂▂▁▁▄▂▁▄▂▁▁▃▂▂▂▁▄▂▂▁▁</td></tr><tr><td>train_accuracy</td><td>▃▄▁▄▅▇▇██▅▆▇██▇▇▇██▅▇█▁▆▇███▄▆▇█▅▇▇██▅▆▇</td></tr></table><br/></div><div class=\"wandb-col\"><h3>Run summary:</h3><br/><table class=\"wandb\"><tr><td>epoch</td><td>29</td></tr><tr><td>fold index</td><td>10</td></tr><tr><td>test_accuracy</td><td>59.93638</td></tr><tr><td>train loss</td><td>1.69309</td></tr><tr><td>train_accuracy</td><td>62.24086</td></tr></table><br/></div></div>"
      ],
      "text/plain": [
       "<IPython.core.display.HTML object>"
      ]
     },
     "metadata": {},
     "output_type": "display_data"
    },
    {
     "data": {
      "text/html": [
       " View run <strong style=\"color:#cdcd00\">2.1-Tanh-MBGD</strong> at: <a href='https://wandb.ai/ketakishetye0619-iiit-hyderabad/SMAI-A2/runs/xprwosun' target=\"_blank\">https://wandb.ai/ketakishetye0619-iiit-hyderabad/SMAI-A2/runs/xprwosun</a><br> View project at: <a href='https://wandb.ai/ketakishetye0619-iiit-hyderabad/SMAI-A2' target=\"_blank\">https://wandb.ai/ketakishetye0619-iiit-hyderabad/SMAI-A2</a><br>Synced 5 W&B file(s), 0 media file(s), 0 artifact file(s) and 0 other file(s)"
      ],
      "text/plain": [
       "<IPython.core.display.HTML object>"
      ]
     },
     "metadata": {},
     "output_type": "display_data"
    },
    {
     "data": {
      "text/html": [
       "Find logs at: <code>.\\wandb\\run-20250312_002020-xprwosun\\logs</code>"
      ],
      "text/plain": [
       "<IPython.core.display.HTML object>"
      ]
     },
     "metadata": {},
     "output_type": "display_data"
    }
   ],
   "source": [
    "wandb.init(project=\"SMAI-A2\", name=\"2.1-Tanh-MBGD\")\n",
    "\n",
    "fold_dirs = [f'Symbols/classification-task/fold-{i}' for i in range(1, 11)]\n",
    "\n",
    "test_accuracies=[]\n",
    "for fold_index,fold in enumerate(fold_dirs):\n",
    "    print(\"Loading Data\")\n",
    "    train_path = os.path.join(fold, 'train.csv')\n",
    "    test_path = os.path.join(fold, 'test.csv')\n",
    "    x_train,y_train=load_data(train_path)\n",
    "    x_test,y_test=load_data(test_path)\n",
    "    \n",
    "    encoder = OneHotEncoder(sparse_output=False)\n",
    "    y_train = encoder.fit_transform(y_train)\n",
    "    encoder = OneHotEncoder(sparse_output=False)\n",
    "    y_test = encoder.fit_transform(y_test)\n",
    "    \n",
    "    output_dim=y_train.shape[1]\n",
    "    \n",
    "    print(\"Initialising model\")\n",
    "    model = MLP(input_dim, hidden_dim, output_dim,activation)   \n",
    "    model.train(x_train,y_train,num_epochs,learning_rate,x_test,y_test,fold_index,batch_size)\n",
    "    y_pred_test=model.predict(x_test)\n",
    "    test_accuracy=model.calculate_test_accuracy(y_test,y_pred_test)\n",
    "    test_accuracies.append(test_accuracy)\n",
    "    \n",
    "print(f\"Mean test accuracy:{np.mean(test_accuracies)} ,Standard deviation:{np.std(test_accuracies)}\")\n",
    "wandb.finish()"
   ]
  },
  {
   "cell_type": "markdown",
   "metadata": {},
   "source": [
    "#### Test Accuracy and Standard Deviation for Different Optimizers and Activations\n",
    "\n",
    "| Activation | Optimizer | Mean Test Accuracy (%) | Standard Deviation |\n",
    "|------------|-----------|------------------------|---------------------|\n",
    "| ReLU      | BGD       | 3.98                   | 0.40                |\n",
    "|           | SGD       | 45.84                  | 1.42                |\n",
    "|           | MBGD      | 61.91                  | 0.81                |\n",
    "| Sigmoid   | BGD       | 2.09                   | 0.51                |\n",
    "|           | SGD       | 36.89                  | 1.64                |\n",
    "|           | MBGD      | 44.83                  | 0.21                |\n",
    "| Tanh      | BGD       | 3.74                   | 0.51                |\n",
    "|           | SGD       | 70.29                  | 0.38                |\n",
    "|           | MBGD      | 60.64                  | 0.38                |\n",
    "\n",
    "#### Training Hyperparameters\n",
    "\n",
    "| Optimizer | Seed | Input Dim | Hidden Dim | Learning Rate | Epochs | Batch Size |\n",
    "|-----------|------|-----------|------------|---------------|--------|------------|\n",
    "| BGD       | 42   | 1024      | 512        | 0.01          | 50     | None       |\n",
    "| MBGD      | 42   | 1024      | 512        | 0.01          | 30     | 256        |\n",
    "| SGD       | 42   | 1024      | 512        | 0.01          | 10     | 1          |\n"
   ]
  },
  {
   "cell_type": "markdown",
   "metadata": {},
   "source": [
    "#### Configurations\n",
    "\n",
    "1. Optimizer Impact on Accuracy\n",
    "   - Batch Gradient Descent (BGD) performed the worst across all activations. This is because it updates weights only after processing the entire dataset, leading to slow convergence and suboptimal results.\n",
    "   - Stochastic Gradient Descent (SGD) significantly improved accuracy compared to BGD. SGD updates weights after each data point, allowing faster learning but also higher variance.\n",
    "   - Mini-Batch Gradient Descent (MBGD) achieved the best accuracy, especially for ReLU (61.91%) and Tanh (60.64%), as it balances between convergence speed and stability by updating weights in mini-batches.\n",
    "\n",
    "2. Activation Function Comparison\n",
    "   - ReLU performed the best overall, especially with MBGD (61.91%), making it the most effective activation.\n",
    "   - Tanh was close to ReLU, showing good performance (60.64%) in MBGD but poor in BGD.\n",
    "   - Sigmoid performed the worst, with slightly low accuracy in MBGD (44.83%) . This may be because it suffers from vanishing gradients.\n",
    "\n",
    "3. \n",
    "   - MBGD had the lowest variance across all cases, proving its stability.\n",
    "   - SGD had the highest variance, suggesting instability due to frequent updates.\n",
    "\n",
    "- ReLU is the best activation, followed by Tanh, while Sigmoid struggles with deeper networks.\n",
    "- MBGD is the best optimizer, balancing performance and stability.\n",
    "- BGD is ineffective for deep networks due to slow learning.\n",
    "- SGD works well but has high variance, making training less stable."
   ]
  },
  {
   "cell_type": "markdown",
   "metadata": {},
   "source": [
    "### Report\n",
    "\n",
    "1. What do the mean and standard deviation tell you about model\n",
    "performance and consistency?\n",
    "\n",
    "Mean tell us the average performance of the model on the test sets across all folds. A higher mean accuracy indicates better generalization to unseen data.\n",
    "standard deviation reflects the consistency of the model’s performance across different folds. Lower standard deviation means more stable training.\n",
    "\n",
    "2. How does a high vs. low standard deviation impact confidence in the model’s generalization?\n",
    "\n",
    "A low standard deviation suggests that the model performs consistently across different subsets of the data, meaning it is more stable and reliable. The accuracy remains constant across all folds on the test data.\n",
    "A high standard deviation indicates that the model's performance varies significantly across folds, which could imply sensitivity to different training data distributions or possiblly overfitting.\n",
    "\n",
    "3. If one configuration has a slightly higher mean accuracy but a significantly higher standard deviation compared to another with marginally lower mean accuracy, which would you choose and why?\n",
    "\n",
    "I would prefer the configuration with the lower standard deviation, even if its mean accuracy is slightly lower. This will ensure better generalisation even on unseen data as a lower standard deviation means that the model's performance is more stable across different folds."
   ]
  },
  {
   "cell_type": "markdown",
   "metadata": {},
   "source": [
    "![Alt Text](Graphs\\2.1_BGD_train_loss.png)\n",
    "![Alt Text](Graphs\\2.1_BGD_train_acc.png)\n",
    "![Alt Text](Graphs\\2.1_BGD_test_acc.png)\n",
    "![Alt Text](Graphs\\2.1._BGD_fold_idx.png)"
   ]
  },
  {
   "cell_type": "markdown",
   "metadata": {},
   "source": [
    "![Alt Text](Graphs\\2.1_MBGD_train_loss.png)\n",
    "![Alt Text](Graphs\\2.1_MBGD_train_acc.png)\n",
    "![Alt Text](Graphs\\2.1_MBGD_test_acc.png)\n",
    "![Alt Text](Graphs\\2.1_MBGD_fold_idx.png)"
   ]
  },
  {
   "cell_type": "markdown",
   "metadata": {},
   "source": [
    "![Alt Text](Graphs\\2.1_SGD_train_loss.png)\n",
    "![Alt Text](Graphs\\2.1_SGD_train_acc.png)\n",
    "![Alt Text](Graphs\\2.1_SGD_test_acc.png)\n",
    "![Alt Text](Graphs\\2.1_SGD_fold_idx.png)"
   ]
  }
 ],
 "metadata": {
  "kernelspec": {
   "display_name": "Python 3",
   "language": "python",
   "name": "python3"
  },
  "language_info": {
   "codemirror_mode": {
    "name": "ipython",
    "version": 3
   },
   "file_extension": ".py",
   "mimetype": "text/x-python",
   "name": "python",
   "nbconvert_exporter": "python",
   "pygments_lexer": "ipython3",
   "version": "3.11.9"
  }
 },
 "nbformat": 4,
 "nbformat_minor": 2
}
