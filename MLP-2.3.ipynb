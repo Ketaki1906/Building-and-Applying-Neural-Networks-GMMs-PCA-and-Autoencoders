{
 "cells": [
  {
   "cell_type": "markdown",
   "metadata": {},
   "source": [
    "## Multi-Label News Article Classification"
   ]
  },
  {
   "cell_type": "code",
   "execution_count": 1,
   "metadata": {},
   "outputs": [
    {
     "name": "stderr",
     "output_type": "stream",
     "text": [
      "\u001b[34m\u001b[1mwandb\u001b[0m: Using wandb-core as the SDK backend.  Please refer to https://wandb.me/wandb-core for more information.\n",
      "\u001b[34m\u001b[1mwandb\u001b[0m: \u001b[33mWARNING\u001b[0m If you're specifying your api key in code, ensure this code is not shared publicly.\n",
      "\u001b[34m\u001b[1mwandb\u001b[0m: \u001b[33mWARNING\u001b[0m Consider setting the WANDB_API_KEY environment variable, or running `wandb login` from the command line.\n",
      "\u001b[34m\u001b[1mwandb\u001b[0m: Appending key for api.wandb.ai to your netrc file: C:\\Users\\Admin\\_netrc\n",
      "\u001b[34m\u001b[1mwandb\u001b[0m: Currently logged in as: \u001b[33mketakishetye0619\u001b[0m (\u001b[33mketakishetye0619-iiit-hyderabad\u001b[0m) to \u001b[32mhttps://api.wandb.ai\u001b[0m. Use \u001b[1m`wandb login --relogin`\u001b[0m to force relogin\n"
     ]
    }
   ],
   "source": [
    "import pandas as pd\n",
    "import numpy as np\n",
    "import re\n",
    "from sklearn.model_selection import train_test_split\n",
    "from collections import Counter\n",
    "from sklearn.preprocessing import MultiLabelBinarizer\n",
    "from tqdm import tqdm\n",
    "import wandb\n",
    "import os\n",
    "from collections import Counter\n",
    "wandb.login(key=\"cb255956b462ea96bcedb0051bc14581a02f25c3\")\n",
    "from sklearn.preprocessing import StandardScaler\n"
   ]
  },
  {
   "cell_type": "markdown",
   "metadata": {},
   "source": [
    "### Data Preprocessing"
   ]
  },
  {
   "cell_type": "code",
   "execution_count": 3,
   "metadata": {},
   "outputs": [
    {
     "name": "stdout",
     "output_type": "stream",
     "text": [
      "document    0\n",
      "category    0\n",
      "dtype: int64\n",
      "document    0\n",
      "category    0\n",
      "dtype: int64\n"
     ]
    }
   ],
   "source": [
    "df_train = pd.read_csv(\"news-article/train.csv\")\n",
    "print(df_train.isnull().sum())\n",
    "df_train.dropna(inplace=True)\n",
    "df_train['category'] = df_train['category'].apply(lambda x: x.split(','))\n",
    "\n",
    "df_test = pd.read_csv(\"news-article/test.csv\")\n",
    "print(df_test.isnull().sum())\n",
    "df_test.dropna(inplace=True)\n",
    "df_test['category'] = df_test['category'].apply(lambda x: x.split(','))\n"
   ]
  },
  {
   "cell_type": "code",
   "execution_count": 4,
   "metadata": {},
   "outputs": [
    {
     "name": "stdout",
     "output_type": "stream",
     "text": [
      "(7769, 90)\n",
      "(3019, 90)\n",
      "Categories: ['acq' 'alum' 'barley' 'bop' 'carcass' 'castor-oil' 'cocoa' 'coconut'\n",
      " 'coconut-oil' 'coffee' 'copper' 'copra-cake' 'corn' 'cotton' 'cotton-oil'\n",
      " 'cpi' 'cpu' 'crude' 'dfl' 'dlr' 'dmk' 'earn' 'fuel' 'gas' 'gnp' 'gold'\n",
      " 'grain' 'groundnut' 'groundnut-oil' 'heat' 'hog' 'housing' 'income'\n",
      " 'instal-debt' 'interest' 'ipi' 'iron-steel' 'jet' 'jobs' 'l-cattle'\n",
      " 'lead' 'lei' 'lin-oil' 'livestock' 'lumber' 'meal-feed' 'money-fx'\n",
      " 'money-supply' 'naphtha' 'nat-gas' 'nickel' 'nkr' 'nzdlr' 'oat' 'oilseed'\n",
      " 'orange' 'palladium' 'palm-oil' 'palmkernel' 'pet-chem' 'platinum'\n",
      " 'potato' 'propane' 'rand' 'rape-oil' 'rapeseed' 'reserves' 'retail'\n",
      " 'rice' 'rubber' 'rye' 'ship' 'silver' 'sorghum' 'soy-meal' 'soy-oil'\n",
      " 'soybean' 'strategic-metal' 'sugar' 'sun-meal' 'sun-oil' 'sunseed' 'tea'\n",
      " 'tin' 'trade' 'veg-oil' 'wheat' 'wpi' 'yen' 'zinc']\n"
     ]
    }
   ],
   "source": [
    "mlb = MultiLabelBinarizer()\n",
    "y_train = mlb.fit_transform(df_train['category'])\n",
    "print(y_train.shape)\n",
    "y_test = mlb.transform(df_test['category'])\n",
    "print(y_test.shape)\n",
    "print(\"Categories:\", mlb.classes_)"
   ]
  },
  {
   "cell_type": "code",
   "execution_count": 5,
   "metadata": {},
   "outputs": [
    {
     "name": "stdout",
     "output_type": "stream",
     "text": [
      "(7769,)\n"
     ]
    }
   ],
   "source": [
    "def tokenize(text):\n",
    "    text = re.sub(r'[^\\w\\s]', '', text.lower())\n",
    "    return text.split()\n",
    "\n",
    "df_train['tokens'] = df_train['document'].apply(tokenize)\n",
    "df_test['tokens'] = df_test['document'].apply(tokenize)\n",
    "\n",
    "print(df_train['tokens'].shape)"
   ]
  },
  {
   "cell_type": "code",
   "execution_count": 6,
   "metadata": {},
   "outputs": [
    {
     "name": "stdout",
     "output_type": "stream",
     "text": [
      "41198\n",
      "7769\n",
      "Train: (6215, 5000), (6215, 90)\n",
      "Validation: (1554, 5000), (1554, 90)\n",
      "Test: (3019, 5000), (3019, 90)\n",
      "[0 0 0 0 0 0 0 0 0 0 0 0 0 0 0 0 0 0 0 0 0 1 0 0 0 0 0 0 0 0 0 0 0 0 0 0 0\n",
      " 0 0 0 0 0 0 0 0 0 0 0 0 0 0 0 0 0 0 0 0 0 0 0 0 0 0 0 0 0 0 0 0 0 0 0 0 0\n",
      " 0 0 0 0 0 0 0 0 0 0 0 0 0 0 0 0]\n"
     ]
    }
   ],
   "source": [
    "doc_freq = Counter()\n",
    "for doc in df_train['tokens']:\n",
    "    unique_words = set(doc)\n",
    "    doc_freq.update(unique_words)\n",
    "    \n",
    "print(len(doc_freq))\n",
    "\n",
    "num_docs = len(df_train)\n",
    "idf_train = {word: np.log(num_docs / (1 + doc_freq[word])) for word in doc_freq.keys()}\n",
    "print(num_docs)\n",
    "\n",
    "feature_words = sorted(doc_freq.keys(), key=lambda w: doc_freq[w], reverse=True)[:5000]\n",
    "feature_indices = {word: i for i, word in enumerate(feature_words)}\n",
    "\n",
    "x_train = np.zeros((len(df_train), len(feature_words)))\n",
    "x_test = np.zeros((len(df_test), len(feature_words)))\n",
    "\n",
    "for i, tokens in enumerate(df_train['tokens']):\n",
    "    if len(tokens) == 0:\n",
    "        continue\n",
    "    \n",
    "    tf = Counter(tokens)\n",
    "    doc_len = len(tokens)\n",
    "    \n",
    "    for word in set(tokens).intersection(feature_words):\n",
    "        idx = feature_indices[word]\n",
    "        tf_val = tf[word] / doc_len\n",
    "        idf_val = idf_train[word]\n",
    "        x_train[i, idx] = tf_val * idf_val\n",
    "\n",
    "for i, tokens in enumerate(df_test['tokens']):\n",
    "    if len(tokens) == 0:\n",
    "        continue\n",
    "    \n",
    "    tf = Counter(tokens)\n",
    "    doc_len = len(tokens)\n",
    "    \n",
    "    for word in set(tokens).intersection(feature_words):\n",
    "        idx = feature_indices[word]\n",
    "        tf_val = tf[word] / doc_len\n",
    "        idf_val = idf_train[word]\n",
    "        x_test[i, idx] = tf_val * idf_val\n",
    "\n",
    "x_train, x_val, y_train, y_val = train_test_split(x_train, y_train, test_size=0.2, random_state=42)\n",
    "\n",
    "print(f\"Train: {x_train.shape}, {y_train.shape}\")\n",
    "print(f\"Validation: {x_val.shape}, {y_val.shape}\")\n",
    "print(f\"Test: {x_test.shape}, {y_test.shape}\")\n",
    "print(y_train[0])"
   ]
  },
  {
   "cell_type": "code",
   "execution_count": 7,
   "metadata": {},
   "outputs": [],
   "source": [
    "scaler = StandardScaler()\n",
    "x_train = scaler.fit_transform(x_train)\n",
    "x_val = scaler.transform(x_val)\n",
    "x_test = scaler.transform(x_test)"
   ]
  },
  {
   "cell_type": "markdown",
   "metadata": {},
   "source": [
    "### MLP MultiLabel"
   ]
  },
  {
   "cell_type": "code",
   "execution_count": 8,
   "metadata": {},
   "outputs": [],
   "source": [
    "class MLP():\n",
    "    def __init__(self,input_dim,hidden_dim,output_dim,activation):\n",
    "        self.in_hidden_weights=np.random.randn(input_dim, hidden_dim)*np.sqrt(2/input_dim)\n",
    "        self.out_hidden_weights=np.random.randn(hidden_dim,output_dim)*np.sqrt(2/hidden_dim)\n",
    "        self.bias_hidden = np.zeros((1, hidden_dim))\n",
    "        self.bias_output=np.zeros((1,output_dim))\n",
    "        self.activation=activation\n",
    "        \n",
    "    def apply_activation(self,x):\n",
    "        if self.activation=='relu':\n",
    "            activation = np.maximum(0, x)  \n",
    "        elif self.activation=='sigmoid':\n",
    "            activation = 1 / (1 + np.exp(-x))\n",
    "        elif self.activation=='tanh':\n",
    "            activation = np.tanh(x)  \n",
    "            \n",
    "        return activation\n",
    "    \n",
    "    def apply_derivative(self,x):\n",
    "        if self.activation=='relu':\n",
    "            derivative=np.where(x > 0, 1, 0)\n",
    "        elif self.activation=='sigmoid':\n",
    "            activation = 1 / (1 + np.exp(-x))\n",
    "            derivative= activation * (1 - activation)  \n",
    "        elif self.activation=='tanh':\n",
    "            activation = np.tanh(x)  \n",
    "            derivative = 1 - activation ** 2  \n",
    "            \n",
    "        return derivative\n",
    "    \n",
    "    def sigmoid(self,x):\n",
    "        return 1 / (1 + np.exp(-x))\n",
    "    \n",
    "    def forward(self,x):\n",
    "        self.hidden_layer_input=np.dot(x,self.in_hidden_weights)+self.bias_hidden\n",
    "        self.hidden_layer_output=self.apply_activation(self.hidden_layer_input)\n",
    "        self.final_input=np.dot(self.hidden_layer_output,self.out_hidden_weights)+self.bias_output\n",
    "        self.final_output=self.sigmoid(self.final_input)\n",
    "        return self.final_output\n",
    "    \n",
    "    def backward_propogation(self,x,y_true,y_pred,learning_rate):\n",
    "        batch_size=x.shape[0]\n",
    "        output_layer_error=(y_pred-y_true)/batch_size\n",
    "        hidden_layer_error=(np.dot(output_layer_error,self.out_hidden_weights.T))*self.apply_derivative(self.hidden_layer_input) # total contribution of each hidden neuron to the overall output error and multiplied by derivative as scales the hidden error based on how much each hidden neuron is \"activated.\"\n",
    "\n",
    "        self.out_hidden_weights=self.out_hidden_weights-learning_rate*(np.dot(self.hidden_layer_output.T,output_layer_error))\n",
    "        self.bias_output=self.bias_output-learning_rate*(np.sum(output_layer_error,axis=0,keepdims=True))\n",
    "        \n",
    "        self.in_hidden_weights=self.in_hidden_weights-learning_rate*(np.dot(x.T,hidden_layer_error))\n",
    "        self.bias_hidden=self.bias_hidden-learning_rate*(np.sum(hidden_layer_error,axis=0,keepdims=True))\n",
    "\n",
    "    def binary_cross_entropy(self,y_true, y_pred, epsilon=1e-12):\n",
    "        loss = -np.mean(y_true * np.log(y_pred) + (1 - y_true) * np.log(1 - y_pred))\n",
    "        return loss\n",
    "        \n",
    "    def calculate_accuracy(self, y_true, y_pred,threshold=0.5):\n",
    "        y_pred_binary = (y_pred >= threshold).astype(int)\n",
    "        y_pred_binary = (y_pred >= threshold).astype(int)\n",
    "        exact_match = np.mean(np.all(y_pred_binary == y_true, axis=1))\n",
    "        hamming_accuracy = np.mean(y_pred_binary == y_true)\n",
    "        return exact_match*100,hamming_accuracy*100\n",
    "        \n",
    "    def predict(self, x):\n",
    "        return self.forward(x)\n",
    "    \n",
    "    def train(self,x_train,y_true,num_epochs,learning_rate,x_test,y_test,batch_size):\n",
    "        \n",
    "        total_num_train_samples=x_train.shape[0]\n",
    "        if batch_size is None:\n",
    "            batch_size=total_num_train_samples\n",
    "\n",
    "        for epoch in tqdm(range(num_epochs), desc=\"Training Progress\"):\n",
    "            \n",
    "            indices=np.random.permutation(total_num_train_samples)\n",
    "            x_shuffled_train = x_train[indices]\n",
    "            y_shuffled_train= y_true[indices]\n",
    "            \n",
    "            epoch_loss = 0\n",
    "            epoch_accuracy = 0\n",
    "            num_batches = 0\n",
    "            epoch_hamming_accuracy = 0\n",
    "        \n",
    "            for i in range(0, total_num_train_samples, batch_size):\n",
    "                end = min(i + batch_size, total_num_train_samples)\n",
    "                x_batch = x_shuffled_train[i:end]\n",
    "                y_batch = y_shuffled_train[i:end]\n",
    "                \n",
    "                y_pred=self.forward(x_batch)\n",
    "                # print(y_pred.shape)\n",
    "                # print(y_train.shape)\n",
    "                self.backward_propogation(x_batch,y_batch,y_pred,learning_rate)\n",
    "                \n",
    "                loss=self.binary_cross_entropy(y_batch,y_pred)\n",
    "                epoch_loss=epoch_loss+loss\n",
    "                \n",
    "                accuracy,hamming_accuracy=self.calculate_accuracy(y_batch,y_pred)\n",
    "                epoch_accuracy=epoch_accuracy+accuracy\n",
    "                epoch_hamming_accuracy=epoch_hamming_accuracy+hamming_accuracy\n",
    "                \n",
    "                num_batches=num_batches+1\n",
    "                \n",
    "            y_pred_val=self.predict(x_val)\n",
    "            val_loss=self.binary_cross_entropy(y_val,y_pred_val)\n",
    "            val_accuracy,val_hamming_accuracy=self.calculate_accuracy(y_val,y_pred_val)\n",
    "            \n",
    "            wandb.log({\"Epoch\": epoch, \"Train Loss\": epoch_loss/num_batches, \"Validation Loss\": val_loss, \"Validation Accuracy\": val_accuracy, \"Train Accuracy\":epoch_accuracy/num_batches})\n",
    "            \n",
    "            if (epoch+1)%10==0:\n",
    "                print(f\"Epoch: {epoch},Train Loss:{epoch_loss/num_batches},Train Accuracy:{epoch_accuracy/num_batches},Train Hamming Accuracy:{epoch_hamming_accuracy/num_batches}\")\n",
    "                print(f\"Epoch: {epoch},Validation Loss:{val_loss},Validation Accuracy:{val_accuracy},Validation Hamming Accuracy:{val_hamming_accuracy}\")\n",
    "            elif epoch==0:\n",
    "                print(f\"Epoch: {epoch},Train Loss:{epoch_loss/num_batches},Train Accuracy:{epoch_accuracy/num_batches},Train Hamming Accuracy:{epoch_hamming_accuracy/num_batches}\")\n",
    "                print(f\"Epoch: {epoch},Validation Loss:{val_loss},Validation Accuracy:{val_accuracy},Validation Hamming Accuracy:{val_hamming_accuracy}\")\n",
    "            \n"
   ]
  },
  {
   "cell_type": "markdown",
   "metadata": {},
   "source": [
    "### Relu-BGD"
   ]
  },
  {
   "cell_type": "code",
   "execution_count": 67,
   "metadata": {},
   "outputs": [],
   "source": [
    "np.random.seed(42)\n",
    "input_dim=5000\n",
    "hidden_dim=1024\n",
    "learning_rate=0.01\n",
    "num_epochs=100\n",
    "activation='relu'\n",
    "batch_size=None\n",
    "output_dim=y_train.shape[1]"
   ]
  },
  {
   "cell_type": "code",
   "execution_count": 68,
   "metadata": {},
   "outputs": [
    {
     "data": {
      "text/html": [
       "Tracking run with wandb version 0.19.8"
      ],
      "text/plain": [
       "<IPython.core.display.HTML object>"
      ]
     },
     "metadata": {},
     "output_type": "display_data"
    },
    {
     "data": {
      "text/html": [
       "Run data is saved locally in <code>d:\\SMAI\\Assignments\\A2\\wandb\\run-20250314_125422-5440ij1k</code>"
      ],
      "text/plain": [
       "<IPython.core.display.HTML object>"
      ]
     },
     "metadata": {},
     "output_type": "display_data"
    },
    {
     "data": {
      "text/html": [
       "Syncing run <strong><a href='https://wandb.ai/ketakishetye0619-iiit-hyderabad/SMAI-A2/runs/5440ij1k' target=\"_blank\">2.3-Relu-BGD</a></strong> to <a href='https://wandb.ai/ketakishetye0619-iiit-hyderabad/SMAI-A2' target=\"_blank\">Weights & Biases</a> (<a href='https://wandb.me/developer-guide' target=\"_blank\">docs</a>)<br>"
      ],
      "text/plain": [
       "<IPython.core.display.HTML object>"
      ]
     },
     "metadata": {},
     "output_type": "display_data"
    },
    {
     "data": {
      "text/html": [
       " View project at <a href='https://wandb.ai/ketakishetye0619-iiit-hyderabad/SMAI-A2' target=\"_blank\">https://wandb.ai/ketakishetye0619-iiit-hyderabad/SMAI-A2</a>"
      ],
      "text/plain": [
       "<IPython.core.display.HTML object>"
      ]
     },
     "metadata": {},
     "output_type": "display_data"
    },
    {
     "data": {
      "text/html": [
       " View run at <a href='https://wandb.ai/ketakishetye0619-iiit-hyderabad/SMAI-A2/runs/5440ij1k' target=\"_blank\">https://wandb.ai/ketakishetye0619-iiit-hyderabad/SMAI-A2/runs/5440ij1k</a>"
      ],
      "text/plain": [
       "<IPython.core.display.HTML object>"
      ]
     },
     "metadata": {},
     "output_type": "display_data"
    },
    {
     "name": "stdout",
     "output_type": "stream",
     "text": [
      "Initialising model\n"
     ]
    },
    {
     "name": "stderr",
     "output_type": "stream",
     "text": [
      "Training Progress:   1%|          | 1/100 [00:01<02:34,  1.57s/it]"
     ]
    },
    {
     "name": "stdout",
     "output_type": "stream",
     "text": [
      "Epoch: 0,Train Loss:0.9167808637657126,Train Accuracy:0.0,Train Hamming Accuracy:48.58085277554304\n",
      "Epoch: 0,Validation Loss:0.35498360531814777,Validation Accuracy:0.0,Validation Hamming Accuracy:87.81781781781783\n"
     ]
    },
    {
     "name": "stderr",
     "output_type": "stream",
     "text": [
      "Training Progress:  10%|█         | 10/100 [00:18<02:53,  1.92s/it]"
     ]
    },
    {
     "name": "stdout",
     "output_type": "stream",
     "text": [
      "Epoch: 9,Train Loss:0.10121757961011343,Train Accuracy:17.248592115848755,Train Hamming Accuracy:98.65987306695271\n",
      "Epoch: 9,Validation Loss:0.09609773184829741,Validation Accuracy:17.63191763191763,Validation Hamming Accuracy:98.65079365079366\n"
     ]
    },
    {
     "name": "stderr",
     "output_type": "stream",
     "text": [
      "Training Progress:  20%|██        | 20/100 [00:36<02:27,  1.84s/it]"
     ]
    },
    {
     "name": "stdout",
     "output_type": "stream",
     "text": [
      "Epoch: 19,Train Loss:0.07302691485390815,Train Accuracy:26.259050683829443,Train Hamming Accuracy:98.83060695450075\n",
      "Epoch: 19,Validation Loss:0.07481247608359021,Validation Accuracy:24.71042471042471,Validation Hamming Accuracy:98.78163878163878\n"
     ]
    },
    {
     "name": "stderr",
     "output_type": "stream",
     "text": [
      "Training Progress:  30%|███       | 30/100 [00:54<02:00,  1.72s/it]"
     ]
    },
    {
     "name": "stdout",
     "output_type": "stream",
     "text": [
      "Epoch: 29,Train Loss:0.06115414843397164,Train Accuracy:32.50201126307321,Train Hamming Accuracy:98.92518101367659\n",
      "Epoch: 29,Validation Loss:0.06543053120480014,Validation Accuracy:29.72972972972973,Validation Hamming Accuracy:98.86743886743888\n"
     ]
    },
    {
     "name": "stderr",
     "output_type": "stream",
     "text": [
      "Training Progress:  40%|████      | 40/100 [01:11<01:45,  1.76s/it]"
     ]
    },
    {
     "name": "stdout",
     "output_type": "stream",
     "text": [
      "Epoch: 39,Train Loss:0.053822789936919455,Train Accuracy:37.00724054706356,Train Hamming Accuracy:98.99776526325199\n",
      "Epoch: 39,Validation Loss:0.05958568933676613,Validation Accuracy:33.07593307593308,Validation Hamming Accuracy:98.92320892320893\n"
     ]
    },
    {
     "name": "stderr",
     "output_type": "stream",
     "text": [
      "Training Progress:  50%|█████     | 50/100 [01:29<01:27,  1.75s/it]"
     ]
    },
    {
     "name": "stdout",
     "output_type": "stream",
     "text": [
      "Epoch: 49,Train Loss:0.048562314082093154,Train Accuracy:40.56315366049879,Train Hamming Accuracy:99.05229283990346\n",
      "Epoch: 49,Validation Loss:0.05541257336738456,Validation Accuracy:35.77863577863578,Validation Hamming Accuracy:98.96753896753897\n"
     ]
    },
    {
     "name": "stderr",
     "output_type": "stream",
     "text": [
      "Training Progress:  60%|██████    | 60/100 [01:46<01:07,  1.70s/it]"
     ]
    },
    {
     "name": "stdout",
     "output_type": "stream",
     "text": [
      "Epoch: 59,Train Loss:0.04447247626163052,Train Accuracy:43.63636363636363,Train Hamming Accuracy:99.10199338517923\n",
      "Epoch: 59,Validation Loss:0.05220050981028083,Validation Accuracy:37.58043758043758,Validation Hamming Accuracy:98.998998998999\n"
     ]
    },
    {
     "name": "stderr",
     "output_type": "stream",
     "text": [
      "Training Progress:  70%|███████   | 70/100 [02:03<00:49,  1.66s/it]"
     ]
    },
    {
     "name": "stdout",
     "output_type": "stream",
     "text": [
      "Epoch: 69,Train Loss:0.041129979707618204,Train Accuracy:45.93724859211585,Train Hamming Accuracy:99.14257620452311\n",
      "Epoch: 69,Validation Loss:0.049607236957693666,Validation Accuracy:38.996138996138995,Validation Hamming Accuracy:99.02688402688403\n"
     ]
    },
    {
     "name": "stderr",
     "output_type": "stream",
     "text": [
      "Training Progress:  80%|████████  | 80/100 [02:20<00:33,  1.68s/it]"
     ]
    },
    {
     "name": "stdout",
     "output_type": "stream",
     "text": [
      "Epoch: 79,Train Loss:0.03830869775027453,Train Accuracy:48.624296057924376,Train Hamming Accuracy:99.18780727630285\n",
      "Epoch: 79,Validation Loss:0.04744644107634008,Validation Accuracy:40.34749034749035,Validation Hamming Accuracy:99.05190905190905\n"
     ]
    },
    {
     "name": "stderr",
     "output_type": "stream",
     "text": [
      "Training Progress:  90%|█████████ | 90/100 [02:36<00:16,  1.63s/it]"
     ]
    },
    {
     "name": "stdout",
     "output_type": "stream",
     "text": [
      "Epoch: 89,Train Loss:0.035872731658923886,Train Accuracy:51.00563153660499,Train Hamming Accuracy:99.22499329578976\n",
      "Epoch: 89,Validation Loss:0.04560405732038002,Validation Accuracy:41.6988416988417,Validation Hamming Accuracy:99.07407407407408\n"
     ]
    },
    {
     "name": "stderr",
     "output_type": "stream",
     "text": [
      "Training Progress: 100%|██████████| 100/100 [02:53<00:00,  1.73s/it]"
     ]
    },
    {
     "name": "stdout",
     "output_type": "stream",
     "text": [
      "Epoch: 99,Train Loss:0.033732124359231785,Train Accuracy:53.193885760257444,Train Hamming Accuracy:99.25914007329936\n",
      "Epoch: 99,Validation Loss:0.04400457323939395,Validation Accuracy:43.43629343629344,Validation Hamming Accuracy:99.1005291005291\n"
     ]
    },
    {
     "name": "stderr",
     "output_type": "stream",
     "text": [
      "\n"
     ]
    },
    {
     "name": "stdout",
     "output_type": "stream",
     "text": [
      "Test Loss:0.04710621023254192,Test Accuracy:48.22789002981119,Test Hamming Accuracy:99.12333002097824\n"
     ]
    },
    {
     "data": {
      "text/html": [],
      "text/plain": [
       "<IPython.core.display.HTML object>"
      ]
     },
     "metadata": {},
     "output_type": "display_data"
    },
    {
     "data": {
      "text/html": [
       "<br>    <style><br>        .wandb-row {<br>            display: flex;<br>            flex-direction: row;<br>            flex-wrap: wrap;<br>            justify-content: flex-start;<br>            width: 100%;<br>        }<br>        .wandb-col {<br>            display: flex;<br>            flex-direction: column;<br>            flex-basis: 100%;<br>            flex: 1;<br>            padding: 10px;<br>        }<br>    </style><br><div class=\"wandb-row\"><div class=\"wandb-col\"><h3>Run history:</h3><br/><table class=\"wandb\"><tr><td>Epoch</td><td>▁▁▁▁▂▂▂▂▂▂▃▃▃▃▃▄▄▄▄▄▄▅▅▅▅▅▅▅▅▆▆▆▆▆▇▇▇▇▇█</td></tr><tr><td>Train Accuracy</td><td>▁▂▂▃▃▄▅▅▅▅▅▆▆▆▆▆▆▆▆▆▆▇▇▇▇▇▇▇▇▇▇▇▇███████</td></tr><tr><td>Train Loss</td><td>█▂▂▂▁▁▁▁▁▁▁▁▁▁▁▁▁▁▁▁▁▁▁▁▁▁▁▁▁▁▁▁▁▁▁▁▁▁▁▁</td></tr><tr><td>Validation Accuracy</td><td>▁▂▂▃▃▄▄▄▅▅▅▅▆▆▆▆▆▇▇▇▇▇▇▇▇▇▇▇▇▇▇▇▇███████</td></tr><tr><td>Validation Loss</td><td>█▅▃▂▂▂▂▂▂▂▂▁▁▁▁▁▁▁▁▁▁▁▁▁▁▁▁▁▁▁▁▁▁▁▁▁▁▁▁▁</td></tr></table><br/></div><div class=\"wandb-col\"><h3>Run summary:</h3><br/><table class=\"wandb\"><tr><td>Epoch</td><td>99</td></tr><tr><td>Train Accuracy</td><td>53.19389</td></tr><tr><td>Train Loss</td><td>0.03373</td></tr><tr><td>Validation Accuracy</td><td>43.43629</td></tr><tr><td>Validation Loss</td><td>0.044</td></tr></table><br/></div></div>"
      ],
      "text/plain": [
       "<IPython.core.display.HTML object>"
      ]
     },
     "metadata": {},
     "output_type": "display_data"
    },
    {
     "data": {
      "text/html": [
       " View run <strong style=\"color:#cdcd00\">2.3-Relu-BGD</strong> at: <a href='https://wandb.ai/ketakishetye0619-iiit-hyderabad/SMAI-A2/runs/5440ij1k' target=\"_blank\">https://wandb.ai/ketakishetye0619-iiit-hyderabad/SMAI-A2/runs/5440ij1k</a><br> View project at: <a href='https://wandb.ai/ketakishetye0619-iiit-hyderabad/SMAI-A2' target=\"_blank\">https://wandb.ai/ketakishetye0619-iiit-hyderabad/SMAI-A2</a><br>Synced 5 W&B file(s), 0 media file(s), 0 artifact file(s) and 0 other file(s)"
      ],
      "text/plain": [
       "<IPython.core.display.HTML object>"
      ]
     },
     "metadata": {},
     "output_type": "display_data"
    },
    {
     "data": {
      "text/html": [
       "Find logs at: <code>.\\wandb\\run-20250314_125422-5440ij1k\\logs</code>"
      ],
      "text/plain": [
       "<IPython.core.display.HTML object>"
      ]
     },
     "metadata": {},
     "output_type": "display_data"
    }
   ],
   "source": [
    "wandb.init(project=\"SMAI-A2\", name=\"2.3-Relu-BGD\")\n",
    "print(\"Initialising model\")\n",
    "model = MLP(input_dim, hidden_dim, output_dim,activation)   \n",
    "model.train(x_train,y_train,num_epochs,learning_rate,x_val,y_val,batch_size)\n",
    "y_pred_test=model.predict(x_test)\n",
    "test_loss=model.binary_cross_entropy(y_test,y_pred_test)\n",
    "test_accuracy,test_hamming_accuracy=model.calculate_accuracy(y_test,y_pred_test)\n",
    "print(f\"Test Loss:{test_loss},Test Accuracy:{test_accuracy},Test Hamming Accuracy:{test_hamming_accuracy}\")\n",
    "\n",
    "wandb.finish()"
   ]
  },
  {
   "cell_type": "code",
   "execution_count": 10,
   "metadata": {},
   "outputs": [],
   "source": [
    "np.random.seed(42)\n",
    "input_dim=5000\n",
    "hidden_dim=512\n",
    "learning_rate=0.01\n",
    "num_epochs=100\n",
    "activation='relu'\n",
    "batch_size=None\n",
    "output_dim=y_train.shape[1]"
   ]
  },
  {
   "cell_type": "code",
   "execution_count": 11,
   "metadata": {},
   "outputs": [
    {
     "data": {
      "text/html": [
       "Tracking run with wandb version 0.19.8"
      ],
      "text/plain": [
       "<IPython.core.display.HTML object>"
      ]
     },
     "metadata": {},
     "output_type": "display_data"
    },
    {
     "data": {
      "text/html": [
       "Run data is saved locally in <code>d:\\SMAI\\Assignments\\A2\\wandb\\run-20250315_173342-xhj595p8</code>"
      ],
      "text/plain": [
       "<IPython.core.display.HTML object>"
      ]
     },
     "metadata": {},
     "output_type": "display_data"
    },
    {
     "data": {
      "text/html": [
       "Syncing run <strong><a href='https://wandb.ai/ketakishetye0619-iiit-hyderabad/SMAI-A2/runs/xhj595p8' target=\"_blank\">2.3-Relu-BGD-Hyperparam1</a></strong> to <a href='https://wandb.ai/ketakishetye0619-iiit-hyderabad/SMAI-A2' target=\"_blank\">Weights & Biases</a> (<a href='https://wandb.me/developer-guide' target=\"_blank\">docs</a>)<br>"
      ],
      "text/plain": [
       "<IPython.core.display.HTML object>"
      ]
     },
     "metadata": {},
     "output_type": "display_data"
    },
    {
     "data": {
      "text/html": [
       " View project at <a href='https://wandb.ai/ketakishetye0619-iiit-hyderabad/SMAI-A2' target=\"_blank\">https://wandb.ai/ketakishetye0619-iiit-hyderabad/SMAI-A2</a>"
      ],
      "text/plain": [
       "<IPython.core.display.HTML object>"
      ]
     },
     "metadata": {},
     "output_type": "display_data"
    },
    {
     "data": {
      "text/html": [
       " View run at <a href='https://wandb.ai/ketakishetye0619-iiit-hyderabad/SMAI-A2/runs/xhj595p8' target=\"_blank\">https://wandb.ai/ketakishetye0619-iiit-hyderabad/SMAI-A2/runs/xhj595p8</a>"
      ],
      "text/plain": [
       "<IPython.core.display.HTML object>"
      ]
     },
     "metadata": {},
     "output_type": "display_data"
    },
    {
     "name": "stdout",
     "output_type": "stream",
     "text": [
      "Initialising model\n"
     ]
    },
    {
     "name": "stderr",
     "output_type": "stream",
     "text": [
      "Training Progress:   1%|          | 1/100 [00:00<01:22,  1.20it/s]"
     ]
    },
    {
     "name": "stdout",
     "output_type": "stream",
     "text": [
      "Epoch: 0,Train Loss:0.8763924419307746,Train Accuracy:0.0,Train Hamming Accuracy:51.18101367658889\n",
      "Epoch: 0,Validation Loss:0.5817003507954865,Validation Accuracy:0.0,Validation Hamming Accuracy:72.21006721006721\n"
     ]
    },
    {
     "name": "stderr",
     "output_type": "stream",
     "text": [
      "Training Progress:  10%|█         | 10/100 [00:09<01:28,  1.02it/s]"
     ]
    },
    {
     "name": "stdout",
     "output_type": "stream",
     "text": [
      "Epoch: 9,Train Loss:0.146229666288946,Train Accuracy:12.952534191472246,Train Hamming Accuracy:98.2401001162063\n",
      "Epoch: 9,Validation Loss:0.13227877746513064,Validation Accuracy:14.607464607464607,Validation Hamming Accuracy:98.32904332904333\n"
     ]
    },
    {
     "name": "stderr",
     "output_type": "stream",
     "text": [
      "Training Progress:  20%|██        | 20/100 [00:19<01:15,  1.06it/s]"
     ]
    },
    {
     "name": "stdout",
     "output_type": "stream",
     "text": [
      "Epoch: 19,Train Loss:0.0912492442940326,Train Accuracy:25.068382944489137,Train Hamming Accuracy:98.77375525163136\n",
      "Epoch: 19,Validation Loss:0.08955633113352489,Validation Accuracy:23.166023166023166,Validation Hamming Accuracy:98.75089375089375\n"
     ]
    },
    {
     "name": "stderr",
     "output_type": "stream",
     "text": [
      "Training Progress:  30%|███       | 30/100 [00:28<01:10,  1.01s/it]"
     ]
    },
    {
     "name": "stdout",
     "output_type": "stream",
     "text": [
      "Epoch: 29,Train Loss:0.07109868822104,Train Accuracy:31.842316975060335,Train Hamming Accuracy:98.89836417270045\n",
      "Epoch: 29,Validation Loss:0.07351332796486287,Validation Accuracy:27.99227799227799,Validation Hamming Accuracy:98.83883883883884\n"
     ]
    },
    {
     "name": "stderr",
     "output_type": "stream",
     "text": [
      "Training Progress:  40%|████      | 40/100 [00:38<00:57,  1.04it/s]"
     ]
    },
    {
     "name": "stdout",
     "output_type": "stream",
     "text": [
      "Epoch: 39,Train Loss:0.06014362962642321,Train Accuracy:36.36363636363637,Train Hamming Accuracy:98.97559667471172\n",
      "Epoch: 39,Validation Loss:0.06478452134889469,Validation Accuracy:31.66023166023166,Validation Hamming Accuracy:98.8981838981839\n"
     ]
    },
    {
     "name": "stderr",
     "output_type": "stream",
     "text": [
      "Training Progress:  50%|█████     | 50/100 [00:48<00:51,  1.02s/it]"
     ]
    },
    {
     "name": "stdout",
     "output_type": "stream",
     "text": [
      "Epoch: 49,Train Loss:0.05301732853584617,Train Accuracy:39.85518905872888,Train Hamming Accuracy:99.03226959864128\n",
      "Epoch: 49,Validation Loss:0.059149089626179395,Validation Accuracy:34.16988416988417,Validation Hamming Accuracy:98.93750893750894\n"
     ]
    },
    {
     "name": "stderr",
     "output_type": "stream",
     "text": [
      "Training Progress:  60%|██████    | 60/100 [00:57<00:38,  1.04it/s]"
     ]
    },
    {
     "name": "stdout",
     "output_type": "stream",
     "text": [
      "Epoch: 59,Train Loss:0.04785842967481443,Train Accuracy:42.59050683829445,Train Hamming Accuracy:99.07714311254135\n",
      "Epoch: 59,Validation Loss:0.055112686348463176,Validation Accuracy:35.77863577863578,Validation Hamming Accuracy:98.96110396110396\n"
     ]
    },
    {
     "name": "stderr",
     "output_type": "stream",
     "text": [
      "Training Progress:  70%|███████   | 70/100 [01:07<00:27,  1.07it/s]"
     ]
    },
    {
     "name": "stdout",
     "output_type": "stream",
     "text": [
      "Epoch: 69,Train Loss:0.043852477686930805,Train Accuracy:44.9396621078037,Train Hamming Accuracy:99.11665325824617\n",
      "Epoch: 69,Validation Loss:0.052017543116446734,Validation Accuracy:38.15958815958816,Validation Hamming Accuracy:98.999713999714\n"
     ]
    },
    {
     "name": "stderr",
     "output_type": "stream",
     "text": [
      "Training Progress:  80%|████████  | 80/100 [01:17<00:18,  1.06it/s]"
     ]
    },
    {
     "name": "stdout",
     "output_type": "stream",
     "text": [
      "Epoch: 79,Train Loss:0.04059098984240564,Train Accuracy:47.256637168141594,Train Hamming Accuracy:99.1565209618307\n",
      "Epoch: 79,Validation Loss:0.04952983731560516,Validation Accuracy:39.768339768339764,Validation Hamming Accuracy:99.03188903188904\n"
     ]
    },
    {
     "name": "stderr",
     "output_type": "stream",
     "text": [
      "Training Progress:  90%|█████████ | 90/100 [01:26<00:09,  1.02it/s]"
     ]
    },
    {
     "name": "stdout",
     "output_type": "stream",
     "text": [
      "Epoch: 89,Train Loss:0.03784552055517517,Train Accuracy:49.782783588093324,Train Hamming Accuracy:99.1967462232949\n",
      "Epoch: 89,Validation Loss:0.047460830360257715,Validation Accuracy:40.99099099099099,Validation Hamming Accuracy:99.05762905762906\n"
     ]
    },
    {
     "name": "stderr",
     "output_type": "stream",
     "text": [
      "Training Progress: 100%|██████████| 100/100 [01:35<00:00,  1.05it/s]"
     ]
    },
    {
     "name": "stdout",
     "output_type": "stream",
     "text": [
      "Epoch: 99,Train Loss:0.03548004473798695,Train Accuracy:51.72968624296058,Train Hamming Accuracy:99.23160811656388\n",
      "Epoch: 99,Validation Loss:0.04569883727435366,Validation Accuracy:42.02059202059202,Validation Hamming Accuracy:99.07335907335907\n",
      "Test Loss:0.04825348012792756,Test Accuracy:45.21364690294799,Test Hamming Accuracy:99.07916528651872\n"
     ]
    },
    {
     "name": "stderr",
     "output_type": "stream",
     "text": [
      "\n"
     ]
    },
    {
     "data": {
      "text/html": [],
      "text/plain": [
       "<IPython.core.display.HTML object>"
      ]
     },
     "metadata": {},
     "output_type": "display_data"
    },
    {
     "data": {
      "text/html": [
       "<br>    <style><br>        .wandb-row {<br>            display: flex;<br>            flex-direction: row;<br>            flex-wrap: wrap;<br>            justify-content: flex-start;<br>            width: 100%;<br>        }<br>        .wandb-col {<br>            display: flex;<br>            flex-direction: column;<br>            flex-basis: 100%;<br>            flex: 1;<br>            padding: 10px;<br>        }<br>    </style><br><div class=\"wandb-row\"><div class=\"wandb-col\"><h3>Run history:</h3><br/><table class=\"wandb\"><tr><td>Epoch</td><td>▁▁▁▁▁▂▂▂▃▃▃▃▃▃▃▄▄▄▄▄▅▅▅▅▅▆▆▆▆▆▇▇▇▇▇▇▇▇██</td></tr><tr><td>Train Accuracy</td><td>▁▁▁▂▂▃▄▄▅▅▅▅▆▆▆▆▆▆▆▆▆▇▇▇▇▇▇▇▇▇▇▇▇▇██████</td></tr><tr><td>Train Loss</td><td>█▅▄▃▃▂▂▂▁▁▁▁▁▁▁▁▁▁▁▁▁▁▁▁▁▁▁▁▁▁▁▁▁▁▁▁▁▁▁▁</td></tr><tr><td>Validation Accuracy</td><td>▁▂▂▃▃▄▄▄▅▅▆▆▆▆▆▆▆▇▇▇▇▇▇▇▇▇▇▇▇▇▇▇▇▇██████</td></tr><tr><td>Validation Loss</td><td>█▅▅▄▃▃▃▂▂▂▂▂▂▂▂▂▂▂▂▂▁▁▁▁▁▁▁▁▁▁▁▁▁▁▁▁▁▁▁▁</td></tr></table><br/></div><div class=\"wandb-col\"><h3>Run summary:</h3><br/><table class=\"wandb\"><tr><td>Epoch</td><td>99</td></tr><tr><td>Train Accuracy</td><td>51.72969</td></tr><tr><td>Train Loss</td><td>0.03548</td></tr><tr><td>Validation Accuracy</td><td>42.02059</td></tr><tr><td>Validation Loss</td><td>0.0457</td></tr></table><br/></div></div>"
      ],
      "text/plain": [
       "<IPython.core.display.HTML object>"
      ]
     },
     "metadata": {},
     "output_type": "display_data"
    },
    {
     "data": {
      "text/html": [
       " View run <strong style=\"color:#cdcd00\">2.3-Relu-BGD-Hyperparam1</strong> at: <a href='https://wandb.ai/ketakishetye0619-iiit-hyderabad/SMAI-A2/runs/xhj595p8' target=\"_blank\">https://wandb.ai/ketakishetye0619-iiit-hyderabad/SMAI-A2/runs/xhj595p8</a><br> View project at: <a href='https://wandb.ai/ketakishetye0619-iiit-hyderabad/SMAI-A2' target=\"_blank\">https://wandb.ai/ketakishetye0619-iiit-hyderabad/SMAI-A2</a><br>Synced 5 W&B file(s), 0 media file(s), 0 artifact file(s) and 0 other file(s)"
      ],
      "text/plain": [
       "<IPython.core.display.HTML object>"
      ]
     },
     "metadata": {},
     "output_type": "display_data"
    },
    {
     "data": {
      "text/html": [
       "Find logs at: <code>.\\wandb\\run-20250315_173342-xhj595p8\\logs</code>"
      ],
      "text/plain": [
       "<IPython.core.display.HTML object>"
      ]
     },
     "metadata": {},
     "output_type": "display_data"
    }
   ],
   "source": [
    "wandb.init(project=\"SMAI-A2\", name=\"2.3-Relu-BGD-Hyperparam1\")\n",
    "print(\"Initialising model\")\n",
    "model = MLP(input_dim, hidden_dim, output_dim,activation)   \n",
    "model.train(x_train,y_train,num_epochs,learning_rate,x_val,y_val,batch_size)\n",
    "y_pred_test=model.predict(x_test)\n",
    "test_loss=model.binary_cross_entropy(y_test,y_pred_test)\n",
    "test_accuracy,test_hamming_accuracy=model.calculate_accuracy(y_test,y_pred_test)\n",
    "print(f\"Test Loss:{test_loss},Test Accuracy:{test_accuracy},Test Hamming Accuracy:{test_hamming_accuracy}\")\n",
    "\n",
    "wandb.finish()"
   ]
  },
  {
   "cell_type": "code",
   "execution_count": 12,
   "metadata": {},
   "outputs": [],
   "source": [
    "np.random.seed(42)\n",
    "input_dim=5000\n",
    "hidden_dim=512\n",
    "learning_rate=0.001\n",
    "num_epochs=100\n",
    "activation='relu'\n",
    "batch_size=None\n",
    "output_dim=y_train.shape[1]"
   ]
  },
  {
   "cell_type": "code",
   "execution_count": 13,
   "metadata": {},
   "outputs": [
    {
     "data": {
      "text/html": [
       "Tracking run with wandb version 0.19.8"
      ],
      "text/plain": [
       "<IPython.core.display.HTML object>"
      ]
     },
     "metadata": {},
     "output_type": "display_data"
    },
    {
     "data": {
      "text/html": [
       "Run data is saved locally in <code>d:\\SMAI\\Assignments\\A2\\wandb\\run-20250315_173522-chcfahvm</code>"
      ],
      "text/plain": [
       "<IPython.core.display.HTML object>"
      ]
     },
     "metadata": {},
     "output_type": "display_data"
    },
    {
     "data": {
      "text/html": [
       "Syncing run <strong><a href='https://wandb.ai/ketakishetye0619-iiit-hyderabad/SMAI-A2/runs/chcfahvm' target=\"_blank\">2.3-Relu-BGD-Hyperparam2</a></strong> to <a href='https://wandb.ai/ketakishetye0619-iiit-hyderabad/SMAI-A2' target=\"_blank\">Weights & Biases</a> (<a href='https://wandb.me/developer-guide' target=\"_blank\">docs</a>)<br>"
      ],
      "text/plain": [
       "<IPython.core.display.HTML object>"
      ]
     },
     "metadata": {},
     "output_type": "display_data"
    },
    {
     "data": {
      "text/html": [
       " View project at <a href='https://wandb.ai/ketakishetye0619-iiit-hyderabad/SMAI-A2' target=\"_blank\">https://wandb.ai/ketakishetye0619-iiit-hyderabad/SMAI-A2</a>"
      ],
      "text/plain": [
       "<IPython.core.display.HTML object>"
      ]
     },
     "metadata": {},
     "output_type": "display_data"
    },
    {
     "data": {
      "text/html": [
       " View run at <a href='https://wandb.ai/ketakishetye0619-iiit-hyderabad/SMAI-A2/runs/chcfahvm' target=\"_blank\">https://wandb.ai/ketakishetye0619-iiit-hyderabad/SMAI-A2/runs/chcfahvm</a>"
      ],
      "text/plain": [
       "<IPython.core.display.HTML object>"
      ]
     },
     "metadata": {},
     "output_type": "display_data"
    },
    {
     "name": "stdout",
     "output_type": "stream",
     "text": [
      "Initialising model\n"
     ]
    },
    {
     "name": "stderr",
     "output_type": "stream",
     "text": [
      "Training Progress:   0%|          | 0/100 [00:00<?, ?it/s]C:\\Users\\Admin\\AppData\\Local\\Temp\\ipykernel_28664\\3730871249.py:53: RuntimeWarning: divide by zero encountered in log\n",
      "  loss = -np.mean(y_true * np.log(y_pred) + (1 - y_true) * np.log(1 - y_pred))\n",
      "Training Progress:   1%|          | 1/100 [00:00<01:23,  1.18it/s]"
     ]
    },
    {
     "name": "stdout",
     "output_type": "stream",
     "text": [
      "Epoch: 0,Train Loss:0.8763924419307746,Train Accuracy:0.0,Train Hamming Accuracy:51.18101367658889\n",
      "Epoch: 0,Validation Loss:inf,Validation Accuracy:0.0,Validation Hamming Accuracy:53.24824824824825\n"
     ]
    },
    {
     "name": "stderr",
     "output_type": "stream",
     "text": [
      "Training Progress:  10%|█         | 10/100 [00:08<01:21,  1.11it/s]"
     ]
    },
    {
     "name": "stdout",
     "output_type": "stream",
     "text": [
      "Epoch: 9,Train Loss:0.6114914481557494,Train Accuracy:0.0,Train Hamming Accuracy:68.22275855904174\n",
      "Epoch: 9,Validation Loss:0.6193649301621728,Validation Accuracy:0.0,Validation Hamming Accuracy:69.75475475475476\n"
     ]
    },
    {
     "name": "stderr",
     "output_type": "stream",
     "text": [
      "Training Progress:  20%|██        | 20/100 [00:18<01:14,  1.07it/s]"
     ]
    },
    {
     "name": "stdout",
     "output_type": "stream",
     "text": [
      "Epoch: 19,Train Loss:0.44142948172192825,Train Accuracy:0.0,Train Hamming Accuracy:81.42290158219362\n",
      "Epoch: 19,Validation Loss:0.43461360796958837,Validation Accuracy:0.0,Validation Hamming Accuracy:82.17145717145718\n"
     ]
    },
    {
     "name": "stderr",
     "output_type": "stream",
     "text": [
      "Training Progress:  30%|███       | 30/100 [00:27<01:02,  1.12it/s]"
     ]
    },
    {
     "name": "stdout",
     "output_type": "stream",
     "text": [
      "Epoch: 29,Train Loss:0.34223932543031943,Train Accuracy:0.0,Train Hamming Accuracy:88.95593099132923\n",
      "Epoch: 29,Validation Loss:0.3309064911450662,Validation Accuracy:0.0,Validation Hamming Accuracy:89.3014443014443\n"
     ]
    },
    {
     "name": "stderr",
     "output_type": "stream",
     "text": [
      "Training Progress:  40%|████      | 40/100 [00:36<00:53,  1.12it/s]"
     ]
    },
    {
     "name": "stdout",
     "output_type": "stream",
     "text": [
      "Epoch: 39,Train Loss:0.280111869852441,Train Accuracy:0.08045052292839903,Train Hamming Accuracy:93.04496290336999\n",
      "Epoch: 39,Validation Loss:0.26808940279000737,Validation Accuracy:0.19305019305019305,Validation Hamming Accuracy:93.14242814242814\n"
     ]
    },
    {
     "name": "stderr",
     "output_type": "stream",
     "text": [
      "Training Progress:  50%|█████     | 50/100 [00:44<00:45,  1.09it/s]"
     ]
    },
    {
     "name": "stdout",
     "output_type": "stream",
     "text": [
      "Epoch: 49,Train Loss:0.23839878269799292,Train Accuracy:0.8849557522123894,Train Hamming Accuracy:95.29221417716994\n",
      "Epoch: 49,Validation Loss:0.22705653630075084,Validation Accuracy:1.3513513513513513,Validation Hamming Accuracy:95.26598026598026\n"
     ]
    },
    {
     "name": "stderr",
     "output_type": "stream",
     "text": [
      "Training Progress:  60%|██████    | 60/100 [00:54<00:36,  1.08it/s]"
     ]
    },
    {
     "name": "stdout",
     "output_type": "stream",
     "text": [
      "Epoch: 59,Train Loss:0.20872033460011633,Train Accuracy:2.7031375703942073,Train Hamming Accuracy:96.57477429158845\n",
      "Epoch: 59,Validation Loss:0.1985068288592679,Validation Accuracy:2.9601029601029603,Validation Hamming Accuracy:96.48720148720149\n"
     ]
    },
    {
     "name": "stderr",
     "output_type": "stream",
     "text": [
      "Training Progress:  70%|███████   | 70/100 [01:03<00:27,  1.11it/s]"
     ]
    },
    {
     "name": "stdout",
     "output_type": "stream",
     "text": [
      "Epoch: 69,Train Loss:0.18659868597851834,Train Accuracy:5.82461786001609,Train Hamming Accuracy:97.32135514436399\n",
      "Epoch: 69,Validation Loss:0.17760977168112738,Validation Accuracy:6.756756756756757,Validation Hamming Accuracy:97.27441727441727\n"
     ]
    },
    {
     "name": "stderr",
     "output_type": "stream",
     "text": [
      "Training Progress:  80%|████████  | 80/100 [01:12<00:18,  1.06it/s]"
     ]
    },
    {
     "name": "stdout",
     "output_type": "stream",
     "text": [
      "Epoch: 79,Train Loss:0.16948469001716657,Train Accuracy:8.624296057924377,Train Hamming Accuracy:97.78546527219095\n",
      "Epoch: 79,Validation Loss:0.1616821668458147,Validation Accuracy:9.45945945945946,Validation Hamming Accuracy:97.72272272272272\n"
     ]
    },
    {
     "name": "stderr",
     "output_type": "stream",
     "text": [
      "Training Progress:  90%|█████████ | 90/100 [01:21<00:09,  1.10it/s]"
     ]
    },
    {
     "name": "stdout",
     "output_type": "stream",
     "text": [
      "Epoch: 89,Train Loss:0.15584520063736215,Train Accuracy:11.472244569589703,Train Hamming Accuracy:98.07151157593636\n",
      "Epoch: 89,Validation Loss:0.1491452924459062,Validation Accuracy:11.389961389961389,Validation Hamming Accuracy:98.01515801515801\n"
     ]
    },
    {
     "name": "stderr",
     "output_type": "stream",
     "text": [
      "Training Progress: 100%|██████████| 100/100 [01:30<00:00,  1.11it/s]"
     ]
    },
    {
     "name": "stdout",
     "output_type": "stream",
     "text": [
      "Epoch: 99,Train Loss:0.14470571701209078,Train Accuracy:14.062751407884152,Train Hamming Accuracy:98.26441405202468\n",
      "Epoch: 99,Validation Loss:0.13901286760142248,Validation Accuracy:13.77091377091377,Validation Hamming Accuracy:98.22179322179322\n",
      "Test Loss:0.1436336775141032,Test Accuracy:11.957601854918847,Test Hamming Accuracy:98.198078834051\n"
     ]
    },
    {
     "name": "stderr",
     "output_type": "stream",
     "text": [
      "\n"
     ]
    },
    {
     "data": {
      "text/html": [],
      "text/plain": [
       "<IPython.core.display.HTML object>"
      ]
     },
     "metadata": {},
     "output_type": "display_data"
    },
    {
     "data": {
      "text/html": [
       "<br>    <style><br>        .wandb-row {<br>            display: flex;<br>            flex-direction: row;<br>            flex-wrap: wrap;<br>            justify-content: flex-start;<br>            width: 100%;<br>        }<br>        .wandb-col {<br>            display: flex;<br>            flex-direction: column;<br>            flex-basis: 100%;<br>            flex: 1;<br>            padding: 10px;<br>        }<br>    </style><br><div class=\"wandb-row\"><div class=\"wandb-col\"><h3>Run history:</h3><br/><table class=\"wandb\"><tr><td>Epoch</td><td>▁▁▁▁▁▁▂▂▂▂▃▃▃▃▃▃▃▄▄▄▄▄▄▄▄▅▅▆▆▆▆▆▆▆▇▇▇███</td></tr><tr><td>Train Accuracy</td><td>▁▁▁▁▁▁▁▁▁▁▁▁▁▁▁▁▁▁▁▁▂▂▂▃▃▄▄▄▄▄▅▅▅▆▆▆▇▇██</td></tr><tr><td>Train Loss</td><td>█▆▆▆▅▅▅▄▄▄▄▃▃▃▃▂▂▂▂▂▂▂▂▂▂▂▁▁▁▁▁▁▁▁▁▁▁▁▁▁</td></tr><tr><td>Validation Accuracy</td><td>▁▁▁▁▁▁▁▁▁▁▁▁▁▁▁▁▁▁▁▂▂▂▂▃▃▃▄▄▅▅▅▅▆▆▆▆▇▇▇█</td></tr><tr><td>Validation Loss</td><td> ██▇▇▆▆▄▄▃▃▃▃▃▂▂▂▂▂▂▂▂▂▂▂▁▁▁▁▁▁▁▁▁▁▁▁▁▁▁</td></tr></table><br/></div><div class=\"wandb-col\"><h3>Run summary:</h3><br/><table class=\"wandb\"><tr><td>Epoch</td><td>99</td></tr><tr><td>Train Accuracy</td><td>14.06275</td></tr><tr><td>Train Loss</td><td>0.14471</td></tr><tr><td>Validation Accuracy</td><td>13.77091</td></tr><tr><td>Validation Loss</td><td>0.13901</td></tr></table><br/></div></div>"
      ],
      "text/plain": [
       "<IPython.core.display.HTML object>"
      ]
     },
     "metadata": {},
     "output_type": "display_data"
    },
    {
     "data": {
      "text/html": [
       " View run <strong style=\"color:#cdcd00\">2.3-Relu-BGD-Hyperparam2</strong> at: <a href='https://wandb.ai/ketakishetye0619-iiit-hyderabad/SMAI-A2/runs/chcfahvm' target=\"_blank\">https://wandb.ai/ketakishetye0619-iiit-hyderabad/SMAI-A2/runs/chcfahvm</a><br> View project at: <a href='https://wandb.ai/ketakishetye0619-iiit-hyderabad/SMAI-A2' target=\"_blank\">https://wandb.ai/ketakishetye0619-iiit-hyderabad/SMAI-A2</a><br>Synced 5 W&B file(s), 0 media file(s), 0 artifact file(s) and 0 other file(s)"
      ],
      "text/plain": [
       "<IPython.core.display.HTML object>"
      ]
     },
     "metadata": {},
     "output_type": "display_data"
    },
    {
     "data": {
      "text/html": [
       "Find logs at: <code>.\\wandb\\run-20250315_173522-chcfahvm\\logs</code>"
      ],
      "text/plain": [
       "<IPython.core.display.HTML object>"
      ]
     },
     "metadata": {},
     "output_type": "display_data"
    }
   ],
   "source": [
    "wandb.init(project=\"SMAI-A2\", name=\"2.3-Relu-BGD-Hyperparam2\")\n",
    "print(\"Initialising model\")\n",
    "model = MLP(input_dim, hidden_dim, output_dim,activation)   \n",
    "model.train(x_train,y_train,num_epochs,learning_rate,x_val,y_val,batch_size)\n",
    "y_pred_test=model.predict(x_test)\n",
    "test_loss=model.binary_cross_entropy(y_test,y_pred_test)\n",
    "test_accuracy,test_hamming_accuracy=model.calculate_accuracy(y_test,y_pred_test)\n",
    "print(f\"Test Loss:{test_loss},Test Accuracy:{test_accuracy},Test Hamming Accuracy:{test_hamming_accuracy}\")\n",
    "\n",
    "wandb.finish()"
   ]
  },
  {
   "cell_type": "markdown",
   "metadata": {},
   "source": [
    "### Relu-SGD"
   ]
  },
  {
   "cell_type": "code",
   "execution_count": 80,
   "metadata": {},
   "outputs": [],
   "source": [
    "np.random.seed(42)\n",
    "input_dim=5000\n",
    "hidden_dim=1024\n",
    "learning_rate=0.01\n",
    "num_epochs=100\n",
    "activation='relu'\n",
    "batch_size=None\n",
    "output_dim=y_train.shape[1]"
   ]
  },
  {
   "cell_type": "code",
   "execution_count": 76,
   "metadata": {},
   "outputs": [
    {
     "data": {
      "text/html": [
       "Tracking run with wandb version 0.19.8"
      ],
      "text/plain": [
       "<IPython.core.display.HTML object>"
      ]
     },
     "metadata": {},
     "output_type": "display_data"
    },
    {
     "data": {
      "text/html": [
       "Run data is saved locally in <code>d:\\SMAI\\Assignments\\A2\\wandb\\run-20250314_130458-eiw0wgbv</code>"
      ],
      "text/plain": [
       "<IPython.core.display.HTML object>"
      ]
     },
     "metadata": {},
     "output_type": "display_data"
    },
    {
     "data": {
      "text/html": [
       "Syncing run <strong><a href='https://wandb.ai/ketakishetye0619-iiit-hyderabad/SMAI-A2/runs/eiw0wgbv' target=\"_blank\">2.3-Relu-SGD</a></strong> to <a href='https://wandb.ai/ketakishetye0619-iiit-hyderabad/SMAI-A2' target=\"_blank\">Weights & Biases</a> (<a href='https://wandb.me/developer-guide' target=\"_blank\">docs</a>)<br>"
      ],
      "text/plain": [
       "<IPython.core.display.HTML object>"
      ]
     },
     "metadata": {},
     "output_type": "display_data"
    },
    {
     "data": {
      "text/html": [
       " View project at <a href='https://wandb.ai/ketakishetye0619-iiit-hyderabad/SMAI-A2' target=\"_blank\">https://wandb.ai/ketakishetye0619-iiit-hyderabad/SMAI-A2</a>"
      ],
      "text/plain": [
       "<IPython.core.display.HTML object>"
      ]
     },
     "metadata": {},
     "output_type": "display_data"
    },
    {
     "data": {
      "text/html": [
       " View run at <a href='https://wandb.ai/ketakishetye0619-iiit-hyderabad/SMAI-A2/runs/eiw0wgbv' target=\"_blank\">https://wandb.ai/ketakishetye0619-iiit-hyderabad/SMAI-A2/runs/eiw0wgbv</a>"
      ],
      "text/plain": [
       "<IPython.core.display.HTML object>"
      ]
     },
     "metadata": {},
     "output_type": "display_data"
    },
    {
     "name": "stdout",
     "output_type": "stream",
     "text": [
      "Initialising model\n"
     ]
    },
    {
     "name": "stderr",
     "output_type": "stream",
     "text": [
      "Training Progress:   1%|          | 1/100 [00:01<02:29,  1.51s/it]"
     ]
    },
    {
     "name": "stdout",
     "output_type": "stream",
     "text": [
      "Epoch: 0,Train Loss:0.9167808637657126,Train Accuracy:0.0,Train Hamming Accuracy:48.58085277554304\n",
      "Epoch: 0,Validation Loss:0.35498360531814777,Validation Accuracy:0.0,Validation Hamming Accuracy:87.81781781781783\n"
     ]
    },
    {
     "name": "stderr",
     "output_type": "stream",
     "text": [
      "Training Progress:  10%|█         | 10/100 [00:16<02:30,  1.68s/it]"
     ]
    },
    {
     "name": "stdout",
     "output_type": "stream",
     "text": [
      "Epoch: 9,Train Loss:0.10121757961011343,Train Accuracy:17.248592115848755,Train Hamming Accuracy:98.65987306695271\n",
      "Epoch: 9,Validation Loss:0.09609773184829741,Validation Accuracy:17.63191763191763,Validation Hamming Accuracy:98.65079365079366\n"
     ]
    },
    {
     "name": "stderr",
     "output_type": "stream",
     "text": [
      "Training Progress:  20%|██        | 20/100 [00:33<02:12,  1.66s/it]"
     ]
    },
    {
     "name": "stdout",
     "output_type": "stream",
     "text": [
      "Epoch: 19,Train Loss:0.07302691485390815,Train Accuracy:26.259050683829443,Train Hamming Accuracy:98.83060695450075\n",
      "Epoch: 19,Validation Loss:0.07481247608359021,Validation Accuracy:24.71042471042471,Validation Hamming Accuracy:98.78163878163878\n"
     ]
    },
    {
     "name": "stderr",
     "output_type": "stream",
     "text": [
      "Training Progress:  30%|███       | 30/100 [00:50<02:00,  1.71s/it]"
     ]
    },
    {
     "name": "stdout",
     "output_type": "stream",
     "text": [
      "Epoch: 29,Train Loss:0.06115414843397164,Train Accuracy:32.50201126307321,Train Hamming Accuracy:98.92518101367659\n",
      "Epoch: 29,Validation Loss:0.06543053120480014,Validation Accuracy:29.72972972972973,Validation Hamming Accuracy:98.86743886743888\n"
     ]
    },
    {
     "name": "stderr",
     "output_type": "stream",
     "text": [
      "Training Progress:  40%|████      | 40/100 [01:07<01:43,  1.73s/it]"
     ]
    },
    {
     "name": "stdout",
     "output_type": "stream",
     "text": [
      "Epoch: 39,Train Loss:0.053822789936919455,Train Accuracy:37.00724054706356,Train Hamming Accuracy:98.99776526325199\n",
      "Epoch: 39,Validation Loss:0.05958568933676613,Validation Accuracy:33.07593307593308,Validation Hamming Accuracy:98.92320892320893\n"
     ]
    },
    {
     "name": "stderr",
     "output_type": "stream",
     "text": [
      "Training Progress:  50%|█████     | 50/100 [01:24<01:25,  1.70s/it]"
     ]
    },
    {
     "name": "stdout",
     "output_type": "stream",
     "text": [
      "Epoch: 49,Train Loss:0.048562314082093154,Train Accuracy:40.56315366049879,Train Hamming Accuracy:99.05229283990346\n",
      "Epoch: 49,Validation Loss:0.05541257336738456,Validation Accuracy:35.77863577863578,Validation Hamming Accuracy:98.96753896753897\n"
     ]
    },
    {
     "name": "stderr",
     "output_type": "stream",
     "text": [
      "Training Progress:  60%|██████    | 60/100 [01:41<01:09,  1.73s/it]"
     ]
    },
    {
     "name": "stdout",
     "output_type": "stream",
     "text": [
      "Epoch: 59,Train Loss:0.04447247626163052,Train Accuracy:43.63636363636363,Train Hamming Accuracy:99.10199338517923\n",
      "Epoch: 59,Validation Loss:0.05220050981028083,Validation Accuracy:37.58043758043758,Validation Hamming Accuracy:98.998998998999\n"
     ]
    },
    {
     "name": "stderr",
     "output_type": "stream",
     "text": [
      "Training Progress:  70%|███████   | 70/100 [01:59<00:52,  1.76s/it]"
     ]
    },
    {
     "name": "stdout",
     "output_type": "stream",
     "text": [
      "Epoch: 69,Train Loss:0.041129979707618204,Train Accuracy:45.93724859211585,Train Hamming Accuracy:99.14257620452311\n",
      "Epoch: 69,Validation Loss:0.049607236957693666,Validation Accuracy:38.996138996138995,Validation Hamming Accuracy:99.02688402688403\n"
     ]
    },
    {
     "name": "stderr",
     "output_type": "stream",
     "text": [
      "Training Progress:  80%|████████  | 80/100 [02:15<00:32,  1.64s/it]"
     ]
    },
    {
     "name": "stdout",
     "output_type": "stream",
     "text": [
      "Epoch: 79,Train Loss:0.03830869775027453,Train Accuracy:48.624296057924376,Train Hamming Accuracy:99.18780727630285\n",
      "Epoch: 79,Validation Loss:0.04744644107634008,Validation Accuracy:40.34749034749035,Validation Hamming Accuracy:99.05190905190905\n"
     ]
    },
    {
     "name": "stderr",
     "output_type": "stream",
     "text": [
      "Training Progress:  90%|█████████ | 90/100 [02:32<00:17,  1.71s/it]"
     ]
    },
    {
     "name": "stdout",
     "output_type": "stream",
     "text": [
      "Epoch: 89,Train Loss:0.035872731658923886,Train Accuracy:51.00563153660499,Train Hamming Accuracy:99.22499329578976\n",
      "Epoch: 89,Validation Loss:0.04560405732038002,Validation Accuracy:41.6988416988417,Validation Hamming Accuracy:99.07407407407408\n"
     ]
    },
    {
     "name": "stderr",
     "output_type": "stream",
     "text": [
      "Training Progress: 100%|██████████| 100/100 [02:49<00:00,  1.69s/it]"
     ]
    },
    {
     "name": "stdout",
     "output_type": "stream",
     "text": [
      "Epoch: 99,Train Loss:0.033732124359231785,Train Accuracy:53.193885760257444,Train Hamming Accuracy:99.25914007329936\n",
      "Epoch: 99,Validation Loss:0.04400457323939395,Validation Accuracy:43.43629343629344,Validation Hamming Accuracy:99.1005291005291\n"
     ]
    },
    {
     "name": "stderr",
     "output_type": "stream",
     "text": [
      "\n"
     ]
    },
    {
     "name": "stdout",
     "output_type": "stream",
     "text": [
      "Test Loss:0.04710621023254192,Test Accuracy:48.22789002981119,Test Hamming Accuracy:99.12333002097824\n"
     ]
    },
    {
     "data": {
      "text/html": [],
      "text/plain": [
       "<IPython.core.display.HTML object>"
      ]
     },
     "metadata": {},
     "output_type": "display_data"
    },
    {
     "data": {
      "text/html": [
       "<br>    <style><br>        .wandb-row {<br>            display: flex;<br>            flex-direction: row;<br>            flex-wrap: wrap;<br>            justify-content: flex-start;<br>            width: 100%;<br>        }<br>        .wandb-col {<br>            display: flex;<br>            flex-direction: column;<br>            flex-basis: 100%;<br>            flex: 1;<br>            padding: 10px;<br>        }<br>    </style><br><div class=\"wandb-row\"><div class=\"wandb-col\"><h3>Run history:</h3><br/><table class=\"wandb\"><tr><td>Epoch</td><td>▁▁▁▁▁▂▂▂▂▂▃▃▃▃▃▃▃▃▄▄▄▄▅▅▅▅▅▅▆▆▆▆▆▇▇▇▇▇▇█</td></tr><tr><td>Train Accuracy</td><td>▁▁▂▂▃▄▄▅▅▅▅▅▅▆▆▆▆▆▆▆▇▇▇▇▇▇▇▇▇▇▇▇▇▇██████</td></tr><tr><td>Train Loss</td><td>█▂▂▁▁▁▁▁▁▁▁▁▁▁▁▁▁▁▁▁▁▁▁▁▁▁▁▁▁▁▁▁▁▁▁▁▁▁▁▁</td></tr><tr><td>Validation Accuracy</td><td>▁▂▂▃▃▄▄▄▄▅▅▅▅▅▅▆▆▆▆▆▆▆▇▇▇▇▇▇▇▇▇▇▇▇▇█████</td></tr><tr><td>Validation Loss</td><td>█▅▄▃▃▂▂▂▂▂▂▂▂▂▂▁▁▁▁▁▁▁▁▁▁▁▁▁▁▁▁▁▁▁▁▁▁▁▁▁</td></tr></table><br/></div><div class=\"wandb-col\"><h3>Run summary:</h3><br/><table class=\"wandb\"><tr><td>Epoch</td><td>99</td></tr><tr><td>Train Accuracy</td><td>53.19389</td></tr><tr><td>Train Loss</td><td>0.03373</td></tr><tr><td>Validation Accuracy</td><td>43.43629</td></tr><tr><td>Validation Loss</td><td>0.044</td></tr></table><br/></div></div>"
      ],
      "text/plain": [
       "<IPython.core.display.HTML object>"
      ]
     },
     "metadata": {},
     "output_type": "display_data"
    },
    {
     "data": {
      "text/html": [
       " View run <strong style=\"color:#cdcd00\">2.3-Relu-SGD</strong> at: <a href='https://wandb.ai/ketakishetye0619-iiit-hyderabad/SMAI-A2/runs/eiw0wgbv' target=\"_blank\">https://wandb.ai/ketakishetye0619-iiit-hyderabad/SMAI-A2/runs/eiw0wgbv</a><br> View project at: <a href='https://wandb.ai/ketakishetye0619-iiit-hyderabad/SMAI-A2' target=\"_blank\">https://wandb.ai/ketakishetye0619-iiit-hyderabad/SMAI-A2</a><br>Synced 5 W&B file(s), 0 media file(s), 0 artifact file(s) and 0 other file(s)"
      ],
      "text/plain": [
       "<IPython.core.display.HTML object>"
      ]
     },
     "metadata": {},
     "output_type": "display_data"
    },
    {
     "data": {
      "text/html": [
       "Find logs at: <code>.\\wandb\\run-20250314_130458-eiw0wgbv\\logs</code>"
      ],
      "text/plain": [
       "<IPython.core.display.HTML object>"
      ]
     },
     "metadata": {},
     "output_type": "display_data"
    }
   ],
   "source": [
    "wandb.init(project=\"SMAI-A2\", name=\"2.3-Relu-SGD\")\n",
    "print(\"Initialising model\")\n",
    "model = MLP(input_dim, hidden_dim, output_dim,activation)   \n",
    "model.train(x_train,y_train,num_epochs,learning_rate,x_val,y_val,batch_size)\n",
    "y_pred_test=model.predict(x_test)\n",
    "test_loss=model.binary_cross_entropy(y_test,y_pred_test)\n",
    "test_accuracy,test_hamming_accuracy=model.calculate_accuracy(y_test,y_pred_test)\n",
    "print(f\"Test Loss:{test_loss},Test Accuracy:{test_accuracy},Test Hamming Accuracy:{test_hamming_accuracy}\")\n",
    "\n",
    "wandb.finish()"
   ]
  },
  {
   "cell_type": "code",
   "execution_count": 30,
   "metadata": {},
   "outputs": [],
   "source": [
    "np.random.seed(42)\n",
    "input_dim=5000\n",
    "hidden_dim=512\n",
    "learning_rate=0.01\n",
    "num_epochs=100\n",
    "activation='relu'\n",
    "batch_size=None\n",
    "output_dim=y_train.shape[1]"
   ]
  },
  {
   "cell_type": "code",
   "execution_count": 31,
   "metadata": {},
   "outputs": [
    {
     "name": "stdout",
     "output_type": "stream",
     "text": [
      "Initialising model\n"
     ]
    },
    {
     "name": "stderr",
     "output_type": "stream",
     "text": [
      "Training Progress:   1%|          | 1/100 [00:00<01:15,  1.31it/s]"
     ]
    },
    {
     "name": "stdout",
     "output_type": "stream",
     "text": [
      "Epoch: 0,Train Loss:0.8763924419307746,Train Accuracy:0.0,Train Hamming Accuracy:51.18101367658889\n",
      "Epoch: 0,Validation Loss:0.5817003507954865,Validation Accuracy:0.0,Validation Hamming Accuracy:72.21006721006721\n"
     ]
    },
    {
     "name": "stderr",
     "output_type": "stream",
     "text": [
      "Training Progress:  10%|█         | 10/100 [00:09<01:23,  1.08it/s]"
     ]
    },
    {
     "name": "stdout",
     "output_type": "stream",
     "text": [
      "Epoch: 9,Train Loss:0.146229666288946,Train Accuracy:12.952534191472246,Train Hamming Accuracy:98.2401001162063\n",
      "Epoch: 9,Validation Loss:0.13227877746513064,Validation Accuracy:14.607464607464607,Validation Hamming Accuracy:98.32904332904333\n"
     ]
    },
    {
     "name": "stderr",
     "output_type": "stream",
     "text": [
      "Training Progress:  20%|██        | 20/100 [00:18<01:17,  1.03it/s]"
     ]
    },
    {
     "name": "stdout",
     "output_type": "stream",
     "text": [
      "Epoch: 19,Train Loss:0.0912492442940326,Train Accuracy:25.068382944489137,Train Hamming Accuracy:98.77375525163136\n",
      "Epoch: 19,Validation Loss:0.08955633113352489,Validation Accuracy:23.166023166023166,Validation Hamming Accuracy:98.75089375089375\n"
     ]
    },
    {
     "name": "stderr",
     "output_type": "stream",
     "text": [
      "Training Progress:  30%|███       | 30/100 [00:28<01:07,  1.03it/s]"
     ]
    },
    {
     "name": "stdout",
     "output_type": "stream",
     "text": [
      "Epoch: 29,Train Loss:0.07109868822104,Train Accuracy:31.842316975060335,Train Hamming Accuracy:98.89836417270045\n",
      "Epoch: 29,Validation Loss:0.07351332796486287,Validation Accuracy:27.99227799227799,Validation Hamming Accuracy:98.83883883883884\n"
     ]
    },
    {
     "name": "stderr",
     "output_type": "stream",
     "text": [
      "Training Progress:  40%|████      | 40/100 [00:37<00:55,  1.09it/s]"
     ]
    },
    {
     "name": "stdout",
     "output_type": "stream",
     "text": [
      "Epoch: 39,Train Loss:0.06014362962642321,Train Accuracy:36.36363636363637,Train Hamming Accuracy:98.97559667471172\n",
      "Epoch: 39,Validation Loss:0.06478452134889469,Validation Accuracy:31.66023166023166,Validation Hamming Accuracy:98.8981838981839\n"
     ]
    },
    {
     "name": "stderr",
     "output_type": "stream",
     "text": [
      "Training Progress:  50%|█████     | 50/100 [00:46<00:44,  1.11it/s]"
     ]
    },
    {
     "name": "stdout",
     "output_type": "stream",
     "text": [
      "Epoch: 49,Train Loss:0.05301732853584617,Train Accuracy:39.85518905872888,Train Hamming Accuracy:99.03226959864128\n",
      "Epoch: 49,Validation Loss:0.059149089626179395,Validation Accuracy:34.16988416988417,Validation Hamming Accuracy:98.93750893750894\n"
     ]
    },
    {
     "name": "stderr",
     "output_type": "stream",
     "text": [
      "Training Progress:  60%|██████    | 60/100 [00:55<00:36,  1.10it/s]"
     ]
    },
    {
     "name": "stdout",
     "output_type": "stream",
     "text": [
      "Epoch: 59,Train Loss:0.04785842967481443,Train Accuracy:42.59050683829445,Train Hamming Accuracy:99.07714311254135\n",
      "Epoch: 59,Validation Loss:0.055112686348463176,Validation Accuracy:35.77863577863578,Validation Hamming Accuracy:98.96110396110396\n"
     ]
    },
    {
     "name": "stderr",
     "output_type": "stream",
     "text": [
      "Training Progress:  70%|███████   | 70/100 [01:04<00:25,  1.16it/s]"
     ]
    },
    {
     "name": "stdout",
     "output_type": "stream",
     "text": [
      "Epoch: 69,Train Loss:0.043852477686930805,Train Accuracy:44.9396621078037,Train Hamming Accuracy:99.11665325824617\n",
      "Epoch: 69,Validation Loss:0.052017543116446734,Validation Accuracy:38.15958815958816,Validation Hamming Accuracy:98.999713999714\n"
     ]
    },
    {
     "name": "stderr",
     "output_type": "stream",
     "text": [
      "Training Progress:  80%|████████  | 80/100 [01:13<00:18,  1.11it/s]"
     ]
    },
    {
     "name": "stdout",
     "output_type": "stream",
     "text": [
      "Epoch: 79,Train Loss:0.04059098984240564,Train Accuracy:47.256637168141594,Train Hamming Accuracy:99.1565209618307\n",
      "Epoch: 79,Validation Loss:0.04952983731560516,Validation Accuracy:39.768339768339764,Validation Hamming Accuracy:99.03188903188904\n"
     ]
    },
    {
     "name": "stderr",
     "output_type": "stream",
     "text": [
      "Training Progress:  90%|█████████ | 90/100 [01:21<00:08,  1.13it/s]"
     ]
    },
    {
     "name": "stdout",
     "output_type": "stream",
     "text": [
      "Epoch: 89,Train Loss:0.03784552055517517,Train Accuracy:49.782783588093324,Train Hamming Accuracy:99.1967462232949\n",
      "Epoch: 89,Validation Loss:0.047460830360257715,Validation Accuracy:40.99099099099099,Validation Hamming Accuracy:99.05762905762906\n"
     ]
    },
    {
     "name": "stderr",
     "output_type": "stream",
     "text": [
      "Training Progress: 100%|██████████| 100/100 [01:31<00:00,  1.10it/s]"
     ]
    },
    {
     "name": "stdout",
     "output_type": "stream",
     "text": [
      "Epoch: 99,Train Loss:0.03548004473798695,Train Accuracy:51.72968624296058,Train Hamming Accuracy:99.23160811656388\n",
      "Epoch: 99,Validation Loss:0.04569883727435366,Validation Accuracy:42.02059202059202,Validation Hamming Accuracy:99.07335907335907\n",
      "Test Loss:0.04825348012792756,Test Accuracy:45.21364690294799,Test Hamming Accuracy:99.07916528651872\n"
     ]
    },
    {
     "name": "stderr",
     "output_type": "stream",
     "text": [
      "\n"
     ]
    },
    {
     "data": {
      "text/html": [],
      "text/plain": [
       "<IPython.core.display.HTML object>"
      ]
     },
     "metadata": {},
     "output_type": "display_data"
    },
    {
     "data": {
      "text/html": [
       "<br>    <style><br>        .wandb-row {<br>            display: flex;<br>            flex-direction: row;<br>            flex-wrap: wrap;<br>            justify-content: flex-start;<br>            width: 100%;<br>        }<br>        .wandb-col {<br>            display: flex;<br>            flex-direction: column;<br>            flex-basis: 100%;<br>            flex: 1;<br>            padding: 10px;<br>        }<br>    </style><br><div class=\"wandb-row\"><div class=\"wandb-col\"><h3>Run history:</h3><br/><table class=\"wandb\"><tr><td>Epoch</td><td>▁▁▁▂▂▂▂▃▃▃▃▃▃▄▄▄▄▄▅▅▅▅▅▅▅▆▆▆▆▆▆▇▇▇▇▇▇███</td></tr><tr><td>Train Accuracy</td><td>▅█▁▁▁▂▂▂▂▃▃▃▃▃▃▃▃▄▄▄▄▄▄▄▄▄▄▄▄▄▄▄▄▄▄▅▅▅▅▅</td></tr><tr><td>Train Loss</td><td>▁█▆▄▃▂▂▂▂▂▂▂▂▂▂▁▁▁▁▁▁▁▁▁▁▁▁▁▁▁▁▁▁▁▁▁▁▁▁▁</td></tr><tr><td>Validation Accuracy</td><td>███▁▁▁▂▂▃▃▃▄▄▄▄▄▄▄▄▄▄▄▄▄▄▄▄▄▅▅▅▅▅▅▅▅▅▅▅▅</td></tr><tr><td>Validation Loss</td><td>▁▁█▄▃▃▃▃▃▃▃▃▂▂▂▂▂▂▂▂▂▂▂▂▂▂▂▂▂▂▂▂▂▂▂▂▂▂▂▂</td></tr></table><br/></div><div class=\"wandb-col\"><h3>Run summary:</h3><br/><table class=\"wandb\"><tr><td>Epoch</td><td>99</td></tr><tr><td>Train Accuracy</td><td>51.72969</td></tr><tr><td>Train Loss</td><td>0.03548</td></tr><tr><td>Validation Accuracy</td><td>42.02059</td></tr><tr><td>Validation Loss</td><td>0.0457</td></tr></table><br/></div></div>"
      ],
      "text/plain": [
       "<IPython.core.display.HTML object>"
      ]
     },
     "metadata": {},
     "output_type": "display_data"
    },
    {
     "data": {
      "text/html": [
       " View run <strong style=\"color:#cdcd00\">2.3-Sigmoid-SGD</strong> at: <a href='https://wandb.ai/ketakishetye0619-iiit-hyderabad/SMAI-A2/runs/uoiferxf' target=\"_blank\">https://wandb.ai/ketakishetye0619-iiit-hyderabad/SMAI-A2/runs/uoiferxf</a><br> View project at: <a href='https://wandb.ai/ketakishetye0619-iiit-hyderabad/SMAI-A2' target=\"_blank\">https://wandb.ai/ketakishetye0619-iiit-hyderabad/SMAI-A2</a><br>Synced 5 W&B file(s), 0 media file(s), 0 artifact file(s) and 0 other file(s)"
      ],
      "text/plain": [
       "<IPython.core.display.HTML object>"
      ]
     },
     "metadata": {},
     "output_type": "display_data"
    },
    {
     "data": {
      "text/html": [
       "Find logs at: <code>.\\wandb\\run-20250315_175038-uoiferxf\\logs</code>"
      ],
      "text/plain": [
       "<IPython.core.display.HTML object>"
      ]
     },
     "metadata": {},
     "output_type": "display_data"
    }
   ],
   "source": [
    "wandb.init(project=\"SMAI-A2\", name=\"2.3-Relu-SGD-Hyperparam1\")\n",
    "print(\"Initialising model\")\n",
    "model = MLP(input_dim, hidden_dim, output_dim,activation)   \n",
    "model.train(x_train,y_train,num_epochs,learning_rate,x_val,y_val,batch_size)\n",
    "y_pred_test=model.predict(x_test)\n",
    "test_loss=model.binary_cross_entropy(y_test,y_pred_test)\n",
    "test_accuracy,test_hamming_accuracy=model.calculate_accuracy(y_test,y_pred_test)\n",
    "print(f\"Test Loss:{test_loss},Test Accuracy:{test_accuracy},Test Hamming Accuracy:{test_hamming_accuracy}\")\n",
    "\n",
    "wandb.finish()"
   ]
  },
  {
   "cell_type": "code",
   "execution_count": 32,
   "metadata": {},
   "outputs": [],
   "source": [
    "np.random.seed(42)\n",
    "input_dim=5000\n",
    "hidden_dim=1024\n",
    "learning_rate=0.001\n",
    "num_epochs=100\n",
    "activation='relu'\n",
    "batch_size=None\n",
    "output_dim=y_train.shape[1]"
   ]
  },
  {
   "cell_type": "code",
   "execution_count": 33,
   "metadata": {},
   "outputs": [
    {
     "data": {
      "text/html": [
       "Tracking run with wandb version 0.19.8"
      ],
      "text/plain": [
       "<IPython.core.display.HTML object>"
      ]
     },
     "metadata": {},
     "output_type": "display_data"
    },
    {
     "data": {
      "text/html": [
       "Run data is saved locally in <code>d:\\SMAI\\Assignments\\A2\\wandb\\run-20250315_180603-shskkgxn</code>"
      ],
      "text/plain": [
       "<IPython.core.display.HTML object>"
      ]
     },
     "metadata": {},
     "output_type": "display_data"
    },
    {
     "data": {
      "text/html": [
       "Syncing run <strong><a href='https://wandb.ai/ketakishetye0619-iiit-hyderabad/SMAI-A2/runs/shskkgxn' target=\"_blank\">2.3-Relu-SGD-Hyperparam2</a></strong> to <a href='https://wandb.ai/ketakishetye0619-iiit-hyderabad/SMAI-A2' target=\"_blank\">Weights & Biases</a> (<a href='https://wandb.me/developer-guide' target=\"_blank\">docs</a>)<br>"
      ],
      "text/plain": [
       "<IPython.core.display.HTML object>"
      ]
     },
     "metadata": {},
     "output_type": "display_data"
    },
    {
     "data": {
      "text/html": [
       " View project at <a href='https://wandb.ai/ketakishetye0619-iiit-hyderabad/SMAI-A2' target=\"_blank\">https://wandb.ai/ketakishetye0619-iiit-hyderabad/SMAI-A2</a>"
      ],
      "text/plain": [
       "<IPython.core.display.HTML object>"
      ]
     },
     "metadata": {},
     "output_type": "display_data"
    },
    {
     "data": {
      "text/html": [
       " View run at <a href='https://wandb.ai/ketakishetye0619-iiit-hyderabad/SMAI-A2/runs/shskkgxn' target=\"_blank\">https://wandb.ai/ketakishetye0619-iiit-hyderabad/SMAI-A2/runs/shskkgxn</a>"
      ],
      "text/plain": [
       "<IPython.core.display.HTML object>"
      ]
     },
     "metadata": {},
     "output_type": "display_data"
    },
    {
     "name": "stdout",
     "output_type": "stream",
     "text": [
      "Initialising model\n"
     ]
    },
    {
     "name": "stderr",
     "output_type": "stream",
     "text": [
      "Training Progress:   1%|          | 1/100 [00:01<02:44,  1.66s/it]"
     ]
    },
    {
     "name": "stdout",
     "output_type": "stream",
     "text": [
      "Epoch: 0,Train Loss:0.9174037545397506,Train Accuracy:0.0,Train Hamming Accuracy:48.5207830517565\n",
      "Epoch: 0,Validation Loss:0.9233020882333469,Validation Accuracy:0.0,Validation Hamming Accuracy:52.56542256542257\n"
     ]
    },
    {
     "name": "stderr",
     "output_type": "stream",
     "text": [
      "Training Progress:  10%|█         | 10/100 [00:16<02:26,  1.63s/it]"
     ]
    },
    {
     "name": "stdout",
     "output_type": "stream",
     "text": [
      "Epoch: 9,Train Loss:0.46933166703892454,Train Accuracy:0.0,Train Hamming Accuracy:79.3909001519621\n",
      "Epoch: 9,Validation Loss:0.4513197080610383,Validation Accuracy:0.0,Validation Hamming Accuracy:81.17546117546117\n"
     ]
    },
    {
     "name": "stderr",
     "output_type": "stream",
     "text": [
      "Training Progress:  20%|██        | 20/100 [00:33<02:19,  1.74s/it]"
     ]
    },
    {
     "name": "stdout",
     "output_type": "stream",
     "text": [
      "Epoch: 19,Train Loss:0.29316267891360304,Train Accuracy:0.08045052292839903,Train Hamming Accuracy:92.3366407437204\n",
      "Epoch: 19,Validation Loss:0.27616939537863455,Validation Accuracy:0.06435006435006435,Validation Hamming Accuracy:92.72701272701272\n"
     ]
    },
    {
     "name": "stderr",
     "output_type": "stream",
     "text": [
      "Training Progress:  30%|███       | 30/100 [00:50<01:56,  1.67s/it]"
     ]
    },
    {
     "name": "stdout",
     "output_type": "stream",
     "text": [
      "Epoch: 29,Train Loss:0.21798500593865122,Train Accuracy:1.834271922767498,Train Hamming Accuracy:96.23598820058997\n",
      "Epoch: 29,Validation Loss:0.20449631305754584,Validation Accuracy:2.187902187902188,Validation Hamming Accuracy:96.27770627770627\n"
     ]
    },
    {
     "name": "stderr",
     "output_type": "stream",
     "text": [
      "Training Progress:  40%|████      | 40/100 [01:07<01:40,  1.67s/it]"
     ]
    },
    {
     "name": "stdout",
     "output_type": "stream",
     "text": [
      "Epoch: 39,Train Loss:0.17790310997964887,Train Accuracy:5.454545454545454,Train Hamming Accuracy:97.55734334495396\n",
      "Epoch: 39,Validation Loss:0.16741257607833354,Validation Accuracy:5.7915057915057915,Validation Hamming Accuracy:97.5983125983126\n"
     ]
    },
    {
     "name": "stderr",
     "output_type": "stream",
     "text": [
      "Training Progress:  50%|█████     | 50/100 [01:24<01:25,  1.71s/it]"
     ]
    },
    {
     "name": "stdout",
     "output_type": "stream",
     "text": [
      "Epoch: 49,Train Loss:0.15323618751225015,Train Accuracy:9.05872888173773,Train Hamming Accuracy:98.08527755430411\n",
      "Epoch: 49,Validation Loss:0.1451132454385694,Validation Accuracy:8.815958815958815,Validation Hamming Accuracy:98.08379808379809\n"
     ]
    },
    {
     "name": "stderr",
     "output_type": "stream",
     "text": [
      "Training Progress:  60%|██████    | 60/100 [01:41<01:08,  1.71s/it]"
     ]
    },
    {
     "name": "stdout",
     "output_type": "stream",
     "text": [
      "Epoch: 59,Train Loss:0.1365394003915101,Train Accuracy:11.64923572003218,Train Hamming Accuracy:98.34611602753196\n",
      "Epoch: 59,Validation Loss:0.13027625540423218,Validation Accuracy:11.196911196911197,Validation Hamming Accuracy:98.32832832832833\n"
     ]
    },
    {
     "name": "stderr",
     "output_type": "stream",
     "text": [
      "Training Progress:  70%|███████   | 70/100 [01:58<00:51,  1.72s/it]"
     ]
    },
    {
     "name": "stdout",
     "output_type": "stream",
     "text": [
      "Epoch: 69,Train Loss:0.12445559191194741,Train Accuracy:13.37087691069992,Train Hamming Accuracy:98.48377581120944\n",
      "Epoch: 69,Validation Loss:0.11967487066973571,Validation Accuracy:12.676962676962678,Validation Hamming Accuracy:98.45988845988846\n"
     ]
    },
    {
     "name": "stderr",
     "output_type": "stream",
     "text": [
      "Training Progress:  80%|████████  | 80/100 [02:14<00:33,  1.66s/it]"
     ]
    },
    {
     "name": "stdout",
     "output_type": "stream",
     "text": [
      "Epoch: 79,Train Loss:0.11526895080376992,Train Accuracy:15.12469831053902,Train Hamming Accuracy:98.56297488155896\n",
      "Epoch: 79,Validation Loss:0.11169558348109224,Validation Accuracy:14.157014157014158,Validation Hamming Accuracy:98.52423852423853\n"
     ]
    },
    {
     "name": "stderr",
     "output_type": "stream",
     "text": [
      "Training Progress:  90%|█████████ | 90/100 [02:31<00:17,  1.75s/it]"
     ]
    },
    {
     "name": "stdout",
     "output_type": "stream",
     "text": [
      "Epoch: 89,Train Loss:0.10801722231970882,Train Accuracy:16.427996781979083,Train Hamming Accuracy:98.61839635290963\n",
      "Epoch: 89,Validation Loss:0.10544731569110927,Validation Accuracy:15.444015444015443,Validation Hamming Accuracy:98.57071357071358\n"
     ]
    },
    {
     "name": "stderr",
     "output_type": "stream",
     "text": [
      "Training Progress: 100%|██████████| 100/100 [02:49<00:00,  1.69s/it]"
     ]
    },
    {
     "name": "stdout",
     "output_type": "stream",
     "text": [
      "Epoch: 99,Train Loss:0.10212061208726779,Train Accuracy:17.779565567176185,Train Hamming Accuracy:98.6580852775543\n",
      "Epoch: 99,Validation Loss:0.100399552500795,Validation Accuracy:16.53796653796654,Validation Hamming Accuracy:98.6086086086086\n"
     ]
    },
    {
     "name": "stderr",
     "output_type": "stream",
     "text": [
      "\n"
     ]
    },
    {
     "name": "stdout",
     "output_type": "stream",
     "text": [
      "Test Loss:0.10296203568012342,Test Accuracy:18.25107651540245,Test Hamming Accuracy:98.63089323175444\n"
     ]
    },
    {
     "data": {
      "text/html": [],
      "text/plain": [
       "<IPython.core.display.HTML object>"
      ]
     },
     "metadata": {},
     "output_type": "display_data"
    },
    {
     "data": {
      "text/html": [
       "<br>    <style><br>        .wandb-row {<br>            display: flex;<br>            flex-direction: row;<br>            flex-wrap: wrap;<br>            justify-content: flex-start;<br>            width: 100%;<br>        }<br>        .wandb-col {<br>            display: flex;<br>            flex-direction: column;<br>            flex-basis: 100%;<br>            flex: 1;<br>            padding: 10px;<br>        }<br>    </style><br><div class=\"wandb-row\"><div class=\"wandb-col\"><h3>Run history:</h3><br/><table class=\"wandb\"><tr><td>Epoch</td><td>▁▁▁▂▂▂▂▂▂▃▃▃▃▃▃▄▄▄▄▄▄▅▅▅▅▅▅▅▅▆▆▆▇▇▇▇▇▇██</td></tr><tr><td>Train Accuracy</td><td>▁▁▁▁▁▁▁▂▂▂▃▃▃▃▃▄▄▄▄▅▅▅▆▆▆▆▆▆▆▇▇▇▇▇▇▇████</td></tr><tr><td>Train Loss</td><td>█▇▇▅▄▃▃▃▃▃▂▂▂▂▂▂▂▂▂▁▁▁▁▁▁▁▁▁▁▁▁▁▁▁▁▁▁▁▁▁</td></tr><tr><td>Validation Accuracy</td><td>▁▁▁▁▁▁▁▁▁▁▁▁▁▂▃▄▄▄▄▅▅▆▆▆▆▆▇▇▇▇▇▇▇▇▇▇████</td></tr><tr><td>Validation Loss</td><td>█▇▆▆▅▄▄▃▃▃▂▂▂▂▂▂▁▁▁▁▁▁▁▁▁▁▁▁▁▁▁▁▁▁▁▁▁▁▁▁</td></tr></table><br/></div><div class=\"wandb-col\"><h3>Run summary:</h3><br/><table class=\"wandb\"><tr><td>Epoch</td><td>99</td></tr><tr><td>Train Accuracy</td><td>17.77957</td></tr><tr><td>Train Loss</td><td>0.10212</td></tr><tr><td>Validation Accuracy</td><td>16.53797</td></tr><tr><td>Validation Loss</td><td>0.1004</td></tr></table><br/></div></div>"
      ],
      "text/plain": [
       "<IPython.core.display.HTML object>"
      ]
     },
     "metadata": {},
     "output_type": "display_data"
    },
    {
     "data": {
      "text/html": [
       " View run <strong style=\"color:#cdcd00\">2.3-Relu-SGD-Hyperparam2</strong> at: <a href='https://wandb.ai/ketakishetye0619-iiit-hyderabad/SMAI-A2/runs/shskkgxn' target=\"_blank\">https://wandb.ai/ketakishetye0619-iiit-hyderabad/SMAI-A2/runs/shskkgxn</a><br> View project at: <a href='https://wandb.ai/ketakishetye0619-iiit-hyderabad/SMAI-A2' target=\"_blank\">https://wandb.ai/ketakishetye0619-iiit-hyderabad/SMAI-A2</a><br>Synced 5 W&B file(s), 0 media file(s), 0 artifact file(s) and 0 other file(s)"
      ],
      "text/plain": [
       "<IPython.core.display.HTML object>"
      ]
     },
     "metadata": {},
     "output_type": "display_data"
    },
    {
     "data": {
      "text/html": [
       "Find logs at: <code>.\\wandb\\run-20250315_180603-shskkgxn\\logs</code>"
      ],
      "text/plain": [
       "<IPython.core.display.HTML object>"
      ]
     },
     "metadata": {},
     "output_type": "display_data"
    }
   ],
   "source": [
    "wandb.init(project=\"SMAI-A2\", name=\"2.3-Relu-SGD-Hyperparam2\")\n",
    "print(\"Initialising model\")\n",
    "model = MLP(input_dim, hidden_dim, output_dim,activation)   \n",
    "model.train(x_train,y_train,num_epochs,learning_rate,x_val,y_val,batch_size)\n",
    "y_pred_test=model.predict(x_test)\n",
    "test_loss=model.binary_cross_entropy(y_test,y_pred_test)\n",
    "test_accuracy,test_hamming_accuracy=model.calculate_accuracy(y_test,y_pred_test)\n",
    "print(f\"Test Loss:{test_loss},Test Accuracy:{test_accuracy},Test Hamming Accuracy:{test_hamming_accuracy}\")\n",
    "\n",
    "wandb.finish()"
   ]
  },
  {
   "cell_type": "markdown",
   "metadata": {},
   "source": [
    "### Relu-MBGD"
   ]
  },
  {
   "cell_type": "code",
   "execution_count": 77,
   "metadata": {},
   "outputs": [],
   "source": [
    "np.random.seed(42)\n",
    "input_dim=5000\n",
    "hidden_dim=1024\n",
    "learning_rate=0.01\n",
    "num_epochs=50\n",
    "activation='relu'\n",
    "batch_size=256\n",
    "output_dim=y_train.shape[1]"
   ]
  },
  {
   "cell_type": "code",
   "execution_count": 78,
   "metadata": {},
   "outputs": [
    {
     "data": {
      "text/html": [
       "Tracking run with wandb version 0.19.8"
      ],
      "text/plain": [
       "<IPython.core.display.HTML object>"
      ]
     },
     "metadata": {},
     "output_type": "display_data"
    },
    {
     "data": {
      "text/html": [
       "Run data is saved locally in <code>d:\\SMAI\\Assignments\\A2\\wandb\\run-20250314_130752-bymdgnnk</code>"
      ],
      "text/plain": [
       "<IPython.core.display.HTML object>"
      ]
     },
     "metadata": {},
     "output_type": "display_data"
    },
    {
     "data": {
      "text/html": [
       "Syncing run <strong><a href='https://wandb.ai/ketakishetye0619-iiit-hyderabad/SMAI-A2/runs/bymdgnnk' target=\"_blank\">2.3-Relu-MBGD</a></strong> to <a href='https://wandb.ai/ketakishetye0619-iiit-hyderabad/SMAI-A2' target=\"_blank\">Weights & Biases</a> (<a href='https://wandb.me/developer-guide' target=\"_blank\">docs</a>)<br>"
      ],
      "text/plain": [
       "<IPython.core.display.HTML object>"
      ]
     },
     "metadata": {},
     "output_type": "display_data"
    },
    {
     "data": {
      "text/html": [
       " View project at <a href='https://wandb.ai/ketakishetye0619-iiit-hyderabad/SMAI-A2' target=\"_blank\">https://wandb.ai/ketakishetye0619-iiit-hyderabad/SMAI-A2</a>"
      ],
      "text/plain": [
       "<IPython.core.display.HTML object>"
      ]
     },
     "metadata": {},
     "output_type": "display_data"
    },
    {
     "data": {
      "text/html": [
       " View run at <a href='https://wandb.ai/ketakishetye0619-iiit-hyderabad/SMAI-A2/runs/bymdgnnk' target=\"_blank\">https://wandb.ai/ketakishetye0619-iiit-hyderabad/SMAI-A2/runs/bymdgnnk</a>"
      ],
      "text/plain": [
       "<IPython.core.display.HTML object>"
      ]
     },
     "metadata": {},
     "output_type": "display_data"
    },
    {
     "name": "stdout",
     "output_type": "stream",
     "text": [
      "Initialising model\n"
     ]
    },
    {
     "name": "stderr",
     "output_type": "stream",
     "text": [
      "Training Progress:   2%|▏         | 1/50 [00:02<01:55,  2.35s/it]"
     ]
    },
    {
     "name": "stdout",
     "output_type": "stream",
     "text": [
      "Epoch: 0,Train Loss:0.14552341660441584,Train Accuracy:17.374339788732396,Train Hamming Accuracy:96.08194933489827\n",
      "Epoch: 0,Validation Loss:0.0691333320816532,Validation Accuracy:27.220077220077222,Validation Hamming Accuracy:98.83669383669384\n"
     ]
    },
    {
     "name": "stderr",
     "output_type": "stream",
     "text": [
      "Training Progress:  20%|██        | 10/50 [00:23<01:32,  2.31s/it]"
     ]
    },
    {
     "name": "stdout",
     "output_type": "stream",
     "text": [
      "Epoch: 9,Train Loss:0.018142677865957225,Train Accuracy:71.68617957746478,Train Hamming Accuracy:99.55469483568075\n",
      "Epoch: 9,Validation Loss:0.0321642925463274,Validation Accuracy:52.96010296010296,Validation Hamming Accuracy:99.26640926640925\n"
     ]
    },
    {
     "name": "stderr",
     "output_type": "stream",
     "text": [
      "Training Progress:  40%|████      | 20/50 [00:45<01:06,  2.20s/it]"
     ]
    },
    {
     "name": "stdout",
     "output_type": "stream",
     "text": [
      "Epoch: 19,Train Loss:0.008793302480880966,Train Accuracy:87.51474471830987,Train Hamming Accuracy:99.80463615023477\n",
      "Epoch: 19,Validation Loss:0.02713482412751616,Validation Accuracy:59.009009009009006,Validation Hamming Accuracy:99.35220935220936\n"
     ]
    },
    {
     "name": "stderr",
     "output_type": "stream",
     "text": [
      "Training Progress:  60%|██████    | 30/50 [01:08<00:47,  2.36s/it]"
     ]
    },
    {
     "name": "stdout",
     "output_type": "stream",
     "text": [
      "Epoch: 29,Train Loss:0.005511414687292759,Train Accuracy:93.69322183098592,Train Hamming Accuracy:99.89773327464789\n",
      "Epoch: 29,Validation Loss:0.025710584321767788,Validation Accuracy:61.38996138996139,Validation Hamming Accuracy:99.38509938509938\n"
     ]
    },
    {
     "name": "stderr",
     "output_type": "stream",
     "text": [
      "Training Progress:  80%|████████  | 40/50 [01:30<00:22,  2.26s/it]"
     ]
    },
    {
     "name": "stdout",
     "output_type": "stream",
     "text": [
      "Epoch: 39,Train Loss:0.0038407689796089483,Train Accuracy:96.39348591549296,Train Hamming Accuracy:99.94062010954616\n",
      "Epoch: 39,Validation Loss:0.025304773801154545,Validation Accuracy:62.93436293436293,Validation Hamming Accuracy:99.4036894036894\n"
     ]
    },
    {
     "name": "stderr",
     "output_type": "stream",
     "text": [
      "Training Progress: 100%|██████████| 50/50 [01:52<00:00,  2.26s/it]"
     ]
    },
    {
     "name": "stdout",
     "output_type": "stream",
     "text": [
      "Epoch: 49,Train Loss:0.0029355810720688926,Train Accuracy:97.71875,Train Hamming Accuracy:99.9625\n",
      "Epoch: 49,Validation Loss:0.02517176906836825,Validation Accuracy:63.64221364221364,Validation Hamming Accuracy:99.41226941226941\n"
     ]
    },
    {
     "name": "stderr",
     "output_type": "stream",
     "text": [
      "\n"
     ]
    },
    {
     "name": "stdout",
     "output_type": "stream",
     "text": [
      "Test Loss:0.032840260546808275,Test Accuracy:61.70917522358397,Test Hamming Accuracy:99.35298664016783\n"
     ]
    },
    {
     "data": {
      "text/html": [],
      "text/plain": [
       "<IPython.core.display.HTML object>"
      ]
     },
     "metadata": {},
     "output_type": "display_data"
    },
    {
     "data": {
      "text/html": [
       "<br>    <style><br>        .wandb-row {<br>            display: flex;<br>            flex-direction: row;<br>            flex-wrap: wrap;<br>            justify-content: flex-start;<br>            width: 100%;<br>        }<br>        .wandb-col {<br>            display: flex;<br>            flex-direction: column;<br>            flex-basis: 100%;<br>            flex: 1;<br>            padding: 10px;<br>        }<br>    </style><br><div class=\"wandb-row\"><div class=\"wandb-col\"><h3>Run history:</h3><br/><table class=\"wandb\"><tr><td>Epoch</td><td>▁▁▁▁▂▂▂▂▂▂▃▃▃▃▃▄▄▄▄▄▅▅▅▅▅▆▆▆▆▆▆▇▇▇▇▇▇███</td></tr><tr><td>Train Accuracy</td><td>▁▃▃▄▄▅▅▆▆▆▆▆▇▇▇▇▇▇▇▇▇███████████████████</td></tr><tr><td>Train Loss</td><td>█▃▃▂▂▂▂▂▂▂▁▁▁▁▁▁▁▁▁▁▁▁▁▁▁▁▁▁▁▁▁▁▁▁▁▁▁▁▁▁</td></tr><tr><td>Validation Accuracy</td><td>▁▃▄▄▄▅▆▆▆▆▆▇▇▇▇▇▇▇▇▇▇▇▇▇████████████████</td></tr><tr><td>Validation Loss</td><td>█▆▅▄▃▃▂▂▂▂▂▂▂▁▁▁▁▁▁▁▁▁▁▁▁▁▁▁▁▁▁▁▁▁▁▁▁▁▁▁</td></tr></table><br/></div><div class=\"wandb-col\"><h3>Run summary:</h3><br/><table class=\"wandb\"><tr><td>Epoch</td><td>49</td></tr><tr><td>Train Accuracy</td><td>97.71875</td></tr><tr><td>Train Loss</td><td>0.00294</td></tr><tr><td>Validation Accuracy</td><td>63.64221</td></tr><tr><td>Validation Loss</td><td>0.02517</td></tr></table><br/></div></div>"
      ],
      "text/plain": [
       "<IPython.core.display.HTML object>"
      ]
     },
     "metadata": {},
     "output_type": "display_data"
    },
    {
     "data": {
      "text/html": [
       " View run <strong style=\"color:#cdcd00\">2.3-Relu-MBGD</strong> at: <a href='https://wandb.ai/ketakishetye0619-iiit-hyderabad/SMAI-A2/runs/bymdgnnk' target=\"_blank\">https://wandb.ai/ketakishetye0619-iiit-hyderabad/SMAI-A2/runs/bymdgnnk</a><br> View project at: <a href='https://wandb.ai/ketakishetye0619-iiit-hyderabad/SMAI-A2' target=\"_blank\">https://wandb.ai/ketakishetye0619-iiit-hyderabad/SMAI-A2</a><br>Synced 5 W&B file(s), 0 media file(s), 0 artifact file(s) and 0 other file(s)"
      ],
      "text/plain": [
       "<IPython.core.display.HTML object>"
      ]
     },
     "metadata": {},
     "output_type": "display_data"
    },
    {
     "data": {
      "text/html": [
       "Find logs at: <code>.\\wandb\\run-20250314_130752-bymdgnnk\\logs</code>"
      ],
      "text/plain": [
       "<IPython.core.display.HTML object>"
      ]
     },
     "metadata": {},
     "output_type": "display_data"
    }
   ],
   "source": [
    "wandb.init(project=\"SMAI-A2\", name=\"2.3-Relu-MBGD\")\n",
    "print(\"Initialising model\")\n",
    "model = MLP(input_dim, hidden_dim, output_dim,activation)   \n",
    "model.train(x_train,y_train,num_epochs,learning_rate,x_val,y_val,batch_size)\n",
    "y_pred_test=model.predict(x_test)\n",
    "test_loss=model.binary_cross_entropy(y_test,y_pred_test)\n",
    "test_accuracy,test_hamming_accuracy=model.calculate_accuracy(y_test,y_pred_test)\n",
    "print(f\"Test Loss:{test_loss},Test Accuracy:{test_accuracy},Test Hamming Accuracy:{test_hamming_accuracy}\")\n",
    "\n",
    "wandb.finish()"
   ]
  },
  {
   "cell_type": "code",
   "execution_count": 14,
   "metadata": {},
   "outputs": [],
   "source": [
    "np.random.seed(42)\n",
    "input_dim=5000\n",
    "hidden_dim=512\n",
    "learning_rate=0.01\n",
    "num_epochs=50\n",
    "activation='relu'\n",
    "batch_size=256\n",
    "output_dim=y_train.shape[1]"
   ]
  },
  {
   "cell_type": "code",
   "execution_count": 15,
   "metadata": {},
   "outputs": [
    {
     "data": {
      "text/html": [
       "Tracking run with wandb version 0.19.8"
      ],
      "text/plain": [
       "<IPython.core.display.HTML object>"
      ]
     },
     "metadata": {},
     "output_type": "display_data"
    },
    {
     "data": {
      "text/html": [
       "Run data is saved locally in <code>d:\\SMAI\\Assignments\\A2\\wandb\\run-20250315_173656-la2zo73l</code>"
      ],
      "text/plain": [
       "<IPython.core.display.HTML object>"
      ]
     },
     "metadata": {},
     "output_type": "display_data"
    },
    {
     "data": {
      "text/html": [
       "Syncing run <strong><a href='https://wandb.ai/ketakishetye0619-iiit-hyderabad/SMAI-A2/runs/la2zo73l' target=\"_blank\">2.3-Relu-MBGD-Hyperparam1</a></strong> to <a href='https://wandb.ai/ketakishetye0619-iiit-hyderabad/SMAI-A2' target=\"_blank\">Weights & Biases</a> (<a href='https://wandb.me/developer-guide' target=\"_blank\">docs</a>)<br>"
      ],
      "text/plain": [
       "<IPython.core.display.HTML object>"
      ]
     },
     "metadata": {},
     "output_type": "display_data"
    },
    {
     "data": {
      "text/html": [
       " View project at <a href='https://wandb.ai/ketakishetye0619-iiit-hyderabad/SMAI-A2' target=\"_blank\">https://wandb.ai/ketakishetye0619-iiit-hyderabad/SMAI-A2</a>"
      ],
      "text/plain": [
       "<IPython.core.display.HTML object>"
      ]
     },
     "metadata": {},
     "output_type": "display_data"
    },
    {
     "data": {
      "text/html": [
       " View run at <a href='https://wandb.ai/ketakishetye0619-iiit-hyderabad/SMAI-A2/runs/la2zo73l' target=\"_blank\">https://wandb.ai/ketakishetye0619-iiit-hyderabad/SMAI-A2/runs/la2zo73l</a>"
      ],
      "text/plain": [
       "<IPython.core.display.HTML object>"
      ]
     },
     "metadata": {},
     "output_type": "display_data"
    },
    {
     "name": "stdout",
     "output_type": "stream",
     "text": [
      "Initialising model\n"
     ]
    },
    {
     "name": "stderr",
     "output_type": "stream",
     "text": [
      "Training Progress:   2%|▏         | 1/50 [00:01<01:01,  1.25s/it]"
     ]
    },
    {
     "name": "stdout",
     "output_type": "stream",
     "text": [
      "Epoch: 0,Train Loss:0.194783658060067,Train Accuracy:14.967649647887324,Train Hamming Accuracy:94.40222026604067\n",
      "Epoch: 0,Validation Loss:0.0790851290474612,Validation Accuracy:26.576576576576578,Validation Hamming Accuracy:98.80809380809382\n"
     ]
    },
    {
     "name": "stderr",
     "output_type": "stream",
     "text": [
      "Training Progress:  20%|██        | 10/50 [00:11<00:47,  1.20s/it]"
     ]
    },
    {
     "name": "stdout",
     "output_type": "stream",
     "text": [
      "Epoch: 9,Train Loss:0.018982077040500252,Train Accuracy:69.9168133802817,Train Hamming Accuracy:99.52573845852898\n",
      "Epoch: 9,Validation Loss:0.03312911636581071,Validation Accuracy:52.96010296010296,Validation Hamming Accuracy:99.25210925210925\n"
     ]
    },
    {
     "name": "stderr",
     "output_type": "stream",
     "text": [
      "Training Progress:  40%|████      | 20/50 [00:24<00:37,  1.26s/it]"
     ]
    },
    {
     "name": "stdout",
     "output_type": "stream",
     "text": [
      "Epoch: 19,Train Loss:0.009375568563963236,Train Accuracy:86.23679577464789,Train Hamming Accuracy:99.7815507629108\n",
      "Epoch: 19,Validation Loss:0.027516730461002052,Validation Accuracy:58.94465894465895,Validation Hamming Accuracy:99.34505934505935\n"
     ]
    },
    {
     "name": "stderr",
     "output_type": "stream",
     "text": [
      "Training Progress:  60%|██████    | 30/50 [00:36<00:24,  1.24s/it]"
     ]
    },
    {
     "name": "stdout",
     "output_type": "stream",
     "text": [
      "Epoch: 29,Train Loss:0.005858919624041622,Train Accuracy:92.98723591549296,Train Hamming Accuracy:99.88551692097026\n",
      "Epoch: 29,Validation Loss:0.02576015189206493,Validation Accuracy:61.77606177606177,Validation Hamming Accuracy:99.38509938509938\n"
     ]
    },
    {
     "name": "stderr",
     "output_type": "stream",
     "text": [
      "Training Progress:  80%|████████  | 40/50 [00:49<00:12,  1.25s/it]"
     ]
    },
    {
     "name": "stdout",
     "output_type": "stream",
     "text": [
      "Epoch: 39,Train Loss:0.004265609235760031,Train Accuracy:95.64964788732394,Train Hamming Accuracy:99.926621185446\n",
      "Epoch: 39,Validation Loss:0.025096119006453373,Validation Accuracy:62.74131274131274,Validation Hamming Accuracy:99.4029744029744\n"
     ]
    },
    {
     "name": "stderr",
     "output_type": "stream",
     "text": [
      "Training Progress: 100%|██████████| 50/50 [01:01<00:00,  1.23s/it]"
     ]
    },
    {
     "name": "stdout",
     "output_type": "stream",
     "text": [
      "Epoch: 49,Train Loss:0.0032925371023508703,Train Accuracy:97.24053697183099,Train Hamming Accuracy:99.95086316510172\n",
      "Epoch: 49,Validation Loss:0.024788902027683885,Validation Accuracy:63.77091377091377,Validation Hamming Accuracy:99.41512941512941\n",
      "Test Loss:0.030967951015967353,Test Accuracy:62.47101689301093,Test Hamming Accuracy:99.3577711530676\n"
     ]
    },
    {
     "name": "stderr",
     "output_type": "stream",
     "text": [
      "\n"
     ]
    },
    {
     "data": {
      "text/html": [],
      "text/plain": [
       "<IPython.core.display.HTML object>"
      ]
     },
     "metadata": {},
     "output_type": "display_data"
    },
    {
     "data": {
      "text/html": [
       "<br>    <style><br>        .wandb-row {<br>            display: flex;<br>            flex-direction: row;<br>            flex-wrap: wrap;<br>            justify-content: flex-start;<br>            width: 100%;<br>        }<br>        .wandb-col {<br>            display: flex;<br>            flex-direction: column;<br>            flex-basis: 100%;<br>            flex: 1;<br>            padding: 10px;<br>        }<br>    </style><br><div class=\"wandb-row\"><div class=\"wandb-col\"><h3>Run history:</h3><br/><table class=\"wandb\"><tr><td>Epoch</td><td>▁▁▁▁▂▂▂▂▂▃▃▃▃▃▄▄▄▄▄▄▅▅▅▅▅▆▆▆▆▆▆▇▇▇▇▇▇███</td></tr><tr><td>Train Accuracy</td><td>▁▃▃▄▄▅▅▅▆▆▆▆▇▇▇▇▇▇▇▇▇███████████████████</td></tr><tr><td>Train Loss</td><td>█▃▃▂▂▂▂▂▂▂▁▁▁▁▁▁▁▁▁▁▁▁▁▁▁▁▁▁▁▁▁▁▁▁▁▁▁▁▁▁</td></tr><tr><td>Validation Accuracy</td><td>▁▃▃▄▅▅▅▆▆▆▆▇▇▇▇▇▇▇▇▇▇▇██████████████████</td></tr><tr><td>Validation Loss</td><td>█▅▄▄▃▂▂▂▂▂▂▂▂▁▁▁▁▁▁▁▁▁▁▁▁▁▁▁▁▁▁▁▁▁▁▁▁▁▁▁</td></tr></table><br/></div><div class=\"wandb-col\"><h3>Run summary:</h3><br/><table class=\"wandb\"><tr><td>Epoch</td><td>49</td></tr><tr><td>Train Accuracy</td><td>97.24054</td></tr><tr><td>Train Loss</td><td>0.00329</td></tr><tr><td>Validation Accuracy</td><td>63.77091</td></tr><tr><td>Validation Loss</td><td>0.02479</td></tr></table><br/></div></div>"
      ],
      "text/plain": [
       "<IPython.core.display.HTML object>"
      ]
     },
     "metadata": {},
     "output_type": "display_data"
    },
    {
     "data": {
      "text/html": [
       " View run <strong style=\"color:#cdcd00\">2.3-Relu-MBGD-Hyperparam1</strong> at: <a href='https://wandb.ai/ketakishetye0619-iiit-hyderabad/SMAI-A2/runs/la2zo73l' target=\"_blank\">https://wandb.ai/ketakishetye0619-iiit-hyderabad/SMAI-A2/runs/la2zo73l</a><br> View project at: <a href='https://wandb.ai/ketakishetye0619-iiit-hyderabad/SMAI-A2' target=\"_blank\">https://wandb.ai/ketakishetye0619-iiit-hyderabad/SMAI-A2</a><br>Synced 5 W&B file(s), 0 media file(s), 0 artifact file(s) and 0 other file(s)"
      ],
      "text/plain": [
       "<IPython.core.display.HTML object>"
      ]
     },
     "metadata": {},
     "output_type": "display_data"
    },
    {
     "data": {
      "text/html": [
       "Find logs at: <code>.\\wandb\\run-20250315_173656-la2zo73l\\logs</code>"
      ],
      "text/plain": [
       "<IPython.core.display.HTML object>"
      ]
     },
     "metadata": {},
     "output_type": "display_data"
    }
   ],
   "source": [
    "wandb.init(project=\"SMAI-A2\", name=\"2.3-Relu-MBGD-Hyperparam1\")\n",
    "print(\"Initialising model\")\n",
    "model = MLP(input_dim, hidden_dim, output_dim,activation)   \n",
    "model.train(x_train,y_train,num_epochs,learning_rate,x_val,y_val,batch_size)\n",
    "y_pred_test=model.predict(x_test)\n",
    "test_loss=model.binary_cross_entropy(y_test,y_pred_test)\n",
    "test_accuracy,test_hamming_accuracy=model.calculate_accuracy(y_test,y_pred_test)\n",
    "print(f\"Test Loss:{test_loss},Test Accuracy:{test_accuracy},Test Hamming Accuracy:{test_hamming_accuracy}\")\n",
    "\n",
    "wandb.finish()"
   ]
  },
  {
   "cell_type": "code",
   "execution_count": 19,
   "metadata": {},
   "outputs": [],
   "source": [
    "np.random.seed(42)\n",
    "input_dim=5000\n",
    "hidden_dim=1024\n",
    "learning_rate=0.01\n",
    "num_epochs=50\n",
    "activation='relu'\n",
    "batch_size=256\n",
    "output_dim=y_train.shape[1]"
   ]
  },
  {
   "cell_type": "code",
   "execution_count": 20,
   "metadata": {},
   "outputs": [
    {
     "name": "stdout",
     "output_type": "stream",
     "text": [
      "Initialising model\n"
     ]
    },
    {
     "name": "stderr",
     "output_type": "stream",
     "text": [
      "Training Progress:   2%|▏         | 1/50 [00:02<01:55,  2.36s/it]"
     ]
    },
    {
     "name": "stdout",
     "output_type": "stream",
     "text": [
      "Epoch: 0,Train Loss:0.14569912514849215,Train Accuracy:17.165052816901408,Train Hamming Accuracy:96.07677767996869\n",
      "Epoch: 0,Validation Loss:0.06911173240994845,Validation Accuracy:26.126126126126124,Validation Hamming Accuracy:98.82668382668382\n"
     ]
    },
    {
     "name": "stderr",
     "output_type": "stream",
     "text": [
      "Training Progress:  20%|██        | 10/50 [00:24<01:38,  2.46s/it]"
     ]
    },
    {
     "name": "stdout",
     "output_type": "stream",
     "text": [
      "Epoch: 9,Train Loss:0.01816870918346523,Train Accuracy:71.86751760563381,Train Hamming Accuracy:99.55809859154928\n",
      "Epoch: 9,Validation Loss:0.032321083537668605,Validation Accuracy:53.153153153153156,Validation Hamming Accuracy:99.27355927355927\n"
     ]
    },
    {
     "name": "stderr",
     "output_type": "stream",
     "text": [
      "Training Progress:  40%|████      | 20/50 [00:48<01:11,  2.39s/it]"
     ]
    },
    {
     "name": "stdout",
     "output_type": "stream",
     "text": [
      "Epoch: 19,Train Loss:0.00879402031153889,Train Accuracy:87.52420774647888,Train Hamming Accuracy:99.8043256064163\n",
      "Epoch: 19,Validation Loss:0.027309546539368883,Validation Accuracy:58.94465894465895,Validation Hamming Accuracy:99.35578435578437\n"
     ]
    },
    {
     "name": "stderr",
     "output_type": "stream",
     "text": [
      "Training Progress:  60%|██████    | 30/50 [01:12<00:47,  2.39s/it]"
     ]
    },
    {
     "name": "stdout",
     "output_type": "stream",
     "text": [
      "Epoch: 29,Train Loss:0.005499491620805727,Train Accuracy:93.75572183098592,Train Hamming Accuracy:99.89912216353677\n",
      "Epoch: 29,Validation Loss:0.025917526482037056,Validation Accuracy:61.518661518661524,Validation Hamming Accuracy:99.3908193908194\n"
     ]
    },
    {
     "name": "stderr",
     "output_type": "stream",
     "text": [
      "Training Progress:  80%|████████  | 40/50 [01:36<00:24,  2.43s/it]"
     ]
    },
    {
     "name": "stdout",
     "output_type": "stream",
     "text": [
      "Epoch: 39,Train Loss:0.003839506648105762,Train Accuracy:96.42473591549296,Train Hamming Accuracy:99.94062010954616\n",
      "Epoch: 39,Validation Loss:0.02552591376616162,Validation Accuracy:62.419562419562425,Validation Hamming Accuracy:99.4058344058344\n"
     ]
    },
    {
     "name": "stderr",
     "output_type": "stream",
     "text": [
      "Training Progress: 100%|██████████| 50/50 [02:00<00:00,  2.41s/it]"
     ]
    },
    {
     "name": "stdout",
     "output_type": "stream",
     "text": [
      "Epoch: 49,Train Loss:0.002932277664949726,Train Accuracy:97.71875,Train Hamming Accuracy:99.96232638888888\n",
      "Epoch: 49,Validation Loss:0.025405535079844634,Validation Accuracy:63.44916344916345,Validation Hamming Accuracy:99.41798941798942\n"
     ]
    },
    {
     "name": "stderr",
     "output_type": "stream",
     "text": [
      "\n"
     ]
    },
    {
     "name": "stdout",
     "output_type": "stream",
     "text": [
      "Test Loss:0.03314635141496776,Test Accuracy:61.11295130838026,Test Hamming Accuracy:99.34709800890656\n"
     ]
    },
    {
     "data": {
      "text/html": [],
      "text/plain": [
       "<IPython.core.display.HTML object>"
      ]
     },
     "metadata": {},
     "output_type": "display_data"
    },
    {
     "data": {
      "text/html": [
       "<br>    <style><br>        .wandb-row {<br>            display: flex;<br>            flex-direction: row;<br>            flex-wrap: wrap;<br>            justify-content: flex-start;<br>            width: 100%;<br>        }<br>        .wandb-col {<br>            display: flex;<br>            flex-direction: column;<br>            flex-basis: 100%;<br>            flex: 1;<br>            padding: 10px;<br>        }<br>    </style><br><div class=\"wandb-row\"><div class=\"wandb-col\"><h3>Run history:</h3><br/><table class=\"wandb\"><tr><td>Epoch</td><td>▁▁▂▂▃▄▄▄▄▅▆▆▆▆▇▇█▁▂▂▃▃▃▄▄▄▅▅▅▅▆▆▆▇▇▇▇▇██</td></tr><tr><td>Train Accuracy</td><td>▁▂▂▄▄▅▆▆▆▇▇▇▇███████▂▄▅▆▆▆▇▇▇▇▇█████████</td></tr><tr><td>Train Loss</td><td>█▃▃▂▂▂▁▁▁▁▁▁▁▁▁▁▁▁▄▃▂▂▂▂▂▁▁▁▁▁▁▁▁▁▁▁▁▁▁▁</td></tr><tr><td>Validation Accuracy</td><td>▃▃▅▅▅▆▆▆▇▇▇▇▇███████▁▂▄▄▅▆▆▆▇▇▇▇▇███████</td></tr><tr><td>Validation Loss</td><td>█▄▃▃▂▂▂▁▁▁▁▁▁▁▁▁▁▁▁▁▄▃▂▂▂▂▂▁▁▁▁▁▁▁▁▁▁▁▁▁</td></tr></table><br/></div><div class=\"wandb-col\"><h3>Run summary:</h3><br/><table class=\"wandb\"><tr><td>Epoch</td><td>49</td></tr><tr><td>Train Accuracy</td><td>97.71875</td></tr><tr><td>Train Loss</td><td>0.00293</td></tr><tr><td>Validation Accuracy</td><td>63.44916</td></tr><tr><td>Validation Loss</td><td>0.02541</td></tr></table><br/></div></div>"
      ],
      "text/plain": [
       "<IPython.core.display.HTML object>"
      ]
     },
     "metadata": {},
     "output_type": "display_data"
    },
    {
     "data": {
      "text/html": [
       " View run <strong style=\"color:#cdcd00\">2.3-Relu-MBGD-Hyperparam2</strong> at: <a href='https://wandb.ai/ketakishetye0619-iiit-hyderabad/SMAI-A2/runs/731ie4v4' target=\"_blank\">https://wandb.ai/ketakishetye0619-iiit-hyderabad/SMAI-A2/runs/731ie4v4</a><br> View project at: <a href='https://wandb.ai/ketakishetye0619-iiit-hyderabad/SMAI-A2' target=\"_blank\">https://wandb.ai/ketakishetye0619-iiit-hyderabad/SMAI-A2</a><br>Synced 5 W&B file(s), 0 media file(s), 0 artifact file(s) and 0 other file(s)"
      ],
      "text/plain": [
       "<IPython.core.display.HTML object>"
      ]
     },
     "metadata": {},
     "output_type": "display_data"
    },
    {
     "data": {
      "text/html": [
       "Find logs at: <code>.\\wandb\\run-20250315_173801-731ie4v4\\logs</code>"
      ],
      "text/plain": [
       "<IPython.core.display.HTML object>"
      ]
     },
     "metadata": {},
     "output_type": "display_data"
    }
   ],
   "source": [
    "wandb.init(project=\"SMAI-A2\", name=\"2.3-Relu-MBGD-Hyperparam2\")\n",
    "print(\"Initialising model\")\n",
    "model = MLP(input_dim, hidden_dim, output_dim,activation)   \n",
    "model.train(x_train,y_train,num_epochs,learning_rate,x_val,y_val,batch_size)\n",
    "y_pred_test=model.predict(x_test)\n",
    "test_loss=model.binary_cross_entropy(y_test,y_pred_test)\n",
    "test_accuracy,test_hamming_accuracy=model.calculate_accuracy(y_test,y_pred_test)\n",
    "print(f\"Test Loss:{test_loss},Test Accuracy:{test_accuracy},Test Hamming Accuracy:{test_hamming_accuracy}\")\n",
    "\n",
    "wandb.finish()"
   ]
  },
  {
   "cell_type": "markdown",
   "metadata": {},
   "source": [
    "### Sigmoid-BGD"
   ]
  },
  {
   "cell_type": "code",
   "execution_count": 34,
   "metadata": {},
   "outputs": [],
   "source": [
    "np.random.seed(42)\n",
    "input_dim=5000\n",
    "hidden_dim=1024\n",
    "learning_rate=0.01\n",
    "num_epochs=100\n",
    "activation='sigmoid'\n",
    "batch_size=None\n",
    "output_dim=y_train.shape[1]"
   ]
  },
  {
   "cell_type": "code",
   "execution_count": null,
   "metadata": {},
   "outputs": [
    {
     "data": {
      "text/html": [],
      "text/plain": [
       "<IPython.core.display.HTML object>"
      ]
     },
     "metadata": {},
     "output_type": "display_data"
    },
    {
     "data": {
      "text/html": [
       "Tracking run with wandb version 0.19.8"
      ],
      "text/plain": [
       "<IPython.core.display.HTML object>"
      ]
     },
     "metadata": {},
     "output_type": "display_data"
    },
    {
     "data": {
      "text/html": [
       "Run data is saved locally in <code>d:\\SMAI\\Assignments\\A2\\wandb\\run-20250314_131131-xg4y55g7</code>"
      ],
      "text/plain": [
       "<IPython.core.display.HTML object>"
      ]
     },
     "metadata": {},
     "output_type": "display_data"
    },
    {
     "data": {
      "text/html": [
       "Syncing run <strong><a href='https://wandb.ai/ketakishetye0619-iiit-hyderabad/SMAI-A2/runs/xg4y55g7' target=\"_blank\">2.3-Sigmoid-BGD</a></strong> to <a href='https://wandb.ai/ketakishetye0619-iiit-hyderabad/SMAI-A2' target=\"_blank\">Weights & Biases</a> (<a href='https://wandb.me/developer-guide' target=\"_blank\">docs</a>)<br>"
      ],
      "text/plain": [
       "<IPython.core.display.HTML object>"
      ]
     },
     "metadata": {},
     "output_type": "display_data"
    },
    {
     "data": {
      "text/html": [
       " View project at <a href='https://wandb.ai/ketakishetye0619-iiit-hyderabad/SMAI-A2' target=\"_blank\">https://wandb.ai/ketakishetye0619-iiit-hyderabad/SMAI-A2</a>"
      ],
      "text/plain": [
       "<IPython.core.display.HTML object>"
      ]
     },
     "metadata": {},
     "output_type": "display_data"
    },
    {
     "data": {
      "text/html": [
       " View run at <a href='https://wandb.ai/ketakishetye0619-iiit-hyderabad/SMAI-A2/runs/xg4y55g7' target=\"_blank\">https://wandb.ai/ketakishetye0619-iiit-hyderabad/SMAI-A2/runs/xg4y55g7</a>"
      ],
      "text/plain": [
       "<IPython.core.display.HTML object>"
      ]
     },
     "metadata": {},
     "output_type": "display_data"
    },
    {
     "name": "stdout",
     "output_type": "stream",
     "text": [
      "Initialising model\n"
     ]
    },
    {
     "name": "stderr",
     "output_type": "stream",
     "text": [
      "Training Progress:   1%|          | 1/100 [00:03<05:12,  3.15s/it]"
     ]
    },
    {
     "name": "stdout",
     "output_type": "stream",
     "text": [
      "Epoch: 0,Train Loss:0.7891820001706422,Train Accuracy:0.0,Train Hamming Accuracy:48.964869938321264\n",
      "Epoch: 0,Validation Loss:0.2916091049663835,Validation Accuracy:2.1235521235521233,Validation Hamming Accuracy:97.84927784927785\n"
     ]
    },
    {
     "name": "stderr",
     "output_type": "stream",
     "text": [
      "Training Progress:  10%|█         | 10/100 [00:26<03:42,  2.47s/it]"
     ]
    },
    {
     "name": "stdout",
     "output_type": "stream",
     "text": [
      "Epoch: 9,Train Loss:0.0772766597315553,Train Accuracy:2.0273531777956557,Train Hamming Accuracy:98.61321176365423\n",
      "Epoch: 9,Validation Loss:0.0747539416108308,Validation Accuracy:1.9305019305019304,Validation Hamming Accuracy:98.6064636064636\n"
     ]
    },
    {
     "name": "stderr",
     "output_type": "stream",
     "text": [
      "Training Progress:  20%|██        | 20/100 [00:49<03:10,  2.39s/it]"
     ]
    },
    {
     "name": "stdout",
     "output_type": "stream",
     "text": [
      "Epoch: 19,Train Loss:0.0599676741293144,Train Accuracy:3.491552695092518,Train Hamming Accuracy:98.6375256994726\n",
      "Epoch: 19,Validation Loss:0.05980849079833212,Validation Accuracy:3.41055341055341,Validation Hamming Accuracy:98.63148863148862\n"
     ]
    },
    {
     "name": "stderr",
     "output_type": "stream",
     "text": [
      "Training Progress:  30%|███       | 30/100 [01:14<02:52,  2.46s/it]"
     ]
    },
    {
     "name": "stdout",
     "output_type": "stream",
     "text": [
      "Epoch: 29,Train Loss:0.05447815368379042,Train Accuracy:6.259050683829445,Train Hamming Accuracy:98.67453294001966\n",
      "Epoch: 29,Validation Loss:0.05474590483405658,Validation Accuracy:6.82110682110682,Validation Hamming Accuracy:98.68082368082368\n"
     ]
    },
    {
     "name": "stderr",
     "output_type": "stream",
     "text": [
      "Training Progress:  40%|████      | 40/100 [02:20<06:28,  6.47s/it]"
     ]
    },
    {
     "name": "stdout",
     "output_type": "stream",
     "text": [
      "Epoch: 39,Train Loss:0.051653990716351635,Train Accuracy:9.9597747385358,Train Hamming Accuracy:98.72047912755878\n",
      "Epoch: 39,Validation Loss:0.052095575870029456,Validation Accuracy:10.48906048906049,Validation Hamming Accuracy:98.72729872729873\n"
     ]
    },
    {
     "name": "stderr",
     "output_type": "stream",
     "text": [
      "Training Progress:  50%|█████     | 50/100 [03:30<05:55,  7.11s/it]"
     ]
    },
    {
     "name": "stdout",
     "output_type": "stream",
     "text": [
      "Epoch: 49,Train Loss:0.04983441695941423,Train Accuracy:13.676588897827834,Train Hamming Accuracy:98.76588897827835\n",
      "Epoch: 49,Validation Loss:0.05038449191145315,Validation Accuracy:14.285714285714285,Validation Hamming Accuracy:98.77091377091377\n"
     ]
    },
    {
     "name": "stderr",
     "output_type": "stream",
     "text": [
      "Training Progress:  60%|██████    | 60/100 [05:00<06:32,  9.80s/it]"
     ]
    },
    {
     "name": "stdout",
     "output_type": "stream",
     "text": [
      "Epoch: 59,Train Loss:0.048497909189869355,Train Accuracy:16.68543845534996,Train Hamming Accuracy:98.80128720836684\n",
      "Epoch: 59,Validation Loss:0.049133382070835924,Validation Accuracy:17.245817245817246,Validation Hamming Accuracy:98.80523380523381\n"
     ]
    },
    {
     "name": "stderr",
     "output_type": "stream",
     "text": [
      "Training Progress:  70%|███████   | 70/100 [06:16<03:12,  6.41s/it]"
     ]
    },
    {
     "name": "stdout",
     "output_type": "stream",
     "text": [
      "Epoch: 69,Train Loss:0.04743088454274287,Train Accuracy:19.549477071600965,Train Hamming Accuracy:98.83400375435774\n",
      "Epoch: 69,Validation Loss:0.048141797403543386,Validation Accuracy:19.24066924066924,Validation Hamming Accuracy:98.82811382811383\n"
     ]
    },
    {
     "name": "stderr",
     "output_type": "stream",
     "text": [
      "Training Progress:  80%|████████  | 80/100 [07:15<02:00,  6.00s/it]"
     ]
    },
    {
     "name": "stdout",
     "output_type": "stream",
     "text": [
      "Epoch: 79,Train Loss:0.04653041073053451,Train Accuracy:21.560740144810943,Train Hamming Accuracy:98.85796013229641\n",
      "Epoch: 79,Validation Loss:0.04731176210453641,Validation Accuracy:20.84942084942085,Validation Hamming Accuracy:98.84670384670385\n"
     ]
    },
    {
     "name": "stderr",
     "output_type": "stream",
     "text": [
      "Training Progress:  90%|█████████ | 90/100 [08:15<01:01,  6.16s/it]"
     ]
    },
    {
     "name": "stdout",
     "output_type": "stream",
     "text": [
      "Epoch: 89,Train Loss:0.04574099975830371,Train Accuracy:23.28238133547868,Train Hamming Accuracy:98.87816215249843\n",
      "Epoch: 89,Validation Loss:0.046589931537632724,Validation Accuracy:22.00772200772201,Validation Hamming Accuracy:98.86171886171886\n"
     ]
    },
    {
     "name": "stderr",
     "output_type": "stream",
     "text": [
      "Training Progress: 100%|██████████| 100/100 [09:17<00:00,  5.57s/it]"
     ]
    },
    {
     "name": "stdout",
     "output_type": "stream",
     "text": [
      "Epoch: 99,Train Loss:0.045030159433943534,Train Accuracy:24.29605792437651,Train Hamming Accuracy:98.89014034146778\n",
      "Epoch: 99,Validation Loss:0.04594484362165954,Validation Accuracy:23.616473616473616,Validation Hamming Accuracy:98.87959387959387\n"
     ]
    },
    {
     "name": "stderr",
     "output_type": "stream",
     "text": [
      "\n"
     ]
    },
    {
     "name": "stdout",
     "output_type": "stream",
     "text": [
      "Test Loss:0.04639828276732899,Test Accuracy:27.82378270950646,Test Hamming Accuracy:98.9164918479261\n"
     ]
    },
    {
     "data": {
      "text/html": [],
      "text/plain": [
       "<IPython.core.display.HTML object>"
      ]
     },
     "metadata": {},
     "output_type": "display_data"
    },
    {
     "data": {
      "text/html": [
       "<br>    <style><br>        .wandb-row {<br>            display: flex;<br>            flex-direction: row;<br>            flex-wrap: wrap;<br>            justify-content: flex-start;<br>            width: 100%;<br>        }<br>        .wandb-col {<br>            display: flex;<br>            flex-direction: column;<br>            flex-basis: 100%;<br>            flex: 1;<br>            padding: 10px;<br>        }<br>    </style><br><div class=\"wandb-row\"><div class=\"wandb-col\"><h3>Run history:</h3><br/><table class=\"wandb\"><tr><td>Epoch</td><td>▁▁▁▁▁▂▂▂▂▃▃▃▃▃▃▄▄▄▄▄▅▅▅▅▅▅▆▆▆▆▆▆▇▇▇▇▇▇██</td></tr><tr><td>Train Accuracy</td><td>▁▂▁▁▂▂▂▂▂▂▂▃▃▃▃▄▄▄▄▄▅▅▅▅▅▆▆▆▆▆▇▇▇▇▇▇████</td></tr><tr><td>Train Loss</td><td>█▁▁▁▁▁▁▁▁▁▁▁▁▁▁▁▁▁▁▁▁▁▁▁▁▁▁▁▁▁▁▁▁▁▁▁▁▁▁▁</td></tr><tr><td>Validation Accuracy</td><td>▁▁▁▁▁▁▁▁▁▁▂▂▂▃▃▃▄▄▄▄▅▅▅▆▆▆▆▆▆▇▇▇▇▇▇▇████</td></tr><tr><td>Validation Loss</td><td>█▄▃▃▂▂▂▁▁▁▁▁▁▁▁▁▁▁▁▁▁▁▁▁▁▁▁▁▁▁▁▁▁▁▁▁▁▁▁▁</td></tr></table><br/></div><div class=\"wandb-col\"><h3>Run summary:</h3><br/><table class=\"wandb\"><tr><td>Epoch</td><td>99</td></tr><tr><td>Train Accuracy</td><td>24.29606</td></tr><tr><td>Train Loss</td><td>0.04503</td></tr><tr><td>Validation Accuracy</td><td>23.61647</td></tr><tr><td>Validation Loss</td><td>0.04594</td></tr></table><br/></div></div>"
      ],
      "text/plain": [
       "<IPython.core.display.HTML object>"
      ]
     },
     "metadata": {},
     "output_type": "display_data"
    },
    {
     "data": {
      "text/html": [
       " View run <strong style=\"color:#cdcd00\">2.3-Sigmoid-BGD</strong> at: <a href='https://wandb.ai/ketakishetye0619-iiit-hyderabad/SMAI-A2/runs/xg4y55g7' target=\"_blank\">https://wandb.ai/ketakishetye0619-iiit-hyderabad/SMAI-A2/runs/xg4y55g7</a><br> View project at: <a href='https://wandb.ai/ketakishetye0619-iiit-hyderabad/SMAI-A2' target=\"_blank\">https://wandb.ai/ketakishetye0619-iiit-hyderabad/SMAI-A2</a><br>Synced 5 W&B file(s), 0 media file(s), 0 artifact file(s) and 0 other file(s)"
      ],
      "text/plain": [
       "<IPython.core.display.HTML object>"
      ]
     },
     "metadata": {},
     "output_type": "display_data"
    },
    {
     "data": {
      "text/html": [
       "Find logs at: <code>.\\wandb\\run-20250314_131131-xg4y55g7\\logs</code>"
      ],
      "text/plain": [
       "<IPython.core.display.HTML object>"
      ]
     },
     "metadata": {},
     "output_type": "display_data"
    }
   ],
   "source": [
    "wandb.init(project=\"SMAI-A2\", name=\"2.3-Sigmoid-BGD\")\n",
    "print(\"Initialising model\")\n",
    "model = MLP(input_dim, hidden_dim, output_dim,activation)   \n",
    "model.train(x_train,y_train,num_epochs,learning_rate,x_val,y_val,batch_size)\n",
    "y_pred_test=model.predict(x_test)\n",
    "test_loss=model.binary_cross_entropy(y_test,y_pred_test)\n",
    "test_accuracy,test_hamming_accuracy=model.calculate_accuracy(y_test,y_pred_test)\n",
    "print(f\"Test Loss:{test_loss},Test Accuracy:{test_accuracy},Test Hamming Accuracy:{test_hamming_accuracy}\")\n",
    "\n",
    "wandb.finish()"
   ]
  },
  {
   "cell_type": "code",
   "execution_count": 23,
   "metadata": {},
   "outputs": [],
   "source": [
    "np.random.seed(42)\n",
    "input_dim=5000\n",
    "hidden_dim=512\n",
    "learning_rate=0.01\n",
    "num_epochs=100\n",
    "activation='sigmoid'\n",
    "batch_size=None\n",
    "output_dim=y_train.shape[1]"
   ]
  },
  {
   "cell_type": "code",
   "execution_count": 24,
   "metadata": {},
   "outputs": [
    {
     "name": "stdout",
     "output_type": "stream",
     "text": [
      "Initialising model\n"
     ]
    },
    {
     "name": "stderr",
     "output_type": "stream",
     "text": [
      "Training Progress:   1%|          | 1/100 [00:00<01:31,  1.08it/s]"
     ]
    },
    {
     "name": "stdout",
     "output_type": "stream",
     "text": [
      "Epoch: 0,Train Loss:0.7499559578409957,Train Accuracy:0.0,Train Hamming Accuracy:51.51997854652722\n",
      "Epoch: 0,Validation Loss:0.4693891636720577,Validation Accuracy:0.0,Validation Hamming Accuracy:83.76876876876877\n"
     ]
    },
    {
     "name": "stderr",
     "output_type": "stream",
     "text": [
      "Training Progress:  10%|█         | 10/100 [00:09<01:31,  1.01s/it]"
     ]
    },
    {
     "name": "stdout",
     "output_type": "stream",
     "text": [
      "Epoch: 9,Train Loss:0.11632326383679072,Train Accuracy:2.1238938053097343,Train Hamming Accuracy:98.60659694288013\n",
      "Epoch: 9,Validation Loss:0.11000939060650931,Validation Accuracy:2.6383526383526386,Validation Hamming Accuracy:98.61933361933362\n"
     ]
    },
    {
     "name": "stderr",
     "output_type": "stream",
     "text": [
      "Training Progress:  20%|██        | 20/100 [00:19<01:21,  1.01s/it]"
     ]
    },
    {
     "name": "stdout",
     "output_type": "stream",
     "text": [
      "Epoch: 19,Train Loss:0.07717975089036082,Train Accuracy:3.33065164923572,Train Hamming Accuracy:98.62948064717976\n",
      "Epoch: 19,Validation Loss:0.07624599921941452,Validation Accuracy:3.7323037323037322,Validation Hamming Accuracy:98.63720863720864\n"
     ]
    },
    {
     "name": "stderr",
     "output_type": "stream",
     "text": [
      "Training Progress:  30%|███       | 30/100 [00:28<01:06,  1.05it/s]"
     ]
    },
    {
     "name": "stdout",
     "output_type": "stream",
     "text": [
      "Epoch: 29,Train Loss:0.06501107806706054,Train Accuracy:5.406275140788415,Train Hamming Accuracy:98.65844283543399\n",
      "Epoch: 29,Validation Loss:0.06503495695340315,Validation Accuracy:5.469755469755469,Validation Hamming Accuracy:98.66080366080367\n"
     ]
    },
    {
     "name": "stderr",
     "output_type": "stream",
     "text": [
      "Training Progress:  40%|████      | 40/100 [00:38<00:57,  1.05it/s]"
     ]
    },
    {
     "name": "stdout",
     "output_type": "stream",
     "text": [
      "Epoch: 39,Train Loss:0.05905857391495865,Train Accuracy:8.270313757039421,Train Hamming Accuracy:98.69598641280058\n",
      "Epoch: 39,Validation Loss:0.05942933702269911,Validation Accuracy:8.236808236808237,Validation Hamming Accuracy:98.6951236951237\n"
     ]
    },
    {
     "name": "stderr",
     "output_type": "stream",
     "text": [
      "Training Progress:  50%|█████     | 50/100 [00:47<00:45,  1.11it/s]"
     ]
    },
    {
     "name": "stdout",
     "output_type": "stream",
     "text": [
      "Epoch: 49,Train Loss:0.055462442320539505,Train Accuracy:11.552695092518102,Train Hamming Accuracy:98.73531777956556\n",
      "Epoch: 49,Validation Loss:0.05601543913371903,Validation Accuracy:11.325611325611327,Validation Hamming Accuracy:98.73087373087374\n"
     ]
    },
    {
     "name": "stderr",
     "output_type": "stream",
     "text": [
      "Training Progress:  60%|██████    | 60/100 [00:56<00:37,  1.06it/s]"
     ]
    },
    {
     "name": "stdout",
     "output_type": "stream",
     "text": [
      "Epoch: 59,Train Loss:0.05299840112365959,Train Accuracy:14.513274336283185,Train Hamming Accuracy:98.77232502011263\n",
      "Epoch: 59,Validation Loss:0.053673112322888794,Validation Accuracy:15.057915057915059,Validation Hamming Accuracy:98.77520377520378\n"
     ]
    },
    {
     "name": "stderr",
     "output_type": "stream",
     "text": [
      "Training Progress:  70%|███████   | 70/100 [01:05<00:27,  1.08it/s]"
     ]
    },
    {
     "name": "stdout",
     "output_type": "stream",
     "text": [
      "Epoch: 69,Train Loss:0.051161873145389614,Train Accuracy:17.184231697506032,Train Hamming Accuracy:98.80504156610351\n",
      "Epoch: 69,Validation Loss:0.05193154327149803,Validation Accuracy:17.374517374517374,Validation Hamming Accuracy:98.8045188045188\n"
     ]
    },
    {
     "name": "stderr",
     "output_type": "stream",
     "text": [
      "Training Progress:  80%|████████  | 80/100 [01:15<00:19,  1.01it/s]"
     ]
    },
    {
     "name": "stdout",
     "output_type": "stream",
     "text": [
      "Epoch: 79,Train Loss:0.049708609946838136,Train Accuracy:19.662107803700724,Train Hamming Accuracy:98.83418253329758\n",
      "Epoch: 79,Validation Loss:0.05055982753384393,Validation Accuracy:19.498069498069498,Validation Hamming Accuracy:98.83097383097383\n"
     ]
    },
    {
     "name": "stderr",
     "output_type": "stream",
     "text": [
      "Training Progress:  90%|█████████ | 90/100 [01:25<00:09,  1.05it/s]"
     ]
    },
    {
     "name": "stdout",
     "output_type": "stream",
     "text": [
      "Epoch: 89,Train Loss:0.04850661365761233,Train Accuracy:21.512469831053902,Train Hamming Accuracy:98.85563600607848\n",
      "Epoch: 89,Validation Loss:0.04943198787883973,Validation Accuracy:21.299871299871302,Validation Hamming Accuracy:98.85099385099385\n"
     ]
    },
    {
     "name": "stderr",
     "output_type": "stream",
     "text": [
      "Training Progress: 100%|██████████| 100/100 [01:34<00:00,  1.06it/s]"
     ]
    },
    {
     "name": "stdout",
     "output_type": "stream",
     "text": [
      "Epoch: 99,Train Loss:0.04747856276566484,Train Accuracy:22.992759452936447,Train Hamming Accuracy:98.8731563421829\n",
      "Epoch: 99,Validation Loss:0.04847368748214111,Validation Accuracy:22.00772200772201,Validation Hamming Accuracy:98.86100386100387\n",
      "Test Loss:0.0485971065178822,Test Accuracy:23.61709175223584,Test Hamming Accuracy:98.86643848220528\n"
     ]
    },
    {
     "name": "stderr",
     "output_type": "stream",
     "text": [
      "\n"
     ]
    },
    {
     "data": {
      "text/html": [],
      "text/plain": [
       "<IPython.core.display.HTML object>"
      ]
     },
     "metadata": {},
     "output_type": "display_data"
    },
    {
     "data": {
      "text/html": [
       "<br>    <style><br>        .wandb-row {<br>            display: flex;<br>            flex-direction: row;<br>            flex-wrap: wrap;<br>            justify-content: flex-start;<br>            width: 100%;<br>        }<br>        .wandb-col {<br>            display: flex;<br>            flex-direction: column;<br>            flex-basis: 100%;<br>            flex: 1;<br>            padding: 10px;<br>        }<br>    </style><br><div class=\"wandb-row\"><div class=\"wandb-col\"><h3>Run history:</h3><br/><table class=\"wandb\"><tr><td>Epoch</td><td>▁▁▁▁▁▂▂▂▂▂▃▃▃▃▃▃▃▄▄▄▄▄▄▄▄▅▅▅▅▆▆▆▆▆▇▇▇▇██</td></tr><tr><td>Train Accuracy</td><td>▁▁▁▂▂▁▂▂▂▂▂▂▂▂▂▂▃▃▃▃▄▄▄▅▅▅▆▆▆▆▆▆▇▇▇▇▇███</td></tr><tr><td>Train Loss</td><td>█▆▃▂▂█▆▄▃▂▂▂▂▂▁▁▁▁▁▁▁▁▁▁▁▁▁▁▁▁▁▁▁▁▁▁▁▁▁▁</td></tr><tr><td>Validation Accuracy</td><td>▁▂▂▂▂▂▂▂▂▂▂▂▂▂▂▃▄▄▄▄▄▄▄▅▅▅▅▆▆▆▆▆▇▇▇▇████</td></tr><tr><td>Validation Loss</td><td>▆▄▄▃▃▂▂▂█▃▂▂▂▁▁▁▁▁▁▁▁▁▁▁▁▁▁▁▁▁▁▁▁▁▁▁▁▁▁▁</td></tr></table><br/></div><div class=\"wandb-col\"><h3>Run summary:</h3><br/><table class=\"wandb\"><tr><td>Epoch</td><td>99</td></tr><tr><td>Train Accuracy</td><td>22.99276</td></tr><tr><td>Train Loss</td><td>0.04748</td></tr><tr><td>Validation Accuracy</td><td>22.00772</td></tr><tr><td>Validation Loss</td><td>0.04847</td></tr></table><br/></div></div>"
      ],
      "text/plain": [
       "<IPython.core.display.HTML object>"
      ]
     },
     "metadata": {},
     "output_type": "display_data"
    },
    {
     "data": {
      "text/html": [
       " View run <strong style=\"color:#cdcd00\">2.3-Sigmoid-BGD-Hyperparam1</strong> at: <a href='https://wandb.ai/ketakishetye0619-iiit-hyderabad/SMAI-A2/runs/c4ww6qvj' target=\"_blank\">https://wandb.ai/ketakishetye0619-iiit-hyderabad/SMAI-A2/runs/c4ww6qvj</a><br> View project at: <a href='https://wandb.ai/ketakishetye0619-iiit-hyderabad/SMAI-A2' target=\"_blank\">https://wandb.ai/ketakishetye0619-iiit-hyderabad/SMAI-A2</a><br>Synced 5 W&B file(s), 0 media file(s), 0 artifact file(s) and 0 other file(s)"
      ],
      "text/plain": [
       "<IPython.core.display.HTML object>"
      ]
     },
     "metadata": {},
     "output_type": "display_data"
    },
    {
     "data": {
      "text/html": [
       "Find logs at: <code>.\\wandb\\run-20250315_174216-c4ww6qvj\\logs</code>"
      ],
      "text/plain": [
       "<IPython.core.display.HTML object>"
      ]
     },
     "metadata": {},
     "output_type": "display_data"
    }
   ],
   "source": [
    "wandb.init(project=\"SMAI-A2\", name=\"2.3-Sigmoid-BGD-Hyperparam1\")\n",
    "print(\"Initialising model\")\n",
    "model = MLP(input_dim, hidden_dim, output_dim,activation)   \n",
    "model.train(x_train,y_train,num_epochs,learning_rate,x_val,y_val,batch_size)\n",
    "y_pred_test=model.predict(x_test)\n",
    "test_loss=model.binary_cross_entropy(y_test,y_pred_test)\n",
    "test_accuracy,test_hamming_accuracy=model.calculate_accuracy(y_test,y_pred_test)\n",
    "print(f\"Test Loss:{test_loss},Test Accuracy:{test_accuracy},Test Hamming Accuracy:{test_hamming_accuracy}\")\n",
    "\n",
    "wandb.finish()"
   ]
  },
  {
   "cell_type": "code",
   "execution_count": 25,
   "metadata": {},
   "outputs": [],
   "source": [
    "np.random.seed(42)\n",
    "input_dim=5000\n",
    "hidden_dim=1024\n",
    "learning_rate=0.001\n",
    "num_epochs=100\n",
    "activation='sigmoid'\n",
    "batch_size=None\n",
    "output_dim=y_train.shape[1]"
   ]
  },
  {
   "cell_type": "code",
   "execution_count": 27,
   "metadata": {},
   "outputs": [
    {
     "data": {
      "text/html": [
       "Tracking run with wandb version 0.19.8"
      ],
      "text/plain": [
       "<IPython.core.display.HTML object>"
      ]
     },
     "metadata": {},
     "output_type": "display_data"
    },
    {
     "data": {
      "text/html": [
       "Run data is saved locally in <code>d:\\SMAI\\Assignments\\A2\\wandb\\run-20250315_174731-0fmmthix</code>"
      ],
      "text/plain": [
       "<IPython.core.display.HTML object>"
      ]
     },
     "metadata": {},
     "output_type": "display_data"
    },
    {
     "data": {
      "text/html": [
       "Syncing run <strong><a href='https://wandb.ai/ketakishetye0619-iiit-hyderabad/SMAI-A2/runs/0fmmthix' target=\"_blank\">2.3-Sigmoid-BGD-Hyperparam2</a></strong> to <a href='https://wandb.ai/ketakishetye0619-iiit-hyderabad/SMAI-A2' target=\"_blank\">Weights & Biases</a> (<a href='https://wandb.me/developer-guide' target=\"_blank\">docs</a>)<br>"
      ],
      "text/plain": [
       "<IPython.core.display.HTML object>"
      ]
     },
     "metadata": {},
     "output_type": "display_data"
    },
    {
     "data": {
      "text/html": [
       " View project at <a href='https://wandb.ai/ketakishetye0619-iiit-hyderabad/SMAI-A2' target=\"_blank\">https://wandb.ai/ketakishetye0619-iiit-hyderabad/SMAI-A2</a>"
      ],
      "text/plain": [
       "<IPython.core.display.HTML object>"
      ]
     },
     "metadata": {},
     "output_type": "display_data"
    },
    {
     "data": {
      "text/html": [
       " View run at <a href='https://wandb.ai/ketakishetye0619-iiit-hyderabad/SMAI-A2/runs/0fmmthix' target=\"_blank\">https://wandb.ai/ketakishetye0619-iiit-hyderabad/SMAI-A2/runs/0fmmthix</a>"
      ],
      "text/plain": [
       "<IPython.core.display.HTML object>"
      ]
     },
     "metadata": {},
     "output_type": "display_data"
    },
    {
     "name": "stdout",
     "output_type": "stream",
     "text": [
      "Initialising model\n"
     ]
    },
    {
     "name": "stderr",
     "output_type": "stream",
     "text": [
      "Training Progress:   1%|          | 1/100 [00:01<02:49,  1.71s/it]"
     ]
    },
    {
     "name": "stdout",
     "output_type": "stream",
     "text": [
      "Epoch: 0,Train Loss:0.7423166923026822,Train Accuracy:0.0,Train Hamming Accuracy:51.272727272727266\n",
      "Epoch: 0,Validation Loss:0.6814005648097121,Validation Accuracy:0.0,Validation Hamming Accuracy:58.33547833547833\n"
     ]
    },
    {
     "name": "stderr",
     "output_type": "stream",
     "text": [
      "Training Progress:  10%|█         | 10/100 [00:17<02:41,  1.79s/it]"
     ]
    },
    {
     "name": "stdout",
     "output_type": "stream",
     "text": [
      "Epoch: 9,Train Loss:0.37351986465890885,Train Accuracy:0.016090104585679808,Train Hamming Accuracy:94.95074640207383\n",
      "Epoch: 9,Validation Loss:0.3538128819244488,Validation Accuracy:0.06435006435006435,Validation Hamming Accuracy:95.82296582296583\n"
     ]
    },
    {
     "name": "stderr",
     "output_type": "stream",
     "text": [
      "Training Progress:  20%|██        | 20/100 [00:35<02:23,  1.80s/it]"
     ]
    },
    {
     "name": "stdout",
     "output_type": "stream",
     "text": [
      "Epoch: 19,Train Loss:0.2303043828245815,Train Accuracy:0.30571198712791636,Train Hamming Accuracy:98.58424957540002\n",
      "Epoch: 19,Validation Loss:0.22354018753947538,Validation Accuracy:0.5148005148005148,Validation Hamming Accuracy:98.55069355069355\n"
     ]
    },
    {
     "name": "stderr",
     "output_type": "stream",
     "text": [
      "Training Progress:  30%|███       | 30/100 [00:54<02:08,  1.84s/it]"
     ]
    },
    {
     "name": "stdout",
     "output_type": "stream",
     "text": [
      "Epoch: 29,Train Loss:0.16930274124677513,Train Accuracy:0.7079646017699115,Train Hamming Accuracy:98.61535711093234\n",
      "Epoch: 29,Validation Loss:0.1664580893466772,Validation Accuracy:0.9652509652509652,Validation Hamming Accuracy:98.6078936078936\n"
     ]
    },
    {
     "name": "stderr",
     "output_type": "stream",
     "text": [
      "Training Progress:  40%|████      | 40/100 [01:12<01:48,  1.80s/it]"
     ]
    },
    {
     "name": "stdout",
     "output_type": "stream",
     "text": [
      "Epoch: 39,Train Loss:0.1369806866350231,Train Accuracy:1.1102172164119066,Train Hamming Accuracy:98.6130329847144\n",
      "Epoch: 39,Validation Loss:0.13566936919023215,Validation Accuracy:1.5444015444015444,Validation Hamming Accuracy:98.6071786071786\n"
     ]
    },
    {
     "name": "stderr",
     "output_type": "stream",
     "text": [
      "Training Progress:  50%|█████     | 50/100 [01:30<01:31,  1.84s/it]"
     ]
    },
    {
     "name": "stdout",
     "output_type": "stream",
     "text": [
      "Epoch: 49,Train Loss:0.11733860537056728,Train Accuracy:1.3837489943684633,Train Hamming Accuracy:98.61142397425583\n",
      "Epoch: 49,Validation Loss:0.11674649883364947,Validation Accuracy:1.8018018018018018,Validation Hamming Accuracy:98.6086086086086\n"
     ]
    },
    {
     "name": "stderr",
     "output_type": "stream",
     "text": [
      "Training Progress:  60%|██████    | 60/100 [01:48<01:11,  1.80s/it]"
     ]
    },
    {
     "name": "stdout",
     "output_type": "stream",
     "text": [
      "Epoch: 59,Train Loss:0.10427665057092601,Train Accuracy:1.6733708769107,Train Hamming Accuracy:98.61231786895503\n",
      "Epoch: 59,Validation Loss:0.10406668993909694,Validation Accuracy:2.2522522522522523,Validation Hamming Accuracy:98.61361361361361\n"
     ]
    },
    {
     "name": "stderr",
     "output_type": "stream",
     "text": [
      "Training Progress:  70%|███████   | 70/100 [02:06<00:54,  1.81s/it]"
     ]
    },
    {
     "name": "stdout",
     "output_type": "stream",
     "text": [
      "Epoch: 69,Train Loss:0.09502495395370987,Train Accuracy:1.8181818181818181,Train Hamming Accuracy:98.61124519531599\n",
      "Epoch: 69,Validation Loss:0.09503716006812023,Validation Accuracy:2.445302445302445,Validation Hamming Accuracy:98.61575861575862\n"
     ]
    },
    {
     "name": "stderr",
     "output_type": "stream",
     "text": [
      "Training Progress:  80%|████████  | 80/100 [02:25<00:37,  1.87s/it]"
     ]
    },
    {
     "name": "stdout",
     "output_type": "stream",
     "text": [
      "Epoch: 79,Train Loss:0.0881603277058879,Train Accuracy:1.9790828640386164,Train Hamming Accuracy:98.61231786895503\n",
      "Epoch: 79,Validation Loss:0.08831083143916423,Validation Accuracy:2.767052767052767,Validation Hamming Accuracy:98.61861861861861\n"
     ]
    },
    {
     "name": "stderr",
     "output_type": "stream",
     "text": [
      "Training Progress:  90%|█████████ | 90/100 [02:44<00:18,  1.85s/it]"
     ]
    },
    {
     "name": "stdout",
     "output_type": "stream",
     "text": [
      "Epoch: 89,Train Loss:0.08288207311982168,Train Accuracy:2.091713596138375,Train Hamming Accuracy:98.61410565835345\n",
      "Epoch: 89,Validation Loss:0.08312347995696216,Validation Accuracy:2.9601029601029603,Validation Hamming Accuracy:98.62076362076363\n"
     ]
    },
    {
     "name": "stderr",
     "output_type": "stream",
     "text": [
      "Training Progress: 100%|██████████| 100/100 [03:02<00:00,  1.83s/it]"
     ]
    },
    {
     "name": "stdout",
     "output_type": "stream",
     "text": [
      "Epoch: 99,Train Loss:0.07870746837954151,Train Accuracy:2.236524537409493,Train Hamming Accuracy:98.61625100563154\n",
      "Epoch: 99,Validation Loss:0.07901138725116832,Validation Accuracy:3.0244530244530243,Validation Hamming Accuracy:98.62147862147862\n"
     ]
    },
    {
     "name": "stderr",
     "output_type": "stream",
     "text": [
      "\n"
     ]
    },
    {
     "name": "stdout",
     "output_type": "stream",
     "text": [
      "Test Loss:0.07893790986144496,Test Accuracy:2.0536601523683338,Test Hamming Accuracy:98.59298516801\n"
     ]
    },
    {
     "data": {
      "text/html": [],
      "text/plain": [
       "<IPython.core.display.HTML object>"
      ]
     },
     "metadata": {},
     "output_type": "display_data"
    },
    {
     "data": {
      "text/html": [
       "<br>    <style><br>        .wandb-row {<br>            display: flex;<br>            flex-direction: row;<br>            flex-wrap: wrap;<br>            justify-content: flex-start;<br>            width: 100%;<br>        }<br>        .wandb-col {<br>            display: flex;<br>            flex-direction: column;<br>            flex-basis: 100%;<br>            flex: 1;<br>            padding: 10px;<br>        }<br>    </style><br><div class=\"wandb-row\"><div class=\"wandb-col\"><h3>Run history:</h3><br/><table class=\"wandb\"><tr><td>Epoch</td><td>▁▁▁▂▂▂▂▂▂▂▃▃▃▃▃▄▄▄▄▄▅▅▅▅▆▆▆▆▆▆▇▇▇▇▇▇▇███</td></tr><tr><td>Train Accuracy</td><td>▁▁▁▁▁▁▁▂▂▂▂▂▃▃▄▄▄▅▅▅▅▆▆▆▆▆▆▆▇▇▇▇▇▇▇█████</td></tr><tr><td>Train Loss</td><td>█▇▆▆▅▄▃▃▃▃▃▂▂▂▂▂▂▂▂▁▁▁▁▁▁▁▁▁▁▁▁▁▁▁▁▁▁▁▁▁</td></tr><tr><td>Validation Accuracy</td><td>▁▁▁▁▁▂▂▂▂▂▃▃▄▄▄▅▅▅▅▅▆▆▆▆▆▇▇▇▇▇██████████</td></tr><tr><td>Validation Loss</td><td>█▇▇▆▄▃▃▃▃▂▂▂▂▂▂▂▁▁▁▁▁▁▁▁▁▁▁▁▁▁▁▁▁▁▁▁▁▁▁▁</td></tr></table><br/></div><div class=\"wandb-col\"><h3>Run summary:</h3><br/><table class=\"wandb\"><tr><td>Epoch</td><td>99</td></tr><tr><td>Train Accuracy</td><td>2.23652</td></tr><tr><td>Train Loss</td><td>0.07871</td></tr><tr><td>Validation Accuracy</td><td>3.02445</td></tr><tr><td>Validation Loss</td><td>0.07901</td></tr></table><br/></div></div>"
      ],
      "text/plain": [
       "<IPython.core.display.HTML object>"
      ]
     },
     "metadata": {},
     "output_type": "display_data"
    },
    {
     "data": {
      "text/html": [
       " View run <strong style=\"color:#cdcd00\">2.3-Sigmoid-BGD-Hyperparam2</strong> at: <a href='https://wandb.ai/ketakishetye0619-iiit-hyderabad/SMAI-A2/runs/0fmmthix' target=\"_blank\">https://wandb.ai/ketakishetye0619-iiit-hyderabad/SMAI-A2/runs/0fmmthix</a><br> View project at: <a href='https://wandb.ai/ketakishetye0619-iiit-hyderabad/SMAI-A2' target=\"_blank\">https://wandb.ai/ketakishetye0619-iiit-hyderabad/SMAI-A2</a><br>Synced 5 W&B file(s), 0 media file(s), 0 artifact file(s) and 0 other file(s)"
      ],
      "text/plain": [
       "<IPython.core.display.HTML object>"
      ]
     },
     "metadata": {},
     "output_type": "display_data"
    },
    {
     "data": {
      "text/html": [
       "Find logs at: <code>.\\wandb\\run-20250315_174731-0fmmthix\\logs</code>"
      ],
      "text/plain": [
       "<IPython.core.display.HTML object>"
      ]
     },
     "metadata": {},
     "output_type": "display_data"
    }
   ],
   "source": [
    "wandb.init(project=\"SMAI-A2\", name=\"2.3-Sigmoid-BGD-Hyperparam2\")\n",
    "print(\"Initialising model\")\n",
    "model = MLP(input_dim, hidden_dim, output_dim,activation)   \n",
    "model.train(x_train,y_train,num_epochs,learning_rate,x_val,y_val,batch_size)\n",
    "y_pred_test=model.predict(x_test)\n",
    "test_loss=model.binary_cross_entropy(y_test,y_pred_test)\n",
    "test_accuracy,test_hamming_accuracy=model.calculate_accuracy(y_test,y_pred_test)\n",
    "print(f\"Test Loss:{test_loss},Test Accuracy:{test_accuracy},Test Hamming Accuracy:{test_hamming_accuracy}\")\n",
    "\n",
    "wandb.finish()"
   ]
  },
  {
   "cell_type": "markdown",
   "metadata": {},
   "source": [
    "### Sigmoid-SGD"
   ]
  },
  {
   "cell_type": "code",
   "execution_count": 37,
   "metadata": {},
   "outputs": [],
   "source": [
    "np.random.seed(42)\n",
    "input_dim=5000\n",
    "hidden_dim=1024\n",
    "learning_rate=0.01\n",
    "num_epochs=3\n",
    "activation='sigmoid'\n",
    "batch_size=1\n",
    "output_dim=y_train.shape[1]"
   ]
  },
  {
   "cell_type": "code",
   "execution_count": 38,
   "metadata": {},
   "outputs": [
    {
     "name": "stdout",
     "output_type": "stream",
     "text": [
      "Initialising model\n"
     ]
    },
    {
     "name": "stderr",
     "output_type": "stream",
     "text": [
      "Training Progress:  33%|███▎      | 1/3 [03:41<07:22, 221.10s/it]"
     ]
    },
    {
     "name": "stdout",
     "output_type": "stream",
     "text": [
      "Epoch: 0,Train Loss:0.024401139035744337,Train Accuracy:61.93081255028158,Train Hamming Accuracy:99.33690891212711\n",
      "Epoch: 0,Validation Loss:0.017288227181201696,Validation Accuracy:71.4929214929215,Validation Hamming Accuracy:99.48233948233948\n"
     ]
    },
    {
     "name": "stderr",
     "output_type": "stream",
     "text": [
      "Training Progress: 100%|██████████| 3/3 [11:12<00:00, 224.14s/it]\n"
     ]
    },
    {
     "name": "stdout",
     "output_type": "stream",
     "text": [
      "Test Loss:0.019565880519674388,Test Accuracy:71.18251076515403,Test Hamming Accuracy:99.47664789665453\n"
     ]
    },
    {
     "data": {
      "text/html": [],
      "text/plain": [
       "<IPython.core.display.HTML object>"
      ]
     },
     "metadata": {},
     "output_type": "display_data"
    },
    {
     "data": {
      "text/html": [
       "<br>    <style><br>        .wandb-row {<br>            display: flex;<br>            flex-direction: row;<br>            flex-wrap: wrap;<br>            justify-content: flex-start;<br>            width: 100%;<br>        }<br>        .wandb-col {<br>            display: flex;<br>            flex-direction: column;<br>            flex-basis: 100%;<br>            flex: 1;<br>            padding: 10px;<br>        }<br>    </style><br><div class=\"wandb-row\"><div class=\"wandb-col\"><h3>Run history:</h3><br/><table class=\"wandb\"><tr><td>Epoch</td><td>▁▅█</td></tr><tr><td>Train Accuracy</td><td>▁▇█</td></tr><tr><td>Train Loss</td><td>█▂▁</td></tr><tr><td>Validation Accuracy</td><td>▁▄█</td></tr><tr><td>Validation Loss</td><td>█▂▁</td></tr></table><br/></div><div class=\"wandb-col\"><h3>Run summary:</h3><br/><table class=\"wandb\"><tr><td>Epoch</td><td>2</td></tr><tr><td>Train Accuracy</td><td>97.05551</td></tr><tr><td>Train Loss</td><td>0.00218</td></tr><tr><td>Validation Accuracy</td><td>75.22523</td></tr><tr><td>Validation Loss</td><td>0.01565</td></tr></table><br/></div></div>"
      ],
      "text/plain": [
       "<IPython.core.display.HTML object>"
      ]
     },
     "metadata": {},
     "output_type": "display_data"
    },
    {
     "data": {
      "text/html": [
       " View run <strong style=\"color:#cdcd00\">2.3-Sigmoid-SGD</strong> at: <a href='https://wandb.ai/ketakishetye0619-iiit-hyderabad/SMAI-A2/runs/lpp3y4ww' target=\"_blank\">https://wandb.ai/ketakishetye0619-iiit-hyderabad/SMAI-A2/runs/lpp3y4ww</a><br> View project at: <a href='https://wandb.ai/ketakishetye0619-iiit-hyderabad/SMAI-A2' target=\"_blank\">https://wandb.ai/ketakishetye0619-iiit-hyderabad/SMAI-A2</a><br>Synced 5 W&B file(s), 0 media file(s), 0 artifact file(s) and 0 other file(s)"
      ],
      "text/plain": [
       "<IPython.core.display.HTML object>"
      ]
     },
     "metadata": {},
     "output_type": "display_data"
    },
    {
     "data": {
      "text/html": [
       "Find logs at: <code>.\\wandb\\run-20250315_181102-lpp3y4ww\\logs</code>"
      ],
      "text/plain": [
       "<IPython.core.display.HTML object>"
      ]
     },
     "metadata": {},
     "output_type": "display_data"
    }
   ],
   "source": [
    "wandb.init(project=\"SMAI-A2\", name=\"2.3-Sigmoid-SGD\")\n",
    "print(\"Initialising model\")\n",
    "model = MLP(input_dim, hidden_dim, output_dim,activation)   \n",
    "model.train(x_train,y_train,num_epochs,learning_rate,x_val,y_val,batch_size)\n",
    "y_pred_test=model.predict(x_test)\n",
    "test_loss=model.binary_cross_entropy(y_test,y_pred_test)\n",
    "test_accuracy,test_hamming_accuracy=model.calculate_accuracy(y_test,y_pred_test)\n",
    "print(f\"Test Loss:{test_loss},Test Accuracy:{test_accuracy},Test Hamming Accuracy:{test_hamming_accuracy}\")\n",
    "\n",
    "wandb.finish()"
   ]
  },
  {
   "cell_type": "code",
   "execution_count": 39,
   "metadata": {},
   "outputs": [],
   "source": [
    "np.random.seed(42)\n",
    "input_dim=5000\n",
    "hidden_dim=512\n",
    "learning_rate=0.01\n",
    "num_epochs=3\n",
    "activation='sigmoid'\n",
    "batch_size=1\n",
    "output_dim=y_train.shape[1]"
   ]
  },
  {
   "cell_type": "code",
   "execution_count": 40,
   "metadata": {},
   "outputs": [
    {
     "data": {
      "text/html": [
       "Tracking run with wandb version 0.19.8"
      ],
      "text/plain": [
       "<IPython.core.display.HTML object>"
      ]
     },
     "metadata": {},
     "output_type": "display_data"
    },
    {
     "data": {
      "text/html": [
       "Run data is saved locally in <code>d:\\SMAI\\Assignments\\A2\\wandb\\run-20250315_184005-blpr5y2z</code>"
      ],
      "text/plain": [
       "<IPython.core.display.HTML object>"
      ]
     },
     "metadata": {},
     "output_type": "display_data"
    },
    {
     "data": {
      "text/html": [
       "Syncing run <strong><a href='https://wandb.ai/ketakishetye0619-iiit-hyderabad/SMAI-A2/runs/blpr5y2z' target=\"_blank\">2.3-Sigmoid-SGD-Hyperparam1</a></strong> to <a href='https://wandb.ai/ketakishetye0619-iiit-hyderabad/SMAI-A2' target=\"_blank\">Weights & Biases</a> (<a href='https://wandb.me/developer-guide' target=\"_blank\">docs</a>)<br>"
      ],
      "text/plain": [
       "<IPython.core.display.HTML object>"
      ]
     },
     "metadata": {},
     "output_type": "display_data"
    },
    {
     "data": {
      "text/html": [
       " View project at <a href='https://wandb.ai/ketakishetye0619-iiit-hyderabad/SMAI-A2' target=\"_blank\">https://wandb.ai/ketakishetye0619-iiit-hyderabad/SMAI-A2</a>"
      ],
      "text/plain": [
       "<IPython.core.display.HTML object>"
      ]
     },
     "metadata": {},
     "output_type": "display_data"
    },
    {
     "data": {
      "text/html": [
       " View run at <a href='https://wandb.ai/ketakishetye0619-iiit-hyderabad/SMAI-A2/runs/blpr5y2z' target=\"_blank\">https://wandb.ai/ketakishetye0619-iiit-hyderabad/SMAI-A2/runs/blpr5y2z</a>"
      ],
      "text/plain": [
       "<IPython.core.display.HTML object>"
      ]
     },
     "metadata": {},
     "output_type": "display_data"
    },
    {
     "name": "stdout",
     "output_type": "stream",
     "text": [
      "Initialising model\n"
     ]
    },
    {
     "name": "stderr",
     "output_type": "stream",
     "text": [
      "Training Progress:  33%|███▎      | 1/3 [02:16<04:32, 136.02s/it]"
     ]
    },
    {
     "name": "stdout",
     "output_type": "stream",
     "text": [
      "Epoch: 0,Train Loss:0.023288321173470863,Train Accuracy:62.25261464199517,Train Hamming Accuracy:99.35997139536651\n",
      "Epoch: 0,Validation Loss:0.01603156891082909,Validation Accuracy:72.65122265122265,Validation Hamming Accuracy:99.51665951665952\n"
     ]
    },
    {
     "name": "stderr",
     "output_type": "stream",
     "text": [
      "Training Progress: 100%|██████████| 3/3 [06:12<00:00, 124.14s/it]\n"
     ]
    },
    {
     "name": "stdout",
     "output_type": "stream",
     "text": [
      "Test Loss:0.018498521632269782,Test Accuracy:71.51374627360053,Test Hamming Accuracy:99.47812005446984\n"
     ]
    },
    {
     "data": {
      "text/html": [],
      "text/plain": [
       "<IPython.core.display.HTML object>"
      ]
     },
     "metadata": {},
     "output_type": "display_data"
    },
    {
     "data": {
      "text/html": [
       "<br>    <style><br>        .wandb-row {<br>            display: flex;<br>            flex-direction: row;<br>            flex-wrap: wrap;<br>            justify-content: flex-start;<br>            width: 100%;<br>        }<br>        .wandb-col {<br>            display: flex;<br>            flex-direction: column;<br>            flex-basis: 100%;<br>            flex: 1;<br>            padding: 10px;<br>        }<br>    </style><br><div class=\"wandb-row\"><div class=\"wandb-col\"><h3>Run history:</h3><br/><table class=\"wandb\"><tr><td>Epoch</td><td>▁▅█</td></tr><tr><td>Train Accuracy</td><td>▁▇█</td></tr><tr><td>Train Loss</td><td>█▂▁</td></tr><tr><td>Validation Accuracy</td><td>▁▆█</td></tr><tr><td>Validation Loss</td><td>█▁▂</td></tr></table><br/></div><div class=\"wandb-col\"><h3>Run summary:</h3><br/><table class=\"wandb\"><tr><td>Epoch</td><td>2</td></tr><tr><td>Train Accuracy</td><td>96.62108</td></tr><tr><td>Train Loss</td><td>0.00246</td></tr><tr><td>Validation Accuracy</td><td>74.71042</td></tr><tr><td>Validation Loss</td><td>0.01473</td></tr></table><br/></div></div>"
      ],
      "text/plain": [
       "<IPython.core.display.HTML object>"
      ]
     },
     "metadata": {},
     "output_type": "display_data"
    },
    {
     "data": {
      "text/html": [
       " View run <strong style=\"color:#cdcd00\">2.3-Sigmoid-SGD-Hyperparam1</strong> at: <a href='https://wandb.ai/ketakishetye0619-iiit-hyderabad/SMAI-A2/runs/blpr5y2z' target=\"_blank\">https://wandb.ai/ketakishetye0619-iiit-hyderabad/SMAI-A2/runs/blpr5y2z</a><br> View project at: <a href='https://wandb.ai/ketakishetye0619-iiit-hyderabad/SMAI-A2' target=\"_blank\">https://wandb.ai/ketakishetye0619-iiit-hyderabad/SMAI-A2</a><br>Synced 5 W&B file(s), 0 media file(s), 0 artifact file(s) and 0 other file(s)"
      ],
      "text/plain": [
       "<IPython.core.display.HTML object>"
      ]
     },
     "metadata": {},
     "output_type": "display_data"
    },
    {
     "data": {
      "text/html": [
       "Find logs at: <code>.\\wandb\\run-20250315_184005-blpr5y2z\\logs</code>"
      ],
      "text/plain": [
       "<IPython.core.display.HTML object>"
      ]
     },
     "metadata": {},
     "output_type": "display_data"
    }
   ],
   "source": [
    "wandb.init(project=\"SMAI-A2\", name=\"2.3-Sigmoid-SGD-Hyperparam1\")\n",
    "print(\"Initialising model\")\n",
    "model = MLP(input_dim, hidden_dim, output_dim,activation)   \n",
    "model.train(x_train,y_train,num_epochs,learning_rate,x_val,y_val,batch_size)\n",
    "y_pred_test=model.predict(x_test)\n",
    "test_loss=model.binary_cross_entropy(y_test,y_pred_test)\n",
    "test_accuracy,test_hamming_accuracy=model.calculate_accuracy(y_test,y_pred_test)\n",
    "print(f\"Test Loss:{test_loss},Test Accuracy:{test_accuracy},Test Hamming Accuracy:{test_hamming_accuracy}\")\n",
    "\n",
    "wandb.finish()"
   ]
  },
  {
   "cell_type": "code",
   "execution_count": 41,
   "metadata": {},
   "outputs": [],
   "source": [
    "np.random.seed(42)\n",
    "input_dim=5000\n",
    "hidden_dim=1024\n",
    "learning_rate=0.001\n",
    "num_epochs=3\n",
    "activation='sigmoid'\n",
    "batch_size=1\n",
    "output_dim=y_train.shape[1]"
   ]
  },
  {
   "cell_type": "code",
   "execution_count": 42,
   "metadata": {},
   "outputs": [
    {
     "data": {
      "text/html": [
       "Tracking run with wandb version 0.19.8"
      ],
      "text/plain": [
       "<IPython.core.display.HTML object>"
      ]
     },
     "metadata": {},
     "output_type": "display_data"
    },
    {
     "data": {
      "text/html": [
       "Run data is saved locally in <code>d:\\SMAI\\Assignments\\A2\\wandb\\run-20250315_184621-dft9ncet</code>"
      ],
      "text/plain": [
       "<IPython.core.display.HTML object>"
      ]
     },
     "metadata": {},
     "output_type": "display_data"
    },
    {
     "data": {
      "text/html": [
       "Syncing run <strong><a href='https://wandb.ai/ketakishetye0619-iiit-hyderabad/SMAI-A2/runs/dft9ncet' target=\"_blank\">2.3-Sigmoid-SGD-Hyperparam2</a></strong> to <a href='https://wandb.ai/ketakishetye0619-iiit-hyderabad/SMAI-A2' target=\"_blank\">Weights & Biases</a> (<a href='https://wandb.me/developer-guide' target=\"_blank\">docs</a>)<br>"
      ],
      "text/plain": [
       "<IPython.core.display.HTML object>"
      ]
     },
     "metadata": {},
     "output_type": "display_data"
    },
    {
     "data": {
      "text/html": [
       " View project at <a href='https://wandb.ai/ketakishetye0619-iiit-hyderabad/SMAI-A2' target=\"_blank\">https://wandb.ai/ketakishetye0619-iiit-hyderabad/SMAI-A2</a>"
      ],
      "text/plain": [
       "<IPython.core.display.HTML object>"
      ]
     },
     "metadata": {},
     "output_type": "display_data"
    },
    {
     "data": {
      "text/html": [
       " View run at <a href='https://wandb.ai/ketakishetye0619-iiit-hyderabad/SMAI-A2/runs/dft9ncet' target=\"_blank\">https://wandb.ai/ketakishetye0619-iiit-hyderabad/SMAI-A2/runs/dft9ncet</a>"
      ],
      "text/plain": [
       "<IPython.core.display.HTML object>"
      ]
     },
     "metadata": {},
     "output_type": "display_data"
    },
    {
     "name": "stdout",
     "output_type": "stream",
     "text": [
      "Initialising model\n"
     ]
    },
    {
     "name": "stderr",
     "output_type": "stream",
     "text": [
      "Training Progress:  33%|███▎      | 1/3 [03:56<07:53, 236.79s/it]"
     ]
    },
    {
     "name": "stdout",
     "output_type": "stream",
     "text": [
      "Epoch: 0,Train Loss:0.04203529521793569,Train Accuracy:35.01206757843926,Train Hamming Accuracy:98.95485831768423\n",
      "Epoch: 0,Validation Loss:0.03118692328922006,Validation Accuracy:47.554697554697555,Validation Hamming Accuracy:99.17703417703417\n"
     ]
    },
    {
     "name": "stderr",
     "output_type": "stream",
     "text": [
      "Training Progress: 100%|██████████| 3/3 [11:15<00:00, 225.06s/it]\n"
     ]
    },
    {
     "name": "stdout",
     "output_type": "stream",
     "text": [
      "Test Loss:0.023166214307534294,Test Accuracy:61.841669426962575,Test Hamming Accuracy:99.35151448235251\n"
     ]
    },
    {
     "data": {
      "text/html": [],
      "text/plain": [
       "<IPython.core.display.HTML object>"
      ]
     },
     "metadata": {},
     "output_type": "display_data"
    },
    {
     "data": {
      "text/html": [
       "<br>    <style><br>        .wandb-row {<br>            display: flex;<br>            flex-direction: row;<br>            flex-wrap: wrap;<br>            justify-content: flex-start;<br>            width: 100%;<br>        }<br>        .wandb-col {<br>            display: flex;<br>            flex-direction: column;<br>            flex-basis: 100%;<br>            flex: 1;<br>            padding: 10px;<br>        }<br>    </style><br><div class=\"wandb-row\"><div class=\"wandb-col\"><h3>Run history:</h3><br/><table class=\"wandb\"><tr><td>Epoch</td><td>▁▅█</td></tr><tr><td>Train Accuracy</td><td>▁▆█</td></tr><tr><td>Train Loss</td><td>█▃▁</td></tr><tr><td>Validation Accuracy</td><td>▁▅█</td></tr><tr><td>Validation Loss</td><td>█▃▁</td></tr></table><br/></div><div class=\"wandb-col\"><h3>Run summary:</h3><br/><table class=\"wandb\"><tr><td>Epoch</td><td>2</td></tr><tr><td>Train Accuracy</td><td>69.83105</td></tr><tr><td>Train Loss</td><td>0.01683</td></tr><tr><td>Validation Accuracy</td><td>62.67696</td></tr><tr><td>Validation Loss</td><td>0.0204</td></tr></table><br/></div></div>"
      ],
      "text/plain": [
       "<IPython.core.display.HTML object>"
      ]
     },
     "metadata": {},
     "output_type": "display_data"
    },
    {
     "data": {
      "text/html": [
       " View run <strong style=\"color:#cdcd00\">2.3-Sigmoid-SGD-Hyperparam2</strong> at: <a href='https://wandb.ai/ketakishetye0619-iiit-hyderabad/SMAI-A2/runs/dft9ncet' target=\"_blank\">https://wandb.ai/ketakishetye0619-iiit-hyderabad/SMAI-A2/runs/dft9ncet</a><br> View project at: <a href='https://wandb.ai/ketakishetye0619-iiit-hyderabad/SMAI-A2' target=\"_blank\">https://wandb.ai/ketakishetye0619-iiit-hyderabad/SMAI-A2</a><br>Synced 5 W&B file(s), 0 media file(s), 0 artifact file(s) and 0 other file(s)"
      ],
      "text/plain": [
       "<IPython.core.display.HTML object>"
      ]
     },
     "metadata": {},
     "output_type": "display_data"
    },
    {
     "data": {
      "text/html": [
       "Find logs at: <code>.\\wandb\\run-20250315_184621-dft9ncet\\logs</code>"
      ],
      "text/plain": [
       "<IPython.core.display.HTML object>"
      ]
     },
     "metadata": {},
     "output_type": "display_data"
    }
   ],
   "source": [
    "wandb.init(project=\"SMAI-A2\", name=\"2.3-Sigmoid-SGD-Hyperparam2\")\n",
    "print(\"Initialising model\")\n",
    "model = MLP(input_dim, hidden_dim, output_dim,activation)   \n",
    "model.train(x_train,y_train,num_epochs,learning_rate,x_val,y_val,batch_size)\n",
    "y_pred_test=model.predict(x_test)\n",
    "test_loss=model.binary_cross_entropy(y_test,y_pred_test)\n",
    "test_accuracy,test_hamming_accuracy=model.calculate_accuracy(y_test,y_pred_test)\n",
    "print(f\"Test Loss:{test_loss},Test Accuracy:{test_accuracy},Test Hamming Accuracy:{test_hamming_accuracy}\")\n",
    "\n",
    "wandb.finish()"
   ]
  },
  {
   "cell_type": "markdown",
   "metadata": {},
   "source": [
    "### Sigmoid-MBGD"
   ]
  },
  {
   "cell_type": "code",
   "execution_count": 43,
   "metadata": {},
   "outputs": [],
   "source": [
    "np.random.seed(42)\n",
    "input_dim=5000\n",
    "hidden_dim=1024\n",
    "learning_rate=0.01\n",
    "num_epochs=100\n",
    "activation='sigmoid'\n",
    "batch_size=256\n",
    "output_dim=y_train.shape[1]"
   ]
  },
  {
   "cell_type": "code",
   "execution_count": 44,
   "metadata": {},
   "outputs": [
    {
     "data": {
      "text/html": [
       "Tracking run with wandb version 0.19.8"
      ],
      "text/plain": [
       "<IPython.core.display.HTML object>"
      ]
     },
     "metadata": {},
     "output_type": "display_data"
    },
    {
     "data": {
      "text/html": [
       "Run data is saved locally in <code>d:\\SMAI\\Assignments\\A2\\wandb\\run-20250315_185740-gadjx6dh</code>"
      ],
      "text/plain": [
       "<IPython.core.display.HTML object>"
      ]
     },
     "metadata": {},
     "output_type": "display_data"
    },
    {
     "data": {
      "text/html": [
       "Syncing run <strong><a href='https://wandb.ai/ketakishetye0619-iiit-hyderabad/SMAI-A2/runs/gadjx6dh' target=\"_blank\">2.3-Sigmoid-MBGD</a></strong> to <a href='https://wandb.ai/ketakishetye0619-iiit-hyderabad/SMAI-A2' target=\"_blank\">Weights & Biases</a> (<a href='https://wandb.me/developer-guide' target=\"_blank\">docs</a>)<br>"
      ],
      "text/plain": [
       "<IPython.core.display.HTML object>"
      ]
     },
     "metadata": {},
     "output_type": "display_data"
    },
    {
     "data": {
      "text/html": [
       " View project at <a href='https://wandb.ai/ketakishetye0619-iiit-hyderabad/SMAI-A2' target=\"_blank\">https://wandb.ai/ketakishetye0619-iiit-hyderabad/SMAI-A2</a>"
      ],
      "text/plain": [
       "<IPython.core.display.HTML object>"
      ]
     },
     "metadata": {},
     "output_type": "display_data"
    },
    {
     "data": {
      "text/html": [
       " View run at <a href='https://wandb.ai/ketakishetye0619-iiit-hyderabad/SMAI-A2/runs/gadjx6dh' target=\"_blank\">https://wandb.ai/ketakishetye0619-iiit-hyderabad/SMAI-A2/runs/gadjx6dh</a>"
      ],
      "text/plain": [
       "<IPython.core.display.HTML object>"
      ]
     },
     "metadata": {},
     "output_type": "display_data"
    },
    {
     "name": "stdout",
     "output_type": "stream",
     "text": [
      "Initialising model\n"
     ]
    },
    {
     "name": "stderr",
     "output_type": "stream",
     "text": [
      "Training Progress:   1%|          | 1/100 [00:02<03:54,  2.37s/it]"
     ]
    },
    {
     "name": "stdout",
     "output_type": "stream",
     "text": [
      "Epoch: 0,Train Loss:0.11635941513894016,Train Accuracy:2.9379401408450705,Train Hamming Accuracy:96.61713615023474\n",
      "Epoch: 0,Validation Loss:0.05684076165745996,Validation Accuracy:5.469755469755469,Validation Hamming Accuracy:98.66008866008866\n"
     ]
    },
    {
     "name": "stderr",
     "output_type": "stream",
     "text": [
      "Training Progress:  10%|█         | 10/100 [00:24<03:41,  2.46s/it]"
     ]
    },
    {
     "name": "stdout",
     "output_type": "stream",
     "text": [
      "Epoch: 9,Train Loss:0.03841236472696571,Train Accuracy:34.690140845070424,Train Hamming Accuracy:99.00438184663535\n",
      "Epoch: 9,Validation Loss:0.03970416862631462,Validation Accuracy:33.46203346203346,Validation Hamming Accuracy:98.998998998999\n"
     ]
    },
    {
     "name": "stderr",
     "output_type": "stream",
     "text": [
      "Training Progress:  20%|██        | 20/100 [00:48<03:10,  2.38s/it]"
     ]
    },
    {
     "name": "stdout",
     "output_type": "stream",
     "text": [
      "Epoch: 19,Train Loss:0.03066984894203915,Train Accuracy:49.69102112676056,Train Hamming Accuracy:99.18518926056336\n",
      "Epoch: 19,Validation Loss:0.03336258461416409,Validation Accuracy:44.98069498069498,Validation Hamming Accuracy:99.13770913770914\n"
     ]
    },
    {
     "name": "stderr",
     "output_type": "stream",
     "text": [
      "Training Progress:  30%|███       | 30/100 [01:12<02:48,  2.41s/it]"
     ]
    },
    {
     "name": "stdout",
     "output_type": "stream",
     "text": [
      "Epoch: 29,Train Loss:0.025345627939676884,Train Accuracy:56.325044014084504,Train Hamming Accuracy:99.29796801643191\n",
      "Epoch: 29,Validation Loss:0.029111317724411754,Validation Accuracy:49.61389961389961,Validation Hamming Accuracy:99.2092092092092\n"
     ]
    },
    {
     "name": "stderr",
     "output_type": "stream",
     "text": [
      "Training Progress:  40%|████      | 40/100 [01:36<02:25,  2.43s/it]"
     ]
    },
    {
     "name": "stdout",
     "output_type": "stream",
     "text": [
      "Epoch: 39,Train Loss:0.021329115700483226,Train Accuracy:62.34154929577465,Train Hamming Accuracy:99.40260661189359\n",
      "Epoch: 39,Validation Loss:0.02614749501656462,Validation Accuracy:54.118404118404115,Validation Hamming Accuracy:99.27570427570429\n"
     ]
    },
    {
     "name": "stderr",
     "output_type": "stream",
     "text": [
      "Training Progress:  50%|█████     | 50/100 [02:01<01:59,  2.39s/it]"
     ]
    },
    {
     "name": "stdout",
     "output_type": "stream",
     "text": [
      "Epoch: 49,Train Loss:0.01830214660559721,Train Accuracy:67.37610035211269,Train Hamming Accuracy:99.48459262519563\n",
      "Epoch: 49,Validation Loss:0.023947625436382083,Validation Accuracy:56.821106821106824,Validation Hamming Accuracy:99.3150293150293\n"
     ]
    },
    {
     "name": "stderr",
     "output_type": "stream",
     "text": [
      "Training Progress:  60%|██████    | 60/100 [02:25<01:40,  2.51s/it]"
     ]
    },
    {
     "name": "stdout",
     "output_type": "stream",
     "text": [
      "Epoch: 59,Train Loss:0.016062764656627027,Train Accuracy:70.87610035211269,Train Hamming Accuracy:99.54396762519563\n",
      "Epoch: 59,Validation Loss:0.02229646739428102,Validation Accuracy:58.4942084942085,Validation Hamming Accuracy:99.34434434434435\n"
     ]
    },
    {
     "name": "stderr",
     "output_type": "stream",
     "text": [
      "Training Progress:  70%|███████   | 70/100 [02:50<01:16,  2.55s/it]"
     ]
    },
    {
     "name": "stdout",
     "output_type": "stream",
     "text": [
      "Epoch: 69,Train Loss:0.014290209381311852,Train Accuracy:73.6199383802817,Train Hamming Accuracy:99.59282081377152\n",
      "Epoch: 69,Validation Loss:0.021018049356540572,Validation Accuracy:60.87516087516087,Validation Hamming Accuracy:99.37365937365938\n"
     ]
    },
    {
     "name": "stderr",
     "output_type": "stream",
     "text": [
      "Training Progress:  80%|████████  | 80/100 [03:15<00:47,  2.38s/it]"
     ]
    },
    {
     "name": "stdout",
     "output_type": "stream",
     "text": [
      "Epoch: 79,Train Loss:0.012913984623139928,Train Accuracy:76.53895246478874,Train Hamming Accuracy:99.63556093505478\n",
      "Epoch: 79,Validation Loss:0.019982424449137195,Validation Accuracy:62.35521235521235,Validation Hamming Accuracy:99.4001144001144\n"
     ]
    },
    {
     "name": "stderr",
     "output_type": "stream",
     "text": [
      "Training Progress:  90%|█████████ | 90/100 [03:38<00:22,  2.25s/it]"
     ]
    },
    {
     "name": "stdout",
     "output_type": "stream",
     "text": [
      "Epoch: 89,Train Loss:0.011576864800573943,Train Accuracy:79.08296654929578,Train Hamming Accuracy:99.67810543818467\n",
      "Epoch: 89,Validation Loss:0.01917213593534106,Validation Accuracy:63.51351351351351,Validation Hamming Accuracy:99.41512941512941\n"
     ]
    },
    {
     "name": "stderr",
     "output_type": "stream",
     "text": [
      "Training Progress: 100%|██████████| 100/100 [04:00<00:00,  2.41s/it]"
     ]
    },
    {
     "name": "stdout",
     "output_type": "stream",
     "text": [
      "Epoch: 99,Train Loss:0.010564672080506538,Train Accuracy:81.13314260563381,Train Hamming Accuracy:99.7093921165884\n",
      "Epoch: 99,Validation Loss:0.01850740588472731,Validation Accuracy:64.41441441441441,Validation Hamming Accuracy:99.42871442871443\n"
     ]
    },
    {
     "name": "stderr",
     "output_type": "stream",
     "text": [
      "\n"
     ]
    },
    {
     "name": "stdout",
     "output_type": "stream",
     "text": [
      "Test Loss:0.021517138756212445,Test Accuracy:63.6303411725737,Test Hamming Accuracy:99.3802215597512\n"
     ]
    },
    {
     "data": {
      "text/html": [],
      "text/plain": [
       "<IPython.core.display.HTML object>"
      ]
     },
     "metadata": {},
     "output_type": "display_data"
    },
    {
     "data": {
      "text/html": [
       "<br>    <style><br>        .wandb-row {<br>            display: flex;<br>            flex-direction: row;<br>            flex-wrap: wrap;<br>            justify-content: flex-start;<br>            width: 100%;<br>        }<br>        .wandb-col {<br>            display: flex;<br>            flex-direction: column;<br>            flex-basis: 100%;<br>            flex: 1;<br>            padding: 10px;<br>        }<br>    </style><br><div class=\"wandb-row\"><div class=\"wandb-col\"><h3>Run history:</h3><br/><table class=\"wandb\"><tr><td>Epoch</td><td>▁▁▁▁▁▂▂▂▂▂▃▃▃▃▃▃▄▄▄▄▄▄▅▅▅▅▅▅▅▅▆▆▆▆▆▆▇▇▇█</td></tr><tr><td>Train Accuracy</td><td>▁▂▂▃▃▃▄▄▄▄▅▅▅▅▆▆▆▆▆▆▇▇▇▇▇▇▇▇▇▇▇▇████████</td></tr><tr><td>Train Loss</td><td>█▄▃▃▃▃▂▂▂▂▂▂▂▂▂▂▂▂▂▂▁▁▁▁▁▁▁▁▁▁▁▁▁▁▁▁▁▁▁▁</td></tr><tr><td>Validation Accuracy</td><td>▁▁▄▃▄▄▅▅▅▆▆▆▆▆▆▆▆▇▇▇▇▇▇▇▇▇▇▇████████████</td></tr><tr><td>Validation Loss</td><td>█▆▆▆▅▅▅▄▄▄▄▃▃▃▃▃▃▂▂▂▂▂▂▂▂▂▂▂▁▁▁▁▁▁▁▁▁▁▁▁</td></tr></table><br/></div><div class=\"wandb-col\"><h3>Run summary:</h3><br/><table class=\"wandb\"><tr><td>Epoch</td><td>99</td></tr><tr><td>Train Accuracy</td><td>81.13314</td></tr><tr><td>Train Loss</td><td>0.01056</td></tr><tr><td>Validation Accuracy</td><td>64.41441</td></tr><tr><td>Validation Loss</td><td>0.01851</td></tr></table><br/></div></div>"
      ],
      "text/plain": [
       "<IPython.core.display.HTML object>"
      ]
     },
     "metadata": {},
     "output_type": "display_data"
    },
    {
     "data": {
      "text/html": [
       " View run <strong style=\"color:#cdcd00\">2.3-Sigmoid-MBGD</strong> at: <a href='https://wandb.ai/ketakishetye0619-iiit-hyderabad/SMAI-A2/runs/gadjx6dh' target=\"_blank\">https://wandb.ai/ketakishetye0619-iiit-hyderabad/SMAI-A2/runs/gadjx6dh</a><br> View project at: <a href='https://wandb.ai/ketakishetye0619-iiit-hyderabad/SMAI-A2' target=\"_blank\">https://wandb.ai/ketakishetye0619-iiit-hyderabad/SMAI-A2</a><br>Synced 5 W&B file(s), 0 media file(s), 0 artifact file(s) and 0 other file(s)"
      ],
      "text/plain": [
       "<IPython.core.display.HTML object>"
      ]
     },
     "metadata": {},
     "output_type": "display_data"
    },
    {
     "data": {
      "text/html": [
       "Find logs at: <code>.\\wandb\\run-20250315_185740-gadjx6dh\\logs</code>"
      ],
      "text/plain": [
       "<IPython.core.display.HTML object>"
      ]
     },
     "metadata": {},
     "output_type": "display_data"
    }
   ],
   "source": [
    "wandb.init(project=\"SMAI-A2\", name=\"2.3-Sigmoid-MBGD\")\n",
    "print(\"Initialising model\")\n",
    "model = MLP(input_dim, hidden_dim, output_dim,activation)   \n",
    "model.train(x_train,y_train,num_epochs,learning_rate,x_val,y_val,batch_size)\n",
    "y_pred_test=model.predict(x_test)\n",
    "test_loss=model.binary_cross_entropy(y_test,y_pred_test)\n",
    "test_accuracy,test_hamming_accuracy=model.calculate_accuracy(y_test,y_pred_test)\n",
    "print(f\"Test Loss:{test_loss},Test Accuracy:{test_accuracy},Test Hamming Accuracy:{test_hamming_accuracy}\")\n",
    "\n",
    "wandb.finish()"
   ]
  },
  {
   "cell_type": "code",
   "execution_count": 45,
   "metadata": {},
   "outputs": [],
   "source": [
    "np.random.seed(42)\n",
    "input_dim=5000\n",
    "hidden_dim=512\n",
    "learning_rate=0.01\n",
    "num_epochs=100\n",
    "activation='sigmoid'\n",
    "batch_size=256\n",
    "output_dim=y_train.shape[1]"
   ]
  },
  {
   "cell_type": "code",
   "execution_count": 46,
   "metadata": {},
   "outputs": [
    {
     "data": {
      "text/html": [
       "Tracking run with wandb version 0.19.8"
      ],
      "text/plain": [
       "<IPython.core.display.HTML object>"
      ]
     },
     "metadata": {},
     "output_type": "display_data"
    },
    {
     "data": {
      "text/html": [
       "Run data is saved locally in <code>d:\\SMAI\\Assignments\\A2\\wandb\\run-20250315_190144-u5kphi4g</code>"
      ],
      "text/plain": [
       "<IPython.core.display.HTML object>"
      ]
     },
     "metadata": {},
     "output_type": "display_data"
    },
    {
     "data": {
      "text/html": [
       "Syncing run <strong><a href='https://wandb.ai/ketakishetye0619-iiit-hyderabad/SMAI-A2/runs/u5kphi4g' target=\"_blank\">2.3-Sigmoid-MBGD-Hyperparam1</a></strong> to <a href='https://wandb.ai/ketakishetye0619-iiit-hyderabad/SMAI-A2' target=\"_blank\">Weights & Biases</a> (<a href='https://wandb.me/developer-guide' target=\"_blank\">docs</a>)<br>"
      ],
      "text/plain": [
       "<IPython.core.display.HTML object>"
      ]
     },
     "metadata": {},
     "output_type": "display_data"
    },
    {
     "data": {
      "text/html": [
       " View project at <a href='https://wandb.ai/ketakishetye0619-iiit-hyderabad/SMAI-A2' target=\"_blank\">https://wandb.ai/ketakishetye0619-iiit-hyderabad/SMAI-A2</a>"
      ],
      "text/plain": [
       "<IPython.core.display.HTML object>"
      ]
     },
     "metadata": {},
     "output_type": "display_data"
    },
    {
     "data": {
      "text/html": [
       " View run at <a href='https://wandb.ai/ketakishetye0619-iiit-hyderabad/SMAI-A2/runs/u5kphi4g' target=\"_blank\">https://wandb.ai/ketakishetye0619-iiit-hyderabad/SMAI-A2/runs/u5kphi4g</a>"
      ],
      "text/plain": [
       "<IPython.core.display.HTML object>"
      ]
     },
     "metadata": {},
     "output_type": "display_data"
    },
    {
     "name": "stdout",
     "output_type": "stream",
     "text": [
      "Initialising model\n"
     ]
    },
    {
     "name": "stderr",
     "output_type": "stream",
     "text": [
      "Training Progress:   1%|          | 1/100 [00:01<01:56,  1.18s/it]"
     ]
    },
    {
     "name": "stdout",
     "output_type": "stream",
     "text": [
      "Epoch: 0,Train Loss:0.1585590482961887,Train Accuracy:2.450264084507042,Train Hamming Accuracy:96.0897055946792\n",
      "Epoch: 0,Validation Loss:0.06948695582264684,Validation Accuracy:5.341055341055341,Validation Hamming Accuracy:98.65293865293864\n"
     ]
    },
    {
     "name": "stderr",
     "output_type": "stream",
     "text": [
      "Training Progress:  10%|█         | 10/100 [00:12<01:51,  1.24s/it]"
     ]
    },
    {
     "name": "stdout",
     "output_type": "stream",
     "text": [
      "Epoch: 9,Train Loss:0.039305269871086644,Train Accuracy:33.71764964788733,Train Hamming Accuracy:98.9998728482003\n",
      "Epoch: 9,Validation Loss:0.04073399595353394,Validation Accuracy:31.467181467181465,Validation Hamming Accuracy:98.97039897039896\n"
     ]
    },
    {
     "name": "stderr",
     "output_type": "stream",
     "text": [
      "Training Progress:  20%|██        | 20/100 [00:24<01:35,  1.20s/it]"
     ]
    },
    {
     "name": "stdout",
     "output_type": "stream",
     "text": [
      "Epoch: 19,Train Loss:0.03123984513003139,Train Accuracy:48.690580985915496,Train Hamming Accuracy:99.1738409624413\n",
      "Epoch: 19,Validation Loss:0.03413229416447421,Validation Accuracy:44.20849420849421,Validation Hamming Accuracy:99.11768911768912\n"
     ]
    },
    {
     "name": "stderr",
     "output_type": "stream",
     "text": [
      "Training Progress:  30%|███       | 30/100 [00:36<01:24,  1.21s/it]"
     ]
    },
    {
     "name": "stdout",
     "output_type": "stream",
     "text": [
      "Epoch: 29,Train Loss:0.025881205489603522,Train Accuracy:55.84154929577465,Train Hamming Accuracy:99.28729215571205\n",
      "Epoch: 29,Validation Loss:0.029853204899495174,Validation Accuracy:48.97039897039897,Validation Hamming Accuracy:99.19276419276419\n"
     ]
    },
    {
     "name": "stderr",
     "output_type": "stream",
     "text": [
      "Training Progress:  40%|████      | 40/100 [00:48<01:11,  1.20s/it]"
     ]
    },
    {
     "name": "stdout",
     "output_type": "stream",
     "text": [
      "Epoch: 39,Train Loss:0.0223016976809564,Train Accuracy:61.010123239436616,Train Hamming Accuracy:99.37596586463224\n",
      "Epoch: 39,Validation Loss:0.02685308020460779,Validation Accuracy:52.831402831402826,Validation Hamming Accuracy:99.25282425282425\n"
     ]
    },
    {
     "name": "stderr",
     "output_type": "stream",
     "text": [
      "Training Progress:  50%|█████     | 50/100 [01:00<01:00,  1.21s/it]"
     ]
    },
    {
     "name": "stdout",
     "output_type": "stream",
     "text": [
      "Epoch: 49,Train Loss:0.019354169562270204,Train Accuracy:65.3131602112676,Train Hamming Accuracy:99.44735181924881\n",
      "Epoch: 49,Validation Loss:0.024629502666831303,Validation Accuracy:55.4054054054054,Validation Hamming Accuracy:99.29429429429429\n"
     ]
    },
    {
     "name": "stderr",
     "output_type": "stream",
     "text": [
      "Training Progress:  60%|██████    | 60/100 [01:12<00:48,  1.21s/it]"
     ]
    },
    {
     "name": "stdout",
     "output_type": "stream",
     "text": [
      "Epoch: 59,Train Loss:0.01695583739820954,Train Accuracy:69.01342429577466,Train Hamming Accuracy:99.5119131455399\n",
      "Epoch: 59,Validation Loss:0.022945455050262367,Validation Accuracy:57.91505791505791,Validation Hamming Accuracy:99.33361933361934\n"
     ]
    },
    {
     "name": "stderr",
     "output_type": "stream",
     "text": [
      "Training Progress:  70%|███████   | 70/100 [01:25<00:37,  1.25s/it]"
     ]
    },
    {
     "name": "stdout",
     "output_type": "stream",
     "text": [
      "Epoch: 69,Train Loss:0.015147839789591656,Train Accuracy:72.03895246478874,Train Hamming Accuracy:99.56372750391236\n",
      "Epoch: 69,Validation Loss:0.021628227192425575,Validation Accuracy:60.16731016731016,Validation Hamming Accuracy:99.36722436722437\n"
     ]
    },
    {
     "name": "stderr",
     "output_type": "stream",
     "text": [
      "Training Progress:  80%|████████  | 80/100 [01:38<00:26,  1.34s/it]"
     ]
    },
    {
     "name": "stdout",
     "output_type": "stream",
     "text": [
      "Epoch: 79,Train Loss:0.013746401575240645,Train Accuracy:74.39172535211269,Train Hamming Accuracy:99.60413732394363\n",
      "Epoch: 79,Validation Loss:0.02056928666244731,Validation Accuracy:61.711711711711715,Validation Hamming Accuracy:99.39224939224938\n"
     ]
    },
    {
     "name": "stderr",
     "output_type": "stream",
     "text": [
      "Training Progress:  90%|█████████ | 90/100 [01:52<00:13,  1.38s/it]"
     ]
    },
    {
     "name": "stdout",
     "output_type": "stream",
     "text": [
      "Epoch: 89,Train Loss:0.012536079166320855,Train Accuracy:76.77332746478874,Train Hamming Accuracy:99.63903315727701\n",
      "Epoch: 89,Validation Loss:0.019717688083113895,Validation Accuracy:63.06306306306306,Validation Hamming Accuracy:99.41012441012441\n"
     ]
    },
    {
     "name": "stderr",
     "output_type": "stream",
     "text": [
      "Training Progress: 100%|██████████| 100/100 [02:05<00:00,  1.26s/it]"
     ]
    },
    {
     "name": "stdout",
     "output_type": "stream",
     "text": [
      "Epoch: 99,Train Loss:0.011304344730748513,Train Accuracy:79.25528169014085,Train Hamming Accuracy:99.68304479655713\n",
      "Epoch: 99,Validation Loss:0.019006667036199517,Validation Accuracy:63.899613899613904,Validation Hamming Accuracy:99.42728442728442\n"
     ]
    },
    {
     "name": "stderr",
     "output_type": "stream",
     "text": [
      "\n"
     ]
    },
    {
     "name": "stdout",
     "output_type": "stream",
     "text": [
      "Test Loss:0.021600161856075207,Test Accuracy:63.03411725736999,Test Hamming Accuracy:99.37212469176696\n"
     ]
    },
    {
     "data": {
      "text/html": [],
      "text/plain": [
       "<IPython.core.display.HTML object>"
      ]
     },
     "metadata": {},
     "output_type": "display_data"
    },
    {
     "data": {
      "text/html": [
       "<br>    <style><br>        .wandb-row {<br>            display: flex;<br>            flex-direction: row;<br>            flex-wrap: wrap;<br>            justify-content: flex-start;<br>            width: 100%;<br>        }<br>        .wandb-col {<br>            display: flex;<br>            flex-direction: column;<br>            flex-basis: 100%;<br>            flex: 1;<br>            padding: 10px;<br>        }<br>    </style><br><div class=\"wandb-row\"><div class=\"wandb-col\"><h3>Run history:</h3><br/><table class=\"wandb\"><tr><td>Epoch</td><td>▁▁▁▁▁▂▂▂▂▂▃▃▃▃▃▄▄▄▄▅▅▅▅▆▆▆▆▆▇▇▇▇▇▇▇▇████</td></tr><tr><td>Train Accuracy</td><td>▁▁▂▂▃▄▄▄▄▄▅▅▅▅▅▅▅▅▆▆▆▆▆▆▆▇▇▇▇▇▇▇▇███████</td></tr><tr><td>Train Loss</td><td>█▆▆▅▄▄▄▄▃▃▃▃▃▃▃▂▂▂▂▂▂▂▂▂▂▁▁▁▁▁▁▁▁▁▁▁▁▁▁▁</td></tr><tr><td>Validation Accuracy</td><td>▁▂▃▃▄▅▅▆▆▆▆▆▆▇▇▇▇▇▇▇▇▇▇▇▇▇▇▇████████████</td></tr><tr><td>Validation Loss</td><td>██▇▇▇▆▆▆▅▅▄▄▄▃▃▃▃▃▃▃▂▂▂▂▂▂▂▂▂▂▁▁▁▁▁▁▁▁▁▁</td></tr></table><br/></div><div class=\"wandb-col\"><h3>Run summary:</h3><br/><table class=\"wandb\"><tr><td>Epoch</td><td>99</td></tr><tr><td>Train Accuracy</td><td>79.25528</td></tr><tr><td>Train Loss</td><td>0.0113</td></tr><tr><td>Validation Accuracy</td><td>63.89961</td></tr><tr><td>Validation Loss</td><td>0.01901</td></tr></table><br/></div></div>"
      ],
      "text/plain": [
       "<IPython.core.display.HTML object>"
      ]
     },
     "metadata": {},
     "output_type": "display_data"
    },
    {
     "data": {
      "text/html": [
       " View run <strong style=\"color:#cdcd00\">2.3-Sigmoid-MBGD-Hyperparam1</strong> at: <a href='https://wandb.ai/ketakishetye0619-iiit-hyderabad/SMAI-A2/runs/u5kphi4g' target=\"_blank\">https://wandb.ai/ketakishetye0619-iiit-hyderabad/SMAI-A2/runs/u5kphi4g</a><br> View project at: <a href='https://wandb.ai/ketakishetye0619-iiit-hyderabad/SMAI-A2' target=\"_blank\">https://wandb.ai/ketakishetye0619-iiit-hyderabad/SMAI-A2</a><br>Synced 5 W&B file(s), 0 media file(s), 0 artifact file(s) and 0 other file(s)"
      ],
      "text/plain": [
       "<IPython.core.display.HTML object>"
      ]
     },
     "metadata": {},
     "output_type": "display_data"
    },
    {
     "data": {
      "text/html": [
       "Find logs at: <code>.\\wandb\\run-20250315_190144-u5kphi4g\\logs</code>"
      ],
      "text/plain": [
       "<IPython.core.display.HTML object>"
      ]
     },
     "metadata": {},
     "output_type": "display_data"
    }
   ],
   "source": [
    "wandb.init(project=\"SMAI-A2\", name=\"2.3-Sigmoid-MBGD-Hyperparam1\")\n",
    "print(\"Initialising model\")\n",
    "model = MLP(input_dim, hidden_dim, output_dim,activation)   \n",
    "model.train(x_train,y_train,num_epochs,learning_rate,x_val,y_val,batch_size)\n",
    "y_pred_test=model.predict(x_test)\n",
    "test_loss=model.binary_cross_entropy(y_test,y_pred_test)\n",
    "test_accuracy,test_hamming_accuracy=model.calculate_accuracy(y_test,y_pred_test)\n",
    "print(f\"Test Loss:{test_loss},Test Accuracy:{test_accuracy},Test Hamming Accuracy:{test_hamming_accuracy}\")\n",
    "\n",
    "wandb.finish()"
   ]
  },
  {
   "cell_type": "code",
   "execution_count": 47,
   "metadata": {},
   "outputs": [],
   "source": [
    "np.random.seed(42)\n",
    "input_dim=5000\n",
    "hidden_dim=1024\n",
    "learning_rate=0.001\n",
    "num_epochs=100\n",
    "activation='sigmoid'\n",
    "batch_size=256\n",
    "output_dim=y_train.shape[1]"
   ]
  },
  {
   "cell_type": "code",
   "execution_count": 48,
   "metadata": {},
   "outputs": [
    {
     "data": {
      "text/html": [
       "Tracking run with wandb version 0.19.8"
      ],
      "text/plain": [
       "<IPython.core.display.HTML object>"
      ]
     },
     "metadata": {},
     "output_type": "display_data"
    },
    {
     "data": {
      "text/html": [
       "Run data is saved locally in <code>d:\\SMAI\\Assignments\\A2\\wandb\\run-20250315_190354-2h0ozy9n</code>"
      ],
      "text/plain": [
       "<IPython.core.display.HTML object>"
      ]
     },
     "metadata": {},
     "output_type": "display_data"
    },
    {
     "data": {
      "text/html": [
       "Syncing run <strong><a href='https://wandb.ai/ketakishetye0619-iiit-hyderabad/SMAI-A2/runs/2h0ozy9n' target=\"_blank\">2.3-Sigmoid-MBGD-Hyperparam2</a></strong> to <a href='https://wandb.ai/ketakishetye0619-iiit-hyderabad/SMAI-A2' target=\"_blank\">Weights & Biases</a> (<a href='https://wandb.me/developer-guide' target=\"_blank\">docs</a>)<br>"
      ],
      "text/plain": [
       "<IPython.core.display.HTML object>"
      ]
     },
     "metadata": {},
     "output_type": "display_data"
    },
    {
     "data": {
      "text/html": [
       " View project at <a href='https://wandb.ai/ketakishetye0619-iiit-hyderabad/SMAI-A2' target=\"_blank\">https://wandb.ai/ketakishetye0619-iiit-hyderabad/SMAI-A2</a>"
      ],
      "text/plain": [
       "<IPython.core.display.HTML object>"
      ]
     },
     "metadata": {},
     "output_type": "display_data"
    },
    {
     "data": {
      "text/html": [
       " View run at <a href='https://wandb.ai/ketakishetye0619-iiit-hyderabad/SMAI-A2/runs/2h0ozy9n' target=\"_blank\">https://wandb.ai/ketakishetye0619-iiit-hyderabad/SMAI-A2/runs/2h0ozy9n</a>"
      ],
      "text/plain": [
       "<IPython.core.display.HTML object>"
      ]
     },
     "metadata": {},
     "output_type": "display_data"
    },
    {
     "name": "stdout",
     "output_type": "stream",
     "text": [
      "Initialising model\n"
     ]
    },
    {
     "name": "stderr",
     "output_type": "stream",
     "text": [
      "Training Progress:   1%|          | 1/100 [00:02<03:57,  2.40s/it]"
     ]
    },
    {
     "name": "stdout",
     "output_type": "stream",
     "text": [
      "Epoch: 0,Train Loss:0.3831871651682758,Train Accuracy:1.1283010563380282,Train Hamming Accuracy:88.57452807120502\n",
      "Epoch: 0,Validation Loss:0.1943124654994644,Validation Accuracy:2.0592020592020592,Validation Hamming Accuracy:98.55069355069355\n"
     ]
    },
    {
     "name": "stderr",
     "output_type": "stream",
     "text": [
      "Training Progress:  10%|█         | 10/100 [00:23<03:28,  2.31s/it]"
     ]
    },
    {
     "name": "stdout",
     "output_type": "stream",
     "text": [
      "Epoch: 9,Train Loss:0.05782209943893465,Train Accuracy:5.006602112676056,Train Hamming Accuracy:98.6514377934272\n",
      "Epoch: 9,Validation Loss:0.05765396668020819,Validation Accuracy:4.633204633204633,Validation Hamming Accuracy:98.65579865579865\n"
     ]
    },
    {
     "name": "stderr",
     "output_type": "stream",
     "text": [
      "Training Progress:  20%|██        | 20/100 [00:46<03:07,  2.34s/it]"
     ]
    },
    {
     "name": "stdout",
     "output_type": "stream",
     "text": [
      "Epoch: 19,Train Loss:0.05018811906121681,Train Accuracy:13.45730633802817,Train Hamming Accuracy:98.76047535211266\n",
      "Epoch: 19,Validation Loss:0.05065291739603048,Validation Accuracy:14.221364221364222,Validation Hamming Accuracy:98.77019877019877\n"
     ]
    },
    {
     "name": "stderr",
     "output_type": "stream",
     "text": [
      "Training Progress:  30%|███       | 30/100 [01:09<02:46,  2.38s/it]"
     ]
    },
    {
     "name": "stdout",
     "output_type": "stream",
     "text": [
      "Epoch: 29,Train Loss:0.04713757929249656,Train Accuracy:20.063820422535212,Train Hamming Accuracy:98.84044649843504\n",
      "Epoch: 29,Validation Loss:0.04785848714638394,Validation Accuracy:19.948519948519948,Validation Hamming Accuracy:98.83740883740883\n"
     ]
    },
    {
     "name": "stderr",
     "output_type": "stream",
     "text": [
      "Training Progress:  40%|████      | 40/100 [01:33<02:22,  2.38s/it]"
     ]
    },
    {
     "name": "stdout",
     "output_type": "stream",
     "text": [
      "Epoch: 39,Train Loss:0.0450297357343852,Train Accuracy:24.09507042253521,Train Hamming Accuracy:98.89240267996871\n",
      "Epoch: 39,Validation Loss:0.04605882745246001,Validation Accuracy:23.680823680823682,Validation Hamming Accuracy:98.88173888173888\n"
     ]
    },
    {
     "name": "stderr",
     "output_type": "stream",
     "text": [
      "Training Progress:  50%|█████     | 50/100 [01:56<01:58,  2.36s/it]"
     ]
    },
    {
     "name": "stdout",
     "output_type": "stream",
     "text": [
      "Epoch: 49,Train Loss:0.04341346123931905,Train Accuracy:26.58648767605634,Train Hamming Accuracy:98.91914368153363\n",
      "Epoch: 49,Validation Loss:0.04465111904557282,Validation Accuracy:25.353925353925355,Validation Hamming Accuracy:98.9010439010439\n"
     ]
    },
    {
     "name": "stderr",
     "output_type": "stream",
     "text": [
      "Training Progress:  60%|██████    | 60/100 [02:20<01:35,  2.39s/it]"
     ]
    },
    {
     "name": "stdout",
     "output_type": "stream",
     "text": [
      "Epoch: 59,Train Loss:0.042136012586275376,Train Accuracy:27.73899647887324,Train Hamming Accuracy:98.93344336854462\n",
      "Epoch: 59,Validation Loss:0.04345587883216543,Validation Accuracy:26.576576576576578,Validation Hamming Accuracy:98.91605891605892\n"
     ]
    },
    {
     "name": "stderr",
     "output_type": "stream",
     "text": [
      "Training Progress:  70%|███████   | 70/100 [02:44<01:11,  2.40s/it]"
     ]
    },
    {
     "name": "stdout",
     "output_type": "stream",
     "text": [
      "Epoch: 69,Train Loss:0.04098881260174151,Train Accuracy:29.286311619718308,Train Hamming Accuracy:98.94736404538344\n",
      "Epoch: 69,Validation Loss:0.042396634603053165,Validation Accuracy:28.185328185328185,Validation Hamming Accuracy:98.93536393536394\n"
     ]
    },
    {
     "name": "stderr",
     "output_type": "stream",
     "text": [
      "Training Progress:  80%|████████  | 80/100 [03:08<00:46,  2.34s/it]"
     ]
    },
    {
     "name": "stdout",
     "output_type": "stream",
     "text": [
      "Epoch: 79,Train Loss:0.03994813452122106,Train Accuracy:30.933098591549296,Train Hamming Accuracy:98.96583528951487\n",
      "Epoch: 79,Validation Loss:0.04142555581276692,Validation Accuracy:29.214929214929214,Validation Hamming Accuracy:98.94751894751894\n"
     ]
    },
    {
     "name": "stderr",
     "output_type": "stream",
     "text": [
      "Training Progress:  90%|█████████ | 90/100 [03:31<00:23,  2.38s/it]"
     ]
    },
    {
     "name": "stdout",
     "output_type": "stream",
     "text": [
      "Epoch: 89,Train Loss:0.03877874550489133,Train Accuracy:33.114436619718305,Train Hamming Accuracy:98.99139280125196\n",
      "Epoch: 89,Validation Loss:0.04053169493740226,Validation Accuracy:31.402831402831406,Validation Hamming Accuracy:98.97182897182897\n"
     ]
    },
    {
     "name": "stderr",
     "output_type": "stream",
     "text": [
      "Training Progress: 100%|██████████| 100/100 [03:56<00:00,  2.36s/it]\n"
     ]
    },
    {
     "name": "stdout",
     "output_type": "stream",
     "text": [
      "Epoch: 99,Train Loss:0.03786996125942644,Train Accuracy:34.895686619718305,Train Hamming Accuracy:99.01017458920185\n",
      "Epoch: 99,Validation Loss:0.039696923165221755,Validation Accuracy:33.14028314028314,Validation Hamming Accuracy:98.992563992564\n",
      "Test Loss:0.04043700442969204,Test Accuracy:36.999006293474665,Test Hamming Accuracy:99.02543152625961\n"
     ]
    },
    {
     "data": {
      "text/html": [],
      "text/plain": [
       "<IPython.core.display.HTML object>"
      ]
     },
     "metadata": {},
     "output_type": "display_data"
    },
    {
     "data": {
      "text/html": [
       "<br>    <style><br>        .wandb-row {<br>            display: flex;<br>            flex-direction: row;<br>            flex-wrap: wrap;<br>            justify-content: flex-start;<br>            width: 100%;<br>        }<br>        .wandb-col {<br>            display: flex;<br>            flex-direction: column;<br>            flex-basis: 100%;<br>            flex: 1;<br>            padding: 10px;<br>        }<br>    </style><br><div class=\"wandb-row\"><div class=\"wandb-col\"><h3>Run history:</h3><br/><table class=\"wandb\"><tr><td>Epoch</td><td>▁▁▁▁▂▂▂▂▂▃▃▃▃▃▃▃▄▄▄▄▅▅▅▅▅▅▆▆▆▆▇▇▇▇▇▇▇███</td></tr><tr><td>Train Accuracy</td><td>▁▁▁▁▂▃▄▄▅▅▅▆▆▆▆▆▆▆▆▆▆▇▇▇▇▇▇▇▇▇▇▇▇▇▇█████</td></tr><tr><td>Train Loss</td><td>█▂▂▂▁▁▁▁▁▁▁▁▁▁▁▁▁▁▁▁▁▁▁▁▁▁▁▁▁▁▁▁▁▁▁▁▁▁▁▁</td></tr><tr><td>Validation Accuracy</td><td>▁▁▁▁▁▂▂▃▃▄▅▆▆▆▆▆▆▆▆▆▆▆▆▆▇▇▇▇▇▇▇▇▇▇▇█████</td></tr><tr><td>Validation Loss</td><td>█▇▅▄▄▃▃▃▃▃▃▂▂▂▂▂▂▂▂▂▂▂▂▂▂▂▂▁▁▁▁▁▁▁▁▁▁▁▁▁</td></tr></table><br/></div><div class=\"wandb-col\"><h3>Run summary:</h3><br/><table class=\"wandb\"><tr><td>Epoch</td><td>99</td></tr><tr><td>Train Accuracy</td><td>34.89569</td></tr><tr><td>Train Loss</td><td>0.03787</td></tr><tr><td>Validation Accuracy</td><td>33.14028</td></tr><tr><td>Validation Loss</td><td>0.0397</td></tr></table><br/></div></div>"
      ],
      "text/plain": [
       "<IPython.core.display.HTML object>"
      ]
     },
     "metadata": {},
     "output_type": "display_data"
    },
    {
     "data": {
      "text/html": [
       " View run <strong style=\"color:#cdcd00\">2.3-Sigmoid-MBGD-Hyperparam2</strong> at: <a href='https://wandb.ai/ketakishetye0619-iiit-hyderabad/SMAI-A2/runs/2h0ozy9n' target=\"_blank\">https://wandb.ai/ketakishetye0619-iiit-hyderabad/SMAI-A2/runs/2h0ozy9n</a><br> View project at: <a href='https://wandb.ai/ketakishetye0619-iiit-hyderabad/SMAI-A2' target=\"_blank\">https://wandb.ai/ketakishetye0619-iiit-hyderabad/SMAI-A2</a><br>Synced 5 W&B file(s), 0 media file(s), 0 artifact file(s) and 0 other file(s)"
      ],
      "text/plain": [
       "<IPython.core.display.HTML object>"
      ]
     },
     "metadata": {},
     "output_type": "display_data"
    },
    {
     "data": {
      "text/html": [
       "Find logs at: <code>.\\wandb\\run-20250315_190354-2h0ozy9n\\logs</code>"
      ],
      "text/plain": [
       "<IPython.core.display.HTML object>"
      ]
     },
     "metadata": {},
     "output_type": "display_data"
    }
   ],
   "source": [
    "wandb.init(project=\"SMAI-A2\", name=\"2.3-Sigmoid-MBGD-Hyperparam2\")\n",
    "print(\"Initialising model\")\n",
    "model = MLP(input_dim, hidden_dim, output_dim,activation)   \n",
    "model.train(x_train,y_train,num_epochs,learning_rate,x_val,y_val,batch_size)\n",
    "y_pred_test=model.predict(x_test)\n",
    "test_loss=model.binary_cross_entropy(y_test,y_pred_test)\n",
    "test_accuracy,test_hamming_accuracy=model.calculate_accuracy(y_test,y_pred_test)\n",
    "print(f\"Test Loss:{test_loss},Test Accuracy:{test_accuracy},Test Hamming Accuracy:{test_hamming_accuracy}\")\n",
    "\n",
    "wandb.finish()"
   ]
  },
  {
   "cell_type": "markdown",
   "metadata": {},
   "source": [
    "### Tanh-BGD"
   ]
  },
  {
   "cell_type": "code",
   "execution_count": 49,
   "metadata": {},
   "outputs": [],
   "source": [
    "np.random.seed(42)\n",
    "input_dim=5000\n",
    "hidden_dim=1024\n",
    "learning_rate=0.01\n",
    "num_epochs=100\n",
    "activation='tanh'\n",
    "batch_size=None\n",
    "output_dim=y_train.shape[1]"
   ]
  },
  {
   "cell_type": "code",
   "execution_count": 50,
   "metadata": {},
   "outputs": [
    {
     "data": {
      "text/html": [],
      "text/plain": [
       "<IPython.core.display.HTML object>"
      ]
     },
     "metadata": {},
     "output_type": "display_data"
    },
    {
     "data": {
      "text/html": [
       "Tracking run with wandb version 0.19.8"
      ],
      "text/plain": [
       "<IPython.core.display.HTML object>"
      ]
     },
     "metadata": {},
     "output_type": "display_data"
    },
    {
     "data": {
      "text/html": [
       "Run data is saved locally in <code>d:\\SMAI\\Assignments\\A2\\wandb\\run-20250315_190754-qatdn6bp</code>"
      ],
      "text/plain": [
       "<IPython.core.display.HTML object>"
      ]
     },
     "metadata": {},
     "output_type": "display_data"
    },
    {
     "data": {
      "text/html": [
       "Syncing run <strong><a href='https://wandb.ai/ketakishetye0619-iiit-hyderabad/SMAI-A2/runs/qatdn6bp' target=\"_blank\">2.3-Tanh-BGD</a></strong> to <a href='https://wandb.ai/ketakishetye0619-iiit-hyderabad/SMAI-A2' target=\"_blank\">Weights & Biases</a> (<a href='https://wandb.me/developer-guide' target=\"_blank\">docs</a>)<br>"
      ],
      "text/plain": [
       "<IPython.core.display.HTML object>"
      ]
     },
     "metadata": {},
     "output_type": "display_data"
    },
    {
     "data": {
      "text/html": [
       " View project at <a href='https://wandb.ai/ketakishetye0619-iiit-hyderabad/SMAI-A2' target=\"_blank\">https://wandb.ai/ketakishetye0619-iiit-hyderabad/SMAI-A2</a>"
      ],
      "text/plain": [
       "<IPython.core.display.HTML object>"
      ]
     },
     "metadata": {},
     "output_type": "display_data"
    },
    {
     "data": {
      "text/html": [
       " View run at <a href='https://wandb.ai/ketakishetye0619-iiit-hyderabad/SMAI-A2/runs/qatdn6bp' target=\"_blank\">https://wandb.ai/ketakishetye0619-iiit-hyderabad/SMAI-A2/runs/qatdn6bp</a>"
      ],
      "text/plain": [
       "<IPython.core.display.HTML object>"
      ]
     },
     "metadata": {},
     "output_type": "display_data"
    },
    {
     "name": "stdout",
     "output_type": "stream",
     "text": [
      "Initialising model\n"
     ]
    },
    {
     "name": "stderr",
     "output_type": "stream",
     "text": [
      "Training Progress:   1%|          | 1/100 [00:01<02:48,  1.70s/it]"
     ]
    },
    {
     "name": "stdout",
     "output_type": "stream",
     "text": [
      "Epoch: 0,Train Loss:0.7981931924572796,Train Accuracy:0.0,Train Hamming Accuracy:50.09064092249933\n",
      "Epoch: 0,Validation Loss:0.8026428389097112,Validation Accuracy:0.0,Validation Hamming Accuracy:50.51122551122551\n"
     ]
    },
    {
     "name": "stderr",
     "output_type": "stream",
     "text": [
      "Training Progress:  10%|█         | 10/100 [00:17<02:33,  1.71s/it]"
     ]
    },
    {
     "name": "stdout",
     "output_type": "stream",
     "text": [
      "Epoch: 9,Train Loss:0.7433229948590461,Train Accuracy:0.0,Train Hamming Accuracy:55.20282470724949\n",
      "Epoch: 9,Validation Loss:0.7569317391121562,Validation Accuracy:0.0,Validation Hamming Accuracy:54.88130988130988\n"
     ]
    },
    {
     "name": "stderr",
     "output_type": "stream",
     "text": [
      "Training Progress:  20%|██        | 20/100 [00:35<02:26,  1.84s/it]"
     ]
    },
    {
     "name": "stdout",
     "output_type": "stream",
     "text": [
      "Epoch: 19,Train Loss:0.6862870598950103,Train Accuracy:0.22526146419951731,Train Hamming Accuracy:60.55564494502548\n",
      "Epoch: 19,Validation Loss:0.7097405527049842,Validation Accuracy:0.19305019305019305,Validation Hamming Accuracy:59.219934219934224\n"
     ]
    },
    {
     "name": "stderr",
     "output_type": "stream",
     "text": [
      "Training Progress:  30%|███       | 30/100 [00:54<02:05,  1.79s/it]"
     ]
    },
    {
     "name": "stdout",
     "output_type": "stream",
     "text": [
      "Epoch: 29,Train Loss:0.6268069302718157,Train Accuracy:0.7240547063555913,Train Hamming Accuracy:66.01555376776615\n",
      "Epoch: 29,Validation Loss:0.6614496736399432,Validation Accuracy:0.7722007722007722,Validation Hamming Accuracy:63.472043472043474\n"
     ]
    },
    {
     "name": "stderr",
     "output_type": "stream",
     "text": [
      "Training Progress:  40%|████      | 40/100 [01:11<01:42,  1.71s/it]"
     ]
    },
    {
     "name": "stdout",
     "output_type": "stream",
     "text": [
      "Epoch: 39,Train Loss:0.5612350716137989,Train Accuracy:2.011263073209976,Train Hamming Accuracy:72.00357557879681\n",
      "Epoch: 39,Validation Loss:0.609078428489789,Validation Accuracy:2.3166023166023164,Validation Hamming Accuracy:67.94008294008293\n"
     ]
    },
    {
     "name": "stderr",
     "output_type": "stream",
     "text": [
      "Training Progress:  50%|█████     | 50/100 [01:29<01:30,  1.81s/it]"
     ]
    },
    {
     "name": "stdout",
     "output_type": "stream",
     "text": [
      "Epoch: 49,Train Loss:0.4885040008760563,Train Accuracy:4.424778761061947,Train Hamming Accuracy:78.61893268972915\n",
      "Epoch: 49,Validation Loss:0.5513218023301154,Validation Accuracy:4.1827541827541825,Validation Hamming Accuracy:72.77062777062777\n"
     ]
    },
    {
     "name": "stderr",
     "output_type": "stream",
     "text": [
      "Training Progress:  60%|██████    | 60/100 [01:47<01:11,  1.78s/it]"
     ]
    },
    {
     "name": "stdout",
     "output_type": "stream",
     "text": [
      "Epoch: 59,Train Loss:0.4113579507134729,Train Accuracy:7.900241351568785,Train Hamming Accuracy:85.21980870653437\n",
      "Epoch: 59,Validation Loss:0.489606400479632,Validation Accuracy:6.306306306306306,Validation Hamming Accuracy:77.82067782067782\n"
     ]
    },
    {
     "name": "stderr",
     "output_type": "stream",
     "text": [
      "Training Progress:  70%|███████   | 70/100 [02:05<00:53,  1.79s/it]"
     ]
    },
    {
     "name": "stdout",
     "output_type": "stream",
     "text": [
      "Epoch: 69,Train Loss:0.3358906894266721,Train Accuracy:13.419147224456959,Train Hamming Accuracy:90.96987574863681\n",
      "Epoch: 69,Validation Loss:0.42793735202533806,Validation Accuracy:9.330759330759332,Validation Hamming Accuracy:82.65837265837266\n"
     ]
    },
    {
     "name": "stderr",
     "output_type": "stream",
     "text": [
      "Training Progress:  80%|████████  | 80/100 [02:22<00:34,  1.73s/it]"
     ]
    },
    {
     "name": "stdout",
     "output_type": "stream",
     "text": [
      "Epoch: 79,Train Loss:0.2685934329977188,Train Accuracy:21.54465004022526,Train Hamming Accuracy:94.99633503173325\n",
      "Epoch: 79,Validation Loss:0.3709303266501699,Validation Accuracy:13.384813384813384,Validation Hamming Accuracy:86.5973115973116\n"
     ]
    },
    {
     "name": "stderr",
     "output_type": "stream",
     "text": [
      "Training Progress:  90%|█████████ | 90/100 [02:40<00:17,  1.74s/it]"
     ]
    },
    {
     "name": "stdout",
     "output_type": "stream",
     "text": [
      "Epoch: 89,Train Loss:0.2133313402038181,Train Accuracy:32.30893000804505,Train Hamming Accuracy:97.31331009207116\n",
      "Epoch: 89,Validation Loss:0.32170394438958894,Validation Accuracy:18.597168597168597,Validation Hamming Accuracy:89.61461461461462\n"
     ]
    },
    {
     "name": "stderr",
     "output_type": "stream",
     "text": [
      "Training Progress: 100%|██████████| 100/100 [02:58<00:00,  1.78s/it]"
     ]
    },
    {
     "name": "stdout",
     "output_type": "stream",
     "text": [
      "Epoch: 99,Train Loss:0.17054898261378768,Train Accuracy:42.799678197908285,Train Hamming Accuracy:98.46071332796996\n",
      "Epoch: 99,Validation Loss:0.2811714975613386,Validation Accuracy:23.680823680823682,Validation Hamming Accuracy:91.72458172458172\n"
     ]
    },
    {
     "name": "stderr",
     "output_type": "stream",
     "text": [
      "\n"
     ]
    },
    {
     "name": "stdout",
     "output_type": "stream",
     "text": [
      "Test Loss:0.2758656310600811,Test Accuracy:27.2606823451474,Test Hamming Accuracy:91.91196496264399\n"
     ]
    },
    {
     "data": {
      "text/html": [],
      "text/plain": [
       "<IPython.core.display.HTML object>"
      ]
     },
     "metadata": {},
     "output_type": "display_data"
    },
    {
     "data": {
      "text/html": [
       "<br>    <style><br>        .wandb-row {<br>            display: flex;<br>            flex-direction: row;<br>            flex-wrap: wrap;<br>            justify-content: flex-start;<br>            width: 100%;<br>        }<br>        .wandb-col {<br>            display: flex;<br>            flex-direction: column;<br>            flex-basis: 100%;<br>            flex: 1;<br>            padding: 10px;<br>        }<br>    </style><br><div class=\"wandb-row\"><div class=\"wandb-col\"><h3>Run history:</h3><br/><table class=\"wandb\"><tr><td>Epoch</td><td>▁▂▂▂▂▂▂▂▃▃▃▃▃▃▄▄▄▄▅▅▅▅▅▅▅▆▆▆▆▆▆▆▆▆▇▇▇███</td></tr><tr><td>Train Accuracy</td><td>▁▁▁▁▁▁▁▁▁▁▁▁▁▁▁▁▁▂▂▂▂▂▂▂▃▃▃▄▄▄▅▅▅▅▆▆▇███</td></tr><tr><td>Train Loss</td><td>█████▇▇▇▇▇▇▆▆▆▆▆▆▆▅▅▄▄▄▄▄▄▃▃▃▃▂▂▂▂▂▁▁▁▁▁</td></tr><tr><td>Validation Accuracy</td><td>▁▁▁▁▁▁▁▁▁▁▁▁▁▁▁▁▂▂▂▂▂▂▂▂▂▃▃▃▃▃▄▄▄▄▅▆▇███</td></tr><tr><td>Validation Loss</td><td>█████▇▇▇▇▇▇▇▆▆▆▆▆▆▆▆▅▅▅▅▅▅▄▄▄▄▃▃▃▃▂▂▁▁▁▁</td></tr></table><br/></div><div class=\"wandb-col\"><h3>Run summary:</h3><br/><table class=\"wandb\"><tr><td>Epoch</td><td>99</td></tr><tr><td>Train Accuracy</td><td>42.79968</td></tr><tr><td>Train Loss</td><td>0.17055</td></tr><tr><td>Validation Accuracy</td><td>23.68082</td></tr><tr><td>Validation Loss</td><td>0.28117</td></tr></table><br/></div></div>"
      ],
      "text/plain": [
       "<IPython.core.display.HTML object>"
      ]
     },
     "metadata": {},
     "output_type": "display_data"
    },
    {
     "data": {
      "text/html": [
       " View run <strong style=\"color:#cdcd00\">2.3-Tanh-BGD</strong> at: <a href='https://wandb.ai/ketakishetye0619-iiit-hyderabad/SMAI-A2/runs/qatdn6bp' target=\"_blank\">https://wandb.ai/ketakishetye0619-iiit-hyderabad/SMAI-A2/runs/qatdn6bp</a><br> View project at: <a href='https://wandb.ai/ketakishetye0619-iiit-hyderabad/SMAI-A2' target=\"_blank\">https://wandb.ai/ketakishetye0619-iiit-hyderabad/SMAI-A2</a><br>Synced 5 W&B file(s), 0 media file(s), 0 artifact file(s) and 0 other file(s)"
      ],
      "text/plain": [
       "<IPython.core.display.HTML object>"
      ]
     },
     "metadata": {},
     "output_type": "display_data"
    },
    {
     "data": {
      "text/html": [
       "Find logs at: <code>.\\wandb\\run-20250315_190754-qatdn6bp\\logs</code>"
      ],
      "text/plain": [
       "<IPython.core.display.HTML object>"
      ]
     },
     "metadata": {},
     "output_type": "display_data"
    }
   ],
   "source": [
    "wandb.init(project=\"SMAI-A2\", name=\"2.3-Tanh-BGD\")\n",
    "print(\"Initialising model\")\n",
    "model = MLP(input_dim, hidden_dim, output_dim,activation)   \n",
    "model.train(x_train,y_train,num_epochs,learning_rate,x_val,y_val,batch_size)\n",
    "y_pred_test=model.predict(x_test)\n",
    "test_loss=model.binary_cross_entropy(y_test,y_pred_test)\n",
    "test_accuracy,test_hamming_accuracy=model.calculate_accuracy(y_test,y_pred_test)\n",
    "print(f\"Test Loss:{test_loss},Test Accuracy:{test_accuracy},Test Hamming Accuracy:{test_hamming_accuracy}\")\n",
    "\n",
    "wandb.finish()"
   ]
  },
  {
   "cell_type": "code",
   "execution_count": 51,
   "metadata": {},
   "outputs": [],
   "source": [
    "np.random.seed(42)\n",
    "input_dim=5000\n",
    "hidden_dim=512\n",
    "learning_rate=0.01\n",
    "num_epochs=100\n",
    "activation='tanh'\n",
    "batch_size=None\n",
    "output_dim=y_train.shape[1]"
   ]
  },
  {
   "cell_type": "code",
   "execution_count": 52,
   "metadata": {},
   "outputs": [
    {
     "data": {
      "text/html": [
       "Tracking run with wandb version 0.19.8"
      ],
      "text/plain": [
       "<IPython.core.display.HTML object>"
      ]
     },
     "metadata": {},
     "output_type": "display_data"
    },
    {
     "data": {
      "text/html": [
       "Run data is saved locally in <code>d:\\SMAI\\Assignments\\A2\\wandb\\run-20250315_191056-62bzipph</code>"
      ],
      "text/plain": [
       "<IPython.core.display.HTML object>"
      ]
     },
     "metadata": {},
     "output_type": "display_data"
    },
    {
     "data": {
      "text/html": [
       "Syncing run <strong><a href='https://wandb.ai/ketakishetye0619-iiit-hyderabad/SMAI-A2/runs/62bzipph' target=\"_blank\">2.3-Tanh-BGD-Hyperparam1</a></strong> to <a href='https://wandb.ai/ketakishetye0619-iiit-hyderabad/SMAI-A2' target=\"_blank\">Weights & Biases</a> (<a href='https://wandb.me/developer-guide' target=\"_blank\">docs</a>)<br>"
      ],
      "text/plain": [
       "<IPython.core.display.HTML object>"
      ]
     },
     "metadata": {},
     "output_type": "display_data"
    },
    {
     "data": {
      "text/html": [
       " View project at <a href='https://wandb.ai/ketakishetye0619-iiit-hyderabad/SMAI-A2' target=\"_blank\">https://wandb.ai/ketakishetye0619-iiit-hyderabad/SMAI-A2</a>"
      ],
      "text/plain": [
       "<IPython.core.display.HTML object>"
      ]
     },
     "metadata": {},
     "output_type": "display_data"
    },
    {
     "data": {
      "text/html": [
       " View run at <a href='https://wandb.ai/ketakishetye0619-iiit-hyderabad/SMAI-A2/runs/62bzipph' target=\"_blank\">https://wandb.ai/ketakishetye0619-iiit-hyderabad/SMAI-A2/runs/62bzipph</a>"
      ],
      "text/plain": [
       "<IPython.core.display.HTML object>"
      ]
     },
     "metadata": {},
     "output_type": "display_data"
    },
    {
     "name": "stdout",
     "output_type": "stream",
     "text": [
      "Initialising model\n"
     ]
    },
    {
     "name": "stderr",
     "output_type": "stream",
     "text": [
      "Training Progress:   1%|          | 1/100 [00:00<01:28,  1.11it/s]"
     ]
    },
    {
     "name": "stdout",
     "output_type": "stream",
     "text": [
      "Epoch: 0,Train Loss:0.7998356122094562,Train Accuracy:0.0,Train Hamming Accuracy:49.82998122821132\n",
      "Epoch: 0,Validation Loss:0.8019334045621197,Validation Accuracy:0.0,Validation Hamming Accuracy:50.25454025454026\n"
     ]
    },
    {
     "name": "stderr",
     "output_type": "stream",
     "text": [
      "Training Progress:  10%|█         | 10/100 [00:09<01:28,  1.02it/s]"
     ]
    },
    {
     "name": "stdout",
     "output_type": "stream",
     "text": [
      "Epoch: 9,Train Loss:0.7457996534006813,Train Accuracy:0.0,Train Hamming Accuracy:54.86564762670957\n",
      "Epoch: 9,Validation Loss:0.7566415312843794,Validation Accuracy:0.0,Validation Hamming Accuracy:54.53381953381954\n"
     ]
    },
    {
     "name": "stderr",
     "output_type": "stream",
     "text": [
      "Training Progress:  20%|██        | 20/100 [00:18<01:12,  1.10it/s]"
     ]
    },
    {
     "name": "stdout",
     "output_type": "stream",
     "text": [
      "Epoch: 19,Train Loss:0.6897321842691947,Train Accuracy:0.0,Train Hamming Accuracy:60.169839992848836\n",
      "Epoch: 19,Validation Loss:0.709835635159726,Validation Accuracy:0.0,Validation Hamming Accuracy:58.91605891605891\n"
     ]
    },
    {
     "name": "stderr",
     "output_type": "stream",
     "text": [
      "Training Progress:  30%|███       | 30/100 [00:27<01:05,  1.07it/s]"
     ]
    },
    {
     "name": "stdout",
     "output_type": "stream",
     "text": [
      "Epoch: 29,Train Loss:0.6312915244641893,Train Accuracy:0.30571198712791636,Train Hamming Accuracy:65.59578081701976\n",
      "Epoch: 29,Validation Loss:0.6619041159515999,Validation Accuracy:0.5791505791505791,Validation Hamming Accuracy:63.21249821249821\n"
     ]
    },
    {
     "name": "stderr",
     "output_type": "stream",
     "text": [
      "Training Progress:  40%|████      | 40/100 [00:37<00:56,  1.06it/s]"
     ]
    },
    {
     "name": "stdout",
     "output_type": "stream",
     "text": [
      "Epoch: 39,Train Loss:0.5670213573271833,Train Accuracy:1.512469831053902,Train Hamming Accuracy:71.49173147403236\n",
      "Epoch: 39,Validation Loss:0.6100863381771954,Validation Accuracy:1.8018018018018018,Validation Hamming Accuracy:67.66051766051766\n"
     ]
    },
    {
     "name": "stderr",
     "output_type": "stream",
     "text": [
      "Training Progress:  50%|█████     | 50/100 [00:46<00:44,  1.12it/s]"
     ]
    },
    {
     "name": "stdout",
     "output_type": "stream",
     "text": [
      "Epoch: 49,Train Loss:0.49592670756581453,Train Accuracy:4.263877715205148,Train Hamming Accuracy:77.94690265486726\n",
      "Epoch: 49,Validation Loss:0.5531899737587576,Validation Accuracy:3.667953667953668,Validation Hamming Accuracy:72.56041756041756\n"
     ]
    },
    {
     "name": "stderr",
     "output_type": "stream",
     "text": [
      "Training Progress:  60%|██████    | 60/100 [00:54<00:35,  1.14it/s]"
     ]
    },
    {
     "name": "stdout",
     "output_type": "stream",
     "text": [
      "Epoch: 59,Train Loss:0.4205060617885598,Train Accuracy:7.610619469026549,Train Hamming Accuracy:84.51202288370429\n",
      "Epoch: 59,Validation Loss:0.4925162209258104,Validation Accuracy:6.306306306306306,Validation Hamming Accuracy:77.56041756041756\n"
     ]
    },
    {
     "name": "stderr",
     "output_type": "stream",
     "text": [
      "Training Progress:  70%|███████   | 70/100 [01:04<00:27,  1.09it/s]"
     ]
    },
    {
     "name": "stdout",
     "output_type": "stream",
     "text": [
      "Epoch: 69,Train Loss:0.3463845179525205,Train Accuracy:12.888173773129525,Train Hamming Accuracy:90.14481094127112\n",
      "Epoch: 69,Validation Loss:0.4317770376949158,Validation Accuracy:9.845559845559846,Validation Hamming Accuracy:82.3130273130273\n"
     ]
    },
    {
     "name": "stderr",
     "output_type": "stream",
     "text": [
      "Training Progress:  80%|████████  | 80/100 [01:13<00:18,  1.09it/s]"
     ]
    },
    {
     "name": "stdout",
     "output_type": "stream",
     "text": [
      "Epoch: 79,Train Loss:0.27968750838804235,Train Accuracy:20.434432823813356,Train Hamming Accuracy:94.25404487351389\n",
      "Epoch: 79,Validation Loss:0.37532362332177954,Validation Accuracy:13.513513513513514,Validation Hamming Accuracy:86.22050622050622\n"
     ]
    },
    {
     "name": "stderr",
     "output_type": "stream",
     "text": [
      "Training Progress:  90%|█████████ | 90/100 [01:22<00:09,  1.10it/s]"
     ]
    },
    {
     "name": "stdout",
     "output_type": "stream",
     "text": [
      "Epoch: 89,Train Loss:0.22424996483916348,Train Accuracy:30.15285599356396,Train Hamming Accuracy:96.76946455707518\n",
      "Epoch: 89,Validation Loss:0.3261926014959074,Validation Accuracy:17.696267696267697,Validation Hamming Accuracy:89.28356928356929\n"
     ]
    },
    {
     "name": "stderr",
     "output_type": "stream",
     "text": [
      "Training Progress: 100%|██████████| 100/100 [01:31<00:00,  1.09it/s]"
     ]
    },
    {
     "name": "stdout",
     "output_type": "stream",
     "text": [
      "Epoch: 99,Train Loss:0.1807607139617072,Train Accuracy:39.469026548672566,Train Hamming Accuracy:98.10136765888979\n",
      "Epoch: 99,Validation Loss:0.2853957059954624,Validation Accuracy:22.393822393822393,Validation Hamming Accuracy:91.58229658229658\n",
      "Test Loss:0.282250225074345,Test Accuracy:26.00198741305068,Test Hamming Accuracy:91.6996061977844\n"
     ]
    },
    {
     "name": "stderr",
     "output_type": "stream",
     "text": [
      "\n"
     ]
    },
    {
     "data": {
      "text/html": [],
      "text/plain": [
       "<IPython.core.display.HTML object>"
      ]
     },
     "metadata": {},
     "output_type": "display_data"
    },
    {
     "data": {
      "text/html": [
       "<br>    <style><br>        .wandb-row {<br>            display: flex;<br>            flex-direction: row;<br>            flex-wrap: wrap;<br>            justify-content: flex-start;<br>            width: 100%;<br>        }<br>        .wandb-col {<br>            display: flex;<br>            flex-direction: column;<br>            flex-basis: 100%;<br>            flex: 1;<br>            padding: 10px;<br>        }<br>    </style><br><div class=\"wandb-row\"><div class=\"wandb-col\"><h3>Run history:</h3><br/><table class=\"wandb\"><tr><td>Epoch</td><td>▁▁▂▂▂▃▃▃▃▃▃▃▃▃▄▄▄▄▄▄▅▅▅▅▅▅▆▆▆▆▇▇▇▇▇█████</td></tr><tr><td>Train Accuracy</td><td>▁▁▁▁▁▁▁▁▁▁▁▁▁▁▁▁▁▁▁▂▂▂▂▂▂▃▃▃▃▄▄▅▅▅▅▆▇▇██</td></tr><tr><td>Train Loss</td><td>█████▇▇▇▇▇▆▆▆▆▆▆▅▅▅▅▅▅▄▄▄▄▃▃▃▃▃▂▂▂▁▁▁▁▁▁</td></tr><tr><td>Validation Accuracy</td><td>▁▁▁▁▁▁▁▁▁▁▁▁▁▁▁▂▂▂▂▂▃▃▃▃▃▄▄▄▄▄▅▅▆▆▆▇▇▇██</td></tr><tr><td>Validation Loss</td><td>███▇▇▇▇▇▆▆▆▅▅▅▅▅▅▅▄▄▄▄▄▄▄▃▃▃▃▃▂▂▂▂▂▂▁▁▁▁</td></tr></table><br/></div><div class=\"wandb-col\"><h3>Run summary:</h3><br/><table class=\"wandb\"><tr><td>Epoch</td><td>99</td></tr><tr><td>Train Accuracy</td><td>39.46903</td></tr><tr><td>Train Loss</td><td>0.18076</td></tr><tr><td>Validation Accuracy</td><td>22.39382</td></tr><tr><td>Validation Loss</td><td>0.2854</td></tr></table><br/></div></div>"
      ],
      "text/plain": [
       "<IPython.core.display.HTML object>"
      ]
     },
     "metadata": {},
     "output_type": "display_data"
    },
    {
     "data": {
      "text/html": [
       " View run <strong style=\"color:#cdcd00\">2.3-Tanh-BGD-Hyperparam1</strong> at: <a href='https://wandb.ai/ketakishetye0619-iiit-hyderabad/SMAI-A2/runs/62bzipph' target=\"_blank\">https://wandb.ai/ketakishetye0619-iiit-hyderabad/SMAI-A2/runs/62bzipph</a><br> View project at: <a href='https://wandb.ai/ketakishetye0619-iiit-hyderabad/SMAI-A2' target=\"_blank\">https://wandb.ai/ketakishetye0619-iiit-hyderabad/SMAI-A2</a><br>Synced 5 W&B file(s), 0 media file(s), 0 artifact file(s) and 0 other file(s)"
      ],
      "text/plain": [
       "<IPython.core.display.HTML object>"
      ]
     },
     "metadata": {},
     "output_type": "display_data"
    },
    {
     "data": {
      "text/html": [
       "Find logs at: <code>.\\wandb\\run-20250315_191056-62bzipph\\logs</code>"
      ],
      "text/plain": [
       "<IPython.core.display.HTML object>"
      ]
     },
     "metadata": {},
     "output_type": "display_data"
    }
   ],
   "source": [
    "wandb.init(project=\"SMAI-A2\", name=\"2.3-Tanh-BGD-Hyperparam1\")\n",
    "print(\"Initialising model\")\n",
    "model = MLP(input_dim, hidden_dim, output_dim,activation)   \n",
    "model.train(x_train,y_train,num_epochs,learning_rate,x_val,y_val,batch_size)\n",
    "y_pred_test=model.predict(x_test)\n",
    "test_loss=model.binary_cross_entropy(y_test,y_pred_test)\n",
    "test_accuracy,test_hamming_accuracy=model.calculate_accuracy(y_test,y_pred_test)\n",
    "print(f\"Test Loss:{test_loss},Test Accuracy:{test_accuracy},Test Hamming Accuracy:{test_hamming_accuracy}\")\n",
    "\n",
    "wandb.finish()"
   ]
  },
  {
   "cell_type": "code",
   "execution_count": 53,
   "metadata": {},
   "outputs": [],
   "source": [
    "np.random.seed(42)\n",
    "input_dim=5000\n",
    "hidden_dim=1024\n",
    "learning_rate=0.001\n",
    "num_epochs=100\n",
    "activation='tanh'\n",
    "batch_size=None\n",
    "output_dim=y_train.shape[1]"
   ]
  },
  {
   "cell_type": "code",
   "execution_count": 54,
   "metadata": {},
   "outputs": [
    {
     "data": {
      "text/html": [
       "Tracking run with wandb version 0.19.8"
      ],
      "text/plain": [
       "<IPython.core.display.HTML object>"
      ]
     },
     "metadata": {},
     "output_type": "display_data"
    },
    {
     "data": {
      "text/html": [
       "Run data is saved locally in <code>d:\\SMAI\\Assignments\\A2\\wandb\\run-20250315_191232-8ox0fxay</code>"
      ],
      "text/plain": [
       "<IPython.core.display.HTML object>"
      ]
     },
     "metadata": {},
     "output_type": "display_data"
    },
    {
     "data": {
      "text/html": [
       "Syncing run <strong><a href='https://wandb.ai/ketakishetye0619-iiit-hyderabad/SMAI-A2/runs/8ox0fxay' target=\"_blank\">2.3-Tanh-BGD-Hyperparam2</a></strong> to <a href='https://wandb.ai/ketakishetye0619-iiit-hyderabad/SMAI-A2' target=\"_blank\">Weights & Biases</a> (<a href='https://wandb.me/developer-guide' target=\"_blank\">docs</a>)<br>"
      ],
      "text/plain": [
       "<IPython.core.display.HTML object>"
      ]
     },
     "metadata": {},
     "output_type": "display_data"
    },
    {
     "data": {
      "text/html": [
       " View project at <a href='https://wandb.ai/ketakishetye0619-iiit-hyderabad/SMAI-A2' target=\"_blank\">https://wandb.ai/ketakishetye0619-iiit-hyderabad/SMAI-A2</a>"
      ],
      "text/plain": [
       "<IPython.core.display.HTML object>"
      ]
     },
     "metadata": {},
     "output_type": "display_data"
    },
    {
     "data": {
      "text/html": [
       " View run at <a href='https://wandb.ai/ketakishetye0619-iiit-hyderabad/SMAI-A2/runs/8ox0fxay' target=\"_blank\">https://wandb.ai/ketakishetye0619-iiit-hyderabad/SMAI-A2/runs/8ox0fxay</a>"
      ],
      "text/plain": [
       "<IPython.core.display.HTML object>"
      ]
     },
     "metadata": {},
     "output_type": "display_data"
    },
    {
     "name": "stdout",
     "output_type": "stream",
     "text": [
      "Initialising model\n"
     ]
    },
    {
     "name": "stderr",
     "output_type": "stream",
     "text": [
      "Training Progress:   1%|          | 1/100 [00:01<02:49,  1.71s/it]"
     ]
    },
    {
     "name": "stdout",
     "output_type": "stream",
     "text": [
      "Epoch: 0,Train Loss:0.7981931924572796,Train Accuracy:0.0,Train Hamming Accuracy:50.09064092249933\n",
      "Epoch: 0,Validation Loss:0.8076656634584923,Validation Accuracy:0.0,Validation Hamming Accuracy:50.03003003003003\n"
     ]
    },
    {
     "name": "stderr",
     "output_type": "stream",
     "text": [
      "Training Progress:  10%|█         | 10/100 [00:17<02:41,  1.79s/it]"
     ]
    },
    {
     "name": "stdout",
     "output_type": "stream",
     "text": [
      "Epoch: 9,Train Loss:0.7923195401300261,Train Accuracy:0.0,Train Hamming Accuracy:50.62232948958613\n",
      "Epoch: 9,Validation Loss:0.8026748100769147,Validation Accuracy:0.0,Validation Hamming Accuracy:50.509080509080505\n"
     ]
    },
    {
     "name": "stderr",
     "output_type": "stream",
     "text": [
      "Training Progress:  20%|██        | 20/100 [00:35<02:18,  1.73s/it]"
     ]
    },
    {
     "name": "stdout",
     "output_type": "stream",
     "text": [
      "Epoch: 19,Train Loss:0.7859347128092293,Train Accuracy:0.0,Train Hamming Accuracy:51.23160811656386\n",
      "Epoch: 19,Validation Loss:0.7972552018222114,Validation Accuracy:0.0,Validation Hamming Accuracy:51.001716001716005\n"
     ]
    },
    {
     "name": "stderr",
     "output_type": "stream",
     "text": [
      "Training Progress:  30%|███       | 30/100 [00:52<02:07,  1.82s/it]"
     ]
    },
    {
     "name": "stdout",
     "output_type": "stream",
     "text": [
      "Epoch: 29,Train Loss:0.7796786478912524,Train Accuracy:0.0,Train Hamming Accuracy:51.8019129346563\n",
      "Epoch: 29,Validation Loss:0.7919513184306309,Validation Accuracy:0.0,Validation Hamming Accuracy:51.51151151151151\n"
     ]
    },
    {
     "name": "stderr",
     "output_type": "stream",
     "text": [
      "Training Progress:  40%|████      | 40/100 [01:10<01:47,  1.79s/it]"
     ]
    },
    {
     "name": "stdout",
     "output_type": "stream",
     "text": [
      "Epoch: 39,Train Loss:0.7735329638148135,Train Accuracy:0.0,Train Hamming Accuracy:52.355412532403676\n",
      "Epoch: 39,Validation Loss:0.7867480163224854,Validation Accuracy:0.0,Validation Hamming Accuracy:51.96768196768197\n"
     ]
    },
    {
     "name": "stderr",
     "output_type": "stream",
     "text": [
      "Training Progress:  50%|█████     | 50/100 [01:28<01:29,  1.79s/it]"
     ]
    },
    {
     "name": "stdout",
     "output_type": "stream",
     "text": [
      "Epoch: 49,Train Loss:0.767481406887589,Train Accuracy:0.0,Train Hamming Accuracy:52.922320550639135\n",
      "Epoch: 49,Validation Loss:0.7816319821672577,Validation Accuracy:0.0,Validation Hamming Accuracy:52.48033748033748\n"
     ]
    },
    {
     "name": "stderr",
     "output_type": "stream",
     "text": [
      "Training Progress:  60%|██████    | 60/100 [01:46<01:10,  1.76s/it]"
     ]
    },
    {
     "name": "stdout",
     "output_type": "stream",
     "text": [
      "Epoch: 59,Train Loss:0.7615095279112828,Train Accuracy:0.0,Train Hamming Accuracy:53.508536694377405\n",
      "Epoch: 59,Validation Loss:0.776591449937193,Validation Accuracy:0.0,Validation Hamming Accuracy:52.998712998712996\n"
     ]
    },
    {
     "name": "stderr",
     "output_type": "stream",
     "text": [
      "Training Progress:  70%|███████   | 70/100 [02:04<00:53,  1.79s/it]"
     ]
    },
    {
     "name": "stdout",
     "output_type": "stream",
     "text": [
      "Epoch: 69,Train Loss:0.7556044140652277,Train Accuracy:0.0,Train Hamming Accuracy:54.06310896576383\n",
      "Epoch: 69,Validation Loss:0.7716159662286819,Validation Accuracy:0.0,Validation Hamming Accuracy:53.5027885027885\n"
     ]
    },
    {
     "name": "stderr",
     "output_type": "stream",
     "text": [
      "Training Progress:  80%|████████  | 80/100 [02:21<00:35,  1.76s/it]"
     ]
    },
    {
     "name": "stdout",
     "output_type": "stream",
     "text": [
      "Epoch: 79,Train Loss:0.7497544652849428,Train Accuracy:0.0,Train Hamming Accuracy:54.59265218557255\n",
      "Epoch: 79,Validation Loss:0.7666961944252751,Validation Accuracy:0.0,Validation Hamming Accuracy:53.94394394394394\n"
     ]
    },
    {
     "name": "stderr",
     "output_type": "stream",
     "text": [
      "Training Progress:  90%|█████████ | 90/100 [02:39<00:17,  1.74s/it]"
     ]
    },
    {
     "name": "stdout",
     "output_type": "stream",
     "text": [
      "Epoch: 89,Train Loss:0.7439492067001747,Train Accuracy:0.0,Train Hamming Accuracy:55.144006436041835\n",
      "Epoch: 89,Validation Loss:0.7618237503137242,Validation Accuracy:0.0,Validation Hamming Accuracy:54.383669383669385\n"
     ]
    },
    {
     "name": "stderr",
     "output_type": "stream",
     "text": [
      "Training Progress: 100%|██████████| 100/100 [02:56<00:00,  1.77s/it]"
     ]
    },
    {
     "name": "stdout",
     "output_type": "stream",
     "text": [
      "Epoch: 99,Train Loss:0.7381791304976615,Train Accuracy:0.0,Train Hamming Accuracy:55.683918834361315\n",
      "Epoch: 99,Validation Loss:0.7569910633407433,Validation Accuracy:0.0,Validation Hamming Accuracy:54.869869869869866\n"
     ]
    },
    {
     "name": "stderr",
     "output_type": "stream",
     "text": [
      "\n"
     ]
    },
    {
     "name": "stdout",
     "output_type": "stream",
     "text": [
      "Test Loss:0.7470200515286103,Test Accuracy:0.0,Test Hamming Accuracy:55.45912921865224\n"
     ]
    },
    {
     "data": {
      "text/html": [],
      "text/plain": [
       "<IPython.core.display.HTML object>"
      ]
     },
     "metadata": {},
     "output_type": "display_data"
    },
    {
     "data": {
      "text/html": [
       "<br>    <style><br>        .wandb-row {<br>            display: flex;<br>            flex-direction: row;<br>            flex-wrap: wrap;<br>            justify-content: flex-start;<br>            width: 100%;<br>        }<br>        .wandb-col {<br>            display: flex;<br>            flex-direction: column;<br>            flex-basis: 100%;<br>            flex: 1;<br>            padding: 10px;<br>        }<br>    </style><br><div class=\"wandb-row\"><div class=\"wandb-col\"><h3>Run history:</h3><br/><table class=\"wandb\"><tr><td>Epoch</td><td>▁▁▂▂▂▂▂▂▃▃▃▃▃▄▄▄▄▄▄▅▅▅▅▅▅▆▆▆▆▆▆▇▇▇▇▇▇███</td></tr><tr><td>Train Accuracy</td><td>▁▁▁▁▁▁▁▁▁▁▁▁▁▁▁▁▁▁▁▁▁▁▁▁▁▁▁▁▁▁▁▁▁▁▁▁▁▁▁▁</td></tr><tr><td>Train Loss</td><td>████▇▇▇▇▇▆▆▆▆▆▆▅▅▅▄▄▄▄▄▄▃▃▃▃▃▃▂▂▂▂▂▂▁▁▁▁</td></tr><tr><td>Validation Accuracy</td><td>▁▁▁▁▁▁▁▁▁▁▁▁▁▁▁▁▁▁▁▁▁▁▁▁▁▁▁▁▁▁▁▁▁▁▁▁▁▁▁▁</td></tr><tr><td>Validation Loss</td><td>████▇▇▇▇▇▆▆▆▆▅▅▅▅▄▄▄▄▄▄▄▃▃▃▃▃▃▂▂▂▂▂▂▂▂▁▁</td></tr></table><br/></div><div class=\"wandb-col\"><h3>Run summary:</h3><br/><table class=\"wandb\"><tr><td>Epoch</td><td>99</td></tr><tr><td>Train Accuracy</td><td>0</td></tr><tr><td>Train Loss</td><td>0.73818</td></tr><tr><td>Validation Accuracy</td><td>0</td></tr><tr><td>Validation Loss</td><td>0.75699</td></tr></table><br/></div></div>"
      ],
      "text/plain": [
       "<IPython.core.display.HTML object>"
      ]
     },
     "metadata": {},
     "output_type": "display_data"
    },
    {
     "data": {
      "text/html": [
       " View run <strong style=\"color:#cdcd00\">2.3-Tanh-BGD-Hyperparam2</strong> at: <a href='https://wandb.ai/ketakishetye0619-iiit-hyderabad/SMAI-A2/runs/8ox0fxay' target=\"_blank\">https://wandb.ai/ketakishetye0619-iiit-hyderabad/SMAI-A2/runs/8ox0fxay</a><br> View project at: <a href='https://wandb.ai/ketakishetye0619-iiit-hyderabad/SMAI-A2' target=\"_blank\">https://wandb.ai/ketakishetye0619-iiit-hyderabad/SMAI-A2</a><br>Synced 5 W&B file(s), 0 media file(s), 0 artifact file(s) and 0 other file(s)"
      ],
      "text/plain": [
       "<IPython.core.display.HTML object>"
      ]
     },
     "metadata": {},
     "output_type": "display_data"
    },
    {
     "data": {
      "text/html": [
       "Find logs at: <code>.\\wandb\\run-20250315_191232-8ox0fxay\\logs</code>"
      ],
      "text/plain": [
       "<IPython.core.display.HTML object>"
      ]
     },
     "metadata": {},
     "output_type": "display_data"
    }
   ],
   "source": [
    "wandb.init(project=\"SMAI-A2\", name=\"2.3-Tanh-BGD-Hyperparam2\")\n",
    "print(\"Initialising model\")\n",
    "model = MLP(input_dim, hidden_dim, output_dim,activation)   \n",
    "model.train(x_train,y_train,num_epochs,learning_rate,x_val,y_val,batch_size)\n",
    "y_pred_test=model.predict(x_test)\n",
    "test_loss=model.binary_cross_entropy(y_test,y_pred_test)\n",
    "test_accuracy,test_hamming_accuracy=model.calculate_accuracy(y_test,y_pred_test)\n",
    "print(f\"Test Loss:{test_loss},Test Accuracy:{test_accuracy},Test Hamming Accuracy:{test_hamming_accuracy}\")\n",
    "\n",
    "wandb.finish()"
   ]
  },
  {
   "cell_type": "markdown",
   "metadata": {},
   "source": [
    "### Tanh-SGD"
   ]
  },
  {
   "cell_type": "code",
   "execution_count": 8,
   "metadata": {},
   "outputs": [],
   "source": [
    "np.random.seed(42)\n",
    "input_dim=5000\n",
    "hidden_dim=1024\n",
    "learning_rate=0.01\n",
    "num_epochs=3\n",
    "activation='tanh'\n",
    "batch_size=1\n",
    "output_dim=y_train.shape[1]"
   ]
  },
  {
   "cell_type": "code",
   "execution_count": 9,
   "metadata": {},
   "outputs": [
    {
     "data": {
      "text/html": [
       "Tracking run with wandb version 0.19.8"
      ],
      "text/plain": [
       "<IPython.core.display.HTML object>"
      ]
     },
     "metadata": {},
     "output_type": "display_data"
    },
    {
     "data": {
      "text/html": [
       "Run data is saved locally in <code>d:\\SMAI\\Assignments\\A2\\wandb\\run-20250315_201029-f3rknh6e</code>"
      ],
      "text/plain": [
       "<IPython.core.display.HTML object>"
      ]
     },
     "metadata": {},
     "output_type": "display_data"
    },
    {
     "data": {
      "text/html": [
       "Syncing run <strong><a href='https://wandb.ai/ketakishetye0619-iiit-hyderabad/SMAI-A2/runs/f3rknh6e' target=\"_blank\">2.3-Tanh-SGD</a></strong> to <a href='https://wandb.ai/ketakishetye0619-iiit-hyderabad/SMAI-A2' target=\"_blank\">Weights & Biases</a> (<a href='https://wandb.me/developer-guide' target=\"_blank\">docs</a>)<br>"
      ],
      "text/plain": [
       "<IPython.core.display.HTML object>"
      ]
     },
     "metadata": {},
     "output_type": "display_data"
    },
    {
     "data": {
      "text/html": [
       " View project at <a href='https://wandb.ai/ketakishetye0619-iiit-hyderabad/SMAI-A2' target=\"_blank\">https://wandb.ai/ketakishetye0619-iiit-hyderabad/SMAI-A2</a>"
      ],
      "text/plain": [
       "<IPython.core.display.HTML object>"
      ]
     },
     "metadata": {},
     "output_type": "display_data"
    },
    {
     "data": {
      "text/html": [
       " View run at <a href='https://wandb.ai/ketakishetye0619-iiit-hyderabad/SMAI-A2/runs/f3rknh6e' target=\"_blank\">https://wandb.ai/ketakishetye0619-iiit-hyderabad/SMAI-A2/runs/f3rknh6e</a>"
      ],
      "text/plain": [
       "<IPython.core.display.HTML object>"
      ]
     },
     "metadata": {},
     "output_type": "display_data"
    },
    {
     "name": "stdout",
     "output_type": "stream",
     "text": [
      "Initialising model\n"
     ]
    },
    {
     "name": "stderr",
     "output_type": "stream",
     "text": [
      "Training Progress:  33%|███▎      | 1/3 [03:45<07:31, 225.57s/it]"
     ]
    },
    {
     "name": "stdout",
     "output_type": "stream",
     "text": [
      "Epoch: 0,Train Loss:0.1445257757137157,Train Accuracy:50.74818986323411,Train Hamming Accuracy:94.96397604361879\n",
      "Epoch: 0,Validation Loss:0.02952928795226433,Validation Accuracy:63.25611325611325,Validation Hamming Accuracy:99.2935792935793\n"
     ]
    },
    {
     "name": "stderr",
     "output_type": "stream",
     "text": [
      "Training Progress: 100%|██████████| 3/3 [10:58<00:00, 219.52s/it]\n"
     ]
    },
    {
     "name": "stdout",
     "output_type": "stream",
     "text": [
      "Test Loss:0.02820592314086401,Test Accuracy:68.00264988406757,Test Hamming Accuracy:99.34746604836039\n"
     ]
    },
    {
     "data": {
      "text/html": [],
      "text/plain": [
       "<IPython.core.display.HTML object>"
      ]
     },
     "metadata": {},
     "output_type": "display_data"
    },
    {
     "data": {
      "text/html": [
       "<br>    <style><br>        .wandb-row {<br>            display: flex;<br>            flex-direction: row;<br>            flex-wrap: wrap;<br>            justify-content: flex-start;<br>            width: 100%;<br>        }<br>        .wandb-col {<br>            display: flex;<br>            flex-direction: column;<br>            flex-basis: 100%;<br>            flex: 1;<br>            padding: 10px;<br>        }<br>    </style><br><div class=\"wandb-row\"><div class=\"wandb-col\"><h3>Run history:</h3><br/><table class=\"wandb\"><tr><td>Epoch</td><td>▁▅█</td></tr><tr><td>Train Accuracy</td><td>▁▆█</td></tr><tr><td>Train Loss</td><td>█▁▁</td></tr><tr><td>Validation Accuracy</td><td>▁▅█</td></tr><tr><td>Validation Loss</td><td>█▃▁</td></tr></table><br/></div><div class=\"wandb-col\"><h3>Run summary:</h3><br/><table class=\"wandb\"><tr><td>Epoch</td><td>2</td></tr><tr><td>Train Accuracy</td><td>96.73371</td></tr><tr><td>Train Loss</td><td>0.00287</td></tr><tr><td>Validation Accuracy</td><td>70.14157</td></tr><tr><td>Validation Loss</td><td>0.02403</td></tr></table><br/></div></div>"
      ],
      "text/plain": [
       "<IPython.core.display.HTML object>"
      ]
     },
     "metadata": {},
     "output_type": "display_data"
    },
    {
     "data": {
      "text/html": [
       " View run <strong style=\"color:#cdcd00\">2.3-Tanh-SGD</strong> at: <a href='https://wandb.ai/ketakishetye0619-iiit-hyderabad/SMAI-A2/runs/f3rknh6e' target=\"_blank\">https://wandb.ai/ketakishetye0619-iiit-hyderabad/SMAI-A2/runs/f3rknh6e</a><br> View project at: <a href='https://wandb.ai/ketakishetye0619-iiit-hyderabad/SMAI-A2' target=\"_blank\">https://wandb.ai/ketakishetye0619-iiit-hyderabad/SMAI-A2</a><br>Synced 5 W&B file(s), 0 media file(s), 0 artifact file(s) and 0 other file(s)"
      ],
      "text/plain": [
       "<IPython.core.display.HTML object>"
      ]
     },
     "metadata": {},
     "output_type": "display_data"
    },
    {
     "data": {
      "text/html": [
       "Find logs at: <code>.\\wandb\\run-20250315_201029-f3rknh6e\\logs</code>"
      ],
      "text/plain": [
       "<IPython.core.display.HTML object>"
      ]
     },
     "metadata": {},
     "output_type": "display_data"
    }
   ],
   "source": [
    "wandb.init(project=\"SMAI-A2\", name=\"2.3-Tanh-SGD\")\n",
    "print(\"Initialising model\")\n",
    "model = MLP(input_dim, hidden_dim, output_dim,activation)   \n",
    "model.train(x_train,y_train,num_epochs,learning_rate,x_val,y_val,batch_size)\n",
    "y_pred_test=model.predict(x_test)\n",
    "test_loss=model.binary_cross_entropy(y_test,y_pred_test)\n",
    "test_accuracy,test_hamming_accuracy=model.calculate_accuracy(y_test,y_pred_test)\n",
    "print(f\"Test Loss:{test_loss},Test Accuracy:{test_accuracy},Test Hamming Accuracy:{test_hamming_accuracy}\")\n",
    "\n",
    "wandb.finish()"
   ]
  },
  {
   "cell_type": "code",
   "execution_count": 9,
   "metadata": {},
   "outputs": [],
   "source": [
    "np.random.seed(42)\n",
    "input_dim=5000\n",
    "hidden_dim=512\n",
    "learning_rate=0.01\n",
    "num_epochs=1\n",
    "activation='tanh'\n",
    "batch_size=1\n",
    "output_dim=y_train.shape[1]"
   ]
  },
  {
   "cell_type": "code",
   "execution_count": 10,
   "metadata": {},
   "outputs": [
    {
     "data": {
      "text/html": [
       "Tracking run with wandb version 0.19.8"
      ],
      "text/plain": [
       "<IPython.core.display.HTML object>"
      ]
     },
     "metadata": {},
     "output_type": "display_data"
    },
    {
     "data": {
      "text/html": [
       "Run data is saved locally in <code>d:\\SMAI\\Assignments\\A2\\wandb\\run-20250316_075800-61g72hp6</code>"
      ],
      "text/plain": [
       "<IPython.core.display.HTML object>"
      ]
     },
     "metadata": {},
     "output_type": "display_data"
    },
    {
     "data": {
      "text/html": [
       "Syncing run <strong><a href='https://wandb.ai/ketakishetye0619-iiit-hyderabad/SMAI-A2/runs/61g72hp6' target=\"_blank\">2.3-Tanh-SGD-Hyperparam1</a></strong> to <a href='https://wandb.ai/ketakishetye0619-iiit-hyderabad/SMAI-A2' target=\"_blank\">Weights & Biases</a> (<a href='https://wandb.me/developer-guide' target=\"_blank\">docs</a>)<br>"
      ],
      "text/plain": [
       "<IPython.core.display.HTML object>"
      ]
     },
     "metadata": {},
     "output_type": "display_data"
    },
    {
     "data": {
      "text/html": [
       " View project at <a href='https://wandb.ai/ketakishetye0619-iiit-hyderabad/SMAI-A2' target=\"_blank\">https://wandb.ai/ketakishetye0619-iiit-hyderabad/SMAI-A2</a>"
      ],
      "text/plain": [
       "<IPython.core.display.HTML object>"
      ]
     },
     "metadata": {},
     "output_type": "display_data"
    },
    {
     "data": {
      "text/html": [
       " View run at <a href='https://wandb.ai/ketakishetye0619-iiit-hyderabad/SMAI-A2/runs/61g72hp6' target=\"_blank\">https://wandb.ai/ketakishetye0619-iiit-hyderabad/SMAI-A2/runs/61g72hp6</a>"
      ],
      "text/plain": [
       "<IPython.core.display.HTML object>"
      ]
     },
     "metadata": {},
     "output_type": "display_data"
    },
    {
     "name": "stdout",
     "output_type": "stream",
     "text": [
      "Initialising model\n"
     ]
    },
    {
     "name": "stderr",
     "output_type": "stream",
     "text": [
      "Training Progress: 100%|██████████| 1/1 [01:52<00:00, 112.04s/it]"
     ]
    },
    {
     "name": "stdout",
     "output_type": "stream",
     "text": [
      "Epoch: 0,Train Loss:0.09926349115529617,Train Accuracy:56.379726468222046,Train Hamming Accuracy:96.714579422541\n",
      "Epoch: 0,Validation Loss:0.026054383875355934,Validation Accuracy:67.11711711711712,Validation Hamming Accuracy:99.4036894036894\n",
      "Test Loss:0.027713203119533927,Test Accuracy:66.97581980788341,Test Hamming Accuracy:99.36697213941335\n"
     ]
    },
    {
     "name": "stderr",
     "output_type": "stream",
     "text": [
      "\n"
     ]
    },
    {
     "data": {
      "text/html": [],
      "text/plain": [
       "<IPython.core.display.HTML object>"
      ]
     },
     "metadata": {},
     "output_type": "display_data"
    },
    {
     "data": {
      "text/html": [
       "<br>    <style><br>        .wandb-row {<br>            display: flex;<br>            flex-direction: row;<br>            flex-wrap: wrap;<br>            justify-content: flex-start;<br>            width: 100%;<br>        }<br>        .wandb-col {<br>            display: flex;<br>            flex-direction: column;<br>            flex-basis: 100%;<br>            flex: 1;<br>            padding: 10px;<br>        }<br>    </style><br><div class=\"wandb-row\"><div class=\"wandb-col\"><h3>Run history:</h3><br/><table class=\"wandb\"><tr><td>Epoch</td><td>▁</td></tr><tr><td>Train Accuracy</td><td>▁</td></tr><tr><td>Train Loss</td><td>▁</td></tr><tr><td>Validation Accuracy</td><td>▁</td></tr><tr><td>Validation Loss</td><td>▁</td></tr></table><br/></div><div class=\"wandb-col\"><h3>Run summary:</h3><br/><table class=\"wandb\"><tr><td>Epoch</td><td>0</td></tr><tr><td>Train Accuracy</td><td>56.37973</td></tr><tr><td>Train Loss</td><td>0.09926</td></tr><tr><td>Validation Accuracy</td><td>67.11712</td></tr><tr><td>Validation Loss</td><td>0.02605</td></tr></table><br/></div></div>"
      ],
      "text/plain": [
       "<IPython.core.display.HTML object>"
      ]
     },
     "metadata": {},
     "output_type": "display_data"
    },
    {
     "data": {
      "text/html": [
       " View run <strong style=\"color:#cdcd00\">2.3-Tanh-SGD-Hyperparam1</strong> at: <a href='https://wandb.ai/ketakishetye0619-iiit-hyderabad/SMAI-A2/runs/61g72hp6' target=\"_blank\">https://wandb.ai/ketakishetye0619-iiit-hyderabad/SMAI-A2/runs/61g72hp6</a><br> View project at: <a href='https://wandb.ai/ketakishetye0619-iiit-hyderabad/SMAI-A2' target=\"_blank\">https://wandb.ai/ketakishetye0619-iiit-hyderabad/SMAI-A2</a><br>Synced 5 W&B file(s), 0 media file(s), 0 artifact file(s) and 0 other file(s)"
      ],
      "text/plain": [
       "<IPython.core.display.HTML object>"
      ]
     },
     "metadata": {},
     "output_type": "display_data"
    },
    {
     "data": {
      "text/html": [
       "Find logs at: <code>.\\wandb\\run-20250316_075800-61g72hp6\\logs</code>"
      ],
      "text/plain": [
       "<IPython.core.display.HTML object>"
      ]
     },
     "metadata": {},
     "output_type": "display_data"
    }
   ],
   "source": [
    "wandb.init(project=\"SMAI-A2\", name=\"2.3-Tanh-SGD-Hyperparam1\")\n",
    "print(\"Initialising model\")\n",
    "model = MLP(input_dim, hidden_dim, output_dim,activation)   \n",
    "model.train(x_train,y_train,num_epochs,learning_rate,x_val,y_val,batch_size)\n",
    "y_pred_test=model.predict(x_test)\n",
    "test_loss=model.binary_cross_entropy(y_test,y_pred_test)\n",
    "test_accuracy,test_hamming_accuracy=model.calculate_accuracy(y_test,y_pred_test)\n",
    "print(f\"Test Loss:{test_loss},Test Accuracy:{test_accuracy},Test Hamming Accuracy:{test_hamming_accuracy}\")\n",
    "\n",
    "wandb.finish()"
   ]
  },
  {
   "cell_type": "code",
   "execution_count": 11,
   "metadata": {},
   "outputs": [],
   "source": [
    "np.random.seed(42)\n",
    "input_dim=5000\n",
    "hidden_dim=1024\n",
    "learning_rate=0.001\n",
    "num_epochs=1\n",
    "activation='tanh'\n",
    "batch_size=1\n",
    "output_dim=y_train.shape[1]"
   ]
  },
  {
   "cell_type": "code",
   "execution_count": 12,
   "metadata": {},
   "outputs": [
    {
     "data": {
      "text/html": [
       "Tracking run with wandb version 0.19.8"
      ],
      "text/plain": [
       "<IPython.core.display.HTML object>"
      ]
     },
     "metadata": {},
     "output_type": "display_data"
    },
    {
     "data": {
      "text/html": [
       "Run data is saved locally in <code>d:\\SMAI\\Assignments\\A2\\wandb\\run-20250316_075956-mh9xu29e</code>"
      ],
      "text/plain": [
       "<IPython.core.display.HTML object>"
      ]
     },
     "metadata": {},
     "output_type": "display_data"
    },
    {
     "data": {
      "text/html": [
       "Syncing run <strong><a href='https://wandb.ai/ketakishetye0619-iiit-hyderabad/SMAI-A2/runs/mh9xu29e' target=\"_blank\">2.3-Tanh-SGD-Hyperparam2</a></strong> to <a href='https://wandb.ai/ketakishetye0619-iiit-hyderabad/SMAI-A2' target=\"_blank\">Weights & Biases</a> (<a href='https://wandb.me/developer-guide' target=\"_blank\">docs</a>)<br>"
      ],
      "text/plain": [
       "<IPython.core.display.HTML object>"
      ]
     },
     "metadata": {},
     "output_type": "display_data"
    },
    {
     "data": {
      "text/html": [
       " View project at <a href='https://wandb.ai/ketakishetye0619-iiit-hyderabad/SMAI-A2' target=\"_blank\">https://wandb.ai/ketakishetye0619-iiit-hyderabad/SMAI-A2</a>"
      ],
      "text/plain": [
       "<IPython.core.display.HTML object>"
      ]
     },
     "metadata": {},
     "output_type": "display_data"
    },
    {
     "data": {
      "text/html": [
       " View run at <a href='https://wandb.ai/ketakishetye0619-iiit-hyderabad/SMAI-A2/runs/mh9xu29e' target=\"_blank\">https://wandb.ai/ketakishetye0619-iiit-hyderabad/SMAI-A2/runs/mh9xu29e</a>"
      ],
      "text/plain": [
       "<IPython.core.display.HTML object>"
      ]
     },
     "metadata": {},
     "output_type": "display_data"
    },
    {
     "name": "stdout",
     "output_type": "stream",
     "text": [
      "Initialising model\n"
     ]
    },
    {
     "name": "stderr",
     "output_type": "stream",
     "text": [
      "Training Progress: 100%|██████████| 1/1 [03:32<00:00, 212.82s/it]"
     ]
    },
    {
     "name": "stdout",
     "output_type": "stream",
     "text": [
      "Epoch: 0,Train Loss:0.34666748559311117,Train Accuracy:32.08366854384553,Train Hamming Accuracy:85.78939840886538\n",
      "Epoch: 0,Validation Loss:0.05509684225335916,Validation Accuracy:61.518661518661524,Validation Hamming Accuracy:99.27570427570429\n"
     ]
    },
    {
     "name": "stderr",
     "output_type": "stream",
     "text": [
      "\n"
     ]
    },
    {
     "name": "stdout",
     "output_type": "stream",
     "text": [
      "Test Loss:0.055559012263962974,Test Accuracy:61.77542232527327,Test Hamming Accuracy:99.2127636082588\n"
     ]
    },
    {
     "data": {
      "text/html": [],
      "text/plain": [
       "<IPython.core.display.HTML object>"
      ]
     },
     "metadata": {},
     "output_type": "display_data"
    },
    {
     "data": {
      "text/html": [
       "<br>    <style><br>        .wandb-row {<br>            display: flex;<br>            flex-direction: row;<br>            flex-wrap: wrap;<br>            justify-content: flex-start;<br>            width: 100%;<br>        }<br>        .wandb-col {<br>            display: flex;<br>            flex-direction: column;<br>            flex-basis: 100%;<br>            flex: 1;<br>            padding: 10px;<br>        }<br>    </style><br><div class=\"wandb-row\"><div class=\"wandb-col\"><h3>Run history:</h3><br/><table class=\"wandb\"><tr><td>Epoch</td><td>▁</td></tr><tr><td>Train Accuracy</td><td>▁</td></tr><tr><td>Train Loss</td><td>▁</td></tr><tr><td>Validation Accuracy</td><td>▁</td></tr><tr><td>Validation Loss</td><td>▁</td></tr></table><br/></div><div class=\"wandb-col\"><h3>Run summary:</h3><br/><table class=\"wandb\"><tr><td>Epoch</td><td>0</td></tr><tr><td>Train Accuracy</td><td>32.08367</td></tr><tr><td>Train Loss</td><td>0.34667</td></tr><tr><td>Validation Accuracy</td><td>61.51866</td></tr><tr><td>Validation Loss</td><td>0.0551</td></tr></table><br/></div></div>"
      ],
      "text/plain": [
       "<IPython.core.display.HTML object>"
      ]
     },
     "metadata": {},
     "output_type": "display_data"
    },
    {
     "data": {
      "text/html": [
       " View run <strong style=\"color:#cdcd00\">2.3-Tanh-SGD-Hyperparam2</strong> at: <a href='https://wandb.ai/ketakishetye0619-iiit-hyderabad/SMAI-A2/runs/mh9xu29e' target=\"_blank\">https://wandb.ai/ketakishetye0619-iiit-hyderabad/SMAI-A2/runs/mh9xu29e</a><br> View project at: <a href='https://wandb.ai/ketakishetye0619-iiit-hyderabad/SMAI-A2' target=\"_blank\">https://wandb.ai/ketakishetye0619-iiit-hyderabad/SMAI-A2</a><br>Synced 5 W&B file(s), 0 media file(s), 0 artifact file(s) and 0 other file(s)"
      ],
      "text/plain": [
       "<IPython.core.display.HTML object>"
      ]
     },
     "metadata": {},
     "output_type": "display_data"
    },
    {
     "data": {
      "text/html": [
       "Find logs at: <code>.\\wandb\\run-20250316_075956-mh9xu29e\\logs</code>"
      ],
      "text/plain": [
       "<IPython.core.display.HTML object>"
      ]
     },
     "metadata": {},
     "output_type": "display_data"
    }
   ],
   "source": [
    "wandb.init(project=\"SMAI-A2\", name=\"2.3-Tanh-SGD-Hyperparam2\")\n",
    "print(\"Initialising model\")\n",
    "model = MLP(input_dim, hidden_dim, output_dim,activation)   \n",
    "model.train(x_train,y_train,num_epochs,learning_rate,x_val,y_val,batch_size)\n",
    "y_pred_test=model.predict(x_test)\n",
    "test_loss=model.binary_cross_entropy(y_test,y_pred_test)\n",
    "test_accuracy,test_hamming_accuracy=model.calculate_accuracy(y_test,y_pred_test)\n",
    "print(f\"Test Loss:{test_loss},Test Accuracy:{test_accuracy},Test Hamming Accuracy:{test_hamming_accuracy}\")\n",
    "\n",
    "wandb.finish()"
   ]
  },
  {
   "cell_type": "markdown",
   "metadata": {},
   "source": [
    "### Tanh-MBGD"
   ]
  },
  {
   "cell_type": "code",
   "execution_count": 10,
   "metadata": {},
   "outputs": [],
   "source": [
    "np.random.seed(42)\n",
    "input_dim=5000\n",
    "hidden_dim=1024\n",
    "learning_rate=0.01\n",
    "num_epochs=100\n",
    "activation='tanh'\n",
    "batch_size=256\n",
    "output_dim=y_train.shape[1]"
   ]
  },
  {
   "cell_type": "code",
   "execution_count": 11,
   "metadata": {},
   "outputs": [
    {
     "data": {
      "text/html": [
       "Tracking run with wandb version 0.19.8"
      ],
      "text/plain": [
       "<IPython.core.display.HTML object>"
      ]
     },
     "metadata": {},
     "output_type": "display_data"
    },
    {
     "data": {
      "text/html": [
       "Run data is saved locally in <code>d:\\SMAI\\Assignments\\A2\\wandb\\run-20250315_202131-0bxe7opm</code>"
      ],
      "text/plain": [
       "<IPython.core.display.HTML object>"
      ]
     },
     "metadata": {},
     "output_type": "display_data"
    },
    {
     "data": {
      "text/html": [
       "Syncing run <strong><a href='https://wandb.ai/ketakishetye0619-iiit-hyderabad/SMAI-A2/runs/0bxe7opm' target=\"_blank\">2.3-Tanh-MBGD</a></strong> to <a href='https://wandb.ai/ketakishetye0619-iiit-hyderabad/SMAI-A2' target=\"_blank\">Weights & Biases</a> (<a href='https://wandb.me/developer-guide' target=\"_blank\">docs</a>)<br>"
      ],
      "text/plain": [
       "<IPython.core.display.HTML object>"
      ]
     },
     "metadata": {},
     "output_type": "display_data"
    },
    {
     "data": {
      "text/html": [
       " View project at <a href='https://wandb.ai/ketakishetye0619-iiit-hyderabad/SMAI-A2' target=\"_blank\">https://wandb.ai/ketakishetye0619-iiit-hyderabad/SMAI-A2</a>"
      ],
      "text/plain": [
       "<IPython.core.display.HTML object>"
      ]
     },
     "metadata": {},
     "output_type": "display_data"
    },
    {
     "data": {
      "text/html": [
       " View run at <a href='https://wandb.ai/ketakishetye0619-iiit-hyderabad/SMAI-A2/runs/0bxe7opm' target=\"_blank\">https://wandb.ai/ketakishetye0619-iiit-hyderabad/SMAI-A2/runs/0bxe7opm</a>"
      ],
      "text/plain": [
       "<IPython.core.display.HTML object>"
      ]
     },
     "metadata": {},
     "output_type": "display_data"
    },
    {
     "name": "stdout",
     "output_type": "stream",
     "text": [
      "Initialising model\n"
     ]
    },
    {
     "name": "stderr",
     "output_type": "stream",
     "text": [
      "Training Progress:   1%|          | 1/100 [00:02<04:17,  2.60s/it]"
     ]
    },
    {
     "name": "stdout",
     "output_type": "stream",
     "text": [
      "Epoch: 0,Train Loss:0.7497257892861667,Train Accuracy:0.046875,Train Hamming Accuracy:54.95882726917059\n",
      "Epoch: 0,Validation Loss:0.6902901908824873,Validation Accuracy:0.2574002574002574,Validation Hamming Accuracy:60.82439582439583\n"
     ]
    },
    {
     "name": "stderr",
     "output_type": "stream",
     "text": [
      "Training Progress:  10%|█         | 10/100 [00:25<03:41,  2.46s/it]"
     ]
    },
    {
     "name": "stdout",
     "output_type": "stream",
     "text": [
      "Epoch: 9,Train Loss:0.03711850342285755,Train Accuracy:64.63270246478874,Train Hamming Accuracy:99.4453834115806\n",
      "Epoch: 9,Validation Loss:0.10743453641653455,Validation Accuracy:50.51480051480052,Validation Hamming Accuracy:97.78778778778778\n"
     ]
    },
    {
     "name": "stderr",
     "output_type": "stream",
     "text": [
      "Training Progress:  20%|██        | 20/100 [00:49<03:15,  2.44s/it]"
     ]
    },
    {
     "name": "stdout",
     "output_type": "stream",
     "text": [
      "Epoch: 19,Train Loss:0.015683976368552604,Train Accuracy:80.74581866197184,Train Hamming Accuracy:99.71779391627543\n",
      "Epoch: 19,Validation Loss:0.07197912806781212,Validation Accuracy:60.231660231660236,Validation Hamming Accuracy:98.46703846703846\n"
     ]
    },
    {
     "name": "stderr",
     "output_type": "stream",
     "text": [
      "Training Progress:  30%|███       | 30/100 [01:13<02:46,  2.38s/it]"
     ]
    },
    {
     "name": "stdout",
     "output_type": "stream",
     "text": [
      "Epoch: 29,Train Loss:0.009938764723456908,Train Accuracy:89.72073063380282,Train Hamming Accuracy:99.85821351721441\n",
      "Epoch: 29,Validation Loss:0.05973841232317984,Validation Accuracy:64.0926640926641,Validation Hamming Accuracy:98.68511368511369\n"
     ]
    },
    {
     "name": "stderr",
     "output_type": "stream",
     "text": [
      "Training Progress:  40%|████      | 40/100 [01:37<02:25,  2.42s/it]"
     ]
    },
    {
     "name": "stdout",
     "output_type": "stream",
     "text": [
      "Epoch: 39,Train Loss:0.007062962699391982,Train Accuracy:94.46214788732394,Train Hamming Accuracy:99.9254474765258\n",
      "Epoch: 39,Validation Loss:0.053018396631069685,Validation Accuracy:66.92406692406692,Validation Hamming Accuracy:98.8016588016588\n"
     ]
    },
    {
     "name": "stderr",
     "output_type": "stream",
     "text": [
      "Training Progress:  50%|█████     | 50/100 [02:00<02:04,  2.50s/it]"
     ]
    },
    {
     "name": "stdout",
     "output_type": "stream",
     "text": [
      "Epoch: 49,Train Loss:0.0054582947605191015,Train Accuracy:96.48107394366198,Train Hamming Accuracy:99.95378276604069\n",
      "Epoch: 49,Validation Loss:0.04865119799025187,Validation Accuracy:67.76061776061776,Validation Hamming Accuracy:98.86100386100387\n"
     ]
    },
    {
     "name": "stderr",
     "output_type": "stream",
     "text": [
      "Training Progress:  60%|██████    | 60/100 [02:25<01:35,  2.39s/it]"
     ]
    },
    {
     "name": "stdout",
     "output_type": "stream",
     "text": [
      "Epoch: 59,Train Loss:0.004477112171792374,Train Accuracy:97.78741197183099,Train Hamming Accuracy:99.97124902190923\n",
      "Epoch: 59,Validation Loss:0.045495340216062476,Validation Accuracy:68.33976833976834,Validation Hamming Accuracy:98.9074789074789\n"
     ]
    },
    {
     "name": "stderr",
     "output_type": "stream",
     "text": [
      "Training Progress:  70%|███████   | 70/100 [02:50<01:16,  2.54s/it]"
     ]
    },
    {
     "name": "stdout",
     "output_type": "stream",
     "text": [
      "Epoch: 69,Train Loss:0.0037783558404009764,Train Accuracy:98.18089788732394,Train Hamming Accuracy:99.97683636541471\n",
      "Epoch: 69,Validation Loss:0.04319092670786443,Validation Accuracy:69.1119691119691,Validation Hamming Accuracy:98.93607893607893\n"
     ]
    },
    {
     "name": "stderr",
     "output_type": "stream",
     "text": [
      "Training Progress:  80%|████████  | 80/100 [03:13<00:46,  2.33s/it]"
     ]
    },
    {
     "name": "stdout",
     "output_type": "stream",
     "text": [
      "Epoch: 79,Train Loss:0.003326415922248066,Train Accuracy:98.59044894366198,Train Hamming Accuracy:99.98145539906103\n",
      "Epoch: 79,Validation Loss:0.04139234940774549,Validation Accuracy:69.1119691119691,Validation Hamming Accuracy:98.96467896467897\n"
     ]
    },
    {
     "name": "stderr",
     "output_type": "stream",
     "text": [
      "Training Progress:  90%|█████████ | 90/100 [03:37<00:23,  2.35s/it]"
     ]
    },
    {
     "name": "stdout",
     "output_type": "stream",
     "text": [
      "Epoch: 89,Train Loss:0.0029057000669519455,Train Accuracy:98.63732394366198,Train Hamming Accuracy:99.98277582159625\n",
      "Epoch: 89,Validation Loss:0.03995337732371485,Validation Accuracy:69.56241956241956,Validation Hamming Accuracy:98.98755898755898\n"
     ]
    },
    {
     "name": "stderr",
     "output_type": "stream",
     "text": [
      "Training Progress: 100%|██████████| 100/100 [04:02<00:00,  2.42s/it]"
     ]
    },
    {
     "name": "stdout",
     "output_type": "stream",
     "text": [
      "Epoch: 99,Train Loss:0.002626435748669192,Train Accuracy:98.74053697183099,Train Hamming Accuracy:99.9836438771518\n",
      "Epoch: 99,Validation Loss:0.038765515608697815,Validation Accuracy:69.94851994851994,Validation Hamming Accuracy:99.006149006149\n"
     ]
    },
    {
     "name": "stderr",
     "output_type": "stream",
     "text": [
      "\n"
     ]
    },
    {
     "name": "stdout",
     "output_type": "stream",
     "text": [
      "Test Loss:0.04240147655453799,Test Accuracy:67.47267307055317,Test Hamming Accuracy:98.89588163851165\n"
     ]
    },
    {
     "data": {
      "text/html": [],
      "text/plain": [
       "<IPython.core.display.HTML object>"
      ]
     },
     "metadata": {},
     "output_type": "display_data"
    },
    {
     "data": {
      "text/html": [
       "<br>    <style><br>        .wandb-row {<br>            display: flex;<br>            flex-direction: row;<br>            flex-wrap: wrap;<br>            justify-content: flex-start;<br>            width: 100%;<br>        }<br>        .wandb-col {<br>            display: flex;<br>            flex-direction: column;<br>            flex-basis: 100%;<br>            flex: 1;<br>            padding: 10px;<br>        }<br>    </style><br><div class=\"wandb-row\"><div class=\"wandb-col\"><h3>Run history:</h3><br/><table class=\"wandb\"><tr><td>Epoch</td><td>▁▁▁▁▂▂▂▂▃▃▃▃▃▄▄▄▄▅▅▅▅▅▅▅▅▆▆▆▆▆▇▇▇▇▇▇▇███</td></tr><tr><td>Train Accuracy</td><td>▁▂▅▆▆▆▆▇▇▇▇▇▇███████████████████████████</td></tr><tr><td>Train Loss</td><td>█▇▁▁▁▁▁▁▁▁▁▁▁▁▁▁▁▁▁▁▁▁▁▁▁▁▁▁▁▁▁▁▁▁▁▁▁▁▁▁</td></tr><tr><td>Validation Accuracy</td><td>▁▁▅▆▆▆▇▇▇▇▇▇▇▇▇▇████████████████████████</td></tr><tr><td>Validation Loss</td><td>█▅▄▂▂▂▁▁▁▁▁▁▁▁▁▁▁▁▁▁▁▁▁▁▁▁▁▁▁▁▁▁▁▁▁▁▁▁▁▁</td></tr></table><br/></div><div class=\"wandb-col\"><h3>Run summary:</h3><br/><table class=\"wandb\"><tr><td>Epoch</td><td>99</td></tr><tr><td>Train Accuracy</td><td>98.74054</td></tr><tr><td>Train Loss</td><td>0.00263</td></tr><tr><td>Validation Accuracy</td><td>69.94852</td></tr><tr><td>Validation Loss</td><td>0.03877</td></tr></table><br/></div></div>"
      ],
      "text/plain": [
       "<IPython.core.display.HTML object>"
      ]
     },
     "metadata": {},
     "output_type": "display_data"
    },
    {
     "data": {
      "text/html": [
       " View run <strong style=\"color:#cdcd00\">2.3-Tanh-MBGD</strong> at: <a href='https://wandb.ai/ketakishetye0619-iiit-hyderabad/SMAI-A2/runs/0bxe7opm' target=\"_blank\">https://wandb.ai/ketakishetye0619-iiit-hyderabad/SMAI-A2/runs/0bxe7opm</a><br> View project at: <a href='https://wandb.ai/ketakishetye0619-iiit-hyderabad/SMAI-A2' target=\"_blank\">https://wandb.ai/ketakishetye0619-iiit-hyderabad/SMAI-A2</a><br>Synced 5 W&B file(s), 0 media file(s), 0 artifact file(s) and 0 other file(s)"
      ],
      "text/plain": [
       "<IPython.core.display.HTML object>"
      ]
     },
     "metadata": {},
     "output_type": "display_data"
    },
    {
     "data": {
      "text/html": [
       "Find logs at: <code>.\\wandb\\run-20250315_202131-0bxe7opm\\logs</code>"
      ],
      "text/plain": [
       "<IPython.core.display.HTML object>"
      ]
     },
     "metadata": {},
     "output_type": "display_data"
    }
   ],
   "source": [
    "wandb.init(project=\"SMAI-A2\", name=\"2.3-Tanh-MBGD\")\n",
    "print(\"Initialising model\")\n",
    "model = MLP(input_dim, hidden_dim, output_dim,activation)   \n",
    "model.train(x_train,y_train,num_epochs,learning_rate,x_val,y_val,batch_size)\n",
    "y_pred_test=model.predict(x_test)\n",
    "test_loss=model.binary_cross_entropy(y_test,y_pred_test)\n",
    "test_accuracy,test_hamming_accuracy=model.calculate_accuracy(y_test,y_pred_test)\n",
    "print(f\"Test Loss:{test_loss},Test Accuracy:{test_accuracy},Test Hamming Accuracy:{test_hamming_accuracy}\")\n",
    "\n",
    "wandb.finish()"
   ]
  },
  {
   "cell_type": "code",
   "execution_count": 12,
   "metadata": {},
   "outputs": [],
   "source": [
    "np.random.seed(42)\n",
    "input_dim=5000\n",
    "hidden_dim=512\n",
    "learning_rate=0.01\n",
    "num_epochs=100\n",
    "activation='tanh'\n",
    "batch_size=256\n",
    "output_dim=y_train.shape[1]"
   ]
  },
  {
   "cell_type": "code",
   "execution_count": 13,
   "metadata": {},
   "outputs": [
    {
     "data": {
      "text/html": [
       "Tracking run with wandb version 0.19.8"
      ],
      "text/plain": [
       "<IPython.core.display.HTML object>"
      ]
     },
     "metadata": {},
     "output_type": "display_data"
    },
    {
     "data": {
      "text/html": [
       "Run data is saved locally in <code>d:\\SMAI\\Assignments\\A2\\wandb\\run-20250315_202538-kmxn1hkq</code>"
      ],
      "text/plain": [
       "<IPython.core.display.HTML object>"
      ]
     },
     "metadata": {},
     "output_type": "display_data"
    },
    {
     "data": {
      "text/html": [
       "Syncing run <strong><a href='https://wandb.ai/ketakishetye0619-iiit-hyderabad/SMAI-A2/runs/kmxn1hkq' target=\"_blank\">2.3-Tanh-MBGD-Hyperparam1</a></strong> to <a href='https://wandb.ai/ketakishetye0619-iiit-hyderabad/SMAI-A2' target=\"_blank\">Weights & Biases</a> (<a href='https://wandb.me/developer-guide' target=\"_blank\">docs</a>)<br>"
      ],
      "text/plain": [
       "<IPython.core.display.HTML object>"
      ]
     },
     "metadata": {},
     "output_type": "display_data"
    },
    {
     "data": {
      "text/html": [
       " View project at <a href='https://wandb.ai/ketakishetye0619-iiit-hyderabad/SMAI-A2' target=\"_blank\">https://wandb.ai/ketakishetye0619-iiit-hyderabad/SMAI-A2</a>"
      ],
      "text/plain": [
       "<IPython.core.display.HTML object>"
      ]
     },
     "metadata": {},
     "output_type": "display_data"
    },
    {
     "data": {
      "text/html": [
       " View run at <a href='https://wandb.ai/ketakishetye0619-iiit-hyderabad/SMAI-A2/runs/kmxn1hkq' target=\"_blank\">https://wandb.ai/ketakishetye0619-iiit-hyderabad/SMAI-A2/runs/kmxn1hkq</a>"
      ],
      "text/plain": [
       "<IPython.core.display.HTML object>"
      ]
     },
     "metadata": {},
     "output_type": "display_data"
    },
    {
     "name": "stdout",
     "output_type": "stream",
     "text": [
      "Initialising model\n"
     ]
    },
    {
     "name": "stderr",
     "output_type": "stream",
     "text": [
      "Training Progress:   1%|          | 1/100 [00:01<02:02,  1.24s/it]"
     ]
    },
    {
     "name": "stdout",
     "output_type": "stream",
     "text": [
      "Epoch: 0,Train Loss:0.7500627906668774,Train Accuracy:0.0,Train Hamming Accuracy:54.8043989632238\n",
      "Epoch: 0,Validation Loss:0.691591261396555,Validation Accuracy:0.0,Validation Hamming Accuracy:60.52838552838553\n"
     ]
    },
    {
     "name": "stderr",
     "output_type": "stream",
     "text": [
      "Training Progress:  10%|█         | 10/100 [00:13<01:59,  1.33s/it]"
     ]
    },
    {
     "name": "stdout",
     "output_type": "stream",
     "text": [
      "Epoch: 9,Train Loss:0.04114693762690697,Train Accuracy:60.44718309859155,Train Hamming Accuracy:99.37714935446009\n",
      "Epoch: 9,Validation Loss:0.10773486251539995,Validation Accuracy:48.51994851994852,Validation Hamming Accuracy:97.83283283283282\n"
     ]
    },
    {
     "name": "stderr",
     "output_type": "stream",
     "text": [
      "Training Progress:  20%|██        | 20/100 [00:26<01:46,  1.34s/it]"
     ]
    },
    {
     "name": "stdout",
     "output_type": "stream",
     "text": [
      "Epoch: 19,Train Loss:0.01797945955831543,Train Accuracy:76.31734154929578,Train Hamming Accuracy:99.64890209311426\n",
      "Epoch: 19,Validation Loss:0.07096083172963928,Validation Accuracy:60.55341055341056,Validation Hamming Accuracy:98.52924352924353\n"
     ]
    },
    {
     "name": "stderr",
     "output_type": "stream",
     "text": [
      "Training Progress:  30%|███       | 30/100 [00:40<01:36,  1.38s/it]"
     ]
    },
    {
     "name": "stdout",
     "output_type": "stream",
     "text": [
      "Epoch: 29,Train Loss:0.011536548997318229,Train Accuracy:86.39920774647888,Train Hamming Accuracy:99.80321547339595\n",
      "Epoch: 29,Validation Loss:0.058442567985315115,Validation Accuracy:65.37966537966537,Validation Hamming Accuracy:98.73158873158873\n"
     ]
    },
    {
     "name": "stderr",
     "output_type": "stream",
     "text": [
      "Training Progress:  40%|████      | 40/100 [00:53<01:15,  1.25s/it]"
     ]
    },
    {
     "name": "stdout",
     "output_type": "stream",
     "text": [
      "Epoch: 39,Train Loss:0.008482151167681858,Train Accuracy:91.61509683098592,Train Hamming Accuracy:99.88196645148672\n",
      "Epoch: 39,Validation Loss:0.051560454014880054,Validation Accuracy:67.76061776061776,Validation Hamming Accuracy:98.82882882882883\n"
     ]
    },
    {
     "name": "stderr",
     "output_type": "stream",
     "text": [
      "Training Progress:  50%|█████     | 50/100 [01:05<01:01,  1.23s/it]"
     ]
    },
    {
     "name": "stdout",
     "output_type": "stream",
     "text": [
      "Epoch: 49,Train Loss:0.006619122144044397,Train Accuracy:94.60277288732394,Train Hamming Accuracy:99.92944053208139\n",
      "Epoch: 49,Validation Loss:0.04710002602337665,Validation Accuracy:68.53281853281852,Validation Hamming Accuracy:98.88173888173888\n"
     ]
    },
    {
     "name": "stderr",
     "output_type": "stream",
     "text": [
      "Training Progress:  60%|██████    | 60/100 [01:20<00:56,  1.41s/it]"
     ]
    },
    {
     "name": "stdout",
     "output_type": "stream",
     "text": [
      "Epoch: 59,Train Loss:0.005405703264672954,Train Accuracy:96.39348591549296,Train Hamming Accuracy:99.95287803208139\n",
      "Epoch: 59,Validation Loss:0.043872684148990634,Validation Accuracy:69.04761904761905,Validation Hamming Accuracy:98.93035893035893\n"
     ]
    },
    {
     "name": "stderr",
     "output_type": "stream",
     "text": [
      "Training Progress:  70%|███████   | 70/100 [01:34<00:41,  1.37s/it]"
     ]
    },
    {
     "name": "stdout",
     "output_type": "stream",
     "text": [
      "Epoch: 69,Train Loss:0.004579635159732105,Train Accuracy:97.50616197183099,Train Hamming Accuracy:99.96829763302036\n",
      "Epoch: 69,Validation Loss:0.04144078107633156,Validation Accuracy:69.36936936936937,Validation Hamming Accuracy:98.96610896610896\n"
     ]
    },
    {
     "name": "stderr",
     "output_type": "stream",
     "text": [
      "Training Progress:  80%|████████  | 80/100 [01:48<00:27,  1.36s/it]"
     ]
    },
    {
     "name": "stdout",
     "output_type": "stream",
     "text": [
      "Epoch: 79,Train Loss:0.003986592547153719,Train Accuracy:97.97161091549296,Train Hamming Accuracy:99.97468456572771\n",
      "Epoch: 79,Validation Loss:0.03959027271842846,Validation Accuracy:70.07722007722008,Validation Hamming Accuracy:98.996138996139\n"
     ]
    },
    {
     "name": "stderr",
     "output_type": "stream",
     "text": [
      "Training Progress:  90%|█████████ | 90/100 [02:02<00:13,  1.38s/it]"
     ]
    },
    {
     "name": "stdout",
     "output_type": "stream",
     "text": [
      "Epoch: 89,Train Loss:0.0035168070116096983,Train Accuracy:98.38116197183099,Train Hamming Accuracy:99.97940874413143\n",
      "Epoch: 89,Validation Loss:0.03809061943935453,Validation Accuracy:70.07722007722008,Validation Hamming Accuracy:99.02259402259402\n"
     ]
    },
    {
     "name": "stderr",
     "output_type": "stream",
     "text": [
      "Training Progress: 100%|██████████| 100/100 [02:15<00:00,  1.36s/it]"
     ]
    },
    {
     "name": "stdout",
     "output_type": "stream",
     "text": [
      "Epoch: 99,Train Loss:0.0031230921070049223,Train Accuracy:98.515625,Train Hamming Accuracy:99.98107638888888\n",
      "Epoch: 99,Validation Loss:0.036867135471129214,Validation Accuracy:70.20592020592021,Validation Hamming Accuracy:99.04547404547405\n"
     ]
    },
    {
     "name": "stderr",
     "output_type": "stream",
     "text": [
      "\n"
     ]
    },
    {
     "name": "stdout",
     "output_type": "stream",
     "text": [
      "Test Loss:0.04072350989942784,Test Accuracy:67.47267307055317,Test Hamming Accuracy:98.92458871591035\n"
     ]
    },
    {
     "data": {
      "text/html": [],
      "text/plain": [
       "<IPython.core.display.HTML object>"
      ]
     },
     "metadata": {},
     "output_type": "display_data"
    },
    {
     "data": {
      "text/html": [
       "<br>    <style><br>        .wandb-row {<br>            display: flex;<br>            flex-direction: row;<br>            flex-wrap: wrap;<br>            justify-content: flex-start;<br>            width: 100%;<br>        }<br>        .wandb-col {<br>            display: flex;<br>            flex-direction: column;<br>            flex-basis: 100%;<br>            flex: 1;<br>            padding: 10px;<br>        }<br>    </style><br><div class=\"wandb-row\"><div class=\"wandb-col\"><h3>Run history:</h3><br/><table class=\"wandb\"><tr><td>Epoch</td><td>▁▁▁▁▂▂▂▂▂▂▃▄▄▄▄▄▄▄▄▅▅▅▅▅▆▆▆▆▆▆▆▇▇▇▇▇▇███</td></tr><tr><td>Train Accuracy</td><td>▁▁▁▄▅▆▆▆▆▇▇▇▇▇▇▇████████████████████████</td></tr><tr><td>Train Loss</td><td>█▅▂▂▁▁▁▁▁▁▁▁▁▁▁▁▁▁▁▁▁▁▁▁▁▁▁▁▁▁▁▁▁▁▁▁▁▁▁▁</td></tr><tr><td>Validation Accuracy</td><td>▁▂▄▄▅▆▆▇▇▇▇█████████████████████████████</td></tr><tr><td>Validation Loss</td><td>█▇▄▃▂▁▁▁▁▁▁▁▁▁▁▁▁▁▁▁▁▁▁▁▁▁▁▁▁▁▁▁▁▁▁▁▁▁▁▁</td></tr></table><br/></div><div class=\"wandb-col\"><h3>Run summary:</h3><br/><table class=\"wandb\"><tr><td>Epoch</td><td>99</td></tr><tr><td>Train Accuracy</td><td>98.51562</td></tr><tr><td>Train Loss</td><td>0.00312</td></tr><tr><td>Validation Accuracy</td><td>70.20592</td></tr><tr><td>Validation Loss</td><td>0.03687</td></tr></table><br/></div></div>"
      ],
      "text/plain": [
       "<IPython.core.display.HTML object>"
      ]
     },
     "metadata": {},
     "output_type": "display_data"
    },
    {
     "data": {
      "text/html": [
       " View run <strong style=\"color:#cdcd00\">2.3-Tanh-MBGD-Hyperparam1</strong> at: <a href='https://wandb.ai/ketakishetye0619-iiit-hyderabad/SMAI-A2/runs/kmxn1hkq' target=\"_blank\">https://wandb.ai/ketakishetye0619-iiit-hyderabad/SMAI-A2/runs/kmxn1hkq</a><br> View project at: <a href='https://wandb.ai/ketakishetye0619-iiit-hyderabad/SMAI-A2' target=\"_blank\">https://wandb.ai/ketakishetye0619-iiit-hyderabad/SMAI-A2</a><br>Synced 5 W&B file(s), 0 media file(s), 0 artifact file(s) and 0 other file(s)"
      ],
      "text/plain": [
       "<IPython.core.display.HTML object>"
      ]
     },
     "metadata": {},
     "output_type": "display_data"
    },
    {
     "data": {
      "text/html": [
       "Find logs at: <code>.\\wandb\\run-20250315_202538-kmxn1hkq\\logs</code>"
      ],
      "text/plain": [
       "<IPython.core.display.HTML object>"
      ]
     },
     "metadata": {},
     "output_type": "display_data"
    }
   ],
   "source": [
    "wandb.init(project=\"SMAI-A2\", name=\"2.3-Tanh-MBGD-Hyperparam1\")\n",
    "print(\"Initialising model\")\n",
    "model = MLP(input_dim, hidden_dim, output_dim,activation)   \n",
    "model.train(x_train,y_train,num_epochs,learning_rate,x_val,y_val,batch_size)\n",
    "y_pred_test=model.predict(x_test)\n",
    "test_loss=model.binary_cross_entropy(y_test,y_pred_test)\n",
    "test_accuracy,test_hamming_accuracy=model.calculate_accuracy(y_test,y_pred_test)\n",
    "print(f\"Test Loss:{test_loss},Test Accuracy:{test_accuracy},Test Hamming Accuracy:{test_hamming_accuracy}\")\n",
    "\n",
    "wandb.finish()"
   ]
  },
  {
   "cell_type": "code",
   "execution_count": 14,
   "metadata": {},
   "outputs": [],
   "source": [
    "np.random.seed(42)\n",
    "input_dim=5000\n",
    "hidden_dim=1024\n",
    "learning_rate=0.001\n",
    "num_epochs=100\n",
    "activation='tanh'\n",
    "batch_size=256\n",
    "output_dim=y_train.shape[1]"
   ]
  },
  {
   "cell_type": "code",
   "execution_count": 15,
   "metadata": {},
   "outputs": [
    {
     "data": {
      "text/html": [
       "creating run (1.4s)"
      ],
      "text/plain": [
       "<IPython.core.display.HTML object>"
      ]
     },
     "metadata": {},
     "output_type": "display_data"
    },
    {
     "data": {
      "text/html": [
       "Tracking run with wandb version 0.19.8"
      ],
      "text/plain": [
       "<IPython.core.display.HTML object>"
      ]
     },
     "metadata": {},
     "output_type": "display_data"
    },
    {
     "data": {
      "text/html": [
       "Run data is saved locally in <code>d:\\SMAI\\Assignments\\A2\\wandb\\run-20250315_202759-06yu3qe6</code>"
      ],
      "text/plain": [
       "<IPython.core.display.HTML object>"
      ]
     },
     "metadata": {},
     "output_type": "display_data"
    },
    {
     "data": {
      "text/html": [
       "Syncing run <strong><a href='https://wandb.ai/ketakishetye0619-iiit-hyderabad/SMAI-A2/runs/06yu3qe6' target=\"_blank\">2.3-Tanh-MBGD-Hyperparam2</a></strong> to <a href='https://wandb.ai/ketakishetye0619-iiit-hyderabad/SMAI-A2' target=\"_blank\">Weights & Biases</a> (<a href='https://wandb.me/developer-guide' target=\"_blank\">docs</a>)<br>"
      ],
      "text/plain": [
       "<IPython.core.display.HTML object>"
      ]
     },
     "metadata": {},
     "output_type": "display_data"
    },
    {
     "data": {
      "text/html": [
       " View project at <a href='https://wandb.ai/ketakishetye0619-iiit-hyderabad/SMAI-A2' target=\"_blank\">https://wandb.ai/ketakishetye0619-iiit-hyderabad/SMAI-A2</a>"
      ],
      "text/plain": [
       "<IPython.core.display.HTML object>"
      ]
     },
     "metadata": {},
     "output_type": "display_data"
    },
    {
     "data": {
      "text/html": [
       " View run at <a href='https://wandb.ai/ketakishetye0619-iiit-hyderabad/SMAI-A2/runs/06yu3qe6' target=\"_blank\">https://wandb.ai/ketakishetye0619-iiit-hyderabad/SMAI-A2/runs/06yu3qe6</a>"
      ],
      "text/plain": [
       "<IPython.core.display.HTML object>"
      ]
     },
     "metadata": {},
     "output_type": "display_data"
    },
    {
     "name": "stdout",
     "output_type": "stream",
     "text": [
      "Initialising model\n"
     ]
    },
    {
     "name": "stderr",
     "output_type": "stream",
     "text": [
      "Training Progress:   1%|          | 1/100 [00:02<03:42,  2.25s/it]"
     ]
    },
    {
     "name": "stdout",
     "output_type": "stream",
     "text": [
      "Epoch: 0,Train Loss:0.7930537787940011,Train Accuracy:0.0,Train Hamming Accuracy:50.65240610328638\n",
      "Epoch: 0,Validation Loss:0.7944673254510947,Validation Accuracy:0.0,Validation Hamming Accuracy:51.19548119548119\n"
     ]
    },
    {
     "name": "stderr",
     "output_type": "stream",
     "text": [
      "Training Progress:  10%|█         | 10/100 [00:24<03:47,  2.52s/it]"
     ]
    },
    {
     "name": "stdout",
     "output_type": "stream",
     "text": [
      "Epoch: 9,Train Loss:0.6617990528185971,Train Accuracy:0.359375,Train Hamming Accuracy:62.87172095070422\n",
      "Epoch: 9,Validation Loss:0.6863224140182728,Validation Accuracy:0.32175032175032175,Validation Hamming Accuracy:61.194766194766196\n"
     ]
    },
    {
     "name": "stderr",
     "output_type": "stream",
     "text": [
      "Training Progress:  20%|██        | 20/100 [00:49<03:23,  2.54s/it]"
     ]
    },
    {
     "name": "stdout",
     "output_type": "stream",
     "text": [
      "Epoch: 19,Train Loss:0.49549514961297936,Train Accuracy:4.268926056338028,Train Hamming Accuracy:78.04278902582159\n",
      "Epoch: 19,Validation Loss:0.5529182238530489,Validation Accuracy:4.1827541827541825,Validation Hamming Accuracy:72.53110253110253\n"
     ]
    },
    {
     "name": "stderr",
     "output_type": "stream",
     "text": [
      "Training Progress:  30%|███       | 30/100 [01:15<02:57,  2.54s/it]"
     ]
    },
    {
     "name": "stdout",
     "output_type": "stream",
     "text": [
      "Epoch: 29,Train Loss:0.3083685988703768,Train Accuracy:16.335607394366196,Train Hamming Accuracy:92.69531983568076\n",
      "Epoch: 29,Validation Loss:0.40093381125538446,Validation Accuracy:11.196911196911197,Validation Hamming Accuracy:84.54668954668955\n"
     ]
    },
    {
     "name": "stderr",
     "output_type": "stream",
     "text": [
      "Training Progress:  40%|████      | 40/100 [01:39<02:26,  2.45s/it]"
     ]
    },
    {
     "name": "stdout",
     "output_type": "stream",
     "text": [
      "Epoch: 39,Train Loss:0.17483694170296438,Train Accuracy:41.57460387323944,Train Hamming Accuracy:98.3504010172144\n",
      "Epoch: 39,Validation Loss:0.28344197938950083,Validation Accuracy:23.745173745173744,Validation Hamming Accuracy:91.58658658658658\n"
     ]
    },
    {
     "name": "stderr",
     "output_type": "stream",
     "text": [
      "Training Progress:  50%|█████     | 50/100 [02:04<02:02,  2.44s/it]"
     ]
    },
    {
     "name": "stdout",
     "output_type": "stream",
     "text": [
      "Epoch: 49,Train Loss:0.10724099582371242,Train Accuracy:56.56932218309859,Train Hamming Accuracy:99.23741930751174\n",
      "Epoch: 49,Validation Loss:0.21359543708353967,Validation Accuracy:33.71943371943372,Validation Hamming Accuracy:94.63248963248964\n"
     ]
    },
    {
     "name": "stderr",
     "output_type": "stream",
     "text": [
      "Training Progress:  60%|██████    | 60/100 [02:29<01:41,  2.54s/it]"
     ]
    },
    {
     "name": "stdout",
     "output_type": "stream",
     "text": [
      "Epoch: 59,Train Loss:0.07434475131573454,Train Accuracy:59.19102112676056,Train Hamming Accuracy:99.34335876369327\n",
      "Epoch: 59,Validation Loss:0.1730471575916955,Validation Accuracy:39.189189189189186,Validation Hamming Accuracy:96.02316602316601\n"
     ]
    },
    {
     "name": "stderr",
     "output_type": "stream",
     "text": [
      "Training Progress:  70%|███████   | 70/100 [02:55<01:15,  2.51s/it]"
     ]
    },
    {
     "name": "stdout",
     "output_type": "stream",
     "text": [
      "Epoch: 69,Train Loss:0.056484671900494485,Train Accuracy:60.55039612676056,Train Hamming Accuracy:99.37767018779341\n",
      "Epoch: 69,Validation Loss:0.14807055327335628,Validation Accuracy:42.72844272844273,Validation Hamming Accuracy:96.72315172315173\n"
     ]
    },
    {
     "name": "stderr",
     "output_type": "stream",
     "text": [
      "Training Progress:  80%|████████  | 80/100 [03:20<00:48,  2.45s/it]"
     ]
    },
    {
     "name": "stdout",
     "output_type": "stream",
     "text": [
      "Epoch: 79,Train Loss:0.045812196874157746,Train Accuracy:61.94102112676056,Train Hamming Accuracy:99.40388057511737\n",
      "Epoch: 79,Validation Loss:0.1313450685049404,Validation Accuracy:45.75289575289575,Validation Hamming Accuracy:97.16931216931218\n"
     ]
    },
    {
     "name": "stderr",
     "output_type": "stream",
     "text": [
      "Training Progress:  90%|█████████ | 90/100 [03:43<00:22,  2.25s/it]"
     ]
    },
    {
     "name": "stdout",
     "output_type": "stream",
     "text": [
      "Epoch: 89,Train Loss:0.03861264823431397,Train Accuracy:64.10387323943661,Train Hamming Accuracy:99.44124853286385\n",
      "Epoch: 89,Validation Loss:0.11941983675469532,Validation Accuracy:48.58429858429859,Validation Hamming Accuracy:97.45245245245245\n"
     ]
    },
    {
     "name": "stderr",
     "output_type": "stream",
     "text": [
      "Training Progress: 100%|██████████| 100/100 [04:06<00:00,  2.46s/it]"
     ]
    },
    {
     "name": "stdout",
     "output_type": "stream",
     "text": [
      "Epoch: 99,Train Loss:0.03361874512145268,Train Accuracy:65.66351232394366,Train Hamming Accuracy:99.47306093505476\n",
      "Epoch: 99,Validation Loss:0.11042789968308503,Validation Accuracy:49.67824967824968,Validation Hamming Accuracy:97.66409266409266\n"
     ]
    },
    {
     "name": "stderr",
     "output_type": "stream",
     "text": [
      "\n"
     ]
    },
    {
     "name": "stdout",
     "output_type": "stream",
     "text": [
      "Test Loss:0.11029588802061663,Test Accuracy:52.401457436237166,Test Hamming Accuracy:97.64086710095322\n"
     ]
    },
    {
     "data": {
      "text/html": [],
      "text/plain": [
       "<IPython.core.display.HTML object>"
      ]
     },
     "metadata": {},
     "output_type": "display_data"
    },
    {
     "data": {
      "text/html": [
       "<br>    <style><br>        .wandb-row {<br>            display: flex;<br>            flex-direction: row;<br>            flex-wrap: wrap;<br>            justify-content: flex-start;<br>            width: 100%;<br>        }<br>        .wandb-col {<br>            display: flex;<br>            flex-direction: column;<br>            flex-basis: 100%;<br>            flex: 1;<br>            padding: 10px;<br>        }<br>    </style><br><div class=\"wandb-row\"><div class=\"wandb-col\"><h3>Run history:</h3><br/><table class=\"wandb\"><tr><td>Epoch</td><td>▁▁▁▁▂▂▂▂▂▂▃▃▃▃▃▄▄▄▄▅▅▅▆▆▆▆▆▆▆▇▇▇▇▇▇█████</td></tr><tr><td>Train Accuracy</td><td>▁▁▁▁▁▁▂▂▂▂▂▃▃▄▅▆▇▇▇▇▇▇▇▇▇▇██████████████</td></tr><tr><td>Train Loss</td><td>██▇▆▆▅▅▅▄▄▄▃▂▂▂▂▂▂▂▂▂▁▁▁▁▁▁▁▁▁▁▁▁▁▁▁▁▁▁▁</td></tr><tr><td>Validation Accuracy</td><td>▁▁▁▁▁▁▁▁▂▂▂▂▃▃▄▄▅▅▅▅▅▅▆▆▆▇▇▇▇▇▇▇▇███████</td></tr><tr><td>Validation Loss</td><td>█▇▇▇▇▇▆▆▆▅▄▄▃▃▃▃▃▂▂▂▂▂▂▂▂▁▁▁▁▁▁▁▁▁▁▁▁▁▁▁</td></tr></table><br/></div><div class=\"wandb-col\"><h3>Run summary:</h3><br/><table class=\"wandb\"><tr><td>Epoch</td><td>99</td></tr><tr><td>Train Accuracy</td><td>65.66351</td></tr><tr><td>Train Loss</td><td>0.03362</td></tr><tr><td>Validation Accuracy</td><td>49.67825</td></tr><tr><td>Validation Loss</td><td>0.11043</td></tr></table><br/></div></div>"
      ],
      "text/plain": [
       "<IPython.core.display.HTML object>"
      ]
     },
     "metadata": {},
     "output_type": "display_data"
    },
    {
     "data": {
      "text/html": [
       " View run <strong style=\"color:#cdcd00\">2.3-Tanh-MBGD-Hyperparam2</strong> at: <a href='https://wandb.ai/ketakishetye0619-iiit-hyderabad/SMAI-A2/runs/06yu3qe6' target=\"_blank\">https://wandb.ai/ketakishetye0619-iiit-hyderabad/SMAI-A2/runs/06yu3qe6</a><br> View project at: <a href='https://wandb.ai/ketakishetye0619-iiit-hyderabad/SMAI-A2' target=\"_blank\">https://wandb.ai/ketakishetye0619-iiit-hyderabad/SMAI-A2</a><br>Synced 5 W&B file(s), 0 media file(s), 0 artifact file(s) and 0 other file(s)"
      ],
      "text/plain": [
       "<IPython.core.display.HTML object>"
      ]
     },
     "metadata": {},
     "output_type": "display_data"
    },
    {
     "data": {
      "text/html": [
       "Find logs at: <code>.\\wandb\\run-20250315_202759-06yu3qe6\\logs</code>"
      ],
      "text/plain": [
       "<IPython.core.display.HTML object>"
      ]
     },
     "metadata": {},
     "output_type": "display_data"
    }
   ],
   "source": [
    "wandb.init(project=\"SMAI-A2\", name=\"2.3-Tanh-MBGD-Hyperparam2\")\n",
    "print(\"Initialising model\")\n",
    "model = MLP(input_dim, hidden_dim, output_dim,activation)   \n",
    "model.train(x_train,y_train,num_epochs,learning_rate,x_val,y_val,batch_size)\n",
    "y_pred_test=model.predict(x_test)\n",
    "test_loss=model.binary_cross_entropy(y_test,y_pred_test)\n",
    "test_accuracy,test_hamming_accuracy=model.calculate_accuracy(y_test,y_pred_test)\n",
    "print(f\"Test Loss:{test_loss},Test Accuracy:{test_accuracy},Test Hamming Accuracy:{test_hamming_accuracy}\")\n",
    "\n",
    "wandb.finish()"
   ]
  },
  {
   "cell_type": "markdown",
   "metadata": {},
   "source": [
    "#### Results\n",
    "\n",
    "| Activation | Optimizer | Input Dim | Hidden Dim | Learning Rate | Test Loss | Test Accuracy (%) | Hamming Accuracy (%) |\n",
    "|------------|-----------|------------|------------|---------------|-----------|------------------|--------------------|\n",
    "| **ReLU**  | **BGD**  | 5000       | 1024       | 0.01          | 0.0471    | 48.23           | 99.12             |\n",
    "|           |          | 5000       | 512        | 0.01          | 0.0483    | 45.21           | 99.08             |\n",
    "|           |          | 5000       | 512        | 0.001         | 0.1436    | 11.96           | 98.20             |\n",
    "| **ReLU**  | **SGD**  | 5000       | 1024       | 0.01          | 0.0471    | 48.23           | 99.12             |\n",
    "|           |          | 5000       | 512        | 0.01          | 0.0483    | 45.21           | 99.08             |\n",
    "|           |          | 5000       | 512        | 0.001         | 0.1030    | 18.25           | 98.63             |\n",
    "| **ReLU**  | **MBGD** | 5000       | 1024       | 0.01          | 0.0328    | 61.71           | 99.35             |\n",
    "|           |          | 5000       | 512        | 0.01          | 0.0310    | 62.47           | 99.36             |\n",
    "|           |          | 5000       | 512        | 0.001         | 0.0331    | 61.11           | 99.35             |\n",
    "| **Tanh**  | **BGD**  | 5000       | 1024       | 0.01          | 0.2759    | 27.26           | 91.91             |\n",
    "|           |          | 5000       | 512        | 0.01          | 0.2823    | 26.00           | 91.70             |\n",
    "|           |          | 5000       | 512        | 0.001         | 0.7470    | 0.00            | 55.46             |\n",
    "| **Tanh**  | **SGD**  | 5000       | 1024       | 0.01          | 0.0282    | 68.00           | 99.35             |\n",
    "|           |          | 5000       | 512        | 0.01          | 0.028     | 66.98           | 99.36             |\n",
    "|           |          |  5000       | 1024       | 0.01          |0.056    | 61/78            | 99.12            |\n",
    "| **Tanh**  | **MBGD** | 5000       | 1024       | 0.01          | 0.0424    | 67.47           | 98.90             |\n",
    "|           |          | 5000       | 512        | 0.01          | 0.0407    | 67.47           | 98.92             |\n",
    "|           |          | 5000       | 512        | 0.001         | 0.1103    | 52.40           | 97.64             |\n",
    "| **Sigmoid** | **BGD** | 5000     | 1024       | 0.01          | 0.0464    | 27.82           | 98.92             |\n",
    "|           |          | 5000       | 512        | 0.01          | 0.0486    | 23.62           | 98.87             |\n",
    "|           |          | 5000       | 512        | 0.001         | 0.0789    | 2.05            | 98.59             |\n",
    "| **Sigmoid** | **SGD** | 5000     | 1024       | 0.01          | 0.0196    | 71.18           | 99.48             |\n",
    "|           |          | 5000       | 512        | 0.01          | 0.0185    | 71.51           | 99.48             |\n",
    "|           |          | 5000       | 512        | 0.001         | 0.0232    | 61.84           | 99.35             |\n",
    "| **Sigmoid** | **MBGD** | 5000    | 1024       | 0.01          | 0.0215    | 63.63           | 99.38             |\n",
    "|           |          | 5000       | 512        | 0.01          | 0.0216    | 63.03           | 99.37             |\n",
    "|           |          | 5000       | 512        | 0.001         | 0.0404    | 37.00           | 99.03             |"
   ]
  },
  {
   "cell_type": "markdown",
   "metadata": {},
   "source": [
    "#### Best Configuration\n",
    " \n",
    "1. Effect of Activation Functions\n",
    "    - ReLU performs consistently well across different optimizers and configurations, with test accuracies ranging between 45% to 62%.\n",
    "    - Tanh has mixed results—it performs well in some cases but generally underperforms compared to ReLU.\n",
    "    - Sigmoid performs poorly with BGD, with test accuracies as low as 2.05% for small learning rates, but improves significantly when using SGD and MBGD (up to 71.51% accuracy).\n",
    "2. Effect of Optimizers\n",
    "    - Batch Gradient Descent (BGD) performs poorly in most cases, especially with Tanh and Sigmoid, suggesting that it struggles with gradient updates due to possible vanishing gradients.\n",
    "    - Stochastic Gradient Descent (SGD) yields the best results in most cases, with the highest test accuracy of 71.51% \n",
    "    - Mini-Batch Gradient Descent (MBGD) gives results comparable to SGD, but slightly lower in some cases.\n",
    "\n",
    "Minibatch with sigmoid will give the best combination."
   ]
  },
  {
   "cell_type": "markdown",
   "metadata": {},
   "source": [
    "![Alt Text](Graphs\\2.3_BGD_train_loss.png)\n",
    "![Alt Text](Graphs\\2.3_BGD_train_acc.png)\n",
    "![Alt Text](Graphs\\2.3_BGD_val_loss.png)\n",
    "![Alt Text](Graphs\\2.3._BGD_val_acc.png)"
   ]
  },
  {
   "cell_type": "markdown",
   "metadata": {},
   "source": [
    "![Alt Text](Graphs\\2.3_SGD_train_loss.png)\n",
    "![Alt Text](Graphs\\2.3_SGD_train_acc.png)\n",
    "![Alt Text](Graphs\\2.3_SGD_val_loss.png)\n",
    "![Alt Text](Graphs\\2.3_SGD_val_acc.png)"
   ]
  },
  {
   "cell_type": "markdown",
   "metadata": {},
   "source": [
    "![Alt Text](Graphs\\2.3_MBGD_train_loss.png)\n",
    "![Alt Text](Graphs\\2.3_MBGD_train_acc.png)\n",
    "![Alt Text](Graphs\\2.3_MBGD_val_loss.png)\n",
    "![Alt Text](Graphs\\2.3._MBGD_val_acc.png)"
   ]
  }
 ],
 "metadata": {
  "kernelspec": {
   "display_name": "Python 3",
   "language": "python",
   "name": "python3"
  },
  "language_info": {
   "codemirror_mode": {
    "name": "ipython",
    "version": 3
   },
   "file_extension": ".py",
   "mimetype": "text/x-python",
   "name": "python",
   "nbconvert_exporter": "python",
   "pygments_lexer": "ipython3",
   "version": "3.11.9"
  }
 },
 "nbformat": 4,
 "nbformat_minor": 2
}
